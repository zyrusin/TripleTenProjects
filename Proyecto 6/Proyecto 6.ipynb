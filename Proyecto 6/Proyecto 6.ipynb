{
 "cells": [
  {
   "cell_type": "markdown",
   "metadata": {},
   "source": [
    "Hola Rafael!\n",
    "\n",
    "Mi nombre es Matias y voy a estar revisando tu proyecto.\n",
    "\n",
    "En la primer revision, de encontrar errores voy a estar marcandotelos para que puedas corregirlos por tu cuenta. Lo mas parecido a una situacion real de trabajo como DA. De haber posteriores revisiones\n",
    "\n",
    "Encontraras mis comentarios debajo - **por favor no los muevas, modifiques o elimines**.\n",
    "\n",
    "Encontraras mis comentarios en verde, amarillo o rojo de esta manera:\n",
    "\n",
    "<div class=\"alert alert-block alert-success\">\n",
    "<b>Comentario de Revisor</b> <a class=\"tocSkip\"></a>\n",
    "\n",
    "Genial, buen trabajo.\n",
    "</div>\n",
    "\n",
    "<div class=\"alert alert-block alert-warning\">\n",
    "<b>Comentario de Revisor</b> <a class=\"tocSkip\"></a>\n",
    "\n",
    "Cuidado, se recomienda...\n",
    "</div>\n",
    "\n",
    "<div class=\"alert alert-block alert-danger\">\n",
    "\n",
    "<b>Comentario de Revisor</b> <a class=\"tocSkip\"></a>\n",
    "\n",
    "Necesita correcion. El trabajo no puede ser aceptado si precisa correcion.\n",
    "</div>\n",
    "\n",
    "Puedes responder a mis comentarios utilizando un mensaje de este tipo:\n",
    "\n",
    "<div class=\"alert alert-block alert-info\">\n",
    "<b>Respuesta de estudiante.</b> <a class=\"tocSkip\"></a>\n",
    "</div>"
   ]
  },
  {
   "cell_type": "markdown",
   "metadata": {},
   "source": [
    "# Recopilación y almacenamiento de datos (SQL) proyecto final"
   ]
  },
  {
   "cell_type": "markdown",
   "metadata": {},
   "source": [
    "## Introducción"
   ]
  },
  {
   "cell_type": "markdown",
   "metadata": {},
   "source": [
    "**Paso 4. Análisis exploratorio de datos **\n",
    "\n",
    "Tenemos los siguientes archivos/datasets para trabajar las diferentes secciones mencionadas:\n",
    "\n",
    "***/datasets/project_sql_result_01.csv***. contiene los siguientes datos:  \n",
    "* company_name: nombre de la empresa de taxis\n",
    "\n",
    "* trips_amount: el número de viajes de cada compañía de taxis el 15 y 16 de noviembre de 2017.\n",
    "\n",
    "***/datasets/project_sql_result_04.csv***. contiene los siguientes datos:  \n",
    "\n",
    "* dropoff_location_name: barrios de Chicago donde finalizaron los viajes\n",
    "\n",
    "* average_trips: el promedio de viajes que terminaron en cada barrio en noviembre de 2017.  \n",
    "\n",
    "Realizaremos los siguientes pasos:  \n",
    "* importar los archivos\n",
    "* estudiar los datos que contienen\n",
    "* asegurar de que los tipos de datos sean correctos\n",
    "* identificar los 10 principales barrios en términos de finalización del recorrido\n",
    "* hacer gráficos: empresas de taxis y número de viajes, los 10 barrios principales por número de finalizaciones\n",
    "* sacar conclusiones basadas en cada gráfico y explicar los resultados\n",
    "\n",
    "**Paso 5. Prueba de hipótesis (Python)**\n",
    "\n",
    "***/datasets/project_sql_result_07.csv*** — el resultado de la última consulta. Contiene datos sobre viajes desde el Loop hasta el Aeropuerto Internacional O'Hare. Recuerda, estos son los valores de campo de la tabla:\n",
    "* start_ts: fecha y hora de la recogida\n",
    "* weather_conditions: condiciones climáticas en el momento en el que comenzó el viaje\n",
    "* duration_seconds: duración del viaje en segundos\n",
    "\n",
    "**Prueba la hipótesis:**\n",
    "\n",
    "\"La duración promedio de los viajes desde el Loop hasta el Aeropuerto Internacional O'Hare cambia los sábados lluviosos\".\n",
    "\n",
    "Decidir dónde establecer el nivel de significación (alfa).\n",
    "\n",
    "Conclusiones"
   ]
  },
  {
   "cell_type": "markdown",
   "metadata": {},
   "source": [
    "## Analisis exploratorio "
   ]
  },
  {
   "cell_type": "markdown",
   "metadata": {},
   "source": [
    "##  Procesamiento de datos"
   ]
  },
  {
   "cell_type": "markdown",
   "metadata": {},
   "source": [
    "### Librerias a utilizar"
   ]
  },
  {
   "cell_type": "code",
   "execution_count": 1,
   "metadata": {
    "scrolled": false
   },
   "outputs": [],
   "source": [
    "import pandas as pd\n",
    "import matplotlib.pyplot as plt\n",
    "import numpy as nd\n",
    "import math as mt\n",
    "from scipy import stats"
   ]
  },
  {
   "cell_type": "markdown",
   "metadata": {},
   "source": [
    "###  Cargamos los datos"
   ]
  },
  {
   "cell_type": "code",
   "execution_count": 2,
   "metadata": {},
   "outputs": [],
   "source": [
    "df1 = pd.read_csv('/datasets/project_sql_result_01.csv')\n",
    "df4 = pd.read_csv('/datasets/project_sql_result_04.csv')\n",
    "df7 = pd.read_csv('/datasets/project_sql_result_07.csv')"
   ]
  },
  {
   "cell_type": "markdown",
   "metadata": {},
   "source": [
    "### Verificamos la informacion general de ambos dataframes"
   ]
  },
  {
   "cell_type": "code",
   "execution_count": 3,
   "metadata": {},
   "outputs": [],
   "source": [
    "def display_df(data):\n",
    "    data.info()\n",
    "    display(data.head())\n",
    "    print(data.isna().sum())"
   ]
  },
  {
   "cell_type": "code",
   "execution_count": 4,
   "metadata": {},
   "outputs": [
    {
     "name": "stdout",
     "output_type": "stream",
     "text": [
      "<class 'pandas.core.frame.DataFrame'>\n",
      "RangeIndex: 64 entries, 0 to 63\n",
      "Data columns (total 2 columns):\n",
      " #   Column        Non-Null Count  Dtype \n",
      "---  ------        --------------  ----- \n",
      " 0   company_name  64 non-null     object\n",
      " 1   trips_amount  64 non-null     int64 \n",
      "dtypes: int64(1), object(1)\n",
      "memory usage: 1.1+ KB\n"
     ]
    },
    {
     "data": {
      "text/html": [
       "<div>\n",
       "<style scoped>\n",
       "    .dataframe tbody tr th:only-of-type {\n",
       "        vertical-align: middle;\n",
       "    }\n",
       "\n",
       "    .dataframe tbody tr th {\n",
       "        vertical-align: top;\n",
       "    }\n",
       "\n",
       "    .dataframe thead th {\n",
       "        text-align: right;\n",
       "    }\n",
       "</style>\n",
       "<table border=\"1\" class=\"dataframe\">\n",
       "  <thead>\n",
       "    <tr style=\"text-align: right;\">\n",
       "      <th></th>\n",
       "      <th>company_name</th>\n",
       "      <th>trips_amount</th>\n",
       "    </tr>\n",
       "  </thead>\n",
       "  <tbody>\n",
       "    <tr>\n",
       "      <th>0</th>\n",
       "      <td>Flash Cab</td>\n",
       "      <td>19558</td>\n",
       "    </tr>\n",
       "    <tr>\n",
       "      <th>1</th>\n",
       "      <td>Taxi Affiliation Services</td>\n",
       "      <td>11422</td>\n",
       "    </tr>\n",
       "    <tr>\n",
       "      <th>2</th>\n",
       "      <td>Medallion Leasing</td>\n",
       "      <td>10367</td>\n",
       "    </tr>\n",
       "    <tr>\n",
       "      <th>3</th>\n",
       "      <td>Yellow Cab</td>\n",
       "      <td>9888</td>\n",
       "    </tr>\n",
       "    <tr>\n",
       "      <th>4</th>\n",
       "      <td>Taxi Affiliation Service Yellow</td>\n",
       "      <td>9299</td>\n",
       "    </tr>\n",
       "  </tbody>\n",
       "</table>\n",
       "</div>"
      ],
      "text/plain": [
       "                      company_name  trips_amount\n",
       "0                        Flash Cab         19558\n",
       "1        Taxi Affiliation Services         11422\n",
       "2                Medallion Leasing         10367\n",
       "3                       Yellow Cab          9888\n",
       "4  Taxi Affiliation Service Yellow          9299"
      ]
     },
     "metadata": {},
     "output_type": "display_data"
    },
    {
     "name": "stdout",
     "output_type": "stream",
     "text": [
      "company_name    0\n",
      "trips_amount    0\n",
      "dtype: int64\n"
     ]
    }
   ],
   "source": [
    "display_df(df1)"
   ]
  },
  {
   "cell_type": "markdown",
   "metadata": {},
   "source": [
    "Observamos que los tipos de datos estan correctos y no contamos con valores ausentes, contamos con 64 compañias diferentes con sus respectivos viajes durante la fecha del 15 y 16 de noviembre de 2017."
   ]
  },
  {
   "cell_type": "code",
   "execution_count": 5,
   "metadata": {},
   "outputs": [
    {
     "name": "stdout",
     "output_type": "stream",
     "text": [
      "<class 'pandas.core.frame.DataFrame'>\n",
      "RangeIndex: 94 entries, 0 to 93\n",
      "Data columns (total 2 columns):\n",
      " #   Column                 Non-Null Count  Dtype  \n",
      "---  ------                 --------------  -----  \n",
      " 0   dropoff_location_name  94 non-null     object \n",
      " 1   average_trips          94 non-null     float64\n",
      "dtypes: float64(1), object(1)\n",
      "memory usage: 1.6+ KB\n"
     ]
    },
    {
     "data": {
      "text/html": [
       "<div>\n",
       "<style scoped>\n",
       "    .dataframe tbody tr th:only-of-type {\n",
       "        vertical-align: middle;\n",
       "    }\n",
       "\n",
       "    .dataframe tbody tr th {\n",
       "        vertical-align: top;\n",
       "    }\n",
       "\n",
       "    .dataframe thead th {\n",
       "        text-align: right;\n",
       "    }\n",
       "</style>\n",
       "<table border=\"1\" class=\"dataframe\">\n",
       "  <thead>\n",
       "    <tr style=\"text-align: right;\">\n",
       "      <th></th>\n",
       "      <th>dropoff_location_name</th>\n",
       "      <th>average_trips</th>\n",
       "    </tr>\n",
       "  </thead>\n",
       "  <tbody>\n",
       "    <tr>\n",
       "      <th>0</th>\n",
       "      <td>Loop</td>\n",
       "      <td>10727.466667</td>\n",
       "    </tr>\n",
       "    <tr>\n",
       "      <th>1</th>\n",
       "      <td>River North</td>\n",
       "      <td>9523.666667</td>\n",
       "    </tr>\n",
       "    <tr>\n",
       "      <th>2</th>\n",
       "      <td>Streeterville</td>\n",
       "      <td>6664.666667</td>\n",
       "    </tr>\n",
       "    <tr>\n",
       "      <th>3</th>\n",
       "      <td>West Loop</td>\n",
       "      <td>5163.666667</td>\n",
       "    </tr>\n",
       "    <tr>\n",
       "      <th>4</th>\n",
       "      <td>O'Hare</td>\n",
       "      <td>2546.900000</td>\n",
       "    </tr>\n",
       "  </tbody>\n",
       "</table>\n",
       "</div>"
      ],
      "text/plain": [
       "  dropoff_location_name  average_trips\n",
       "0                  Loop   10727.466667\n",
       "1           River North    9523.666667\n",
       "2         Streeterville    6664.666667\n",
       "3             West Loop    5163.666667\n",
       "4                O'Hare    2546.900000"
      ]
     },
     "metadata": {},
     "output_type": "display_data"
    },
    {
     "name": "stdout",
     "output_type": "stream",
     "text": [
      "dropoff_location_name    0\n",
      "average_trips            0\n",
      "dtype: int64\n"
     ]
    }
   ],
   "source": [
    "display_df(df4)"
   ]
  },
  {
   "cell_type": "markdown",
   "metadata": {},
   "source": [
    "Observamos que los tipos de datos estan correctos y no contamos con valores ausentes, tenemos 94 localizaciones de destino con su promedio de viajes a estos estos destinos."
   ]
  },
  {
   "cell_type": "markdown",
   "metadata": {},
   "source": [
    "<div class=\"alert alert-block alert-success\">\n",
    "<b>Comentario de Revisor</b> <a class=\"tocSkip\"></a>\n",
    "\n",
    "Genial, buen comienzo.\n",
    "</div>"
   ]
  },
  {
   "cell_type": "markdown",
   "metadata": {},
   "source": [
    "### Valores unicos"
   ]
  },
  {
   "cell_type": "code",
   "execution_count": 6,
   "metadata": {},
   "outputs": [
    {
     "name": "stdout",
     "output_type": "stream",
     "text": [
      "['0118 - 42111 Godfrey S. Awir' '1085 - 72312 N and W Cab Co'\n",
      " '1469 - 64126 Omar Jada' '2092 - 61288 Sbeih Company'\n",
      " '2192 - 73487 Zeymane Corp' '2241 - 44667 - Felman Corp' '24 Seven Taxi'\n",
      " '2733 - 74600 Benny Jona' '2809 - 95474 C & D Cab Co Inc.'\n",
      " '2823 - 73307 Lee Express Inc' '3011 - 66308 JBL Cab Inc.' '303 Taxi'\n",
      " '3556 - 36214 RC Andrews Cab' '3591 - 63480 Chuks Cab'\n",
      " '3620 - 52292 David K. Cab Corp.' '3623 - 72222 Arrington Enterprises'\n",
      " '3721 - Santamaria Express' '4053 - 40193 Adwar H. Nikola'\n",
      " '4615 - 83503 Tyrone Henderson' '4623 - 27290 Jay Kim' '5 Star Taxi'\n",
      " '5006 - 39261 Salifu Bawa' '5062 - 34841 Sam Mestas'\n",
      " '5074 - 54002 Ahzmi Inc' '5874 - 73628 Sergey Cab Corp.'\n",
      " '5997 - 65283 AW Services Inc.' '6057 - 24657 Richard Addo'\n",
      " '6574 - Babylon Express Inc.' '6742 - 83735 Tasha Ride Inc'\n",
      " '6743 - 78771 Luhak Corp' 'American United'\n",
      " 'American United Taxi Affiliation' 'Blue Diamond'\n",
      " 'Blue Ribbon Taxi Association Inc.' 'Checker Taxi'\n",
      " 'Checker Taxi Affiliation' 'Chicago Carriage Cab Corp'\n",
      " 'Chicago Independents' 'Chicago Medallion Leasing INC'\n",
      " 'Chicago Medallion Management' 'Chicago Star Taxicab' 'Chicago Taxicab'\n",
      " 'Choice Taxi Association' 'City Service' 'Dispatch Taxi Affiliation'\n",
      " 'Flash Cab' 'Globe Taxi' 'Gold Coast Taxi' 'KOAM Taxi Association'\n",
      " 'Leonard Cab Co' 'Medallion Leasing' 'Metro Group' 'Metro Jet Taxi A'\n",
      " 'Norshore Cab' 'Nova Taxi Affiliation Llc'\n",
      " 'Patriot Taxi Dba Peace Taxi Association' 'Service Taxi Association'\n",
      " 'Setare Inc' 'Star North Management LLC' 'Sun Taxi'\n",
      " 'Taxi Affiliation Service Yellow' 'Taxi Affiliation Services'\n",
      " 'Top Cab Affiliation' 'Yellow Cab']\n"
     ]
    }
   ],
   "source": [
    "df1_uni = df1['company_name'].unique()\n",
    "df1_uni.sort()\n",
    "print(df1_uni)"
   ]
  },
  {
   "cell_type": "markdown",
   "metadata": {},
   "source": [
    "No vemos ninguna anomalia en los valores unicos del nombre de las compañias"
   ]
  },
  {
   "cell_type": "code",
   "execution_count": 7,
   "metadata": {},
   "outputs": [
    {
     "name": "stdout",
     "output_type": "stream",
     "text": [
      "['Albany Park' 'Andersonville' 'Archer Heights' 'Armour Square' 'Ashburn'\n",
      " 'Auburn Gresham' 'Austin' 'Avalon Park' 'Avondale' 'Belmont Cragin'\n",
      " 'Beverly' 'Boystown' 'Bridgeport' 'Brighton Park' 'Bucktown' 'Burnside'\n",
      " 'Calumet Heights' 'Chatham' 'Chicago Lawn' 'Chinatown' 'Clearing'\n",
      " 'Douglas' 'Dunning' 'East Side' 'East Village' 'Edgewater' 'Edison Park'\n",
      " 'Englewood' 'Fuller Park' 'Gage Park' 'Garfield Park' 'Garfield Ridge'\n",
      " 'Gold Coast' 'Grand Boulevard' 'Grand Crossing' 'Grant Park' 'Hegewisch'\n",
      " 'Hermosa' 'Humboldt Park' 'Hyde Park' 'Irving Park' 'Jackson Park'\n",
      " 'Jefferson Park' 'Kenwood' 'Lake View' 'Lincoln Park' 'Lincoln Square'\n",
      " 'Little Italy, UIC' 'Little Village' 'Logan Square' 'Loop'\n",
      " 'Lower West Side' 'Mckinley Park' 'Montclare' 'Morgan Park'\n",
      " 'Mount Greenwood' 'Museum Campus' 'Near South Side' 'New City'\n",
      " 'North Center' 'North Lawndale' 'North Park' 'Norwood Park' \"O'Hare\"\n",
      " 'Oakland' 'Old Town' 'Portage Park' 'Pullman' 'River North' 'Riverdale'\n",
      " 'Rogers Park' 'Roseland' 'Rush & Division' 'Sauganash,Forest Glen'\n",
      " 'Sheffield & DePaul' 'South Chicago' 'South Deering' 'South Shore'\n",
      " 'Streeterville' 'Ukrainian Village' 'Undef' 'United Center' 'Uptown'\n",
      " 'Washington Heights' 'Washington Park' 'West Elsdon' 'West Lawn'\n",
      " 'West Loop' 'West Pullman' 'West Ridge' 'West Town' 'Wicker Park'\n",
      " 'Woodlawn' 'Wrigleyville']\n"
     ]
    }
   ],
   "source": [
    "df4_uni = df4['dropoff_location_name'].unique()\n",
    "df4_uni.sort()\n",
    "print(df4_uni)"
   ]
  },
  {
   "cell_type": "markdown",
   "metadata": {},
   "source": [
    "No vemos anomalias en los nombres unicos de los lugares de destino"
   ]
  },
  {
   "cell_type": "markdown",
   "metadata": {},
   "source": [
    "### Top 10 de compañias con mas viajes"
   ]
  },
  {
   "cell_type": "code",
   "execution_count": 8,
   "metadata": {},
   "outputs": [
    {
     "data": {
      "text/html": [
       "<div>\n",
       "<style scoped>\n",
       "    .dataframe tbody tr th:only-of-type {\n",
       "        vertical-align: middle;\n",
       "    }\n",
       "\n",
       "    .dataframe tbody tr th {\n",
       "        vertical-align: top;\n",
       "    }\n",
       "\n",
       "    .dataframe thead th {\n",
       "        text-align: right;\n",
       "    }\n",
       "</style>\n",
       "<table border=\"1\" class=\"dataframe\">\n",
       "  <thead>\n",
       "    <tr style=\"text-align: right;\">\n",
       "      <th></th>\n",
       "      <th>company_name</th>\n",
       "      <th>trips_amount</th>\n",
       "    </tr>\n",
       "  </thead>\n",
       "  <tbody>\n",
       "    <tr>\n",
       "      <th>0</th>\n",
       "      <td>Flash Cab</td>\n",
       "      <td>19558</td>\n",
       "    </tr>\n",
       "    <tr>\n",
       "      <th>1</th>\n",
       "      <td>Taxi Affiliation Services</td>\n",
       "      <td>11422</td>\n",
       "    </tr>\n",
       "    <tr>\n",
       "      <th>2</th>\n",
       "      <td>Medallion Leasing</td>\n",
       "      <td>10367</td>\n",
       "    </tr>\n",
       "    <tr>\n",
       "      <th>3</th>\n",
       "      <td>Yellow Cab</td>\n",
       "      <td>9888</td>\n",
       "    </tr>\n",
       "    <tr>\n",
       "      <th>4</th>\n",
       "      <td>Taxi Affiliation Service Yellow</td>\n",
       "      <td>9299</td>\n",
       "    </tr>\n",
       "    <tr>\n",
       "      <th>5</th>\n",
       "      <td>Chicago Carriage Cab Corp</td>\n",
       "      <td>9181</td>\n",
       "    </tr>\n",
       "    <tr>\n",
       "      <th>6</th>\n",
       "      <td>City Service</td>\n",
       "      <td>8448</td>\n",
       "    </tr>\n",
       "    <tr>\n",
       "      <th>7</th>\n",
       "      <td>Sun Taxi</td>\n",
       "      <td>7701</td>\n",
       "    </tr>\n",
       "    <tr>\n",
       "      <th>8</th>\n",
       "      <td>Star North Management LLC</td>\n",
       "      <td>7455</td>\n",
       "    </tr>\n",
       "    <tr>\n",
       "      <th>9</th>\n",
       "      <td>Blue Ribbon Taxi Association Inc.</td>\n",
       "      <td>5953</td>\n",
       "    </tr>\n",
       "  </tbody>\n",
       "</table>\n",
       "</div>"
      ],
      "text/plain": [
       "                        company_name  trips_amount\n",
       "0                          Flash Cab         19558\n",
       "1          Taxi Affiliation Services         11422\n",
       "2                  Medallion Leasing         10367\n",
       "3                         Yellow Cab          9888\n",
       "4    Taxi Affiliation Service Yellow          9299\n",
       "5          Chicago Carriage Cab Corp          9181\n",
       "6                       City Service          8448\n",
       "7                           Sun Taxi          7701\n",
       "8          Star North Management LLC          7455\n",
       "9  Blue Ribbon Taxi Association Inc.          5953"
      ]
     },
     "execution_count": 8,
     "metadata": {},
     "output_type": "execute_result"
    }
   ],
   "source": [
    "top_df1 = df1.sort_values(by='trips_amount',ascending=False).head(10)\n",
    "top_df1"
   ]
  },
  {
   "cell_type": "markdown",
   "metadata": {},
   "source": [
    "### Top 10 de destinos con mas promedio de viajes"
   ]
  },
  {
   "cell_type": "code",
   "execution_count": 9,
   "metadata": {},
   "outputs": [
    {
     "data": {
      "text/html": [
       "<div>\n",
       "<style scoped>\n",
       "    .dataframe tbody tr th:only-of-type {\n",
       "        vertical-align: middle;\n",
       "    }\n",
       "\n",
       "    .dataframe tbody tr th {\n",
       "        vertical-align: top;\n",
       "    }\n",
       "\n",
       "    .dataframe thead th {\n",
       "        text-align: right;\n",
       "    }\n",
       "</style>\n",
       "<table border=\"1\" class=\"dataframe\">\n",
       "  <thead>\n",
       "    <tr style=\"text-align: right;\">\n",
       "      <th></th>\n",
       "      <th>dropoff_location_name</th>\n",
       "      <th>average_trips</th>\n",
       "    </tr>\n",
       "  </thead>\n",
       "  <tbody>\n",
       "    <tr>\n",
       "      <th>0</th>\n",
       "      <td>Loop</td>\n",
       "      <td>10727.466667</td>\n",
       "    </tr>\n",
       "    <tr>\n",
       "      <th>1</th>\n",
       "      <td>River North</td>\n",
       "      <td>9523.666667</td>\n",
       "    </tr>\n",
       "    <tr>\n",
       "      <th>2</th>\n",
       "      <td>Streeterville</td>\n",
       "      <td>6664.666667</td>\n",
       "    </tr>\n",
       "    <tr>\n",
       "      <th>3</th>\n",
       "      <td>West Loop</td>\n",
       "      <td>5163.666667</td>\n",
       "    </tr>\n",
       "    <tr>\n",
       "      <th>4</th>\n",
       "      <td>O'Hare</td>\n",
       "      <td>2546.900000</td>\n",
       "    </tr>\n",
       "    <tr>\n",
       "      <th>5</th>\n",
       "      <td>Lake View</td>\n",
       "      <td>2420.966667</td>\n",
       "    </tr>\n",
       "    <tr>\n",
       "      <th>6</th>\n",
       "      <td>Grant Park</td>\n",
       "      <td>2068.533333</td>\n",
       "    </tr>\n",
       "    <tr>\n",
       "      <th>7</th>\n",
       "      <td>Museum Campus</td>\n",
       "      <td>1510.000000</td>\n",
       "    </tr>\n",
       "    <tr>\n",
       "      <th>8</th>\n",
       "      <td>Gold Coast</td>\n",
       "      <td>1364.233333</td>\n",
       "    </tr>\n",
       "    <tr>\n",
       "      <th>9</th>\n",
       "      <td>Sheffield &amp; DePaul</td>\n",
       "      <td>1259.766667</td>\n",
       "    </tr>\n",
       "  </tbody>\n",
       "</table>\n",
       "</div>"
      ],
      "text/plain": [
       "  dropoff_location_name  average_trips\n",
       "0                  Loop   10727.466667\n",
       "1           River North    9523.666667\n",
       "2         Streeterville    6664.666667\n",
       "3             West Loop    5163.666667\n",
       "4                O'Hare    2546.900000\n",
       "5             Lake View    2420.966667\n",
       "6            Grant Park    2068.533333\n",
       "7         Museum Campus    1510.000000\n",
       "8            Gold Coast    1364.233333\n",
       "9    Sheffield & DePaul    1259.766667"
      ]
     },
     "execution_count": 9,
     "metadata": {},
     "output_type": "execute_result"
    }
   ],
   "source": [
    "top_df4 = df4.sort_values(by='average_trips',ascending=False).head(10)\n",
    "top_df4"
   ]
  },
  {
   "cell_type": "markdown",
   "metadata": {},
   "source": [
    "Ya tenemos nuestros datos a utilizar del top 10 de de compañias con mas viajes y de destinos finales con mas viajes de destino, pasaremos a la parte visual."
   ]
  },
  {
   "cell_type": "markdown",
   "metadata": {},
   "source": [
    "## Visualizacion de datos"
   ]
  },
  {
   "cell_type": "code",
   "execution_count": 10,
   "metadata": {},
   "outputs": [
    {
     "data": {
      "image/png": "[encoded data removed]",
      "text/plain": [
       "<Figure size 864x576 with 1 Axes>"
      ]
     },
     "metadata": {
      "needs_background": "light"
     },
     "output_type": "display_data"
    }
   ],
   "source": [
    "top_df1 = top_df1.sort_values(by='trips_amount')\n",
    "top_df1.plot(kind='barh',\n",
    "             x = 'company_name',\n",
    "             rot=0,\n",
    "             fontsize=12,\n",
    "             figsize=(12,8),\n",
    "             color='green')\n",
    "plt.title('Top 10 de compañias en viajes del 15 y 16 de noviembre de 2017')\n",
    "plt.xlabel('Número de viajes')\n",
    "plt.ylabel('Compañias')\n",
    "plt.show()"
   ]
  },
  {
   "cell_type": "markdown",
   "metadata": {},
   "source": [
    "De 64 compañias de taxi que tenemos nuestro top 10 las cuales tienen la mayor cantidad de viajes, de igual forma podemos ver que la compañia Flash Cab tiene la mayor cantidad de viajes, duplicando en viajes a la mayoria de las demas compañias con 20,000 viajes aproximadamente, seguido de Taxi Affiliation Services con 11,000 viajes aproximadamente, claramente observamos que Flash Cab tiene mayor nombre en el mercado y esto en tan solo dos dias."
   ]
  },
  {
   "cell_type": "code",
   "execution_count": 11,
   "metadata": {},
   "outputs": [
    {
     "data": {
      "image/png": "[encoded data removed]",
      "text/plain": [
       "<Figure size 864x576 with 1 Axes>"
      ]
     },
     "metadata": {
      "needs_background": "light"
     },
     "output_type": "display_data"
    }
   ],
   "source": [
    "top_df4 = top_df4.sort_values(by='average_trips')\n",
    "top_df4.plot(kind='barh',\n",
    "             x = 'dropoff_location_name',\n",
    "             fontsize=12,\n",
    "             figsize=(12,8),\n",
    "             rot=0,\n",
    "             color='green')\n",
    "plt.title('Top 10 de lugares de destino de viajes del 15 y 16 de noviembre de 2017')\n",
    "plt.xlabel('Número promedio de lugares de destino')\n",
    "plt.ylabel('Lugares de destino')\n",
    "plt.show()"
   ]
  },
  {
   "cell_type": "markdown",
   "metadata": {},
   "source": [
    "De 94 localizaciones de destino obtenidas de viajes en dos dias, tenemos 4 localizaciones de gran impacto en los viajes, Loop, River North, Streeterville y West Loop, ya que estas 4 localizaciones tienen viajes de destino de mas de 5000 a 10000 viajes, mientras que los demas lugares estan muy por debajo de la media de estos 4 destinos, tendriamos que preguntarnos seran lugares muy populares/turisticos? o seran lugares con alta concentracion de trabajos o viviendas?. "
   ]
  },
  {
   "cell_type": "markdown",
   "metadata": {},
   "source": [
    "<div class=\"alert alert-block alert-success\">\n",
    "<b>Comentario de Revisor</b> <a class=\"tocSkip\"></a>\n",
    "\n",
    "Genial, bien hecho con los top 10.\n",
    "</div>"
   ]
  },
  {
   "cell_type": "markdown",
   "metadata": {},
   "source": [
    "## Prueba de hipotesis"
   ]
  },
  {
   "cell_type": "code",
   "execution_count": 12,
   "metadata": {},
   "outputs": [
    {
     "name": "stdout",
     "output_type": "stream",
     "text": [
      "<class 'pandas.core.frame.DataFrame'>\n",
      "RangeIndex: 1068 entries, 0 to 1067\n",
      "Data columns (total 3 columns):\n",
      " #   Column              Non-Null Count  Dtype  \n",
      "---  ------              --------------  -----  \n",
      " 0   start_ts            1068 non-null   object \n",
      " 1   weather_conditions  1068 non-null   object \n",
      " 2   duration_seconds    1068 non-null   float64\n",
      "dtypes: float64(1), object(2)\n",
      "memory usage: 25.2+ KB\n"
     ]
    },
    {
     "data": {
      "text/html": [
       "<div>\n",
       "<style scoped>\n",
       "    .dataframe tbody tr th:only-of-type {\n",
       "        vertical-align: middle;\n",
       "    }\n",
       "\n",
       "    .dataframe tbody tr th {\n",
       "        vertical-align: top;\n",
       "    }\n",
       "\n",
       "    .dataframe thead th {\n",
       "        text-align: right;\n",
       "    }\n",
       "</style>\n",
       "<table border=\"1\" class=\"dataframe\">\n",
       "  <thead>\n",
       "    <tr style=\"text-align: right;\">\n",
       "      <th></th>\n",
       "      <th>start_ts</th>\n",
       "      <th>weather_conditions</th>\n",
       "      <th>duration_seconds</th>\n",
       "    </tr>\n",
       "  </thead>\n",
       "  <tbody>\n",
       "    <tr>\n",
       "      <th>0</th>\n",
       "      <td>2017-11-25 16:00:00</td>\n",
       "      <td>Good</td>\n",
       "      <td>2410.0</td>\n",
       "    </tr>\n",
       "    <tr>\n",
       "      <th>1</th>\n",
       "      <td>2017-11-25 14:00:00</td>\n",
       "      <td>Good</td>\n",
       "      <td>1920.0</td>\n",
       "    </tr>\n",
       "    <tr>\n",
       "      <th>2</th>\n",
       "      <td>2017-11-25 12:00:00</td>\n",
       "      <td>Good</td>\n",
       "      <td>1543.0</td>\n",
       "    </tr>\n",
       "    <tr>\n",
       "      <th>3</th>\n",
       "      <td>2017-11-04 10:00:00</td>\n",
       "      <td>Good</td>\n",
       "      <td>2512.0</td>\n",
       "    </tr>\n",
       "    <tr>\n",
       "      <th>4</th>\n",
       "      <td>2017-11-11 07:00:00</td>\n",
       "      <td>Good</td>\n",
       "      <td>1440.0</td>\n",
       "    </tr>\n",
       "  </tbody>\n",
       "</table>\n",
       "</div>"
      ],
      "text/plain": [
       "              start_ts weather_conditions  duration_seconds\n",
       "0  2017-11-25 16:00:00               Good            2410.0\n",
       "1  2017-11-25 14:00:00               Good            1920.0\n",
       "2  2017-11-25 12:00:00               Good            1543.0\n",
       "3  2017-11-04 10:00:00               Good            2512.0\n",
       "4  2017-11-11 07:00:00               Good            1440.0"
      ]
     },
     "metadata": {},
     "output_type": "display_data"
    },
    {
     "name": "stdout",
     "output_type": "stream",
     "text": [
      "start_ts              0\n",
      "weather_conditions    0\n",
      "duration_seconds      0\n",
      "dtype: int64\n"
     ]
    }
   ],
   "source": [
    "display_df(df7)"
   ]
  },
  {
   "cell_type": "markdown",
   "metadata": {},
   "source": [
    "Observamos que no tenemos datos ausentes, recordemos que la columna **weather_conditions** consta de dos valores, *good y bad* a los cuales el valor bad se le atribuye clima lluvioso y tormentoso.  \n",
    "\n",
    "Tenemos datos tipo object en la columna star_ts, los cuales cambiaremos a tipo datetime para poder hacer analisis correspondiente."
   ]
  },
  {
   "cell_type": "markdown",
   "metadata": {},
   "source": [
    "###  Correcion de datos"
   ]
  },
  {
   "cell_type": "code",
   "execution_count": 13,
   "metadata": {},
   "outputs": [],
   "source": [
    "#Convertimos a formato datetime\n",
    "df7['start_ts'] = pd.to_datetime(df7['start_ts'], format='%Y-%m-%d %H:%M:%S')"
   ]
  },
  {
   "cell_type": "code",
   "execution_count": 14,
   "metadata": {
    "scrolled": false
   },
   "outputs": [
    {
     "name": "stdout",
     "output_type": "stream",
     "text": [
      "<class 'pandas.core.frame.DataFrame'>\n",
      "RangeIndex: 1068 entries, 0 to 1067\n",
      "Data columns (total 3 columns):\n",
      " #   Column              Non-Null Count  Dtype         \n",
      "---  ------              --------------  -----         \n",
      " 0   start_ts            1068 non-null   datetime64[ns]\n",
      " 1   weather_conditions  1068 non-null   object        \n",
      " 2   duration_seconds    1068 non-null   float64       \n",
      "dtypes: datetime64[ns](1), float64(1), object(1)\n",
      "memory usage: 25.2+ KB\n"
     ]
    },
    {
     "data": {
      "text/html": [
       "<div>\n",
       "<style scoped>\n",
       "    .dataframe tbody tr th:only-of-type {\n",
       "        vertical-align: middle;\n",
       "    }\n",
       "\n",
       "    .dataframe tbody tr th {\n",
       "        vertical-align: top;\n",
       "    }\n",
       "\n",
       "    .dataframe thead th {\n",
       "        text-align: right;\n",
       "    }\n",
       "</style>\n",
       "<table border=\"1\" class=\"dataframe\">\n",
       "  <thead>\n",
       "    <tr style=\"text-align: right;\">\n",
       "      <th></th>\n",
       "      <th>start_ts</th>\n",
       "      <th>weather_conditions</th>\n",
       "      <th>duration_seconds</th>\n",
       "    </tr>\n",
       "  </thead>\n",
       "  <tbody>\n",
       "    <tr>\n",
       "      <th>0</th>\n",
       "      <td>2017-11-25 16:00:00</td>\n",
       "      <td>Good</td>\n",
       "      <td>2410.0</td>\n",
       "    </tr>\n",
       "    <tr>\n",
       "      <th>1</th>\n",
       "      <td>2017-11-25 14:00:00</td>\n",
       "      <td>Good</td>\n",
       "      <td>1920.0</td>\n",
       "    </tr>\n",
       "    <tr>\n",
       "      <th>2</th>\n",
       "      <td>2017-11-25 12:00:00</td>\n",
       "      <td>Good</td>\n",
       "      <td>1543.0</td>\n",
       "    </tr>\n",
       "    <tr>\n",
       "      <th>3</th>\n",
       "      <td>2017-11-04 10:00:00</td>\n",
       "      <td>Good</td>\n",
       "      <td>2512.0</td>\n",
       "    </tr>\n",
       "    <tr>\n",
       "      <th>4</th>\n",
       "      <td>2017-11-11 07:00:00</td>\n",
       "      <td>Good</td>\n",
       "      <td>1440.0</td>\n",
       "    </tr>\n",
       "  </tbody>\n",
       "</table>\n",
       "</div>"
      ],
      "text/plain": [
       "             start_ts weather_conditions  duration_seconds\n",
       "0 2017-11-25 16:00:00               Good            2410.0\n",
       "1 2017-11-25 14:00:00               Good            1920.0\n",
       "2 2017-11-25 12:00:00               Good            1543.0\n",
       "3 2017-11-04 10:00:00               Good            2512.0\n",
       "4 2017-11-11 07:00:00               Good            1440.0"
      ]
     },
     "metadata": {},
     "output_type": "display_data"
    },
    {
     "name": "stdout",
     "output_type": "stream",
     "text": [
      "start_ts              0\n",
      "weather_conditions    0\n",
      "duration_seconds      0\n",
      "dtype: int64\n"
     ]
    }
   ],
   "source": [
    "display_df(df7)"
   ]
  },
  {
   "cell_type": "markdown",
   "metadata": {},
   "source": [
    "Vamos a verificar las fechas para revisar las fechas y asi tener los datos consisos de los dias que vamos a revisar, en este caso que sea sabado y posteriormente si la condicion del clima es buena o mala"
   ]
  },
  {
   "cell_type": "code",
   "execution_count": 15,
   "metadata": {},
   "outputs": [
    {
     "data": {
      "text/html": [
       "<div>\n",
       "<style scoped>\n",
       "    .dataframe tbody tr th:only-of-type {\n",
       "        vertical-align: middle;\n",
       "    }\n",
       "\n",
       "    .dataframe tbody tr th {\n",
       "        vertical-align: top;\n",
       "    }\n",
       "\n",
       "    .dataframe thead th {\n",
       "        text-align: right;\n",
       "    }\n",
       "</style>\n",
       "<table border=\"1\" class=\"dataframe\">\n",
       "  <thead>\n",
       "    <tr style=\"text-align: right;\">\n",
       "      <th></th>\n",
       "      <th>start_ts</th>\n",
       "      <th>weather_conditions</th>\n",
       "      <th>duration_seconds</th>\n",
       "      <th>day</th>\n",
       "    </tr>\n",
       "  </thead>\n",
       "  <tbody>\n",
       "    <tr>\n",
       "      <th>0</th>\n",
       "      <td>2017-11-25 16:00:00</td>\n",
       "      <td>Good</td>\n",
       "      <td>2410.0</td>\n",
       "      <td>Saturday</td>\n",
       "    </tr>\n",
       "    <tr>\n",
       "      <th>1</th>\n",
       "      <td>2017-11-25 14:00:00</td>\n",
       "      <td>Good</td>\n",
       "      <td>1920.0</td>\n",
       "      <td>Saturday</td>\n",
       "    </tr>\n",
       "    <tr>\n",
       "      <th>2</th>\n",
       "      <td>2017-11-25 12:00:00</td>\n",
       "      <td>Good</td>\n",
       "      <td>1543.0</td>\n",
       "      <td>Saturday</td>\n",
       "    </tr>\n",
       "    <tr>\n",
       "      <th>3</th>\n",
       "      <td>2017-11-04 10:00:00</td>\n",
       "      <td>Good</td>\n",
       "      <td>2512.0</td>\n",
       "      <td>Saturday</td>\n",
       "    </tr>\n",
       "    <tr>\n",
       "      <th>4</th>\n",
       "      <td>2017-11-11 07:00:00</td>\n",
       "      <td>Good</td>\n",
       "      <td>1440.0</td>\n",
       "      <td>Saturday</td>\n",
       "    </tr>\n",
       "  </tbody>\n",
       "</table>\n",
       "</div>"
      ],
      "text/plain": [
       "             start_ts weather_conditions  duration_seconds       day\n",
       "0 2017-11-25 16:00:00               Good            2410.0  Saturday\n",
       "1 2017-11-25 14:00:00               Good            1920.0  Saturday\n",
       "2 2017-11-25 12:00:00               Good            1543.0  Saturday\n",
       "3 2017-11-04 10:00:00               Good            2512.0  Saturday\n",
       "4 2017-11-11 07:00:00               Good            1440.0  Saturday"
      ]
     },
     "execution_count": 15,
     "metadata": {},
     "output_type": "execute_result"
    }
   ],
   "source": [
    "df7['day'] = df7['start_ts'].dt.day_name()\n",
    "df7.head()"
   ]
  },
  {
   "cell_type": "code",
   "execution_count": 16,
   "metadata": {},
   "outputs": [
    {
     "name": "stdout",
     "output_type": "stream",
     "text": [
      "['Good' 'Bad']\n",
      "['Saturday']\n"
     ]
    }
   ],
   "source": [
    "print(df7['weather_conditions'].unique())\n",
    "print(df7['day'].unique())"
   ]
  },
  {
   "cell_type": "markdown",
   "metadata": {},
   "source": [
    "Con esto confirmamos que nuestra tabla solo contiene valores de dias sabados, vamos a separar los datos en dos:\n",
    "* Condiciones buenas (good)\n",
    "* Condiciones malas (bad)"
   ]
  },
  {
   "cell_type": "markdown",
   "metadata": {},
   "source": [
    "<div class=\"alert alert-block alert-success\">\n",
    "<b>Comentario de Revisor</b> <a class=\"tocSkip\"></a>\n",
    "\n",
    "Genial, buen trabajo con el timestamp.\n",
    "</div>"
   ]
  },
  {
   "cell_type": "markdown",
   "metadata": {},
   "source": [
    "### Hipótesis sobre la igualdad de las medias de dos poblaciones"
   ]
  },
  {
   "cell_type": "markdown",
   "metadata": {},
   "source": [
    "Prueba la hipótesis:\n",
    "\n",
    "\"La duración promedio de los viajes desde el Loop hasta el Aeropuerto Internacional O'Hare cambia los sábados lluviosos\".\n",
    "\n",
    "Revisaremos si las muestras estan normalmente distribuidas"
   ]
  },
  {
   "cell_type": "markdown",
   "metadata": {},
   "source": [
    "#### Revision de distribuciones"
   ]
  },
  {
   "cell_type": "code",
   "execution_count": 17,
   "metadata": {},
   "outputs": [],
   "source": [
    "# H0 La duración promedio de los viajes desde el Loop hasta el Aeropuerto Internacional O'Hare son iguales los sábados lluviosos o clima malo\n",
    "# H1 La duración promedio de los viajes desde el Loop hasta el Aeropuerto Internacional O'Hare no son iguales los sábados con clima bueno \n",
    "\n",
    "# Establecemos nuestro valor de tolerancia 0.05 ya que al ser la misma distancia no deberia haber mucha tolerancia\n",
    "alpha = 0.05\n",
    "\n",
    "def check_normality(data):\n",
    "    test_stat_normality, p_value_normality=stats.shapiro(data)\n",
    "    print(\"p value:%.4f\" % p_value_normality)\n",
    "    if p_value_normality <0.05:\n",
    "        print(\"Rechazamos la hipótesis nula >> La informacion no esta normalmente distribuida\")\n",
    "    else:\n",
    "        print(\"No rechazamos la hipótesis nula >> la informacion esta normalmente distribuida\")        "
   ]
  },
  {
   "cell_type": "code",
   "execution_count": 18,
   "metadata": {
    "scrolled": true
   },
   "outputs": [
    {
     "name": "stdout",
     "output_type": "stream",
     "text": [
      "p value:0.0000\n",
      "Rechazamos la hipótesis nula >> La informacion no esta normalmente distribuida\n",
      "p value:0.0036\n",
      "Rechazamos la hipótesis nula >> La informacion no esta normalmente distribuida\n"
     ]
    }
   ],
   "source": [
    "check_normality(df7.query('weather_conditions == \"Good\"')['duration_seconds'])\n",
    "check_normality(df7.query('weather_conditions == \"Bad\"')['duration_seconds'])"
   ]
  },
  {
   "cell_type": "markdown",
   "metadata": {},
   "source": [
    "#### Revision de varianzas"
   ]
  },
  {
   "cell_type": "code",
   "execution_count": 19,
   "metadata": {},
   "outputs": [],
   "source": [
    "def check_variance_homogeneity(group1, group2):\n",
    "    test_stat_var, p_value_var= stats.levene(group1,group2)\n",
    "    print(\"p value:%.4f\" % p_value_var)\n",
    "    if p_value_var <0.05:\n",
    "        print(\"Rechazamos la hipótesis nula >> Las varianzas de las muestras son diferentes.\")\n",
    "    else:\n",
    "        print(\"No rechazamos la hipótesis nula >> Las varianzas de las muestras son iguales.\")"
   ]
  },
  {
   "cell_type": "code",
   "execution_count": 20,
   "metadata": {},
   "outputs": [
    {
     "name": "stdout",
     "output_type": "stream",
     "text": [
      "p value:0.5332\n",
      "No rechazamos la hipótesis nula >> Las varianzas de las muestras son iguales.\n"
     ]
    }
   ],
   "source": [
    "check_variance_homogeneity(df7.query('weather_conditions == \"Good\"')['duration_seconds'], df7.query('weather_conditions == \"Bad\"')['duration_seconds'])"
   ]
  },
  {
   "cell_type": "code",
   "execution_count": 21,
   "metadata": {},
   "outputs": [
    {
     "name": "stdout",
     "output_type": "stream",
     "text": [
      "p-value:1.0000\n",
      "No rechazamos la hipótesis nula\n"
     ]
    }
   ],
   "source": [
    "ttest,pvalue = stats.mannwhitneyu(df7.query('weather_conditions == \"Good\"')['duration_seconds'],\n",
    "                                  df7.query('weather_conditions == \"Good\"')['duration_seconds'], alternative=\"two-sided\")\n",
    "print(\"p-value:%.4f\" % pvalue)\n",
    "if pvalue <0.05:\n",
    "    print(\"Rechazamos la hipótesis nula\")\n",
    "else:\n",
    "    print(\"No rechazamos la hipótesis nula\")"
   ]
  },
  {
   "cell_type": "markdown",
   "metadata": {},
   "source": [
    "LLegando a esta conclusión, no rechazamos la hipotesis nula, es decir, la duracion de los viajes no representa mayor variacion respecto al estado del clima, por lo que los tiempos de traslado en sábado es similar independientemente del tiempo"
   ]
  },
  {
   "cell_type": "markdown",
   "metadata": {},
   "source": [
    "### Conclusión"
   ]
  },
  {
   "cell_type": "markdown",
   "metadata": {},
   "source": [
    "De nuestra muestra general de viajes de sabado de la locación Loop al aeropuerto O'hare, obtuvimos nuestras dos muestras dependiendo el estado del clima.  \n",
    "Con esto pasamos a revisar si cada muestra esta normalmente distribuida usando el test de **\"Shapiro-Wilk’s W\"** y de igual forma revisar la similitud de las varianzas de las muestras.  \n",
    "Obtenemos de resultado que las muestras no estan normalmente distribuidas y que las varianzas entre las dos muestras son iguales.  \n",
    "Una vez obtenidas estas 3 suposiciones pasamos a utilizar el metodo **Mann Whitney U** el cual funciona con muestras que no estan normalmente distribuidas y con varianzas iguales, llegando a la conclusion que:\n",
    "\n",
    "*No rechazamos la hipotesis nula, es decir, la duracion de los viajes no representa mayor variacion respecto al estado del clima, por lo que los tiempos de traslado en sábado es similar independientemente del tiempo.*\n"
   ]
  },
  {
   "cell_type": "markdown",
   "metadata": {},
   "source": [
    "<div class=\"alert alert-block alert-success\">\n",
    "<b>Comentarios de Revisor</b> <a class=\"tocSkip\"></a>\n",
    "\n",
    "Bien hecho, se nota manejas el concepto del test de hipotesis\n",
    "    \n",
    "H0 y H1 fueron planteadas correctamente e interpretaste el resultado correctamente\n",
    "</div>\n",
    "\n",
    "<div class=\"alert alert-block alert-danger\">\n",
    "<b>Comentarios de Revisor</b> <a class=\"tocSkip\"></a>\n",
    "\n",
    "<b>Necesita correccion</b>\n",
    "\n",
    "Solo modificaria 2 cuestiones de esta seccion (ya que el resto del proyecto esta muy bien)\n",
    "\n",
    "Primero, antes de ejecutar un <b>ttest</b> ya que este asume las muestras tienen distribucion normal e igual varianza, deberiamos corroborar esto mismo. \n",
    "\n",
    "Hay un test llamado Shapiro que sirve para testear normalidad de las muestras, acompanarlo de un distplot siempre es buena practica\n",
    "    \n",
    "Y otro llamada Levene que sirve para testear igualdad de varianzas entre muestras\n",
    "    \n",
    "Una vez ejecutados estos tests si hay normalidad en las muestras, podemos ejecutar ttest (con el parametro eqal_var en true o false segun haya dado el test Levene).\n",
    "    \n",
    "Si no hay normalidad se recomienda en vez de ttest usar el test Mann-Whitney.\n",
    "\n",
    "Te dejo este <a href=\"https://towardsdatascience.com/hypothesis-testing-with-python-step-by-step-hands-on-tutorial-with-practical-examples-e805975ea96e\"> enlace </a> para que uses de guia en la correccion  \n",
    "</div>\n",
    "\n",
    "<div class=\"alert alert-block alert-light\">\n",
    "<b>Comentarios de Revisor</b> <a class=\"tocSkip\"></a>\n",
    "\n",
    "Vas por muy buen camino, espero la devolucion de tu proyecto con la mejora del test de hipotesis para poder aprobarlo.\n",
    "</div>\n"
   ]
  },
  {
   "cell_type": "markdown",
   "metadata": {},
   "source": [
    "<div class=\"alert alert-block alert-info\">\n",
    "<b>Respuesta de estudiante.</b> <a class=\"tocSkip\"></a>\n",
    "    \n",
    "Corregido, PD: excelente contenido de las hipotesis, desconocia esta serie de pruebas para determinar las distribuciones y varianza y por consiguiente su prueba especifica.\n",
    "</div>"
   ]
  },
  {
   "cell_type": "markdown",
   "metadata": {},
   "source": [
    "<div class=\"alert alert-block alert-success\">\n",
    "<b>Comentarios de Revisor - 2da ITERACION</b> <a class=\"tocSkip\"></a>\n",
    "\n",
    "Bien hecho Rafael, te felicito. Tu proyecto esta aprobado\n",
    "    \n",
    "Que bueno que te haya servido el recurso compartido para ahondar en el tema\n",
    "</div>"
   ]
  },
  {
   "cell_type": "code",
   "execution_count": null,
   "metadata": {},
   "outputs": [],
   "source": []
  }
 ],
 "metadata": {
  "kernelspec": {
   "display_name": "Python 3 (ipykernel)",
   "language": "python",
   "name": "python3"
  },
  "language_info": {
   "codemirror_mode": {
    "name": "ipython",
    "version": 3
   },
   "file_extension": ".py",
   "mimetype": "text/x-python",
   "name": "python",
   "nbconvert_exporter": "python",
   "pygments_lexer": "ipython3",
   "version": "3.9.5"
  },
  "toc": {
   "base_numbering": 1,
   "nav_menu": {},
   "number_sections": true,
   "sideBar": true,
   "skip_h1_title": true,
   "title_cell": "Table of Contents",
   "title_sidebar": "Contents",
   "toc_cell": false,
   "toc_position": {
    "height": "calc(100% - 180px)",
    "left": "10px",
    "top": "150px",
    "width": "310.188px"
   },
   "toc_section_display": true,
   "toc_window_display": true
  }
 },
 "nbformat": 4,
 "nbformat_minor": 2
}
