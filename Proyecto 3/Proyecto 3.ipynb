{
 "cells": [
  {
   "cell_type": "markdown",
   "metadata": {},
   "source": [
    "¡Hola!\n",
    "\n",
    "Mi nombre es Marcos Torres, seré el encargado de revisar tu código el día de hoy.\n",
    "\n",
    "Cuando vea algo notable o algún asunto en el notebook, te dejaré un comentario o una pista. Se que encontraras la mejor respuesta para resolver todos los comentarios, de no ser así, no te preocupes en futuras iteraciones dejaré comentarios y pistas más específicos.\n",
    "\n",
    "Este proceso es muy parecido al que se recibe de un gerente o de un Senior Data Scientist en un trabajo real, por lo que te estarás preparando para la experiencia en la vida real.\n",
    "\n",
    "Encontrarás comentarios en verde, amarillo o rojo como los siguientes:\n",
    "\n",
    "<div class=\"alert alert-block alert-success\">\n",
    "<b>Comentario del evaluador</b> <a class=\"tocSkip\"></a>\n",
    "\n",
    "Buen trabajo. ¡Lo hiciste muy bien!\n",
    "</div>\n",
    "\n",
    "<div class=\"alert alert-block alert-warning\">\n",
    "<b>Comentario del evaluador</b> <a class=\"tocSkip\"></a>\n",
    "\n",
    "Nota. Se puede mejorar.\n",
    "</div>\n",
    "\n",
    "<div class=\"alert alert-block alert-danger\">\n",
    "\n",
    "<b>Comentario del evaluador</b> <a class=\"tocSkip\"></a>\n",
    "\n",
    "Necesitas corregirlo. Este bloque indica que se requiere una correción. El trabajo no se acepta si tiene estos bloques.\n",
    "</div>\n",
    "\n",
    "Puedes responder a mis comentarios usando estos bloques:\n",
    "\n",
    "<div class=\"alert alert-block alert-info\">\n",
    "<b>Respuesta del estudiante.</b> <a class=\"tocSkip\"></a>\n",
    "</div>\n",
    "\n",
    "\n",
    "**Por favor no elimines los bloques de comentarios, nos sirve para darle seguimiento a tu revisión en cada iteración**"
   ]
  },
  {
   "cell_type": "markdown",
   "metadata": {},
   "source": [
    "# ¿Qué vende un coche?\n",
    "\n",
    "Eres un analista en Crankshaft List. Cientos de anuncios gratuitos de vehículos se publican en tu sitio web cada día. Necesitas estudiar los datos recopilados durante los últimos años y determinar qué factores influyen en el precio de un vehículo."
   ]
  },
  {
   "cell_type": "markdown",
   "metadata": {},
   "source": [
    "## Inicialización"
   ]
  },
  {
   "cell_type": "code",
   "execution_count": 1,
   "metadata": {},
   "outputs": [],
   "source": [
    "# Cargar todas las librerías\n",
    "import pandas as pd\n",
    "import matplotlib.pyplot as plt"
   ]
  },
  {
   "cell_type": "markdown",
   "metadata": {},
   "source": [
    "### Cargar datos"
   ]
  },
  {
   "cell_type": "code",
   "execution_count": 2,
   "metadata": {},
   "outputs": [],
   "source": [
    "# Carga el archivo de datos en un DataFrame\n",
    "vh = pd.read_csv('/datasets/vehicles_us.csv')"
   ]
  },
  {
   "cell_type": "markdown",
   "metadata": {},
   "source": [
    "<div class=\"alert alert-block alert-success\">\n",
    "<b>Comentario del evaluador</b> <a class=\"tocSkip\"></a>\n",
    "\n",
    "¡Muy bien! Usaste una celda para importar las librerías y otra para leer los datos.\n",
    "</div>"
   ]
  },
  {
   "cell_type": "markdown",
   "metadata": {},
   "source": [
    "### Explorar datos iniciales"
   ]
  },
  {
   "cell_type": "markdown",
   "metadata": {},
   "source": [
    "El dataset contiene los siguientes campos:\n",
    "- `price`\n",
    "- `model_year`\n",
    "- `model`\n",
    "- `condition`\n",
    "- `cylinders`\n",
    "- `fuel` — gasolina, diesel, etc.\n",
    "- `odometer` — el millaje del vehículo cuando el anuncio fue publicado\n",
    "- `transmission`\n",
    "- `paint_color`\n",
    "- `is_4wd` — si el vehículo tiene tracción a las 4 ruedas (tipo Booleano)\n",
    "- `date_posted` — la fecha en la que el anuncio fue publicado\n",
    "- `days_listed` — desde la publicación hasta que se elimina\n",
    "\n",
    "[Al comprender los campos, explóralos para familiarizarte con los datos.]"
   ]
  },
  {
   "cell_type": "code",
   "execution_count": 2,
   "metadata": {},
   "outputs": [
    {
     "ename": "NameError",
     "evalue": "name 'vh' is not defined",
     "output_type": "error",
     "traceback": [
      "\u001b[0;31m---------------------------------------------------------------------------\u001b[0m",
      "\u001b[0;31mNameError\u001b[0m                                 Traceback (most recent call last)",
      "\u001b[0;32m/tmp/ipykernel_44/696319808.py\u001b[0m in \u001b[0;36m<module>\u001b[0;34m\u001b[0m\n\u001b[1;32m      1\u001b[0m \u001b[0;31m# imprime la información general/resumida sobre el DataFrame\u001b[0m\u001b[0;34m\u001b[0m\u001b[0;34m\u001b[0m\u001b[0;34m\u001b[0m\u001b[0m\n\u001b[0;32m----> 2\u001b[0;31m \u001b[0mvh\u001b[0m\u001b[0;34m.\u001b[0m\u001b[0minfo\u001b[0m\u001b[0;34m(\u001b[0m\u001b[0;34m)\u001b[0m\u001b[0;34m\u001b[0m\u001b[0;34m\u001b[0m\u001b[0m\n\u001b[0m",
      "\u001b[0;31mNameError\u001b[0m: name 'vh' is not defined"
     ]
    }
   ],
   "source": [
    "# imprime la información general/resumida sobre el DataFrame\n",
    "vh.info()"
   ]
  },
  {
   "cell_type": "code",
   "execution_count": 3,
   "metadata": {},
   "outputs": [
    {
     "data": {
      "text/html": [
       "<div>\n",
       "<style scoped>\n",
       "    .dataframe tbody tr th:only-of-type {\n",
       "        vertical-align: middle;\n",
       "    }\n",
       "\n",
       "    .dataframe tbody tr th {\n",
       "        vertical-align: top;\n",
       "    }\n",
       "\n",
       "    .dataframe thead th {\n",
       "        text-align: right;\n",
       "    }\n",
       "</style>\n",
       "<table border=\"1\" class=\"dataframe\">\n",
       "  <thead>\n",
       "    <tr style=\"text-align: right;\">\n",
       "      <th></th>\n",
       "      <th>price</th>\n",
       "      <th>model_year</th>\n",
       "      <th>model</th>\n",
       "      <th>condition</th>\n",
       "      <th>cylinders</th>\n",
       "      <th>fuel</th>\n",
       "      <th>odometer</th>\n",
       "      <th>transmission</th>\n",
       "      <th>type</th>\n",
       "      <th>paint_color</th>\n",
       "      <th>is_4wd</th>\n",
       "      <th>date_posted</th>\n",
       "      <th>days_listed</th>\n",
       "    </tr>\n",
       "  </thead>\n",
       "  <tbody>\n",
       "    <tr>\n",
       "      <th>0</th>\n",
       "      <td>9400</td>\n",
       "      <td>2011.0</td>\n",
       "      <td>bmw x5</td>\n",
       "      <td>good</td>\n",
       "      <td>6.0</td>\n",
       "      <td>gas</td>\n",
       "      <td>145000.0</td>\n",
       "      <td>automatic</td>\n",
       "      <td>SUV</td>\n",
       "      <td>NaN</td>\n",
       "      <td>1.0</td>\n",
       "      <td>2018-06-23</td>\n",
       "      <td>19</td>\n",
       "    </tr>\n",
       "    <tr>\n",
       "      <th>1</th>\n",
       "      <td>25500</td>\n",
       "      <td>NaN</td>\n",
       "      <td>ford f-150</td>\n",
       "      <td>good</td>\n",
       "      <td>6.0</td>\n",
       "      <td>gas</td>\n",
       "      <td>88705.0</td>\n",
       "      <td>automatic</td>\n",
       "      <td>pickup</td>\n",
       "      <td>white</td>\n",
       "      <td>1.0</td>\n",
       "      <td>2018-10-19</td>\n",
       "      <td>50</td>\n",
       "    </tr>\n",
       "    <tr>\n",
       "      <th>2</th>\n",
       "      <td>5500</td>\n",
       "      <td>2013.0</td>\n",
       "      <td>hyundai sonata</td>\n",
       "      <td>like new</td>\n",
       "      <td>4.0</td>\n",
       "      <td>gas</td>\n",
       "      <td>110000.0</td>\n",
       "      <td>automatic</td>\n",
       "      <td>sedan</td>\n",
       "      <td>red</td>\n",
       "      <td>NaN</td>\n",
       "      <td>2019-02-07</td>\n",
       "      <td>79</td>\n",
       "    </tr>\n",
       "    <tr>\n",
       "      <th>3</th>\n",
       "      <td>1500</td>\n",
       "      <td>2003.0</td>\n",
       "      <td>ford f-150</td>\n",
       "      <td>fair</td>\n",
       "      <td>8.0</td>\n",
       "      <td>gas</td>\n",
       "      <td>NaN</td>\n",
       "      <td>automatic</td>\n",
       "      <td>pickup</td>\n",
       "      <td>NaN</td>\n",
       "      <td>NaN</td>\n",
       "      <td>2019-03-22</td>\n",
       "      <td>9</td>\n",
       "    </tr>\n",
       "    <tr>\n",
       "      <th>4</th>\n",
       "      <td>14900</td>\n",
       "      <td>2017.0</td>\n",
       "      <td>chrysler 200</td>\n",
       "      <td>excellent</td>\n",
       "      <td>4.0</td>\n",
       "      <td>gas</td>\n",
       "      <td>80903.0</td>\n",
       "      <td>automatic</td>\n",
       "      <td>sedan</td>\n",
       "      <td>black</td>\n",
       "      <td>NaN</td>\n",
       "      <td>2019-04-02</td>\n",
       "      <td>28</td>\n",
       "    </tr>\n",
       "    <tr>\n",
       "      <th>5</th>\n",
       "      <td>14990</td>\n",
       "      <td>2014.0</td>\n",
       "      <td>chrysler 300</td>\n",
       "      <td>excellent</td>\n",
       "      <td>6.0</td>\n",
       "      <td>gas</td>\n",
       "      <td>57954.0</td>\n",
       "      <td>automatic</td>\n",
       "      <td>sedan</td>\n",
       "      <td>black</td>\n",
       "      <td>1.0</td>\n",
       "      <td>2018-06-20</td>\n",
       "      <td>15</td>\n",
       "    </tr>\n",
       "    <tr>\n",
       "      <th>6</th>\n",
       "      <td>12990</td>\n",
       "      <td>2015.0</td>\n",
       "      <td>toyota camry</td>\n",
       "      <td>excellent</td>\n",
       "      <td>4.0</td>\n",
       "      <td>gas</td>\n",
       "      <td>79212.0</td>\n",
       "      <td>automatic</td>\n",
       "      <td>sedan</td>\n",
       "      <td>white</td>\n",
       "      <td>NaN</td>\n",
       "      <td>2018-12-27</td>\n",
       "      <td>73</td>\n",
       "    </tr>\n",
       "    <tr>\n",
       "      <th>7</th>\n",
       "      <td>15990</td>\n",
       "      <td>2013.0</td>\n",
       "      <td>honda pilot</td>\n",
       "      <td>excellent</td>\n",
       "      <td>6.0</td>\n",
       "      <td>gas</td>\n",
       "      <td>109473.0</td>\n",
       "      <td>automatic</td>\n",
       "      <td>SUV</td>\n",
       "      <td>black</td>\n",
       "      <td>1.0</td>\n",
       "      <td>2019-01-07</td>\n",
       "      <td>68</td>\n",
       "    </tr>\n",
       "    <tr>\n",
       "      <th>8</th>\n",
       "      <td>11500</td>\n",
       "      <td>2012.0</td>\n",
       "      <td>kia sorento</td>\n",
       "      <td>excellent</td>\n",
       "      <td>4.0</td>\n",
       "      <td>gas</td>\n",
       "      <td>104174.0</td>\n",
       "      <td>automatic</td>\n",
       "      <td>SUV</td>\n",
       "      <td>NaN</td>\n",
       "      <td>1.0</td>\n",
       "      <td>2018-07-16</td>\n",
       "      <td>19</td>\n",
       "    </tr>\n",
       "    <tr>\n",
       "      <th>9</th>\n",
       "      <td>9200</td>\n",
       "      <td>2008.0</td>\n",
       "      <td>honda pilot</td>\n",
       "      <td>excellent</td>\n",
       "      <td>NaN</td>\n",
       "      <td>gas</td>\n",
       "      <td>147191.0</td>\n",
       "      <td>automatic</td>\n",
       "      <td>SUV</td>\n",
       "      <td>blue</td>\n",
       "      <td>1.0</td>\n",
       "      <td>2019-02-15</td>\n",
       "      <td>17</td>\n",
       "    </tr>\n",
       "  </tbody>\n",
       "</table>\n",
       "</div>"
      ],
      "text/plain": [
       "   price  model_year           model  condition  cylinders fuel  odometer  \\\n",
       "0   9400      2011.0          bmw x5       good        6.0  gas  145000.0   \n",
       "1  25500         NaN      ford f-150       good        6.0  gas   88705.0   \n",
       "2   5500      2013.0  hyundai sonata   like new        4.0  gas  110000.0   \n",
       "3   1500      2003.0      ford f-150       fair        8.0  gas       NaN   \n",
       "4  14900      2017.0    chrysler 200  excellent        4.0  gas   80903.0   \n",
       "5  14990      2014.0    chrysler 300  excellent        6.0  gas   57954.0   \n",
       "6  12990      2015.0    toyota camry  excellent        4.0  gas   79212.0   \n",
       "7  15990      2013.0     honda pilot  excellent        6.0  gas  109473.0   \n",
       "8  11500      2012.0     kia sorento  excellent        4.0  gas  104174.0   \n",
       "9   9200      2008.0     honda pilot  excellent        NaN  gas  147191.0   \n",
       "\n",
       "  transmission    type paint_color  is_4wd date_posted  days_listed  \n",
       "0    automatic     SUV         NaN     1.0  2018-06-23           19  \n",
       "1    automatic  pickup       white     1.0  2018-10-19           50  \n",
       "2    automatic   sedan         red     NaN  2019-02-07           79  \n",
       "3    automatic  pickup         NaN     NaN  2019-03-22            9  \n",
       "4    automatic   sedan       black     NaN  2019-04-02           28  \n",
       "5    automatic   sedan       black     1.0  2018-06-20           15  \n",
       "6    automatic   sedan       white     NaN  2018-12-27           73  \n",
       "7    automatic     SUV       black     1.0  2019-01-07           68  \n",
       "8    automatic     SUV         NaN     1.0  2018-07-16           19  \n",
       "9    automatic     SUV        blue     1.0  2019-02-15           17  "
      ]
     },
     "execution_count": 3,
     "metadata": {},
     "output_type": "execute_result"
    }
   ],
   "source": [
    "# imprimir una muestra de datos\n",
    "vh.head(10)"
   ]
  },
  {
   "cell_type": "markdown",
   "metadata": {},
   "source": [
    "<div class=\"alert alert-block alert-success\">\n",
    "<b>Comentario del evaluador</b> <a class=\"tocSkip\"></a>\n",
    "\n",
    "Buen uso de las funciones de pandas para poder explorar los datos.\n",
    "</div>"
   ]
  },
  {
   "cell_type": "markdown",
   "metadata": {},
   "source": [
    "Tenemos los siguientes comentarios sobre las columnas:\\\n",
    "**model_year:** Podemos cambiar el tipo de datos a \"int\" ya que los años son enteros.\\\n",
    "**model:** Debemos ver si hay posibilidad de agrupar y cambiar el nombre de modelos parecidos\\\n",
    "**cylinders:** Para los valores ausentes, de acuerdo a la expericiencia los modelos con cierto tipo de caractetisticas tienden a tener los mismos cilindros, veremos si es relevante este dato para poder rellenar valores ausentes.\\\n",
    "**odometer:** En este caso de valores ausentes veremos que tan relevante es este dato, ya que rellenar estos datos puede ser contraproducente ya que los vehiculos no son usados de la misma forma o de forma regular por la gente, por lo que poner un kilometraje promedio puede afectar drasticamete el precio, pudiendo ser que el carro tenga un odometro bajo.\\\n",
    "**paint_color**: si bien el color no parece un factor importante para valores ausentes podemos sacar una estadistica de colores mas usados."
   ]
  },
  {
   "cell_type": "markdown",
   "metadata": {},
   "source": [
    "Las columnas con mayor numero de valores ausentes son **\"is_4wd\"** seguido de **\"paint_color\"** entre los cuales el factor de is_4wd si es importante ya que define gran parte del precio por la caracteristica especial, paint_color no representa un factor importante."
   ]
  },
  {
   "cell_type": "markdown",
   "metadata": {},
   "source": [
    "### Conclusiones y siguientes pasos\n",
    "\n",
    "\n",
    "Tenemos precios de automoviles los cuales se determinan por diferentes factores, en este caso tenemos la tabla con ellos, en algunos casos tenemos columnas con valores ausentes en ciertas columnas criticas como lo es odometro, ya que influye en la determinacion del precio, sin embargo, tenemos que valorar si solventarlos ya que no sabemos con exactitud el valor de este y no es algo que podamos promediar ya que influye en el precio, en cuestion de otras columnas como lo es cylinder, model year, is_4wd, podemos solventarlos de acuerdo a las filas con datos mas parecidos, paint_color no refleja mucha importancia al tener valores ausentes.\n",
    "\n",
    "\n",
    "1.- Debemos cambiar los datos de **model_year** de float a int\\, datos de **date_posted** de object a datetime\\\n",
    "2.- Comprender los valores unicos en las diferentes columnas.\\\n",
    "3.- Debemos homologar los datos en las columnas que sean necesarios en caso de haya algun error o simplemente homologarlos de forma que nos sea mejor el analisis.\\\n",
    "4.- Agruparemos las columnas de model y type para tomar una decision en rellenar valores ausentes en **is_4wd y cylinders**\\\n",
    "5.- Despues de rellenar las columnas anteriores, podemos proseguir con llenar la columna de **model_year** al tener mas informacion y clasificacion de los autos.\\\n",
    "6.-Al final tomaremos una decision sobre los datos de **odometro**, ya que es el dato que mayor puede influir en el precio de un automovil, ya que un automovil puede ser mas antiguo pero con un odometro demasiado bajo, caso contrario a un automovil reciente pero con un odometro muy alto, lo cual puede influir en el precio de venta.\n"
   ]
  },
  {
   "cell_type": "markdown",
   "metadata": {},
   "source": [
    "<div class=\"alert alert-block alert-success\">\n",
    "<b>Comentario del evaluador</b> <a class=\"tocSkip\"></a>\n",
    "\n",
    "Buenos comentarios y conclusiones basados en la exploración.\n",
    "</div>"
   ]
  },
  {
   "cell_type": "markdown",
   "metadata": {},
   "source": [
    "## Tratar los valores ausentes (si hay)"
   ]
  },
  {
   "cell_type": "code",
   "execution_count": 4,
   "metadata": {},
   "outputs": [
    {
     "name": "stdout",
     "output_type": "stream",
     "text": [
      "price               0\n",
      "model_year       3619\n",
      "model               0\n",
      "condition           0\n",
      "cylinders        5260\n",
      "fuel                0\n",
      "odometer         7892\n",
      "transmission        0\n",
      "type                0\n",
      "paint_color      9267\n",
      "is_4wd          25953\n",
      "date_posted         0\n",
      "days_listed         0\n",
      "dtype: int64\n"
     ]
    }
   ],
   "source": [
    "print(vh.isna().sum())\n"
   ]
  },
  {
   "cell_type": "code",
   "execution_count": 5,
   "metadata": {},
   "outputs": [],
   "source": [
    "def unicos_columnas(data,column):\n",
    "    return print(data[column].sort_values().unique())"
   ]
  },
  {
   "cell_type": "code",
   "execution_count": 6,
   "metadata": {},
   "outputs": [],
   "source": [
    "def rellenar_col(data,column,value):\n",
    "    data[column] = data[column].fillna(value)\n",
    "    return data[column]"
   ]
  },
  {
   "cell_type": "code",
   "execution_count": 7,
   "metadata": {},
   "outputs": [],
   "source": [
    "def corregir_valores(data,column,wrong_value,valor_nuevo):\n",
    "    data[column] = data[column].replace(wrong_value,valor_nuevo)\n",
    "    return data[column]"
   ]
  },
  {
   "cell_type": "markdown",
   "metadata": {},
   "source": [
    "<div class=\"alert alert-block alert-success\">\n",
    "<b>Comentario del evaluador</b> <a class=\"tocSkip\"></a>\n",
    "\n",
    "¡Muy bien! Definiste previamente las funciones que usarás en la limpieza de datos.\n",
    "</div>"
   ]
  },
  {
   "cell_type": "code",
   "execution_count": 8,
   "metadata": {},
   "outputs": [
    {
     "data": {
      "text/plain": [
       "array(['acura tl', 'bmw x5', 'buick enclave', 'cadillac escalade',\n",
       "       'chevrolet camaro', 'chevrolet camaro lt coupe 2d',\n",
       "       'chevrolet colorado', 'chevrolet corvette', 'chevrolet cruze',\n",
       "       'chevrolet equinox', 'chevrolet impala', 'chevrolet malibu',\n",
       "       'chevrolet silverado', 'chevrolet silverado 1500',\n",
       "       'chevrolet silverado 1500 crew', 'chevrolet silverado 2500hd',\n",
       "       'chevrolet silverado 3500hd', 'chevrolet suburban',\n",
       "       'chevrolet tahoe', 'chevrolet trailblazer', 'chevrolet traverse',\n",
       "       'chrysler 200', 'chrysler 300', 'chrysler town & country',\n",
       "       'dodge charger', 'dodge dakota', 'dodge grand caravan',\n",
       "       'ford econoline', 'ford edge', 'ford escape', 'ford expedition',\n",
       "       'ford explorer', 'ford f-150', 'ford f-250', 'ford f-250 sd',\n",
       "       'ford f-250 super duty', 'ford f-350 sd', 'ford f150',\n",
       "       'ford f150 supercrew cab xlt', 'ford f250', 'ford f250 super duty',\n",
       "       'ford f350', 'ford f350 super duty', 'ford focus', 'ford focus se',\n",
       "       'ford fusion', 'ford fusion se', 'ford mustang',\n",
       "       'ford mustang gt coupe 2d', 'ford ranger', 'ford taurus',\n",
       "       'gmc acadia', 'gmc sierra', 'gmc sierra 1500', 'gmc sierra 2500hd',\n",
       "       'gmc yukon', 'honda accord', 'honda civic', 'honda civic lx',\n",
       "       'honda cr-v', 'honda odyssey', 'honda pilot', 'hyundai elantra',\n",
       "       'hyundai santa fe', 'hyundai sonata', 'jeep cherokee',\n",
       "       'jeep grand cherokee', 'jeep grand cherokee laredo',\n",
       "       'jeep liberty', 'jeep wrangler', 'jeep wrangler unlimited',\n",
       "       'kia sorento', 'kia soul', 'mercedes-benz benze sprinter 2500',\n",
       "       'nissan altima', 'nissan frontier', 'nissan frontier crew cab sv',\n",
       "       'nissan maxima', 'nissan murano', 'nissan rogue', 'nissan sentra',\n",
       "       'nissan versa', 'ram 1500', 'ram 2500', 'ram 3500',\n",
       "       'subaru forester', 'subaru impreza', 'subaru outback',\n",
       "       'toyota 4runner', 'toyota camry', 'toyota camry le',\n",
       "       'toyota corolla', 'toyota highlander', 'toyota prius',\n",
       "       'toyota rav4', 'toyota sienna', 'toyota tacoma', 'toyota tundra',\n",
       "       'volkswagen jetta', 'volkswagen passat'], dtype=object)"
      ]
     },
     "execution_count": 8,
     "metadata": {},
     "output_type": "execute_result"
    }
   ],
   "source": [
    "vh['model'].sort_values().unique() #Los datos se encuentran correctos"
   ]
  },
  {
   "cell_type": "code",
   "execution_count": 9,
   "metadata": {},
   "outputs": [
    {
     "name": "stdout",
     "output_type": "stream",
     "text": [
      "Camaro\n",
      "                                     price\n",
      "model                                     \n",
      "chevrolet camaro              13284.961353\n",
      "chevrolet camaro lt coupe 2d  20525.321543\n",
      "Silverado\n",
      "                                      price\n",
      "model                                      \n",
      "chevrolet silverado            14223.326515\n",
      "chevrolet silverado 1500       15629.868263\n",
      "chevrolet silverado 1500 crew  29099.174917\n",
      "chevrolet silverado 2500hd     20444.582514\n",
      "chevrolet silverado 3500hd     25121.658436\n",
      "Ford\n",
      "                                    price\n",
      "model                                    \n",
      "ford f-150                   14105.922747\n",
      "ford f-250                   14281.582938\n",
      "ford f-250 sd                21891.453052\n",
      "ford f-250 super duty        18930.153527\n",
      "ford f-350 sd                22159.244068\n",
      "ford f150                    13007.450943\n",
      "ford f150 supercrew cab xlt  24877.960245\n",
      "ford f250                    16830.076696\n",
      "ford f250 super duty         15696.981081\n",
      "ford f350                    19331.200000\n",
      "ford f350 super duty         15300.373984\n",
      "ford focus                    5909.960212\n",
      "ford focus se                 6062.223404\n",
      "ford fusion                   7712.814338\n",
      "ford fusion se                8265.362460\n",
      "GMC\n",
      "                        price\n",
      "model                        \n",
      "gmc sierra       13728.569588\n",
      "gmc sierra 1500  15984.186534\n",
      "honda\n",
      "                      price\n",
      "model                      \n",
      "honda civic     6327.941104\n",
      "honda civic lx  6370.755725\n",
      "jeep\n",
      "                                price\n",
      "model                                \n",
      "jeep wrangler            15009.577301\n",
      "jeep wrangler unlimited  23264.407080\n"
     ]
    }
   ],
   "source": [
    "# Homologaremos los autos que sean el mismo modelo y puedan tener algun error de escritura o clasificacion\n",
    "# no podemos agrupar por versiones ya que cada auto es exclusivo de su version aunque su precio sea relativamente similar\n",
    "# vamos a comprobarlo con algunos grupos que son similares \n",
    "print('Camaro')\n",
    "mean_prices_camaro = vh.query('model == [\"chevrolet camaro\",\"chevrolet camaro lt coupe 2d\"]'\n",
    "                             ).pivot_table(index='model',values='price')\n",
    "print(mean_prices_camaro)\n",
    "\n",
    "print('Silverado')\n",
    "mean_prices_silverado = vh.query('model == [\"chevrolet silverado\", \"chevrolet silverado 1500\",\"chevrolet silverado 1500 crew\", \"chevrolet silverado 2500hd\",\"chevrolet silverado 3500hd\"]'\n",
    "                             ).pivot_table(index='model',values='price')\n",
    "print(mean_prices_silverado)\n",
    "\n",
    "print('Ford')\n",
    "mean_prices_ford = vh.query('model == [\"ford f-150\", \"ford f-250\", \"ford f-250 sd\",\"ford f-250 super duty\", \"ford f-350 sd\", \"ford f150\",\"ford f150 supercrew cab xlt\", \"ford f250\", \"ford f250 super duty\",\"ford f350\", \"ford f350 super duty\", \"ford focus\", \"ford focus se\",\"ford fusion\", \"ford fusion se\"]'\n",
    "                             ).pivot_table(index='model',values='price')\n",
    "print(mean_prices_ford)\n",
    "\n",
    "print('GMC')\n",
    "mean_prices_gmc = vh.query('model == [\"gmc sierra\", \"gmc sierra 1500\", \"gmc sierra 2500hd2\"]'\n",
    "                             ).pivot_table(index='model',values='price')\n",
    "print(mean_prices_gmc)\n",
    "\n",
    "print('honda')\n",
    "mean_prices_honda = vh.query('model == [\"honda civic\", \"honda civic lx\"]'\n",
    "                             ).pivot_table(index='model',values='price')\n",
    "print(mean_prices_honda)\n",
    "\n",
    "print('jeep')\n",
    "mean_prices_honda = vh.query('model == [\"jeep wrangler\", \"jeep wrangler unlimited\"]'\n",
    "                             ).pivot_table(index='model',values='price')\n",
    "print(mean_prices_honda)"
   ]
  },
  {
   "cell_type": "code",
   "execution_count": 10,
   "metadata": {},
   "outputs": [
    {
     "name": "stdout",
     "output_type": "stream",
     "text": [
      "['acura tl' 'bmw x5' 'buick enclave' 'cadillac escalade'\n",
      " 'chevrolet camaro' 'chevrolet camaro lt coupe 2d' 'chevrolet colorado'\n",
      " 'chevrolet corvette' 'chevrolet cruze' 'chevrolet equinox'\n",
      " 'chevrolet impala' 'chevrolet malibu' 'chevrolet silverado'\n",
      " 'chevrolet silverado 1500' 'chevrolet silverado 1500 crew'\n",
      " 'chevrolet silverado 2500hd' 'chevrolet silverado 3500hd'\n",
      " 'chevrolet suburban' 'chevrolet tahoe' 'chevrolet trailblazer'\n",
      " 'chevrolet traverse' 'chrysler 200' 'chrysler 300'\n",
      " 'chrysler town & country' 'dodge charger' 'dodge dakota'\n",
      " 'dodge grand caravan' 'ford econoline' 'ford edge' 'ford escape'\n",
      " 'ford expedition' 'ford explorer' 'ford f150'\n",
      " 'ford f150 supercrew cab xlt' 'ford f250' 'ford f250 super duty'\n",
      " 'ford f350' 'ford f350 super duty' 'ford focus' 'ford focus se'\n",
      " 'ford fusion' 'ford fusion se' 'ford mustang' 'ford mustang gt coupe 2d'\n",
      " 'ford ranger' 'ford taurus' 'gmc acadia' 'gmc sierra' 'gmc sierra 1500'\n",
      " 'gmc sierra 2500hd' 'gmc yukon' 'honda accord' 'honda civic'\n",
      " 'honda civic lx' 'honda cr-v' 'honda odyssey' 'honda pilot'\n",
      " 'hyundai elantra' 'hyundai santa fe' 'hyundai sonata' 'jeep cherokee'\n",
      " 'jeep grand cherokee' 'jeep grand cherokee laredo' 'jeep liberty'\n",
      " 'jeep wrangler' 'jeep wrangler unlimited' 'kia sorento' 'kia soul'\n",
      " 'mercedes-benz benze sprinter 2500' 'nissan altima' 'nissan frontier'\n",
      " 'nissan frontier crew cab sv' 'nissan maxima' 'nissan murano'\n",
      " 'nissan rogue' 'nissan sentra' 'nissan versa' 'ram 1500' 'ram 2500'\n",
      " 'ram 3500' 'subaru forester' 'subaru impreza' 'subaru outback'\n",
      " 'toyota 4runner' 'toyota camry' 'toyota camry le' 'toyota corolla'\n",
      " 'toyota highlander' 'toyota prius' 'toyota rav4' 'toyota sienna'\n",
      " 'toyota tacoma' 'toyota tundra' 'volkswagen jetta' 'volkswagen passat']\n",
      "95\n"
     ]
    }
   ],
   "source": [
    "# Homologaremos los valores parecidos\n",
    "corregir_valores(vh,'model','ford f-150','ford f150')\n",
    "corregir_valores(vh,'model','ford f-250','ford f250')\n",
    "corregir_valores(vh,'model',['ford f-250 sd','ford f-250 super duty'],'ford f250 super duty')\n",
    "corregir_valores(vh,'model','ford f-350 sd','ford f350 super duty')\n",
    "\n",
    "print(vh['model'].sort_values().unique()) #Los datos se encuentran correctos y corregidos, sigamos con las columnas\n",
    "print(len(vh['model'].sort_values().unique()))"
   ]
  },
  {
   "cell_type": "markdown",
   "metadata": {},
   "source": [
    "<div class=\"alert alert-block alert-warning\">\n",
    "<b>Comentario del evaluador</b> <a class=\"tocSkip\"></a>\n",
    "\n",
    "¡Muy bien! Aunque en estos casos sería mejor homologar en una columna nueva, a veces es importante saber características específicas de los modelos distintos de los autos y sería bueno no perder esa información.\n",
    "</div>"
   ]
  },
  {
   "cell_type": "code",
   "execution_count": 11,
   "metadata": {},
   "outputs": [
    {
     "name": "stdout",
     "output_type": "stream",
     "text": [
      "0.0    25953\n",
      "1.0    25572\n",
      "Name: is_4wd, dtype: int64\n",
      "51525\n"
     ]
    }
   ],
   "source": [
    "# Tenemos 25953 valores ausentes en \"is_4wd\", sin embargo, aqui solo hay dos valores posibles 1,0, si los valores que tenemos son\n",
    "# 1 osea verdadero, los demas valores ausentes los podemos considerar como 0, ya que suena logico a que si el auto no comparte \n",
    "# esta caracteristica quisieron dejar vacio el campo\n",
    "rellenar_col(vh,'is_4wd',0)\n",
    "\n",
    "print(vh['is_4wd'].value_counts())\n",
    "print(len(vh['is_4wd']))\n",
    "#Se han corregido y se tienen todos los valores\n"
   ]
  },
  {
   "cell_type": "markdown",
   "metadata": {},
   "source": [
    "<div class=\"alert alert-block alert-success\">\n",
    "<b>Comentario del evaluador</b> <a class=\"tocSkip\"></a>\n",
    "\n",
    "¡Excelente! Completaste correctamente los datos faltantes en esta columna de booleanos.\n",
    "</div>"
   ]
  },
  {
   "cell_type": "code",
   "execution_count": 12,
   "metadata": {},
   "outputs": [
    {
     "data": {
      "text/plain": [
       "array(['black', 'blue', 'brown', 'custom', 'green', 'grey', 'orange',\n",
       "       'purple', 'red', 'silver', 'white', 'yellow', nan], dtype=object)"
      ]
     },
     "execution_count": 12,
     "metadata": {},
     "output_type": "execute_result"
    }
   ],
   "source": [
    "# Ahora revisaremos los valores de paint_color\n",
    "vh['paint_color'].sort_values().unique()"
   ]
  },
  {
   "cell_type": "code",
   "execution_count": 13,
   "metadata": {},
   "outputs": [
    {
     "name": "stdout",
     "output_type": "stream",
     "text": [
      "['black' 'blue' 'brown' 'custom' 'green' 'grey' 'orange' 'purple' 'red'\n",
      " 'silver' 'white' 'yellow']\n",
      "custom    10420\n",
      "white     10029\n",
      "black      7692\n",
      "silver     6244\n",
      "grey       5037\n",
      "blue       4475\n",
      "red        4421\n",
      "green      1396\n",
      "brown      1223\n",
      "yellow      255\n",
      "orange      231\n",
      "purple      102\n",
      "Name: paint_color, dtype: int64\n",
      "51525\n"
     ]
    }
   ],
   "source": [
    "# Ya que el color pareceria no afectar el precio ya que no es una caracteristica mecanica y tenemos un color llamado 'custom'\n",
    "# rellenaremos los valores ausentes con este valor, ya que colocar un valor como 'other' seria agregar otra categoria que de \n",
    "# igual forma haria referencia a otro color.\n",
    "rellenar_col(vh,'paint_color','custom')\n",
    "print(vh['paint_color'].sort_values().unique())\n",
    "print(vh['paint_color'].value_counts())\n",
    "print(len(vh['paint_color']))\n",
    "\n",
    "# Hemos corregido y rellenado los valores en esta columna"
   ]
  },
  {
   "cell_type": "markdown",
   "metadata": {},
   "source": [
    "<div class=\"alert alert-block alert-success\">\n",
    "<b>Comentario del evaluador</b> <a class=\"tocSkip\"></a>\n",
    "\n",
    "Bien, en casos como estos es útil rellenar con esta clase de valores.\n",
    "</div>"
   ]
  },
  {
   "cell_type": "code",
   "execution_count": 14,
   "metadata": {},
   "outputs": [
    {
     "name": "stdout",
     "output_type": "stream",
     "text": [
      "[ 3.  4.  5.  6.  8. 10. 12. nan]\n",
      "       price  model_year                 model  condition  cylinders    fuel  \\\n",
      "12615  18000      2001.0              ram 2500  excellent       12.0  diesel   \n",
      "44117  20000      2004.0  ford f350 super duty  excellent       12.0  diesel   \n",
      "\n",
      "       odometer transmission   type paint_color  is_4wd date_posted  \\\n",
      "12615  167500.0       manual  truck      silver     1.0  2018-08-05   \n",
      "44117       NaN    automatic  truck        grey     1.0  2019-03-29   \n",
      "\n",
      "       days_listed  \n",
      "12615           22  \n",
      "44117           24  \n"
     ]
    }
   ],
   "source": [
    "# Revisaremos la columna 'cylinder'\n",
    "unicos_columnas(vh,'cylinders')\n",
    "print(vh[vh['cylinders'] == 12])\n"
   ]
  },
  {
   "cell_type": "code",
   "execution_count": 15,
   "metadata": {},
   "outputs": [
    {
     "name": "stdout",
     "output_type": "stream",
     "text": [
      "['acura tl' 'bmw x5' 'buick enclave' 'cadillac escalade'\n",
      " 'chevrolet camaro' 'chevrolet camaro lt coupe 2d' 'chevrolet colorado'\n",
      " 'chevrolet corvette' 'chevrolet cruze' 'chevrolet equinox'\n",
      " 'chevrolet impala' 'chevrolet malibu' 'chevrolet silverado'\n",
      " 'chevrolet silverado 1500' 'chevrolet silverado 1500 crew'\n",
      " 'chevrolet silverado 2500hd' 'chevrolet silverado 3500hd'\n",
      " 'chevrolet suburban' 'chevrolet tahoe' 'chevrolet trailblazer'\n",
      " 'chevrolet traverse' 'chrysler 200' 'chrysler 300'\n",
      " 'chrysler town & country' 'dodge charger' 'dodge dakota'\n",
      " 'dodge grand caravan' 'ford econoline' 'ford edge' 'ford escape'\n",
      " 'ford expedition' 'ford explorer' 'ford f150'\n",
      " 'ford f150 supercrew cab xlt' 'ford f250' 'ford f250 super duty'\n",
      " 'ford f350' 'ford f350 super duty' 'ford focus' 'ford focus se'\n",
      " 'ford fusion' 'ford fusion se' 'ford mustang' 'ford mustang gt coupe 2d'\n",
      " 'ford ranger' 'ford taurus' 'gmc acadia' 'gmc sierra' 'gmc sierra 1500'\n",
      " 'gmc sierra 2500hd' 'gmc yukon' 'honda accord' 'honda civic'\n",
      " 'honda civic lx' 'honda cr-v' 'honda odyssey' 'honda pilot'\n",
      " 'hyundai elantra' 'hyundai santa fe' 'hyundai sonata' 'jeep cherokee'\n",
      " 'jeep grand cherokee' 'jeep grand cherokee laredo' 'jeep liberty'\n",
      " 'jeep wrangler' 'jeep wrangler unlimited' 'kia sorento' 'kia soul'\n",
      " 'mercedes-benz benze sprinter 2500' 'nissan altima' 'nissan frontier'\n",
      " 'nissan frontier crew cab sv' 'nissan maxima' 'nissan murano'\n",
      " 'nissan rogue' 'nissan sentra' 'nissan versa' 'ram 1500' 'ram 2500'\n",
      " 'ram 3500' 'subaru forester' 'subaru impreza' 'subaru outback'\n",
      " 'toyota 4runner' 'toyota camry' 'toyota camry le' 'toyota corolla'\n",
      " 'toyota highlander' 'toyota prius' 'toyota rav4' 'toyota sienna'\n",
      " 'toyota tacoma' 'toyota tundra' 'volkswagen jetta' 'volkswagen passat']\n",
      "95\n"
     ]
    }
   ],
   "source": [
    "# Revisaremos los valores ausentes de acuerdo a un auto que se tenga de la misma categoria y bucaremos en la base de datos si \n",
    "# se tiene un auto similiar\n",
    "print(vh[vh['cylinders'].isna()]['model'].sort_values().unique())\n",
    "print(len(vh[vh['cylinders'].isna()]['model'].sort_values().unique()))\n",
    "\n"
   ]
  },
  {
   "cell_type": "code",
   "execution_count": 16,
   "metadata": {},
   "outputs": [
    {
     "name": "stdout",
     "output_type": "stream",
     "text": [
      "[ 3.  4.  5.  6.  8. 10. 12.]\n",
      "                             condition  date_posted  days_listed  fuel  \\\n",
      "model             cylinders                                              \n",
      "acura tl          4.0                3            3            3     3   \n",
      "                  6.0              208          208          208   208   \n",
      "bmw x5            6.0              200          200          200   200   \n",
      "                  8.0               51           51           51    51   \n",
      "buick enclave     4.0                1            1            1     1   \n",
      "...                                ...          ...          ...   ...   \n",
      "volkswagen jetta  5.0              123          123          123   123   \n",
      "                  6.0                4            4            4     4   \n",
      "volkswagen passat 4.0              243          243          243   243   \n",
      "                  5.0               43           43           43    43   \n",
      "                  6.0               30           30           30    30   \n",
      "\n",
      "                             is_4wd  model_year  odometer  paint_color  price  \\\n",
      "model             cylinders                                                     \n",
      "acura tl          4.0             3           3         3            3      3   \n",
      "                  6.0           208         197       175          208    208   \n",
      "bmw x5            6.0           200         186       168          200    200   \n",
      "                  8.0            51          45        46           51     51   \n",
      "buick enclave     4.0             1           1         0            1      1   \n",
      "...                             ...         ...       ...          ...    ...   \n",
      "volkswagen jetta  5.0           123         110       111          123    123   \n",
      "                  6.0             4           4         3            4      4   \n",
      "volkswagen passat 4.0           243         224       208          243    243   \n",
      "                  5.0            43          40        39           43     43   \n",
      "                  6.0            30          27        25           30     30   \n",
      "\n",
      "                             transmission  type  \n",
      "model             cylinders                      \n",
      "acura tl          4.0                   3     3  \n",
      "                  6.0                 208   208  \n",
      "bmw x5            6.0                 200   200  \n",
      "                  8.0                  51    51  \n",
      "buick enclave     4.0                   1     1  \n",
      "...                                   ...   ...  \n",
      "volkswagen jetta  5.0                 123   123  \n",
      "                  6.0                   4     4  \n",
      "volkswagen passat 4.0                 243   243  \n",
      "                  5.0                  43    43  \n",
      "                  6.0                  30    30  \n",
      "\n",
      "[292 rows x 11 columns]\n"
     ]
    }
   ],
   "source": [
    "vh_cylinders = vh\n",
    "vh_cylinders = vh_cylinders.dropna(subset=['cylinders'])\n",
    "unicos_columnas(vh_cylinders,'cylinders')\n",
    "print(vh_cylinders.pivot_table(index=['model','cylinders'],aggfunc='count'))"
   ]
  },
  {
   "cell_type": "code",
   "execution_count": 17,
   "metadata": {},
   "outputs": [
    {
     "name": "stdout",
     "output_type": "stream",
     "text": [
      "      price  model_year                    model  condition  cylinders fuel  \\\n",
      "0      9400      2011.0                   bmw x5       good        6.0  gas   \n",
      "1     25500         NaN                ford f150       good        6.0  gas   \n",
      "2      5500      2013.0           hyundai sonata   like new        4.0  gas   \n",
      "3      1500      2003.0                ford f150       fair        8.0  gas   \n",
      "4     14900      2017.0             chrysler 200  excellent        4.0  gas   \n",
      "...     ...         ...                      ...        ...        ...  ...   \n",
      "7201   3200      2003.0     ford f350 super duty       good       10.0  gas   \n",
      "7202   4500      1995.0                 ram 3500  excellent       10.0  gas   \n",
      "7203   3900      2003.0  chrysler town & country  excellent        6.0  gas   \n",
      "7204   5980      2010.0           subaru impreza  excellent        4.0  gas   \n",
      "7205  11750      2015.0             honda accord  excellent        4.0  gas   \n",
      "\n",
      "      odometer transmission       type paint_color  is_4wd date_posted  \\\n",
      "0     145000.0    automatic        SUV      custom     1.0  2018-06-23   \n",
      "1      88705.0    automatic     pickup       white     1.0  2018-10-19   \n",
      "2     110000.0    automatic      sedan         red     0.0  2019-02-07   \n",
      "3          NaN    automatic     pickup      custom     0.0  2019-03-22   \n",
      "4      80903.0    automatic      sedan       black     0.0  2019-04-02   \n",
      "...        ...          ...        ...         ...     ...         ...   \n",
      "7201  200000.0    automatic      truck         red     1.0  2019-03-01   \n",
      "7202  163000.0    automatic     pickup       black     1.0  2018-05-14   \n",
      "7203       NaN    automatic        van      silver     0.0  2019-01-16   \n",
      "7204  121778.0       manual  hatchback       white     1.0  2019-01-10   \n",
      "7205       NaN    automatic      coupe      custom     0.0  2018-11-24   \n",
      "\n",
      "      days_listed  \n",
      "0              19  \n",
      "1              50  \n",
      "2              79  \n",
      "3               9  \n",
      "4              28  \n",
      "...           ...  \n",
      "7201           73  \n",
      "7202           75  \n",
      "7203           64  \n",
      "7204            8  \n",
      "7205           89  \n",
      "\n",
      "[7206 rows x 13 columns]\n",
      "[ 3.  4.  5.  6.  8. 10. 12.]\n"
     ]
    }
   ],
   "source": [
    "vh_cylinders = vh_cylinders.drop_duplicates(subset=['model','transmission','fuel','type','is_4wd','model_year']).reset_index(drop=True)\n",
    "print(vh_cylinders)\n",
    "unicos_columnas(vh_cylinders,'cylinders')"
   ]
  },
  {
   "cell_type": "code",
   "execution_count": 18,
   "metadata": {},
   "outputs": [
    {
     "data": {
      "text/html": [
       "<div>\n",
       "<style scoped>\n",
       "    .dataframe tbody tr th:only-of-type {\n",
       "        vertical-align: middle;\n",
       "    }\n",
       "\n",
       "    .dataframe tbody tr th {\n",
       "        vertical-align: top;\n",
       "    }\n",
       "\n",
       "    .dataframe thead th {\n",
       "        text-align: right;\n",
       "    }\n",
       "</style>\n",
       "<table border=\"1\" class=\"dataframe\">\n",
       "  <thead>\n",
       "    <tr style=\"text-align: right;\">\n",
       "      <th></th>\n",
       "      <th>price</th>\n",
       "      <th>model_year</th>\n",
       "      <th>model</th>\n",
       "      <th>condition</th>\n",
       "      <th>cylinders</th>\n",
       "      <th>fuel</th>\n",
       "      <th>odometer</th>\n",
       "      <th>transmission</th>\n",
       "      <th>type</th>\n",
       "      <th>paint_color</th>\n",
       "      <th>is_4wd</th>\n",
       "      <th>date_posted</th>\n",
       "      <th>days_listed</th>\n",
       "    </tr>\n",
       "  </thead>\n",
       "  <tbody>\n",
       "    <tr>\n",
       "      <th>9</th>\n",
       "      <td>9200</td>\n",
       "      <td>2008.0</td>\n",
       "      <td>honda pilot</td>\n",
       "      <td>excellent</td>\n",
       "      <td>NaN</td>\n",
       "      <td>gas</td>\n",
       "      <td>147191.0</td>\n",
       "      <td>automatic</td>\n",
       "      <td>SUV</td>\n",
       "      <td>blue</td>\n",
       "      <td>1.0</td>\n",
       "      <td>2019-02-15</td>\n",
       "      <td>17</td>\n",
       "    </tr>\n",
       "    <tr>\n",
       "      <th>36</th>\n",
       "      <td>10499</td>\n",
       "      <td>2013.0</td>\n",
       "      <td>chrysler 300</td>\n",
       "      <td>good</td>\n",
       "      <td>NaN</td>\n",
       "      <td>gas</td>\n",
       "      <td>88042.0</td>\n",
       "      <td>automatic</td>\n",
       "      <td>sedan</td>\n",
       "      <td>custom</td>\n",
       "      <td>0.0</td>\n",
       "      <td>2018-05-05</td>\n",
       "      <td>22</td>\n",
       "    </tr>\n",
       "    <tr>\n",
       "      <th>37</th>\n",
       "      <td>7500</td>\n",
       "      <td>2005.0</td>\n",
       "      <td>toyota tacoma</td>\n",
       "      <td>good</td>\n",
       "      <td>NaN</td>\n",
       "      <td>gas</td>\n",
       "      <td>160000.0</td>\n",
       "      <td>automatic</td>\n",
       "      <td>pickup</td>\n",
       "      <td>custom</td>\n",
       "      <td>0.0</td>\n",
       "      <td>2018-07-22</td>\n",
       "      <td>44</td>\n",
       "    </tr>\n",
       "    <tr>\n",
       "      <th>59</th>\n",
       "      <td>5200</td>\n",
       "      <td>2006.0</td>\n",
       "      <td>toyota highlander</td>\n",
       "      <td>good</td>\n",
       "      <td>NaN</td>\n",
       "      <td>gas</td>\n",
       "      <td>186000.0</td>\n",
       "      <td>automatic</td>\n",
       "      <td>SUV</td>\n",
       "      <td>green</td>\n",
       "      <td>0.0</td>\n",
       "      <td>2018-12-20</td>\n",
       "      <td>2</td>\n",
       "    </tr>\n",
       "    <tr>\n",
       "      <th>63</th>\n",
       "      <td>30000</td>\n",
       "      <td>1966.0</td>\n",
       "      <td>ford mustang</td>\n",
       "      <td>excellent</td>\n",
       "      <td>NaN</td>\n",
       "      <td>gas</td>\n",
       "      <td>51000.0</td>\n",
       "      <td>manual</td>\n",
       "      <td>convertible</td>\n",
       "      <td>red</td>\n",
       "      <td>0.0</td>\n",
       "      <td>2019-01-23</td>\n",
       "      <td>17</td>\n",
       "    </tr>\n",
       "    <tr>\n",
       "      <th>...</th>\n",
       "      <td>...</td>\n",
       "      <td>...</td>\n",
       "      <td>...</td>\n",
       "      <td>...</td>\n",
       "      <td>...</td>\n",
       "      <td>...</td>\n",
       "      <td>...</td>\n",
       "      <td>...</td>\n",
       "      <td>...</td>\n",
       "      <td>...</td>\n",
       "      <td>...</td>\n",
       "      <td>...</td>\n",
       "      <td>...</td>\n",
       "    </tr>\n",
       "    <tr>\n",
       "      <th>51429</th>\n",
       "      <td>3250</td>\n",
       "      <td>2004.0</td>\n",
       "      <td>toyota camry</td>\n",
       "      <td>good</td>\n",
       "      <td>NaN</td>\n",
       "      <td>gas</td>\n",
       "      <td>179412.0</td>\n",
       "      <td>automatic</td>\n",
       "      <td>sedan</td>\n",
       "      <td>custom</td>\n",
       "      <td>0.0</td>\n",
       "      <td>2018-07-02</td>\n",
       "      <td>25</td>\n",
       "    </tr>\n",
       "    <tr>\n",
       "      <th>51442</th>\n",
       "      <td>28990</td>\n",
       "      <td>2018.0</td>\n",
       "      <td>ford f150</td>\n",
       "      <td>excellent</td>\n",
       "      <td>NaN</td>\n",
       "      <td>gas</td>\n",
       "      <td>10152.0</td>\n",
       "      <td>automatic</td>\n",
       "      <td>truck</td>\n",
       "      <td>white</td>\n",
       "      <td>1.0</td>\n",
       "      <td>2018-06-13</td>\n",
       "      <td>47</td>\n",
       "    </tr>\n",
       "    <tr>\n",
       "      <th>51460</th>\n",
       "      <td>5995</td>\n",
       "      <td>2007.0</td>\n",
       "      <td>ford fusion</td>\n",
       "      <td>excellent</td>\n",
       "      <td>NaN</td>\n",
       "      <td>gas</td>\n",
       "      <td>88977.0</td>\n",
       "      <td>manual</td>\n",
       "      <td>sedan</td>\n",
       "      <td>silver</td>\n",
       "      <td>0.0</td>\n",
       "      <td>2019-03-27</td>\n",
       "      <td>66</td>\n",
       "    </tr>\n",
       "    <tr>\n",
       "      <th>51477</th>\n",
       "      <td>6499</td>\n",
       "      <td>2007.0</td>\n",
       "      <td>acura tl</td>\n",
       "      <td>good</td>\n",
       "      <td>NaN</td>\n",
       "      <td>gas</td>\n",
       "      <td>112119.0</td>\n",
       "      <td>automatic</td>\n",
       "      <td>sedan</td>\n",
       "      <td>white</td>\n",
       "      <td>0.0</td>\n",
       "      <td>2018-06-22</td>\n",
       "      <td>28</td>\n",
       "    </tr>\n",
       "    <tr>\n",
       "      <th>51486</th>\n",
       "      <td>5895</td>\n",
       "      <td>2009.0</td>\n",
       "      <td>hyundai santa fe</td>\n",
       "      <td>excellent</td>\n",
       "      <td>NaN</td>\n",
       "      <td>gas</td>\n",
       "      <td>NaN</td>\n",
       "      <td>automatic</td>\n",
       "      <td>other</td>\n",
       "      <td>blue</td>\n",
       "      <td>0.0</td>\n",
       "      <td>2018-06-30</td>\n",
       "      <td>44</td>\n",
       "    </tr>\n",
       "  </tbody>\n",
       "</table>\n",
       "<p>5260 rows × 13 columns</p>\n",
       "</div>"
      ],
      "text/plain": [
       "       price  model_year              model  condition  cylinders fuel  \\\n",
       "9       9200      2008.0        honda pilot  excellent        NaN  gas   \n",
       "36     10499      2013.0       chrysler 300       good        NaN  gas   \n",
       "37      7500      2005.0      toyota tacoma       good        NaN  gas   \n",
       "59      5200      2006.0  toyota highlander       good        NaN  gas   \n",
       "63     30000      1966.0       ford mustang  excellent        NaN  gas   \n",
       "...      ...         ...                ...        ...        ...  ...   \n",
       "51429   3250      2004.0       toyota camry       good        NaN  gas   \n",
       "51442  28990      2018.0          ford f150  excellent        NaN  gas   \n",
       "51460   5995      2007.0        ford fusion  excellent        NaN  gas   \n",
       "51477   6499      2007.0           acura tl       good        NaN  gas   \n",
       "51486   5895      2009.0   hyundai santa fe  excellent        NaN  gas   \n",
       "\n",
       "       odometer transmission         type paint_color  is_4wd date_posted  \\\n",
       "9      147191.0    automatic          SUV        blue     1.0  2019-02-15   \n",
       "36      88042.0    automatic        sedan      custom     0.0  2018-05-05   \n",
       "37     160000.0    automatic       pickup      custom     0.0  2018-07-22   \n",
       "59     186000.0    automatic          SUV       green     0.0  2018-12-20   \n",
       "63      51000.0       manual  convertible         red     0.0  2019-01-23   \n",
       "...         ...          ...          ...         ...     ...         ...   \n",
       "51429  179412.0    automatic        sedan      custom     0.0  2018-07-02   \n",
       "51442   10152.0    automatic        truck       white     1.0  2018-06-13   \n",
       "51460   88977.0       manual        sedan      silver     0.0  2019-03-27   \n",
       "51477  112119.0    automatic        sedan       white     0.0  2018-06-22   \n",
       "51486       NaN    automatic        other        blue     0.0  2018-06-30   \n",
       "\n",
       "       days_listed  \n",
       "9               17  \n",
       "36              22  \n",
       "37              44  \n",
       "59               2  \n",
       "63              17  \n",
       "...            ...  \n",
       "51429           25  \n",
       "51442           47  \n",
       "51460           66  \n",
       "51477           28  \n",
       "51486           44  \n",
       "\n",
       "[5260 rows x 13 columns]"
      ]
     },
     "execution_count": 18,
     "metadata": {},
     "output_type": "execute_result"
    }
   ],
   "source": [
    "vh[vh['cylinders'].isna()]"
   ]
  },
  {
   "cell_type": "code",
   "execution_count": 19,
   "metadata": {},
   "outputs": [],
   "source": [
    "#Arreglaremos la columna de cylinders ahora que comprobamos los valores unicos por cada categoria de model-fuel-transmission-cylinders\n",
    "# por lo que aaplicando el metodo merge podremos arreglar la columna.\n",
    "vh[vh['cylinders'].isna()] = vh.merge(vh_cylinders,on='model',how='right')"
   ]
  },
  {
   "cell_type": "code",
   "execution_count": 20,
   "metadata": {},
   "outputs": [
    {
     "name": "stdout",
     "output_type": "stream",
     "text": [
      "<class 'pandas.core.frame.DataFrame'>\n",
      "RangeIndex: 51525 entries, 0 to 51524\n",
      "Data columns (total 13 columns):\n",
      " #   Column        Non-Null Count  Dtype  \n",
      "---  ------        --------------  -----  \n",
      " 0   price         51525 non-null  int64  \n",
      " 1   model_year    47906 non-null  float64\n",
      " 2   model         51525 non-null  object \n",
      " 3   condition     51525 non-null  object \n",
      " 4   cylinders     50997 non-null  float64\n",
      " 5   fuel          51525 non-null  object \n",
      " 6   odometer      43656 non-null  float64\n",
      " 7   transmission  51525 non-null  object \n",
      " 8   type          51525 non-null  object \n",
      " 9   paint_color   51525 non-null  object \n",
      " 10  is_4wd        51525 non-null  float64\n",
      " 11  date_posted   51525 non-null  object \n",
      " 12  days_listed   51525 non-null  int64  \n",
      "dtypes: float64(4), int64(2), object(7)\n",
      "memory usage: 5.1+ MB\n"
     ]
    },
    {
     "data": {
      "text/plain": [
       "8.0     17913\n",
       "6.0     17091\n",
       "4.0     15081\n",
       "10.0      586\n",
       "5.0       285\n",
       "3.0        39\n",
       "12.0        2\n",
       "Name: cylinders, dtype: int64"
      ]
     },
     "execution_count": 20,
     "metadata": {},
     "output_type": "execute_result"
    }
   ],
   "source": [
    "vh.info()\n",
    "vh['cylinders'].value_counts()"
   ]
  },
  {
   "cell_type": "code",
   "execution_count": 21,
   "metadata": {},
   "outputs": [
    {
     "name": "stdout",
     "output_type": "stream",
     "text": [
      "<class 'pandas.core.frame.DataFrame'>\n",
      "RangeIndex: 51525 entries, 0 to 51524\n",
      "Data columns (total 13 columns):\n",
      " #   Column        Non-Null Count  Dtype  \n",
      "---  ------        --------------  -----  \n",
      " 0   price         51525 non-null  int64  \n",
      " 1   model_year    47910 non-null  float64\n",
      " 2   model         51525 non-null  object \n",
      " 3   condition     51525 non-null  object \n",
      " 4   cylinders     51514 non-null  float64\n",
      " 5   fuel          51525 non-null  object \n",
      " 6   odometer      43657 non-null  float64\n",
      " 7   transmission  51525 non-null  object \n",
      " 8   type          51525 non-null  object \n",
      " 9   paint_color   51525 non-null  object \n",
      " 10  is_4wd        51525 non-null  float64\n",
      " 11  date_posted   51525 non-null  object \n",
      " 12  days_listed   51525 non-null  int64  \n",
      "dtypes: float64(4), int64(2), object(7)\n",
      "memory usage: 5.1+ MB\n"
     ]
    },
    {
     "data": {
      "text/plain": [
       "8.0     18141\n",
       "6.0     17253\n",
       "4.0     15202\n",
       "10.0      590\n",
       "5.0       287\n",
       "3.0        39\n",
       "12.0        2\n",
       "Name: cylinders, dtype: int64"
      ]
     },
     "execution_count": 21,
     "metadata": {},
     "output_type": "execute_result"
    }
   ],
   "source": [
    "vh_cylinders = vh\n",
    "vh_cylinders = vh_cylinders.dropna(subset=['cylinders'])\n",
    "vh_cylinders = vh_cylinders.drop_duplicates(subset=['model','transmission','fuel','type','is_4wd','model_year']).reset_index(drop=True)\n",
    "vh[vh['cylinders'].isna()] = vh.merge(vh_cylinders,on='model',how='right')\n",
    "vh.info()\n",
    "vh['cylinders'].value_counts()"
   ]
  },
  {
   "cell_type": "code",
   "execution_count": 22,
   "metadata": {},
   "outputs": [
    {
     "name": "stdout",
     "output_type": "stream",
     "text": [
      "<class 'pandas.core.frame.DataFrame'>\n",
      "RangeIndex: 51525 entries, 0 to 51524\n",
      "Data columns (total 13 columns):\n",
      " #   Column        Non-Null Count  Dtype  \n",
      "---  ------        --------------  -----  \n",
      " 0   price         51525 non-null  int64  \n",
      " 1   model_year    47910 non-null  float64\n",
      " 2   model         51525 non-null  object \n",
      " 3   condition     51525 non-null  object \n",
      " 4   cylinders     51514 non-null  float64\n",
      " 5   fuel          51525 non-null  object \n",
      " 6   odometer      43657 non-null  float64\n",
      " 7   transmission  51525 non-null  object \n",
      " 8   type          51525 non-null  object \n",
      " 9   paint_color   51525 non-null  object \n",
      " 10  is_4wd        51525 non-null  float64\n",
      " 11  date_posted   51525 non-null  object \n",
      " 12  days_listed   51525 non-null  int64  \n",
      "dtypes: float64(4), int64(2), object(7)\n",
      "memory usage: 5.1+ MB\n"
     ]
    },
    {
     "data": {
      "text/plain": [
       "8.0     18141\n",
       "6.0     17253\n",
       "4.0     15202\n",
       "10.0      590\n",
       "5.0       287\n",
       "3.0        39\n",
       "12.0        2\n",
       "Name: cylinders, dtype: int64"
      ]
     },
     "execution_count": 22,
     "metadata": {},
     "output_type": "execute_result"
    }
   ],
   "source": [
    "vh.info()\n",
    "vh['cylinders'].value_counts()"
   ]
  },
  {
   "cell_type": "code",
   "execution_count": 23,
   "metadata": {},
   "outputs": [
    {
     "name": "stdout",
     "output_type": "stream",
     "text": [
      "<class 'pandas.core.frame.DataFrame'>\n",
      "RangeIndex: 51525 entries, 0 to 51524\n",
      "Data columns (total 13 columns):\n",
      " #   Column        Non-Null Count  Dtype  \n",
      "---  ------        --------------  -----  \n",
      " 0   price         51525 non-null  int64  \n",
      " 1   model_year    47910 non-null  float64\n",
      " 2   model         51525 non-null  object \n",
      " 3   condition     51525 non-null  object \n",
      " 4   cylinders     51525 non-null  float64\n",
      " 5   fuel          51525 non-null  object \n",
      " 6   odometer      43658 non-null  float64\n",
      " 7   transmission  51525 non-null  object \n",
      " 8   type          51525 non-null  object \n",
      " 9   paint_color   51525 non-null  object \n",
      " 10  is_4wd        51525 non-null  float64\n",
      " 11  date_posted   51525 non-null  object \n",
      " 12  days_listed   51525 non-null  int64  \n",
      "dtypes: float64(4), int64(2), object(7)\n",
      "memory usage: 5.1+ MB\n"
     ]
    },
    {
     "data": {
      "text/plain": [
       "8.0     18149\n",
       "6.0     17254\n",
       "4.0     15204\n",
       "10.0      590\n",
       "5.0       287\n",
       "3.0        39\n",
       "12.0        2\n",
       "Name: cylinders, dtype: int64"
      ]
     },
     "execution_count": 23,
     "metadata": {},
     "output_type": "execute_result"
    }
   ],
   "source": [
    "vh_cylinders = vh\n",
    "vh_cylinders = vh_cylinders.dropna(subset=['cylinders'])\n",
    "vh_cylinders = vh_cylinders.drop_duplicates(subset=['model','transmission','fuel','type','is_4wd','model_year']).reset_index(drop=True)\n",
    "vh[vh['cylinders'].isna()] = vh.merge(vh_cylinders,on='model',how='right')\n",
    "vh.info()\n",
    "vh['cylinders'].value_counts()"
   ]
  },
  {
   "cell_type": "code",
   "execution_count": 24,
   "metadata": {},
   "outputs": [
    {
     "data": {
      "text/plain": [
       "price              0\n",
       "model_year      3615\n",
       "model              0\n",
       "condition          0\n",
       "cylinders          0\n",
       "fuel               0\n",
       "odometer        7867\n",
       "transmission       0\n",
       "type               0\n",
       "paint_color        0\n",
       "is_4wd             0\n",
       "date_posted        0\n",
       "days_listed        0\n",
       "dtype: int64"
      ]
     },
     "execution_count": 24,
     "metadata": {},
     "output_type": "execute_result"
    }
   ],
   "source": [
    "# Tenemos ya la columna cylinders correcta \n",
    "vh.isna().sum()\n"
   ]
  },
  {
   "cell_type": "markdown",
   "metadata": {},
   "source": [
    "<div class=\"alert alert-block alert-success\">\n",
    "<b>Comentario del evaluador</b> <a class=\"tocSkip\"></a>\n",
    "\n",
    "Completaste correctamente la columna de cilindros.\n",
    "</div>"
   ]
  },
  {
   "cell_type": "code",
   "execution_count": 25,
   "metadata": {},
   "outputs": [
    {
     "name": "stdout",
     "output_type": "stream",
     "text": [
      "[1908. 1929. 1936. 1948. 1955. 1958. 1960. 1961. 1962. 1963. 1964. 1965.\n",
      " 1966. 1967. 1968. 1969. 1970. 1971. 1972. 1973. 1974. 1975. 1976. 1977.\n",
      " 1978. 1979. 1980. 1981. 1982. 1983. 1984. 1985. 1986. 1987. 1988. 1989.\n",
      " 1990. 1991. 1992. 1993. 1994. 1995. 1996. 1997. 1998. 1999. 2000. 2001.\n",
      " 2002. 2003. 2004. 2005. 2006. 2007. 2008. 2009. 2010. 2011. 2012. 2013.\n",
      " 2014. 2015. 2016. 2017. 2018. 2019.]\n",
      "66\n",
      "                              condition  cylinders  date_posted  days_listed  \\\n",
      "model             model_year                                                   \n",
      "acura tl          1999.0              2          2            2            2   \n",
      "                  2001.0              6          6            6            6   \n",
      "                  2002.0              2          2            2            2   \n",
      "                  2003.0              9          9            9            9   \n",
      "                  2004.0             15         15           15           15   \n",
      "...                                 ...        ...          ...          ...   \n",
      "volkswagen passat 2014.0             42         42           42           42   \n",
      "                  2015.0             24         24           24           24   \n",
      "                  2016.0              9          9            9            9   \n",
      "                  2017.0              9          9            9            9   \n",
      "                  2018.0              1          1            1            1   \n",
      "\n",
      "                              fuel  is_4wd  odometer  paint_color  price  \\\n",
      "model             model_year                                               \n",
      "acura tl          1999.0         2       2         1            2      2   \n",
      "                  2001.0         6       6         6            6      6   \n",
      "                  2002.0         2       2         1            2      2   \n",
      "                  2003.0         9       9         9            9      9   \n",
      "                  2004.0        15      15        14           15     15   \n",
      "...                            ...     ...       ...          ...    ...   \n",
      "volkswagen passat 2014.0        42      42        33           42     42   \n",
      "                  2015.0        24      24        21           24     24   \n",
      "                  2016.0         9       9         7            9      9   \n",
      "                  2017.0         9       9         8            9      9   \n",
      "                  2018.0         1       1         1            1      1   \n",
      "\n",
      "                              transmission  type  \n",
      "model             model_year                      \n",
      "acura tl          1999.0                 2     2  \n",
      "                  2001.0                 6     6  \n",
      "                  2002.0                 2     2  \n",
      "                  2003.0                 9     9  \n",
      "                  2004.0                15    15  \n",
      "...                                    ...   ...  \n",
      "volkswagen passat 2014.0                42    42  \n",
      "                  2015.0                24    24  \n",
      "                  2016.0                 9     9  \n",
      "                  2017.0                 9     9  \n",
      "                  2018.0                 1     1  \n",
      "\n",
      "[2082 rows x 11 columns]\n"
     ]
    }
   ],
   "source": [
    "# Para la columna de model_year usaremos el mismo metodo qye utilizamos para encontrar los valores de cylinders,como el año del \n",
    "# modelo puede variar utilizaremos las caracteristicas unicas (cylinders, fuel,transmission,type,is_4wd) de los autos \n",
    "# que no cuentan con valor ausente en este campo para tener un valor aproximado del año.\n",
    "vh_model_year = vh\n",
    "vh_model_year = vh_model_year.dropna(subset=['model_year'])\n",
    "unicos_columnas(vh_model_year,'model_year')\n",
    "print(len(vh_model_year['model_year'].unique()))\n",
    "print(vh_model_year.pivot_table(index=['model','model_year'],aggfunc='count'))"
   ]
  },
  {
   "cell_type": "code",
   "execution_count": 26,
   "metadata": {},
   "outputs": [
    {
     "name": "stdout",
     "output_type": "stream",
     "text": [
      "      price  model_year                    model  condition  cylinders fuel  \\\n",
      "0      9400      2011.0                   bmw x5       good        6.0  gas   \n",
      "1      5500      2013.0           hyundai sonata   like new        4.0  gas   \n",
      "2      1500      2003.0                ford f150       fair        8.0  gas   \n",
      "3     14900      2017.0             chrysler 200  excellent        4.0  gas   \n",
      "4     14990      2014.0             chrysler 300  excellent        6.0  gas   \n",
      "...     ...         ...                      ...        ...        ...  ...   \n",
      "8015   4500      1995.0                 ram 3500  excellent       10.0  gas   \n",
      "8016   3900      2003.0  chrysler town & country  excellent        6.0  gas   \n",
      "8017  16900      2016.0            ford explorer  excellent        4.0  gas   \n",
      "8018   5980      2010.0           subaru impreza  excellent        4.0  gas   \n",
      "8019  11750      2015.0             honda accord  excellent        4.0  gas   \n",
      "\n",
      "      odometer transmission       type paint_color  is_4wd date_posted  \\\n",
      "0     145000.0    automatic        SUV      custom     1.0  2018-06-23   \n",
      "1     110000.0    automatic      sedan         red     0.0  2019-02-07   \n",
      "2          NaN    automatic     pickup      custom     0.0  2019-03-22   \n",
      "3      80903.0    automatic      sedan       black     0.0  2019-04-02   \n",
      "4      57954.0    automatic      sedan       black     1.0  2018-06-20   \n",
      "...        ...          ...        ...         ...     ...         ...   \n",
      "8015  163000.0    automatic     pickup       black     1.0  2018-05-14   \n",
      "8016       NaN    automatic        van      silver     0.0  2019-01-16   \n",
      "8017   51200.0    automatic        SUV       white     0.0  2018-07-11   \n",
      "8018  121778.0       manual  hatchback       white     1.0  2019-01-10   \n",
      "8019       NaN    automatic      coupe      custom     0.0  2018-11-24   \n",
      "\n",
      "      days_listed  \n",
      "0              19  \n",
      "1              79  \n",
      "2               9  \n",
      "3              28  \n",
      "4              15  \n",
      "...           ...  \n",
      "8015           75  \n",
      "8016           64  \n",
      "8017           90  \n",
      "8018            8  \n",
      "8019           89  \n",
      "\n",
      "[8020 rows x 13 columns]\n",
      "[1908. 1929. 1936. 1948. 1955. 1958. 1960. 1961. 1962. 1963. 1964. 1965.\n",
      " 1966. 1967. 1968. 1969. 1970. 1971. 1972. 1973. 1974. 1975. 1976. 1977.\n",
      " 1978. 1979. 1980. 1981. 1982. 1983. 1984. 1985. 1986. 1987. 1988. 1989.\n",
      " 1990. 1991. 1992. 1993. 1994. 1995. 1996. 1997. 1998. 1999. 2000. 2001.\n",
      " 2002. 2003. 2004. 2005. 2006. 2007. 2008. 2009. 2010. 2011. 2012. 2013.\n",
      " 2014. 2015. 2016. 2017. 2018. 2019.]\n",
      "66\n"
     ]
    }
   ],
   "source": [
    "vh_model_year = vh_model_year.drop_duplicates(subset=['model_year','model','cylinders','transmission','fuel','type','is_4wd']).reset_index(drop=True)\n",
    "print(vh_model_year)\n",
    "unicos_columnas(vh_model_year,'model_year')\n",
    "print(len(vh_model_year['model_year'].unique()))"
   ]
  },
  {
   "cell_type": "code",
   "execution_count": 27,
   "metadata": {},
   "outputs": [
    {
     "data": {
      "text/html": [
       "<div>\n",
       "<style scoped>\n",
       "    .dataframe tbody tr th:only-of-type {\n",
       "        vertical-align: middle;\n",
       "    }\n",
       "\n",
       "    .dataframe tbody tr th {\n",
       "        vertical-align: top;\n",
       "    }\n",
       "\n",
       "    .dataframe thead th {\n",
       "        text-align: right;\n",
       "    }\n",
       "</style>\n",
       "<table border=\"1\" class=\"dataframe\">\n",
       "  <thead>\n",
       "    <tr style=\"text-align: right;\">\n",
       "      <th></th>\n",
       "      <th>price</th>\n",
       "      <th>model_year</th>\n",
       "      <th>model</th>\n",
       "      <th>condition</th>\n",
       "      <th>cylinders</th>\n",
       "      <th>fuel</th>\n",
       "      <th>odometer</th>\n",
       "      <th>transmission</th>\n",
       "      <th>type</th>\n",
       "      <th>paint_color</th>\n",
       "      <th>is_4wd</th>\n",
       "      <th>date_posted</th>\n",
       "      <th>days_listed</th>\n",
       "    </tr>\n",
       "  </thead>\n",
       "  <tbody>\n",
       "    <tr>\n",
       "      <th>1</th>\n",
       "      <td>25500</td>\n",
       "      <td>NaN</td>\n",
       "      <td>ford f150</td>\n",
       "      <td>good</td>\n",
       "      <td>6.0</td>\n",
       "      <td>gas</td>\n",
       "      <td>88705.0</td>\n",
       "      <td>automatic</td>\n",
       "      <td>pickup</td>\n",
       "      <td>white</td>\n",
       "      <td>1.0</td>\n",
       "      <td>2018-10-19</td>\n",
       "      <td>50</td>\n",
       "    </tr>\n",
       "    <tr>\n",
       "      <th>9</th>\n",
       "      <td>9950</td>\n",
       "      <td>NaN</td>\n",
       "      <td>bmw x5</td>\n",
       "      <td>excellent</td>\n",
       "      <td>6.0</td>\n",
       "      <td>gas</td>\n",
       "      <td>NaN</td>\n",
       "      <td>automatic</td>\n",
       "      <td>SUV</td>\n",
       "      <td>silver</td>\n",
       "      <td>1.0</td>\n",
       "      <td>2018-07-05</td>\n",
       "      <td>8</td>\n",
       "    </tr>\n",
       "    <tr>\n",
       "      <th>20</th>\n",
       "      <td>6990</td>\n",
       "      <td>NaN</td>\n",
       "      <td>chevrolet tahoe</td>\n",
       "      <td>excellent</td>\n",
       "      <td>8.0</td>\n",
       "      <td>gas</td>\n",
       "      <td>147485.0</td>\n",
       "      <td>automatic</td>\n",
       "      <td>SUV</td>\n",
       "      <td>silver</td>\n",
       "      <td>1.0</td>\n",
       "      <td>2018-08-05</td>\n",
       "      <td>28</td>\n",
       "    </tr>\n",
       "    <tr>\n",
       "      <th>65</th>\n",
       "      <td>12800</td>\n",
       "      <td>NaN</td>\n",
       "      <td>ford f150</td>\n",
       "      <td>excellent</td>\n",
       "      <td>6.0</td>\n",
       "      <td>gas</td>\n",
       "      <td>108500.0</td>\n",
       "      <td>automatic</td>\n",
       "      <td>pickup</td>\n",
       "      <td>white</td>\n",
       "      <td>0.0</td>\n",
       "      <td>2018-09-23</td>\n",
       "      <td>15</td>\n",
       "    </tr>\n",
       "    <tr>\n",
       "      <th>69</th>\n",
       "      <td>7800</td>\n",
       "      <td>NaN</td>\n",
       "      <td>ford f150</td>\n",
       "      <td>like new</td>\n",
       "      <td>8.0</td>\n",
       "      <td>gas</td>\n",
       "      <td>97510.0</td>\n",
       "      <td>automatic</td>\n",
       "      <td>truck</td>\n",
       "      <td>white</td>\n",
       "      <td>1.0</td>\n",
       "      <td>2019-02-20</td>\n",
       "      <td>39</td>\n",
       "    </tr>\n",
       "    <tr>\n",
       "      <th>...</th>\n",
       "      <td>...</td>\n",
       "      <td>...</td>\n",
       "      <td>...</td>\n",
       "      <td>...</td>\n",
       "      <td>...</td>\n",
       "      <td>...</td>\n",
       "      <td>...</td>\n",
       "      <td>...</td>\n",
       "      <td>...</td>\n",
       "      <td>...</td>\n",
       "      <td>...</td>\n",
       "      <td>...</td>\n",
       "      <td>...</td>\n",
       "    </tr>\n",
       "    <tr>\n",
       "      <th>51464</th>\n",
       "      <td>8890</td>\n",
       "      <td>NaN</td>\n",
       "      <td>ford f250 super duty</td>\n",
       "      <td>good</td>\n",
       "      <td>8.0</td>\n",
       "      <td>gas</td>\n",
       "      <td>135778.0</td>\n",
       "      <td>automatic</td>\n",
       "      <td>truck</td>\n",
       "      <td>red</td>\n",
       "      <td>1.0</td>\n",
       "      <td>2018-11-28</td>\n",
       "      <td>24</td>\n",
       "    </tr>\n",
       "    <tr>\n",
       "      <th>51465</th>\n",
       "      <td>34595</td>\n",
       "      <td>NaN</td>\n",
       "      <td>gmc yukon</td>\n",
       "      <td>excellent</td>\n",
       "      <td>8.0</td>\n",
       "      <td>gas</td>\n",
       "      <td>86456.0</td>\n",
       "      <td>automatic</td>\n",
       "      <td>SUV</td>\n",
       "      <td>silver</td>\n",
       "      <td>1.0</td>\n",
       "      <td>2019-04-18</td>\n",
       "      <td>13</td>\n",
       "    </tr>\n",
       "    <tr>\n",
       "      <th>51487</th>\n",
       "      <td>1495</td>\n",
       "      <td>NaN</td>\n",
       "      <td>ford f150</td>\n",
       "      <td>fair</td>\n",
       "      <td>6.0</td>\n",
       "      <td>gas</td>\n",
       "      <td>15804.0</td>\n",
       "      <td>manual</td>\n",
       "      <td>truck</td>\n",
       "      <td>white</td>\n",
       "      <td>1.0</td>\n",
       "      <td>2018-09-18</td>\n",
       "      <td>56</td>\n",
       "    </tr>\n",
       "    <tr>\n",
       "      <th>51488</th>\n",
       "      <td>21900</td>\n",
       "      <td>NaN</td>\n",
       "      <td>chevrolet silverado 3500hd</td>\n",
       "      <td>excellent</td>\n",
       "      <td>8.0</td>\n",
       "      <td>diesel</td>\n",
       "      <td>203000.0</td>\n",
       "      <td>automatic</td>\n",
       "      <td>truck</td>\n",
       "      <td>white</td>\n",
       "      <td>1.0</td>\n",
       "      <td>2018-12-27</td>\n",
       "      <td>37</td>\n",
       "    </tr>\n",
       "    <tr>\n",
       "      <th>51508</th>\n",
       "      <td>4950</td>\n",
       "      <td>NaN</td>\n",
       "      <td>chrysler town &amp; country</td>\n",
       "      <td>excellent</td>\n",
       "      <td>6.0</td>\n",
       "      <td>gas</td>\n",
       "      <td>150000.0</td>\n",
       "      <td>automatic</td>\n",
       "      <td>mini-van</td>\n",
       "      <td>silver</td>\n",
       "      <td>0.0</td>\n",
       "      <td>2018-06-30</td>\n",
       "      <td>48</td>\n",
       "    </tr>\n",
       "  </tbody>\n",
       "</table>\n",
       "<p>3615 rows × 13 columns</p>\n",
       "</div>"
      ],
      "text/plain": [
       "       price  model_year                       model  condition  cylinders  \\\n",
       "1      25500         NaN                   ford f150       good        6.0   \n",
       "9       9950         NaN                      bmw x5  excellent        6.0   \n",
       "20      6990         NaN             chevrolet tahoe  excellent        8.0   \n",
       "65     12800         NaN                   ford f150  excellent        6.0   \n",
       "69      7800         NaN                   ford f150   like new        8.0   \n",
       "...      ...         ...                         ...        ...        ...   \n",
       "51464   8890         NaN        ford f250 super duty       good        8.0   \n",
       "51465  34595         NaN                   gmc yukon  excellent        8.0   \n",
       "51487   1495         NaN                   ford f150       fair        6.0   \n",
       "51488  21900         NaN  chevrolet silverado 3500hd  excellent        8.0   \n",
       "51508   4950         NaN     chrysler town & country  excellent        6.0   \n",
       "\n",
       "         fuel  odometer transmission      type paint_color  is_4wd  \\\n",
       "1         gas   88705.0    automatic    pickup       white     1.0   \n",
       "9         gas       NaN    automatic       SUV      silver     1.0   \n",
       "20        gas  147485.0    automatic       SUV      silver     1.0   \n",
       "65        gas  108500.0    automatic    pickup       white     0.0   \n",
       "69        gas   97510.0    automatic     truck       white     1.0   \n",
       "...       ...       ...          ...       ...         ...     ...   \n",
       "51464     gas  135778.0    automatic     truck         red     1.0   \n",
       "51465     gas   86456.0    automatic       SUV      silver     1.0   \n",
       "51487     gas   15804.0       manual     truck       white     1.0   \n",
       "51488  diesel  203000.0    automatic     truck       white     1.0   \n",
       "51508     gas  150000.0    automatic  mini-van      silver     0.0   \n",
       "\n",
       "      date_posted  days_listed  \n",
       "1      2018-10-19           50  \n",
       "9      2018-07-05            8  \n",
       "20     2018-08-05           28  \n",
       "65     2018-09-23           15  \n",
       "69     2019-02-20           39  \n",
       "...           ...          ...  \n",
       "51464  2018-11-28           24  \n",
       "51465  2019-04-18           13  \n",
       "51487  2018-09-18           56  \n",
       "51488  2018-12-27           37  \n",
       "51508  2018-06-30           48  \n",
       "\n",
       "[3615 rows x 13 columns]"
      ]
     },
     "execution_count": 27,
     "metadata": {},
     "output_type": "execute_result"
    }
   ],
   "source": [
    "vh[vh['model_year'].isna()]"
   ]
  },
  {
   "cell_type": "code",
   "execution_count": 28,
   "metadata": {},
   "outputs": [],
   "source": [
    "#Arreglaremos la columna de cylinders ahora que comprobamos los valores unicos por cada categoria de model-fuel-transmission-cylinders\n",
    "# por lo que aaplicando el metodo merge podremos arreglar la columna.\n",
    "vh[vh['model_year'].isna()] = vh.merge(vh_model_year,on='model',how='right')"
   ]
  },
  {
   "cell_type": "code",
   "execution_count": 29,
   "metadata": {},
   "outputs": [
    {
     "name": "stdout",
     "output_type": "stream",
     "text": [
      "<class 'pandas.core.frame.DataFrame'>\n",
      "RangeIndex: 51525 entries, 0 to 51524\n",
      "Data columns (total 13 columns):\n",
      " #   Column        Non-Null Count  Dtype  \n",
      "---  ------        --------------  -----  \n",
      " 0   price         51525 non-null  int64  \n",
      " 1   model_year    51286 non-null  float64\n",
      " 2   model         51525 non-null  object \n",
      " 3   condition     51525 non-null  object \n",
      " 4   cylinders     51525 non-null  float64\n",
      " 5   fuel          51525 non-null  object \n",
      " 6   odometer      43662 non-null  float64\n",
      " 7   transmission  51525 non-null  object \n",
      " 8   type          51525 non-null  object \n",
      " 9   paint_color   51525 non-null  object \n",
      " 10  is_4wd        51525 non-null  float64\n",
      " 11  date_posted   51525 non-null  object \n",
      " 12  days_listed   51525 non-null  int64  \n",
      "dtypes: float64(4), int64(2), object(7)\n",
      "memory usage: 5.1+ MB\n"
     ]
    },
    {
     "data": {
      "text/plain": [
       "2013.0    3917\n",
       "2014.0    3736\n",
       "2012.0    3650\n",
       "2011.0    3621\n",
       "2015.0    3595\n",
       "          ... \n",
       "1955.0       1\n",
       "1961.0       1\n",
       "1929.0       1\n",
       "1948.0       1\n",
       "1936.0       1\n",
       "Name: model_year, Length: 66, dtype: int64"
      ]
     },
     "execution_count": 29,
     "metadata": {},
     "output_type": "execute_result"
    }
   ],
   "source": [
    "vh.info()\n",
    "vh['model_year'].value_counts()"
   ]
  },
  {
   "cell_type": "code",
   "execution_count": 30,
   "metadata": {},
   "outputs": [],
   "source": [
    "vh_model_year = vh\n",
    "vh_model_year = vh_model_year.dropna(subset=['model_year'])\n",
    "vh_model_year = vh_model_year.drop_duplicates(subset=['model_year','model','cylinders','transmission','fuel','type','is_4wd']).reset_index(drop=True)\n",
    "vh[vh['model_year'].isna()] = vh.merge(vh_model_year,on='model',how='right')"
   ]
  },
  {
   "cell_type": "code",
   "execution_count": 31,
   "metadata": {},
   "outputs": [
    {
     "name": "stdout",
     "output_type": "stream",
     "text": [
      "<class 'pandas.core.frame.DataFrame'>\n",
      "RangeIndex: 51525 entries, 0 to 51524\n",
      "Data columns (total 13 columns):\n",
      " #   Column        Non-Null Count  Dtype  \n",
      "---  ------        --------------  -----  \n",
      " 0   price         51525 non-null  int64  \n",
      " 1   model_year    51521 non-null  float64\n",
      " 2   model         51525 non-null  object \n",
      " 3   condition     51525 non-null  object \n",
      " 4   cylinders     51525 non-null  float64\n",
      " 5   fuel          51525 non-null  object \n",
      " 6   odometer      43668 non-null  float64\n",
      " 7   transmission  51525 non-null  object \n",
      " 8   type          51525 non-null  object \n",
      " 9   paint_color   51525 non-null  object \n",
      " 10  is_4wd        51525 non-null  float64\n",
      " 11  date_posted   51525 non-null  object \n",
      " 12  days_listed   51525 non-null  int64  \n",
      "dtypes: float64(4), int64(2), object(7)\n",
      "memory usage: 5.1+ MB\n"
     ]
    },
    {
     "data": {
      "text/plain": [
       "2013.0    3939\n",
       "2014.0    3758\n",
       "2012.0    3667\n",
       "2011.0    3635\n",
       "2015.0    3614\n",
       "          ... \n",
       "1955.0       1\n",
       "1961.0       1\n",
       "1929.0       1\n",
       "1948.0       1\n",
       "1936.0       1\n",
       "Name: model_year, Length: 66, dtype: int64"
      ]
     },
     "execution_count": 31,
     "metadata": {},
     "output_type": "execute_result"
    }
   ],
   "source": [
    "vh.info()\n",
    "vh['model_year'].value_counts()"
   ]
  },
  {
   "cell_type": "code",
   "execution_count": 32,
   "metadata": {
    "scrolled": true
   },
   "outputs": [
    {
     "name": "stdout",
     "output_type": "stream",
     "text": [
      "       price  model_year                model  condition  cylinders    fuel  \\\n",
      "1       9950         NaN               bmw x5  excellent        6.0     gas   \n",
      "16149  15000         NaN             ram 1500       good        8.0     gas   \n",
      "23649  18995         NaN  chevrolet silverado  excellent        8.0  diesel   \n",
      "33501   7500         NaN            ford f150  excellent        8.0     gas   \n",
      "\n",
      "       odometer transmission    type paint_color  is_4wd date_posted  \\\n",
      "1           NaN    automatic     SUV      silver     1.0  2018-07-05   \n",
      "16149   97000.0    automatic  pickup        blue     0.0  2018-08-12   \n",
      "23649  104000.0    automatic  pickup        grey     1.0  2018-06-25   \n",
      "33501  140732.0    automatic   truck      custom     0.0  2019-04-17   \n",
      "\n",
      "       days_listed  \n",
      "1                8  \n",
      "16149           36  \n",
      "23649           57  \n",
      "33501           35  \n"
     ]
    }
   ],
   "source": [
    "# Veamos los valores ausentes que solo son 4\n",
    "print(vh[vh['model_year'].isna()])\n"
   ]
  },
  {
   "cell_type": "code",
   "execution_count": 33,
   "metadata": {},
   "outputs": [
    {
     "name": "stdout",
     "output_type": "stream",
     "text": [
      "2010.0\n",
      "2012.0\n",
      "2008.0\n",
      "2011.0\n"
     ]
    }
   ],
   "source": [
    "# Veamos si no hay un valor parecido a estos para poder solventarlos\n",
    "print(vh[vh['model'] == 'bmw x5']['model_year'].median())\n",
    "print(vh[vh['model'] == 'ram 1500']['model_year'].median())\n",
    "print(vh[vh['model'] == 'chevrolet silverado']['model_year'].median())\n",
    "print(vh[vh['model'] == 'ford f150']['model_year'].median())"
   ]
  },
  {
   "cell_type": "code",
   "execution_count": 34,
   "metadata": {},
   "outputs": [],
   "source": [
    "# Tomaremos un valor de la lista ya que 4 datos no representan gran porcentaje en una muestra de mas de 50mil autos\n",
    "vh['model_year'] = vh['model_year'].fillna(2010)"
   ]
  },
  {
   "cell_type": "code",
   "execution_count": 35,
   "metadata": {},
   "outputs": [
    {
     "name": "stdout",
     "output_type": "stream",
     "text": [
      "<class 'pandas.core.frame.DataFrame'>\n",
      "RangeIndex: 51525 entries, 0 to 51524\n",
      "Data columns (total 13 columns):\n",
      " #   Column        Non-Null Count  Dtype  \n",
      "---  ------        --------------  -----  \n",
      " 0   price         51525 non-null  int64  \n",
      " 1   model_year    51525 non-null  float64\n",
      " 2   model         51525 non-null  object \n",
      " 3   condition     51525 non-null  object \n",
      " 4   cylinders     51525 non-null  float64\n",
      " 5   fuel          51525 non-null  object \n",
      " 6   odometer      43668 non-null  float64\n",
      " 7   transmission  51525 non-null  object \n",
      " 8   type          51525 non-null  object \n",
      " 9   paint_color   51525 non-null  object \n",
      " 10  is_4wd        51525 non-null  float64\n",
      " 11  date_posted   51525 non-null  object \n",
      " 12  days_listed   51525 non-null  int64  \n",
      "dtypes: float64(4), int64(2), object(7)\n",
      "memory usage: 5.1+ MB\n"
     ]
    },
    {
     "data": {
      "text/plain": [
       "2013.0    3939\n",
       "2014.0    3758\n",
       "2012.0    3667\n",
       "2011.0    3635\n",
       "2015.0    3614\n",
       "          ... \n",
       "1955.0       1\n",
       "1961.0       1\n",
       "1929.0       1\n",
       "1948.0       1\n",
       "1936.0       1\n",
       "Name: model_year, Length: 66, dtype: int64"
      ]
     },
     "execution_count": 35,
     "metadata": {},
     "output_type": "execute_result"
    }
   ],
   "source": [
    "vh.info()\n",
    "vh['model_year'].value_counts()"
   ]
  },
  {
   "cell_type": "markdown",
   "metadata": {},
   "source": [
    "<div class=\"alert alert-block alert-success\">\n",
    "<b>Comentario del evaluador</b> <a class=\"tocSkip\"></a>\n",
    "\n",
    "Bien completaste correctamente esta columna.\n",
    "</div>"
   ]
  },
  {
   "cell_type": "code",
   "execution_count": 36,
   "metadata": {},
   "outputs": [
    {
     "name": "stdout",
     "output_type": "stream",
     "text": [
      "990000.0\n",
      "0.0\n",
      "115088.78219749016\n",
      "112698.0\n"
     ]
    }
   ],
   "source": [
    "# El odometro es algo que es dificil de predecir en caso de no tenerlo ya que cada persona varia el uso que le da al auto,entonce\n",
    "# veremos que es mas apto si llenarlos con una media o una mediana\n",
    "print(vh['odometer'].max())\n",
    "print(vh['odometer'].min())\n",
    "print(vh['odometer'].mean())\n",
    "print(vh['odometer'].median())\n"
   ]
  },
  {
   "cell_type": "code",
   "execution_count": 37,
   "metadata": {},
   "outputs": [],
   "source": [
    "# Usaremos la media ya que al no saber el valor correcto usaremos el mas alto entre media y mediana\n",
    "mean_odometer = vh['odometer'].mean()\n",
    "vh['odometer'] = vh['odometer'].fillna(mean_odometer)\n"
   ]
  },
  {
   "cell_type": "code",
   "execution_count": 38,
   "metadata": {},
   "outputs": [
    {
     "name": "stdout",
     "output_type": "stream",
     "text": [
      "<class 'pandas.core.frame.DataFrame'>\n",
      "RangeIndex: 51525 entries, 0 to 51524\n",
      "Data columns (total 13 columns):\n",
      " #   Column        Non-Null Count  Dtype  \n",
      "---  ------        --------------  -----  \n",
      " 0   price         51525 non-null  int64  \n",
      " 1   model_year    51525 non-null  float64\n",
      " 2   model         51525 non-null  object \n",
      " 3   condition     51525 non-null  object \n",
      " 4   cylinders     51525 non-null  float64\n",
      " 5   fuel          51525 non-null  object \n",
      " 6   odometer      51525 non-null  float64\n",
      " 7   transmission  51525 non-null  object \n",
      " 8   type          51525 non-null  object \n",
      " 9   paint_color   51525 non-null  object \n",
      " 10  is_4wd        51525 non-null  float64\n",
      " 11  date_posted   51525 non-null  object \n",
      " 12  days_listed   51525 non-null  int64  \n",
      "dtypes: float64(4), int64(2), object(7)\n",
      "memory usage: 5.1+ MB\n"
     ]
    }
   ],
   "source": [
    "vh.info()"
   ]
  },
  {
   "cell_type": "markdown",
   "metadata": {},
   "source": [
    "<div class=\"alert alert-block alert-success\">\n",
    "<b>Comentario del evaluador</b> <a class=\"tocSkip\"></a>\n",
    "\n",
    "Bien.\n",
    "</div>"
   ]
  },
  {
   "cell_type": "code",
   "execution_count": 39,
   "metadata": {},
   "outputs": [
    {
     "name": "stdout",
     "output_type": "stream",
     "text": [
      "['excellent' 'fair' 'good' 'like new' 'new' 'salvage']\n"
     ]
    }
   ],
   "source": [
    "unicos_columnas(vh,'condition') #Los datos se encuentran correctos"
   ]
  },
  {
   "cell_type": "code",
   "execution_count": 40,
   "metadata": {},
   "outputs": [
    {
     "name": "stdout",
     "output_type": "stream",
     "text": [
      "['diesel' 'electric' 'gas' 'hybrid' 'other']\n"
     ]
    }
   ],
   "source": [
    "unicos_columnas(vh,'fuel') #Los datos se encuentran correctos"
   ]
  },
  {
   "cell_type": "code",
   "execution_count": 41,
   "metadata": {},
   "outputs": [
    {
     "name": "stdout",
     "output_type": "stream",
     "text": [
      "['automatic' 'manual' 'other']\n"
     ]
    }
   ],
   "source": [
    "unicos_columnas(vh,'transmission') #Los datos se encuentran correctos"
   ]
  },
  {
   "cell_type": "code",
   "execution_count": 42,
   "metadata": {},
   "outputs": [
    {
     "name": "stdout",
     "output_type": "stream",
     "text": [
      "['SUV' 'bus' 'convertible' 'coupe' 'hatchback' 'mini-van' 'offroad'\n",
      " 'other' 'pickup' 'sedan' 'truck' 'van' 'wagon']\n"
     ]
    }
   ],
   "source": [
    "unicos_columnas(vh,'type') #Los datos se encuentran correctos, talves podriamos agrupar ciertos tipos como van-wagon y truck-pickup para reducir la muestra"
   ]
  },
  {
   "cell_type": "code",
   "execution_count": 43,
   "metadata": {},
   "outputs": [
    {
     "name": "stdout",
     "output_type": "stream",
     "text": [
      "<class 'pandas.core.frame.DataFrame'>\n",
      "RangeIndex: 51525 entries, 0 to 51524\n",
      "Data columns (total 13 columns):\n",
      " #   Column        Non-Null Count  Dtype  \n",
      "---  ------        --------------  -----  \n",
      " 0   price         51525 non-null  int64  \n",
      " 1   model_year    51525 non-null  float64\n",
      " 2   model         51525 non-null  object \n",
      " 3   condition     51525 non-null  object \n",
      " 4   cylinders     51525 non-null  float64\n",
      " 5   fuel          51525 non-null  object \n",
      " 6   odometer      51525 non-null  float64\n",
      " 7   transmission  51525 non-null  object \n",
      " 8   type          51525 non-null  object \n",
      " 9   paint_color   51525 non-null  object \n",
      " 10  is_4wd        51525 non-null  float64\n",
      " 11  date_posted   51525 non-null  object \n",
      " 12  days_listed   51525 non-null  int64  \n",
      "dtypes: float64(4), int64(2), object(7)\n",
      "memory usage: 5.1+ MB\n"
     ]
    }
   ],
   "source": [
    "vh.info()"
   ]
  },
  {
   "cell_type": "markdown",
   "metadata": {},
   "source": [
    "## Corregir los tipos de datos"
   ]
  },
  {
   "cell_type": "code",
   "execution_count": 44,
   "metadata": {},
   "outputs": [],
   "source": [
    "# Cambiaremos la columna model_year a int\n",
    "vh['model_year'] = vh['model_year'].astype('int')"
   ]
  },
  {
   "cell_type": "code",
   "execution_count": 45,
   "metadata": {},
   "outputs": [],
   "source": [
    "# Cambiaremos la columna cylinders a int\n",
    "vh['cylinders'] = vh['cylinders'].astype('int')"
   ]
  },
  {
   "cell_type": "code",
   "execution_count": 46,
   "metadata": {},
   "outputs": [],
   "source": [
    "# Cambiaremos la columna is_4wd a int\n",
    "vh['is_4wd'] = vh['is_4wd'].astype('int')"
   ]
  },
  {
   "cell_type": "code",
   "execution_count": 47,
   "metadata": {},
   "outputs": [],
   "source": [
    "# Cambiaremos la columna is_4wd a int\n",
    "vh['odometer'] = vh['odometer'].astype('int')"
   ]
  },
  {
   "cell_type": "code",
   "execution_count": 48,
   "metadata": {},
   "outputs": [],
   "source": [
    "# Cambiaremos la columna date_posted a datetime\n",
    "vh['date_posted'] = pd.to_datetime(vh['date_posted'],format='%Y-%m-%d')"
   ]
  },
  {
   "cell_type": "code",
   "execution_count": 49,
   "metadata": {},
   "outputs": [
    {
     "name": "stdout",
     "output_type": "stream",
     "text": [
      "<class 'pandas.core.frame.DataFrame'>\n",
      "RangeIndex: 51525 entries, 0 to 51524\n",
      "Data columns (total 13 columns):\n",
      " #   Column        Non-Null Count  Dtype         \n",
      "---  ------        --------------  -----         \n",
      " 0   price         51525 non-null  int64         \n",
      " 1   model_year    51525 non-null  int64         \n",
      " 2   model         51525 non-null  object        \n",
      " 3   condition     51525 non-null  object        \n",
      " 4   cylinders     51525 non-null  int64         \n",
      " 5   fuel          51525 non-null  object        \n",
      " 6   odometer      51525 non-null  int64         \n",
      " 7   transmission  51525 non-null  object        \n",
      " 8   type          51525 non-null  object        \n",
      " 9   paint_color   51525 non-null  object        \n",
      " 10  is_4wd        51525 non-null  int64         \n",
      " 11  date_posted   51525 non-null  datetime64[ns]\n",
      " 12  days_listed   51525 non-null  int64         \n",
      "dtypes: datetime64[ns](1), int64(6), object(6)\n",
      "memory usage: 5.1+ MB\n"
     ]
    }
   ],
   "source": [
    "# Verificamos que nuestros tipos de datos estan correctos\n",
    "vh.info()"
   ]
  },
  {
   "cell_type": "markdown",
   "metadata": {},
   "source": [
    "<div class=\"alert alert-block alert-success\">\n",
    "<b>Comentario del evaluador</b> <a class=\"tocSkip\"></a>\n",
    "\n",
    "Se corrigieron correctamente los tipos de datos.\n",
    "</div>"
   ]
  },
  {
   "cell_type": "markdown",
   "metadata": {},
   "source": [
    "## Enriquecer datos"
   ]
  },
  {
   "cell_type": "code",
   "execution_count": 50,
   "metadata": {},
   "outputs": [
    {
     "data": {
      "text/html": [
       "<div>\n",
       "<style scoped>\n",
       "    .dataframe tbody tr th:only-of-type {\n",
       "        vertical-align: middle;\n",
       "    }\n",
       "\n",
       "    .dataframe tbody tr th {\n",
       "        vertical-align: top;\n",
       "    }\n",
       "\n",
       "    .dataframe thead th {\n",
       "        text-align: right;\n",
       "    }\n",
       "</style>\n",
       "<table border=\"1\" class=\"dataframe\">\n",
       "  <thead>\n",
       "    <tr style=\"text-align: right;\">\n",
       "      <th></th>\n",
       "      <th>price</th>\n",
       "      <th>model_year</th>\n",
       "      <th>model</th>\n",
       "      <th>condition</th>\n",
       "      <th>cylinders</th>\n",
       "      <th>fuel</th>\n",
       "      <th>odometer</th>\n",
       "      <th>transmission</th>\n",
       "      <th>type</th>\n",
       "      <th>paint_color</th>\n",
       "      <th>is_4wd</th>\n",
       "      <th>date_posted</th>\n",
       "      <th>days_listed</th>\n",
       "    </tr>\n",
       "  </thead>\n",
       "  <tbody>\n",
       "    <tr>\n",
       "      <th>0</th>\n",
       "      <td>9400</td>\n",
       "      <td>2011</td>\n",
       "      <td>bmw x5</td>\n",
       "      <td>good</td>\n",
       "      <td>6</td>\n",
       "      <td>gas</td>\n",
       "      <td>145000</td>\n",
       "      <td>automatic</td>\n",
       "      <td>SUV</td>\n",
       "      <td>custom</td>\n",
       "      <td>1</td>\n",
       "      <td>2018-06-23</td>\n",
       "      <td>19</td>\n",
       "    </tr>\n",
       "    <tr>\n",
       "      <th>1</th>\n",
       "      <td>9950</td>\n",
       "      <td>2010</td>\n",
       "      <td>bmw x5</td>\n",
       "      <td>excellent</td>\n",
       "      <td>6</td>\n",
       "      <td>gas</td>\n",
       "      <td>115088</td>\n",
       "      <td>automatic</td>\n",
       "      <td>SUV</td>\n",
       "      <td>silver</td>\n",
       "      <td>1</td>\n",
       "      <td>2018-07-05</td>\n",
       "      <td>8</td>\n",
       "    </tr>\n",
       "    <tr>\n",
       "      <th>2</th>\n",
       "      <td>5500</td>\n",
       "      <td>2013</td>\n",
       "      <td>hyundai sonata</td>\n",
       "      <td>like new</td>\n",
       "      <td>4</td>\n",
       "      <td>gas</td>\n",
       "      <td>110000</td>\n",
       "      <td>automatic</td>\n",
       "      <td>sedan</td>\n",
       "      <td>red</td>\n",
       "      <td>0</td>\n",
       "      <td>2019-02-07</td>\n",
       "      <td>79</td>\n",
       "    </tr>\n",
       "    <tr>\n",
       "      <th>3</th>\n",
       "      <td>1500</td>\n",
       "      <td>2003</td>\n",
       "      <td>ford f150</td>\n",
       "      <td>fair</td>\n",
       "      <td>8</td>\n",
       "      <td>gas</td>\n",
       "      <td>115088</td>\n",
       "      <td>automatic</td>\n",
       "      <td>pickup</td>\n",
       "      <td>custom</td>\n",
       "      <td>0</td>\n",
       "      <td>2019-03-22</td>\n",
       "      <td>9</td>\n",
       "    </tr>\n",
       "    <tr>\n",
       "      <th>4</th>\n",
       "      <td>14900</td>\n",
       "      <td>2017</td>\n",
       "      <td>chrysler 200</td>\n",
       "      <td>excellent</td>\n",
       "      <td>4</td>\n",
       "      <td>gas</td>\n",
       "      <td>80903</td>\n",
       "      <td>automatic</td>\n",
       "      <td>sedan</td>\n",
       "      <td>black</td>\n",
       "      <td>0</td>\n",
       "      <td>2019-04-02</td>\n",
       "      <td>28</td>\n",
       "    </tr>\n",
       "  </tbody>\n",
       "</table>\n",
       "</div>"
      ],
      "text/plain": [
       "   price  model_year           model  condition  cylinders fuel  odometer  \\\n",
       "0   9400        2011          bmw x5       good          6  gas    145000   \n",
       "1   9950        2010          bmw x5  excellent          6  gas    115088   \n",
       "2   5500        2013  hyundai sonata   like new          4  gas    110000   \n",
       "3   1500        2003       ford f150       fair          8  gas    115088   \n",
       "4  14900        2017    chrysler 200  excellent          4  gas     80903   \n",
       "\n",
       "  transmission    type paint_color  is_4wd date_posted  days_listed  \n",
       "0    automatic     SUV      custom       1  2018-06-23           19  \n",
       "1    automatic     SUV      silver       1  2018-07-05            8  \n",
       "2    automatic   sedan         red       0  2019-02-07           79  \n",
       "3    automatic  pickup      custom       0  2019-03-22            9  \n",
       "4    automatic   sedan       black       0  2019-04-02           28  "
      ]
     },
     "execution_count": 50,
     "metadata": {},
     "output_type": "execute_result"
    }
   ],
   "source": [
    "vh.head()"
   ]
  },
  {
   "cell_type": "code",
   "execution_count": 51,
   "metadata": {},
   "outputs": [],
   "source": [
    "# Agrega valores de fecha y hora para cuando se colocó el anuncio\n",
    "vh['date_year'] = pd.DatetimeIndex(vh['date_posted']).year\n"
   ]
  },
  {
   "cell_type": "code",
   "execution_count": 52,
   "metadata": {},
   "outputs": [],
   "source": [
    "# Agrega los años del vehículo cuando el anuncio se colocó en años\n",
    "vh['car_life'] = vh['date_year'] - vh['model_year']\n"
   ]
  },
  {
   "cell_type": "code",
   "execution_count": 53,
   "metadata": {},
   "outputs": [
    {
     "name": "stdout",
     "output_type": "stream",
     "text": [
      "<class 'pandas.core.frame.DataFrame'>\n",
      "RangeIndex: 51525 entries, 0 to 51524\n",
      "Data columns (total 15 columns):\n",
      " #   Column        Non-Null Count  Dtype         \n",
      "---  ------        --------------  -----         \n",
      " 0   price         51525 non-null  int64         \n",
      " 1   model_year    51525 non-null  int64         \n",
      " 2   model         51525 non-null  object        \n",
      " 3   condition     51525 non-null  object        \n",
      " 4   cylinders     51525 non-null  int64         \n",
      " 5   fuel          51525 non-null  object        \n",
      " 6   odometer      51525 non-null  int64         \n",
      " 7   transmission  51525 non-null  object        \n",
      " 8   type          51525 non-null  object        \n",
      " 9   paint_color   51525 non-null  object        \n",
      " 10  is_4wd        51525 non-null  int64         \n",
      " 11  date_posted   51525 non-null  datetime64[ns]\n",
      " 12  days_listed   51525 non-null  int64         \n",
      " 13  date_year     51525 non-null  int64         \n",
      " 14  car_life      51525 non-null  int64         \n",
      "dtypes: datetime64[ns](1), int64(8), object(6)\n",
      "memory usage: 5.9+ MB\n"
     ]
    }
   ],
   "source": [
    "vh.info()"
   ]
  },
  {
   "cell_type": "markdown",
   "metadata": {},
   "source": [
    "<div class=\"alert alert-block alert-success\">\n",
    "<b>Comentario del evaluador</b> <a class=\"tocSkip\"></a>\n",
    "\n",
    "Calculaste correctamente los años del coche.\n",
    "</div>"
   ]
  },
  {
   "cell_type": "code",
   "execution_count": 54,
   "metadata": {},
   "outputs": [],
   "source": [
    "# Creamos una funcion para realizar el promedio por vehiculo\n",
    "def prom_odo_year(row):\n",
    "    if row['car_life'] == 0:\n",
    "        col_odo_prom = row['odometer']\n",
    "        return col_odo_prom\n",
    "    else:\n",
    "        col_odo_prom = (row['odometer'] / row['car_life'])\n",
    "        return col_odo_prom"
   ]
  },
  {
   "cell_type": "markdown",
   "metadata": {},
   "source": [
    "<div class=\"alert alert-block alert-success\">\n",
    "<b>Comentario del evaluador</b> <a class=\"tocSkip\"></a>\n",
    "\n",
    "¡Muy bien! Tomaste en cuenta el caso en que car_life es 0 para evitar divisiones entre 0.\n",
    "</div>"
   ]
  },
  {
   "cell_type": "code",
   "execution_count": 55,
   "metadata": {},
   "outputs": [],
   "source": [
    "# Agrega el millaje promedio del vehículo por año\n",
    "vh['odo_prom'] = vh.apply(prom_odo_year,axis=1)"
   ]
  },
  {
   "cell_type": "code",
   "execution_count": 56,
   "metadata": {},
   "outputs": [
    {
     "data": {
      "text/plain": [
       "array(['good', 'excellent', 'like new', 'fair', 'salvage', 'new'],\n",
       "      dtype=object)"
      ]
     },
     "execution_count": 56,
     "metadata": {},
     "output_type": "execute_result"
    }
   ],
   "source": [
    "# Podría ser útil reemplazar los valores de condición con algo que se pueda manipular más fácilmente\n",
    "vh['condition'].unique()"
   ]
  },
  {
   "cell_type": "markdown",
   "metadata": {},
   "source": [
    "Agruparemos de la siguiente forma:\\\n",
    "**new** = new\\\n",
    "**semi new** = excellent, like new\\\n",
    "**regular** = good, fair\\\n",
    "**salvage** = recovery\n"
   ]
  },
  {
   "cell_type": "code",
   "execution_count": 57,
   "metadata": {},
   "outputs": [
    {
     "data": {
      "text/plain": [
       "0         regular\n",
       "1        semi new\n",
       "2        semi new\n",
       "3         regular\n",
       "4        semi new\n",
       "           ...   \n",
       "51520    semi new\n",
       "51521    recovery\n",
       "51522    semi new\n",
       "51523     regular\n",
       "51524     regular\n",
       "Name: condition, Length: 51525, dtype: object"
      ]
     },
     "execution_count": 57,
     "metadata": {},
     "output_type": "execute_result"
    }
   ],
   "source": [
    "corregir_valores(vh,'condition',['excellent', 'like new'],'semi new')\n",
    "corregir_valores(vh,'condition',['good', 'fair'],'regular')\n",
    "corregir_valores(vh,'condition','salvage','recovery')"
   ]
  },
  {
   "cell_type": "code",
   "execution_count": 58,
   "metadata": {},
   "outputs": [
    {
     "data": {
      "text/plain": [
       "array(['regular', 'semi new', 'recovery', 'new'], dtype=object)"
      ]
     },
     "execution_count": 58,
     "metadata": {},
     "output_type": "execute_result"
    }
   ],
   "source": [
    "vh['condition'].unique()"
   ]
  },
  {
   "cell_type": "markdown",
   "metadata": {},
   "source": [
    "## Comprobar datos limpios"
   ]
  },
  {
   "cell_type": "code",
   "execution_count": 59,
   "metadata": {},
   "outputs": [
    {
     "name": "stdout",
     "output_type": "stream",
     "text": [
      "<class 'pandas.core.frame.DataFrame'>\n",
      "RangeIndex: 51525 entries, 0 to 51524\n",
      "Data columns (total 16 columns):\n",
      " #   Column        Non-Null Count  Dtype         \n",
      "---  ------        --------------  -----         \n",
      " 0   price         51525 non-null  int64         \n",
      " 1   model_year    51525 non-null  int64         \n",
      " 2   model         51525 non-null  object        \n",
      " 3   condition     51525 non-null  object        \n",
      " 4   cylinders     51525 non-null  int64         \n",
      " 5   fuel          51525 non-null  object        \n",
      " 6   odometer      51525 non-null  int64         \n",
      " 7   transmission  51525 non-null  object        \n",
      " 8   type          51525 non-null  object        \n",
      " 9   paint_color   51525 non-null  object        \n",
      " 10  is_4wd        51525 non-null  int64         \n",
      " 11  date_posted   51525 non-null  datetime64[ns]\n",
      " 12  days_listed   51525 non-null  int64         \n",
      " 13  date_year     51525 non-null  int64         \n",
      " 14  car_life      51525 non-null  int64         \n",
      " 15  odo_prom      51525 non-null  float64       \n",
      "dtypes: datetime64[ns](1), float64(1), int64(8), object(6)\n",
      "memory usage: 6.3+ MB\n"
     ]
    }
   ],
   "source": [
    "# imprime la información general/resumida sobre el DataFrame\n",
    "vh.info()\n"
   ]
  },
  {
   "cell_type": "code",
   "execution_count": 60,
   "metadata": {},
   "outputs": [
    {
     "data": {
      "text/html": [
       "<div>\n",
       "<style scoped>\n",
       "    .dataframe tbody tr th:only-of-type {\n",
       "        vertical-align: middle;\n",
       "    }\n",
       "\n",
       "    .dataframe tbody tr th {\n",
       "        vertical-align: top;\n",
       "    }\n",
       "\n",
       "    .dataframe thead th {\n",
       "        text-align: right;\n",
       "    }\n",
       "</style>\n",
       "<table border=\"1\" class=\"dataframe\">\n",
       "  <thead>\n",
       "    <tr style=\"text-align: right;\">\n",
       "      <th></th>\n",
       "      <th>price</th>\n",
       "      <th>model_year</th>\n",
       "      <th>model</th>\n",
       "      <th>condition</th>\n",
       "      <th>cylinders</th>\n",
       "      <th>fuel</th>\n",
       "      <th>odometer</th>\n",
       "      <th>transmission</th>\n",
       "      <th>type</th>\n",
       "      <th>paint_color</th>\n",
       "      <th>is_4wd</th>\n",
       "      <th>date_posted</th>\n",
       "      <th>days_listed</th>\n",
       "      <th>date_year</th>\n",
       "      <th>car_life</th>\n",
       "      <th>odo_prom</th>\n",
       "    </tr>\n",
       "  </thead>\n",
       "  <tbody>\n",
       "    <tr>\n",
       "      <th>0</th>\n",
       "      <td>9400</td>\n",
       "      <td>2011</td>\n",
       "      <td>bmw x5</td>\n",
       "      <td>regular</td>\n",
       "      <td>6</td>\n",
       "      <td>gas</td>\n",
       "      <td>145000</td>\n",
       "      <td>automatic</td>\n",
       "      <td>SUV</td>\n",
       "      <td>custom</td>\n",
       "      <td>1</td>\n",
       "      <td>2018-06-23</td>\n",
       "      <td>19</td>\n",
       "      <td>2018</td>\n",
       "      <td>7</td>\n",
       "      <td>20714.285714</td>\n",
       "    </tr>\n",
       "    <tr>\n",
       "      <th>1</th>\n",
       "      <td>9950</td>\n",
       "      <td>2010</td>\n",
       "      <td>bmw x5</td>\n",
       "      <td>semi new</td>\n",
       "      <td>6</td>\n",
       "      <td>gas</td>\n",
       "      <td>115088</td>\n",
       "      <td>automatic</td>\n",
       "      <td>SUV</td>\n",
       "      <td>silver</td>\n",
       "      <td>1</td>\n",
       "      <td>2018-07-05</td>\n",
       "      <td>8</td>\n",
       "      <td>2018</td>\n",
       "      <td>8</td>\n",
       "      <td>14386.000000</td>\n",
       "    </tr>\n",
       "    <tr>\n",
       "      <th>2</th>\n",
       "      <td>5500</td>\n",
       "      <td>2013</td>\n",
       "      <td>hyundai sonata</td>\n",
       "      <td>semi new</td>\n",
       "      <td>4</td>\n",
       "      <td>gas</td>\n",
       "      <td>110000</td>\n",
       "      <td>automatic</td>\n",
       "      <td>sedan</td>\n",
       "      <td>red</td>\n",
       "      <td>0</td>\n",
       "      <td>2019-02-07</td>\n",
       "      <td>79</td>\n",
       "      <td>2019</td>\n",
       "      <td>6</td>\n",
       "      <td>18333.333333</td>\n",
       "    </tr>\n",
       "    <tr>\n",
       "      <th>3</th>\n",
       "      <td>1500</td>\n",
       "      <td>2003</td>\n",
       "      <td>ford f150</td>\n",
       "      <td>regular</td>\n",
       "      <td>8</td>\n",
       "      <td>gas</td>\n",
       "      <td>115088</td>\n",
       "      <td>automatic</td>\n",
       "      <td>pickup</td>\n",
       "      <td>custom</td>\n",
       "      <td>0</td>\n",
       "      <td>2019-03-22</td>\n",
       "      <td>9</td>\n",
       "      <td>2019</td>\n",
       "      <td>16</td>\n",
       "      <td>7193.000000</td>\n",
       "    </tr>\n",
       "    <tr>\n",
       "      <th>4</th>\n",
       "      <td>14900</td>\n",
       "      <td>2017</td>\n",
       "      <td>chrysler 200</td>\n",
       "      <td>semi new</td>\n",
       "      <td>4</td>\n",
       "      <td>gas</td>\n",
       "      <td>80903</td>\n",
       "      <td>automatic</td>\n",
       "      <td>sedan</td>\n",
       "      <td>black</td>\n",
       "      <td>0</td>\n",
       "      <td>2019-04-02</td>\n",
       "      <td>28</td>\n",
       "      <td>2019</td>\n",
       "      <td>2</td>\n",
       "      <td>40451.500000</td>\n",
       "    </tr>\n",
       "    <tr>\n",
       "      <th>5</th>\n",
       "      <td>14990</td>\n",
       "      <td>2014</td>\n",
       "      <td>chrysler 300</td>\n",
       "      <td>semi new</td>\n",
       "      <td>6</td>\n",
       "      <td>gas</td>\n",
       "      <td>57954</td>\n",
       "      <td>automatic</td>\n",
       "      <td>sedan</td>\n",
       "      <td>black</td>\n",
       "      <td>1</td>\n",
       "      <td>2018-06-20</td>\n",
       "      <td>15</td>\n",
       "      <td>2018</td>\n",
       "      <td>4</td>\n",
       "      <td>14488.500000</td>\n",
       "    </tr>\n",
       "    <tr>\n",
       "      <th>6</th>\n",
       "      <td>12990</td>\n",
       "      <td>2015</td>\n",
       "      <td>toyota camry</td>\n",
       "      <td>semi new</td>\n",
       "      <td>4</td>\n",
       "      <td>gas</td>\n",
       "      <td>79212</td>\n",
       "      <td>automatic</td>\n",
       "      <td>sedan</td>\n",
       "      <td>white</td>\n",
       "      <td>0</td>\n",
       "      <td>2018-12-27</td>\n",
       "      <td>73</td>\n",
       "      <td>2018</td>\n",
       "      <td>3</td>\n",
       "      <td>26404.000000</td>\n",
       "    </tr>\n",
       "    <tr>\n",
       "      <th>7</th>\n",
       "      <td>15990</td>\n",
       "      <td>2013</td>\n",
       "      <td>honda pilot</td>\n",
       "      <td>semi new</td>\n",
       "      <td>6</td>\n",
       "      <td>gas</td>\n",
       "      <td>109473</td>\n",
       "      <td>automatic</td>\n",
       "      <td>SUV</td>\n",
       "      <td>black</td>\n",
       "      <td>1</td>\n",
       "      <td>2019-01-07</td>\n",
       "      <td>68</td>\n",
       "      <td>2019</td>\n",
       "      <td>6</td>\n",
       "      <td>18245.500000</td>\n",
       "    </tr>\n",
       "    <tr>\n",
       "      <th>8</th>\n",
       "      <td>11500</td>\n",
       "      <td>2012</td>\n",
       "      <td>kia sorento</td>\n",
       "      <td>semi new</td>\n",
       "      <td>4</td>\n",
       "      <td>gas</td>\n",
       "      <td>104174</td>\n",
       "      <td>automatic</td>\n",
       "      <td>SUV</td>\n",
       "      <td>custom</td>\n",
       "      <td>1</td>\n",
       "      <td>2018-07-16</td>\n",
       "      <td>19</td>\n",
       "      <td>2018</td>\n",
       "      <td>6</td>\n",
       "      <td>17362.333333</td>\n",
       "    </tr>\n",
       "    <tr>\n",
       "      <th>9</th>\n",
       "      <td>6200</td>\n",
       "      <td>2007</td>\n",
       "      <td>bmw x5</td>\n",
       "      <td>semi new</td>\n",
       "      <td>6</td>\n",
       "      <td>gas</td>\n",
       "      <td>125000</td>\n",
       "      <td>automatic</td>\n",
       "      <td>SUV</td>\n",
       "      <td>green</td>\n",
       "      <td>1</td>\n",
       "      <td>2019-03-20</td>\n",
       "      <td>8</td>\n",
       "      <td>2019</td>\n",
       "      <td>12</td>\n",
       "      <td>10416.666667</td>\n",
       "    </tr>\n",
       "  </tbody>\n",
       "</table>\n",
       "</div>"
      ],
      "text/plain": [
       "   price  model_year           model condition  cylinders fuel  odometer  \\\n",
       "0   9400        2011          bmw x5   regular          6  gas    145000   \n",
       "1   9950        2010          bmw x5  semi new          6  gas    115088   \n",
       "2   5500        2013  hyundai sonata  semi new          4  gas    110000   \n",
       "3   1500        2003       ford f150   regular          8  gas    115088   \n",
       "4  14900        2017    chrysler 200  semi new          4  gas     80903   \n",
       "5  14990        2014    chrysler 300  semi new          6  gas     57954   \n",
       "6  12990        2015    toyota camry  semi new          4  gas     79212   \n",
       "7  15990        2013     honda pilot  semi new          6  gas    109473   \n",
       "8  11500        2012     kia sorento  semi new          4  gas    104174   \n",
       "9   6200        2007          bmw x5  semi new          6  gas    125000   \n",
       "\n",
       "  transmission    type paint_color  is_4wd date_posted  days_listed  \\\n",
       "0    automatic     SUV      custom       1  2018-06-23           19   \n",
       "1    automatic     SUV      silver       1  2018-07-05            8   \n",
       "2    automatic   sedan         red       0  2019-02-07           79   \n",
       "3    automatic  pickup      custom       0  2019-03-22            9   \n",
       "4    automatic   sedan       black       0  2019-04-02           28   \n",
       "5    automatic   sedan       black       1  2018-06-20           15   \n",
       "6    automatic   sedan       white       0  2018-12-27           73   \n",
       "7    automatic     SUV       black       1  2019-01-07           68   \n",
       "8    automatic     SUV      custom       1  2018-07-16           19   \n",
       "9    automatic     SUV       green       1  2019-03-20            8   \n",
       "\n",
       "   date_year  car_life      odo_prom  \n",
       "0       2018         7  20714.285714  \n",
       "1       2018         8  14386.000000  \n",
       "2       2019         6  18333.333333  \n",
       "3       2019        16   7193.000000  \n",
       "4       2019         2  40451.500000  \n",
       "5       2018         4  14488.500000  \n",
       "6       2018         3  26404.000000  \n",
       "7       2019         6  18245.500000  \n",
       "8       2018         6  17362.333333  \n",
       "9       2019        12  10416.666667  "
      ]
     },
     "execution_count": 60,
     "metadata": {},
     "output_type": "execute_result"
    }
   ],
   "source": [
    "# imprimir una muestra de datos\n",
    "vh.head(10)\n"
   ]
  },
  {
   "cell_type": "markdown",
   "metadata": {},
   "source": [
    "## Estudiar parámetros principales\n",
    "\n",
    "\n",
    "Los parámetros son:\n",
    "- Precio\n",
    "- Los años del vehículo cuando el anuncio se colocó\n",
    "- Millaje\n",
    "- Número de cilindros\n",
    "- Estado"
   ]
  },
  {
   "cell_type": "code",
   "execution_count": 61,
   "metadata": {},
   "outputs": [],
   "source": [
    "param = ['price','car_life','odometer','cylinders','condition']\n"
   ]
  },
  {
   "cell_type": "markdown",
   "metadata": {},
   "source": [
    "**Realizaremos un sondeo**\\\n",
    "Ya que tenemos un descripcion general de los parametros , analizaremos cada parametro con un diagrama de caja para revisar los valores atípicos y poder hacer correciones y descartar estos valores para tener un valor mas consiso a la hora de graficar"
   ]
  },
  {
   "cell_type": "code",
   "execution_count": 62,
   "metadata": {},
   "outputs": [],
   "source": [
    "def gral_plot_param(data,column):\n",
    "    gral_descrip = print('Valores generales del parametro:',column)\n",
    "    describe = data[column].describe()\n",
    "    box = data.boxplot(column)\n",
    "    hist = data.hist(column,bins=100)\n",
    "    return gral_descrip, describe, box, hist"
   ]
  },
  {
   "cell_type": "markdown",
   "metadata": {},
   "source": [
    "<div class=\"alert alert-block alert-success\">\n",
    "<b>Comentario del evaluador</b> <a class=\"tocSkip\"></a>\n",
    "\n",
    "Definiste correctamente esta función para ahorrar líneas de código en una tarea que vas a realizar de manera parecida varias veces.\n",
    "</div>"
   ]
  },
  {
   "cell_type": "code",
   "execution_count": 63,
   "metadata": {},
   "outputs": [
    {
     "name": "stdout",
     "output_type": "stream",
     "text": [
      "Valores generales del parametro: price\n"
     ]
    },
    {
     "data": {
      "text/plain": [
       "(None,\n",
       " count     51525.000000\n",
       " mean      12147.108724\n",
       " std        9886.524698\n",
       " min           1.000000\n",
       " 25%        5000.000000\n",
       " 50%        9200.000000\n",
       " 75%       16950.000000\n",
       " max      375000.000000\n",
       " Name: price, dtype: float64,\n",
       " <AxesSubplot:>,\n",
       " array([[<AxesSubplot:title={'center':'price'}>]], dtype=object))"
      ]
     },
     "execution_count": 63,
     "metadata": {},
     "output_type": "execute_result"
    },
    {
     "data": {
      "image/png": "[encoded data removed]",
      "text/plain": [
       "<Figure size 432x288 with 1 Axes>"
      ]
     },
     "metadata": {
      "needs_background": "light"
     },
     "output_type": "display_data"
    },
    {
     "data": {
      "image/png": "[encoded data removed]",
      "text/plain": [
       "<Figure size 432x288 with 1 Axes>"
      ]
     },
     "metadata": {
      "needs_background": "light"
     },
     "output_type": "display_data"
    }
   ],
   "source": [
    "gral_plot_param(vh,'price')"
   ]
  },
  {
   "cell_type": "code",
   "execution_count": 64,
   "metadata": {},
   "outputs": [
    {
     "name": "stdout",
     "output_type": "stream",
     "text": [
      "Valores generales del parametro: car_life\n"
     ]
    },
    {
     "data": {
      "text/plain": [
       "(None,\n",
       " count    51525.000000\n",
       " mean         8.504435\n",
       " std          6.235546\n",
       " min          0.000000\n",
       " 25%          4.000000\n",
       " 50%          7.000000\n",
       " 75%         12.000000\n",
       " max        110.000000\n",
       " Name: car_life, dtype: float64,\n",
       " <AxesSubplot:>,\n",
       " array([[<AxesSubplot:title={'center':'car_life'}>]], dtype=object))"
      ]
     },
     "execution_count": 64,
     "metadata": {},
     "output_type": "execute_result"
    },
    {
     "data": {
      "image/png": "[encoded data removed]",
      "text/plain": [
       "<Figure size 432x288 with 1 Axes>"
      ]
     },
     "metadata": {
      "needs_background": "light"
     },
     "output_type": "display_data"
    },
    {
     "data": {
      "image/png": "[encoded data removed]",
      "text/plain": [
       "<Figure size 432x288 with 1 Axes>"
      ]
     },
     "metadata": {
      "needs_background": "light"
     },
     "output_type": "display_data"
    }
   ],
   "source": [
    "gral_plot_param(vh,'car_life')"
   ]
  },
  {
   "cell_type": "code",
   "execution_count": 65,
   "metadata": {},
   "outputs": [
    {
     "name": "stdout",
     "output_type": "stream",
     "text": [
      "Valores generales del parametro: odometer\n"
     ]
    },
    {
     "data": {
      "text/plain": [
       "(None,\n",
       " count     51525.000000\n",
       " mean     115088.662921\n",
       " std       59633.523192\n",
       " min           0.000000\n",
       " 25%       78999.000000\n",
       " 50%      115088.000000\n",
       " 75%      146000.000000\n",
       " max      990000.000000\n",
       " Name: odometer, dtype: float64,\n",
       " <AxesSubplot:>,\n",
       " array([[<AxesSubplot:title={'center':'odometer'}>]], dtype=object))"
      ]
     },
     "execution_count": 65,
     "metadata": {},
     "output_type": "execute_result"
    },
    {
     "data": {
      "image/png": "[encoded data removed]",
      "text/plain": [
       "<Figure size 432x288 with 1 Axes>"
      ]
     },
     "metadata": {
      "needs_background": "light"
     },
     "output_type": "display_data"
    },
    {
     "data": {
      "image/png": "[encoded data removed]",
      "text/plain": [
       "<Figure size 432x288 with 1 Axes>"
      ]
     },
     "metadata": {
      "needs_background": "light"
     },
     "output_type": "display_data"
    }
   ],
   "source": [
    "gral_plot_param(vh,'odometer')\n"
   ]
  },
  {
   "cell_type": "markdown",
   "metadata": {},
   "source": [
    "<div class=\"alert alert-block alert-success\">\n",
    "<b>Comentario del evaluador</b> <a class=\"tocSkip\"></a>\n",
    "\n",
    "Las gráficas de densidades y los boxplots son correctas.\n",
    "</div>"
   ]
  },
  {
   "cell_type": "code",
   "execution_count": 66,
   "metadata": {},
   "outputs": [
    {
     "name": "stdout",
     "output_type": "stream",
     "text": [
      "           model\n",
      "cylinders       \n",
      "8          18364\n",
      "6          17243\n",
      "4          15024\n",
      "10           584\n",
      "5            270\n",
      "3             38\n",
      "12             2\n",
      "AxesSubplot(0.125,0.125;0.775x0.755)\n"
     ]
    },
    {
     "data": {
      "image/png": "[encoded data removed]",
      "text/plain": [
       "<Figure size 432x288 with 1 Axes>"
      ]
     },
     "metadata": {
      "needs_background": "light"
     },
     "output_type": "display_data"
    }
   ],
   "source": [
    "cylinders = vh.pivot_table(index='cylinders',values='model',aggfunc='count')\n",
    "print(cylinders.sort_values(by='model',ascending=False))\n",
    "print(cylinders.sort_values(by='model',ascending=False).plot(kind='bar'))"
   ]
  },
  {
   "cell_type": "code",
   "execution_count": 67,
   "metadata": {},
   "outputs": [
    {
     "name": "stdout",
     "output_type": "stream",
     "text": [
      "           model\n",
      "condition       \n",
      "semi new   29711\n",
      "regular    21549\n",
      "new          149\n",
      "recovery     116\n"
     ]
    },
    {
     "data": {
      "text/plain": [
       "<AxesSubplot:xlabel='condition'>"
      ]
     },
     "execution_count": 67,
     "metadata": {},
     "output_type": "execute_result"
    },
    {
     "data": {
      "image/png": "[encoded data removed]",
      "text/plain": [
       "<Figure size 432x288 with 1 Axes>"
      ]
     },
     "metadata": {
      "needs_background": "light"
     },
     "output_type": "display_data"
    }
   ],
   "source": [
    "condition = vh.pivot_table(index='condition',values='model',aggfunc='count')\n",
    "print(condition.sort_values(by='model',ascending=False))\n",
    "condition.sort_values(by='model',ascending=False).plot(kind='bar')"
   ]
  },
  {
   "cell_type": "markdown",
   "metadata": {},
   "source": [
    "<div class=\"alert alert-block alert-success\">\n",
    "<b>Comentario del evaluador</b> <a class=\"tocSkip\"></a>\n",
    "\n",
    "Las gráficas están ordenadas de mayor a menor y esto ayuda a la visualización.\n",
    "</div>"
   ]
  },
  {
   "cell_type": "markdown",
   "metadata": {},
   "source": [
    "Como podemos ver, la muestra de los datos en las columnas de **price y odometer** tienen valores atipicos muy por fuera de la de media, veremos que porcentaje de datos atipicos son respecto a el total y como se refleja el grafico y la muestra sin estos datos."
   ]
  },
  {
   "cell_type": "markdown",
   "metadata": {},
   "source": [
    "## Estudiar y tratar valores atípicos\n",
    "\n",
    "Ya realizamos un sondeo para cada parametro que utilizaremos, usamos diagramas de caja y el metodo describe para obtener referencias de valores, eliminaremos los valores fuera del diagrama de caja y veremos de igual forma como se comportan estos valores."
   ]
  },
  {
   "cell_type": "code",
   "execution_count": 68,
   "metadata": {},
   "outputs": [
    {
     "name": "stdout",
     "output_type": "stream",
     "text": [
      "Valores generales del parametro: price\n"
     ]
    },
    {
     "data": {
      "text/plain": [
       "(None,\n",
       " count     51525.000000\n",
       " mean      12147.108724\n",
       " std        9886.524698\n",
       " min           1.000000\n",
       " 25%        5000.000000\n",
       " 50%        9200.000000\n",
       " 75%       16950.000000\n",
       " max      375000.000000\n",
       " Name: price, dtype: float64,\n",
       " <AxesSubplot:>,\n",
       " array([[<AxesSubplot:title={'center':'price'}>]], dtype=object))"
      ]
     },
     "execution_count": 68,
     "metadata": {},
     "output_type": "execute_result"
    },
    {
     "data": {
      "image/png": "[encoded data removed]",
      "text/plain": [
       "<Figure size 432x288 with 1 Axes>"
      ]
     },
     "metadata": {
      "needs_background": "light"
     },
     "output_type": "display_data"
    },
    {
     "data": {
      "image/png": "[encoded data removed]",
      "text/plain": [
       "<Figure size 432x288 with 1 Axes>"
      ]
     },
     "metadata": {
      "needs_background": "light"
     },
     "output_type": "display_data"
    }
   ],
   "source": [
    "gral_plot_param(vh,'price')"
   ]
  },
  {
   "cell_type": "code",
   "execution_count": 69,
   "metadata": {},
   "outputs": [
    {
     "name": "stdout",
     "output_type": "stream",
     "text": [
      "Porcentaje sin valores atípicos: 0.7505288694808345\n",
      "                   price\n",
      "model                   \n",
      "acura tl             200\n",
      "bmw x5               333\n",
      "buick enclave        198\n",
      "cadillac escalade    171\n",
      "chevrolet camaro     260\n",
      "...                  ...\n",
      "toyota tacoma        430\n",
      "toyota tundra        343\n",
      "volkswagen jetta     432\n",
      "volkswagen passat    285\n",
      "All                38671\n",
      "\n",
      "[95 rows x 1 columns]\n"
     ]
    },
    {
     "data": {
      "text/plain": [
       "array([[<AxesSubplot:title={'center':'price'}>]], dtype=object)"
      ]
     },
     "execution_count": 69,
     "metadata": {},
     "output_type": "execute_result"
    },
    {
     "data": {
      "image/png": "[encoded data removed]",
      "text/plain": [
       "<Figure size 432x288 with 1 Axes>"
      ]
     },
     "metadata": {
      "needs_background": "light"
     },
     "output_type": "display_data"
    }
   ],
   "source": [
    "q3_price = vh['price'].quantile(0.75)\n",
    "sample_price = vh.query('price <= @q3_price')\n",
    "print('Porcentaje sin valores atípicos:',len(sample_price)/len(vh))\n",
    "print(sample_price.pivot_table(index='model',values='price',aggfunc='count',margins=True))\n",
    "sample_price.hist('price',bins=20)"
   ]
  },
  {
   "cell_type": "markdown",
   "metadata": {},
   "source": [
    "Podemos apreciar que el 75% de los valores se encuentran dentro del rango de 0 a 16950 dolares, pero tenemos valores iguales a 1 veamos si podemos reducirlos ya que 1 no es un precio razonable, veamos con un histograma reducido esos valores"
   ]
  },
  {
   "cell_type": "markdown",
   "metadata": {},
   "source": [
    "<div class=\"alert alert-block alert-success\">\n",
    "<b>Comentario del evaluador</b> <a class=\"tocSkip\"></a>\n",
    "\n",
    "Esto es correcto.\n",
    "</div>"
   ]
  },
  {
   "cell_type": "code",
   "execution_count": 70,
   "metadata": {},
   "outputs": [
    {
     "name": "stdout",
     "output_type": "stream",
     "text": [
      "1592\n",
      "874\n"
     ]
    },
    {
     "data": {
      "image/png": "[encoded data removed]",
      "text/plain": [
       "<Figure size 432x288 with 1 Axes>"
      ]
     },
     "metadata": {
      "needs_background": "light"
     },
     "output_type": "display_data"
    }
   ],
   "source": [
    "sample_price.hist('price',bins=20,range=(0,1000))\n",
    "print(len(sample_price.query('price <= 1000')))\n",
    "print(len(sample_price.query('price <= 100')))"
   ]
  },
  {
   "cell_type": "markdown",
   "metadata": {},
   "source": [
    "Volveremos a filtrar y a eliminar ese pico de datos con precio menor a 150 dolares"
   ]
  },
  {
   "cell_type": "code",
   "execution_count": 71,
   "metadata": {},
   "outputs": [
    {
     "name": "stdout",
     "output_type": "stream",
     "text": [
      "Porcentaje sin valores atípicos: 0.7325376031052887\n",
      "                   price\n",
      "model                   \n",
      "acura tl             200\n",
      "bmw x5               333\n",
      "buick enclave        198\n",
      "cadillac escalade    170\n",
      "chevrolet camaro     215\n",
      "...                  ...\n",
      "toyota tacoma        429\n",
      "toyota tundra        300\n",
      "volkswagen jetta     428\n",
      "volkswagen passat    282\n",
      "All                37744\n",
      "\n",
      "[95 rows x 1 columns]\n"
     ]
    },
    {
     "data": {
      "text/plain": [
       "array([[<AxesSubplot:title={'center':'price'}>]], dtype=object)"
      ]
     },
     "execution_count": 71,
     "metadata": {},
     "output_type": "execute_result"
    },
    {
     "data": {
      "image/png": "[encoded data removed]",
      "text/plain": [
       "<Figure size 432x288 with 1 Axes>"
      ]
     },
     "metadata": {
      "needs_background": "light"
     },
     "output_type": "display_data"
    }
   ],
   "source": [
    "sample_price = vh.query('price < @q3_price and price > 150')\n",
    "print('Porcentaje sin valores atípicos:',len(sample_price)/len(vh))\n",
    "print(sample_price.pivot_table(index='model',values='price',aggfunc='count',margins=True))\n",
    "sample_price.hist('price',bins=20)"
   ]
  },
  {
   "cell_type": "code",
   "execution_count": 72,
   "metadata": {},
   "outputs": [
    {
     "data": {
      "text/plain": [
       "<AxesSubplot:>"
      ]
     },
     "execution_count": 72,
     "metadata": {},
     "output_type": "execute_result"
    },
    {
     "data": {
      "image/png": "[encoded data removed]",
      "text/plain": [
       "<Figure size 432x288 with 1 Axes>"
      ]
     },
     "metadata": {
      "needs_background": "light"
     },
     "output_type": "display_data"
    }
   ],
   "source": [
    "sample_price.boxplot('price')"
   ]
  },
  {
   "cell_type": "markdown",
   "metadata": {},
   "source": [
    "Listo, nuestros datos de precio ahora tienen mas sentido, tenemos autos que tienen cierto valor ya sea muy bajo pero no igual a 1 dolar, algo completamente ilogico, y autos con un precio tope de 17000, nuestra grafica tiene mas sentido ahora, continuaremos con el siguiente parametro."
   ]
  },
  {
   "cell_type": "markdown",
   "metadata": {},
   "source": [
    "<div class=\"alert alert-block alert-success\">\n",
    "<b>Comentario del evaluador</b> <a class=\"tocSkip\"></a>\n",
    "\n",
    "Bien hecho.\n",
    "</div>"
   ]
  },
  {
   "cell_type": "code",
   "execution_count": 73,
   "metadata": {},
   "outputs": [
    {
     "name": "stdout",
     "output_type": "stream",
     "text": [
      "Valores generales del parametro: car_life\n"
     ]
    },
    {
     "data": {
      "text/plain": [
       "(None,\n",
       " count    37744.000000\n",
       " mean        10.076357\n",
       " std          5.797445\n",
       " min          0.000000\n",
       " 25%          6.000000\n",
       " 50%          9.000000\n",
       " 75%         13.000000\n",
       " max        110.000000\n",
       " Name: car_life, dtype: float64,\n",
       " <AxesSubplot:>,\n",
       " array([[<AxesSubplot:title={'center':'car_life'}>]], dtype=object))"
      ]
     },
     "execution_count": 73,
     "metadata": {},
     "output_type": "execute_result"
    },
    {
     "data": {
      "image/png": "[encoded data removed]",
      "text/plain": [
       "<Figure size 432x288 with 1 Axes>"
      ]
     },
     "metadata": {
      "needs_background": "light"
     },
     "output_type": "display_data"
    },
    {
     "data": {
      "image/png": "[encoded data removed]",
      "text/plain": [
       "<Figure size 432x288 with 1 Axes>"
      ]
     },
     "metadata": {
      "needs_background": "light"
     },
     "output_type": "display_data"
    }
   ],
   "source": [
    "gral_plot_param(sample_price,'car_life')"
   ]
  },
  {
   "cell_type": "markdown",
   "metadata": {},
   "source": [
    "Repetiremos nuestro proceso ahora para la columna de **car_life**, teniendo en cuenta que ya tenemos un dataframe filtrado seguiremos trabajando con este y seguiremos aplicando filtros y revisando sus valores"
   ]
  },
  {
   "cell_type": "code",
   "execution_count": 74,
   "metadata": {},
   "outputs": [
    {
     "name": "stdout",
     "output_type": "stream",
     "text": [
      "Porcentaje sin valores atípicos: 0.5559049005337215\n",
      "                   car_life\n",
      "model                      \n",
      "acura tl                158\n",
      "bmw x5                  261\n",
      "buick enclave           198\n",
      "cadillac escalade       112\n",
      "chevrolet camaro        147\n",
      "...                     ...\n",
      "toyota tacoma           281\n",
      "toyota tundra           197\n",
      "volkswagen jetta        385\n",
      "volkswagen passat       247\n",
      "All                   28643\n",
      "\n",
      "[94 rows x 1 columns]\n"
     ]
    },
    {
     "data": {
      "text/plain": [
       "array([[<AxesSubplot:title={'center':'car_life'}>]], dtype=object)"
      ]
     },
     "execution_count": 74,
     "metadata": {},
     "output_type": "execute_result"
    },
    {
     "data": {
      "image/png": "[encoded data removed]",
      "text/plain": [
       "<Figure size 432x288 with 1 Axes>"
      ]
     },
     "metadata": {
      "needs_background": "light"
     },
     "output_type": "display_data"
    }
   ],
   "source": [
    "q3_car_life = sample_price['car_life'].quantile(0.75)\n",
    "sample_car_life = sample_price.query('car_life <= @q3_car_life')\n",
    "print('Porcentaje sin valores atípicos:',len(sample_car_life)/len(vh))\n",
    "print(sample_car_life.pivot_table(index='model',values='car_life',aggfunc='count',margins=True))\n",
    "sample_car_life.hist('car_life',bins=20)\n"
   ]
  },
  {
   "cell_type": "code",
   "execution_count": 75,
   "metadata": {},
   "outputs": [
    {
     "name": "stdout",
     "output_type": "stream",
     "text": [
      "Porcentaje de valores atípicos: 0.1766327025715672\n",
      "                    car_life\n",
      "model                       \n",
      "acura tl                  42\n",
      "bmw x5                    72\n",
      "cadillac escalade         58\n",
      "chevrolet camaro          68\n",
      "chevrolet colorado        16\n",
      "...                      ...\n",
      "toyota tacoma            148\n",
      "toyota tundra            103\n",
      "volkswagen jetta          43\n",
      "volkswagen passat         35\n",
      "All                     9101\n",
      "\n",
      "[81 rows x 1 columns]\n"
     ]
    },
    {
     "data": {
      "text/plain": [
       "array([[<AxesSubplot:title={'center':'car_life'}>]], dtype=object)"
      ]
     },
     "execution_count": 75,
     "metadata": {},
     "output_type": "execute_result"
    },
    {
     "data": {
      "image/png": "[encoded data removed]",
      "text/plain": [
       "<Figure size 432x288 with 1 Axes>"
      ]
     },
     "metadata": {
      "needs_background": "light"
     },
     "output_type": "display_data"
    }
   ],
   "source": [
    "sample_car_life_atip = sample_price.query('car_life > @q3_car_life')\n",
    "print('Porcentaje de valores atípicos:',len(sample_car_life_atip)/len(vh))\n",
    "print(sample_car_life_atip.pivot_table(index='model',values='car_life',aggfunc='count',margins=True))\n",
    "sample_car_life_atip.hist('car_life',bins=30)"
   ]
  },
  {
   "cell_type": "markdown",
   "metadata": {},
   "source": [
    "Parece que tenemos una gran cantidad de datos fuera de nuestro filtrado, filtraremos nuevamente e incluiremos los valores hasta 25 años"
   ]
  },
  {
   "cell_type": "code",
   "execution_count": 76,
   "metadata": {},
   "outputs": [
    {
     "name": "stdout",
     "output_type": "stream",
     "text": [
      "Porcentaje sin valores atípicos: 0.7221931101407084\n",
      "                   car_life\n",
      "model                      \n",
      "acura tl                200\n",
      "bmw x5                  333\n",
      "buick enclave           198\n",
      "cadillac escalade       169\n",
      "chevrolet camaro        203\n",
      "...                     ...\n",
      "toyota tacoma           428\n",
      "toyota tundra           300\n",
      "volkswagen jetta        428\n",
      "volkswagen passat       282\n",
      "All                   37211\n",
      "\n",
      "[95 rows x 1 columns]\n"
     ]
    },
    {
     "data": {
      "text/plain": [
       "array([[<AxesSubplot:title={'center':'car_life'}>]], dtype=object)"
      ]
     },
     "execution_count": 76,
     "metadata": {},
     "output_type": "execute_result"
    },
    {
     "data": {
      "image/png": "[encoded data removed]",
      "text/plain": [
       "<Figure size 432x288 with 1 Axes>"
      ]
     },
     "metadata": {
      "needs_background": "light"
     },
     "output_type": "display_data"
    }
   ],
   "source": [
    "sample_car_life = sample_price.query('car_life <= 25')\n",
    "print('Porcentaje sin valores atípicos:',len(sample_car_life)/len(vh))\n",
    "print(sample_car_life.pivot_table(index='model',values='car_life',aggfunc='count',margins=True))\n",
    "sample_car_life.hist('car_life',bins=20)"
   ]
  },
  {
   "cell_type": "markdown",
   "metadata": {},
   "source": [
    "Mucho mejor nuestro grafico, teniendo en cuenta que tenemos el 72% de valores totales, siendo muy parecido nuestro porcentaje a nuestro primer filtrado, tenemos que tener en cuenta aqui que los valores 0 son posibles ya que puede haber vehiculos que hayan sido comprados y puestos a la venta el mismo año, por lo que ese valor queda sin modificaciones, continuaremos a revisar el parametro de odometro."
   ]
  },
  {
   "cell_type": "code",
   "execution_count": 77,
   "metadata": {},
   "outputs": [
    {
     "name": "stdout",
     "output_type": "stream",
     "text": [
      "Valores generales del parametro: odometer\n"
     ]
    },
    {
     "data": {
      "text/plain": [
       "(None,\n",
       " count     37211.000000\n",
       " mean     129154.378813\n",
       " std       57129.108586\n",
       " min           0.000000\n",
       " 25%      100000.000000\n",
       " 50%      117000.000000\n",
       " 75%      159508.000000\n",
       " max      990000.000000\n",
       " Name: odometer, dtype: float64,\n",
       " <AxesSubplot:>,\n",
       " array([[<AxesSubplot:title={'center':'odometer'}>]], dtype=object))"
      ]
     },
     "execution_count": 77,
     "metadata": {},
     "output_type": "execute_result"
    },
    {
     "data": {
      "image/png": "[encoded data removed]",
      "text/plain": [
       "<Figure size 432x288 with 1 Axes>"
      ]
     },
     "metadata": {
      "needs_background": "light"
     },
     "output_type": "display_data"
    },
    {
     "data": {
      "image/png": "[encoded data removed]",
      "text/plain": [
       "<Figure size 432x288 with 1 Axes>"
      ]
     },
     "metadata": {
      "needs_background": "light"
     },
     "output_type": "display_data"
    }
   ],
   "source": [
    "gral_plot_param(sample_car_life,'odometer')"
   ]
  },
  {
   "cell_type": "code",
   "execution_count": 78,
   "metadata": {},
   "outputs": [
    {
     "name": "stdout",
     "output_type": "stream",
     "text": [
      "Porcentaje sin valores atípicos: 0.5416593886462883\n",
      "                   odometer\n",
      "model                      \n",
      "acura tl                130\n",
      "bmw x5                  287\n",
      "buick enclave           164\n",
      "cadillac escalade       111\n",
      "chevrolet camaro        185\n",
      "...                     ...\n",
      "toyota tacoma           246\n",
      "toyota tundra           165\n",
      "volkswagen jetta        370\n",
      "volkswagen passat       260\n",
      "All                   27909\n",
      "\n",
      "[95 rows x 1 columns]\n"
     ]
    },
    {
     "data": {
      "text/plain": [
       "array([[<AxesSubplot:title={'center':'odometer'}>]], dtype=object)"
      ]
     },
     "execution_count": 78,
     "metadata": {},
     "output_type": "execute_result"
    },
    {
     "data": {
      "image/png": "[encoded data removed]",
      "text/plain": [
       "<Figure size 432x288 with 1 Axes>"
      ]
     },
     "metadata": {
      "needs_background": "light"
     },
     "output_type": "display_data"
    }
   ],
   "source": [
    "q3_odometer = sample_car_life['odometer'].quantile(0.75)\n",
    "sample_odometer = sample_car_life.query('odometer <= @q3_odometer')\n",
    "print('Porcentaje sin valores atípicos:',len(sample_odometer)/len(vh))\n",
    "print(sample_odometer.pivot_table(index='model',values='odometer',aggfunc='count',margins=True))\n",
    "sample_odometer.hist('odometer',bins=20)"
   ]
  },
  {
   "cell_type": "markdown",
   "metadata": {},
   "source": [
    "Ahora veamos los valores que dejamos fuera para verificar su constancia"
   ]
  },
  {
   "cell_type": "code",
   "execution_count": 79,
   "metadata": {},
   "outputs": [
    {
     "name": "stdout",
     "output_type": "stream",
     "text": [
      "Porcentaje sin valores atípicos: 0.18053372149442018\n",
      "                   odometer\n",
      "model                      \n",
      "acura tl                 70\n",
      "bmw x5                   46\n",
      "buick enclave            34\n",
      "cadillac escalade        58\n",
      "chevrolet camaro         18\n",
      "...                     ...\n",
      "toyota tacoma           182\n",
      "toyota tundra           135\n",
      "volkswagen jetta         58\n",
      "volkswagen passat        22\n",
      "All                    9302\n",
      "\n",
      "[92 rows x 1 columns]\n"
     ]
    },
    {
     "data": {
      "text/plain": [
       "array([[<AxesSubplot:title={'center':'odometer'}>]], dtype=object)"
      ]
     },
     "execution_count": 79,
     "metadata": {},
     "output_type": "execute_result"
    },
    {
     "data": {
      "image/png": "[encoded data removed]",
      "text/plain": [
       "<Figure size 432x288 with 1 Axes>"
      ]
     },
     "metadata": {
      "needs_background": "light"
     },
     "output_type": "display_data"
    }
   ],
   "source": [
    "sample_odometer = sample_car_life.query('odometer > @q3_odometer')\n",
    "print('Porcentaje sin valores atípicos:',len(sample_odometer)/len(vh))\n",
    "print(sample_odometer.pivot_table(index='model',values='odometer',aggfunc='count',margins=True))\n",
    "sample_odometer.hist('odometer',bins=25)"
   ]
  },
  {
   "cell_type": "markdown",
   "metadata": {},
   "source": [
    "Tenemos una gran cantidad de datos fuera de nuestra muestra, los incluiremos hasta un valor de 250000, ya que es donde los datos comienzan a descender de forma drastica y los valores tienden a ser muy altos y muy pocos lo que puede meter ruido a nuestros datos."
   ]
  },
  {
   "cell_type": "code",
   "execution_count": 80,
   "metadata": {},
   "outputs": [
    {
     "name": "stdout",
     "output_type": "stream",
     "text": [
      "Porcentaje sin valores atípicos: 0.7035225618631732\n",
      "                   odometer\n",
      "model                      \n",
      "acura tl                197\n",
      "bmw x5                  333\n",
      "buick enclave           198\n",
      "cadillac escalade       167\n",
      "chevrolet camaro        203\n",
      "...                     ...\n",
      "toyota tacoma           396\n",
      "toyota tundra           284\n",
      "volkswagen jetta        420\n",
      "volkswagen passat       281\n",
      "All                   36249\n",
      "\n",
      "[95 rows x 1 columns]\n"
     ]
    },
    {
     "data": {
      "text/plain": [
       "array([[<AxesSubplot:title={'center':'odometer'}>]], dtype=object)"
      ]
     },
     "execution_count": 80,
     "metadata": {},
     "output_type": "execute_result"
    },
    {
     "data": {
      "image/png": "[encoded data removed]",
      "text/plain": [
       "<Figure size 432x288 with 1 Axes>"
      ]
     },
     "metadata": {
      "needs_background": "light"
     },
     "output_type": "display_data"
    }
   ],
   "source": [
    "sample_odometer = sample_car_life.query('odometer <= 250000')\n",
    "print('Porcentaje sin valores atípicos:',len(sample_odometer)/len(vh))\n",
    "print(sample_odometer.pivot_table(index='model',values='odometer',aggfunc='count',margins=True))\n",
    "sample_odometer.hist('odometer',bins=20)"
   ]
  },
  {
   "cell_type": "markdown",
   "metadata": {},
   "source": [
    "Podemos observar una muestra mas constante en cuanto a valores, tenemos un pico alrededor de las 125000 millas, al igual que el parametro de car_life, dejaremos los valores bajos cercanos al cero, ya que un vehiculo puede tener varios años despues de su compra pero poco uso y por consiguiente poco millaje, ademas que tenemos una gran cantidad de datos en este rango, caso contrario a los autos que tienen mas millaje de 250000 ya que son contados estos autos y pueden meter ruido a nuestra muestra, por lo pronto usaremos nuestra tabla o muestra **sample_odometer** que cambiaremos de nombre a **vh_sample**, terminando con un porcentaje de datos del 70% respecto a la muestra total."
   ]
  },
  {
   "cell_type": "code",
   "execution_count": 81,
   "metadata": {},
   "outputs": [],
   "source": [
    "vh_sample = sample_odometer"
   ]
  },
  {
   "cell_type": "markdown",
   "metadata": {},
   "source": [
    "<div class=\"alert alert-block alert-success\">\n",
    "<b>Comentario del evaluador</b> <a class=\"tocSkip\"></a>\n",
    "\n",
    "Realizaste un análisis detallado de los casos atípicos, muy bien.\n",
    "</div>"
   ]
  },
  {
   "cell_type": "markdown",
   "metadata": {},
   "source": [
    "## Estudiar parámetros principales sin valores atípicos"
   ]
  },
  {
   "cell_type": "markdown",
   "metadata": {},
   "source": [
    "[Utiliza los datos filtrados para crear nuevos histogramas. Compáralos con los histogramas anteriores (aquellos con los valores atípicos incluidos). Saca conclusiones de cada histograma.]"
   ]
  },
  {
   "cell_type": "code",
   "execution_count": 82,
   "metadata": {},
   "outputs": [],
   "source": [
    "def filt_param(data,column):\n",
    "    describe = data[column].describe()\n",
    "    hist = data.hist(column,bins=100)\n",
    "    return describe, hist"
   ]
  },
  {
   "cell_type": "code",
   "execution_count": 83,
   "metadata": {},
   "outputs": [
    {
     "data": {
      "text/plain": [
       "(count    36249.000000\n",
       " mean      7911.871665\n",
       " std       4146.658199\n",
       " min        155.000000\n",
       " 25%       4500.000000\n",
       " 50%       7000.000000\n",
       " 75%      10995.000000\n",
       " max      16925.000000\n",
       " Name: price, dtype: float64,\n",
       " array([[<AxesSubplot:title={'center':'price'}>]], dtype=object))"
      ]
     },
     "execution_count": 83,
     "metadata": {},
     "output_type": "execute_result"
    },
    {
     "data": {
      "image/png": "[encoded data removed]",
      "text/plain": [
       "<Figure size 432x288 with 1 Axes>"
      ]
     },
     "metadata": {
      "needs_background": "light"
     },
     "output_type": "display_data"
    }
   ],
   "source": [
    "# Datos de price\n",
    "filt_param(vh_sample,'price')"
   ]
  },
  {
   "cell_type": "code",
   "execution_count": 84,
   "metadata": {},
   "outputs": [
    {
     "data": {
      "text/plain": [
       "(count    36249.000000\n",
       " mean         9.615796\n",
       " std          5.024323\n",
       " min          0.000000\n",
       " 25%          6.000000\n",
       " 50%          9.000000\n",
       " 75%         13.000000\n",
       " max         25.000000\n",
       " Name: car_life, dtype: float64,\n",
       " array([[<AxesSubplot:title={'center':'car_life'}>]], dtype=object))"
      ]
     },
     "execution_count": 84,
     "metadata": {},
     "output_type": "execute_result"
    },
    {
     "data": {
      "image/png": "[encoded data removed]",
      "text/plain": [
       "<Figure size 432x288 with 1 Axes>"
      ]
     },
     "metadata": {
      "needs_background": "light"
     },
     "output_type": "display_data"
    }
   ],
   "source": [
    "# Datos de car_life\n",
    "filt_param(vh_sample,'car_life')"
   ]
  },
  {
   "cell_type": "code",
   "execution_count": 85,
   "metadata": {},
   "outputs": [
    {
     "data": {
      "text/plain": [
       "(count     36249.000000\n",
       " mean     124667.841568\n",
       " std       49274.626111\n",
       " min           0.000000\n",
       " 25%       99000.000000\n",
       " 50%      115088.000000\n",
       " 75%      155500.000000\n",
       " max      250000.000000\n",
       " Name: odometer, dtype: float64,\n",
       " array([[<AxesSubplot:title={'center':'odometer'}>]], dtype=object))"
      ]
     },
     "execution_count": 85,
     "metadata": {},
     "output_type": "execute_result"
    },
    {
     "data": {
      "image/png": "[encoded data removed]",
      "text/plain": [
       "<Figure size 432x288 with 1 Axes>"
      ]
     },
     "metadata": {
      "needs_background": "light"
     },
     "output_type": "display_data"
    }
   ],
   "source": [
    "# Datos de odometer\n",
    "filt_param(vh_sample,'odometer')"
   ]
  },
  {
   "cell_type": "code",
   "execution_count": 86,
   "metadata": {},
   "outputs": [
    {
     "name": "stdout",
     "output_type": "stream",
     "text": [
      "           model\n",
      "cylinders       \n",
      "4          13905\n",
      "6          11558\n",
      "8          10357\n",
      "5            265\n",
      "10           130\n",
      "3             34\n",
      "AxesSubplot(0.125,0.125;0.775x0.755)\n"
     ]
    },
    {
     "data": {
      "image/png": "[encoded data removed]",
      "text/plain": [
       "<Figure size 432x288 with 1 Axes>"
      ]
     },
     "metadata": {
      "needs_background": "light"
     },
     "output_type": "display_data"
    }
   ],
   "source": [
    "cylinders_sample = vh_sample.pivot_table(index='cylinders',values='model',aggfunc='count')\n",
    "print(cylinders_sample.sort_values(by='model',ascending=False))\n",
    "print(cylinders_sample.sort_values(by='model',ascending=False).plot(kind='bar'))"
   ]
  },
  {
   "cell_type": "code",
   "execution_count": 87,
   "metadata": {},
   "outputs": [
    {
     "name": "stdout",
     "output_type": "stream",
     "text": [
      "           model\n",
      "condition       \n",
      "semi new   29711\n",
      "regular    21549\n",
      "new          149\n",
      "recovery     116\n"
     ]
    },
    {
     "data": {
      "text/plain": [
       "<AxesSubplot:xlabel='condition'>"
      ]
     },
     "execution_count": 87,
     "metadata": {},
     "output_type": "execute_result"
    },
    {
     "data": {
      "image/png": "[encoded data removed]",
      "text/plain": [
       "<Figure size 432x288 with 1 Axes>"
      ]
     },
     "metadata": {
      "needs_background": "light"
     },
     "output_type": "display_data"
    }
   ],
   "source": [
    "condition_sample = vh.pivot_table(index='condition',values='model',aggfunc='count')\n",
    "print(condition_sample.sort_values(by='model',ascending=False))\n",
    "condition_sample.sort_values(by='model',ascending=False).plot(kind='bar')"
   ]
  },
  {
   "cell_type": "markdown",
   "metadata": {},
   "source": [
    "Haremos la comparacion de los datos filtrados contra los originales"
   ]
  },
  {
   "cell_type": "code",
   "execution_count": 88,
   "metadata": {},
   "outputs": [],
   "source": [
    "def hist_compar(data1,column,data2):\n",
    "    pri1 = print('Comparacion de datos de valores atipicos y sin atipicos del parametro',column)\n",
    "    hist1 = data1[column].hist(bins=25)\n",
    "    hist2 = data2[column].hist(bins=25)\n",
    "    return pri1, hist1,hist2"
   ]
  },
  {
   "cell_type": "code",
   "execution_count": 89,
   "metadata": {},
   "outputs": [
    {
     "name": "stdout",
     "output_type": "stream",
     "text": [
      "Comparacion de datos de valores atipicos y sin atipicos del parametro price\n"
     ]
    },
    {
     "data": {
      "text/plain": [
       "(None, <AxesSubplot:>, <AxesSubplot:>)"
      ]
     },
     "execution_count": 89,
     "metadata": {},
     "output_type": "execute_result"
    },
    {
     "data": {
      "image/png": "[encoded data removed]",
      "text/plain": [
       "<Figure size 432x288 with 1 Axes>"
      ]
     },
     "metadata": {
      "needs_background": "light"
     },
     "output_type": "display_data"
    }
   ],
   "source": [
    "hist_compar(vh,'price',vh_sample)"
   ]
  },
  {
   "cell_type": "markdown",
   "metadata": {},
   "source": [
    "<div class=\"alert alert-block alert-warning\">\n",
    "<b>Comentario del evaluador</b> <a class=\"tocSkip\"></a>\n",
    "\n",
    "Cuando quieras comparar dos histogramas recuerda usar el parámetro `density=False` para que se muestren las proporciones en lugar de los conteos y sea más fácil compararlos.\n",
    "</div>"
   ]
  },
  {
   "cell_type": "code",
   "execution_count": 90,
   "metadata": {},
   "outputs": [
    {
     "name": "stdout",
     "output_type": "stream",
     "text": [
      "Comparacion de datos de valores atipicos y sin atipicos del parametro car_life\n"
     ]
    },
    {
     "data": {
      "text/plain": [
       "(None, <AxesSubplot:>, <AxesSubplot:>)"
      ]
     },
     "execution_count": 90,
     "metadata": {},
     "output_type": "execute_result"
    },
    {
     "data": {
      "image/png": "[encoded data removed]",
      "text/plain": [
       "<Figure size 432x288 with 1 Axes>"
      ]
     },
     "metadata": {
      "needs_background": "light"
     },
     "output_type": "display_data"
    }
   ],
   "source": [
    "hist_compar(vh,'car_life',vh_sample)"
   ]
  },
  {
   "cell_type": "code",
   "execution_count": 91,
   "metadata": {},
   "outputs": [
    {
     "name": "stdout",
     "output_type": "stream",
     "text": [
      "Comparacion de datos de valores atipicos y sin atipicos del parametro odometer\n"
     ]
    },
    {
     "data": {
      "text/plain": [
       "(None, <AxesSubplot:>, <AxesSubplot:>)"
      ]
     },
     "execution_count": 91,
     "metadata": {},
     "output_type": "execute_result"
    },
    {
     "data": {
      "image/png": "[encoded data removed]",
      "text/plain": [
       "<Figure size 432x288 with 1 Axes>"
      ]
     },
     "metadata": {
      "needs_background": "light"
     },
     "output_type": "display_data"
    }
   ],
   "source": [
    "hist_compar(vh,'odometer',vh_sample)"
   ]
  },
  {
   "cell_type": "markdown",
   "metadata": {},
   "source": [
    "## Periodo de colocación de los anuncios\n",
    "\n",
    "[Estudia cuántos días los anuncios fueron mostrados (`days_listed`). Calcula la media y la mediana. Describe el periodo de colocación habitual de un anuncio. Determina cuándo se eliminaron rápidamente los anuncios y cuándo son publicados por un tiempo anormalmente largo.]"
   ]
  },
  {
   "cell_type": "code",
   "execution_count": 92,
   "metadata": {},
   "outputs": [
    {
     "name": "stdout",
     "output_type": "stream",
     "text": [
      "Valores generales del parametro: days_listed\n"
     ]
    },
    {
     "data": {
      "text/plain": [
       "(None,\n",
       " count    36249.000000\n",
       " mean        39.636873\n",
       " std         28.332558\n",
       " min          0.000000\n",
       " 25%         19.000000\n",
       " 50%         33.000000\n",
       " 75%         53.000000\n",
       " max        271.000000\n",
       " Name: days_listed, dtype: float64,\n",
       " <AxesSubplot:>,\n",
       " array([[<AxesSubplot:title={'center':'days_listed'}>]], dtype=object))"
      ]
     },
     "execution_count": 92,
     "metadata": {},
     "output_type": "execute_result"
    },
    {
     "data": {
      "image/png": "[encoded data removed]",
      "text/plain": [
       "<Figure size 432x288 with 1 Axes>"
      ]
     },
     "metadata": {
      "needs_background": "light"
     },
     "output_type": "display_data"
    },
    {
     "data": {
      "image/png": "[encoded data removed]",
      "text/plain": [
       "<Figure size 432x288 with 1 Axes>"
      ]
     },
     "metadata": {
      "needs_background": "light"
     },
     "output_type": "display_data"
    }
   ],
   "source": [
    "gral_plot_param(vh_sample,'days_listed')\n"
   ]
  },
  {
   "cell_type": "code",
   "execution_count": 93,
   "metadata": {},
   "outputs": [
    {
     "name": "stdout",
     "output_type": "stream",
     "text": [
      "Valores generales del parametro: odometer\n"
     ]
    },
    {
     "data": {
      "text/plain": [
       "(None,\n",
       " count     36249.000000\n",
       " mean     124667.841568\n",
       " std       49274.626111\n",
       " min           0.000000\n",
       " 25%       99000.000000\n",
       " 50%      115088.000000\n",
       " 75%      155500.000000\n",
       " max      250000.000000\n",
       " Name: odometer, dtype: float64,\n",
       " <AxesSubplot:>,\n",
       " array([[<AxesSubplot:title={'center':'odometer'}>]], dtype=object))"
      ]
     },
     "execution_count": 93,
     "metadata": {},
     "output_type": "execute_result"
    },
    {
     "data": {
      "image/png": "[encoded data removed]",
      "text/plain": [
       "<Figure size 432x288 with 1 Axes>"
      ]
     },
     "metadata": {
      "needs_background": "light"
     },
     "output_type": "display_data"
    },
    {
     "data": {
      "image/png": "[encoded data removed]",
      "text/plain": [
       "<Figure size 432x288 with 1 Axes>"
      ]
     },
     "metadata": {
      "needs_background": "light"
     },
     "output_type": "display_data"
    }
   ],
   "source": [
    "gral_plot_param(vh_sample,'odometer')"
   ]
  },
  {
   "cell_type": "code",
   "execution_count": 94,
   "metadata": {},
   "outputs": [
    {
     "name": "stdout",
     "output_type": "stream",
     "text": [
      "          days_listed                   model_year                       \\\n",
      "                count       mean median      count         mean  median   \n",
      "condition                                                                 \n",
      "new              54.0  38.759259   38.0       54.0  2011.666667  2012.0   \n",
      "recovery         98.0  34.530612   28.0       98.0  2005.571429  2004.5   \n",
      "regular       15573.0  36.341103   32.0    15573.0  2007.219739  2007.0   \n",
      "semi new      19142.0  36.230331   32.0    19142.0  2009.903249  2011.0   \n",
      "\n",
      "             price                       \n",
      "             count         mean  median  \n",
      "condition                                \n",
      "new           54.0  6959.574074  6650.0  \n",
      "recovery      98.0  3673.408163  2495.0  \n",
      "regular    15573.0  6799.909587  5950.0  \n",
      "semi new   19142.0  8841.256452  8499.0  \n",
      "\n",
      "          days_listed                    model_year                       \\\n",
      "                count        mean median      count         mean  median   \n",
      "condition                                                                  \n",
      "new               1.0  101.000000  101.0        1.0  2008.000000  2008.0   \n",
      "recovery          2.0  120.000000  120.0        2.0  2003.500000  2003.5   \n",
      "regular         595.0  125.005042  118.0      595.0  2007.317647  2008.0   \n",
      "semi new        784.0  123.903061  115.0      784.0  2009.558673  2010.0   \n",
      "\n",
      "           price                       \n",
      "           count         mean  median  \n",
      "condition                              \n",
      "new          1.0  6200.000000  6200.0  \n",
      "recovery     2.0  1700.000000  1700.0  \n",
      "regular    595.0  6941.401681  5975.0  \n",
      "semi new   784.0  8657.612245  7999.0  \n"
     ]
    }
   ],
   "source": [
    "print(vh_sample.query('days_listed  <= 100').pivot_table(index=['condition'],values=['price','days_listed','model_year'],aggfunc=('mean','median','count')))\n",
    "print()\n",
    "print(vh_sample.query('days_listed  > 100').pivot_table(index=['condition'],values=['price','days_listed','model_year'],aggfunc=('mean','median','count')))\n"
   ]
  },
  {
   "cell_type": "markdown",
   "metadata": {},
   "source": [
    "<div class=\"alert alert-block alert-success\">\n",
    "<b>Comentario del evaluador</b> <a class=\"tocSkip\"></a>\n",
    "\n",
    "Buen análisis del periodo de colocación.\n",
    "</div>"
   ]
  },
  {
   "cell_type": "code",
   "execution_count": null,
   "metadata": {},
   "outputs": [],
   "source": []
  },
  {
   "cell_type": "code",
   "execution_count": null,
   "metadata": {},
   "outputs": [],
   "source": []
  },
  {
   "cell_type": "code",
   "execution_count": null,
   "metadata": {},
   "outputs": [],
   "source": []
  },
  {
   "cell_type": "markdown",
   "metadata": {},
   "source": [
    "## Precio promedio por cada tipo de vehículo"
   ]
  },
  {
   "cell_type": "code",
   "execution_count": 95,
   "metadata": {},
   "outputs": [
    {
     "name": "stdout",
     "output_type": "stream",
     "text": [
      "Numero total de anuncios: 36249\n",
      "               count         mean\n",
      "type                             \n",
      "sedan        11457.0  6762.645457\n",
      "SUV           8948.0  8137.014528\n",
      "truck         6809.0  9467.571890\n",
      "pickup        3952.0  8651.349190\n",
      "wagon         1271.0  7731.116444\n",
      "coupe         1095.0  7594.723288\n",
      "hatchback      890.0  6546.640449\n",
      "mini-van       856.0  6825.535047\n",
      "van            435.0  7653.788506\n",
      "convertible    222.0  9232.500000\n",
      "other          176.0  8085.176136\n",
      "offroad        127.0  9192.622047\n",
      "bus             11.0  6533.272727\n"
     ]
    }
   ],
   "source": [
    "type_cost = vh_sample.pivot_table(index='type',values='price',aggfunc=('mean','count'))\n",
    "print('Numero total de anuncios:',len(vh_sample))\n",
    "type_cost.sort_values(by='count',ascending=False,inplace=True)\n",
    "print(type_cost)\n"
   ]
  },
  {
   "cell_type": "code",
   "execution_count": 96,
   "metadata": {},
   "outputs": [
    {
     "data": {
      "text/plain": [
       "<AxesSubplot:xlabel='type'>"
      ]
     },
     "execution_count": 96,
     "metadata": {},
     "output_type": "execute_result"
    },
    {
     "data": {
      "image/png": "[encoded data removed]",
      "text/plain": [
       "<Figure size 864x432 with 1 Axes>"
      ]
     },
     "metadata": {
      "needs_background": "light"
     },
     "output_type": "display_data"
    }
   ],
   "source": [
    "type_cost.plot(y='count',figsize=(12,6))"
   ]
  },
  {
   "cell_type": "markdown",
   "metadata": {},
   "source": [
    "<div class=\"alert alert-block alert-warning\">\n",
    "<b>Comentario del evaluador</b> <a class=\"tocSkip\"></a>\n",
    "\n",
    "Esta gráfica sería mejor visualizarla como gráfica de barras.\n",
    "</div>"
   ]
  },
  {
   "cell_type": "markdown",
   "metadata": {},
   "source": [
    "Tenemos que los tipos de autos que mas se anuncian son sedan y SUV"
   ]
  },
  {
   "cell_type": "markdown",
   "metadata": {},
   "source": [
    "## Factores de precio"
   ]
  },
  {
   "cell_type": "code",
   "execution_count": 97,
   "metadata": {},
   "outputs": [
    {
     "name": "stdout",
     "output_type": "stream",
     "text": [
      "                price  model_year  cylinders  odometer    is_4wd  days_listed  \\\n",
      "price        1.000000    0.494174   0.167557 -0.324876  0.219408     0.002564   \n",
      "model_year   0.494174    1.000000  -0.375799 -0.426757 -0.189001    -0.000205   \n",
      "cylinders    0.167557   -0.375799   1.000000  0.280958  0.400933     0.001592   \n",
      "odometer    -0.324876   -0.426757   0.280958  1.000000  0.181380     0.004395   \n",
      "is_4wd       0.219408   -0.189001   0.400933  0.181380  1.000000     0.007721   \n",
      "days_listed  0.002564   -0.000205   0.001592  0.004395  0.007721     1.000000   \n",
      "date_year    0.006800    0.019352  -0.001777 -0.008035  0.001249     0.010159   \n",
      "car_life    -0.492342   -0.995780   0.374718  0.424977  0.188654     0.001137   \n",
      "odo_prom     0.274391    0.566545  -0.192845  0.086555 -0.085848     0.000713   \n",
      "\n",
      "             date_year  car_life  odo_prom  \n",
      "price         0.006800 -0.492342  0.274391  \n",
      "model_year    0.019352 -0.995780  0.566545  \n",
      "cylinders    -0.001777  0.374718 -0.192845  \n",
      "odometer     -0.008035  0.424977  0.086555  \n",
      "is_4wd        0.001249  0.188654 -0.085848  \n",
      "days_listed   0.010159  0.001137  0.000713  \n",
      "date_year     1.000000  0.072482 -0.100230  \n",
      "car_life      0.072482  1.000000 -0.574361  \n",
      "odo_prom     -0.100230 -0.574361  1.000000  \n"
     ]
    }
   ],
   "source": [
    "print(vh_sample.corr())"
   ]
  },
  {
   "cell_type": "code",
   "execution_count": 100,
   "metadata": {},
   "outputs": [
    {
     "data": {
      "text/plain": [
       "array([[<AxesSubplot:xlabel='price', ylabel='price'>,\n",
       "        <AxesSubplot:xlabel='model_year', ylabel='price'>,\n",
       "        <AxesSubplot:xlabel='cylinders', ylabel='price'>,\n",
       "        <AxesSubplot:xlabel='odometer', ylabel='price'>,\n",
       "        <AxesSubplot:xlabel='is_4wd', ylabel='price'>,\n",
       "        <AxesSubplot:xlabel='days_listed', ylabel='price'>,\n",
       "        <AxesSubplot:xlabel='date_year', ylabel='price'>,\n",
       "        <AxesSubplot:xlabel='car_life', ylabel='price'>,\n",
       "        <AxesSubplot:xlabel='odo_prom', ylabel='price'>],\n",
       "       [<AxesSubplot:xlabel='price', ylabel='model_year'>,\n",
       "        <AxesSubplot:xlabel='model_year', ylabel='model_year'>,\n",
       "        <AxesSubplot:xlabel='cylinders', ylabel='model_year'>,\n",
       "        <AxesSubplot:xlabel='odometer', ylabel='model_year'>,\n",
       "        <AxesSubplot:xlabel='is_4wd', ylabel='model_year'>,\n",
       "        <AxesSubplot:xlabel='days_listed', ylabel='model_year'>,\n",
       "        <AxesSubplot:xlabel='date_year', ylabel='model_year'>,\n",
       "        <AxesSubplot:xlabel='car_life', ylabel='model_year'>,\n",
       "        <AxesSubplot:xlabel='odo_prom', ylabel='model_year'>],\n",
       "       [<AxesSubplot:xlabel='price', ylabel='cylinders'>,\n",
       "        <AxesSubplot:xlabel='model_year', ylabel='cylinders'>,\n",
       "        <AxesSubplot:xlabel='cylinders', ylabel='cylinders'>,\n",
       "        <AxesSubplot:xlabel='odometer', ylabel='cylinders'>,\n",
       "        <AxesSubplot:xlabel='is_4wd', ylabel='cylinders'>,\n",
       "        <AxesSubplot:xlabel='days_listed', ylabel='cylinders'>,\n",
       "        <AxesSubplot:xlabel='date_year', ylabel='cylinders'>,\n",
       "        <AxesSubplot:xlabel='car_life', ylabel='cylinders'>,\n",
       "        <AxesSubplot:xlabel='odo_prom', ylabel='cylinders'>],\n",
       "       [<AxesSubplot:xlabel='price', ylabel='odometer'>,\n",
       "        <AxesSubplot:xlabel='model_year', ylabel='odometer'>,\n",
       "        <AxesSubplot:xlabel='cylinders', ylabel='odometer'>,\n",
       "        <AxesSubplot:xlabel='odometer', ylabel='odometer'>,\n",
       "        <AxesSubplot:xlabel='is_4wd', ylabel='odometer'>,\n",
       "        <AxesSubplot:xlabel='days_listed', ylabel='odometer'>,\n",
       "        <AxesSubplot:xlabel='date_year', ylabel='odometer'>,\n",
       "        <AxesSubplot:xlabel='car_life', ylabel='odometer'>,\n",
       "        <AxesSubplot:xlabel='odo_prom', ylabel='odometer'>],\n",
       "       [<AxesSubplot:xlabel='price', ylabel='is_4wd'>,\n",
       "        <AxesSubplot:xlabel='model_year', ylabel='is_4wd'>,\n",
       "        <AxesSubplot:xlabel='cylinders', ylabel='is_4wd'>,\n",
       "        <AxesSubplot:xlabel='odometer', ylabel='is_4wd'>,\n",
       "        <AxesSubplot:xlabel='is_4wd', ylabel='is_4wd'>,\n",
       "        <AxesSubplot:xlabel='days_listed', ylabel='is_4wd'>,\n",
       "        <AxesSubplot:xlabel='date_year', ylabel='is_4wd'>,\n",
       "        <AxesSubplot:xlabel='car_life', ylabel='is_4wd'>,\n",
       "        <AxesSubplot:xlabel='odo_prom', ylabel='is_4wd'>],\n",
       "       [<AxesSubplot:xlabel='price', ylabel='days_listed'>,\n",
       "        <AxesSubplot:xlabel='model_year', ylabel='days_listed'>,\n",
       "        <AxesSubplot:xlabel='cylinders', ylabel='days_listed'>,\n",
       "        <AxesSubplot:xlabel='odometer', ylabel='days_listed'>,\n",
       "        <AxesSubplot:xlabel='is_4wd', ylabel='days_listed'>,\n",
       "        <AxesSubplot:xlabel='days_listed', ylabel='days_listed'>,\n",
       "        <AxesSubplot:xlabel='date_year', ylabel='days_listed'>,\n",
       "        <AxesSubplot:xlabel='car_life', ylabel='days_listed'>,\n",
       "        <AxesSubplot:xlabel='odo_prom', ylabel='days_listed'>],\n",
       "       [<AxesSubplot:xlabel='price', ylabel='date_year'>,\n",
       "        <AxesSubplot:xlabel='model_year', ylabel='date_year'>,\n",
       "        <AxesSubplot:xlabel='cylinders', ylabel='date_year'>,\n",
       "        <AxesSubplot:xlabel='odometer', ylabel='date_year'>,\n",
       "        <AxesSubplot:xlabel='is_4wd', ylabel='date_year'>,\n",
       "        <AxesSubplot:xlabel='days_listed', ylabel='date_year'>,\n",
       "        <AxesSubplot:xlabel='date_year', ylabel='date_year'>,\n",
       "        <AxesSubplot:xlabel='car_life', ylabel='date_year'>,\n",
       "        <AxesSubplot:xlabel='odo_prom', ylabel='date_year'>],\n",
       "       [<AxesSubplot:xlabel='price', ylabel='car_life'>,\n",
       "        <AxesSubplot:xlabel='model_year', ylabel='car_life'>,\n",
       "        <AxesSubplot:xlabel='cylinders', ylabel='car_life'>,\n",
       "        <AxesSubplot:xlabel='odometer', ylabel='car_life'>,\n",
       "        <AxesSubplot:xlabel='is_4wd', ylabel='car_life'>,\n",
       "        <AxesSubplot:xlabel='days_listed', ylabel='car_life'>,\n",
       "        <AxesSubplot:xlabel='date_year', ylabel='car_life'>,\n",
       "        <AxesSubplot:xlabel='car_life', ylabel='car_life'>,\n",
       "        <AxesSubplot:xlabel='odo_prom', ylabel='car_life'>],\n",
       "       [<AxesSubplot:xlabel='price', ylabel='odo_prom'>,\n",
       "        <AxesSubplot:xlabel='model_year', ylabel='odo_prom'>,\n",
       "        <AxesSubplot:xlabel='cylinders', ylabel='odo_prom'>,\n",
       "        <AxesSubplot:xlabel='odometer', ylabel='odo_prom'>,\n",
       "        <AxesSubplot:xlabel='is_4wd', ylabel='odo_prom'>,\n",
       "        <AxesSubplot:xlabel='days_listed', ylabel='odo_prom'>,\n",
       "        <AxesSubplot:xlabel='date_year', ylabel='odo_prom'>,\n",
       "        <AxesSubplot:xlabel='car_life', ylabel='odo_prom'>,\n",
       "        <AxesSubplot:xlabel='odo_prom', ylabel='odo_prom'>]], dtype=object)"
      ]
     },
     "execution_count": 100,
     "metadata": {},
     "output_type": "execute_result"
    },
    {
     "data": {
      "image/png": "[encoded data removed]",
      "text/plain": [
       "<Figure size 1080x1080 with 81 Axes>"
      ]
     },
     "metadata": {
      "needs_background": "light"
     },
     "output_type": "display_data"
    }
   ],
   "source": [
    "pd.plotting.scatter_matrix(vh_sample,figsize=(15,15))"
   ]
  },
  {
   "cell_type": "code",
   "execution_count": null,
   "metadata": {},
   "outputs": [],
   "source": []
  },
  {
   "cell_type": "code",
   "execution_count": 110,
   "metadata": {},
   "outputs": [
    {
     "name": "stdout",
     "output_type": "stream",
     "text": [
      "              price\n",
      "transmission       \n",
      "automatic     34006\n",
      "manual         1951\n",
      "other           292\n",
      "AxesSubplot(0.125,0.125;0.775x0.755)\n"
     ]
    },
    {
     "data": {
      "image/png": "[encoded data removed]",
      "text/plain": [
       "<Figure size 432x288 with 1 Axes>"
      ]
     },
     "metadata": {
      "needs_background": "light"
     },
     "output_type": "display_data"
    }
   ],
   "source": [
    "transmission_sample = vh_sample.pivot_table(index='transmission',values='price',aggfunc='count')\n",
    "print(transmission_sample.sort_values(by='price',ascending=False))\n",
    "print(transmission_sample.sort_values(by='price',ascending=False).plot(kind='bar'))"
   ]
  },
  {
   "cell_type": "code",
   "execution_count": 108,
   "metadata": {},
   "outputs": [
    {
     "name": "stdout",
     "output_type": "stream",
     "text": [
      "             model\n",
      "paint_color       \n",
      "custom        7332\n",
      "white         6355\n",
      "black         5009\n",
      "silver        4752\n",
      "grey          3832\n",
      "blue          3390\n",
      "red           3250\n",
      "green         1122\n",
      "brown          911\n",
      "orange         122\n",
      "yellow         100\n",
      "purple          74\n",
      "AxesSubplot(0.125,0.125;0.775x0.755)\n"
     ]
    },
    {
     "data": {
      "image/png": "[encoded data removed]",
      "text/plain": [
       "<Figure size 432x288 with 1 Axes>"
      ]
     },
     "metadata": {
      "needs_background": "light"
     },
     "output_type": "display_data"
    }
   ],
   "source": [
    "paint_sample = vh_sample.pivot_table(index='paint_color',values='model',aggfunc='count')\n",
    "print(paint_sample.sort_values(by='model',ascending=False))\n",
    "print(paint_sample.sort_values(by='model',ascending=False).plot(kind='bar'))"
   ]
  },
  {
   "cell_type": "code",
   "execution_count": null,
   "metadata": {},
   "outputs": [],
   "source": [
    "paint_sample = vh_sample.pivot_table(index='paint_color',values='model',aggfunc='count')\n",
    "print(paint_sample.sort_values(by='model',ascending=False))\n",
    "print(paint_sample.sort_values(by='model',ascending=False).plot(kind='bar'))"
   ]
  },
  {
   "cell_type": "markdown",
   "metadata": {},
   "source": [
    "## Conclusión general\n",
    "-Primero observamos el panamora general y verificamos el tipo de dato, los datos ausentes, y comenzamos a rellenar estos datos de acuerdo a caracteristicas similares entre otros autos, ya que las catacteristicas similares tienden a ser iguales cuando se tiene cierto patron.\\\n",
    "-Para los valores de paint_color no se nos hizo relevante el color, por lo que llenamos los valores ausentes con el color custom.\\\n",
    "-En cuanto al parametro de is_4wd llenamos los valores ausentes asumiendo que los valores restantes eran 0, al solo haber 2 tipos de datos posibles en este parametro (0 y 1).\\\n",
    "-Procedimos a llenar datos ausentes de model_year con valores que correspondieran a las caracteristicas, tomando esas caracteristicas especificas como año de salida del modelo.\\\n",
    "-Para el odometro utilizamos un promedio para llenar estos valores.\\\n",
    "-Con los valores ya corregidos, graficamos con diagramas de caja los parametros importantes para darnos una idea de los valores atipicos y asi poder hacer un filtrado de datos para tener nuestra muestra y nuestro grafico con datos mas consisos y sin valores atipicos.\\\n",
    "-Sobre esto podemos graficar nuevamente y observando que el precio es afectado principalmente por el model_year, odometer y car_life.\n",
    "\n",
    "\n"
   ]
  },
  {
   "cell_type": "markdown",
   "metadata": {},
   "source": [
    "<div class=\"alert alert-block alert-success\">\n",
    "<b>Comentario del evaluador</b> <a class=\"tocSkip\"></a>\n",
    "\n",
    "Buenas conclusiones generales basadas en lo observado en el proyecto.\n",
    "</div>"
   ]
  },
  {
   "cell_type": "markdown",
   "metadata": {},
   "source": [
    "<div class=\"alert alert-block alert-success\">\n",
    "<b>Comentario del evaluador</b> <a class=\"tocSkip\"></a>\n",
    "\n",
    "¡Hola!\n",
    "    \n",
    "Primero que nada te quiero felicitar por tu trabajo, se nota el esfuerzo y dedicación que has invertido en él. Es un proyecto largo y aún así lo hiciste bastante completo. Coloqué algunas recomendaciones en bloques de comentario de color amarillo, pero no considero que debas cambiar algo para que lo pueda aprobar. \n",
    "    \n",
    "¡éxito en lo próximos proyectos!\n",
    "    \n",
    "Saludos, Marcos.    \n",
    "</div>"
   ]
  },
  {
   "cell_type": "code",
   "execution_count": null,
   "metadata": {},
   "outputs": [],
   "source": []
  }
 ],
 "metadata": {
  "ExecuteTimeLog": [
   {
    "duration": 828,
    "start_time": "2021-11-16T09:21:11.304Z"
   },
   {
    "duration": 893,
    "start_time": "2021-11-16T09:21:17.728Z"
   },
   {
    "duration": 1150,
    "start_time": "2021-11-16T09:21:29.568Z"
   },
   {
    "duration": 3,
    "start_time": "2021-11-16T09:24:14.495Z"
   },
   {
    "duration": 120,
    "start_time": "2021-11-16T09:24:46.630Z"
   },
   {
    "duration": 3,
    "start_time": "2021-11-16T09:28:27.882Z"
   },
   {
    "duration": 4,
    "start_time": "2021-11-16T09:29:54.281Z"
   },
   {
    "duration": 3,
    "start_time": "2021-11-16T09:30:45.936Z"
   },
   {
    "duration": 4,
    "start_time": "2021-11-16T09:31:06.300Z"
   },
   {
    "duration": 113,
    "start_time": "2021-11-16T09:31:37.208Z"
   },
   {
    "duration": 143,
    "start_time": "2021-11-16T09:31:48.656Z"
   },
   {
    "duration": 98,
    "start_time": "2021-11-16T09:31:55.678Z"
   },
   {
    "duration": 3,
    "start_time": "2021-11-16T09:32:08.535Z"
   },
   {
    "duration": 111,
    "start_time": "2021-11-16T09:32:10.120Z"
   },
   {
    "duration": 3,
    "start_time": "2021-11-16T09:32:15.732Z"
   },
   {
    "duration": 4,
    "start_time": "2021-11-16T09:32:29.423Z"
   },
   {
    "duration": 3,
    "start_time": "2021-11-16T10:03:03.074Z"
   },
   {
    "duration": 3,
    "start_time": "2021-11-16T10:10:01.288Z"
   },
   {
    "duration": 3,
    "start_time": "2021-11-16T10:10:46.923Z"
   },
   {
    "duration": 121,
    "start_time": "2021-11-16T10:37:46.494Z"
   },
   {
    "duration": 125,
    "start_time": "2021-11-16T10:38:20.632Z"
   },
   {
    "duration": 112,
    "start_time": "2021-11-16T10:46:53.001Z"
   },
   {
    "duration": 110,
    "start_time": "2021-11-16T10:48:25.775Z"
   },
   {
    "duration": 3,
    "start_time": "2021-11-16T10:50:18.720Z"
   },
   {
    "duration": 4,
    "start_time": "2021-11-16T10:50:37.649Z"
   },
   {
    "duration": 2,
    "start_time": "2021-11-16T10:50:51.884Z"
   },
   {
    "duration": 3,
    "start_time": "2021-11-16T10:51:56.237Z"
   },
   {
    "duration": 101,
    "start_time": "2021-11-16T10:53:13.791Z"
   },
   {
    "duration": 3,
    "start_time": "2021-11-16T10:55:59.186Z"
   },
   {
    "duration": 3,
    "start_time": "2021-11-16T10:56:10.751Z"
   },
   {
    "duration": 3,
    "start_time": "2021-11-16T10:56:49.038Z"
   },
   {
    "duration": 3,
    "start_time": "2021-11-16T10:56:49.174Z"
   },
   {
    "duration": 4,
    "start_time": "2021-11-16T10:56:49.414Z"
   },
   {
    "duration": 3,
    "start_time": "2021-11-16T10:56:49.680Z"
   },
   {
    "duration": 3,
    "start_time": "2021-11-16T10:56:50.370Z"
   },
   {
    "duration": 114,
    "start_time": "2021-11-16T10:59:34.518Z"
   },
   {
    "duration": 3,
    "start_time": "2021-11-16T11:01:41.201Z"
   },
   {
    "duration": 116,
    "start_time": "2021-11-16T11:01:48.754Z"
   },
   {
    "duration": 3,
    "start_time": "2021-11-16T11:02:16.685Z"
   },
   {
    "duration": 3,
    "start_time": "2021-11-16T11:02:19.479Z"
   },
   {
    "duration": 3,
    "start_time": "2021-11-16T11:02:47.067Z"
   },
   {
    "duration": 3,
    "start_time": "2021-11-16T11:02:49.353Z"
   },
   {
    "duration": 3,
    "start_time": "2021-11-16T11:03:07.835Z"
   },
   {
    "duration": 3,
    "start_time": "2021-11-16T11:03:07.953Z"
   },
   {
    "duration": 112,
    "start_time": "2021-11-16T11:07:52.072Z"
   },
   {
    "duration": 187,
    "start_time": "2021-11-16T11:09:23.468Z"
   },
   {
    "duration": 4,
    "start_time": "2021-11-16T11:10:01.455Z"
   },
   {
    "duration": 3,
    "start_time": "2021-11-16T11:10:05.069Z"
   },
   {
    "duration": 4,
    "start_time": "2021-11-16T11:10:13.376Z"
   },
   {
    "duration": 3,
    "start_time": "2021-11-16T11:10:14.434Z"
   },
   {
    "duration": 3,
    "start_time": "2021-11-16T11:10:22.853Z"
   },
   {
    "duration": 4,
    "start_time": "2021-11-16T11:27:29.279Z"
   },
   {
    "duration": 4,
    "start_time": "2021-11-16T11:29:08.919Z"
   },
   {
    "duration": 118,
    "start_time": "2021-11-16T11:29:46.703Z"
   },
   {
    "duration": 437,
    "start_time": "2021-11-16T11:36:02.181Z"
   },
   {
    "duration": 157,
    "start_time": "2021-11-16T11:36:14.388Z"
   },
   {
    "duration": 207,
    "start_time": "2021-11-16T11:47:15.898Z"
   },
   {
    "duration": 3,
    "start_time": "2021-11-16T11:53:52.092Z"
   },
   {
    "duration": 3,
    "start_time": "2021-11-16T11:53:52.236Z"
   },
   {
    "duration": 3,
    "start_time": "2021-11-16T11:59:12.005Z"
   },
   {
    "duration": 112,
    "start_time": "2021-11-16T12:00:33.446Z"
   },
   {
    "duration": 3,
    "start_time": "2021-11-16T12:02:14.453Z"
   },
   {
    "duration": 3,
    "start_time": "2021-11-16T12:02:39.512Z"
   },
   {
    "duration": 106,
    "start_time": "2021-11-16T12:03:03.460Z"
   }
  ],
  "kernelspec": {
   "display_name": "Python 3 (ipykernel)",
   "language": "python",
   "name": "python3"
  },
  "language_info": {
   "codemirror_mode": {
    "name": "ipython",
    "version": 3
   },
   "file_extension": ".py",
   "mimetype": "text/x-python",
   "name": "python",
   "nbconvert_exporter": "python",
   "pygments_lexer": "ipython3",
   "version": "3.9.5"
  },
  "toc": {
   "base_numbering": 1,
   "nav_menu": {},
   "number_sections": true,
   "sideBar": true,
   "skip_h1_title": false,
   "title_cell": "Table of Contents",
   "title_sidebar": "Contents",
   "toc_cell": false,
   "toc_position": {},
   "toc_section_display": true,
   "toc_window_display": true
  }
 },
 "nbformat": 4,
 "nbformat_minor": 2
}
