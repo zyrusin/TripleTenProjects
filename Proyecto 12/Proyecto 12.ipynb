{
 "cells": [
  {
   "cell_type": "markdown",
   "metadata": {},
   "source": [
    "# Hola Rafael ! <a class=\"tocSkip\"></a>\n",
    "\n",
    "Mi nombre es Oscar Flores y me toca revisar tu proyecto de hoy. Si tienes algún comentario que quieras agregar en tus respuestas te puedes referir a mi como Oscar, no hay problema que me trates de tú.\n",
    "\n",
    "Si veo un error en la primera revisión solamente lo señalaré y dejaré que tú encuentres de qué se trata y cómo arreglarlo. Debo prepararte para que te desempeñes como especialista en Data, en un trabajo real, el responsable a cargo tuyo hará lo mismo. Si aún tienes dificultades para resolver esta tarea, te daré indicaciones más precisas en una siguiente iteración.\n",
    "\n",
    "Te dejaré mis comentarios más abajo - **por favor, no los muevas, modifiques o borres**\n",
    "\n",
    "Comenzaré mis comentarios con un resumen de los puntos que están bien, aquellos que debes corregir y aquellos que puedes mejorar. Luego deberás revisar todo el notebook para leer mis comentarios, los cuales estarán en rectángulos de color verde, amarillo o rojo como siguen:\n",
    "\n",
    "<div class=\"alert alert-block alert-success\">\n",
    "<b>Comentario de Reviewer</b> <a class=\"tocSkip\"></a>\n",
    "    \n",
    "Muy bien! Toda la respuesta fue lograda satisfactoriamente.\n",
    "</div>\n",
    "\n",
    "<div class=\"alert alert-block alert-warning\">\n",
    "<b>Comentario de Reviewer</b> <a class=\"tocSkip\"></a>\n",
    "\n",
    "Existen detalles a mejorar. Existen recomendaciones.\n",
    "</div>\n",
    "\n",
    "<div class=\"alert alert-block alert-danger\">\n",
    "\n",
    "<b>Comentario de Reviewer</b> <a class=\"tocSkip\"></a>\n",
    "\n",
    "Se necesitan correcciones en el bloque. El trabajo no puede ser aceptado con comentarios en rojo sin solucionar.\n",
    "</div>\n",
    "\n",
    "Cualquier comentario que quieras agregar entre iteraciones de revisión lo puedes hacer de la siguiente manera:\n",
    "\n",
    "<div class=\"alert alert-block alert-info\">\n",
    "<b>Respuesta estudiante.</b> <a class=\"tocSkip\"></a>\n",
    "</div>\n",
    "\n"
   ]
  },
  {
   "cell_type": "markdown",
   "metadata": {},
   "source": [
    "## Resumen de la revisión 1 <a class=\"tocSkip\"></a>"
   ]
  },
  {
   "cell_type": "markdown",
   "metadata": {},
   "source": [
    "<div class=\"alert alert-block alert-warning\">\n",
    "<b>Comentario de Reviewer</b> <a class=\"tocSkip\"></a>\n",
    "\n",
    "Excelente trabajo Rafael! Están muy claros los pasos, tu código está muy bien comentado y ordenado. Solamente te falta verificar la existencia de outliers antes de entrenar los modelos y tal vez de agregar algunos comentarios al obtener los resultados de cada uno.\n",
    "    \n",
    "Saludos!    \n",
    "</div>"
   ]
  },
  {
   "cell_type": "markdown",
   "metadata": {},
   "source": [
    "## Resumen de la revisión 2 <a class=\"tocSkip\"></a>"
   ]
  },
  {
   "cell_type": "markdown",
   "metadata": {},
   "source": [
    "<div class=\"alert alert-block alert-success\">\n",
    "<b>Comentario de Reviewer v2</b> <a class=\"tocSkip\"></a>\n",
    "\n",
    "Muy bien! Ahora está todo lo necesario para aprobar el proyecto. Mi único comentario es que las imputaciones realizadas son muy simples, podría introducir sesgos en la data.\n",
    "    \n",
    "Saludos!    \n",
    "</div>"
   ]
  },
  {
   "cell_type": "markdown",
   "metadata": {},
   "source": [
    "----"
   ]
  },
  {
   "cell_type": "markdown",
   "metadata": {},
   "source": [
    "El servicio de venta de autos usados Rusty Bargain está desarrollando una aplicación para atraer nuevos clientes. Gracias a esa app, puedes averiguar rápidamente el valor de mercado de tu coche. Tienes acceso al historial: especificaciones técnicas, versiones de equipamiento y precios. Tienes que crear un modelo que determine el valor de mercado.\n",
    "A Rusty Bargain le interesa:\n",
    "- la calidad de la predicción;\n",
    "- la velocidad de la predicción;\n",
    "- el tiempo requerido para el entrenamiento"
   ]
  },
  {
   "cell_type": "markdown",
   "metadata": {},
   "source": [
    "## Descripción del proyecto"
   ]
  },
  {
   "cell_type": "markdown",
   "metadata": {},
   "source": [
    "Rusty Bargain es un servicio de venta de coches de segunda mano que está desarrollando una app para atraer a nuevos clientes. Gracias a esa app, puedes averiguar rápidamente el valor de mercado de tu coche. Tienes acceso al historial, especificaciones técnicas, versiones de equipamiento y precios. Tienes que crear un modelo que determine el valor de mercado.\n",
    "A Rusty Bargain le interesa:\n",
    "* la calidad de la predicción\n",
    "* la velocidad de la predicción\n",
    "* el tiempo requerido para el entrenamiento\n",
    "\n",
    "**Instrucciones del proyecto** \n",
    "1. Descarga y examina los datos.\n",
    "2. Entrena diferentes modelos con varios hiperparámetros (debes hacer al menos dos modelos diferentes, pero más es mejor. Recuerda, varias implementaciones de potenciación del gradiente no cuentan como modelos diferentes). El punto principal de este paso es comparar métodos de potenciación del gradiente con bosque aleatorio, árbol de decisión y regresión lineal.\n",
    "3. Analiza la velocidad y la calidad de los modelos.\n",
    "\n",
    "**Observaciones:**\n",
    "* Utiliza la métrica RECM para evaluar los modelos.\n",
    "* La regresión lineal no es muy buena para el ajuste de hiperparámetros, pero es perfecta para hacer una prueba de cordura de otros métodos. Si la potenciación del gradiente funciona peor que la regresión lineal, definitivamente algo salió mal.\n",
    "* Aprende por tu propia cuenta sobre la librería LightGBM y sus herramientas para crear modelos de potenciación del gradiente (gradient boosting).\n",
    "* Idealmente, tu proyecto debe tener regresión lineal para una prueba de cordura, un algoritmo basado en árbol con ajuste de hiperparámetros (preferiblemente, bosque aleatorio), LightGBM con ajuste de hiperparámetros (prueba un par de conjuntos), y CatBoost y XGBoost con ajuste de hiperparámetros (opcional).\n",
    "* Toma nota de la codificación de características categóricas para algoritmos simples. LightGBM y CatBoost tienen su implementación, pero XGBoost requiere OHE.\n",
    "* Puedes usar un comando especial para encontrar el tiempo de ejecución del código de celda en Jupyter Notebook. Encuentra ese comando.\n",
    "* Dado que el entrenamiento de un modelo de potenciación del gradiente puede llevar mucho tiempo, cambia solo algunos parámetros del modelo.\n",
    "* Si Jupyter Notebook deja de funcionar, elimina las variables excesivas por medio del operador del:\n",
    "  del features_train\n",
    "   \n",
    "**Descripción de los datos**\n",
    "El dataset está almacenado en el archivo /datasets/car_data.csv. descargar dataset.\n",
    "\n",
    "**Características**\n",
    "* *DateCrawled* — fecha en la que se descargó el perfil de la base de datos\n",
    "* *VehicleType* — tipo de carrocería del vehículo\n",
    "* *RegistrationYear* — año de matriculación del vehículo\n",
    "* *Gearbox* — tipo de caja de cambios\n",
    "* *Power* — potencia (CV)\n",
    "* *Model* — modelo del vehículo\n",
    "* *Mileage* — kilometraje (medido en km de acuerdo con las especificidades regionales del conjunto de datos)\n",
    "* *RegistrationMonth* — mes de matriculación del vehículo\n",
    "* *FuelType* — tipo de combustible\n",
    "* *Brand* — marca del vehículo\n",
    "* *NotRepaired* — vehículo con o sin reparación\n",
    "* *DateCreated* — fecha de creación del perfil\n",
    "* *NumberOfPictures* — número de fotos del vehículo\n",
    "* *PostalCode* — código postal del propietario del perfil (usuario)\n",
    "* *LastSeen* — fecha de la última vez que el usuario estuvo activo\n",
    "\n",
    "**Objetivo**\n",
    "* *Price* — precio (en euros)"
   ]
  },
  {
   "cell_type": "markdown",
   "metadata": {},
   "source": [
    "## Preparación de datos"
   ]
  },
  {
   "cell_type": "markdown",
   "metadata": {},
   "source": [
    "### Librerias a utilizar"
   ]
  },
  {
   "cell_type": "code",
   "execution_count": 1,
   "metadata": {},
   "outputs": [],
   "source": [
    "#pip install lightgbm\n",
    "#pip install catboost"
   ]
  },
  {
   "cell_type": "code",
   "execution_count": 2,
   "metadata": {},
   "outputs": [],
   "source": [
    "import pandas as pd\n",
    "import numpy as np\n",
    "import matplotlib.pyplot as plt\n",
    "import time\n",
    "from sklearn.tree import DecisionTreeRegressor\n",
    "from sklearn.ensemble import RandomForestRegressor\n",
    "from sklearn.linear_model import LinearRegression\n",
    "from sklearn.preprocessing import OneHotEncoder, MaxAbsScaler\n",
    "from sklearn.model_selection import train_test_split, GridSearchCV\n",
    "from sklearn.metrics import mean_squared_error\n",
    "import lightgbm as lgb\n",
    "from catboost import Pool, CatBoostRegressor"
   ]
  },
  {
   "cell_type": "markdown",
   "metadata": {},
   "source": [
    "###  Carga de datos"
   ]
  },
  {
   "cell_type": "code",
   "execution_count": 3,
   "metadata": {},
   "outputs": [],
   "source": [
    "df = pd.read_csv('/datasets/car_data.csv')\n",
    "#df = pd.read_csv('car_data.csv')"
   ]
  },
  {
   "cell_type": "code",
   "execution_count": 4,
   "metadata": {},
   "outputs": [
    {
     "data": {
      "text/html": [
       "<div>\n",
       "<style scoped>\n",
       "    .dataframe tbody tr th:only-of-type {\n",
       "        vertical-align: middle;\n",
       "    }\n",
       "\n",
       "    .dataframe tbody tr th {\n",
       "        vertical-align: top;\n",
       "    }\n",
       "\n",
       "    .dataframe thead th {\n",
       "        text-align: right;\n",
       "    }\n",
       "</style>\n",
       "<table border=\"1\" class=\"dataframe\">\n",
       "  <thead>\n",
       "    <tr style=\"text-align: right;\">\n",
       "      <th></th>\n",
       "      <th>DateCrawled</th>\n",
       "      <th>Price</th>\n",
       "      <th>VehicleType</th>\n",
       "      <th>RegistrationYear</th>\n",
       "      <th>Gearbox</th>\n",
       "      <th>Power</th>\n",
       "      <th>Model</th>\n",
       "      <th>Mileage</th>\n",
       "      <th>RegistrationMonth</th>\n",
       "      <th>FuelType</th>\n",
       "      <th>Brand</th>\n",
       "      <th>NotRepaired</th>\n",
       "      <th>DateCreated</th>\n",
       "      <th>NumberOfPictures</th>\n",
       "      <th>PostalCode</th>\n",
       "      <th>LastSeen</th>\n",
       "    </tr>\n",
       "  </thead>\n",
       "  <tbody>\n",
       "    <tr>\n",
       "      <th>0</th>\n",
       "      <td>24/03/2016 11:52</td>\n",
       "      <td>480</td>\n",
       "      <td>NaN</td>\n",
       "      <td>1993</td>\n",
       "      <td>manual</td>\n",
       "      <td>0</td>\n",
       "      <td>golf</td>\n",
       "      <td>150000</td>\n",
       "      <td>0</td>\n",
       "      <td>petrol</td>\n",
       "      <td>volkswagen</td>\n",
       "      <td>NaN</td>\n",
       "      <td>24/03/2016 00:00</td>\n",
       "      <td>0</td>\n",
       "      <td>70435</td>\n",
       "      <td>07/04/2016 03:16</td>\n",
       "    </tr>\n",
       "    <tr>\n",
       "      <th>1</th>\n",
       "      <td>24/03/2016 10:58</td>\n",
       "      <td>18300</td>\n",
       "      <td>coupe</td>\n",
       "      <td>2011</td>\n",
       "      <td>manual</td>\n",
       "      <td>190</td>\n",
       "      <td>NaN</td>\n",
       "      <td>125000</td>\n",
       "      <td>5</td>\n",
       "      <td>gasoline</td>\n",
       "      <td>audi</td>\n",
       "      <td>yes</td>\n",
       "      <td>24/03/2016 00:00</td>\n",
       "      <td>0</td>\n",
       "      <td>66954</td>\n",
       "      <td>07/04/2016 01:46</td>\n",
       "    </tr>\n",
       "    <tr>\n",
       "      <th>2</th>\n",
       "      <td>14/03/2016 12:52</td>\n",
       "      <td>9800</td>\n",
       "      <td>suv</td>\n",
       "      <td>2004</td>\n",
       "      <td>auto</td>\n",
       "      <td>163</td>\n",
       "      <td>grand</td>\n",
       "      <td>125000</td>\n",
       "      <td>8</td>\n",
       "      <td>gasoline</td>\n",
       "      <td>jeep</td>\n",
       "      <td>NaN</td>\n",
       "      <td>14/03/2016 00:00</td>\n",
       "      <td>0</td>\n",
       "      <td>90480</td>\n",
       "      <td>05/04/2016 12:47</td>\n",
       "    </tr>\n",
       "    <tr>\n",
       "      <th>3</th>\n",
       "      <td>17/03/2016 16:54</td>\n",
       "      <td>1500</td>\n",
       "      <td>small</td>\n",
       "      <td>2001</td>\n",
       "      <td>manual</td>\n",
       "      <td>75</td>\n",
       "      <td>golf</td>\n",
       "      <td>150000</td>\n",
       "      <td>6</td>\n",
       "      <td>petrol</td>\n",
       "      <td>volkswagen</td>\n",
       "      <td>no</td>\n",
       "      <td>17/03/2016 00:00</td>\n",
       "      <td>0</td>\n",
       "      <td>91074</td>\n",
       "      <td>17/03/2016 17:40</td>\n",
       "    </tr>\n",
       "    <tr>\n",
       "      <th>4</th>\n",
       "      <td>31/03/2016 17:25</td>\n",
       "      <td>3600</td>\n",
       "      <td>small</td>\n",
       "      <td>2008</td>\n",
       "      <td>manual</td>\n",
       "      <td>69</td>\n",
       "      <td>fabia</td>\n",
       "      <td>90000</td>\n",
       "      <td>7</td>\n",
       "      <td>gasoline</td>\n",
       "      <td>skoda</td>\n",
       "      <td>no</td>\n",
       "      <td>31/03/2016 00:00</td>\n",
       "      <td>0</td>\n",
       "      <td>60437</td>\n",
       "      <td>06/04/2016 10:17</td>\n",
       "    </tr>\n",
       "  </tbody>\n",
       "</table>\n",
       "</div>"
      ],
      "text/plain": [
       "        DateCrawled  Price VehicleType  RegistrationYear Gearbox  Power  \\\n",
       "0  24/03/2016 11:52    480         NaN              1993  manual      0   \n",
       "1  24/03/2016 10:58  18300       coupe              2011  manual    190   \n",
       "2  14/03/2016 12:52   9800         suv              2004    auto    163   \n",
       "3  17/03/2016 16:54   1500       small              2001  manual     75   \n",
       "4  31/03/2016 17:25   3600       small              2008  manual     69   \n",
       "\n",
       "   Model  Mileage  RegistrationMonth  FuelType       Brand NotRepaired  \\\n",
       "0   golf   150000                  0    petrol  volkswagen         NaN   \n",
       "1    NaN   125000                  5  gasoline        audi         yes   \n",
       "2  grand   125000                  8  gasoline        jeep         NaN   \n",
       "3   golf   150000                  6    petrol  volkswagen          no   \n",
       "4  fabia    90000                  7  gasoline       skoda          no   \n",
       "\n",
       "        DateCreated  NumberOfPictures  PostalCode          LastSeen  \n",
       "0  24/03/2016 00:00                 0       70435  07/04/2016 03:16  \n",
       "1  24/03/2016 00:00                 0       66954  07/04/2016 01:46  \n",
       "2  14/03/2016 00:00                 0       90480  05/04/2016 12:47  \n",
       "3  17/03/2016 00:00                 0       91074  17/03/2016 17:40  \n",
       "4  31/03/2016 00:00                 0       60437  06/04/2016 10:17  "
      ]
     },
     "metadata": {},
     "output_type": "display_data"
    },
    {
     "name": "stdout",
     "output_type": "stream",
     "text": [
      "(354369, 16)\n"
     ]
    }
   ],
   "source": [
    "display(df.head())\n",
    "\n",
    "print(df.shape)"
   ]
  },
  {
   "cell_type": "code",
   "execution_count": 5,
   "metadata": {},
   "outputs": [
    {
     "name": "stdout",
     "output_type": "stream",
     "text": [
      "<class 'pandas.core.frame.DataFrame'>\n",
      "RangeIndex: 354369 entries, 0 to 354368\n",
      "Data columns (total 16 columns):\n",
      " #   Column             Non-Null Count   Dtype \n",
      "---  ------             --------------   ----- \n",
      " 0   DateCrawled        354369 non-null  object\n",
      " 1   Price              354369 non-null  int64 \n",
      " 2   VehicleType        316879 non-null  object\n",
      " 3   RegistrationYear   354369 non-null  int64 \n",
      " 4   Gearbox            334536 non-null  object\n",
      " 5   Power              354369 non-null  int64 \n",
      " 6   Model              334664 non-null  object\n",
      " 7   Mileage            354369 non-null  int64 \n",
      " 8   RegistrationMonth  354369 non-null  int64 \n",
      " 9   FuelType           321474 non-null  object\n",
      " 10  Brand              354369 non-null  object\n",
      " 11  NotRepaired        283215 non-null  object\n",
      " 12  DateCreated        354369 non-null  object\n",
      " 13  NumberOfPictures   354369 non-null  int64 \n",
      " 14  PostalCode         354369 non-null  int64 \n",
      " 15  LastSeen           354369 non-null  object\n",
      "dtypes: int64(7), object(9)\n",
      "memory usage: 43.3+ MB\n"
     ]
    }
   ],
   "source": [
    "df.info()"
   ]
  },
  {
   "cell_type": "markdown",
   "metadata": {},
   "source": [
    "A simple vista podemos visualizar que tenemos valores ausentes, variables categoricas y numericas, valores de fecha que estan como objeto.\n",
    "\n",
    "Si bien no se requiere cambiaremos los valores de fecha al tipo correspondiente, cambiaremos los titulos a minusculas y veremos cuantos valores ausentes tenemos y que porcentaje representan."
   ]
  },
  {
   "cell_type": "code",
   "execution_count": 6,
   "metadata": {},
   "outputs": [
    {
     "data": {
      "text/html": [
       "<div>\n",
       "<style scoped>\n",
       "    .dataframe tbody tr th:only-of-type {\n",
       "        vertical-align: middle;\n",
       "    }\n",
       "\n",
       "    .dataframe tbody tr th {\n",
       "        vertical-align: top;\n",
       "    }\n",
       "\n",
       "    .dataframe thead th {\n",
       "        text-align: right;\n",
       "    }\n",
       "</style>\n",
       "<table border=\"1\" class=\"dataframe\">\n",
       "  <thead>\n",
       "    <tr style=\"text-align: right;\">\n",
       "      <th></th>\n",
       "      <th>datecrawled</th>\n",
       "      <th>price</th>\n",
       "      <th>vehicletype</th>\n",
       "      <th>registrationyear</th>\n",
       "      <th>gearbox</th>\n",
       "      <th>power</th>\n",
       "      <th>model</th>\n",
       "      <th>mileage</th>\n",
       "      <th>registrationmonth</th>\n",
       "      <th>fueltype</th>\n",
       "      <th>brand</th>\n",
       "      <th>notrepaired</th>\n",
       "      <th>datecreated</th>\n",
       "      <th>numberofpictures</th>\n",
       "      <th>postalcode</th>\n",
       "      <th>lastseen</th>\n",
       "    </tr>\n",
       "  </thead>\n",
       "  <tbody>\n",
       "    <tr>\n",
       "      <th>0</th>\n",
       "      <td>24/03/2016 11:52</td>\n",
       "      <td>480</td>\n",
       "      <td>NaN</td>\n",
       "      <td>1993</td>\n",
       "      <td>manual</td>\n",
       "      <td>0</td>\n",
       "      <td>golf</td>\n",
       "      <td>150000</td>\n",
       "      <td>0</td>\n",
       "      <td>petrol</td>\n",
       "      <td>volkswagen</td>\n",
       "      <td>NaN</td>\n",
       "      <td>24/03/2016 00:00</td>\n",
       "      <td>0</td>\n",
       "      <td>70435</td>\n",
       "      <td>07/04/2016 03:16</td>\n",
       "    </tr>\n",
       "    <tr>\n",
       "      <th>1</th>\n",
       "      <td>24/03/2016 10:58</td>\n",
       "      <td>18300</td>\n",
       "      <td>coupe</td>\n",
       "      <td>2011</td>\n",
       "      <td>manual</td>\n",
       "      <td>190</td>\n",
       "      <td>NaN</td>\n",
       "      <td>125000</td>\n",
       "      <td>5</td>\n",
       "      <td>gasoline</td>\n",
       "      <td>audi</td>\n",
       "      <td>yes</td>\n",
       "      <td>24/03/2016 00:00</td>\n",
       "      <td>0</td>\n",
       "      <td>66954</td>\n",
       "      <td>07/04/2016 01:46</td>\n",
       "    </tr>\n",
       "    <tr>\n",
       "      <th>2</th>\n",
       "      <td>14/03/2016 12:52</td>\n",
       "      <td>9800</td>\n",
       "      <td>suv</td>\n",
       "      <td>2004</td>\n",
       "      <td>auto</td>\n",
       "      <td>163</td>\n",
       "      <td>grand</td>\n",
       "      <td>125000</td>\n",
       "      <td>8</td>\n",
       "      <td>gasoline</td>\n",
       "      <td>jeep</td>\n",
       "      <td>NaN</td>\n",
       "      <td>14/03/2016 00:00</td>\n",
       "      <td>0</td>\n",
       "      <td>90480</td>\n",
       "      <td>05/04/2016 12:47</td>\n",
       "    </tr>\n",
       "    <tr>\n",
       "      <th>3</th>\n",
       "      <td>17/03/2016 16:54</td>\n",
       "      <td>1500</td>\n",
       "      <td>small</td>\n",
       "      <td>2001</td>\n",
       "      <td>manual</td>\n",
       "      <td>75</td>\n",
       "      <td>golf</td>\n",
       "      <td>150000</td>\n",
       "      <td>6</td>\n",
       "      <td>petrol</td>\n",
       "      <td>volkswagen</td>\n",
       "      <td>no</td>\n",
       "      <td>17/03/2016 00:00</td>\n",
       "      <td>0</td>\n",
       "      <td>91074</td>\n",
       "      <td>17/03/2016 17:40</td>\n",
       "    </tr>\n",
       "    <tr>\n",
       "      <th>4</th>\n",
       "      <td>31/03/2016 17:25</td>\n",
       "      <td>3600</td>\n",
       "      <td>small</td>\n",
       "      <td>2008</td>\n",
       "      <td>manual</td>\n",
       "      <td>69</td>\n",
       "      <td>fabia</td>\n",
       "      <td>90000</td>\n",
       "      <td>7</td>\n",
       "      <td>gasoline</td>\n",
       "      <td>skoda</td>\n",
       "      <td>no</td>\n",
       "      <td>31/03/2016 00:00</td>\n",
       "      <td>0</td>\n",
       "      <td>60437</td>\n",
       "      <td>06/04/2016 10:17</td>\n",
       "    </tr>\n",
       "  </tbody>\n",
       "</table>\n",
       "</div>"
      ],
      "text/plain": [
       "        datecrawled  price vehicletype  registrationyear gearbox  power  \\\n",
       "0  24/03/2016 11:52    480         NaN              1993  manual      0   \n",
       "1  24/03/2016 10:58  18300       coupe              2011  manual    190   \n",
       "2  14/03/2016 12:52   9800         suv              2004    auto    163   \n",
       "3  17/03/2016 16:54   1500       small              2001  manual     75   \n",
       "4  31/03/2016 17:25   3600       small              2008  manual     69   \n",
       "\n",
       "   model  mileage  registrationmonth  fueltype       brand notrepaired  \\\n",
       "0   golf   150000                  0    petrol  volkswagen         NaN   \n",
       "1    NaN   125000                  5  gasoline        audi         yes   \n",
       "2  grand   125000                  8  gasoline        jeep         NaN   \n",
       "3   golf   150000                  6    petrol  volkswagen          no   \n",
       "4  fabia    90000                  7  gasoline       skoda          no   \n",
       "\n",
       "        datecreated  numberofpictures  postalcode          lastseen  \n",
       "0  24/03/2016 00:00                 0       70435  07/04/2016 03:16  \n",
       "1  24/03/2016 00:00                 0       66954  07/04/2016 01:46  \n",
       "2  14/03/2016 00:00                 0       90480  05/04/2016 12:47  \n",
       "3  17/03/2016 00:00                 0       91074  17/03/2016 17:40  \n",
       "4  31/03/2016 00:00                 0       60437  06/04/2016 10:17  "
      ]
     },
     "execution_count": 6,
     "metadata": {},
     "output_type": "execute_result"
    }
   ],
   "source": [
    "# Cambio de titulos de columnas a minusculas y comprobamos que se haya realizado los cambios\n",
    "def col_min(data):\n",
    "    \"\"\"Esta funcion cambia los titulos a minusculas, argumentos:\n",
    "    data: dataframe a actuializar los datos\"\"\"\n",
    "    col_new = []\n",
    "    for i in data:\n",
    "        col_new.append(i.lower())\n",
    "    data.columns = col_new\n",
    "    \n",
    "col_min(df)\n",
    "df.head()"
   ]
  },
  {
   "cell_type": "markdown",
   "metadata": {},
   "source": [
    "<div class=\"alert alert-block alert-success\">\n",
    "<b>Comentario de Reviewer</b> <a class=\"tocSkip\"></a>\n",
    "\n",
    "Ok, no me parece mal aunque es preferible transformarlo a snakecase\n",
    "</div>"
   ]
  },
  {
   "cell_type": "code",
   "execution_count": 7,
   "metadata": {},
   "outputs": [],
   "source": [
    "# Cambio de tipo a valores de fecha en columnas \"datecrawled, datecreated, lastseen\"\n",
    "date_columns = ['datecrawled', 'datecreated', 'lastseen']\n",
    "for x in date_columns:\n",
    "    df[x] = pd.to_datetime(df[x], format='%d/%m/%Y %H:%M')"
   ]
  },
  {
   "cell_type": "markdown",
   "metadata": {},
   "source": [
    "<div class=\"alert alert-block alert-success\">\n",
    "<b>Comentario de Reviewer</b> <a class=\"tocSkip\"></a>\n",
    "\n",
    "Bien\n",
    "</div>"
   ]
  },
  {
   "cell_type": "code",
   "execution_count": 8,
   "metadata": {},
   "outputs": [
    {
     "data": {
      "text/html": [
       "<div>\n",
       "<style scoped>\n",
       "    .dataframe tbody tr th:only-of-type {\n",
       "        vertical-align: middle;\n",
       "    }\n",
       "\n",
       "    .dataframe tbody tr th {\n",
       "        vertical-align: top;\n",
       "    }\n",
       "\n",
       "    .dataframe thead th {\n",
       "        text-align: right;\n",
       "    }\n",
       "</style>\n",
       "<table border=\"1\" class=\"dataframe\">\n",
       "  <thead>\n",
       "    <tr style=\"text-align: right;\">\n",
       "      <th></th>\n",
       "      <th>datecrawled</th>\n",
       "      <th>price</th>\n",
       "      <th>vehicletype</th>\n",
       "      <th>registrationyear</th>\n",
       "      <th>gearbox</th>\n",
       "      <th>power</th>\n",
       "      <th>model</th>\n",
       "      <th>mileage</th>\n",
       "      <th>registrationmonth</th>\n",
       "      <th>fueltype</th>\n",
       "      <th>brand</th>\n",
       "      <th>notrepaired</th>\n",
       "      <th>datecreated</th>\n",
       "      <th>numberofpictures</th>\n",
       "      <th>postalcode</th>\n",
       "      <th>lastseen</th>\n",
       "    </tr>\n",
       "  </thead>\n",
       "  <tbody>\n",
       "    <tr>\n",
       "      <th>0</th>\n",
       "      <td>2016-03-24 11:52:00</td>\n",
       "      <td>480</td>\n",
       "      <td>NaN</td>\n",
       "      <td>1993</td>\n",
       "      <td>manual</td>\n",
       "      <td>0</td>\n",
       "      <td>golf</td>\n",
       "      <td>150000</td>\n",
       "      <td>0</td>\n",
       "      <td>petrol</td>\n",
       "      <td>volkswagen</td>\n",
       "      <td>NaN</td>\n",
       "      <td>2016-03-24</td>\n",
       "      <td>0</td>\n",
       "      <td>70435</td>\n",
       "      <td>2016-04-07 03:16:00</td>\n",
       "    </tr>\n",
       "    <tr>\n",
       "      <th>1</th>\n",
       "      <td>2016-03-24 10:58:00</td>\n",
       "      <td>18300</td>\n",
       "      <td>coupe</td>\n",
       "      <td>2011</td>\n",
       "      <td>manual</td>\n",
       "      <td>190</td>\n",
       "      <td>NaN</td>\n",
       "      <td>125000</td>\n",
       "      <td>5</td>\n",
       "      <td>gasoline</td>\n",
       "      <td>audi</td>\n",
       "      <td>yes</td>\n",
       "      <td>2016-03-24</td>\n",
       "      <td>0</td>\n",
       "      <td>66954</td>\n",
       "      <td>2016-04-07 01:46:00</td>\n",
       "    </tr>\n",
       "    <tr>\n",
       "      <th>2</th>\n",
       "      <td>2016-03-14 12:52:00</td>\n",
       "      <td>9800</td>\n",
       "      <td>suv</td>\n",
       "      <td>2004</td>\n",
       "      <td>auto</td>\n",
       "      <td>163</td>\n",
       "      <td>grand</td>\n",
       "      <td>125000</td>\n",
       "      <td>8</td>\n",
       "      <td>gasoline</td>\n",
       "      <td>jeep</td>\n",
       "      <td>NaN</td>\n",
       "      <td>2016-03-14</td>\n",
       "      <td>0</td>\n",
       "      <td>90480</td>\n",
       "      <td>2016-04-05 12:47:00</td>\n",
       "    </tr>\n",
       "    <tr>\n",
       "      <th>3</th>\n",
       "      <td>2016-03-17 16:54:00</td>\n",
       "      <td>1500</td>\n",
       "      <td>small</td>\n",
       "      <td>2001</td>\n",
       "      <td>manual</td>\n",
       "      <td>75</td>\n",
       "      <td>golf</td>\n",
       "      <td>150000</td>\n",
       "      <td>6</td>\n",
       "      <td>petrol</td>\n",
       "      <td>volkswagen</td>\n",
       "      <td>no</td>\n",
       "      <td>2016-03-17</td>\n",
       "      <td>0</td>\n",
       "      <td>91074</td>\n",
       "      <td>2016-03-17 17:40:00</td>\n",
       "    </tr>\n",
       "    <tr>\n",
       "      <th>4</th>\n",
       "      <td>2016-03-31 17:25:00</td>\n",
       "      <td>3600</td>\n",
       "      <td>small</td>\n",
       "      <td>2008</td>\n",
       "      <td>manual</td>\n",
       "      <td>69</td>\n",
       "      <td>fabia</td>\n",
       "      <td>90000</td>\n",
       "      <td>7</td>\n",
       "      <td>gasoline</td>\n",
       "      <td>skoda</td>\n",
       "      <td>no</td>\n",
       "      <td>2016-03-31</td>\n",
       "      <td>0</td>\n",
       "      <td>60437</td>\n",
       "      <td>2016-04-06 10:17:00</td>\n",
       "    </tr>\n",
       "  </tbody>\n",
       "</table>\n",
       "</div>"
      ],
      "text/plain": [
       "          datecrawled  price vehicletype  registrationyear gearbox  power  \\\n",
       "0 2016-03-24 11:52:00    480         NaN              1993  manual      0   \n",
       "1 2016-03-24 10:58:00  18300       coupe              2011  manual    190   \n",
       "2 2016-03-14 12:52:00   9800         suv              2004    auto    163   \n",
       "3 2016-03-17 16:54:00   1500       small              2001  manual     75   \n",
       "4 2016-03-31 17:25:00   3600       small              2008  manual     69   \n",
       "\n",
       "   model  mileage  registrationmonth  fueltype       brand notrepaired  \\\n",
       "0   golf   150000                  0    petrol  volkswagen         NaN   \n",
       "1    NaN   125000                  5  gasoline        audi         yes   \n",
       "2  grand   125000                  8  gasoline        jeep         NaN   \n",
       "3   golf   150000                  6    petrol  volkswagen          no   \n",
       "4  fabia    90000                  7  gasoline       skoda          no   \n",
       "\n",
       "  datecreated  numberofpictures  postalcode            lastseen  \n",
       "0  2016-03-24                 0       70435 2016-04-07 03:16:00  \n",
       "1  2016-03-24                 0       66954 2016-04-07 01:46:00  \n",
       "2  2016-03-14                 0       90480 2016-04-05 12:47:00  \n",
       "3  2016-03-17                 0       91074 2016-03-17 17:40:00  \n",
       "4  2016-03-31                 0       60437 2016-04-06 10:17:00  "
      ]
     },
     "metadata": {},
     "output_type": "display_data"
    },
    {
     "name": "stdout",
     "output_type": "stream",
     "text": [
      "\n",
      "<class 'pandas.core.frame.DataFrame'>\n",
      "RangeIndex: 354369 entries, 0 to 354368\n",
      "Data columns (total 16 columns):\n",
      " #   Column             Non-Null Count   Dtype         \n",
      "---  ------             --------------   -----         \n",
      " 0   datecrawled        354369 non-null  datetime64[ns]\n",
      " 1   price              354369 non-null  int64         \n",
      " 2   vehicletype        316879 non-null  object        \n",
      " 3   registrationyear   354369 non-null  int64         \n",
      " 4   gearbox            334536 non-null  object        \n",
      " 5   power              354369 non-null  int64         \n",
      " 6   model              334664 non-null  object        \n",
      " 7   mileage            354369 non-null  int64         \n",
      " 8   registrationmonth  354369 non-null  int64         \n",
      " 9   fueltype           321474 non-null  object        \n",
      " 10  brand              354369 non-null  object        \n",
      " 11  notrepaired        283215 non-null  object        \n",
      " 12  datecreated        354369 non-null  datetime64[ns]\n",
      " 13  numberofpictures   354369 non-null  int64         \n",
      " 14  postalcode         354369 non-null  int64         \n",
      " 15  lastseen           354369 non-null  datetime64[ns]\n",
      "dtypes: datetime64[ns](3), int64(7), object(6)\n",
      "memory usage: 43.3+ MB\n",
      "None\n"
     ]
    }
   ],
   "source": [
    "# Comprobamos\n",
    "display(df.head())\n",
    "print()\n",
    "print(df.info())"
   ]
  },
  {
   "cell_type": "markdown",
   "metadata": {},
   "source": [
    "Hemos arreglado las columnas cambiando su texto a minusculas y se ha cambiado el tipo de datos de las columnas de fecha a datetime, ahora revisaremos cuantos nos afectan los valores ausentes en nuestro dataframe."
   ]
  },
  {
   "cell_type": "code",
   "execution_count": 9,
   "metadata": {},
   "outputs": [
    {
     "data": {
      "text/plain": [
       "datecrawled              0\n",
       "price                    0\n",
       "vehicletype          37490\n",
       "registrationyear         0\n",
       "gearbox              19833\n",
       "power                    0\n",
       "model                19705\n",
       "mileage                  0\n",
       "registrationmonth        0\n",
       "fueltype             32895\n",
       "brand                    0\n",
       "notrepaired          71154\n",
       "datecreated              0\n",
       "numberofpictures         0\n",
       "postalcode               0\n",
       "lastseen                 0\n",
       "dtype: int64"
      ]
     },
     "execution_count": 9,
     "metadata": {},
     "output_type": "execute_result"
    }
   ],
   "source": [
    "df.isna().sum()"
   ]
  },
  {
   "cell_type": "code",
   "execution_count": 10,
   "metadata": {},
   "outputs": [
    {
     "name": "stdout",
     "output_type": "stream",
     "text": [
      "Valores ausentes en vehicletype 37490\n",
      "Representa 10.58 % de los valores totales\n",
      "\n",
      "Valores ausentes en gearbox 19833\n",
      "Representa 5.6 % de los valores totales\n",
      "\n",
      "Valores ausentes en model 19705\n",
      "Representa 5.56 % de los valores totales\n",
      "\n",
      "Valores ausentes en fueltype 32895\n",
      "Representa 9.28 % de los valores totales\n",
      "\n",
      "Valores ausentes en notrepaired 71154\n",
      "Representa 20.08 % de los valores totales\n",
      "\n"
     ]
    }
   ],
   "source": [
    "# Revisaremos que porcentaje de valores ausentes tenemos respecto al total de filas en nuestro dataframe\n",
    "for x in df:\n",
    "    if df[x].isna().sum() != 0:\n",
    "        print('Valores ausentes en',x,df[x].isna().sum())\n",
    "        print('Representa',round((df[x].isna().sum()/len(df[x]))*100,2),'% de los valores totales')\n",
    "        print()"
   ]
  },
  {
   "cell_type": "markdown",
   "metadata": {},
   "source": [
    "Tenemos 5 columans con valores ausentes las cuales no podrian representar gran problema de eliminar estas estas filas ya que no es un porcentaje alto, a excepcion de la columna **\"notrepaired\"** que tiene 20% de valores ausentes respecto al total, veamos que datos tenemos en estas columnas y sacar una conclusion."
   ]
  },
  {
   "cell_type": "markdown",
   "metadata": {},
   "source": [
    "<div class=\"alert alert-block alert-success\">\n",
    "<b>Comentario de Reviewer</b> <a class=\"tocSkip\"></a>\n",
    "\n",
    "Muy bien!\n",
    "</div>"
   ]
  },
  {
   "cell_type": "code",
   "execution_count": 11,
   "metadata": {},
   "outputs": [],
   "source": [
    "# Creamos una lista con las columnas con valores ausentes\n",
    "col_aus = []\n",
    "for x in df:\n",
    "    if df[x].isna().sum() != 0:\n",
    "        col_aus.append(x)"
   ]
  },
  {
   "cell_type": "code",
   "execution_count": 12,
   "metadata": {},
   "outputs": [
    {
     "name": "stdout",
     "output_type": "stream",
     "text": [
      "sedan          91457\n",
      "small          79831\n",
      "wagon          65166\n",
      "bus            28775\n",
      "convertible    20203\n",
      "coupe          16163\n",
      "suv            11996\n",
      "other           3288\n",
      "Name: vehicletype, dtype: int64\n",
      "\n",
      "manual    268251\n",
      "auto       66285\n",
      "Name: gearbox, dtype: int64\n",
      "\n",
      "golf                  29232\n",
      "other                 24421\n",
      "3er                   19761\n",
      "polo                  13066\n",
      "corsa                 12570\n",
      "                      ...  \n",
      "i3                        8\n",
      "rangerover                4\n",
      "serie_3                   4\n",
      "serie_1                   2\n",
      "range_rover_evoque        2\n",
      "Name: model, Length: 250, dtype: int64\n",
      "\n",
      "petrol      216352\n",
      "gasoline     98720\n",
      "lpg           5310\n",
      "cng            565\n",
      "hybrid         233\n",
      "other          204\n",
      "electric        90\n",
      "Name: fueltype, dtype: int64\n",
      "\n",
      "no     247161\n",
      "yes     36054\n",
      "Name: notrepaired, dtype: int64\n",
      "\n"
     ]
    }
   ],
   "source": [
    "# Revisamos la clasificacion de datos que contienen las columnas con valores ausentes\n",
    "for x in col_aus:\n",
    "    print(df[x].value_counts())\n",
    "    print()"
   ]
  },
  {
   "cell_type": "markdown",
   "metadata": {},
   "source": [
    "Veamos si tenemos valores unicos que podamos homologar en variables categoricas y valores atipicos en variables numericas"
   ]
  },
  {
   "cell_type": "code",
   "execution_count": 13,
   "metadata": {},
   "outputs": [],
   "source": [
    "cat_features = ['vehicletype', 'gearbox','model', 'fueltype', 'brand',\n",
    "       'notrepaired']\n",
    "features = ['registrationyear','power', 'mileage']\n",
    "target = 'price'"
   ]
  },
  {
   "cell_type": "code",
   "execution_count": 14,
   "metadata": {},
   "outputs": [
    {
     "name": "stdout",
     "output_type": "stream",
     "text": [
      "['bus' 'convertible' 'coupe' 'other' 'sedan' 'small' 'suv' 'wagon' nan]\n",
      "['auto' 'manual' nan]\n",
      "['100' '145' '147' '156' '159' '1_reihe' '1er' '200' '2_reihe' '300c'\n",
      " '3_reihe' '3er' '4_reihe' '500' '5_reihe' '5er' '601' '6_reihe' '6er'\n",
      " '7er' '80' '850' '90' '900' '9000' '911' 'a1' 'a2' 'a3' 'a4' 'a5' 'a6'\n",
      " 'a8' 'a_klasse' 'accord' 'agila' 'alhambra' 'almera' 'altea' 'amarok'\n",
      " 'antara' 'arosa' 'astra' 'auris' 'avensis' 'aveo' 'aygo' 'b_klasse'\n",
      " 'b_max' 'beetle' 'berlingo' 'bora' 'boxster' 'bravo' 'c1' 'c2' 'c3' 'c4'\n",
      " 'c5' 'c_klasse' 'c_max' 'c_reihe' 'caddy' 'calibra' 'captiva' 'carisma'\n",
      " 'carnival' 'cayenne' 'cc' 'ceed' 'charade' 'cherokee' 'citigo' 'civic'\n",
      " 'cl' 'clio' 'clk' 'clubman' 'colt' 'combo' 'cooper' 'cordoba' 'corolla'\n",
      " 'corsa' 'cr_reihe' 'croma' 'crossfire' 'cuore' 'cx_reihe' 'defender'\n",
      " 'delta' 'discovery' 'doblo' 'ducato' 'duster' 'e_klasse' 'elefantino'\n",
      " 'eos' 'escort' 'espace' 'exeo' 'fabia' 'fiesta' 'focus' 'forester'\n",
      " 'forfour' 'fortwo' 'fox' 'freelander' 'fusion' 'g_klasse' 'galant'\n",
      " 'galaxy' 'getz' 'gl' 'glk' 'golf' 'grand' 'i3' 'i_reihe' 'ibiza'\n",
      " 'impreza' 'insignia' 'jazz' 'jetta' 'jimny' 'juke' 'justy' 'ka' 'kadett'\n",
      " 'kaefer' 'kalina' 'kalos' 'kangoo' 'kappa' 'kuga' 'laguna' 'lancer'\n",
      " 'lanos' 'legacy' 'leon' 'lodgy' 'logan' 'lupo' 'lybra' 'm_klasse'\n",
      " 'm_reihe' 'materia' 'matiz' 'megane' 'meriva' 'micra' 'mii' 'modus'\n",
      " 'mondeo' 'move' 'musa' 'mustang' 'mx_reihe' 'navara' 'niva' 'note'\n",
      " 'nubira' 'octavia' 'omega' 'one' 'other' 'outlander' 'pajero' 'panda'\n",
      " 'passat' 'phaeton' 'picanto' 'polo' 'primera' 'ptcruiser' 'punto' 'q3'\n",
      " 'q5' 'q7' 'qashqai' 'r19' 'range_rover' 'range_rover_evoque'\n",
      " 'range_rover_sport' 'rangerover' 'rav' 'rio' 'roadster' 'roomster'\n",
      " 'rx_reihe' 's60' 's_klasse' 's_max' 's_type' 'samara' 'sandero' 'santa'\n",
      " 'scenic' 'scirocco' 'seicento' 'serie_1' 'serie_2' 'serie_3' 'sharan'\n",
      " 'signum' 'sirion' 'sl' 'slk' 'sorento' 'spark' 'spider' 'sportage'\n",
      " 'sprinter' 'stilo' 'superb' 'swift' 'terios' 'tigra' 'tiguan' 'toledo'\n",
      " 'touareg' 'touran' 'transit' 'transporter' 'tt' 'tucson' 'twingo' 'up'\n",
      " 'v40' 'v50' 'v60' 'v70' 'v_klasse' 'vectra' 'verso' 'viano' 'vito'\n",
      " 'vivaro' 'voyager' 'wrangler' 'x_reihe' 'x_trail' 'x_type' 'xc_reihe'\n",
      " 'yaris' 'yeti' 'ypsilon' 'z_reihe' 'zafira' nan]\n",
      "['cng' 'electric' 'gasoline' 'hybrid' 'lpg' 'other' 'petrol' nan]\n",
      "['alfa_romeo' 'audi' 'bmw' 'chevrolet' 'chrysler' 'citroen' 'dacia'\n",
      " 'daewoo' 'daihatsu' 'fiat' 'ford' 'honda' 'hyundai' 'jaguar' 'jeep' 'kia'\n",
      " 'lada' 'lancia' 'land_rover' 'mazda' 'mercedes_benz' 'mini' 'mitsubishi'\n",
      " 'nissan' 'opel' 'peugeot' 'porsche' 'renault' 'rover' 'saab' 'seat'\n",
      " 'skoda' 'smart' 'sonstige_autos' 'subaru' 'suzuki' 'toyota' 'trabant'\n",
      " 'volkswagen' 'volvo']\n",
      "['no' 'yes' nan]\n"
     ]
    }
   ],
   "source": [
    "for x in cat_features:\n",
    "    print(df[x].sort_values(ascending=True).unique())"
   ]
  },
  {
   "cell_type": "markdown",
   "metadata": {},
   "source": [
    "Al parecer no tenemos valores que podamos homologar en las variables categoricas, revisemos las variables numericas para verificar si existen valores atipicos"
   ]
  },
  {
   "cell_type": "code",
   "execution_count": 15,
   "metadata": {},
   "outputs": [
    {
     "name": "stdout",
     "output_type": "stream",
     "text": [
      "Variable: registrationyear\n",
      "count    354369.000000\n",
      "mean       2004.234448\n",
      "std          90.227958\n",
      "min        1000.000000\n",
      "25%        1999.000000\n",
      "50%        2003.000000\n",
      "75%        2008.000000\n",
      "max        9999.000000\n",
      "Name: registrationyear, dtype: float64\n",
      "\n",
      "Variable: power\n",
      "count    354369.000000\n",
      "mean        110.094337\n",
      "std         189.850405\n",
      "min           0.000000\n",
      "25%          69.000000\n",
      "50%         105.000000\n",
      "75%         143.000000\n",
      "max       20000.000000\n",
      "Name: power, dtype: float64\n",
      "\n",
      "Variable: mileage\n",
      "count    354369.000000\n",
      "mean     128211.172535\n",
      "std       37905.341530\n",
      "min        5000.000000\n",
      "25%      125000.000000\n",
      "50%      150000.000000\n",
      "75%      150000.000000\n",
      "max      150000.000000\n",
      "Name: mileage, dtype: float64\n",
      "\n"
     ]
    }
   ],
   "source": [
    "for x in features:\n",
    "    print('Variable:',x)\n",
    "    print(df[x].describe())\n",
    "    print()"
   ]
  },
  {
   "cell_type": "markdown",
   "metadata": {},
   "source": [
    "Podemos observar a simple vista que hay valores en registrationyear y power que no concuerdan, es decir, no son logicos, años de registracion donde aun no existian los autos y valores en años que aun no llegamos a vivir, y potencia de autos los cuales son irreales, revisemolos mas a detalle."
   ]
  },
  {
   "cell_type": "code",
   "execution_count": 16,
   "metadata": {},
   "outputs": [
    {
     "name": "stdout",
     "output_type": "stream",
     "text": [
      "Valores del parametro registrationyear\n"
     ]
    },
    {
     "data": {
      "image/png": "[encoded data removed]",
      "text/plain": [
       "<Figure size 432x288 with 1 Axes>"
      ]
     },
     "metadata": {
      "needs_background": "light"
     },
     "output_type": "display_data"
    },
    {
     "name": "stdout",
     "output_type": "stream",
     "text": [
      "Valores del parametro power\n"
     ]
    },
    {
     "data": {
      "image/png": "[encoded data removed]",
      "text/plain": [
       "<Figure size 432x288 with 1 Axes>"
      ]
     },
     "metadata": {
      "needs_background": "light"
     },
     "output_type": "display_data"
    },
    {
     "name": "stdout",
     "output_type": "stream",
     "text": [
      "Valores del parametro mileage\n"
     ]
    },
    {
     "data": {
      "image/png": "[encoded data removed]",
      "text/plain": [
       "<Figure size 432x288 with 1 Axes>"
      ]
     },
     "metadata": {
      "needs_background": "light"
     },
     "output_type": "display_data"
    }
   ],
   "source": [
    "for x in features:\n",
    "    print('Valores del parametro',x)\n",
    "    df.boxplot(x)\n",
    "    plt.show()"
   ]
  },
  {
   "cell_type": "markdown",
   "metadata": {},
   "source": [
    "Tenemos un problema con estos datos, para corregirlos usaremos mediana y promedio para cambiar los datos:\n",
    "* Usaremos la mediana para el campo de registrationyear de los años muy antiguos y los años que aun no llegamos a vivir\n",
    "* Usaremos el promedio para reemplazar los campos de power, ya que 1CV es practicamente igual 1HP, hoy en dia un auto con mas de 1000Hp es muy dificil de crear, por lo que el valor de power de estos vehiculos los cambiaremos con la media de la muestra."
   ]
  },
  {
   "cell_type": "code",
   "execution_count": 17,
   "metadata": {},
   "outputs": [
    {
     "name": "stdout",
     "output_type": "stream",
     "text": [
      "2003\n",
      "110\n"
     ]
    }
   ],
   "source": [
    "#Crearemos los valores de las variables con los valores que reemplazaran los valores atipicos\n",
    "registration_median = int(df['registrationyear'].median())\n",
    "print(registration_median)\n",
    "power_mean = int(round(df['power'].mean(),0))\n",
    "print(power_mean)"
   ]
  },
  {
   "cell_type": "code",
   "execution_count": 18,
   "metadata": {
    "scrolled": true
   },
   "outputs": [
    {
     "data": {
      "text/plain": [
       "array([1000, 1001, 1039, 1111, 1200, 1234, 1253, 1255, 1300, 1400, 1500,\n",
       "       1600, 1602, 1688, 1800, 1910, 1915, 1919, 1920, 1923, 1925, 1927,\n",
       "       1928, 1929, 1930, 1931, 1932, 1933, 1934, 1935, 1936, 1937, 1938,\n",
       "       1940, 1941, 1942, 1943, 1944, 1945, 1946, 1947, 1948, 1949, 1950,\n",
       "       1951, 1952, 1953, 1954, 1955, 1956, 1957, 1958, 1959, 1960, 1961,\n",
       "       1962, 1963, 1964, 1965, 1966, 1967, 1968, 1969, 1970, 1971, 1972,\n",
       "       1973, 1974, 1975, 1976, 1977, 1978, 1979, 1980, 1981, 1982, 1983,\n",
       "       1984, 1985, 1986, 1987, 1988, 1989, 1990, 1991, 1992, 1993, 1994,\n",
       "       1995, 1996, 1997, 1998, 1999, 2000, 2001, 2002, 2003, 2004, 2005,\n",
       "       2006, 2007, 2008, 2009, 2010, 2011, 2012, 2013, 2014, 2015, 2016,\n",
       "       2017, 2018, 2019, 2066, 2200, 2222, 2290, 2500, 2800, 2900, 3000,\n",
       "       3200, 3500, 3700, 3800, 4000, 4100, 4500, 4800, 5000, 5300, 5555,\n",
       "       5600, 5900, 5911, 6000, 6500, 7000, 7100, 7500, 7800, 8000, 8200,\n",
       "       8455, 8500, 8888, 9000, 9229, 9450, 9996, 9999])"
      ]
     },
     "execution_count": 18,
     "metadata": {},
     "output_type": "execute_result"
    }
   ],
   "source": [
    "#Revisamos los valores de registrationyear\n",
    "df['registrationyear'].sort_values(ascending=True).unique()"
   ]
  },
  {
   "cell_type": "markdown",
   "metadata": {},
   "source": [
    "Como dato de cultura general, el primer automovil se creo en 1886 por lo que todo auto menor a este año y superior a 2023 sera reemplazado con la mediana de esta muestra."
   ]
  },
  {
   "cell_type": "markdown",
   "metadata": {},
   "source": [
    "<div class=\"alert alert-block alert-warning\">\n",
    "<b>Comentario de Reviewer v2</b> <a class=\"tocSkip\"></a>\n",
    "\n",
    "Ok, también se podrían descartar, en vez de hacer una imputación tan simple.\n",
    "</div>"
   ]
  },
  {
   "cell_type": "code",
   "execution_count": 19,
   "metadata": {},
   "outputs": [],
   "source": [
    "#Cambiamos los valores de registrationyear\n",
    "df.loc[df['registrationyear'] <= 1980,'registrationyear'] = registration_median\n",
    "df.loc[df['registrationyear'] > 2023,'registrationyear'] = registration_median "
   ]
  },
  {
   "cell_type": "code",
   "execution_count": 20,
   "metadata": {
    "scrolled": true
   },
   "outputs": [
    {
     "name": "stdout",
     "output_type": "stream",
     "text": [
      "[    0     1     2     3     4     5     6     7     8     9    10    11\n",
      "    12    13    14    15    16    17    18    19    20    21    22    23\n",
      "    24    25    26    27    28    29    30    31    32    33    34    35\n",
      "    36    37    38    39    40    41    42    43    44    45    46    47\n",
      "    48    49    50    51    52    53    54    55    56    57    58    59\n",
      "    60    61    62    63    64    65    66    67    68    69    70    71\n",
      "    72    73    74    75    76    77    78    79    80    81    82    83\n",
      "    84    85    86    87    88    89    90    91    92    93    94    95\n",
      "    96    97    98    99   100   101   102   103   104   105   106   107\n",
      "   108   109   110   111   112   113   114   115   116   117   118   119\n",
      "   120   121   122   123   124   125   126   127   128   129   130   131\n",
      "   132   133   134   135   136   137   138   139   140   141   142   143\n",
      "   144   145   146   147   148   149   150   151   152   153   154   155\n",
      "   156   157   158   159   160   161   162   163   164   165   166   167\n",
      "   168   169   170   171   172   173   174   175   176   177   178   179\n",
      "   180   181   182   183   184   185   186   187   188   189   190   191\n",
      "   192   193   194   195   196   197   198   199   200   201   202   203\n",
      "   204   205   206   207   208   209   210   211   212   213   214   215\n",
      "   216   217   218   219   220   221   222   223   224   225   226   227\n",
      "   228   229   230   231   232   233   234   235   236   237   238   239\n",
      "   240   241   242   243   244   245   246   247   248   249   250   251\n",
      "   252   253   254   255   256   257   258   259   260   261   262   264\n",
      "   265   266   267   268   269   270   271   272   273   274   275   276\n",
      "   277   278   279   280   281   282   283   284   285   286   287   288\n",
      "   289   290   292   293   294   295   296   297   298   299   300   301\n",
      "   303   304   305   306   307   308   309   310   311   313   314   315\n",
      "   316   317   318   320   321   322   323   324   325   326   327   328\n",
      "   329   330   331   332   333   334   335   336   337   338   339   340\n",
      "   341   343   344   345   346   347   348   349   350   351   352   353\n",
      "   354   355   356   357   358   360   361   362   363   364   365   367\n",
      "   368   370   371   374   375   376   377   379   380   381   382   385\n",
      "   386   387   388   390   392   394   396   398   399   400   401   402\n",
      "   405   408   409   411   416   420   421   425   426   428   430   431\n",
      "   435   440   442   445   449   450   454   457   459   460   475   476\n",
      "   485   487   489   490   500   504   505   507   508   510   514   515\n",
      "   517   519   520   521   525   530   540   541   544   550   551   553\n",
      "   560   572   574   579   580   584   585   599   600   601   602   603\n",
      "   604   606   607   610   612   620   640   645   650   651   671   678\n",
      "   682   685   696   700   702   703   732   743   750   751   754   771\n",
      "   776   800   805   808   850   851   871   900   901   902   903   907\n",
      "   909   923   950   952   953   960   998   999  1000  1001  1002  1003\n",
      "  1004  1005  1011  1012  1016  1017  1021  1024  1054  1055  1056  1062\n",
      "  1079  1082  1090  1100  1102  1103  1105  1111  1115  1120  1149  1151\n",
      "  1158  1160  1162  1164  1199  1200  1202  1221  1223  1230  1239  1240\n",
      "  1241  1250  1252  1256  1275  1288  1299  1300  1312  1317  1324  1339\n",
      "  1351  1360  1362  1363  1367  1390  1394  1398  1399  1400  1401  1403\n",
      "  1405  1416  1432  1433  1436  1500  1501  1502  1503  1506  1521  1548\n",
      "  1595  1596  1597  1598  1600  1625  1631  1653  1659  1689  1700  1701\n",
      "  1703  1704  1707  1753  1771  1779  1780  1781  1783  1793  1796  1799\n",
      "  1800  1801  1870  1895  1896  1900  1910  1920  1922  1933  1937  1968\n",
      "  1986  1988  1992  1993  1995  1998  1999  2000  2004  2005  2007  2009\n",
      "  2016  2017  2018  2172  2200  2201  2331  2340  2389  2402  2461  2598\n",
      "  2729  2789  2792  2799  3000  3199  3454  3500  3750  4400  4507  4700\n",
      "  5000  5411  5420  5575  5809  5815  5867  6006  6010  6011  6012  6018\n",
      "  6045  6062  6226  6512  6920  7508  7511  7512  7515  7518  7529  7544\n",
      "  8011  8259  8404  8500  9000  9007  9010  9011  9012  9013  9710 10000\n",
      " 10110 10218 10311 10317 10520 10522 10710 10910 10912 11011 11025 11111\n",
      " 11509 11530 11635 12012 12510 12512 12684 13616 13636 14009 15001 15016\n",
      " 15017 15020 15033 16011 16051 16311 16312 17011 17019 17410 17700 17932\n",
      " 19208 19211 19312 20000]\n"
     ]
    }
   ],
   "source": [
    "#Revisamos los valores de power\n",
    "print(df['power'].sort_values(ascending=True).unique())\n"
   ]
  },
  {
   "cell_type": "code",
   "execution_count": 21,
   "metadata": {},
   "outputs": [
    {
     "data": {
      "text/plain": [
       "40225"
      ]
     },
     "execution_count": 21,
     "metadata": {},
     "output_type": "execute_result"
    }
   ],
   "source": [
    "#Revision de valores 0\n",
    "sum(df['power']==0)"
   ]
  },
  {
   "cell_type": "markdown",
   "metadata": {},
   "source": [
    "Tenemos una gran cantidad de valores 0 en la variable power por lo que los reemplazaramos, de igual forma tenemos valores muy bajos, asi que tomaremos el siguiente criterio:\n",
    "\n",
    "* Todos los autos menores a 50CV seran reemplazados con el promedio\n",
    "* Todos los autos mayores a 750CV seran reemplazados con el promedio"
   ]
  },
  {
   "cell_type": "markdown",
   "metadata": {},
   "source": [
    "<div class=\"alert alert-block alert-warning\">\n",
    "<b>Comentario de Reviewer v2</b> <a class=\"tocSkip\"></a>\n",
    "\n",
    "Ok, también se podrían descartar, en vez de hacer una imputación tan simple.\n",
    "</div>"
   ]
  },
  {
   "cell_type": "code",
   "execution_count": 22,
   "metadata": {},
   "outputs": [],
   "source": [
    "#Reemplazamos los valores\n",
    "df.loc[df['power'] <= 50,'power'] = power_mean\n",
    "df.loc[df['power'] > 250,'power'] = power_mean "
   ]
  },
  {
   "cell_type": "code",
   "execution_count": 23,
   "metadata": {},
   "outputs": [
    {
     "name": "stdout",
     "output_type": "stream",
     "text": [
      "Valores del parametro registrationyear\n"
     ]
    },
    {
     "data": {
      "image/png": "[encoded data removed]",
      "text/plain": [
       "<Figure size 432x288 with 1 Axes>"
      ]
     },
     "metadata": {
      "needs_background": "light"
     },
     "output_type": "display_data"
    },
    {
     "name": "stdout",
     "output_type": "stream",
     "text": [
      "Valores del parametro power\n"
     ]
    },
    {
     "data": {
      "image/png": "[encoded data removed]",
      "text/plain": [
       "<Figure size 432x288 with 1 Axes>"
      ]
     },
     "metadata": {
      "needs_background": "light"
     },
     "output_type": "display_data"
    },
    {
     "name": "stdout",
     "output_type": "stream",
     "text": [
      "Valores del parametro mileage\n"
     ]
    },
    {
     "data": {
      "image/png": "[encoded data removed]",
      "text/plain": [
       "<Figure size 432x288 with 1 Axes>"
      ]
     },
     "metadata": {
      "needs_background": "light"
     },
     "output_type": "display_data"
    }
   ],
   "source": [
    "for x in features:\n",
    "    print('Valores del parametro',x)\n",
    "    df.boxplot(x)\n",
    "    plt.show()"
   ]
  },
  {
   "cell_type": "markdown",
   "metadata": {},
   "source": [
    "Ahora que nuestros datos estan mas claros, estamos listos para poder realizar nuestros conjuntos y modelos de forma que den resultados mas acertados."
   ]
  },
  {
   "cell_type": "markdown",
   "metadata": {},
   "source": [
    "Ahora que vemos que tipos de datos contienen las columnas con valores ausentes, obsevamos que son variables categóricas, tenemos tres opciones:\n",
    "1. Dejar el conjunto tal cual, ya que hay modelos que pueden trabajar con valores ausentes.\n",
    "2. Rellenar los valores ausentes con **\"unknown\"**, ya que es un valor desconocido.\n",
    "3. Eliminar los valores ausentes.\n",
    "\n",
    "Dejaremos listos los tres casos para probar posteriormente con los modelos.\n",
    "* df1 = dataframe original son valores ausentes\n",
    "* df2 = dataframe con valores ausentes rellenados con \"unknown\"\n",
    "* df3 = dataframe con valores ausentes eliminados"
   ]
  },
  {
   "cell_type": "markdown",
   "metadata": {},
   "source": [
    "<div class=\"alert alert-block alert-success\">\n",
    "<b>Comentario de Reviewer</b> <a class=\"tocSkip\"></a>\n",
    "\n",
    "Ok, no me parece una mala decisión, aunque requiere más trabajo. Probablemente podrías haber hecho alguna imputación.\n",
    "</div>"
   ]
  },
  {
   "cell_type": "code",
   "execution_count": 24,
   "metadata": {},
   "outputs": [],
   "source": [
    "# df1 = dataframe original con valores ausentes\n",
    "df1 = df"
   ]
  },
  {
   "cell_type": "code",
   "execution_count": 25,
   "metadata": {},
   "outputs": [],
   "source": [
    "# df2 = dataframe con valores ausentes rellenados con \"unknown\"\n",
    "df2 = df.fillna('unknown')"
   ]
  },
  {
   "cell_type": "code",
   "execution_count": 26,
   "metadata": {},
   "outputs": [],
   "source": [
    "# df3 = dataframe con valores ausentes eliminados\n",
    "df3 = df.dropna()"
   ]
  },
  {
   "cell_type": "code",
   "execution_count": 27,
   "metadata": {},
   "outputs": [],
   "source": [
    "# Crearemos una lista de los conjuntos en caso que tengamos que aplicar el mismo procedimiento para los tres conjuntos\n",
    "dataframes = ['df1','df2','df3']"
   ]
  },
  {
   "cell_type": "code",
   "execution_count": 28,
   "metadata": {},
   "outputs": [
    {
     "data": {
      "text/html": [
       "<div>\n",
       "<style scoped>\n",
       "    .dataframe tbody tr th:only-of-type {\n",
       "        vertical-align: middle;\n",
       "    }\n",
       "\n",
       "    .dataframe tbody tr th {\n",
       "        vertical-align: top;\n",
       "    }\n",
       "\n",
       "    .dataframe thead th {\n",
       "        text-align: right;\n",
       "    }\n",
       "</style>\n",
       "<table border=\"1\" class=\"dataframe\">\n",
       "  <thead>\n",
       "    <tr style=\"text-align: right;\">\n",
       "      <th></th>\n",
       "      <th>datecrawled</th>\n",
       "      <th>price</th>\n",
       "      <th>vehicletype</th>\n",
       "      <th>registrationyear</th>\n",
       "      <th>gearbox</th>\n",
       "      <th>power</th>\n",
       "      <th>model</th>\n",
       "      <th>mileage</th>\n",
       "      <th>registrationmonth</th>\n",
       "      <th>fueltype</th>\n",
       "      <th>brand</th>\n",
       "      <th>notrepaired</th>\n",
       "      <th>datecreated</th>\n",
       "      <th>numberofpictures</th>\n",
       "      <th>postalcode</th>\n",
       "      <th>lastseen</th>\n",
       "    </tr>\n",
       "  </thead>\n",
       "  <tbody>\n",
       "    <tr>\n",
       "      <th>0</th>\n",
       "      <td>2016-03-24 11:52:00</td>\n",
       "      <td>480</td>\n",
       "      <td>NaN</td>\n",
       "      <td>1993</td>\n",
       "      <td>manual</td>\n",
       "      <td>110</td>\n",
       "      <td>golf</td>\n",
       "      <td>150000</td>\n",
       "      <td>0</td>\n",
       "      <td>petrol</td>\n",
       "      <td>volkswagen</td>\n",
       "      <td>NaN</td>\n",
       "      <td>2016-03-24</td>\n",
       "      <td>0</td>\n",
       "      <td>70435</td>\n",
       "      <td>2016-04-07 03:16:00</td>\n",
       "    </tr>\n",
       "    <tr>\n",
       "      <th>1</th>\n",
       "      <td>2016-03-24 10:58:00</td>\n",
       "      <td>18300</td>\n",
       "      <td>coupe</td>\n",
       "      <td>2011</td>\n",
       "      <td>manual</td>\n",
       "      <td>190</td>\n",
       "      <td>NaN</td>\n",
       "      <td>125000</td>\n",
       "      <td>5</td>\n",
       "      <td>gasoline</td>\n",
       "      <td>audi</td>\n",
       "      <td>yes</td>\n",
       "      <td>2016-03-24</td>\n",
       "      <td>0</td>\n",
       "      <td>66954</td>\n",
       "      <td>2016-04-07 01:46:00</td>\n",
       "    </tr>\n",
       "    <tr>\n",
       "      <th>2</th>\n",
       "      <td>2016-03-14 12:52:00</td>\n",
       "      <td>9800</td>\n",
       "      <td>suv</td>\n",
       "      <td>2004</td>\n",
       "      <td>auto</td>\n",
       "      <td>163</td>\n",
       "      <td>grand</td>\n",
       "      <td>125000</td>\n",
       "      <td>8</td>\n",
       "      <td>gasoline</td>\n",
       "      <td>jeep</td>\n",
       "      <td>NaN</td>\n",
       "      <td>2016-03-14</td>\n",
       "      <td>0</td>\n",
       "      <td>90480</td>\n",
       "      <td>2016-04-05 12:47:00</td>\n",
       "    </tr>\n",
       "    <tr>\n",
       "      <th>3</th>\n",
       "      <td>2016-03-17 16:54:00</td>\n",
       "      <td>1500</td>\n",
       "      <td>small</td>\n",
       "      <td>2001</td>\n",
       "      <td>manual</td>\n",
       "      <td>75</td>\n",
       "      <td>golf</td>\n",
       "      <td>150000</td>\n",
       "      <td>6</td>\n",
       "      <td>petrol</td>\n",
       "      <td>volkswagen</td>\n",
       "      <td>no</td>\n",
       "      <td>2016-03-17</td>\n",
       "      <td>0</td>\n",
       "      <td>91074</td>\n",
       "      <td>2016-03-17 17:40:00</td>\n",
       "    </tr>\n",
       "    <tr>\n",
       "      <th>4</th>\n",
       "      <td>2016-03-31 17:25:00</td>\n",
       "      <td>3600</td>\n",
       "      <td>small</td>\n",
       "      <td>2008</td>\n",
       "      <td>manual</td>\n",
       "      <td>69</td>\n",
       "      <td>fabia</td>\n",
       "      <td>90000</td>\n",
       "      <td>7</td>\n",
       "      <td>gasoline</td>\n",
       "      <td>skoda</td>\n",
       "      <td>no</td>\n",
       "      <td>2016-03-31</td>\n",
       "      <td>0</td>\n",
       "      <td>60437</td>\n",
       "      <td>2016-04-06 10:17:00</td>\n",
       "    </tr>\n",
       "  </tbody>\n",
       "</table>\n",
       "</div>"
      ],
      "text/plain": [
       "          datecrawled  price vehicletype  registrationyear gearbox  power  \\\n",
       "0 2016-03-24 11:52:00    480         NaN              1993  manual    110   \n",
       "1 2016-03-24 10:58:00  18300       coupe              2011  manual    190   \n",
       "2 2016-03-14 12:52:00   9800         suv              2004    auto    163   \n",
       "3 2016-03-17 16:54:00   1500       small              2001  manual     75   \n",
       "4 2016-03-31 17:25:00   3600       small              2008  manual     69   \n",
       "\n",
       "   model  mileage  registrationmonth  fueltype       brand notrepaired  \\\n",
       "0   golf   150000                  0    petrol  volkswagen         NaN   \n",
       "1    NaN   125000                  5  gasoline        audi         yes   \n",
       "2  grand   125000                  8  gasoline        jeep         NaN   \n",
       "3   golf   150000                  6    petrol  volkswagen          no   \n",
       "4  fabia    90000                  7  gasoline       skoda          no   \n",
       "\n",
       "  datecreated  numberofpictures  postalcode            lastseen  \n",
       "0  2016-03-24                 0       70435 2016-04-07 03:16:00  \n",
       "1  2016-03-24                 0       66954 2016-04-07 01:46:00  \n",
       "2  2016-03-14                 0       90480 2016-04-05 12:47:00  \n",
       "3  2016-03-17                 0       91074 2016-03-17 17:40:00  \n",
       "4  2016-03-31                 0       60437 2016-04-06 10:17:00  "
      ]
     },
     "execution_count": 28,
     "metadata": {},
     "output_type": "execute_result"
    }
   ],
   "source": [
    "df.head()"
   ]
  },
  {
   "cell_type": "markdown",
   "metadata": {},
   "source": [
    "Crearemos las caracteristicas, haremos dos listas, una con variables categoricas y otra con variables numericas, no tomaremos en cuenta variables como dates, registrationmonth, numberofpicstures, postalcode ya que no aportan un valor al modelo."
   ]
  },
  {
   "cell_type": "code",
   "execution_count": 29,
   "metadata": {},
   "outputs": [],
   "source": [
    "cat_features = ['vehicletype', 'gearbox','model', 'fueltype', 'brand',\n",
    "       'notrepaired']\n",
    "features = ['registrationyear','power', 'mileage']\n",
    "target = 'price'"
   ]
  },
  {
   "cell_type": "code",
   "execution_count": 30,
   "metadata": {},
   "outputs": [],
   "source": [
    "df1_target = df1[target]\n",
    "df2_target = df2[target]\n",
    "df3_target = df3[target]"
   ]
  },
  {
   "cell_type": "markdown",
   "metadata": {},
   "source": [
    "Haremos una codificacion one-hot-encoding para las variables categoricas, como tenemos tres conjuntos diferentes, deberan ser tres operaciones distintas."
   ]
  },
  {
   "cell_type": "code",
   "execution_count": 31,
   "metadata": {},
   "outputs": [],
   "source": [
    "def one_hot(data,cat_features):\n",
    "    \"\"\"Con esta funcion convertiremos las variables categoricas a codificacion OneHotEncoding\n",
    "    data: conjunto de datos a utilizar\n",
    "    cat_features: las variables categoricas a convertir del conjunto de datos \"data\"\n",
    "    \"\"\"\n",
    "    ohe = OneHotEncoder(sparse = False, drop='if_binary')     \n",
    "    ohe_dataframe = pd.DataFrame(ohe.fit_transform(data[cat_features]), columns = ohe.get_feature_names_out())\n",
    "    return ohe_dataframe"
   ]
  },
  {
   "cell_type": "code",
   "execution_count": 32,
   "metadata": {},
   "outputs": [
    {
     "ename": "AttributeError",
     "evalue": "'OneHotEncoder' object has no attribute 'get_feature_names_out'",
     "output_type": "error",
     "traceback": [
      "\u001b[0;31m---------------------------------------------------------------------------\u001b[0m",
      "\u001b[0;31mAttributeError\u001b[0m                            Traceback (most recent call last)",
      "\u001b[0;32m/tmp/ipykernel_74/2822943303.py\u001b[0m in \u001b[0;36m<module>\u001b[0;34m\u001b[0m\n\u001b[1;32m      1\u001b[0m \u001b[0;31m#Convertimos nuestros conjunto de datos a codificacion OneHotEncoding\u001b[0m\u001b[0;34m\u001b[0m\u001b[0;34m\u001b[0m\u001b[0;34m\u001b[0m\u001b[0m\n\u001b[0;32m----> 2\u001b[0;31m \u001b[0mdf1_onehot\u001b[0m \u001b[0;34m=\u001b[0m \u001b[0mone_hot\u001b[0m\u001b[0;34m(\u001b[0m\u001b[0mdf1\u001b[0m\u001b[0;34m,\u001b[0m\u001b[0mcat_features\u001b[0m\u001b[0;34m)\u001b[0m\u001b[0;34m\u001b[0m\u001b[0;34m\u001b[0m\u001b[0m\n\u001b[0m\u001b[1;32m      3\u001b[0m \u001b[0mdf2_onehot\u001b[0m \u001b[0;34m=\u001b[0m \u001b[0mone_hot\u001b[0m\u001b[0;34m(\u001b[0m\u001b[0mdf2\u001b[0m\u001b[0;34m,\u001b[0m\u001b[0mcat_features\u001b[0m\u001b[0;34m)\u001b[0m\u001b[0;34m\u001b[0m\u001b[0;34m\u001b[0m\u001b[0m\n\u001b[1;32m      4\u001b[0m \u001b[0mdf3_onehot\u001b[0m \u001b[0;34m=\u001b[0m \u001b[0mone_hot\u001b[0m\u001b[0;34m(\u001b[0m\u001b[0mdf3\u001b[0m\u001b[0;34m,\u001b[0m\u001b[0mcat_features\u001b[0m\u001b[0;34m)\u001b[0m\u001b[0;34m\u001b[0m\u001b[0;34m\u001b[0m\u001b[0m\n",
      "\u001b[0;32m/tmp/ipykernel_74/2678279148.py\u001b[0m in \u001b[0;36mone_hot\u001b[0;34m(data, cat_features)\u001b[0m\n\u001b[1;32m      5\u001b[0m     \"\"\"\n\u001b[1;32m      6\u001b[0m     \u001b[0mohe\u001b[0m \u001b[0;34m=\u001b[0m \u001b[0mOneHotEncoder\u001b[0m\u001b[0;34m(\u001b[0m\u001b[0msparse\u001b[0m \u001b[0;34m=\u001b[0m \u001b[0;32mFalse\u001b[0m\u001b[0;34m,\u001b[0m \u001b[0mdrop\u001b[0m\u001b[0;34m=\u001b[0m\u001b[0;34m'if_binary'\u001b[0m\u001b[0;34m)\u001b[0m\u001b[0;34m\u001b[0m\u001b[0;34m\u001b[0m\u001b[0m\n\u001b[0;32m----> 7\u001b[0;31m     \u001b[0mohe_dataframe\u001b[0m \u001b[0;34m=\u001b[0m \u001b[0mpd\u001b[0m\u001b[0;34m.\u001b[0m\u001b[0mDataFrame\u001b[0m\u001b[0;34m(\u001b[0m\u001b[0mohe\u001b[0m\u001b[0;34m.\u001b[0m\u001b[0mfit_transform\u001b[0m\u001b[0;34m(\u001b[0m\u001b[0mdata\u001b[0m\u001b[0;34m[\u001b[0m\u001b[0mcat_features\u001b[0m\u001b[0;34m]\u001b[0m\u001b[0;34m)\u001b[0m\u001b[0;34m,\u001b[0m \u001b[0mcolumns\u001b[0m \u001b[0;34m=\u001b[0m \u001b[0mohe\u001b[0m\u001b[0;34m.\u001b[0m\u001b[0mget_feature_names_out\u001b[0m\u001b[0;34m(\u001b[0m\u001b[0;34m)\u001b[0m\u001b[0;34m)\u001b[0m\u001b[0;34m\u001b[0m\u001b[0;34m\u001b[0m\u001b[0m\n\u001b[0m\u001b[1;32m      8\u001b[0m     \u001b[0;32mreturn\u001b[0m \u001b[0mohe_dataframe\u001b[0m\u001b[0;34m\u001b[0m\u001b[0;34m\u001b[0m\u001b[0m\n",
      "\u001b[0;31mAttributeError\u001b[0m: 'OneHotEncoder' object has no attribute 'get_feature_names_out'"
     ]
    }
   ],
   "source": [
    "#Convertimos nuestros conjunto de datos a codificacion OneHotEncoding\n",
    "df1_onehot = one_hot(df1,cat_features)\n",
    "df2_onehot = one_hot(df2,cat_features)\n",
    "df3_onehot = one_hot(df3,cat_features)"
   ]
  },
  {
   "cell_type": "markdown",
   "metadata": {},
   "source": [
    "Ahora juntaremos nuestras tablas de OneHotEncoding con las variables numericas, para posteriormente hacer un scalamiento de datos"
   ]
  },
  {
   "cell_type": "code",
   "execution_count": null,
   "metadata": {},
   "outputs": [],
   "source": [
    "def concat_ohe(data_ohe, data_original):\n",
    "    concat_ohe = pd.concat([data_original.reset_index(drop=True),data_ohe],axis = 1)\n",
    "    return concat_ohe"
   ]
  },
  {
   "cell_type": "code",
   "execution_count": null,
   "metadata": {},
   "outputs": [],
   "source": [
    "#Juntamos las variablse de onehot con las variables numericas\n",
    "df1_concat = concat_ohe(df1_onehot, df1[features])\n",
    "df2_concat = concat_ohe(df2_onehot, df2[features])\n",
    "df3_concat = concat_ohe(df3_onehot, df3[features])"
   ]
  },
  {
   "cell_type": "code",
   "execution_count": null,
   "metadata": {},
   "outputs": [],
   "source": [
    "del df1_onehot\n",
    "del df2_onehot\n",
    "del df3_onehot"
   ]
  },
  {
   "cell_type": "code",
   "execution_count": null,
   "metadata": {},
   "outputs": [],
   "source": [
    "#Verificamos que ya no tengamos valores ausentes\n",
    "df1_concat.isna().sum().sum(),df2_concat.isna().sum().sum(),df3_concat.isna().sum().sum()"
   ]
  },
  {
   "cell_type": "markdown",
   "metadata": {},
   "source": [
    "Procedemos a escalar los datos, recordemos que las variables numericas, las tenemos almacenadas en la variable **features**"
   ]
  },
  {
   "cell_type": "code",
   "execution_count": null,
   "metadata": {},
   "outputs": [],
   "source": [
    "# Creamos nuestra funcion de escalado de datos\n",
    "def maxscaler(data,columns):\n",
    "    \"\"\"Con esta funcion realizamos el escalamiento de datos\n",
    "    data: conjunto de datos a utilizar\n",
    "    columns: columnas a realizar el escalado de datos\n",
    "    \"\"\"\n",
    "    scaler = MaxAbsScaler()\n",
    "    scaler.fit(data[columns])\n",
    "    data[columns] = scaler.transform(data[columns])\n",
    "    return data[columns]"
   ]
  },
  {
   "cell_type": "code",
   "execution_count": null,
   "metadata": {},
   "outputs": [],
   "source": [
    "maxscaler(df1_concat,features)\n",
    "maxscaler(df2_concat,features)\n",
    "maxscaler(df3_concat,features)"
   ]
  },
  {
   "cell_type": "markdown",
   "metadata": {},
   "source": [
    "<div class=\"alert alert-block alert-info\">\n",
    "<b>Respuesta estudiante.</b> <a class=\"tocSkip\"></a>\n",
    "\n",
    "Se realizo la eliminacion y correccino de outliers o valores atipicos\n",
    "</div>"
   ]
  },
  {
   "cell_type": "markdown",
   "metadata": {},
   "source": [
    "<div class=\"alert alert-block alert-danger\">\n",
    "<b>Comentario de Reviewer</b> <a class=\"tocSkip\"></a>\n",
    "\n",
    "Está bien escalar la data, pero primero deberías verificar si existen outliers.\n",
    "</div>"
   ]
  },
  {
   "cell_type": "markdown",
   "metadata": {},
   "source": [
    "<div class=\"alert alert-block alert-success\">\n",
    "<b>Comentario de Reviewer v2</b> <a class=\"tocSkip\"></a>\n",
    "\n",
    "Corregido\n",
    "</div>"
   ]
  },
  {
   "cell_type": "markdown",
   "metadata": {},
   "source": [
    "<div class=\"alert alert-block alert-success\">\n",
    "<b>Comentario de Reviewer v2</b> <a class=\"tocSkip\"></a>\n",
    "\n",
    "Por alguna razón el kernel se cae cuanto llega a la celda 34, pero ya había revisado estos valores así que no hay problema.\n",
    "</div>"
   ]
  },
  {
   "cell_type": "markdown",
   "metadata": {
    "tags": []
   },
   "source": [
    "Ya tenemos nuestros conjuntos de datos listos para realizar un entrenamiento de modelo de regresion lineal"
   ]
  },
  {
   "cell_type": "markdown",
   "metadata": {
    "tags": []
   },
   "source": [
    "## Entrenamiento del modelo "
   ]
  },
  {
   "cell_type": "markdown",
   "metadata": {},
   "source": [
    "Crearemos un dataframe para ir comparando los diferentes modelos y sus resultados:"
   ]
  },
  {
   "cell_type": "code",
   "execution_count": null,
   "metadata": {},
   "outputs": [],
   "source": [
    "global_results = {'conjunto':[],\n",
    "                 'tipo':[],\n",
    "                 'modelo':[],\n",
    "                  'RECM':[],\n",
    "                 'tiempo_entrenamiento':[]}\n",
    "global_results = pd.DataFrame(global_results)"
   ]
  },
  {
   "cell_type": "markdown",
   "metadata": {},
   "source": [
    "Crearemos nuestros conjuntos de entrenamiento y prueba 4:1"
   ]
  },
  {
   "cell_type": "code",
   "execution_count": null,
   "metadata": {},
   "outputs": [],
   "source": [
    "def add_results(train_result,valid_result,time,conjunto,model,table):\n",
    "    \"\"\"Con esta funcion agregaremos los valores del nombre y tipo de conjunto, su valor de RECM, el tiempo de procesamiento/entrenamiento,\n",
    "    y el tipo de modelo, con los siguientes argumentos\n",
    "    train_result: resultado de RECM conjunto entrenamiento\n",
    "    valid_result: resultado de RECM conjunto validacion\n",
    "    time: resultado del tiempo de procesamiento\n",
    "    conjunto: nombre del conjunto\n",
    "    model: tipo de modelo,\n",
    "    table: tabla a la que se agregaran los resultados\n",
    "    \"\"\"\n",
    "    row1 = pd.DataFrame({'conjunto':[conjunto],'tipo' : ['train'], 'modelo':[model],'RECM': [train_result],'tiempo_entrenamiento': [time]})\n",
    "    row2 = pd.DataFrame({'conjunto':[conjunto],'tipo' : ['valid'], 'modelo':[model],'RECM': [valid_result],'tiempo_entrenamiento': [time]})\n",
    "    table = pd.concat([table,row1,row2])\n",
    "    return table"
   ]
  },
  {
   "cell_type": "markdown",
   "metadata": {},
   "source": [
    "### Regresion lineal"
   ]
  },
  {
   "cell_type": "code",
   "execution_count": null,
   "metadata": {},
   "outputs": [],
   "source": [
    "def linear_model(data,data_target):\n",
    "    \"\"\"Con esta funcion se realiza el entrenamiento, prediccion y puntuacion con RECM del modelo de regresion lineal, parametros:\n",
    "    data: conjunto de datos a utilizar\n",
    "    data_target: objetivo del conjunto\n",
    "    \n",
    "    \"\"\"\n",
    "    features_train, features_valid, target_train, target_valid = train_test_split(data, data_target, test_size=0.20, random_state=92)\n",
    "    start_time = time.time()\n",
    "    model = LinearRegression()\n",
    "    model.fit(features_train,target_train)\n",
    "    end_time = time.time()\n",
    "    training_time = round(end_time - start_time,2)\n",
    "    print('Tiempo de entrenamiento:', training_time,'segundos')\n",
    "    train_pred = model.predict(features_train)\n",
    "    valid_pred = model.predict(features_valid)\n",
    "    #Prueba de cordura\n",
    "    cord_test = mean_squared_error(target_train,pd.Series(target_train.mean(),index=target_train),squared=False)\n",
    "    print('La prueba de cordura de la raiz del error cuadratico medio  para el conjunto de entrenamiento es:',cord_test)\n",
    "    cord_valid = mean_squared_error(target_valid,pd.Series(target_valid.mean(),index=target_valid),squared=False)\n",
    "    print('La prueba de cordura de la raiz del error cuadratico medio  para el conjunto de validación es:',cord_valid)\n",
    "    recm_train = mean_squared_error(target_train,train_pred,squared=False)\n",
    "    print('La raiz del error cuadratico medio del conjunto de entrenamiento es:',recm_train)\n",
    "    recm_valid = mean_squared_error(target_valid,valid_pred,squared=False)\n",
    "    print('La raiz del error cuadratico medio del conjunto de validación es:',recm_valid)\n",
    "   \n",
    "    return recm_train, recm_valid, training_time"
   ]
  },
  {
   "cell_type": "code",
   "execution_count": null,
   "metadata": {},
   "outputs": [],
   "source": [
    "df1_linear_train_result, df1_linear_valid_result,df1_linear_time = linear_model(df1_concat,df1_target)"
   ]
  },
  {
   "cell_type": "code",
   "execution_count": null,
   "metadata": {},
   "outputs": [],
   "source": [
    "df2_linear_train_result, df2_linear_valid_result,df2_linear_time = linear_model(df2_concat,df2_target)"
   ]
  },
  {
   "cell_type": "code",
   "execution_count": null,
   "metadata": {},
   "outputs": [],
   "source": [
    "df3_linear_train_result, df3_linear_valid_result,df3_linear_time = linear_model(df3_concat,df3_target)"
   ]
  },
  {
   "cell_type": "code",
   "execution_count": null,
   "metadata": {},
   "outputs": [],
   "source": [
    "global_results = add_results(df1_linear_train_result, df1_linear_valid_result,df1_linear_time,'df1','linear_regression',global_results)\n",
    "global_results = add_results(df2_linear_train_result, df2_linear_valid_result,df2_linear_time,'df2','linear_regression',global_results)\n",
    "global_results = add_results(df3_linear_train_result, df3_linear_valid_result,df3_linear_time,'df3','linear_regression',global_results)"
   ]
  },
  {
   "cell_type": "markdown",
   "metadata": {},
   "source": [
    "<div class=\"alert alert-block alert-success\">\n",
    "<b>Comentario de Reviewer</b> <a class=\"tocSkip\"></a>\n",
    "\n",
    "Excelente, muy buen uso de las funciones para generar y acumular los resultados\n",
    "</div>"
   ]
  },
  {
   "cell_type": "markdown",
   "metadata": {},
   "source": [
    "### Random Forest Regressor"
   ]
  },
  {
   "cell_type": "code",
   "execution_count": null,
   "metadata": {},
   "outputs": [],
   "source": [
    "def random_model(data,data_target):\n",
    "    \"\"\"Con esta funcion se realiza el entrenamiento, prediccion y puntuacion con RECM del modelo de RandomForestRegressor, parametros:\n",
    "    data: conjunto de datos a utilizar\n",
    "    data_target: objetivo del conjunto\n",
    "    \"\"\"\n",
    "    features_train, features_valid, target_train, target_valid = train_test_split(data, data_target, test_size=0.20, random_state=92)\n",
    "    start_time = time.time()\n",
    "    model = RandomForestRegressor(random_state=92) \n",
    "    model.fit(features_train,target_train)\n",
    "    end_time = time.time()\n",
    "    training_time = round(end_time - start_time,2)\n",
    "    print('Tiempo de entrenamiento:', training_time,'segundos')\n",
    "    train_pred = model.predict(features_train)\n",
    "    valid_pred = model.predict(features_valid)\n",
    "    #Prueba de cordura\n",
    "    cord_test = mean_squared_error(target_train,pd.Series(target_train.mean(),index=target_train),squared=False)\n",
    "    print('La prueba de cordura de la raiz del error cuadratico medio  para el conjunto de entrenamiento es:',cord_test)\n",
    "    cord_valid = mean_squared_error(target_valid,pd.Series(target_valid.mean(),index=target_valid),squared=False)\n",
    "    print('La prueba de cordura de la raiz del error cuadratico medio  para el conjunto de validación es:',cord_valid)\n",
    "    recm_train = mean_squared_error(target_train,train_pred,squared=False)\n",
    "    print('La raiz del error cuadratico medio del conjunto de entrenamiento es:',recm_train)\n",
    "    recm_valid = mean_squared_error(target_valid,valid_pred,squared=False)\n",
    "    print('La raiz del error cuadratico medio del conjunto de validación es:',recm_valid)\n",
    "   \n",
    "    return recm_train, recm_valid, training_time"
   ]
  },
  {
   "cell_type": "code",
   "execution_count": null,
   "metadata": {},
   "outputs": [],
   "source": [
    "df1_random_train_result, df1_random_valid_result,df1_random_time_result = random_model(df1_concat,df1_target)"
   ]
  },
  {
   "cell_type": "code",
   "execution_count": null,
   "metadata": {},
   "outputs": [],
   "source": [
    "df2_random_train_result, df2_random_valid_result,df2_random_time_result = random_model(df2_concat,df2_target)"
   ]
  },
  {
   "cell_type": "code",
   "execution_count": null,
   "metadata": {},
   "outputs": [],
   "source": [
    "df3_random_train_result, df3_random_valid_result,df3_random_time_result = random_model(df3_concat,df3_target)"
   ]
  },
  {
   "cell_type": "code",
   "execution_count": null,
   "metadata": {},
   "outputs": [],
   "source": [
    "global_results = add_results(df1_random_train_result, df1_random_valid_result,df1_random_time_result,'df1','random_forest',global_results)\n",
    "global_results = add_results(df2_random_train_result, df2_random_valid_result,df2_random_time_result,'df2','random_forest',global_results)\n",
    "global_results = add_results(df3_random_train_result, df3_random_valid_result,df3_random_time_result,'df3','random_forest',global_results)"
   ]
  },
  {
   "cell_type": "markdown",
   "metadata": {},
   "source": [
    "<div class=\"alert alert-block alert-success\">\n",
    "<b>Comentario de Reviewer</b> <a class=\"tocSkip\"></a>\n",
    "\n",
    "Muy bien!\n",
    "</div>"
   ]
  },
  {
   "cell_type": "markdown",
   "metadata": {},
   "source": [
    "### Decision Tree Regressor"
   ]
  },
  {
   "cell_type": "code",
   "execution_count": null,
   "metadata": {},
   "outputs": [],
   "source": [
    "def tree_model(data,data_target):\n",
    "    \"\"\"Con esta funcion se realiza el entrenamiento, prediccion y puntuacion con RECM del modelo de RandomForestRegressor, parametros:\n",
    "    data: conjunto de datos a utilizar\n",
    "    data_target: objetivo del conjunto\n",
    "    \"\"\"\n",
    "    features_train, features_valid, target_train, target_valid = train_test_split(data, data_target, test_size=0.20, random_state=92)\n",
    "    start_time = time.time()\n",
    "    model = DecisionTreeRegressor(random_state=92)\n",
    "    param = {'max_depth' : [None, 10]}\n",
    "    gs = GridSearchCV(estimator = model,\n",
    "                  param_grid = param,\n",
    "                      scoring = 'neg_root_mean_squared_error',\n",
    "                  cv = 5)\n",
    "    gs.fit(features_train,target_train)\n",
    "    end_time = time.time()\n",
    "    training_time = round(end_time - start_time,2)\n",
    "    print('Tiempo de entrenamiento:', training_time,'segundos')\n",
    "    train_pred = gs.best_estimator_.predict(features_train)\n",
    "    valid_pred = gs.best_estimator_.predict(features_valid)\n",
    "     #Prueba de cordura\n",
    "    cord_test = mean_squared_error(target_train,pd.Series(target_train.mean(),index=target_train),squared=False)\n",
    "    print('La prueba de cordura de la raiz del error cuadratico medio  para el conjunto de entrenamiento es:',cord_test)\n",
    "    cord_valid = mean_squared_error(target_valid,pd.Series(target_valid.mean(),index=target_valid),squared=False)\n",
    "    print('La prueba de cordura de la raiz del error cuadratico medio  para el conjunto de validación es:',cord_valid)\n",
    "    recm_train = mean_squared_error(target_train,train_pred,squared=False)\n",
    "    print('La raiz del error cuadratico medio del conjunto de entrenamiento es:',recm_train)\n",
    "    recm_valid = mean_squared_error(target_valid,valid_pred,squared=False)\n",
    "    print('La raiz del error cuadratico medio del conjunto de validación es:',recm_valid)\n",
    "    return recm_train, recm_valid, training_time"
   ]
  },
  {
   "cell_type": "code",
   "execution_count": null,
   "metadata": {},
   "outputs": [],
   "source": [
    "df1_tree_train_result, df1_tree_valid_result,df1_tree_time_result = tree_model(df1_concat,df1_target)"
   ]
  },
  {
   "cell_type": "code",
   "execution_count": null,
   "metadata": {},
   "outputs": [],
   "source": [
    "df2_tree_train_result, df2_tree_valid_result,df2_tree_time_result = tree_model(df2_concat,df2_target)"
   ]
  },
  {
   "cell_type": "code",
   "execution_count": null,
   "metadata": {},
   "outputs": [],
   "source": [
    "df3_tree_train_result, df3_tree_valid_result,df3_tree_time_result = tree_model(df3_concat,df3_target)"
   ]
  },
  {
   "cell_type": "code",
   "execution_count": null,
   "metadata": {},
   "outputs": [],
   "source": [
    "global_results = add_results(df1_tree_train_result, df1_tree_valid_result,df1_tree_time_result,'df1','decission tree',global_results)\n",
    "global_results = add_results(df2_tree_train_result, df2_tree_valid_result,df2_tree_time_result,'df2','decission tree',global_results)\n",
    "global_results = add_results(df3_tree_train_result, df3_tree_valid_result,df3_tree_time_result,'df3','decission tree',global_results)"
   ]
  },
  {
   "cell_type": "markdown",
   "metadata": {},
   "source": [
    "<div class=\"alert alert-block alert-success\">\n",
    "<b>Comentario de Reviewer</b> <a class=\"tocSkip\"></a>\n",
    "\n",
    "Muy bien!\n",
    "</div>"
   ]
  },
  {
   "cell_type": "markdown",
   "metadata": {},
   "source": [
    "Hasta ahora hemos probado los modelos \"clasicos\" para realizar un entrenamiento y prediccion, podemos observar que el modelo random forest posee la mejor calificacion de acuerdo a la metrica RECM, sin emabrgo, es el mas tardado en entrenar; por otra parte tenemos que el modelo de decission tree y logisticregression son modelos rapidos de entrenar, sin embargo, presentan overfitting y su califacion de RECM no es muy buena."
   ]
  },
  {
   "cell_type": "markdown",
   "metadata": {},
   "source": [
    "<div class=\"alert alert-block alert-info\">\n",
    "<b>Respuesta estudiante.</b> <a class=\"tocSkip\"></a>\n",
    "\n",
    "Anexada una conclusion preliminar\n",
    "</div>"
   ]
  },
  {
   "cell_type": "markdown",
   "metadata": {},
   "source": [
    "<div class=\"alert alert-block alert-danger\">\n",
    "<b>Comentario de Reviewer</b> <a class=\"tocSkip\"></a>\n",
    "\n",
    "Agrega algunos comentarios acerca del rendimiento de los modelos testeados hasta ahor\n",
    "</div>"
   ]
  },
  {
   "cell_type": "markdown",
   "metadata": {},
   "source": [
    "<div class=\"alert alert-block alert-success\">\n",
    "<b>Comentario de Reviewer v2</b> <a class=\"tocSkip\"></a>\n",
    "\n",
    "Corregido\n",
    "</div>"
   ]
  },
  {
   "cell_type": "markdown",
   "metadata": {},
   "source": [
    "### LightGBM"
   ]
  },
  {
   "cell_type": "markdown",
   "metadata": {},
   "source": [
    "Recordemos nuestros dataframes originales df1, df2 y df3"
   ]
  },
  {
   "cell_type": "code",
   "execution_count": null,
   "metadata": {},
   "outputs": [],
   "source": [
    "df1.head()"
   ]
  },
  {
   "cell_type": "code",
   "execution_count": null,
   "metadata": {},
   "outputs": [],
   "source": [
    "features = ['vehicletype', 'registrationyear', 'gearbox','power', 'model', 'mileage','fueltype', 'brand',\n",
    "            'notrepaired']\n",
    "cat_features = ['vehicletype','gearbox','model','fueltype', 'brand','notrepaired']"
   ]
  },
  {
   "cell_type": "markdown",
   "metadata": {},
   "source": [
    "#### LightGBM DecisionTree"
   ]
  },
  {
   "cell_type": "code",
   "execution_count": null,
   "metadata": {},
   "outputs": [],
   "source": [
    "def lgbm_tree_regressor(data,target):\n",
    "    \"\"\"Con esta funcion se realiza el entrenamiento, prediccion y puntuacion con RECM del modelo de LightGBM, parametros:\n",
    "    data: conjunto de datos a utilizar\n",
    "    data_target: objetivo del conjunto\n",
    "    \"\"\"\n",
    "    features_train, features_valid, target_train, target_valid = train_test_split(data, target, test_size=0.20, random_state=92)\n",
    "    params = {\n",
    "    'task': 'train', \n",
    "    'boosting': 'gbdt',\n",
    "    'objective': 'regression',\n",
    "    'num_leaves': 10,\n",
    "    'learning_rate': 0.05,\n",
    "    'metric': 'root_mean_squared_error',\n",
    "    'force_row_wise': True}\n",
    "    lgb_train = lgb.Dataset(features_train,target_train)\n",
    "    lgb_eval = lgb.Dataset(features_valid,target_valid, reference = lgb_train)\n",
    "    start_time = time.time()\n",
    "    model = lgb.train(params,\n",
    "                 train_set=lgb_train,\n",
    "                 valid_sets=lgb_eval)\n",
    "    end_time = time.time()\n",
    "    training_time = round(end_time - start_time,2)\n",
    "    print('Tiempo de entrenamiento:', training_time,'segundos')\n",
    "    train_pred = model.predict(features_train)\n",
    "    valid_pred = model.predict(features_valid)\n",
    "     #Prueba de cordura\n",
    "    cord_test = mean_squared_error(target_train,pd.Series(target_train.mean(),index=target_train),squared=False)\n",
    "    print('La prueba de cordura de la raiz del error cuadratico medio  para el conjunto de entrenamiento es:',cord_test)\n",
    "    cord_valid = mean_squared_error(target_valid,pd.Series(target_valid.mean(),index=target_valid),squared=False)\n",
    "    print('La prueba de cordura de la raiz del error cuadratico medio  para el conjunto de validación es:',cord_valid)\n",
    "    recm_train = mean_squared_error(target_train,train_pred,squared=False)\n",
    "    print('La raiz del error cuadratico medio del conjunto de entrenamiento es:',recm_train)\n",
    "    recm_valid = mean_squared_error(target_valid,valid_pred,squared=False)\n",
    "    print('La raiz del error cuadratico medio del conjunto de validación es:',recm_valid)\n",
    "    return recm_train, recm_valid,training_time"
   ]
  },
  {
   "cell_type": "code",
   "execution_count": null,
   "metadata": {},
   "outputs": [],
   "source": [
    "df1_lgbmtree_train_result, df1_lgbmtree_valid_result,df1_lgbmtree_time_result = lgbm_tree_regressor(df1_concat,df1_target)"
   ]
  },
  {
   "cell_type": "code",
   "execution_count": null,
   "metadata": {},
   "outputs": [],
   "source": [
    "df2_lgbmtree_train_result, df2_lgbmtree_valid_result,df2_lgbmtree_time_result = lgbm_tree_regressor(df2_concat,df2_target)"
   ]
  },
  {
   "cell_type": "code",
   "execution_count": null,
   "metadata": {},
   "outputs": [],
   "source": [
    "df3_lgbmtree_train_result, df3_lgbmtree_valid_result,df3_lgbmtree_time_result = lgbm_tree_regressor(df3_concat,df3_target)"
   ]
  },
  {
   "cell_type": "code",
   "execution_count": null,
   "metadata": {},
   "outputs": [],
   "source": [
    "global_results = add_results(df1_lgbmtree_train_result, df1_lgbmtree_valid_result,df1_lgbmtree_time_result,'df1','LGBM_tree',global_results)\n",
    "global_results = add_results(df2_lgbmtree_train_result, df2_lgbmtree_valid_result,df2_lgbmtree_time_result,'df2','LGBM_tree',global_results)\n",
    "global_results = add_results(df3_lgbmtree_train_result, df3_lgbmtree_valid_result,df3_lgbmtree_time_result,'df3','LGBM_tree',global_results)"
   ]
  },
  {
   "cell_type": "markdown",
   "metadata": {},
   "source": [
    "#### LightGBM RandonForest"
   ]
  },
  {
   "cell_type": "code",
   "execution_count": null,
   "metadata": {},
   "outputs": [],
   "source": [
    "def lgbm_random_regressor(data,target):\n",
    "    \"\"\"Con esta funcion se realiza el entrenamiento, prediccion y puntuacion con RECM del modelo de LightGBM, parametros:\n",
    "    data: conjunto de datos a utilizar\n",
    "    data_target: objetivo del conjunto\n",
    "    \"\"\"\n",
    "    features_train, features_valid, target_train, target_valid = train_test_split(data, target, test_size=0.20, random_state=92)\n",
    "    params = {\n",
    "    'task': 'train', \n",
    "    'boosting': 'rf',\n",
    "    'objective': 'regression',\n",
    "    'num_leaves': 10,\n",
    "    'learning_rate': 0.05,\n",
    "    'metric': 'root_mean_squared_error',\n",
    "    'force_row_wise': True,\n",
    "    'bagging_fraction': 0.5,\n",
    "    'bagging_freq':1,\n",
    "    'feature_fraction':0.9}\n",
    "    lgb_train = lgb.Dataset(features_train,target_train)\n",
    "    lgb_eval = lgb.Dataset(features_valid,target_valid, reference = lgb_train)\n",
    "    start_time = time.time()\n",
    "    model = lgb.train(params,\n",
    "                 train_set=lgb_train,\n",
    "                 valid_sets=lgb_eval)\n",
    "    end_time = time.time()\n",
    "    training_time = round(end_time - start_time,2)\n",
    "    print('Tiempo de entrenamiento:', training_time,'segundos')\n",
    "    train_pred = model.predict(features_train)\n",
    "    valid_pred = model.predict(features_valid)\n",
    "     #Prueba de cordura\n",
    "    cord_test = mean_squared_error(target_train,pd.Series(target_train.mean(),index=target_train),squared=False)\n",
    "    print('La prueba de cordura de la raiz del error cuadratico medio  para el conjunto de entrenamiento es:',cord_test)\n",
    "    cord_valid = mean_squared_error(target_valid,pd.Series(target_valid.mean(),index=target_valid),squared=False)\n",
    "    print('La prueba de cordura de la raiz del error cuadratico medio  para el conjunto de validación es:',cord_valid)\n",
    "    recm_train = mean_squared_error(target_train,train_pred,squared=False)\n",
    "    print('La raiz del error cuadratico medio del conjunto de entrenamiento es:',recm_train)\n",
    "    recm_valid = mean_squared_error(target_valid,valid_pred,squared=False)\n",
    "    print('La raiz del error cuadratico medio del conjunto de validación es:',recm_valid)\n",
    "    return recm_train, recm_valid,training_time"
   ]
  },
  {
   "cell_type": "code",
   "execution_count": null,
   "metadata": {},
   "outputs": [],
   "source": [
    "df1_lgbmrandom_train_result, df1_lgbmrandom_valid_result,df1_lgbmrandom_time_result = lgbm_random_regressor(df1_concat,df1_target)"
   ]
  },
  {
   "cell_type": "code",
   "execution_count": null,
   "metadata": {},
   "outputs": [],
   "source": [
    "df2_lgbmrandom_train_result, df2_lgbmrandom_valid_result,df2_lgbmrandom_time_result = lgbm_random_regressor(df2_concat,df2_target)"
   ]
  },
  {
   "cell_type": "code",
   "execution_count": null,
   "metadata": {
    "scrolled": false
   },
   "outputs": [],
   "source": [
    "df3_lgbmrandom_train_result, df3_lgbmrandom_valid_result,df3_lgbmrandom_time_result = lgbm_random_regressor(df3_concat,df3_target)"
   ]
  },
  {
   "cell_type": "code",
   "execution_count": null,
   "metadata": {},
   "outputs": [],
   "source": [
    "global_results = add_results(df1_lgbmrandom_train_result, df1_lgbmrandom_valid_result,df1_lgbmrandom_time_result,'df1','LGBM_random',global_results)\n",
    "global_results = add_results(df2_lgbmrandom_train_result, df2_lgbmrandom_valid_result,df2_lgbmrandom_time_result,'df2','LGBM_random',global_results)\n",
    "global_results = add_results(df3_lgbmrandom_train_result, df3_lgbmrandom_valid_result,df3_lgbmrandom_time_result,'df3','LGBM_random',global_results)"
   ]
  },
  {
   "cell_type": "markdown",
   "metadata": {},
   "source": [
    "## Catboost"
   ]
  },
  {
   "cell_type": "code",
   "execution_count": null,
   "metadata": {},
   "outputs": [],
   "source": [
    "features = ['vehicletype', 'registrationyear', 'gearbox','power', 'model', 'mileage','fueltype', 'brand',\n",
    "            'notrepaired']\n",
    "cat_features = ['vehicletype','gearbox','model','fueltype', 'brand','notrepaired']"
   ]
  },
  {
   "cell_type": "code",
   "execution_count": null,
   "metadata": {},
   "outputs": [],
   "source": [
    "def catboost_regressor(data,target,features,cat_features):\n",
    "    \"\"\"Con esta funcion se realiza el entrenamiento, prediccion y puntuacion con RECM del modelo de catboostregressor, parametros:\n",
    "    data: conjunto de datos a utilizar\n",
    "    target: objetivo del conjunto\n",
    "    features: caracteristicas del conjunto data\n",
    "    cat_features = variables categoricas de features\n",
    "    \"\"\"\n",
    "    features_train, features_valid, target_train, target_valid = train_test_split(data[features], target, test_size=0.20, random_state=92)\n",
    "    start_time = time.time()\n",
    "    model = CatBoostRegressor(random_state=92)\n",
    "    model.fit(features_train,target_train,cat_features=cat_features)\n",
    "    end_time = time.time()\n",
    "    training_time = round(end_time - start_time,2)\n",
    "    print('Tiempo de entrenamiento:', training_time,'segundos')\n",
    "    train_pred = model.predict(features_train)\n",
    "    valid_pred = model.predict(features_valid)\n",
    "     #Prueba de cordura\n",
    "    cord_test = mean_squared_error(target_train,pd.Series(target_train.mean(),index=target_train),squared=False)\n",
    "    print('La prueba de cordura de la raiz del error cuadratico medio  para el conjunto de entrenamiento es:',cord_test)\n",
    "    cord_valid = mean_squared_error(target_valid,pd.Series(target_valid.mean(),index=target_valid),squared=False)\n",
    "    print('La prueba de cordura de la raiz del error cuadratico medio  para el conjunto de validación es:',cord_valid)\n",
    "    recm_train = mean_squared_error(target_train,train_pred,squared=False)\n",
    "    print('La raiz del error cuadratico medio del conjunto de entrenamiento es:',recm_train)\n",
    "    recm_valid = mean_squared_error(target_valid,valid_pred,squared=False)\n",
    "    print('La raiz del error cuadratico medio del conjunto de validación es:',recm_valid)\n",
    "    return recm_train, recm_valid,training_time"
   ]
  },
  {
   "cell_type": "code",
   "execution_count": null,
   "metadata": {
    "scrolled": true
   },
   "outputs": [],
   "source": [
    "df2_catboost_train_result, df2_catboost_valid_result, df2_catboost_time_result = catboost_regressor(df2,df2_target,features,cat_features)"
   ]
  },
  {
   "cell_type": "code",
   "execution_count": null,
   "metadata": {
    "scrolled": true
   },
   "outputs": [],
   "source": [
    "df3_catboost_train_result, df3_catboost_valid_result,df3_catboost_time_result = catboost_regressor(df3,df3_target,features,cat_features)"
   ]
  },
  {
   "cell_type": "code",
   "execution_count": null,
   "metadata": {},
   "outputs": [],
   "source": [
    "global_results = add_results(df2_catboost_train_result, df2_catboost_valid_result, df2_catboost_time_result,'df2','Catboost',global_results)\n",
    "global_results = add_results(df3_catboost_train_result, df3_catboost_valid_result, df3_catboost_time_result,'df3','Catboost',global_results)"
   ]
  },
  {
   "cell_type": "markdown",
   "metadata": {},
   "source": [
    "## Análisis del modelo"
   ]
  },
  {
   "cell_type": "markdown",
   "metadata": {},
   "source": [
    "Ya tenemos nuestros modelos entrenados y medidos de acuerdo a la metrica RECM, guardamos los datos en un dataframe para poder revisar y comparar los datos en el cual tenemos los siguientes datos:\n",
    "* **conjunto:** el numero de dataframe, recordemos que df1 - conjunto sin cambios / df2 - conjunto con valores llenados con \"unknown\" en variables categoricas / df3 - conjunto con valores ausentes eliminados.\n",
    "* **tipo:** el conjunto de entrenamiento y validacion\n",
    "* **modelo:** el modelo en el cual se entreno y se realizaron las predicciones\n",
    "* **RECM:** el valor de la metrica del conjunto de datos de acuerdo a la raiz del error cuadratico medio\n",
    "* **tiempo_entrenamiento:** el tiempo que tardo en entrenar el modelo en segundos\n",
    "\n",
    "Se realizaron 3 conjuntos de datos para observar el impacto que tendria evaluar los conjuntos de datos con las caracteristicas particulares de cada uno."
   ]
  },
  {
   "cell_type": "code",
   "execution_count": null,
   "metadata": {},
   "outputs": [],
   "source": [
    "global_results"
   ]
  },
  {
   "cell_type": "markdown",
   "metadata": {},
   "source": [
    "Revisaremos los datos de acuerdo al tiempo y a la mejor metrica resultante"
   ]
  },
  {
   "cell_type": "code",
   "execution_count": null,
   "metadata": {},
   "outputs": [],
   "source": [
    "display(global_results.query('tipo == \"valid\"').sort_values(by='RECM'))\n",
    "global_results.query('tipo == \"valid\"').sort_values(by='RECM').plot(x='modelo',\n",
    "                                                                   y='RECM',\n",
    "                                                                   kind='bar')\n",
    "plt.title('RECM de modelos entrenados')\n",
    "plt.show()"
   ]
  },
  {
   "cell_type": "markdown",
   "metadata": {},
   "source": [
    "<div class=\"alert alert-block alert-success\">\n",
    "<b>Comentario de Reviewer</b> <a class=\"tocSkip\"></a>\n",
    "\n",
    "Excelente! Muy claros los resultados. Podrías graficar de distinto color los modelos por dataframe usado o en distintos gráficos o agregar al nombre qué dataframe se uso, así se podrían comparar rápidamente en el gráfico.\n",
    "</div>"
   ]
  },
  {
   "cell_type": "code",
   "execution_count": null,
   "metadata": {},
   "outputs": [],
   "source": [
    "display(global_results.query('tipo == \"valid\"').sort_values(by='tiempo_entrenamiento'))\n",
    "global_results.query('tipo == \"valid\"').sort_values(by='tiempo_entrenamiento').plot(x='modelo',\n",
    "                                                                   y='tiempo_entrenamiento',\n",
    "                                                                   kind='bar')\n",
    "plt.title('RECM de modelos entrenados')\n",
    "plt.show()"
   ]
  },
  {
   "cell_type": "markdown",
   "metadata": {},
   "source": [
    "<div class=\"alert alert-block alert-success\">\n",
    "<b>Comentario de Reviewer</b> <a class=\"tocSkip\"></a>\n",
    "\n",
    "Muy bien!\n",
    "</div>"
   ]
  },
  {
   "cell_type": "markdown",
   "metadata": {},
   "source": [
    "##  Conclusiones"
   ]
  },
  {
   "cell_type": "markdown",
   "metadata": {},
   "source": [
    "Podemos observar que los modelos con una mejor metrica de RECM son Catboost, RandomForestRegressor seguido de LightGBM, con una evaluacion de menos de 2000 de RECM lo que lo hace un buen modelo, sin emabrgo, tenemos que el tiempo de entrenamiento de los modelos de RandomForest y Catboost son los mas altos llevandose el primer lugar el modelo de RandomForest con mas de 500 segundos equivalente a 10min aproximadamente, mientras que el modelo de Catboost a pesar de tener un tiempo de entrenamiento de 100segundos o menos equivalente a 1 min y medio, tiene la mejor puntuación de RECM, por lo que el modelo ganador para este proyecto es **Catboost**.\n",
    "\n",
    "Cabe destacar que dentro de los diferentes conjunto de datos observamos que es mas rapido entrenar el conjunto con los datos ausentes eliminados, esto es logico ya que al tener el conjunto de entrenamiento de datos es mas rapido, sin embargo, podriamos estar perdiendo datos valiosos que en un futuro podrian aportar una mejora al modelo, si observamos los casos vemos que si este conjunto df3 tiene un RECM menor en comparacion al conjunto de datos df1 y df2 pero la diferencia es minima, la cual puede ser despreciable, por lo que trabajar con los datos completos y rellenar los datos categoricos ausentes con 'unknown' puede ser una solucion que implique un beneficio en el futuro; tenemos que pensar que talvez hubo un error en la descarga de datos o posteriormente se corrigieron con el valor real, nos puede aportar valor al conjunto final de datos."
   ]
  },
  {
   "cell_type": "markdown",
   "metadata": {},
   "source": [
    "<div class=\"alert alert-block alert-success\">\n",
    "<b>Comentario de Reviewer v2</b> <a class=\"tocSkip\"></a>\n",
    "\n",
    "Muy bien, importante incluir los resultados numéricos en las conclusiones. Idealmente, en vez de hablar con mucho adjetivo, es mejor presentar los datos numéricos que permiten hacer esas comparaciones.\n",
    "</div>"
   ]
  },
  {
   "cell_type": "markdown",
   "metadata": {},
   "source": [
    "# Lista de control"
   ]
  },
  {
   "cell_type": "markdown",
   "metadata": {},
   "source": [
    "Escribe 'x' para verificar. Luego presiona Shift+Enter"
   ]
  },
  {
   "cell_type": "markdown",
   "metadata": {},
   "source": [
    "- [x]  Jupyter Notebook está abierto\n",
    "- [ ]  El código no tiene errores- [ ]  Las celdas con el código han sido colocadas en orden de ejecución- [ ]  Los datos han sido descargados y preparados- [ ]  Los modelos han sido entrenados\n",
    "- [ ]  Se realizó el análisis de velocidad y calidad de los modelos"
   ]
  },
  {
   "cell_type": "code",
   "execution_count": null,
   "metadata": {},
   "outputs": [],
   "source": []
  }
 ],
 "metadata": {
  "celltoolbar": "Raw Cell Format",
  "kernelspec": {
   "display_name": "Python 3 (ipykernel)",
   "language": "python",
   "name": "python3"
  },
  "language_info": {
   "codemirror_mode": {
    "name": "ipython",
    "version": 3
   },
   "file_extension": ".py",
   "mimetype": "text/x-python",
   "name": "python",
   "nbconvert_exporter": "python",
   "pygments_lexer": "ipython3",
   "version": "3.9.5"
  },
  "toc": {
   "base_numbering": 1,
   "nav_menu": {},
   "number_sections": true,
   "sideBar": true,
   "skip_h1_title": true,
   "title_cell": "Table of Contents",
   "title_sidebar": "Contents",
   "toc_cell": false,
   "toc_position": {},
   "toc_section_display": true,
   "toc_window_display": true
  }
 },
 "nbformat": 4,
 "nbformat_minor": 4
}
