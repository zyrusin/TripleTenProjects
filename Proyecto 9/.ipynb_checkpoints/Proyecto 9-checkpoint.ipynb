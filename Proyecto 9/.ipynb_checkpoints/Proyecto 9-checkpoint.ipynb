{
 "cells": [
  {
   "cell_type": "markdown",
   "metadata": {},
   "source": [
    "## Introduccion"
   ]
  },
  {
   "cell_type": "markdown",
   "metadata": {},
   "source": [
    "**Descripción del proyecto**\n",
    "\n",
    "Trabajas para la compañía minera OilyGiant. Tu tarea es encontrar el mejor lugar para un nuevo pozo.\n",
    "Pasos para elegir la ubicación:  \n",
    "\n",
    "* Recolecta los parámetros del pozo de petróleo en la región seleccionada: calidad del petróleo y volumen de reservas;\n",
    "* Construye un modelo para predecir el volumen de reservas en los nuevos pozos;\n",
    "* Selecciona los pozos de petróleo con los valores estimados más altos;\n",
    "* Elige la región con el mayor beneficio total para los pozos de petróleo seleccionados.\n",
    "\n",
    "Tienes datos sobre muestras de crudo de tres regiones. Ya se conocen los parámetros de cada pozo petrolero de la región. Crea un modelo que ayude a elegir la región con el mayor margen de beneficio. Analiza los beneficios y riesgos potenciales utilizando la técnica bootstrapping.\n",
    "\n",
    "**Instrucciones del proyecto**\n",
    "\n",
    "Descarga y prepara los datos. Explica el procedimiento.\n",
    "Entrena y prueba el modelo para cada región:\n",
    "\n",
    "* 2.1 Divide los datos en un conjunto de entrenamiento y un conjunto de validación en una proporción de 75:25.\n",
    "* 2.2 Entrena el modelo y haz predicciones para el conjunto de validación.\n",
    "* 2.3 Guarda las predicciones y las respuestas correctas para el conjunto de validación.\n",
    "* 2.4 Muestra en la pantalla el volumen promedio de las reservas previstas y la RECM del modelo.\n",
    "* 2.5 Analiza los resultados.\n",
    "\n",
    "**Prepárate para el cálculo de ganancias:**\n",
    "\n",
    "* 3.1. Almacena todos los valores clave para los cálculos en variables separadas.\n",
    "* 3.2. Calcula el volumen de reservas suficiente para desarrollar un nuevo pozo sin pérdidas. Compara el valor obtenido con el volumen medio de reservas de cada región.\n",
    "* 3.3. Proporciona los hallazgos sobre la preparación para el paso de cálculo de ganancias.\n",
    "\n",
    "**Escribe una función para calcular la ganancia de un conjunto de pozos de petróleo seleccionados y modela las predicciones:**\n",
    "* 4.1. Escoge los pozos con los valores más altos de predicciones.\n",
    "* 4.2. Resume el volumen objetivo de reservas de acuerdo con estas predicciones\n",
    "* 4.3. Proporciona los hallazgos: sugiere una región para el desarrollo de pozos petroleros y justifica la elección. Calcula el beneficio por el volumen de reservas obtenido.\n",
    "\n",
    "**Calcula riesgos y ganancias para cada región:**\n",
    "* 5.1. Usa la técnica bootstrapping con 1000 muestras para encontrar la distribución del beneficio.\n",
    "* 5.2. Encuentra el beneficio promedio, el intervalo de confianza del 95% y el riesgo de pérdidas. La pérdida es una ganancia negativa, calcúlala como una probabilidad y luego exprésala como un porcentaje.\n",
    "* 5.3. Proporciona los hallazgos: sugiere una región para el desarrollo de pozos petroleros y justifica la elección.\n",
    "\n",
    "**Condiciones:**\n",
    "\n",
    "* Solo la regresión lineal es adecuada para el entrenamiento de modelos (el resto no son lo suficientemente predecibles).\n",
    "* Al explorar la región, se lleva a cabo un estudio de 500 puntos con la selección de los mejores 200 puntos para el cálculo del beneficio.\n",
    "* El presupuesto para el desarrollo de 200 pozos petroleros es de 100 millones de dólares.\n",
    "* Un barril de materias primas genera 4.5 USD de ingresos. El ingreso de una unidad de producto es de 4500 dólares (el volumen de reservas está expresado en miles de barriles).\n",
    "* Después de la evaluación de riesgo, mantén solo las regiones con riesgo de pérdidas inferior al 2.5%. De las que se ajustan a los criterios, se debe seleccionar la región con el beneficio promedio más alto.\n",
    "* Los datos son sintéticos: los detalles del contrato y las características del pozo no se publican.\n",
    "\n",
    "**Descripción de datos**\n",
    "\n",
    "Los datos de exploración geológica de las tres regiones se almacenan en archivos:  \n",
    "* geo_data_0.csv. Descarga el conjunto de datos\n",
    "* geo_data_1.csv. Descarga el conjunto de datos\n",
    "* geo_data_2.csv. Descarga el conjunto de datos\n",
    "* **id** — identificador único de pozo de petróleo\n",
    "* **f0, f1, f2** — tres características de los puntos (su significado específico no es importante, pero las características en sí son significativas)\n",
    "* **product** — volumen de reservas en el pozo de petróleo (miles de barriles).\n",
    "\n"
   ]
  },
  {
   "cell_type": "markdown",
   "metadata": {},
   "source": [
    "## Exploracion de datos"
   ]
  },
  {
   "cell_type": "markdown",
   "metadata": {},
   "source": [
    "### Librerias a utilizar"
   ]
  },
  {
   "cell_type": "code",
   "execution_count": 1,
   "metadata": {},
   "outputs": [
    {
     "name": "stderr",
     "output_type": "stream",
     "text": [
      "C:\\Users\\user\\anaconda3\\lib\\site-packages\\scipy\\__init__.py:155: UserWarning: A NumPy version >=1.18.5 and <1.25.0 is required for this version of SciPy (detected version 1.26.0\n",
      "  warnings.warn(f\"A NumPy version >={np_minversion} and <{np_maxversion}\"\n"
     ]
    }
   ],
   "source": [
    "import pandas as pd\n",
    "import numpy as np\n",
    "import matplotlib.pyplot as plt\n",
    "from sklearn.model_selection import train_test_split\n",
    "from sklearn.tree import DecisionTreeRegressor\n",
    "from sklearn.ensemble import RandomForestRegressor\n",
    "from sklearn.linear_model import LinearRegression\n",
    "from sklearn.metrics import accuracy_score, precision_score, recall_score, f1_score, roc_auc_score, mean_squared_error\n",
    "from sklearn.model_selection import GridSearchCV\n",
    "from sklearn.preprocessing import StandardScaler\n",
    "from sklearn.preprocessing import OneHotEncoder\n",
    "from sklearn.impute import SimpleImputer\n",
    "from sklearn.utils import shuffle\n",
    "from sklearn.metrics import roc_curve"
   ]
  },
  {
   "cell_type": "markdown",
   "metadata": {},
   "source": [
    "### Carga de datos"
   ]
  },
  {
   "cell_type": "code",
   "execution_count": 2,
   "metadata": {},
   "outputs": [],
   "source": [
    "# Cargamos los datos de las tres areas\n",
    "df1 = pd.read_csv('geo_data_0.csv')\n",
    "df2 = pd.read_csv('geo_data_1.csv')\n",
    "df3 = pd.read_csv('geo_data_2.csv')"
   ]
  },
  {
   "cell_type": "code",
   "execution_count": 3,
   "metadata": {},
   "outputs": [],
   "source": [
    "def displaydata(data):\n",
    "    print('Informacion de los datos y tu tipo')\n",
    "    data.info()\n",
    "    print()\n",
    "    print('Muestra de datos')\n",
    "    display(data.head(10))\n",
    "    print()\n",
    "    print('Valores ausentes')\n",
    "    print(data.isna().sum())\n",
    "    print()\n",
    "    print('Descripcion de los datos')\n",
    "    print(data.describe())\n",
    "    print()\n",
    "    print('Valores duplicados')\n",
    "    print(data.duplicated().sum())\n"
   ]
  },
  {
   "cell_type": "code",
   "execution_count": 4,
   "metadata": {},
   "outputs": [
    {
     "name": "stdout",
     "output_type": "stream",
     "text": [
      "Informacion de los datos y tu tipo\n",
      "<class 'pandas.core.frame.DataFrame'>\n",
      "RangeIndex: 100000 entries, 0 to 99999\n",
      "Data columns (total 5 columns):\n",
      " #   Column   Non-Null Count   Dtype  \n",
      "---  ------   --------------   -----  \n",
      " 0   id       100000 non-null  object \n",
      " 1   f0       100000 non-null  float64\n",
      " 2   f1       100000 non-null  float64\n",
      " 3   f2       100000 non-null  float64\n",
      " 4   product  100000 non-null  float64\n",
      "dtypes: float64(4), object(1)\n",
      "memory usage: 3.8+ MB\n",
      "\n",
      "Muestra de datos\n"
     ]
    },
    {
     "data": {
      "text/html": [
       "<div>\n",
       "<style scoped>\n",
       "    .dataframe tbody tr th:only-of-type {\n",
       "        vertical-align: middle;\n",
       "    }\n",
       "\n",
       "    .dataframe tbody tr th {\n",
       "        vertical-align: top;\n",
       "    }\n",
       "\n",
       "    .dataframe thead th {\n",
       "        text-align: right;\n",
       "    }\n",
       "</style>\n",
       "<table border=\"1\" class=\"dataframe\">\n",
       "  <thead>\n",
       "    <tr style=\"text-align: right;\">\n",
       "      <th></th>\n",
       "      <th>id</th>\n",
       "      <th>f0</th>\n",
       "      <th>f1</th>\n",
       "      <th>f2</th>\n",
       "      <th>product</th>\n",
       "    </tr>\n",
       "  </thead>\n",
       "  <tbody>\n",
       "    <tr>\n",
       "      <th>0</th>\n",
       "      <td>txEyH</td>\n",
       "      <td>0.705745</td>\n",
       "      <td>-0.497823</td>\n",
       "      <td>1.221170</td>\n",
       "      <td>105.280062</td>\n",
       "    </tr>\n",
       "    <tr>\n",
       "      <th>1</th>\n",
       "      <td>2acmU</td>\n",
       "      <td>1.334711</td>\n",
       "      <td>-0.340164</td>\n",
       "      <td>4.365080</td>\n",
       "      <td>73.037750</td>\n",
       "    </tr>\n",
       "    <tr>\n",
       "      <th>2</th>\n",
       "      <td>409Wp</td>\n",
       "      <td>1.022732</td>\n",
       "      <td>0.151990</td>\n",
       "      <td>1.419926</td>\n",
       "      <td>85.265647</td>\n",
       "    </tr>\n",
       "    <tr>\n",
       "      <th>3</th>\n",
       "      <td>iJLyR</td>\n",
       "      <td>-0.032172</td>\n",
       "      <td>0.139033</td>\n",
       "      <td>2.978566</td>\n",
       "      <td>168.620776</td>\n",
       "    </tr>\n",
       "    <tr>\n",
       "      <th>4</th>\n",
       "      <td>Xdl7t</td>\n",
       "      <td>1.988431</td>\n",
       "      <td>0.155413</td>\n",
       "      <td>4.751769</td>\n",
       "      <td>154.036647</td>\n",
       "    </tr>\n",
       "    <tr>\n",
       "      <th>5</th>\n",
       "      <td>wX4Hy</td>\n",
       "      <td>0.969570</td>\n",
       "      <td>0.489775</td>\n",
       "      <td>-0.735383</td>\n",
       "      <td>64.741541</td>\n",
       "    </tr>\n",
       "    <tr>\n",
       "      <th>6</th>\n",
       "      <td>tL6pL</td>\n",
       "      <td>0.645075</td>\n",
       "      <td>0.530656</td>\n",
       "      <td>1.780266</td>\n",
       "      <td>49.055285</td>\n",
       "    </tr>\n",
       "    <tr>\n",
       "      <th>7</th>\n",
       "      <td>BYPU6</td>\n",
       "      <td>-0.400648</td>\n",
       "      <td>0.808337</td>\n",
       "      <td>-5.624670</td>\n",
       "      <td>72.943292</td>\n",
       "    </tr>\n",
       "    <tr>\n",
       "      <th>8</th>\n",
       "      <td>j9Oui</td>\n",
       "      <td>0.643105</td>\n",
       "      <td>-0.551583</td>\n",
       "      <td>2.372141</td>\n",
       "      <td>113.356160</td>\n",
       "    </tr>\n",
       "    <tr>\n",
       "      <th>9</th>\n",
       "      <td>OLuZU</td>\n",
       "      <td>2.173381</td>\n",
       "      <td>0.563698</td>\n",
       "      <td>9.441852</td>\n",
       "      <td>127.910945</td>\n",
       "    </tr>\n",
       "  </tbody>\n",
       "</table>\n",
       "</div>"
      ],
      "text/plain": [
       "      id        f0        f1        f2     product\n",
       "0  txEyH  0.705745 -0.497823  1.221170  105.280062\n",
       "1  2acmU  1.334711 -0.340164  4.365080   73.037750\n",
       "2  409Wp  1.022732  0.151990  1.419926   85.265647\n",
       "3  iJLyR -0.032172  0.139033  2.978566  168.620776\n",
       "4  Xdl7t  1.988431  0.155413  4.751769  154.036647\n",
       "5  wX4Hy  0.969570  0.489775 -0.735383   64.741541\n",
       "6  tL6pL  0.645075  0.530656  1.780266   49.055285\n",
       "7  BYPU6 -0.400648  0.808337 -5.624670   72.943292\n",
       "8  j9Oui  0.643105 -0.551583  2.372141  113.356160\n",
       "9  OLuZU  2.173381  0.563698  9.441852  127.910945"
      ]
     },
     "metadata": {},
     "output_type": "display_data"
    },
    {
     "name": "stdout",
     "output_type": "stream",
     "text": [
      "\n",
      "Valores ausentes\n",
      "id         0\n",
      "f0         0\n",
      "f1         0\n",
      "f2         0\n",
      "product    0\n",
      "dtype: int64\n",
      "\n",
      "Descripcion de los datos\n",
      "                  f0             f1             f2        product\n",
      "count  100000.000000  100000.000000  100000.000000  100000.000000\n",
      "mean        0.500419       0.250143       2.502647      92.500000\n",
      "std         0.871832       0.504433       3.248248      44.288691\n",
      "min        -1.408605      -0.848218     -12.088328       0.000000\n",
      "25%        -0.072580      -0.200881       0.287748      56.497507\n",
      "50%         0.502360       0.250252       2.515969      91.849972\n",
      "75%         1.073581       0.700646       4.715088     128.564089\n",
      "max         2.362331       1.343769      16.003790     185.364347\n",
      "\n",
      "Valores duplicados\n",
      "0\n"
     ]
    }
   ],
   "source": [
    "displaydata(df1)"
   ]
  },
  {
   "cell_type": "code",
   "execution_count": 5,
   "metadata": {},
   "outputs": [
    {
     "name": "stdout",
     "output_type": "stream",
     "text": [
      "Informacion de los datos y tu tipo\n",
      "<class 'pandas.core.frame.DataFrame'>\n",
      "RangeIndex: 100000 entries, 0 to 99999\n",
      "Data columns (total 5 columns):\n",
      " #   Column   Non-Null Count   Dtype  \n",
      "---  ------   --------------   -----  \n",
      " 0   id       100000 non-null  object \n",
      " 1   f0       100000 non-null  float64\n",
      " 2   f1       100000 non-null  float64\n",
      " 3   f2       100000 non-null  float64\n",
      " 4   product  100000 non-null  float64\n",
      "dtypes: float64(4), object(1)\n",
      "memory usage: 3.8+ MB\n",
      "\n",
      "Muestra de datos\n"
     ]
    },
    {
     "data": {
      "text/html": [
       "<div>\n",
       "<style scoped>\n",
       "    .dataframe tbody tr th:only-of-type {\n",
       "        vertical-align: middle;\n",
       "    }\n",
       "\n",
       "    .dataframe tbody tr th {\n",
       "        vertical-align: top;\n",
       "    }\n",
       "\n",
       "    .dataframe thead th {\n",
       "        text-align: right;\n",
       "    }\n",
       "</style>\n",
       "<table border=\"1\" class=\"dataframe\">\n",
       "  <thead>\n",
       "    <tr style=\"text-align: right;\">\n",
       "      <th></th>\n",
       "      <th>id</th>\n",
       "      <th>f0</th>\n",
       "      <th>f1</th>\n",
       "      <th>f2</th>\n",
       "      <th>product</th>\n",
       "    </tr>\n",
       "  </thead>\n",
       "  <tbody>\n",
       "    <tr>\n",
       "      <th>0</th>\n",
       "      <td>kBEdx</td>\n",
       "      <td>-15.001348</td>\n",
       "      <td>-8.276000</td>\n",
       "      <td>-0.005876</td>\n",
       "      <td>3.179103</td>\n",
       "    </tr>\n",
       "    <tr>\n",
       "      <th>1</th>\n",
       "      <td>62mP7</td>\n",
       "      <td>14.272088</td>\n",
       "      <td>-3.475083</td>\n",
       "      <td>0.999183</td>\n",
       "      <td>26.953261</td>\n",
       "    </tr>\n",
       "    <tr>\n",
       "      <th>2</th>\n",
       "      <td>vyE1P</td>\n",
       "      <td>6.263187</td>\n",
       "      <td>-5.948386</td>\n",
       "      <td>5.001160</td>\n",
       "      <td>134.766305</td>\n",
       "    </tr>\n",
       "    <tr>\n",
       "      <th>3</th>\n",
       "      <td>KcrkZ</td>\n",
       "      <td>-13.081196</td>\n",
       "      <td>-11.506057</td>\n",
       "      <td>4.999415</td>\n",
       "      <td>137.945408</td>\n",
       "    </tr>\n",
       "    <tr>\n",
       "      <th>4</th>\n",
       "      <td>AHL4O</td>\n",
       "      <td>12.702195</td>\n",
       "      <td>-8.147433</td>\n",
       "      <td>5.004363</td>\n",
       "      <td>134.766305</td>\n",
       "    </tr>\n",
       "    <tr>\n",
       "      <th>5</th>\n",
       "      <td>HHckp</td>\n",
       "      <td>-3.327590</td>\n",
       "      <td>-2.205276</td>\n",
       "      <td>3.003647</td>\n",
       "      <td>84.038886</td>\n",
       "    </tr>\n",
       "    <tr>\n",
       "      <th>6</th>\n",
       "      <td>h5Ujo</td>\n",
       "      <td>-11.142655</td>\n",
       "      <td>-10.133399</td>\n",
       "      <td>4.002382</td>\n",
       "      <td>110.992147</td>\n",
       "    </tr>\n",
       "    <tr>\n",
       "      <th>7</th>\n",
       "      <td>muH9x</td>\n",
       "      <td>4.234715</td>\n",
       "      <td>-0.001354</td>\n",
       "      <td>2.004588</td>\n",
       "      <td>53.906522</td>\n",
       "    </tr>\n",
       "    <tr>\n",
       "      <th>8</th>\n",
       "      <td>YiRkx</td>\n",
       "      <td>13.355129</td>\n",
       "      <td>-0.332068</td>\n",
       "      <td>4.998647</td>\n",
       "      <td>134.766305</td>\n",
       "    </tr>\n",
       "    <tr>\n",
       "      <th>9</th>\n",
       "      <td>jG6Gi</td>\n",
       "      <td>1.069227</td>\n",
       "      <td>-11.025667</td>\n",
       "      <td>4.997844</td>\n",
       "      <td>137.945408</td>\n",
       "    </tr>\n",
       "  </tbody>\n",
       "</table>\n",
       "</div>"
      ],
      "text/plain": [
       "      id         f0         f1        f2     product\n",
       "0  kBEdx -15.001348  -8.276000 -0.005876    3.179103\n",
       "1  62mP7  14.272088  -3.475083  0.999183   26.953261\n",
       "2  vyE1P   6.263187  -5.948386  5.001160  134.766305\n",
       "3  KcrkZ -13.081196 -11.506057  4.999415  137.945408\n",
       "4  AHL4O  12.702195  -8.147433  5.004363  134.766305\n",
       "5  HHckp  -3.327590  -2.205276  3.003647   84.038886\n",
       "6  h5Ujo -11.142655 -10.133399  4.002382  110.992147\n",
       "7  muH9x   4.234715  -0.001354  2.004588   53.906522\n",
       "8  YiRkx  13.355129  -0.332068  4.998647  134.766305\n",
       "9  jG6Gi   1.069227 -11.025667  4.997844  137.945408"
      ]
     },
     "metadata": {},
     "output_type": "display_data"
    },
    {
     "name": "stdout",
     "output_type": "stream",
     "text": [
      "\n",
      "Valores ausentes\n",
      "id         0\n",
      "f0         0\n",
      "f1         0\n",
      "f2         0\n",
      "product    0\n",
      "dtype: int64\n",
      "\n",
      "Descripcion de los datos\n",
      "                  f0             f1             f2        product\n",
      "count  100000.000000  100000.000000  100000.000000  100000.000000\n",
      "mean        1.141296      -4.796579       2.494541      68.825000\n",
      "std         8.965932       5.119872       1.703572      45.944423\n",
      "min       -31.609576     -26.358598      -0.018144       0.000000\n",
      "25%        -6.298551      -8.267985       1.000021      26.953261\n",
      "50%         1.153055      -4.813172       2.011479      57.085625\n",
      "75%         8.621015      -1.332816       3.999904     107.813044\n",
      "max        29.421755      18.734063       5.019721     137.945408\n",
      "\n",
      "Valores duplicados\n",
      "0\n"
     ]
    }
   ],
   "source": [
    "displaydata(df2)"
   ]
  },
  {
   "cell_type": "code",
   "execution_count": 6,
   "metadata": {},
   "outputs": [
    {
     "name": "stdout",
     "output_type": "stream",
     "text": [
      "Informacion de los datos y tu tipo\n",
      "<class 'pandas.core.frame.DataFrame'>\n",
      "RangeIndex: 100000 entries, 0 to 99999\n",
      "Data columns (total 5 columns):\n",
      " #   Column   Non-Null Count   Dtype  \n",
      "---  ------   --------------   -----  \n",
      " 0   id       100000 non-null  object \n",
      " 1   f0       100000 non-null  float64\n",
      " 2   f1       100000 non-null  float64\n",
      " 3   f2       100000 non-null  float64\n",
      " 4   product  100000 non-null  float64\n",
      "dtypes: float64(4), object(1)\n",
      "memory usage: 3.8+ MB\n",
      "\n",
      "Muestra de datos\n"
     ]
    },
    {
     "data": {
      "text/html": [
       "<div>\n",
       "<style scoped>\n",
       "    .dataframe tbody tr th:only-of-type {\n",
       "        vertical-align: middle;\n",
       "    }\n",
       "\n",
       "    .dataframe tbody tr th {\n",
       "        vertical-align: top;\n",
       "    }\n",
       "\n",
       "    .dataframe thead th {\n",
       "        text-align: right;\n",
       "    }\n",
       "</style>\n",
       "<table border=\"1\" class=\"dataframe\">\n",
       "  <thead>\n",
       "    <tr style=\"text-align: right;\">\n",
       "      <th></th>\n",
       "      <th>id</th>\n",
       "      <th>f0</th>\n",
       "      <th>f1</th>\n",
       "      <th>f2</th>\n",
       "      <th>product</th>\n",
       "    </tr>\n",
       "  </thead>\n",
       "  <tbody>\n",
       "    <tr>\n",
       "      <th>0</th>\n",
       "      <td>fwXo0</td>\n",
       "      <td>-1.146987</td>\n",
       "      <td>0.963328</td>\n",
       "      <td>-0.828965</td>\n",
       "      <td>27.758673</td>\n",
       "    </tr>\n",
       "    <tr>\n",
       "      <th>1</th>\n",
       "      <td>WJtFt</td>\n",
       "      <td>0.262778</td>\n",
       "      <td>0.269839</td>\n",
       "      <td>-2.530187</td>\n",
       "      <td>56.069697</td>\n",
       "    </tr>\n",
       "    <tr>\n",
       "      <th>2</th>\n",
       "      <td>ovLUW</td>\n",
       "      <td>0.194587</td>\n",
       "      <td>0.289035</td>\n",
       "      <td>-5.586433</td>\n",
       "      <td>62.871910</td>\n",
       "    </tr>\n",
       "    <tr>\n",
       "      <th>3</th>\n",
       "      <td>q6cA6</td>\n",
       "      <td>2.236060</td>\n",
       "      <td>-0.553760</td>\n",
       "      <td>0.930038</td>\n",
       "      <td>114.572842</td>\n",
       "    </tr>\n",
       "    <tr>\n",
       "      <th>4</th>\n",
       "      <td>WPMUX</td>\n",
       "      <td>-0.515993</td>\n",
       "      <td>1.716266</td>\n",
       "      <td>5.899011</td>\n",
       "      <td>149.600746</td>\n",
       "    </tr>\n",
       "    <tr>\n",
       "      <th>5</th>\n",
       "      <td>LzZXx</td>\n",
       "      <td>-0.758092</td>\n",
       "      <td>0.710691</td>\n",
       "      <td>2.585887</td>\n",
       "      <td>90.222465</td>\n",
       "    </tr>\n",
       "    <tr>\n",
       "      <th>6</th>\n",
       "      <td>WBHRv</td>\n",
       "      <td>-0.574891</td>\n",
       "      <td>0.317727</td>\n",
       "      <td>1.773745</td>\n",
       "      <td>45.641478</td>\n",
       "    </tr>\n",
       "    <tr>\n",
       "      <th>7</th>\n",
       "      <td>XO8fn</td>\n",
       "      <td>-1.906649</td>\n",
       "      <td>-2.458350</td>\n",
       "      <td>-0.177097</td>\n",
       "      <td>72.480640</td>\n",
       "    </tr>\n",
       "    <tr>\n",
       "      <th>8</th>\n",
       "      <td>ybmQ5</td>\n",
       "      <td>1.776292</td>\n",
       "      <td>-0.279356</td>\n",
       "      <td>3.004156</td>\n",
       "      <td>106.616832</td>\n",
       "    </tr>\n",
       "    <tr>\n",
       "      <th>9</th>\n",
       "      <td>OilcN</td>\n",
       "      <td>-1.214452</td>\n",
       "      <td>-0.439314</td>\n",
       "      <td>5.922514</td>\n",
       "      <td>52.954532</td>\n",
       "    </tr>\n",
       "  </tbody>\n",
       "</table>\n",
       "</div>"
      ],
      "text/plain": [
       "      id        f0        f1        f2     product\n",
       "0  fwXo0 -1.146987  0.963328 -0.828965   27.758673\n",
       "1  WJtFt  0.262778  0.269839 -2.530187   56.069697\n",
       "2  ovLUW  0.194587  0.289035 -5.586433   62.871910\n",
       "3  q6cA6  2.236060 -0.553760  0.930038  114.572842\n",
       "4  WPMUX -0.515993  1.716266  5.899011  149.600746\n",
       "5  LzZXx -0.758092  0.710691  2.585887   90.222465\n",
       "6  WBHRv -0.574891  0.317727  1.773745   45.641478\n",
       "7  XO8fn -1.906649 -2.458350 -0.177097   72.480640\n",
       "8  ybmQ5  1.776292 -0.279356  3.004156  106.616832\n",
       "9  OilcN -1.214452 -0.439314  5.922514   52.954532"
      ]
     },
     "metadata": {},
     "output_type": "display_data"
    },
    {
     "name": "stdout",
     "output_type": "stream",
     "text": [
      "\n",
      "Valores ausentes\n",
      "id         0\n",
      "f0         0\n",
      "f1         0\n",
      "f2         0\n",
      "product    0\n",
      "dtype: int64\n",
      "\n",
      "Descripcion de los datos\n",
      "                  f0             f1             f2        product\n",
      "count  100000.000000  100000.000000  100000.000000  100000.000000\n",
      "mean        0.002023      -0.002081       2.495128      95.000000\n",
      "std         1.732045       1.730417       3.473445      44.749921\n",
      "min        -8.760004      -7.084020     -11.970335       0.000000\n",
      "25%        -1.162288      -1.174820       0.130359      59.450441\n",
      "50%         0.009424      -0.009482       2.484236      94.925613\n",
      "75%         1.158535       1.163678       4.858794     130.595027\n",
      "max         7.238262       7.844801      16.739402     190.029838\n",
      "\n",
      "Valores duplicados\n",
      "0\n"
     ]
    }
   ],
   "source": [
    "displaydata(df3)"
   ]
  },
  {
   "cell_type": "markdown",
   "metadata": {},
   "source": [
    "No contamos con valores ausentes, ni con valores duplicados"
   ]
  },
  {
   "cell_type": "markdown",
   "metadata": {},
   "source": [
    "## Preparacion de datos"
   ]
  },
  {
   "cell_type": "markdown",
   "metadata": {},
   "source": [
    "Procederemos a separar los datos y a eliminar la columna id en cada conjunto ya que no nos aporta algun dato relevante"
   ]
  },
  {
   "cell_type": "markdown",
   "metadata": {},
   "source": [
    "### Separacion de datos"
   ]
  },
  {
   "cell_type": "code",
   "execution_count": 7,
   "metadata": {},
   "outputs": [],
   "source": [
    "# Funcion para eliminar columnas\n",
    "def drop_col(data,column_delete):\n",
    "    data = data.drop(column_delete, axis = 1)\n",
    "    return data"
   ]
  },
  {
   "cell_type": "code",
   "execution_count": 8,
   "metadata": {},
   "outputs": [],
   "source": [
    "# Separamos los datos en entrenamiento y validación\n",
    "df1_train, df1_valid = train_test_split(df1, test_size = 0.25, random_state =92)\n",
    "df2_train, df2_valid = train_test_split(df2, test_size = 0.25, random_state =92)\n",
    "df3_train, df3_valid = train_test_split(df3, test_size = 0.25, random_state =92)"
   ]
  },
  {
   "cell_type": "code",
   "execution_count": 9,
   "metadata": {},
   "outputs": [
    {
     "data": {
      "text/plain": [
       "((75000, 5), (25000, 5), (75000, 5), (25000, 5), (75000, 5), (25000, 5))"
      ]
     },
     "execution_count": 9,
     "metadata": {},
     "output_type": "execute_result"
    }
   ],
   "source": [
    "# Verificamos el tamaño de las muestras\n",
    "df1_train.shape, df1_valid.shape,df2_train.shape, df2_valid.shape,df3_train.shape, df3_valid.shape"
   ]
  },
  {
   "cell_type": "code",
   "execution_count": 10,
   "metadata": {},
   "outputs": [],
   "source": [
    "# Designamos los features\n",
    "column_delete = ['product','id']\n",
    "df1_train_features = drop_col(df1_train,column_delete)\n",
    "df2_train_features = drop_col(df2_train,column_delete)\n",
    "df3_train_features = drop_col(df3_train,column_delete)\n",
    "df1_valid_features = drop_col(df1_valid,column_delete)\n",
    "df2_valid_features = drop_col(df2_valid,column_delete)\n",
    "df3_valid_features = drop_col(df3_valid,column_delete)"
   ]
  },
  {
   "cell_type": "code",
   "execution_count": 11,
   "metadata": {},
   "outputs": [
    {
     "data": {
      "text/plain": [
       "((75000, 3), (25000, 3))"
      ]
     },
     "execution_count": 11,
     "metadata": {},
     "output_type": "execute_result"
    }
   ],
   "source": [
    "# Verificamos tamños de las muestras\n",
    "df3_train_features.shape, df3_valid_features.shape"
   ]
  },
  {
   "cell_type": "code",
   "execution_count": 12,
   "metadata": {},
   "outputs": [],
   "source": [
    "#Desiganmos el target\n",
    "df1_train_target = df1_train['product']\n",
    "df2_train_target = df2_train['product']\n",
    "df3_train_target = df3_train['product']\n",
    "df1_valid_target = df1_valid['product']\n",
    "df2_valid_target = df2_valid['product']\n",
    "df3_valid_target = df3_valid['product']"
   ]
  },
  {
   "cell_type": "code",
   "execution_count": 13,
   "metadata": {
    "scrolled": true
   },
   "outputs": [
    {
     "data": {
      "text/plain": [
       "((75000,), (25000,))"
      ]
     },
     "execution_count": 13,
     "metadata": {},
     "output_type": "execute_result"
    }
   ],
   "source": [
    "# Verificamos el tamaño de las muestras\n",
    "df1_train_target.shape, df1_valid_target.shape"
   ]
  },
  {
   "cell_type": "markdown",
   "metadata": {},
   "source": [
    "Hemos verificado nuestros conjuntos y pasaremos a estandarizar los datos"
   ]
  },
  {
   "cell_type": "code",
   "execution_count": 14,
   "metadata": {},
   "outputs": [
    {
     "data": {
      "text/html": [
       "<div>\n",
       "<style scoped>\n",
       "    .dataframe tbody tr th:only-of-type {\n",
       "        vertical-align: middle;\n",
       "    }\n",
       "\n",
       "    .dataframe tbody tr th {\n",
       "        vertical-align: top;\n",
       "    }\n",
       "\n",
       "    .dataframe thead th {\n",
       "        text-align: right;\n",
       "    }\n",
       "</style>\n",
       "<table border=\"1\" class=\"dataframe\">\n",
       "  <thead>\n",
       "    <tr style=\"text-align: right;\">\n",
       "      <th></th>\n",
       "      <th>f0</th>\n",
       "      <th>f1</th>\n",
       "      <th>f2</th>\n",
       "    </tr>\n",
       "  </thead>\n",
       "  <tbody>\n",
       "    <tr>\n",
       "      <th>90040</th>\n",
       "      <td>0.526702</td>\n",
       "      <td>-0.422513</td>\n",
       "      <td>-3.537051</td>\n",
       "    </tr>\n",
       "    <tr>\n",
       "      <th>41996</th>\n",
       "      <td>0.857391</td>\n",
       "      <td>0.640599</td>\n",
       "      <td>6.368011</td>\n",
       "    </tr>\n",
       "    <tr>\n",
       "      <th>78969</th>\n",
       "      <td>-0.981208</td>\n",
       "      <td>-0.002372</td>\n",
       "      <td>6.352899</td>\n",
       "    </tr>\n",
       "    <tr>\n",
       "      <th>73756</th>\n",
       "      <td>-1.047012</td>\n",
       "      <td>-0.100438</td>\n",
       "      <td>0.394056</td>\n",
       "    </tr>\n",
       "    <tr>\n",
       "      <th>74629</th>\n",
       "      <td>-0.183744</td>\n",
       "      <td>0.810445</td>\n",
       "      <td>-0.401329</td>\n",
       "    </tr>\n",
       "    <tr>\n",
       "      <th>...</th>\n",
       "      <td>...</td>\n",
       "      <td>...</td>\n",
       "      <td>...</td>\n",
       "    </tr>\n",
       "    <tr>\n",
       "      <th>64395</th>\n",
       "      <td>0.250918</td>\n",
       "      <td>-0.183962</td>\n",
       "      <td>3.646616</td>\n",
       "    </tr>\n",
       "    <tr>\n",
       "      <th>6162</th>\n",
       "      <td>0.828667</td>\n",
       "      <td>0.479602</td>\n",
       "      <td>4.113058</td>\n",
       "    </tr>\n",
       "    <tr>\n",
       "      <th>31555</th>\n",
       "      <td>0.969644</td>\n",
       "      <td>-0.510774</td>\n",
       "      <td>0.351081</td>\n",
       "    </tr>\n",
       "    <tr>\n",
       "      <th>94250</th>\n",
       "      <td>0.473560</td>\n",
       "      <td>-0.251014</td>\n",
       "      <td>3.196882</td>\n",
       "    </tr>\n",
       "    <tr>\n",
       "      <th>69754</th>\n",
       "      <td>-0.511477</td>\n",
       "      <td>0.913650</td>\n",
       "      <td>3.699768</td>\n",
       "    </tr>\n",
       "  </tbody>\n",
       "</table>\n",
       "<p>75000 rows × 3 columns</p>\n",
       "</div>"
      ],
      "text/plain": [
       "             f0        f1        f2\n",
       "90040  0.526702 -0.422513 -3.537051\n",
       "41996  0.857391  0.640599  6.368011\n",
       "78969 -0.981208 -0.002372  6.352899\n",
       "73756 -1.047012 -0.100438  0.394056\n",
       "74629 -0.183744  0.810445 -0.401329\n",
       "...         ...       ...       ...\n",
       "64395  0.250918 -0.183962  3.646616\n",
       "6162   0.828667  0.479602  4.113058\n",
       "31555  0.969644 -0.510774  0.351081\n",
       "94250  0.473560 -0.251014  3.196882\n",
       "69754 -0.511477  0.913650  3.699768\n",
       "\n",
       "[75000 rows x 3 columns]"
      ]
     },
     "execution_count": 14,
     "metadata": {},
     "output_type": "execute_result"
    }
   ],
   "source": [
    "df1_train_features"
   ]
  },
  {
   "cell_type": "code",
   "execution_count": 15,
   "metadata": {},
   "outputs": [],
   "source": [
    "# Creamos una funcion para hacer el escalado de datos\n",
    "def scaler_tr(data):\n",
    "    sc = StandardScaler() # Creamos nuestro scaler\n",
    "    sc.fit(data) # Ajustamos los datos\n",
    "    df = sc.transform(data)\n",
    "    return df"
   ]
  },
  {
   "cell_type": "code",
   "execution_count": 16,
   "metadata": {},
   "outputs": [],
   "source": [
    "# Trasnformamos los datos\n",
    "df1_train_scale = scaler_tr(df1_train_features)\n",
    "df2_train_scale = scaler_tr(df2_train_features)\n",
    "df3_train_scale = scaler_tr(df3_train_features)\n",
    "df1_valid_scale = scaler_tr(df1_valid_features)\n",
    "df2_valid_scale = scaler_tr(df2_valid_features)\n",
    "df3_valid_scale = scaler_tr(df3_valid_features)"
   ]
  },
  {
   "cell_type": "code",
   "execution_count": 17,
   "metadata": {},
   "outputs": [],
   "source": [
    "# Hacemos dataframe para tener los indices y poder relacionar el id del pozo\n",
    "column_names = ['f0','f1','f2'] # Nombramos las columnas\n",
    "def index(data, scale):\n",
    "    df = pd.DataFrame(scale, columns=column_names, index =data.index)\n",
    "    return df"
   ]
  },
  {
   "cell_type": "code",
   "execution_count": 18,
   "metadata": {},
   "outputs": [],
   "source": [
    "# Creamos los dataframes\n",
    "df1_train_features = index(df1_train_features, df1_train_scale)\n",
    "df2_train_features = index(df2_train_features, df2_train_scale)\n",
    "df3_train_features = index(df3_train_features, df3_train_scale)\n",
    "df1_valid_features = index(df1_valid_features, df1_valid_scale)\n",
    "df2_valid_features = index(df2_valid_features, df2_valid_scale)\n",
    "df3_valid_features = index(df3_valid_features, df3_valid_scale)"
   ]
  },
  {
   "cell_type": "markdown",
   "metadata": {},
   "source": [
    "### Entrenamiento de modelo"
   ]
  },
  {
   "cell_type": "code",
   "execution_count": 19,
   "metadata": {},
   "outputs": [],
   "source": [
    "# Creamos una funcion para la prediccion\n",
    "def linear_model(features,target,valid):\n",
    "    model = LinearRegression() # creamos el modelo\n",
    "    model.fit(features, target) # Entrenamos el modelo\n",
    "    p = model.predict(valid)\n",
    "    return p"
   ]
  },
  {
   "cell_type": "markdown",
   "metadata": {},
   "source": [
    "### Predicciones"
   ]
  },
  {
   "cell_type": "code",
   "execution_count": 20,
   "metadata": {
    "scrolled": true
   },
   "outputs": [],
   "source": [
    "# Predecimos los resultados\n",
    "df1_predict = linear_model(df1_train_features,df1_train_target,df1_valid_features)\n",
    "df2_predict = linear_model(df2_train_features,df2_train_target,df2_valid_features)\n",
    "df3_predict = linear_model(df3_train_features,df3_train_target,df3_valid_features)"
   ]
  },
  {
   "cell_type": "code",
   "execution_count": 22,
   "metadata": {},
   "outputs": [],
   "source": [
    "# Sacamos los valores promedio de las predicciones\n",
    "df1_predict_mean = df1_predict.mean()\n",
    "df2_predict_mean = df2_predict.mean()\n",
    "df3_predict_mean = df3_predict.mean()"
   ]
  },
  {
   "cell_type": "markdown",
   "metadata": {},
   "source": [
    "### Volumen promedio y RECM"
   ]
  },
  {
   "cell_type": "code",
   "execution_count": 23,
   "metadata": {},
   "outputs": [
    {
     "name": "stdout",
     "output_type": "stream",
     "text": [
      "Volumen promedio area 1: 92.53691224680499\n",
      "Volumen promedio area 2: 68.81811839475613\n",
      "Volumen promedio area 3: 94.92440833741698\n"
     ]
    }
   ],
   "source": [
    "print('Volumen promedio area 1:',df1_predict_mean)\n",
    "print('Volumen promedio area 2:',df2_predict_mean)\n",
    "print('Volumen promedio area 3:',df3_predict_mean)"
   ]
  },
  {
   "cell_type": "markdown",
   "metadata": {},
   "source": [
    "#### Prueba de cordura"
   ]
  },
  {
   "cell_type": "code",
   "execution_count": 24,
   "metadata": {},
   "outputs": [],
   "source": [
    "def recm_cord(data):\n",
    "    recm = mean_squared_error(data,pd.Series(data.mean(), index=data),squared=False)\n",
    "    return recm"
   ]
  },
  {
   "cell_type": "code",
   "execution_count": 25,
   "metadata": {},
   "outputs": [
    {
     "name": "stdout",
     "output_type": "stream",
     "text": [
      "Las predicciones del area 1 erraron por: 44.47186981080427 millones de barriles\n",
      "Las predicciones del area 2 erraron por: 46.09537584813028 millones de barriles\n",
      "Las predicciones del area 3 erraron por: 44.6782206821131 millones de barriles\n"
     ]
    }
   ],
   "source": [
    "print('Las predicciones del area 1 erraron por:', recm_cord(df1_valid_target),'millones de barriles')\n",
    "print('Las predicciones del area 2 erraron por:', recm_cord(df2_valid_target),'millones de barriles')\n",
    "print('Las predicciones del area 3 erraron por:', recm_cord(df3_valid_target),'millones de barriles')"
   ]
  },
  {
   "cell_type": "code",
   "execution_count": 26,
   "metadata": {},
   "outputs": [],
   "source": [
    "recm_cordura = {\n",
    "    'areas' : ['df1','df2','df3'],\n",
    "    'recm' : [recm_cord(df1_valid_target), recm_cord(df2_valid_target),recm_cord(df3_valid_target)]\n",
    "}"
   ]
  },
  {
   "cell_type": "code",
   "execution_count": 27,
   "metadata": {},
   "outputs": [],
   "source": [
    "recm_cordura = pd.DataFrame(recm_cordura)"
   ]
  },
  {
   "cell_type": "code",
   "execution_count": 28,
   "metadata": {},
   "outputs": [
    {
     "data": {
      "image/png": "[encoded data removed]",
      "text/plain": [
       "<Figure size 1500x800 with 1 Axes>"
      ]
     },
     "metadata": {},
     "output_type": "display_data"
    }
   ],
   "source": [
    "recm_cordura.plot(\n",
    "    x='areas',\n",
    "    kind='bar',\n",
    "    figsize=(15,8),\n",
    "    rot=0,\n",
    "title='RECM cordura')\n",
    "plt.ylabel('Millones de barriles de petroleo')\n",
    "plt.show()\n",
    "\n"
   ]
  },
  {
   "cell_type": "code",
   "execution_count": 29,
   "metadata": {},
   "outputs": [],
   "source": [
    "# Calculamos el RECM para las predicciones\n",
    "df1_recm = mean_squared_error(df1_valid_target, df1_predict, squared=False)\n",
    "df2_recm = mean_squared_error(df2_valid_target, df2_predict, squared=False)\n",
    "df3_recm = mean_squared_error(df3_valid_target, df3_predict, squared=False)"
   ]
  },
  {
   "cell_type": "code",
   "execution_count": 30,
   "metadata": {},
   "outputs": [
    {
     "name": "stdout",
     "output_type": "stream",
     "text": [
      "Las predicciones del area 1 erraron por: 37.79741735018461 millones de barriles\n",
      "Las predicciones del area 2 erraron por: 0.9140183216371801 millones de barriles\n",
      "Las predicciones del area 3 erraron por: 39.948144317814496 millones de barriles\n"
     ]
    }
   ],
   "source": [
    "print('Las predicciones del area 1 erraron por:',df1_recm,'millones de barriles')\n",
    "print('Las predicciones del area 2 erraron por:',df2_recm,'millones de barriles')\n",
    "print('Las predicciones del area 3 erraron por:',df3_recm,'millones de barriles')"
   ]
  },
  {
   "cell_type": "code",
   "execution_count": 31,
   "metadata": {},
   "outputs": [],
   "source": [
    "recm_final = {\n",
    "    'areas' : ['df1','df2','df3'],\n",
    "    'recm' : [df1_recm,df2_recm,df3_recm]\n",
    "}"
   ]
  },
  {
   "cell_type": "code",
   "execution_count": 32,
   "metadata": {},
   "outputs": [],
   "source": [
    "recm_final = pd.DataFrame(recm_final)"
   ]
  },
  {
   "cell_type": "code",
   "execution_count": 33,
   "metadata": {},
   "outputs": [
    {
     "data": {
      "image/png": "[encoded data removed]",
      "text/plain": [
       "<Figure size 1500x800 with 1 Axes>"
      ]
     },
     "metadata": {},
     "output_type": "display_data"
    }
   ],
   "source": [
    "recm_final.plot(\n",
    "    x='areas',\n",
    "    kind='bar',\n",
    "    figsize=(15,8),\n",
    "    rot=0,\n",
    "title='RECM esperado')\n",
    "plt.ylabel('Millones de barriles de petroleo')\n",
    "plt.show()\n",
    "\n"
   ]
  },
  {
   "cell_type": "markdown",
   "metadata": {},
   "source": [
    "### RECM conclusiones"
   ]
  },
  {
   "cell_type": "markdown",
   "metadata": {},
   "source": [
    "Despues de realizar una prueba de cordura podemos observar que tenemos un error similar para las tres areas entre 44-46 millones de barriles,sin embargo, al momento de realizar las prediccion vemos que el error de prediccion es muy bajo de 0.94 para el area 2, mientras que el area 1 y 3 tienden a estar entre 37-39 millones de barriles de error, por lo que eligiriamos el area 2 para realizar nuestra inversión."
   ]
  },
  {
   "cell_type": "markdown",
   "metadata": {},
   "source": [
    "## Requisitos de ganancia"
   ]
  },
  {
   "cell_type": "code",
   "execution_count": 34,
   "metadata": {},
   "outputs": [],
   "source": [
    "# Pozos\n",
    "pozos = 200\n",
    "\n",
    "# Costo de realizar 200 pozos\n",
    "cost = 100000000\n",
    "\n",
    "# Precio del barril\n",
    "price = 4500"
   ]
  },
  {
   "cell_type": "code",
   "execution_count": 35,
   "metadata": {},
   "outputs": [],
   "source": [
    "# Calcularemos si es rentable en caso de que hicieramos la exploracion de los 200 pozos y esos pozos entregaran la media de la\n",
    "# exploracion del área\n",
    "def rentabilidad_media(area_predict_mean):\n",
    "    rent = (area_predict_mean * pozos * price) - cost # Del costo de 200 pozos, restamos el valor de 200 pozos entregando la media de prediccion \n",
    "    return rent "
   ]
  },
  {
   "cell_type": "code",
   "execution_count": 36,
   "metadata": {},
   "outputs": [
    {
     "name": "stdout",
     "output_type": "stream",
     "text": [
      "La rentabilidad conservadora del area 1 es de: -16716778.98 USD\n",
      "La rentabilidad conservadora del area 2 es de: -38063693.44 USD\n",
      "La rentabilidad conservadora del area 3 es de: -14568032.5 USD\n"
     ]
    }
   ],
   "source": [
    "print('La rentabilidad conservadora del area 1 es de:', round(rentabilidad_media(df1_predict_mean),2),'USD')\n",
    "print('La rentabilidad conservadora del area 2 es de:', round(rentabilidad_media(df2_predict_mean),2),'USD')\n",
    "print('La rentabilidad conservadora del area 3 es de:', round(rentabilidad_media(df3_predict_mean),2),'USD')"
   ]
  },
  {
   "cell_type": "code",
   "execution_count": 37,
   "metadata": {},
   "outputs": [],
   "source": [
    "rentabilidad_conservadora = pd.DataFrame({\n",
    "    'rent':[rentabilidad_media(df1_predict_mean),rentabilidad_media(df2_predict_mean),rentabilidad_media(df3_predict_mean)],\n",
    "    'areas' : ['df1','df2','df3']})"
   ]
  },
  {
   "cell_type": "code",
   "execution_count": 38,
   "metadata": {},
   "outputs": [
    {
     "data": {
      "image/png": "[encoded data removed]",
      "text/plain": [
       "<Figure size 1300x800 with 1 Axes>"
      ]
     },
     "metadata": {},
     "output_type": "display_data"
    }
   ],
   "source": [
    "rentabilidad_conservadora.plot(\n",
    "    x='areas',\n",
    "    kind='bar',\n",
    "    rot = 0,\n",
    "    figsize=(13,8))\n",
    "plt.show()"
   ]
  },
  {
   "cell_type": "markdown",
   "metadata": {},
   "source": [
    "Viendo la rentabilidad de forma conservadora, suponiendo que los volumenes de los pozos es de la media de las predicciones, dandonos como resultado que ningun area llega a ser rentable, pero esto es solo un resultado preliminar en caso de que todos los pozos nos entreguen la misma cantidad de barriles, veamos como se comporta en caso que elijamos los mejores pozos de cada zona"
   ]
  },
  {
   "cell_type": "markdown",
   "metadata": {},
   "source": [
    "## Preparacion y calculo de ganancias"
   ]
  },
  {
   "cell_type": "code",
   "execution_count": 39,
   "metadata": {},
   "outputs": [],
   "source": [
    "# Creamos dataframes con el valor de las predicciones y el valor medio de las predicciones\n",
    "df1_gain = { \n",
    "    'predict' : df1_predict,\n",
    "    'predict_mean' : df1_predict_mean}\n",
    "\n",
    "df2_gain = { \n",
    "    'predict' : df2_predict,\n",
    "    'predict_mean' : df2_predict_mean}\n",
    "\n",
    "df3_gain = { \n",
    "    'predict' : df3_predict,\n",
    "    'predict_mean' : df3_predict_mean}\n",
    "\n",
    "df1_gain = pd.DataFrame(df1_gain, index=df1_valid_features.index) \n",
    "df2_gain = pd.DataFrame(df2_gain, index=df2_valid_features.index)\n",
    "df3_gain = pd.DataFrame(df3_gain, index=df3_valid_features.index)"
   ]
  },
  {
   "cell_type": "code",
   "execution_count": 40,
   "metadata": {},
   "outputs": [],
   "source": [
    "# Realizamos la diferencia entre la prediccion y el valor medio de las predicciones\n",
    "df1_gain['dif'] = df1_gain['predict'] - df1_gain['predict_mean']\n",
    "df2_gain['dif'] = df2_gain['predict'] - df2_gain['predict_mean']\n",
    "df3_gain['dif'] = df3_gain['predict'] - df3_gain['predict_mean']"
   ]
  },
  {
   "cell_type": "code",
   "execution_count": 41,
   "metadata": {},
   "outputs": [],
   "source": [
    "# añadimos el id del pozo a las predicciones para saber a cual nos referimos\n",
    "def id_merge(data,data_org):\n",
    "    df = pd.merge(data, data_org['id'],how='left', left_index=True, right_index=True)\n",
    "    return df"
   ]
  },
  {
   "cell_type": "code",
   "execution_count": 42,
   "metadata": {},
   "outputs": [],
   "source": [
    "df1_gain = id_merge(df1_gain, df1)\n",
    "df2_gain = id_merge(df2_gain, df1)\n",
    "df3_gain = id_merge(df3_gain, df1)"
   ]
  },
  {
   "cell_type": "code",
   "execution_count": 43,
   "metadata": {},
   "outputs": [
    {
     "data": {
      "text/html": [
       "<div>\n",
       "<style scoped>\n",
       "    .dataframe tbody tr th:only-of-type {\n",
       "        vertical-align: middle;\n",
       "    }\n",
       "\n",
       "    .dataframe tbody tr th {\n",
       "        vertical-align: top;\n",
       "    }\n",
       "\n",
       "    .dataframe thead th {\n",
       "        text-align: right;\n",
       "    }\n",
       "</style>\n",
       "<table border=\"1\" class=\"dataframe\">\n",
       "  <thead>\n",
       "    <tr style=\"text-align: right;\">\n",
       "      <th></th>\n",
       "      <th>predict</th>\n",
       "      <th>predict_mean</th>\n",
       "      <th>dif</th>\n",
       "      <th>id</th>\n",
       "    </tr>\n",
       "  </thead>\n",
       "  <tbody>\n",
       "    <tr>\n",
       "      <th>97435</th>\n",
       "      <td>110.909731</td>\n",
       "      <td>92.536912</td>\n",
       "      <td>18.372819</td>\n",
       "      <td>Un6cT</td>\n",
       "    </tr>\n",
       "    <tr>\n",
       "      <th>31136</th>\n",
       "      <td>87.281698</td>\n",
       "      <td>92.536912</td>\n",
       "      <td>-5.255214</td>\n",
       "      <td>VIjxx</td>\n",
       "    </tr>\n",
       "    <tr>\n",
       "      <th>9678</th>\n",
       "      <td>89.886850</td>\n",
       "      <td>92.536912</td>\n",
       "      <td>-2.650062</td>\n",
       "      <td>r4glM</td>\n",
       "    </tr>\n",
       "    <tr>\n",
       "      <th>78550</th>\n",
       "      <td>76.436237</td>\n",
       "      <td>92.536912</td>\n",
       "      <td>-16.100676</td>\n",
       "      <td>mFE29</td>\n",
       "    </tr>\n",
       "    <tr>\n",
       "      <th>4131</th>\n",
       "      <td>127.023393</td>\n",
       "      <td>92.536912</td>\n",
       "      <td>34.486480</td>\n",
       "      <td>14rai</td>\n",
       "    </tr>\n",
       "    <tr>\n",
       "      <th>...</th>\n",
       "      <td>...</td>\n",
       "      <td>...</td>\n",
       "      <td>...</td>\n",
       "      <td>...</td>\n",
       "    </tr>\n",
       "    <tr>\n",
       "      <th>45911</th>\n",
       "      <td>78.537159</td>\n",
       "      <td>92.536912</td>\n",
       "      <td>-13.999754</td>\n",
       "      <td>TUyWw</td>\n",
       "    </tr>\n",
       "    <tr>\n",
       "      <th>38756</th>\n",
       "      <td>70.645225</td>\n",
       "      <td>92.536912</td>\n",
       "      <td>-21.891687</td>\n",
       "      <td>ryiem</td>\n",
       "    </tr>\n",
       "    <tr>\n",
       "      <th>12914</th>\n",
       "      <td>103.555033</td>\n",
       "      <td>92.536912</td>\n",
       "      <td>11.018121</td>\n",
       "      <td>sByIP</td>\n",
       "    </tr>\n",
       "    <tr>\n",
       "      <th>31825</th>\n",
       "      <td>108.753798</td>\n",
       "      <td>92.536912</td>\n",
       "      <td>16.216886</td>\n",
       "      <td>OFQzR</td>\n",
       "    </tr>\n",
       "    <tr>\n",
       "      <th>4627</th>\n",
       "      <td>72.468540</td>\n",
       "      <td>92.536912</td>\n",
       "      <td>-20.068372</td>\n",
       "      <td>62u6K</td>\n",
       "    </tr>\n",
       "  </tbody>\n",
       "</table>\n",
       "<p>25000 rows × 4 columns</p>\n",
       "</div>"
      ],
      "text/plain": [
       "          predict  predict_mean        dif     id\n",
       "97435  110.909731     92.536912  18.372819  Un6cT\n",
       "31136   87.281698     92.536912  -5.255214  VIjxx\n",
       "9678    89.886850     92.536912  -2.650062  r4glM\n",
       "78550   76.436237     92.536912 -16.100676  mFE29\n",
       "4131   127.023393     92.536912  34.486480  14rai\n",
       "...           ...           ...        ...    ...\n",
       "45911   78.537159     92.536912 -13.999754  TUyWw\n",
       "38756   70.645225     92.536912 -21.891687  ryiem\n",
       "12914  103.555033     92.536912  11.018121  sByIP\n",
       "31825  108.753798     92.536912  16.216886  OFQzR\n",
       "4627    72.468540     92.536912 -20.068372  62u6K\n",
       "\n",
       "[25000 rows x 4 columns]"
      ]
     },
     "execution_count": 43,
     "metadata": {},
     "output_type": "execute_result"
    }
   ],
   "source": [
    "df1_gain"
   ]
  },
  {
   "cell_type": "code",
   "execution_count": 44,
   "metadata": {},
   "outputs": [],
   "source": [
    "# Creamos una funcion para obtener los valores de solo aquellos pozos que estan por encima de la media.\n",
    "def total_vol(data):\n",
    "    vol = 0\n",
    "    for x in data['dif']:\n",
    "        if x > 0:\n",
    "            vol += x\n",
    "    return vol"
   ]
  },
  {
   "cell_type": "code",
   "execution_count": 45,
   "metadata": {},
   "outputs": [],
   "source": [
    "vol_df1 = total_vol(df1_gain)\n",
    "vol_df2 = total_vol(df2_gain)\n",
    "vol_df3 = total_vol(df3_gain)"
   ]
  },
  {
   "cell_type": "code",
   "execution_count": 46,
   "metadata": {},
   "outputs": [
    {
     "name": "stdout",
     "output_type": "stream",
     "text": [
      "Para el area 1 los millones de barriles a considerar son: 232689.5627477579\n",
      "Para el area 2 los millones de barriles a considerar son: 503372.18208742625\n",
      "Para el area 3 los millones de barriles a considerar son: 199391.6120672892\n"
     ]
    }
   ],
   "source": [
    "print('Para el area 1 los millones de barriles a considerar son:', vol_df1)\n",
    "print('Para el area 2 los millones de barriles a considerar son:', vol_df2)\n",
    "print('Para el area 3 los millones de barriles a considerar son:', vol_df3)"
   ]
  },
  {
   "cell_type": "markdown",
   "metadata": {},
   "source": [
    "Estos barriles son de puntos donde la prediccion es mayor a la media, por lo que seleccionaremos de cada area los pozos con una prediccion mayor a la media."
   ]
  },
  {
   "cell_type": "code",
   "execution_count": 47,
   "metadata": {},
   "outputs": [],
   "source": [
    "# Guardamos los valores de los pozos de los cuales la diferencia es mayor a cero\n",
    "df1_prospects = df1_gain[df1_gain['dif'] > 0]\n",
    "df2_prospects = df2_gain[df2_gain['dif'] > 0]\n",
    "df3_prospects = df3_gain[df3_gain['dif'] > 0]"
   ]
  },
  {
   "cell_type": "code",
   "execution_count": 48,
   "metadata": {},
   "outputs": [
    {
     "data": {
      "text/plain": [
       "((12475, 4), (12390, 4), (12470, 4))"
      ]
     },
     "execution_count": 48,
     "metadata": {},
     "output_type": "execute_result"
    }
   ],
   "source": [
    "# Verificamos los tamaños de los conjuntos\n",
    "df1_prospects.shape,df2_prospects.shape,df3_prospects.shape "
   ]
  },
  {
   "cell_type": "markdown",
   "metadata": {},
   "source": [
    "Podemos observar que aproximadamente el 50% de cada area y de pozos tiene reservas mayores a la media del area, y estos pozos son los que utilizaremos para realizar los calculos "
   ]
  },
  {
   "cell_type": "markdown",
   "metadata": {},
   "source": [
    "Seleccionamos los 200 pozos con los valores mas altos de prediccion"
   ]
  },
  {
   "cell_type": "code",
   "execution_count": 49,
   "metadata": {},
   "outputs": [],
   "source": [
    "df1_final = df1_prospects.sort_values('predict', ascending=False).head(200)\n",
    "df2_final = df2_prospects.sort_values('predict', ascending=False).head(200)\n",
    "df3_final = df3_prospects.sort_values('predict', ascending=False).head(200)"
   ]
  },
  {
   "cell_type": "code",
   "execution_count": 50,
   "metadata": {},
   "outputs": [],
   "source": [
    "# Calculamos el volumnen predicho de los 200 pozos con valos mas alto\n",
    "df1_final_vol = df1_final['predict'].sum()\n",
    "df2_final_vol = df2_final['predict'].sum()\n",
    "df3_final_vol = df3_final['predict'].sum()"
   ]
  },
  {
   "cell_type": "code",
   "execution_count": 51,
   "metadata": {},
   "outputs": [
    {
     "name": "stdout",
     "output_type": "stream",
     "text": [
      "El volumen de reservas para los mejores 200 pozos en el area 1 es: 30988.09160670917\n",
      "El volumen de reservas para los mejores 200 pozos en el area 2 es: 27683.941525522514\n",
      "El volumen de reservas para los mejores 200 pozos en el area 3 es: 29654.287031819593\n"
     ]
    }
   ],
   "source": [
    "print('El volumen de reservas para los mejores 200 pozos en el area 1 es:', df1_final_vol)\n",
    "print('El volumen de reservas para los mejores 200 pozos en el area 2 es:', df2_final_vol)\n",
    "print('El volumen de reservas para los mejores 200 pozos en el area 3 es:', df3_final_vol)"
   ]
  },
  {
   "cell_type": "code",
   "execution_count": 52,
   "metadata": {},
   "outputs": [],
   "source": [
    "# funcion para calcular el costo\n",
    "def ganancia(data):\n",
    "    gan = data['predict'].sum() * 4500 - cost\n",
    "    return round(gan,2)"
   ]
  },
  {
   "cell_type": "code",
   "execution_count": 53,
   "metadata": {},
   "outputs": [
    {
     "name": "stdout",
     "output_type": "stream",
     "text": [
      "Las ganancias del area 1 son: 39446412.23\n",
      "Las ganancias del area 2 son: 24577736.86\n",
      "Las ganancias del area 3 son: 33444291.64\n"
     ]
    }
   ],
   "source": [
    "print('Las ganancias del area 1 son:',ganancia(df1_final))\n",
    "print('Las ganancias del area 2 son:',ganancia(df2_final))\n",
    "print('Las ganancias del area 3 son:',ganancia(df3_final))"
   ]
  },
  {
   "cell_type": "markdown",
   "metadata": {},
   "source": [
    "De acuerdo a las ganancias finales posibles a obtener tenemos que el area 1 y 3 es la de mayor ganancia con 39 y 33 millones USD respectivamente, mientas que el area con menor ganancia es la 2 con 24 millones USD, sin embargo, de acuerdo a nuestros modelos y sus predicciones tenemos que el area 2 presenta el menor indice de error de 0.94 millones de barriles mientras que las areas 1 y 3 cuentan con un error de hasta 37 y 39 millones de barriles.\n",
    "\n",
    "Por lo tanto el area a elegir para realizar la inversion seria el area 2 que aunque tendria menores ganancias que las demas areas, tiene el menor indice de error, por lo que las ganancias serian mas seguras, que irse por las areas de mas ganancias pero mas incertidumbre a que falle."
   ]
  },
  {
   "cell_type": "markdown",
   "metadata": {},
   "source": [
    "## Calcula riesgos y ganancias para cada región"
   ]
  },
  {
   "cell_type": "code",
   "execution_count": 54,
   "metadata": {},
   "outputs": [
    {
     "name": "stdout",
     "output_type": "stream",
     "text": [
      "Ingresos promedio: 13053727.515932288\n",
      "Cuantil del 1 %: 10847920.531213604\n"
     ]
    }
   ],
   "source": [
    "# Elaboramos la funcion area 1\n",
    "def revenue(target, count=200):\n",
    "    probs_sorted = target.sort_values(ascending=False)\n",
    "    selected = target[probs_sorted.index][:count]\n",
    "    return 4500 * selected.sum() - cost\n",
    "\n",
    "state = np.random.RandomState(12345)\n",
    "\n",
    "values = []   \n",
    "for i in range(1000):\n",
    "    target_subsample = df1_prospects['predict'].sample(n=500, replace=True, random_state=state)\n",
    "    values.append(revenue(target_subsample))\n",
    "    \n",
    "values = pd.Series(values)\n",
    "lower = values.quantile(0.01) \n",
    "\n",
    "mean = values.mean()\n",
    "print(\"Ingresos promedio:\", mean)\n",
    "print(\"Cuantil del 1 %:\", lower)"
   ]
  },
  {
   "cell_type": "code",
   "execution_count": 55,
   "metadata": {},
   "outputs": [
    {
     "name": "stdout",
     "output_type": "stream",
     "text": [
      "Ingresos promedio: 19856373.453267332\n",
      "Cuantil del 1 %: 17113596.84525939\n"
     ]
    }
   ],
   "source": [
    "# Elaboramos la funcion area 2\n",
    "values = []   \n",
    "for i in range(1000):\n",
    "    target_subsample = df2_prospects['predict'].sample(n=500, replace=True, random_state=state)\n",
    "    values.append(revenue(target_subsample))\n",
    "    \n",
    "values = pd.Series(values)\n",
    "lower = values.quantile(0.01) \n",
    "\n",
    "mean = values.mean()\n",
    "print(\"Ingresos promedio:\", mean)\n",
    "print(\"Cuantil del 1 %:\", lower)"
   ]
  },
  {
   "cell_type": "code",
   "execution_count": 56,
   "metadata": {},
   "outputs": [
    {
     "name": "stdout",
     "output_type": "stream",
     "text": [
      "Ingresos promedio: 10963758.921795547\n",
      "Cuantil del 1 %: 9134533.40877707\n"
     ]
    }
   ],
   "source": [
    "# Elaboramos la funcion area 3\n",
    "\n",
    "values = []   \n",
    "for i in range(1000):\n",
    "    target_subsample = df3_prospects['predict'].sample(n=500, replace=True, random_state=state)\n",
    "    values.append(revenue(target_subsample))\n",
    "    \n",
    "values = pd.Series(values)\n",
    "lower = values.quantile(0.01) \n",
    "\n",
    "mean = values.mean()\n",
    "print(\"Ingresos promedio:\", mean)\n",
    "print(\"Cuantil del 1 %:\", lower)"
   ]
  },
  {
   "cell_type": "markdown",
   "metadata": {},
   "source": [
    "De acuerdo a las cifras obtenidas, podemos concluir que la mejor zona para invertir es la 2, con unas ganancias de almenos 19 millones USD, derivando de las conclusiones, recordemos que de igual forma es el area que menor error tiene de prediccion, por lo que seria el area ideona para realizar la inversion."
   ]
  }
 ],
 "metadata": {
  "kernelspec": {
   "display_name": "Python 3 (ipykernel)",
   "language": "python",
   "name": "python3"
  },
  "language_info": {
   "codemirror_mode": {
    "name": "ipython",
    "version": 3
   },
   "file_extension": ".py",
   "mimetype": "text/x-python",
   "name": "python",
   "nbconvert_exporter": "python",
   "pygments_lexer": "ipython3",
   "version": "3.9.13"
  },
  "toc": {
   "base_numbering": 1,
   "nav_menu": {},
   "number_sections": true,
   "sideBar": true,
   "skip_h1_title": true,
   "title_cell": "Table of Contents",
   "title_sidebar": "Contents",
   "toc_cell": false,
   "toc_position": {
    "height": "calc(100% - 180px)",
    "left": "10px",
    "top": "150px",
    "width": "246.741px"
   },
   "toc_section_display": true,
   "toc_window_display": true
  }
 },
 "nbformat": 4,
 "nbformat_minor": 2
}
