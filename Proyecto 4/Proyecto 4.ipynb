{
 "cells": [
  {
   "cell_type": "markdown",
   "metadata": {},
   "source": [
    "# Revisión (quinta iteración)\n",
    "\n",
    "Hola Rafael!\n",
    "\n",
    "Me da gusto continuar con la revisión de tu trabajo. Mi nombre es David Esparza Jasso. Puedes encontrar los comentarios de esta quinta iteración con un \"**v5**\" en su título."
   ]
  },
  {
   "cell_type": "markdown",
   "metadata": {},
   "source": [
    "<div class=\"alert alert-block alert-success\">\n",
    "<b>COMENTARIO GENERAL QUINTA REVISIÓN</b> <a class=\"tocSkip\"></a>\n",
    "\n",
    "Felicidades, tu proyecto está aprobado. Saludos\n",
    "\n",
    "</div>"
   ]
  },
  {
   "cell_type": "markdown",
   "metadata": {},
   "source": [
    "# Revisión (cuarta iteración)\n",
    "\n",
    "Hola Rafael!\n",
    "\n",
    "Me da gusto continuar con la revisión de tu trabajo. Mi nombre es David Esparza Jasso. Puedes encontrar los comentarios de esta cuarta iteración con un \"**v4**\" en su título."
   ]
  },
  {
   "cell_type": "markdown",
   "metadata": {},
   "source": [
    "<div class=\"alert alert-block alert-warning\">\n",
    "<b>COMENTARIO GENERAL CUARTA REVISIÓN</b> <a class=\"tocSkip\"></a>\n",
    "\n",
    "Aplicaste muy bien unas correcciones, y otras correcciones pudieron haber sido aplicadas de mejor manera. Te dejo **6 nuevos comentarios rojos y 1 nuevo comentario amarillo** al respecto.\n",
    "    \n",
    "Saludos.\n",
    "\n",
    "</div>"
   ]
  },
  {
   "cell_type": "markdown",
   "metadata": {},
   "source": [
    "# Revisión (tercera iteración)\n",
    "\n",
    "Hola Rafael!\n",
    "\n",
    "Me da gusto continuar con la revisión de tu trabajo. Mi nombre es David Esparza Jasso. Puedes encontrar los comentarios de esta segunda iteración con un \"**v2**\" en su título."
   ]
  },
  {
   "cell_type": "markdown",
   "metadata": {},
   "source": [
    "<div class=\"alert alert-block alert-warning\">\n",
    "<b>COMENTARIO GENERAL TERCERA REVISIÓN</b> <a class=\"tocSkip\"></a>\n",
    "\n",
    "Aplicaste muy bien unas correcciones, y otras correcciones pudieron haber sido aplicadas de mejor manera. Te dejo **8 nuevos comentarios rojos** al respecto. Me dio la impresión de que algunas correcciones no quedaron del todo claras, por favor cuando ese sea el caso acude con tu CM para que te pueda contactar con un instructor/tutor, ya que ellos te pueden apoyar en tiempo real incluso y de manera más inmediata, cosa que los revisores no.\n",
    "    \n",
    "Saludos.\n",
    "\n",
    "</div>"
   ]
  },
  {
   "cell_type": "markdown",
   "metadata": {},
   "source": [
    "# Revisión (segunda iteración)\n",
    "\n",
    "Hola Rafael!\n",
    "\n",
    "Me da gusto continuar con la revisión de tu trabajo. Mi nombre es David Esparza Jasso. Puedes encontrar los comentarios de esta segunda iteración con un \"**v2**\" en su título."
   ]
  },
  {
   "cell_type": "markdown",
   "metadata": {},
   "source": [
    "<div class=\"alert alert-block alert-danger\">\n",
    "<b>COMENTARIO GENERAL SEGUNDA REVISIÓN</b> <a class=\"tocSkip\"></a>\n",
    "\n",
    "Rafael, bien! Aplicaste correctamente muchas de las correcciones! \n",
    "    \n",
    "Sin embargo, hay algunos errores, te los señalo. Entre ellos hay un error que impide correr todo tu proyecto. Por favor, **tras corregir todo tu proyecto asegúrate de correr de nuevo todo el proyecto desde el principio para asegurarte de que sí corra por completo, antes de entregarlo.**\n",
    "    \n",
    "Saludos.\n",
    "\n",
    "</div>"
   ]
  },
  {
   "cell_type": "markdown",
   "metadata": {},
   "source": [
    "# Revisión (primera iteración)\n",
    "\n",
    "Hola, Rafael Reyes!\n",
    "\n",
    "Mi nombre es David Esparza Jasso y estoy feliz por revisar tu proyecto el día de hoy.\n",
    "\n",
    "\n",
    "\n",
    "Encontrarás mis comentarios abajo. - **por favor, no los muevas, modifiques o elimines**.\n",
    "\n",
    "\n",
    "Puedes encontrar mis comentarios en cajas verdes, amarillas y rojas como éstas:\n",
    "\n",
    "<div class=\"alert alert-block alert-success\">\n",
    "<b>Éxito</b> <a class=\"tocSkip\"></a>\n",
    "\n",
    "Correcto. Todo se hizo correctamente!\n",
    "</div>\n",
    "\n",
    "<div class=\"alert alert-block alert-warning\">\n",
    "<b>Atención</b> <a class=\"tocSkip\"></a>\n",
    "\n",
    "Observaciones. Algunas recomendaciones.\n",
    "</div>\n",
    "\n",
    "<div class=\"alert alert-block alert-danger\">\n",
    "\n",
    "<b>A resolver</b> <a class=\"tocSkip\"></a>\n",
    "\n",
    "Necesita correcciones. La parte correspondiente requiere algunas correcciones. El trabajo no puede ser aprobado con comentarios rojos sin corregir.\n",
    "</div>\n",
    "\n",
    "Puedes contestarme usando este tipo de cajas:\n",
    "\n",
    "<div class=\"alert alert-block alert-info\">\n",
    "<b>Respuesta del estudiante.</b> <a class=\"tocSkip\"></a>\n",
    "\n",
    "    \n",
    "En celdas como éstas puedes dejarme tus comentarios\n",
    "</div>\n",
    "\n",
    "Recuerda que, si deseas dejarme un comentario en alguna parte del documento, sólo tienes que dar doble clic sobre la celda de arriba, copiar el código, pegarlo en una nueva celda y sustituir la frase \"En celdas como éstas puedes dejarme tus comentarios\" por tu propio comentario. Asegúrate sólamente que la celda donde vayas a incluir tu comentario esté en formato \"Markdown\"."
   ]
  },
  {
   "cell_type": "markdown",
   "metadata": {},
   "source": [
    "<div class=\"alert alert-block alert-warning\">\n",
    "<b>COMENTARIO GENERAL PRIMERA REVISIÓN</b> <a class=\"tocSkip\"></a>\n",
    "\n",
    "Tienes aciertos, buen orden y presentación. Sin embargo, hay muchos errores, te los señalo. Saludos! no olvides que si tienes dudas puedes acudir con tu tutor/instructor."
   ]
  },
  {
   "cell_type": "markdown",
   "metadata": {},
   "source": [
    "# ¿Cuál es un mejor plan?\n",
    "\n",
    "Trabajas como analista para el operador de telecomunicaciones Megaline. La empresa ofrece a sus clientes dos tarifas de prepago, Surf y Ultimate. El departamento comercial quiere saber cuál de los planes genera más ingresos para poder ajustar el presupuesto de publicidad.\n",
    "\n",
    "Vas a realizar un análisis preliminar de las tarifas basado en una selección de clientes relativamente pequeña. Tendrás los datos de 500 clientes de Megaline: quiénes son los clientes, de dónde son, qué tarifa usan, así como la cantidad de llamadas que hicieron y los mensajes de texto que enviaron en 2018. Tu trabajo es analizar el comportamiento de los clientes y determinar qué tarifa de prepago genera más ingresos."
   ]
  },
  {
   "cell_type": "markdown",
   "metadata": {},
   "source": [
    "## Inicialización"
   ]
  },
  {
   "cell_type": "markdown",
   "metadata": {},
   "source": []
  },
  {
   "cell_type": "code",
   "execution_count": 1,
   "metadata": {},
   "outputs": [],
   "source": [
    "# Cargar todas las librerías\n",
    "import pandas as pd\n",
    "import matplotlib.pyplot as plt\n",
    "import numpy as np\n",
    "import math as mt\n",
    "from scipy import stats as st\n"
   ]
  },
  {
   "cell_type": "markdown",
   "metadata": {},
   "source": [
    "## Cargar los datos"
   ]
  },
  {
   "cell_type": "markdown",
   "metadata": {},
   "source": []
  },
  {
   "cell_type": "code",
   "execution_count": 2,
   "metadata": {},
   "outputs": [],
   "source": [
    "# Carga los archivos de datos en diferentes DataFrames\n",
    "calls = pd.read_csv('/datasets/megaline_calls.csv')\n",
    "inter = pd.read_csv('/datasets/megaline_internet.csv')\n",
    "msg = pd.read_csv('/datasets/megaline_messages.csv')\n",
    "plans = pd.read_csv('/datasets/megaline_plans.csv')\n",
    "users = pd.read_csv('/datasets/megaline_users.csv')\n"
   ]
  },
  {
   "cell_type": "markdown",
   "metadata": {},
   "source": [
    "## Preparar los datos"
   ]
  },
  {
   "cell_type": "markdown",
   "metadata": {},
   "source": [
    "## Planes"
   ]
  },
  {
   "cell_type": "code",
   "execution_count": 3,
   "metadata": {},
   "outputs": [
    {
     "name": "stdout",
     "output_type": "stream",
     "text": [
      "<class 'pandas.core.frame.DataFrame'>\n",
      "RangeIndex: 2 entries, 0 to 1\n",
      "Data columns (total 8 columns):\n",
      " #   Column                 Non-Null Count  Dtype  \n",
      "---  ------                 --------------  -----  \n",
      " 0   messages_included      2 non-null      int64  \n",
      " 1   mb_per_month_included  2 non-null      int64  \n",
      " 2   minutes_included       2 non-null      int64  \n",
      " 3   usd_monthly_pay        2 non-null      int64  \n",
      " 4   usd_per_gb             2 non-null      int64  \n",
      " 5   usd_per_message        2 non-null      float64\n",
      " 6   usd_per_minute         2 non-null      float64\n",
      " 7   plan_name              2 non-null      object \n",
      "dtypes: float64(2), int64(5), object(1)\n",
      "memory usage: 256.0+ bytes\n"
     ]
    }
   ],
   "source": [
    "# Imprime la información general/resumen sobre el DataFrame de los planes\n",
    "plans.info()"
   ]
  },
  {
   "cell_type": "code",
   "execution_count": 4,
   "metadata": {},
   "outputs": [
    {
     "data": {
      "text/html": [
       "<div>\n",
       "<style scoped>\n",
       "    .dataframe tbody tr th:only-of-type {\n",
       "        vertical-align: middle;\n",
       "    }\n",
       "\n",
       "    .dataframe tbody tr th {\n",
       "        vertical-align: top;\n",
       "    }\n",
       "\n",
       "    .dataframe thead th {\n",
       "        text-align: right;\n",
       "    }\n",
       "</style>\n",
       "<table border=\"1\" class=\"dataframe\">\n",
       "  <thead>\n",
       "    <tr style=\"text-align: right;\">\n",
       "      <th></th>\n",
       "      <th>messages_included</th>\n",
       "      <th>mb_per_month_included</th>\n",
       "      <th>minutes_included</th>\n",
       "      <th>usd_monthly_pay</th>\n",
       "      <th>usd_per_gb</th>\n",
       "      <th>usd_per_message</th>\n",
       "      <th>usd_per_minute</th>\n",
       "      <th>plan_name</th>\n",
       "    </tr>\n",
       "  </thead>\n",
       "  <tbody>\n",
       "    <tr>\n",
       "      <th>0</th>\n",
       "      <td>50</td>\n",
       "      <td>15360</td>\n",
       "      <td>500</td>\n",
       "      <td>20</td>\n",
       "      <td>10</td>\n",
       "      <td>0.03</td>\n",
       "      <td>0.03</td>\n",
       "      <td>surf</td>\n",
       "    </tr>\n",
       "    <tr>\n",
       "      <th>1</th>\n",
       "      <td>1000</td>\n",
       "      <td>30720</td>\n",
       "      <td>3000</td>\n",
       "      <td>70</td>\n",
       "      <td>7</td>\n",
       "      <td>0.01</td>\n",
       "      <td>0.01</td>\n",
       "      <td>ultimate</td>\n",
       "    </tr>\n",
       "  </tbody>\n",
       "</table>\n",
       "</div>"
      ],
      "text/plain": [
       "   messages_included  mb_per_month_included  minutes_included  \\\n",
       "0                 50                  15360               500   \n",
       "1               1000                  30720              3000   \n",
       "\n",
       "   usd_monthly_pay  usd_per_gb  usd_per_message  usd_per_minute plan_name  \n",
       "0               20          10             0.03            0.03      surf  \n",
       "1               70           7             0.01            0.01  ultimate  "
      ]
     },
     "execution_count": 4,
     "metadata": {},
     "output_type": "execute_result"
    }
   ],
   "source": [
    "# Imprime una muestra de los datos para los planes\n",
    "plans.head()\n"
   ]
  },
  {
   "cell_type": "markdown",
   "metadata": {},
   "source": [
    "Los datos se encuentra correctos, al igual que el tipo de los mismos, al ser una tabla de solo dos filas no hay problema alguno al no tener valores ausentes, ya que nos explican los tipos de planes para cada uno, lo que si podemos agregar una columna con el numero de gigabytes de cada uno, ya veremos si es mas viable usar mb o gb en los pasos siguientes, de igua lforma cambiar los nombres de las columnas e incluir el \"per_month\" para evitar confusiones."
   ]
  },
  {
   "cell_type": "markdown",
   "metadata": {},
   "source": [
    "## Corregir los datos"
   ]
  },
  {
   "cell_type": "markdown",
   "metadata": {},
   "source": [
    "[Corrige los problemas obvios con los datos basándote en las observaciones iniciales.]"
   ]
  },
  {
   "cell_type": "code",
   "execution_count": 5,
   "metadata": {},
   "outputs": [],
   "source": [
    "plans = plans.rename(columns = {'messages_included' : 'messages_per_month_included',\n",
    "                               'minutes_included':'minutes_per_month_included'})"
   ]
  },
  {
   "cell_type": "code",
   "execution_count": 6,
   "metadata": {},
   "outputs": [
    {
     "data": {
      "text/plain": [
       "Index(['messages_per_month_included', 'mb_per_month_included',\n",
       "       'minutes_per_month_included', 'usd_monthly_pay', 'usd_per_gb',\n",
       "       'usd_per_message', 'usd_per_minute', 'plan_name'],\n",
       "      dtype='object')"
      ]
     },
     "execution_count": 6,
     "metadata": {},
     "output_type": "execute_result"
    }
   ],
   "source": [
    "plans.columns"
   ]
  },
  {
   "cell_type": "markdown",
   "metadata": {},
   "source": [
    "## Enriquecer los datos"
   ]
  },
  {
   "cell_type": "markdown",
   "metadata": {},
   "source": [
    "Agregaremos el valor de los megabytes incluidos pero en unidad de gigabytes"
   ]
  },
  {
   "cell_type": "code",
   "execution_count": 7,
   "metadata": {},
   "outputs": [],
   "source": [
    "plans['gb_per_month_included'] = plans['mb_per_month_included'] / 1024"
   ]
  },
  {
   "cell_type": "code",
   "execution_count": 8,
   "metadata": {},
   "outputs": [
    {
     "name": "stdout",
     "output_type": "stream",
     "text": [
      "<class 'pandas.core.frame.DataFrame'>\n",
      "RangeIndex: 2 entries, 0 to 1\n",
      "Data columns (total 9 columns):\n",
      " #   Column                       Non-Null Count  Dtype  \n",
      "---  ------                       --------------  -----  \n",
      " 0   messages_per_month_included  2 non-null      int64  \n",
      " 1   mb_per_month_included        2 non-null      int64  \n",
      " 2   minutes_per_month_included   2 non-null      int64  \n",
      " 3   usd_monthly_pay              2 non-null      int64  \n",
      " 4   usd_per_gb                   2 non-null      int64  \n",
      " 5   usd_per_message              2 non-null      float64\n",
      " 6   usd_per_minute               2 non-null      float64\n",
      " 7   plan_name                    2 non-null      object \n",
      " 8   gb_per_month_included        2 non-null      float64\n",
      "dtypes: float64(3), int64(5), object(1)\n",
      "memory usage: 272.0+ bytes\n"
     ]
    },
    {
     "data": {
      "text/html": [
       "<div>\n",
       "<style scoped>\n",
       "    .dataframe tbody tr th:only-of-type {\n",
       "        vertical-align: middle;\n",
       "    }\n",
       "\n",
       "    .dataframe tbody tr th {\n",
       "        vertical-align: top;\n",
       "    }\n",
       "\n",
       "    .dataframe thead th {\n",
       "        text-align: right;\n",
       "    }\n",
       "</style>\n",
       "<table border=\"1\" class=\"dataframe\">\n",
       "  <thead>\n",
       "    <tr style=\"text-align: right;\">\n",
       "      <th></th>\n",
       "      <th>messages_per_month_included</th>\n",
       "      <th>mb_per_month_included</th>\n",
       "      <th>minutes_per_month_included</th>\n",
       "      <th>usd_monthly_pay</th>\n",
       "      <th>usd_per_gb</th>\n",
       "      <th>usd_per_message</th>\n",
       "      <th>usd_per_minute</th>\n",
       "      <th>plan_name</th>\n",
       "      <th>gb_per_month_included</th>\n",
       "    </tr>\n",
       "  </thead>\n",
       "  <tbody>\n",
       "    <tr>\n",
       "      <th>0</th>\n",
       "      <td>50</td>\n",
       "      <td>15360</td>\n",
       "      <td>500</td>\n",
       "      <td>20</td>\n",
       "      <td>10</td>\n",
       "      <td>0.03</td>\n",
       "      <td>0.03</td>\n",
       "      <td>surf</td>\n",
       "      <td>15.0</td>\n",
       "    </tr>\n",
       "    <tr>\n",
       "      <th>1</th>\n",
       "      <td>1000</td>\n",
       "      <td>30720</td>\n",
       "      <td>3000</td>\n",
       "      <td>70</td>\n",
       "      <td>7</td>\n",
       "      <td>0.01</td>\n",
       "      <td>0.01</td>\n",
       "      <td>ultimate</td>\n",
       "      <td>30.0</td>\n",
       "    </tr>\n",
       "  </tbody>\n",
       "</table>\n",
       "</div>"
      ],
      "text/plain": [
       "   messages_per_month_included  mb_per_month_included  \\\n",
       "0                           50                  15360   \n",
       "1                         1000                  30720   \n",
       "\n",
       "   minutes_per_month_included  usd_monthly_pay  usd_per_gb  usd_per_message  \\\n",
       "0                         500               20          10             0.03   \n",
       "1                        3000               70           7             0.01   \n",
       "\n",
       "   usd_per_minute plan_name  gb_per_month_included  \n",
       "0            0.03      surf                   15.0  \n",
       "1            0.01  ultimate                   30.0  "
      ]
     },
     "execution_count": 8,
     "metadata": {},
     "output_type": "execute_result"
    }
   ],
   "source": [
    "plans.info()\n",
    "plans"
   ]
  },
  {
   "cell_type": "markdown",
   "metadata": {},
   "source": [
    "## Usuarios"
   ]
  },
  {
   "cell_type": "code",
   "execution_count": 9,
   "metadata": {},
   "outputs": [
    {
     "name": "stdout",
     "output_type": "stream",
     "text": [
      "<class 'pandas.core.frame.DataFrame'>\n",
      "RangeIndex: 500 entries, 0 to 499\n",
      "Data columns (total 8 columns):\n",
      " #   Column      Non-Null Count  Dtype \n",
      "---  ------      --------------  ----- \n",
      " 0   user_id     500 non-null    int64 \n",
      " 1   first_name  500 non-null    object\n",
      " 2   last_name   500 non-null    object\n",
      " 3   age         500 non-null    int64 \n",
      " 4   city        500 non-null    object\n",
      " 5   reg_date    500 non-null    object\n",
      " 6   plan        500 non-null    object\n",
      " 7   churn_date  34 non-null     object\n",
      "dtypes: int64(2), object(6)\n",
      "memory usage: 31.4+ KB\n"
     ]
    }
   ],
   "source": [
    "# Imprime la información general/resumen sobre el DataFrame de los usuarios\n",
    "users.info()"
   ]
  },
  {
   "cell_type": "code",
   "execution_count": 10,
   "metadata": {},
   "outputs": [
    {
     "data": {
      "text/html": [
       "<div>\n",
       "<style scoped>\n",
       "    .dataframe tbody tr th:only-of-type {\n",
       "        vertical-align: middle;\n",
       "    }\n",
       "\n",
       "    .dataframe tbody tr th {\n",
       "        vertical-align: top;\n",
       "    }\n",
       "\n",
       "    .dataframe thead th {\n",
       "        text-align: right;\n",
       "    }\n",
       "</style>\n",
       "<table border=\"1\" class=\"dataframe\">\n",
       "  <thead>\n",
       "    <tr style=\"text-align: right;\">\n",
       "      <th></th>\n",
       "      <th>user_id</th>\n",
       "      <th>first_name</th>\n",
       "      <th>last_name</th>\n",
       "      <th>age</th>\n",
       "      <th>city</th>\n",
       "      <th>reg_date</th>\n",
       "      <th>plan</th>\n",
       "      <th>churn_date</th>\n",
       "    </tr>\n",
       "  </thead>\n",
       "  <tbody>\n",
       "    <tr>\n",
       "      <th>0</th>\n",
       "      <td>1000</td>\n",
       "      <td>Anamaria</td>\n",
       "      <td>Bauer</td>\n",
       "      <td>45</td>\n",
       "      <td>Atlanta-Sandy Springs-Roswell, GA MSA</td>\n",
       "      <td>2018-12-24</td>\n",
       "      <td>ultimate</td>\n",
       "      <td>NaN</td>\n",
       "    </tr>\n",
       "    <tr>\n",
       "      <th>1</th>\n",
       "      <td>1001</td>\n",
       "      <td>Mickey</td>\n",
       "      <td>Wilkerson</td>\n",
       "      <td>28</td>\n",
       "      <td>Seattle-Tacoma-Bellevue, WA MSA</td>\n",
       "      <td>2018-08-13</td>\n",
       "      <td>surf</td>\n",
       "      <td>NaN</td>\n",
       "    </tr>\n",
       "    <tr>\n",
       "      <th>2</th>\n",
       "      <td>1002</td>\n",
       "      <td>Carlee</td>\n",
       "      <td>Hoffman</td>\n",
       "      <td>36</td>\n",
       "      <td>Las Vegas-Henderson-Paradise, NV MSA</td>\n",
       "      <td>2018-10-21</td>\n",
       "      <td>surf</td>\n",
       "      <td>NaN</td>\n",
       "    </tr>\n",
       "    <tr>\n",
       "      <th>3</th>\n",
       "      <td>1003</td>\n",
       "      <td>Reynaldo</td>\n",
       "      <td>Jenkins</td>\n",
       "      <td>52</td>\n",
       "      <td>Tulsa, OK MSA</td>\n",
       "      <td>2018-01-28</td>\n",
       "      <td>surf</td>\n",
       "      <td>NaN</td>\n",
       "    </tr>\n",
       "    <tr>\n",
       "      <th>4</th>\n",
       "      <td>1004</td>\n",
       "      <td>Leonila</td>\n",
       "      <td>Thompson</td>\n",
       "      <td>40</td>\n",
       "      <td>Seattle-Tacoma-Bellevue, WA MSA</td>\n",
       "      <td>2018-05-23</td>\n",
       "      <td>surf</td>\n",
       "      <td>NaN</td>\n",
       "    </tr>\n",
       "    <tr>\n",
       "      <th>5</th>\n",
       "      <td>1005</td>\n",
       "      <td>Livia</td>\n",
       "      <td>Shields</td>\n",
       "      <td>31</td>\n",
       "      <td>Dallas-Fort Worth-Arlington, TX MSA</td>\n",
       "      <td>2018-11-29</td>\n",
       "      <td>surf</td>\n",
       "      <td>NaN</td>\n",
       "    </tr>\n",
       "    <tr>\n",
       "      <th>6</th>\n",
       "      <td>1006</td>\n",
       "      <td>Jesusa</td>\n",
       "      <td>Bradford</td>\n",
       "      <td>73</td>\n",
       "      <td>San Francisco-Oakland-Berkeley, CA MSA</td>\n",
       "      <td>2018-11-27</td>\n",
       "      <td>ultimate</td>\n",
       "      <td>2018-12-18</td>\n",
       "    </tr>\n",
       "    <tr>\n",
       "      <th>7</th>\n",
       "      <td>1007</td>\n",
       "      <td>Eusebio</td>\n",
       "      <td>Welch</td>\n",
       "      <td>42</td>\n",
       "      <td>Grand Rapids-Kentwood, MI MSA</td>\n",
       "      <td>2018-07-11</td>\n",
       "      <td>surf</td>\n",
       "      <td>NaN</td>\n",
       "    </tr>\n",
       "    <tr>\n",
       "      <th>8</th>\n",
       "      <td>1008</td>\n",
       "      <td>Emely</td>\n",
       "      <td>Hoffman</td>\n",
       "      <td>53</td>\n",
       "      <td>Orlando-Kissimmee-Sanford, FL MSA</td>\n",
       "      <td>2018-08-03</td>\n",
       "      <td>ultimate</td>\n",
       "      <td>NaN</td>\n",
       "    </tr>\n",
       "    <tr>\n",
       "      <th>9</th>\n",
       "      <td>1009</td>\n",
       "      <td>Gerry</td>\n",
       "      <td>Little</td>\n",
       "      <td>19</td>\n",
       "      <td>San Jose-Sunnyvale-Santa Clara, CA MSA</td>\n",
       "      <td>2018-04-22</td>\n",
       "      <td>surf</td>\n",
       "      <td>NaN</td>\n",
       "    </tr>\n",
       "  </tbody>\n",
       "</table>\n",
       "</div>"
      ],
      "text/plain": [
       "   user_id first_name  last_name  age                                    city  \\\n",
       "0     1000   Anamaria      Bauer   45   Atlanta-Sandy Springs-Roswell, GA MSA   \n",
       "1     1001     Mickey  Wilkerson   28         Seattle-Tacoma-Bellevue, WA MSA   \n",
       "2     1002     Carlee    Hoffman   36    Las Vegas-Henderson-Paradise, NV MSA   \n",
       "3     1003   Reynaldo    Jenkins   52                           Tulsa, OK MSA   \n",
       "4     1004    Leonila   Thompson   40         Seattle-Tacoma-Bellevue, WA MSA   \n",
       "5     1005      Livia    Shields   31     Dallas-Fort Worth-Arlington, TX MSA   \n",
       "6     1006     Jesusa   Bradford   73  San Francisco-Oakland-Berkeley, CA MSA   \n",
       "7     1007    Eusebio      Welch   42           Grand Rapids-Kentwood, MI MSA   \n",
       "8     1008      Emely    Hoffman   53       Orlando-Kissimmee-Sanford, FL MSA   \n",
       "9     1009      Gerry     Little   19  San Jose-Sunnyvale-Santa Clara, CA MSA   \n",
       "\n",
       "     reg_date      plan  churn_date  \n",
       "0  2018-12-24  ultimate         NaN  \n",
       "1  2018-08-13      surf         NaN  \n",
       "2  2018-10-21      surf         NaN  \n",
       "3  2018-01-28      surf         NaN  \n",
       "4  2018-05-23      surf         NaN  \n",
       "5  2018-11-29      surf         NaN  \n",
       "6  2018-11-27  ultimate  2018-12-18  \n",
       "7  2018-07-11      surf         NaN  \n",
       "8  2018-08-03  ultimate         NaN  \n",
       "9  2018-04-22      surf         NaN  "
      ]
     },
     "execution_count": 10,
     "metadata": {},
     "output_type": "execute_result"
    }
   ],
   "source": [
    "# Imprime una muestra de los datos para los usuarios\n",
    "users.head(10)"
   ]
  },
  {
   "cell_type": "markdown",
   "metadata": {},
   "source": [
    "<div class=\"alert alert-block alert-success\">\n",
    "<b>Éxito</b> <a class=\"tocSkip\"></a>\n",
    "\n",
    "Correcta revisión de dataframes    \n",
    "</div>"
   ]
  },
  {
   "cell_type": "markdown",
   "metadata": {},
   "source": [
    "* Tenemos la columna **reg_date** como object, la cambiaremos a datetime.\\\n",
    "* Tenemos la columna **churn_date** que tiene valores ausentes(significa que el plan aun sigue activo, llenaremos estos valores con '' (espacio) y posteriormente una columna **active_plan** que nos diga si/no el plan esta activo.\\\n",
    "* Una vez estos datos comprobaremos que no hay valores duplicados en la columna **user_id**\n",
    "* Agregaremos una columna del mes,dia,año de registro **reg_month, reg_day, reg_year**\n",
    "* Para futuras operaciones cambiaremos el nombre de la columna **plan** a **plan_name**\n",
    "\n"
   ]
  },
  {
   "cell_type": "markdown",
   "metadata": {},
   "source": [
    " "
   ]
  },
  {
   "cell_type": "markdown",
   "metadata": {},
   "source": [
    "### Corregir datos"
   ]
  },
  {
   "cell_type": "code",
   "execution_count": 11,
   "metadata": {},
   "outputs": [],
   "source": [
    "# correcion de reg_date\n",
    "users['reg_date'] = pd.to_datetime(users['reg_date'],format = '%Y-%m-%d')"
   ]
  },
  {
   "cell_type": "code",
   "execution_count": 12,
   "metadata": {},
   "outputs": [],
   "source": [
    "# correcion de reg_date\n",
    "users = users.rename(columns = {'plan' : 'plan_name'})"
   ]
  },
  {
   "cell_type": "code",
   "execution_count": 13,
   "metadata": {},
   "outputs": [],
   "source": [
    "#Rellenamos valores en churn_date\n",
    "users['churn_date'] = users['churn_date'].fillna('2100-12-31')"
   ]
  },
  {
   "cell_type": "code",
   "execution_count": 14,
   "metadata": {},
   "outputs": [],
   "source": [
    "# correcion de churn_date\n",
    "users['churn_date'] = pd.to_datetime(users['churn_date'],format = '%Y-%m-%d')"
   ]
  },
  {
   "cell_type": "markdown",
   "metadata": {},
   "source": [
    "<div class=\"alert alert-block alert-info\">\n",
    "<b>Respuesta del estudiante.</b> <a class=\"tocSkip\"></a>  \n",
    "    \n",
    "Se modifica a una fecha futura a largo plazo lo que significa que los planes del usuario continuan activos"
   ]
  },
  {
   "cell_type": "markdown",
   "metadata": {},
   "source": [
    "<div class=\"alert alert-block alert-danger\">\n",
    "\n",
    "<b>A resolver</b> <a class=\"tocSkip\"></a>\n",
    "\n",
    "~~Es incorrecto rellenar con este valor ya que esto convierte a la columna en tipo string, y debe ser una columna tipo datetime. La solución es rellenar con una fecha absurda, fuera de tu rango de tus datos, como una fecha de 2019~~ </div>"
   ]
  },
  {
   "cell_type": "code",
   "execution_count": 15,
   "metadata": {},
   "outputs": [
    {
     "data": {
      "text/html": [
       "<div>\n",
       "<style scoped>\n",
       "    .dataframe tbody tr th:only-of-type {\n",
       "        vertical-align: middle;\n",
       "    }\n",
       "\n",
       "    .dataframe tbody tr th {\n",
       "        vertical-align: top;\n",
       "    }\n",
       "\n",
       "    .dataframe thead th {\n",
       "        text-align: right;\n",
       "    }\n",
       "</style>\n",
       "<table border=\"1\" class=\"dataframe\">\n",
       "  <thead>\n",
       "    <tr style=\"text-align: right;\">\n",
       "      <th></th>\n",
       "      <th>user_id</th>\n",
       "      <th>first_name</th>\n",
       "      <th>last_name</th>\n",
       "      <th>age</th>\n",
       "      <th>city</th>\n",
       "      <th>reg_date</th>\n",
       "      <th>plan_name</th>\n",
       "      <th>churn_date</th>\n",
       "    </tr>\n",
       "  </thead>\n",
       "  <tbody>\n",
       "  </tbody>\n",
       "</table>\n",
       "</div>"
      ],
      "text/plain": [
       "Empty DataFrame\n",
       "Columns: [user_id, first_name, last_name, age, city, reg_date, plan_name, churn_date]\n",
       "Index: []"
      ]
     },
     "execution_count": 15,
     "metadata": {},
     "output_type": "execute_result"
    }
   ],
   "source": [
    "#Comprobamos que no haya valores duplicados en la columna user_id\n",
    "users[users['user_id'].duplicated()]"
   ]
  },
  {
   "cell_type": "code",
   "execution_count": 16,
   "metadata": {},
   "outputs": [
    {
     "name": "stdout",
     "output_type": "stream",
     "text": [
      "<class 'pandas.core.frame.DataFrame'>\n",
      "RangeIndex: 500 entries, 0 to 499\n",
      "Data columns (total 8 columns):\n",
      " #   Column      Non-Null Count  Dtype         \n",
      "---  ------      --------------  -----         \n",
      " 0   user_id     500 non-null    int64         \n",
      " 1   first_name  500 non-null    object        \n",
      " 2   last_name   500 non-null    object        \n",
      " 3   age         500 non-null    int64         \n",
      " 4   city        500 non-null    object        \n",
      " 5   reg_date    500 non-null    datetime64[ns]\n",
      " 6   plan_name   500 non-null    object        \n",
      " 7   churn_date  500 non-null    datetime64[ns]\n",
      "dtypes: datetime64[ns](2), int64(2), object(4)\n",
      "memory usage: 31.4+ KB\n"
     ]
    }
   ],
   "source": [
    "# Comprobamos que lso datos estan correctos\n",
    "users.info()"
   ]
  },
  {
   "cell_type": "markdown",
   "metadata": {},
   "source": [
    "### Enriquecer datos"
   ]
  },
  {
   "cell_type": "code",
   "execution_count": 17,
   "metadata": {},
   "outputs": [],
   "source": [
    "#Creacion de columnas de fecha\n",
    "users['reg_month'] = users['reg_date'].dt.month\n",
    "users['reg_day'] = users['reg_date'].dt.weekday\n",
    "users['reg_year'] = users['reg_date'].dt.year"
   ]
  },
  {
   "cell_type": "code",
   "execution_count": 18,
   "metadata": {},
   "outputs": [
    {
     "name": "stdout",
     "output_type": "stream",
     "text": [
      "<class 'pandas.core.frame.DataFrame'>\n",
      "RangeIndex: 500 entries, 0 to 499\n",
      "Data columns (total 11 columns):\n",
      " #   Column      Non-Null Count  Dtype         \n",
      "---  ------      --------------  -----         \n",
      " 0   user_id     500 non-null    int64         \n",
      " 1   first_name  500 non-null    object        \n",
      " 2   last_name   500 non-null    object        \n",
      " 3   age         500 non-null    int64         \n",
      " 4   city        500 non-null    object        \n",
      " 5   reg_date    500 non-null    datetime64[ns]\n",
      " 6   plan_name   500 non-null    object        \n",
      " 7   churn_date  500 non-null    datetime64[ns]\n",
      " 8   reg_month   500 non-null    int64         \n",
      " 9   reg_day     500 non-null    int64         \n",
      " 10  reg_year    500 non-null    int64         \n",
      "dtypes: datetime64[ns](2), int64(5), object(4)\n",
      "memory usage: 43.1+ KB\n"
     ]
    },
    {
     "data": {
      "text/html": [
       "<div>\n",
       "<style scoped>\n",
       "    .dataframe tbody tr th:only-of-type {\n",
       "        vertical-align: middle;\n",
       "    }\n",
       "\n",
       "    .dataframe tbody tr th {\n",
       "        vertical-align: top;\n",
       "    }\n",
       "\n",
       "    .dataframe thead th {\n",
       "        text-align: right;\n",
       "    }\n",
       "</style>\n",
       "<table border=\"1\" class=\"dataframe\">\n",
       "  <thead>\n",
       "    <tr style=\"text-align: right;\">\n",
       "      <th></th>\n",
       "      <th>user_id</th>\n",
       "      <th>first_name</th>\n",
       "      <th>last_name</th>\n",
       "      <th>age</th>\n",
       "      <th>city</th>\n",
       "      <th>reg_date</th>\n",
       "      <th>plan_name</th>\n",
       "      <th>churn_date</th>\n",
       "      <th>reg_month</th>\n",
       "      <th>reg_day</th>\n",
       "      <th>reg_year</th>\n",
       "    </tr>\n",
       "  </thead>\n",
       "  <tbody>\n",
       "    <tr>\n",
       "      <th>0</th>\n",
       "      <td>1000</td>\n",
       "      <td>Anamaria</td>\n",
       "      <td>Bauer</td>\n",
       "      <td>45</td>\n",
       "      <td>Atlanta-Sandy Springs-Roswell, GA MSA</td>\n",
       "      <td>2018-12-24</td>\n",
       "      <td>ultimate</td>\n",
       "      <td>2100-12-31</td>\n",
       "      <td>12</td>\n",
       "      <td>0</td>\n",
       "      <td>2018</td>\n",
       "    </tr>\n",
       "    <tr>\n",
       "      <th>1</th>\n",
       "      <td>1001</td>\n",
       "      <td>Mickey</td>\n",
       "      <td>Wilkerson</td>\n",
       "      <td>28</td>\n",
       "      <td>Seattle-Tacoma-Bellevue, WA MSA</td>\n",
       "      <td>2018-08-13</td>\n",
       "      <td>surf</td>\n",
       "      <td>2100-12-31</td>\n",
       "      <td>8</td>\n",
       "      <td>0</td>\n",
       "      <td>2018</td>\n",
       "    </tr>\n",
       "    <tr>\n",
       "      <th>2</th>\n",
       "      <td>1002</td>\n",
       "      <td>Carlee</td>\n",
       "      <td>Hoffman</td>\n",
       "      <td>36</td>\n",
       "      <td>Las Vegas-Henderson-Paradise, NV MSA</td>\n",
       "      <td>2018-10-21</td>\n",
       "      <td>surf</td>\n",
       "      <td>2100-12-31</td>\n",
       "      <td>10</td>\n",
       "      <td>6</td>\n",
       "      <td>2018</td>\n",
       "    </tr>\n",
       "    <tr>\n",
       "      <th>3</th>\n",
       "      <td>1003</td>\n",
       "      <td>Reynaldo</td>\n",
       "      <td>Jenkins</td>\n",
       "      <td>52</td>\n",
       "      <td>Tulsa, OK MSA</td>\n",
       "      <td>2018-01-28</td>\n",
       "      <td>surf</td>\n",
       "      <td>2100-12-31</td>\n",
       "      <td>1</td>\n",
       "      <td>6</td>\n",
       "      <td>2018</td>\n",
       "    </tr>\n",
       "    <tr>\n",
       "      <th>4</th>\n",
       "      <td>1004</td>\n",
       "      <td>Leonila</td>\n",
       "      <td>Thompson</td>\n",
       "      <td>40</td>\n",
       "      <td>Seattle-Tacoma-Bellevue, WA MSA</td>\n",
       "      <td>2018-05-23</td>\n",
       "      <td>surf</td>\n",
       "      <td>2100-12-31</td>\n",
       "      <td>5</td>\n",
       "      <td>2</td>\n",
       "      <td>2018</td>\n",
       "    </tr>\n",
       "    <tr>\n",
       "      <th>5</th>\n",
       "      <td>1005</td>\n",
       "      <td>Livia</td>\n",
       "      <td>Shields</td>\n",
       "      <td>31</td>\n",
       "      <td>Dallas-Fort Worth-Arlington, TX MSA</td>\n",
       "      <td>2018-11-29</td>\n",
       "      <td>surf</td>\n",
       "      <td>2100-12-31</td>\n",
       "      <td>11</td>\n",
       "      <td>3</td>\n",
       "      <td>2018</td>\n",
       "    </tr>\n",
       "    <tr>\n",
       "      <th>6</th>\n",
       "      <td>1006</td>\n",
       "      <td>Jesusa</td>\n",
       "      <td>Bradford</td>\n",
       "      <td>73</td>\n",
       "      <td>San Francisco-Oakland-Berkeley, CA MSA</td>\n",
       "      <td>2018-11-27</td>\n",
       "      <td>ultimate</td>\n",
       "      <td>2018-12-18</td>\n",
       "      <td>11</td>\n",
       "      <td>1</td>\n",
       "      <td>2018</td>\n",
       "    </tr>\n",
       "    <tr>\n",
       "      <th>7</th>\n",
       "      <td>1007</td>\n",
       "      <td>Eusebio</td>\n",
       "      <td>Welch</td>\n",
       "      <td>42</td>\n",
       "      <td>Grand Rapids-Kentwood, MI MSA</td>\n",
       "      <td>2018-07-11</td>\n",
       "      <td>surf</td>\n",
       "      <td>2100-12-31</td>\n",
       "      <td>7</td>\n",
       "      <td>2</td>\n",
       "      <td>2018</td>\n",
       "    </tr>\n",
       "    <tr>\n",
       "      <th>8</th>\n",
       "      <td>1008</td>\n",
       "      <td>Emely</td>\n",
       "      <td>Hoffman</td>\n",
       "      <td>53</td>\n",
       "      <td>Orlando-Kissimmee-Sanford, FL MSA</td>\n",
       "      <td>2018-08-03</td>\n",
       "      <td>ultimate</td>\n",
       "      <td>2100-12-31</td>\n",
       "      <td>8</td>\n",
       "      <td>4</td>\n",
       "      <td>2018</td>\n",
       "    </tr>\n",
       "    <tr>\n",
       "      <th>9</th>\n",
       "      <td>1009</td>\n",
       "      <td>Gerry</td>\n",
       "      <td>Little</td>\n",
       "      <td>19</td>\n",
       "      <td>San Jose-Sunnyvale-Santa Clara, CA MSA</td>\n",
       "      <td>2018-04-22</td>\n",
       "      <td>surf</td>\n",
       "      <td>2100-12-31</td>\n",
       "      <td>4</td>\n",
       "      <td>6</td>\n",
       "      <td>2018</td>\n",
       "    </tr>\n",
       "  </tbody>\n",
       "</table>\n",
       "</div>"
      ],
      "text/plain": [
       "   user_id first_name  last_name  age                                    city  \\\n",
       "0     1000   Anamaria      Bauer   45   Atlanta-Sandy Springs-Roswell, GA MSA   \n",
       "1     1001     Mickey  Wilkerson   28         Seattle-Tacoma-Bellevue, WA MSA   \n",
       "2     1002     Carlee    Hoffman   36    Las Vegas-Henderson-Paradise, NV MSA   \n",
       "3     1003   Reynaldo    Jenkins   52                           Tulsa, OK MSA   \n",
       "4     1004    Leonila   Thompson   40         Seattle-Tacoma-Bellevue, WA MSA   \n",
       "5     1005      Livia    Shields   31     Dallas-Fort Worth-Arlington, TX MSA   \n",
       "6     1006     Jesusa   Bradford   73  San Francisco-Oakland-Berkeley, CA MSA   \n",
       "7     1007    Eusebio      Welch   42           Grand Rapids-Kentwood, MI MSA   \n",
       "8     1008      Emely    Hoffman   53       Orlando-Kissimmee-Sanford, FL MSA   \n",
       "9     1009      Gerry     Little   19  San Jose-Sunnyvale-Santa Clara, CA MSA   \n",
       "\n",
       "    reg_date plan_name churn_date  reg_month  reg_day  reg_year  \n",
       "0 2018-12-24  ultimate 2100-12-31         12        0      2018  \n",
       "1 2018-08-13      surf 2100-12-31          8        0      2018  \n",
       "2 2018-10-21      surf 2100-12-31         10        6      2018  \n",
       "3 2018-01-28      surf 2100-12-31          1        6      2018  \n",
       "4 2018-05-23      surf 2100-12-31          5        2      2018  \n",
       "5 2018-11-29      surf 2100-12-31         11        3      2018  \n",
       "6 2018-11-27  ultimate 2018-12-18         11        1      2018  \n",
       "7 2018-07-11      surf 2100-12-31          7        2      2018  \n",
       "8 2018-08-03  ultimate 2100-12-31          8        4      2018  \n",
       "9 2018-04-22      surf 2100-12-31          4        6      2018  "
      ]
     },
     "execution_count": 18,
     "metadata": {},
     "output_type": "execute_result"
    }
   ],
   "source": [
    "#comprobamos que los valores esten correctos\n",
    "users.info()\n",
    "\n",
    "users.head(10)"
   ]
  },
  {
   "cell_type": "code",
   "execution_count": 19,
   "metadata": {},
   "outputs": [
    {
     "name": "stdout",
     "output_type": "stream",
     "text": [
      "Contamos con 500 usuarios en la tabla users\n"
     ]
    }
   ],
   "source": [
    "print('Contamos con',len(users['user_id'].unique()),'usuarios en la tabla users')"
   ]
  },
  {
   "cell_type": "markdown",
   "metadata": {},
   "source": [
    "## Llamadas"
   ]
  },
  {
   "cell_type": "code",
   "execution_count": 20,
   "metadata": {},
   "outputs": [
    {
     "name": "stdout",
     "output_type": "stream",
     "text": [
      "<class 'pandas.core.frame.DataFrame'>\n",
      "RangeIndex: 137735 entries, 0 to 137734\n",
      "Data columns (total 4 columns):\n",
      " #   Column     Non-Null Count   Dtype  \n",
      "---  ------     --------------   -----  \n",
      " 0   id         137735 non-null  object \n",
      " 1   user_id    137735 non-null  int64  \n",
      " 2   call_date  137735 non-null  object \n",
      " 3   duration   137735 non-null  float64\n",
      "dtypes: float64(1), int64(1), object(2)\n",
      "memory usage: 4.2+ MB\n"
     ]
    }
   ],
   "source": [
    "# Imprime la información/resumen general sobre el DataFrame de las llamadas\n",
    "calls.info()"
   ]
  },
  {
   "cell_type": "code",
   "execution_count": 21,
   "metadata": {},
   "outputs": [
    {
     "data": {
      "text/html": [
       "<div>\n",
       "<style scoped>\n",
       "    .dataframe tbody tr th:only-of-type {\n",
       "        vertical-align: middle;\n",
       "    }\n",
       "\n",
       "    .dataframe tbody tr th {\n",
       "        vertical-align: top;\n",
       "    }\n",
       "\n",
       "    .dataframe thead th {\n",
       "        text-align: right;\n",
       "    }\n",
       "</style>\n",
       "<table border=\"1\" class=\"dataframe\">\n",
       "  <thead>\n",
       "    <tr style=\"text-align: right;\">\n",
       "      <th></th>\n",
       "      <th>id</th>\n",
       "      <th>user_id</th>\n",
       "      <th>call_date</th>\n",
       "      <th>duration</th>\n",
       "    </tr>\n",
       "  </thead>\n",
       "  <tbody>\n",
       "    <tr>\n",
       "      <th>0</th>\n",
       "      <td>1000_93</td>\n",
       "      <td>1000</td>\n",
       "      <td>2018-12-27</td>\n",
       "      <td>8.52</td>\n",
       "    </tr>\n",
       "    <tr>\n",
       "      <th>1</th>\n",
       "      <td>1000_145</td>\n",
       "      <td>1000</td>\n",
       "      <td>2018-12-27</td>\n",
       "      <td>13.66</td>\n",
       "    </tr>\n",
       "    <tr>\n",
       "      <th>2</th>\n",
       "      <td>1000_247</td>\n",
       "      <td>1000</td>\n",
       "      <td>2018-12-27</td>\n",
       "      <td>14.48</td>\n",
       "    </tr>\n",
       "    <tr>\n",
       "      <th>3</th>\n",
       "      <td>1000_309</td>\n",
       "      <td>1000</td>\n",
       "      <td>2018-12-28</td>\n",
       "      <td>5.76</td>\n",
       "    </tr>\n",
       "    <tr>\n",
       "      <th>4</th>\n",
       "      <td>1000_380</td>\n",
       "      <td>1000</td>\n",
       "      <td>2018-12-30</td>\n",
       "      <td>4.22</td>\n",
       "    </tr>\n",
       "    <tr>\n",
       "      <th>5</th>\n",
       "      <td>1000_388</td>\n",
       "      <td>1000</td>\n",
       "      <td>2018-12-31</td>\n",
       "      <td>2.20</td>\n",
       "    </tr>\n",
       "    <tr>\n",
       "      <th>6</th>\n",
       "      <td>1000_510</td>\n",
       "      <td>1000</td>\n",
       "      <td>2018-12-27</td>\n",
       "      <td>5.75</td>\n",
       "    </tr>\n",
       "    <tr>\n",
       "      <th>7</th>\n",
       "      <td>1000_521</td>\n",
       "      <td>1000</td>\n",
       "      <td>2018-12-28</td>\n",
       "      <td>14.18</td>\n",
       "    </tr>\n",
       "    <tr>\n",
       "      <th>8</th>\n",
       "      <td>1000_530</td>\n",
       "      <td>1000</td>\n",
       "      <td>2018-12-28</td>\n",
       "      <td>5.77</td>\n",
       "    </tr>\n",
       "    <tr>\n",
       "      <th>9</th>\n",
       "      <td>1000_544</td>\n",
       "      <td>1000</td>\n",
       "      <td>2018-12-26</td>\n",
       "      <td>4.40</td>\n",
       "    </tr>\n",
       "  </tbody>\n",
       "</table>\n",
       "</div>"
      ],
      "text/plain": [
       "         id  user_id   call_date  duration\n",
       "0   1000_93     1000  2018-12-27      8.52\n",
       "1  1000_145     1000  2018-12-27     13.66\n",
       "2  1000_247     1000  2018-12-27     14.48\n",
       "3  1000_309     1000  2018-12-28      5.76\n",
       "4  1000_380     1000  2018-12-30      4.22\n",
       "5  1000_388     1000  2018-12-31      2.20\n",
       "6  1000_510     1000  2018-12-27      5.75\n",
       "7  1000_521     1000  2018-12-28     14.18\n",
       "8  1000_530     1000  2018-12-28      5.77\n",
       "9  1000_544     1000  2018-12-26      4.40"
      ]
     },
     "execution_count": 21,
     "metadata": {},
     "output_type": "execute_result"
    }
   ],
   "source": [
    "# Imprime una muestra de datos para llamadas\n",
    "calls.head(10)"
   ]
  },
  {
   "cell_type": "markdown",
   "metadata": {},
   "source": [
    "* Comprobamos que no tenemos valores ausentes.  \n",
    "* Cambiaremos el tipo de datos de la columna **call_date** a datetime.  \n",
    "* Agregaremos una columna de \"duracion real\" que tendra el dato de duracion de llamada redondeada como marcan los planes (un segundo redondea la llamada).\n",
    "* Veremos cuantos usuarios han llamado\n",
    "* Agregaremos una columna del mes,dia,año de llamada para posteriormente saber a que mes corresponden **call_month, call_day, call_year**"
   ]
  },
  {
   "cell_type": "markdown",
   "metadata": {},
   "source": [
    " "
   ]
  },
  {
   "cell_type": "markdown",
   "metadata": {},
   "source": [
    "### Corregir datos"
   ]
  },
  {
   "cell_type": "code",
   "execution_count": 22,
   "metadata": {},
   "outputs": [],
   "source": [
    "# correcion de call_date\n",
    "calls['call_date'] = pd.to_datetime(calls['call_date'],format = '%Y-%m-%d')"
   ]
  },
  {
   "cell_type": "markdown",
   "metadata": {},
   "source": [
    "### Enriquecer datos"
   ]
  },
  {
   "cell_type": "code",
   "execution_count": 23,
   "metadata": {},
   "outputs": [],
   "source": [
    "# Agregamos la columna \"duration_rounded\" que nos da los minutos reales que se van a contabilizar de acuerdo a \n",
    "# la regla que un segundo redondea la llamada al siguiente minuto\n",
    "def round_ceil(row):\n",
    "    rounded = mt.ceil(row['duration'])\n",
    "    return rounded"
   ]
  },
  {
   "cell_type": "markdown",
   "metadata": {},
   "source": [
    "<div class=\"alert alert-block alert-success\">\n",
    "<b>Éxito</b> <a class=\"tocSkip\"></a>\n",
    "\n",
    "Correcto redondeo]    \n",
    "</div>"
   ]
  },
  {
   "cell_type": "code",
   "execution_count": 24,
   "metadata": {},
   "outputs": [],
   "source": [
    "calls['duration_rounded'] = calls.apply(round_ceil,axis=1)"
   ]
  },
  {
   "cell_type": "code",
   "execution_count": 25,
   "metadata": {},
   "outputs": [],
   "source": [
    "calls['call_month'] = calls['call_date'].dt.month\n",
    "calls['call_day'] = calls['call_date'].dt.weekday\n",
    "calls['call_year'] = calls['call_date'].dt.year"
   ]
  },
  {
   "cell_type": "markdown",
   "metadata": {},
   "source": [
    "<div class=\"alert alert-block alert-success\">\n",
    "<b>Éxito</b> <a class=\"tocSkip\"></a>\n",
    "\n",
    "Correcta agregación de columnas    \n",
    "</div>"
   ]
  },
  {
   "cell_type": "code",
   "execution_count": 26,
   "metadata": {},
   "outputs": [
    {
     "data": {
      "text/html": [
       "<div>\n",
       "<style scoped>\n",
       "    .dataframe tbody tr th:only-of-type {\n",
       "        vertical-align: middle;\n",
       "    }\n",
       "\n",
       "    .dataframe tbody tr th {\n",
       "        vertical-align: top;\n",
       "    }\n",
       "\n",
       "    .dataframe thead th {\n",
       "        text-align: right;\n",
       "    }\n",
       "</style>\n",
       "<table border=\"1\" class=\"dataframe\">\n",
       "  <thead>\n",
       "    <tr style=\"text-align: right;\">\n",
       "      <th></th>\n",
       "      <th>id</th>\n",
       "      <th>user_id</th>\n",
       "      <th>call_date</th>\n",
       "      <th>duration</th>\n",
       "      <th>duration_rounded</th>\n",
       "      <th>call_month</th>\n",
       "      <th>call_day</th>\n",
       "      <th>call_year</th>\n",
       "    </tr>\n",
       "  </thead>\n",
       "  <tbody>\n",
       "  </tbody>\n",
       "</table>\n",
       "</div>"
      ],
      "text/plain": [
       "Empty DataFrame\n",
       "Columns: [id, user_id, call_date, duration, duration_rounded, call_month, call_day, call_year]\n",
       "Index: []"
      ]
     },
     "execution_count": 26,
     "metadata": {},
     "output_type": "execute_result"
    }
   ],
   "source": [
    "#Comprobamos que no haya valores duplicados en la columna id\n",
    "calls[calls['id'].duplicated()]"
   ]
  },
  {
   "cell_type": "code",
   "execution_count": 27,
   "metadata": {},
   "outputs": [],
   "source": [
    "# Agregaremos a que plan pertenece cada usuario\n",
    "calls = calls.merge(users[['user_id','plan_name']],on='user_id',how='left')"
   ]
  },
  {
   "cell_type": "code",
   "execution_count": 28,
   "metadata": {},
   "outputs": [
    {
     "name": "stdout",
     "output_type": "stream",
     "text": [
      "<class 'pandas.core.frame.DataFrame'>\n",
      "Int64Index: 137735 entries, 0 to 137734\n",
      "Data columns (total 9 columns):\n",
      " #   Column            Non-Null Count   Dtype         \n",
      "---  ------            --------------   -----         \n",
      " 0   id                137735 non-null  object        \n",
      " 1   user_id           137735 non-null  int64         \n",
      " 2   call_date         137735 non-null  datetime64[ns]\n",
      " 3   duration          137735 non-null  float64       \n",
      " 4   duration_rounded  137735 non-null  int64         \n",
      " 5   call_month        137735 non-null  int64         \n",
      " 6   call_day          137735 non-null  int64         \n",
      " 7   call_year         137735 non-null  int64         \n",
      " 8   plan_name         137735 non-null  object        \n",
      "dtypes: datetime64[ns](1), float64(1), int64(5), object(2)\n",
      "memory usage: 10.5+ MB\n"
     ]
    },
    {
     "data": {
      "text/html": [
       "<div>\n",
       "<style scoped>\n",
       "    .dataframe tbody tr th:only-of-type {\n",
       "        vertical-align: middle;\n",
       "    }\n",
       "\n",
       "    .dataframe tbody tr th {\n",
       "        vertical-align: top;\n",
       "    }\n",
       "\n",
       "    .dataframe thead th {\n",
       "        text-align: right;\n",
       "    }\n",
       "</style>\n",
       "<table border=\"1\" class=\"dataframe\">\n",
       "  <thead>\n",
       "    <tr style=\"text-align: right;\">\n",
       "      <th></th>\n",
       "      <th>id</th>\n",
       "      <th>user_id</th>\n",
       "      <th>call_date</th>\n",
       "      <th>duration</th>\n",
       "      <th>duration_rounded</th>\n",
       "      <th>call_month</th>\n",
       "      <th>call_day</th>\n",
       "      <th>call_year</th>\n",
       "      <th>plan_name</th>\n",
       "    </tr>\n",
       "  </thead>\n",
       "  <tbody>\n",
       "    <tr>\n",
       "      <th>0</th>\n",
       "      <td>1000_93</td>\n",
       "      <td>1000</td>\n",
       "      <td>2018-12-27</td>\n",
       "      <td>8.52</td>\n",
       "      <td>9</td>\n",
       "      <td>12</td>\n",
       "      <td>3</td>\n",
       "      <td>2018</td>\n",
       "      <td>ultimate</td>\n",
       "    </tr>\n",
       "    <tr>\n",
       "      <th>1</th>\n",
       "      <td>1000_145</td>\n",
       "      <td>1000</td>\n",
       "      <td>2018-12-27</td>\n",
       "      <td>13.66</td>\n",
       "      <td>14</td>\n",
       "      <td>12</td>\n",
       "      <td>3</td>\n",
       "      <td>2018</td>\n",
       "      <td>ultimate</td>\n",
       "    </tr>\n",
       "    <tr>\n",
       "      <th>2</th>\n",
       "      <td>1000_247</td>\n",
       "      <td>1000</td>\n",
       "      <td>2018-12-27</td>\n",
       "      <td>14.48</td>\n",
       "      <td>15</td>\n",
       "      <td>12</td>\n",
       "      <td>3</td>\n",
       "      <td>2018</td>\n",
       "      <td>ultimate</td>\n",
       "    </tr>\n",
       "    <tr>\n",
       "      <th>3</th>\n",
       "      <td>1000_309</td>\n",
       "      <td>1000</td>\n",
       "      <td>2018-12-28</td>\n",
       "      <td>5.76</td>\n",
       "      <td>6</td>\n",
       "      <td>12</td>\n",
       "      <td>4</td>\n",
       "      <td>2018</td>\n",
       "      <td>ultimate</td>\n",
       "    </tr>\n",
       "    <tr>\n",
       "      <th>4</th>\n",
       "      <td>1000_380</td>\n",
       "      <td>1000</td>\n",
       "      <td>2018-12-30</td>\n",
       "      <td>4.22</td>\n",
       "      <td>5</td>\n",
       "      <td>12</td>\n",
       "      <td>6</td>\n",
       "      <td>2018</td>\n",
       "      <td>ultimate</td>\n",
       "    </tr>\n",
       "    <tr>\n",
       "      <th>5</th>\n",
       "      <td>1000_388</td>\n",
       "      <td>1000</td>\n",
       "      <td>2018-12-31</td>\n",
       "      <td>2.20</td>\n",
       "      <td>3</td>\n",
       "      <td>12</td>\n",
       "      <td>0</td>\n",
       "      <td>2018</td>\n",
       "      <td>ultimate</td>\n",
       "    </tr>\n",
       "    <tr>\n",
       "      <th>6</th>\n",
       "      <td>1000_510</td>\n",
       "      <td>1000</td>\n",
       "      <td>2018-12-27</td>\n",
       "      <td>5.75</td>\n",
       "      <td>6</td>\n",
       "      <td>12</td>\n",
       "      <td>3</td>\n",
       "      <td>2018</td>\n",
       "      <td>ultimate</td>\n",
       "    </tr>\n",
       "    <tr>\n",
       "      <th>7</th>\n",
       "      <td>1000_521</td>\n",
       "      <td>1000</td>\n",
       "      <td>2018-12-28</td>\n",
       "      <td>14.18</td>\n",
       "      <td>15</td>\n",
       "      <td>12</td>\n",
       "      <td>4</td>\n",
       "      <td>2018</td>\n",
       "      <td>ultimate</td>\n",
       "    </tr>\n",
       "    <tr>\n",
       "      <th>8</th>\n",
       "      <td>1000_530</td>\n",
       "      <td>1000</td>\n",
       "      <td>2018-12-28</td>\n",
       "      <td>5.77</td>\n",
       "      <td>6</td>\n",
       "      <td>12</td>\n",
       "      <td>4</td>\n",
       "      <td>2018</td>\n",
       "      <td>ultimate</td>\n",
       "    </tr>\n",
       "    <tr>\n",
       "      <th>9</th>\n",
       "      <td>1000_544</td>\n",
       "      <td>1000</td>\n",
       "      <td>2018-12-26</td>\n",
       "      <td>4.40</td>\n",
       "      <td>5</td>\n",
       "      <td>12</td>\n",
       "      <td>2</td>\n",
       "      <td>2018</td>\n",
       "      <td>ultimate</td>\n",
       "    </tr>\n",
       "  </tbody>\n",
       "</table>\n",
       "</div>"
      ],
      "text/plain": [
       "         id  user_id  call_date  duration  duration_rounded  call_month  \\\n",
       "0   1000_93     1000 2018-12-27      8.52                 9          12   \n",
       "1  1000_145     1000 2018-12-27     13.66                14          12   \n",
       "2  1000_247     1000 2018-12-27     14.48                15          12   \n",
       "3  1000_309     1000 2018-12-28      5.76                 6          12   \n",
       "4  1000_380     1000 2018-12-30      4.22                 5          12   \n",
       "5  1000_388     1000 2018-12-31      2.20                 3          12   \n",
       "6  1000_510     1000 2018-12-27      5.75                 6          12   \n",
       "7  1000_521     1000 2018-12-28     14.18                15          12   \n",
       "8  1000_530     1000 2018-12-28      5.77                 6          12   \n",
       "9  1000_544     1000 2018-12-26      4.40                 5          12   \n",
       "\n",
       "   call_day  call_year plan_name  \n",
       "0         3       2018  ultimate  \n",
       "1         3       2018  ultimate  \n",
       "2         3       2018  ultimate  \n",
       "3         4       2018  ultimate  \n",
       "4         6       2018  ultimate  \n",
       "5         0       2018  ultimate  \n",
       "6         3       2018  ultimate  \n",
       "7         4       2018  ultimate  \n",
       "8         4       2018  ultimate  \n",
       "9         2       2018  ultimate  "
      ]
     },
     "execution_count": 28,
     "metadata": {},
     "output_type": "execute_result"
    }
   ],
   "source": [
    "#comprobamos que los valores esten correctos\n",
    "calls.info()\n",
    "\n",
    "calls.head(10)"
   ]
  },
  {
   "cell_type": "code",
   "execution_count": 29,
   "metadata": {},
   "outputs": [
    {
     "name": "stdout",
     "output_type": "stream",
     "text": [
      "Contamos con 481 usuarios en la tabla calls\n"
     ]
    }
   ],
   "source": [
    "print('Contamos con',len(calls['user_id'].unique()),'usuarios en la tabla calls')"
   ]
  },
  {
   "cell_type": "code",
   "execution_count": 30,
   "metadata": {},
   "outputs": [
    {
     "data": {
      "text/plain": [
       "array([2018])"
      ]
     },
     "execution_count": 30,
     "metadata": {},
     "output_type": "execute_result"
    }
   ],
   "source": [
    "#Verificamos que años se evaluan\n",
    "calls['call_year'].unique()"
   ]
  },
  {
   "cell_type": "markdown",
   "metadata": {},
   "source": [
    "## Mensajes"
   ]
  },
  {
   "cell_type": "code",
   "execution_count": 31,
   "metadata": {},
   "outputs": [
    {
     "name": "stdout",
     "output_type": "stream",
     "text": [
      "<class 'pandas.core.frame.DataFrame'>\n",
      "RangeIndex: 76051 entries, 0 to 76050\n",
      "Data columns (total 3 columns):\n",
      " #   Column        Non-Null Count  Dtype \n",
      "---  ------        --------------  ----- \n",
      " 0   id            76051 non-null  object\n",
      " 1   user_id       76051 non-null  int64 \n",
      " 2   message_date  76051 non-null  object\n",
      "dtypes: int64(1), object(2)\n",
      "memory usage: 1.7+ MB\n"
     ]
    }
   ],
   "source": [
    "# Imprime la información/resumen general sobre el DataFrame de los mensajes\n",
    "msg.info()"
   ]
  },
  {
   "cell_type": "code",
   "execution_count": 32,
   "metadata": {},
   "outputs": [
    {
     "data": {
      "text/html": [
       "<div>\n",
       "<style scoped>\n",
       "    .dataframe tbody tr th:only-of-type {\n",
       "        vertical-align: middle;\n",
       "    }\n",
       "\n",
       "    .dataframe tbody tr th {\n",
       "        vertical-align: top;\n",
       "    }\n",
       "\n",
       "    .dataframe thead th {\n",
       "        text-align: right;\n",
       "    }\n",
       "</style>\n",
       "<table border=\"1\" class=\"dataframe\">\n",
       "  <thead>\n",
       "    <tr style=\"text-align: right;\">\n",
       "      <th></th>\n",
       "      <th>id</th>\n",
       "      <th>user_id</th>\n",
       "      <th>message_date</th>\n",
       "    </tr>\n",
       "  </thead>\n",
       "  <tbody>\n",
       "    <tr>\n",
       "      <th>0</th>\n",
       "      <td>1000_125</td>\n",
       "      <td>1000</td>\n",
       "      <td>2018-12-27</td>\n",
       "    </tr>\n",
       "    <tr>\n",
       "      <th>1</th>\n",
       "      <td>1000_160</td>\n",
       "      <td>1000</td>\n",
       "      <td>2018-12-31</td>\n",
       "    </tr>\n",
       "    <tr>\n",
       "      <th>2</th>\n",
       "      <td>1000_223</td>\n",
       "      <td>1000</td>\n",
       "      <td>2018-12-31</td>\n",
       "    </tr>\n",
       "    <tr>\n",
       "      <th>3</th>\n",
       "      <td>1000_251</td>\n",
       "      <td>1000</td>\n",
       "      <td>2018-12-27</td>\n",
       "    </tr>\n",
       "    <tr>\n",
       "      <th>4</th>\n",
       "      <td>1000_255</td>\n",
       "      <td>1000</td>\n",
       "      <td>2018-12-26</td>\n",
       "    </tr>\n",
       "    <tr>\n",
       "      <th>5</th>\n",
       "      <td>1000_346</td>\n",
       "      <td>1000</td>\n",
       "      <td>2018-12-29</td>\n",
       "    </tr>\n",
       "    <tr>\n",
       "      <th>6</th>\n",
       "      <td>1000_386</td>\n",
       "      <td>1000</td>\n",
       "      <td>2018-12-30</td>\n",
       "    </tr>\n",
       "    <tr>\n",
       "      <th>7</th>\n",
       "      <td>1000_413</td>\n",
       "      <td>1000</td>\n",
       "      <td>2018-12-31</td>\n",
       "    </tr>\n",
       "    <tr>\n",
       "      <th>8</th>\n",
       "      <td>1000_502</td>\n",
       "      <td>1000</td>\n",
       "      <td>2018-12-27</td>\n",
       "    </tr>\n",
       "    <tr>\n",
       "      <th>9</th>\n",
       "      <td>1000_525</td>\n",
       "      <td>1000</td>\n",
       "      <td>2018-12-28</td>\n",
       "    </tr>\n",
       "  </tbody>\n",
       "</table>\n",
       "</div>"
      ],
      "text/plain": [
       "         id  user_id message_date\n",
       "0  1000_125     1000   2018-12-27\n",
       "1  1000_160     1000   2018-12-31\n",
       "2  1000_223     1000   2018-12-31\n",
       "3  1000_251     1000   2018-12-27\n",
       "4  1000_255     1000   2018-12-26\n",
       "5  1000_346     1000   2018-12-29\n",
       "6  1000_386     1000   2018-12-30\n",
       "7  1000_413     1000   2018-12-31\n",
       "8  1000_502     1000   2018-12-27\n",
       "9  1000_525     1000   2018-12-28"
      ]
     },
     "execution_count": 32,
     "metadata": {},
     "output_type": "execute_result"
    }
   ],
   "source": [
    "# Imprime una muestra de datos para los mensajes\n",
    "msg.head(10)"
   ]
  },
  {
   "cell_type": "markdown",
   "metadata": {},
   "source": [
    "* No tenemos valores ausentes  \n",
    "* Convertiremos el tipo de valor de la columna **message_date** a datetime\n",
    "* Veremos cuantos usuarios usan los mensajes\n",
    "* Agregaremos una columna del mes,dia,año de mensajes para posteriormente saber a que mes corresponden **msg_month, msg_day, msg_year**"
   ]
  },
  {
   "cell_type": "markdown",
   "metadata": {},
   "source": [
    "### Corregir datos"
   ]
  },
  {
   "cell_type": "code",
   "execution_count": 33,
   "metadata": {},
   "outputs": [],
   "source": [
    "msg['message_date'] = pd.to_datetime(msg['message_date'],format='%Y-%m-%d')"
   ]
  },
  {
   "cell_type": "markdown",
   "metadata": {},
   "source": [
    "### Enriquecer datos"
   ]
  },
  {
   "cell_type": "code",
   "execution_count": 34,
   "metadata": {},
   "outputs": [],
   "source": [
    "# Agregamos las columnas de dia, mes, año\n",
    "msg['msg_month'] = msg['message_date'].dt.month\n",
    "msg['msg_day'] = msg['message_date'].dt.weekday\n",
    "msg['msg_year'] = msg['message_date'].dt.year"
   ]
  },
  {
   "cell_type": "code",
   "execution_count": 35,
   "metadata": {},
   "outputs": [
    {
     "data": {
      "text/html": [
       "<div>\n",
       "<style scoped>\n",
       "    .dataframe tbody tr th:only-of-type {\n",
       "        vertical-align: middle;\n",
       "    }\n",
       "\n",
       "    .dataframe tbody tr th {\n",
       "        vertical-align: top;\n",
       "    }\n",
       "\n",
       "    .dataframe thead th {\n",
       "        text-align: right;\n",
       "    }\n",
       "</style>\n",
       "<table border=\"1\" class=\"dataframe\">\n",
       "  <thead>\n",
       "    <tr style=\"text-align: right;\">\n",
       "      <th></th>\n",
       "      <th>id</th>\n",
       "      <th>user_id</th>\n",
       "      <th>message_date</th>\n",
       "      <th>msg_month</th>\n",
       "      <th>msg_day</th>\n",
       "      <th>msg_year</th>\n",
       "    </tr>\n",
       "  </thead>\n",
       "  <tbody>\n",
       "  </tbody>\n",
       "</table>\n",
       "</div>"
      ],
      "text/plain": [
       "Empty DataFrame\n",
       "Columns: [id, user_id, message_date, msg_month, msg_day, msg_year]\n",
       "Index: []"
      ]
     },
     "execution_count": 35,
     "metadata": {},
     "output_type": "execute_result"
    }
   ],
   "source": [
    "#Comprobamos que no haya valores duplicados en la columna id\n",
    "msg[msg['id'].duplicated()]"
   ]
  },
  {
   "cell_type": "code",
   "execution_count": 36,
   "metadata": {},
   "outputs": [
    {
     "name": "stdout",
     "output_type": "stream",
     "text": [
      "<class 'pandas.core.frame.DataFrame'>\n",
      "RangeIndex: 76051 entries, 0 to 76050\n",
      "Data columns (total 6 columns):\n",
      " #   Column        Non-Null Count  Dtype         \n",
      "---  ------        --------------  -----         \n",
      " 0   id            76051 non-null  object        \n",
      " 1   user_id       76051 non-null  int64         \n",
      " 2   message_date  76051 non-null  datetime64[ns]\n",
      " 3   msg_month     76051 non-null  int64         \n",
      " 4   msg_day       76051 non-null  int64         \n",
      " 5   msg_year      76051 non-null  int64         \n",
      "dtypes: datetime64[ns](1), int64(4), object(1)\n",
      "memory usage: 3.5+ MB\n"
     ]
    },
    {
     "data": {
      "text/html": [
       "<div>\n",
       "<style scoped>\n",
       "    .dataframe tbody tr th:only-of-type {\n",
       "        vertical-align: middle;\n",
       "    }\n",
       "\n",
       "    .dataframe tbody tr th {\n",
       "        vertical-align: top;\n",
       "    }\n",
       "\n",
       "    .dataframe thead th {\n",
       "        text-align: right;\n",
       "    }\n",
       "</style>\n",
       "<table border=\"1\" class=\"dataframe\">\n",
       "  <thead>\n",
       "    <tr style=\"text-align: right;\">\n",
       "      <th></th>\n",
       "      <th>id</th>\n",
       "      <th>user_id</th>\n",
       "      <th>message_date</th>\n",
       "      <th>msg_month</th>\n",
       "      <th>msg_day</th>\n",
       "      <th>msg_year</th>\n",
       "    </tr>\n",
       "  </thead>\n",
       "  <tbody>\n",
       "    <tr>\n",
       "      <th>0</th>\n",
       "      <td>1000_125</td>\n",
       "      <td>1000</td>\n",
       "      <td>2018-12-27</td>\n",
       "      <td>12</td>\n",
       "      <td>3</td>\n",
       "      <td>2018</td>\n",
       "    </tr>\n",
       "    <tr>\n",
       "      <th>1</th>\n",
       "      <td>1000_160</td>\n",
       "      <td>1000</td>\n",
       "      <td>2018-12-31</td>\n",
       "      <td>12</td>\n",
       "      <td>0</td>\n",
       "      <td>2018</td>\n",
       "    </tr>\n",
       "    <tr>\n",
       "      <th>2</th>\n",
       "      <td>1000_223</td>\n",
       "      <td>1000</td>\n",
       "      <td>2018-12-31</td>\n",
       "      <td>12</td>\n",
       "      <td>0</td>\n",
       "      <td>2018</td>\n",
       "    </tr>\n",
       "    <tr>\n",
       "      <th>3</th>\n",
       "      <td>1000_251</td>\n",
       "      <td>1000</td>\n",
       "      <td>2018-12-27</td>\n",
       "      <td>12</td>\n",
       "      <td>3</td>\n",
       "      <td>2018</td>\n",
       "    </tr>\n",
       "    <tr>\n",
       "      <th>4</th>\n",
       "      <td>1000_255</td>\n",
       "      <td>1000</td>\n",
       "      <td>2018-12-26</td>\n",
       "      <td>12</td>\n",
       "      <td>2</td>\n",
       "      <td>2018</td>\n",
       "    </tr>\n",
       "    <tr>\n",
       "      <th>5</th>\n",
       "      <td>1000_346</td>\n",
       "      <td>1000</td>\n",
       "      <td>2018-12-29</td>\n",
       "      <td>12</td>\n",
       "      <td>5</td>\n",
       "      <td>2018</td>\n",
       "    </tr>\n",
       "    <tr>\n",
       "      <th>6</th>\n",
       "      <td>1000_386</td>\n",
       "      <td>1000</td>\n",
       "      <td>2018-12-30</td>\n",
       "      <td>12</td>\n",
       "      <td>6</td>\n",
       "      <td>2018</td>\n",
       "    </tr>\n",
       "    <tr>\n",
       "      <th>7</th>\n",
       "      <td>1000_413</td>\n",
       "      <td>1000</td>\n",
       "      <td>2018-12-31</td>\n",
       "      <td>12</td>\n",
       "      <td>0</td>\n",
       "      <td>2018</td>\n",
       "    </tr>\n",
       "    <tr>\n",
       "      <th>8</th>\n",
       "      <td>1000_502</td>\n",
       "      <td>1000</td>\n",
       "      <td>2018-12-27</td>\n",
       "      <td>12</td>\n",
       "      <td>3</td>\n",
       "      <td>2018</td>\n",
       "    </tr>\n",
       "    <tr>\n",
       "      <th>9</th>\n",
       "      <td>1000_525</td>\n",
       "      <td>1000</td>\n",
       "      <td>2018-12-28</td>\n",
       "      <td>12</td>\n",
       "      <td>4</td>\n",
       "      <td>2018</td>\n",
       "    </tr>\n",
       "  </tbody>\n",
       "</table>\n",
       "</div>"
      ],
      "text/plain": [
       "         id  user_id message_date  msg_month  msg_day  msg_year\n",
       "0  1000_125     1000   2018-12-27         12        3      2018\n",
       "1  1000_160     1000   2018-12-31         12        0      2018\n",
       "2  1000_223     1000   2018-12-31         12        0      2018\n",
       "3  1000_251     1000   2018-12-27         12        3      2018\n",
       "4  1000_255     1000   2018-12-26         12        2      2018\n",
       "5  1000_346     1000   2018-12-29         12        5      2018\n",
       "6  1000_386     1000   2018-12-30         12        6      2018\n",
       "7  1000_413     1000   2018-12-31         12        0      2018\n",
       "8  1000_502     1000   2018-12-27         12        3      2018\n",
       "9  1000_525     1000   2018-12-28         12        4      2018"
      ]
     },
     "execution_count": 36,
     "metadata": {},
     "output_type": "execute_result"
    }
   ],
   "source": [
    "msg.info()\n",
    "\n",
    "msg.head(10)"
   ]
  },
  {
   "cell_type": "code",
   "execution_count": 37,
   "metadata": {},
   "outputs": [
    {
     "name": "stdout",
     "output_type": "stream",
     "text": [
      "Contamos con 402 usuarios en la tabla msg\n"
     ]
    }
   ],
   "source": [
    "print('Contamos con',len(msg['user_id'].unique()),'usuarios en la tabla msg')"
   ]
  },
  {
   "cell_type": "code",
   "execution_count": 38,
   "metadata": {},
   "outputs": [
    {
     "data": {
      "text/plain": [
       "array([2018])"
      ]
     },
     "execution_count": 38,
     "metadata": {},
     "output_type": "execute_result"
    }
   ],
   "source": [
    "#Verificamos que años se evaluan\n",
    "msg['msg_year'].unique()"
   ]
  },
  {
   "cell_type": "markdown",
   "metadata": {},
   "source": [
    "## Internet"
   ]
  },
  {
   "cell_type": "code",
   "execution_count": 39,
   "metadata": {},
   "outputs": [
    {
     "name": "stdout",
     "output_type": "stream",
     "text": [
      "<class 'pandas.core.frame.DataFrame'>\n",
      "RangeIndex: 104825 entries, 0 to 104824\n",
      "Data columns (total 4 columns):\n",
      " #   Column        Non-Null Count   Dtype  \n",
      "---  ------        --------------   -----  \n",
      " 0   id            104825 non-null  object \n",
      " 1   user_id       104825 non-null  int64  \n",
      " 2   session_date  104825 non-null  object \n",
      " 3   mb_used       104825 non-null  float64\n",
      "dtypes: float64(1), int64(1), object(2)\n",
      "memory usage: 3.2+ MB\n"
     ]
    }
   ],
   "source": [
    "# Imprime la información/resumen general sobre el DataFrame de internet\n",
    "inter.info()"
   ]
  },
  {
   "cell_type": "code",
   "execution_count": 40,
   "metadata": {},
   "outputs": [
    {
     "data": {
      "text/html": [
       "<div>\n",
       "<style scoped>\n",
       "    .dataframe tbody tr th:only-of-type {\n",
       "        vertical-align: middle;\n",
       "    }\n",
       "\n",
       "    .dataframe tbody tr th {\n",
       "        vertical-align: top;\n",
       "    }\n",
       "\n",
       "    .dataframe thead th {\n",
       "        text-align: right;\n",
       "    }\n",
       "</style>\n",
       "<table border=\"1\" class=\"dataframe\">\n",
       "  <thead>\n",
       "    <tr style=\"text-align: right;\">\n",
       "      <th></th>\n",
       "      <th>id</th>\n",
       "      <th>user_id</th>\n",
       "      <th>session_date</th>\n",
       "      <th>mb_used</th>\n",
       "    </tr>\n",
       "  </thead>\n",
       "  <tbody>\n",
       "    <tr>\n",
       "      <th>0</th>\n",
       "      <td>1000_13</td>\n",
       "      <td>1000</td>\n",
       "      <td>2018-12-29</td>\n",
       "      <td>89.86</td>\n",
       "    </tr>\n",
       "    <tr>\n",
       "      <th>1</th>\n",
       "      <td>1000_204</td>\n",
       "      <td>1000</td>\n",
       "      <td>2018-12-31</td>\n",
       "      <td>0.00</td>\n",
       "    </tr>\n",
       "    <tr>\n",
       "      <th>2</th>\n",
       "      <td>1000_379</td>\n",
       "      <td>1000</td>\n",
       "      <td>2018-12-28</td>\n",
       "      <td>660.40</td>\n",
       "    </tr>\n",
       "    <tr>\n",
       "      <th>3</th>\n",
       "      <td>1000_413</td>\n",
       "      <td>1000</td>\n",
       "      <td>2018-12-26</td>\n",
       "      <td>270.99</td>\n",
       "    </tr>\n",
       "    <tr>\n",
       "      <th>4</th>\n",
       "      <td>1000_442</td>\n",
       "      <td>1000</td>\n",
       "      <td>2018-12-27</td>\n",
       "      <td>880.22</td>\n",
       "    </tr>\n",
       "    <tr>\n",
       "      <th>5</th>\n",
       "      <td>1001_0</td>\n",
       "      <td>1001</td>\n",
       "      <td>2018-08-24</td>\n",
       "      <td>284.68</td>\n",
       "    </tr>\n",
       "    <tr>\n",
       "      <th>6</th>\n",
       "      <td>1001_3</td>\n",
       "      <td>1001</td>\n",
       "      <td>2018-12-09</td>\n",
       "      <td>656.04</td>\n",
       "    </tr>\n",
       "    <tr>\n",
       "      <th>7</th>\n",
       "      <td>1001_4</td>\n",
       "      <td>1001</td>\n",
       "      <td>2018-11-04</td>\n",
       "      <td>16.97</td>\n",
       "    </tr>\n",
       "    <tr>\n",
       "      <th>8</th>\n",
       "      <td>1001_10</td>\n",
       "      <td>1001</td>\n",
       "      <td>2018-11-27</td>\n",
       "      <td>135.18</td>\n",
       "    </tr>\n",
       "    <tr>\n",
       "      <th>9</th>\n",
       "      <td>1001_15</td>\n",
       "      <td>1001</td>\n",
       "      <td>2018-12-13</td>\n",
       "      <td>761.92</td>\n",
       "    </tr>\n",
       "  </tbody>\n",
       "</table>\n",
       "</div>"
      ],
      "text/plain": [
       "         id  user_id session_date  mb_used\n",
       "0   1000_13     1000   2018-12-29    89.86\n",
       "1  1000_204     1000   2018-12-31     0.00\n",
       "2  1000_379     1000   2018-12-28   660.40\n",
       "3  1000_413     1000   2018-12-26   270.99\n",
       "4  1000_442     1000   2018-12-27   880.22\n",
       "5    1001_0     1001   2018-08-24   284.68\n",
       "6    1001_3     1001   2018-12-09   656.04\n",
       "7    1001_4     1001   2018-11-04    16.97\n",
       "8   1001_10     1001   2018-11-27   135.18\n",
       "9   1001_15     1001   2018-12-13   761.92"
      ]
     },
     "execution_count": 40,
     "metadata": {},
     "output_type": "execute_result"
    }
   ],
   "source": [
    "# Imprime una muestra de datos para el tráfico de internet\n",
    "inter.head(10)"
   ]
  },
  {
   "cell_type": "markdown",
   "metadata": {},
   "source": [
    "* Convertiremos el tipo de la columna **session_date** a datetime  \n",
    "* Crearemos una columna **gb_used** con la columna **mb_used**.\n",
    "*  Crearemos una columna de dia, mes y año para saber a que mes corresponde cada uso de datos."
   ]
  },
  {
   "cell_type": "markdown",
   "metadata": {},
   "source": [
    " "
   ]
  },
  {
   "cell_type": "markdown",
   "metadata": {},
   "source": [
    "### Corregir datos"
   ]
  },
  {
   "cell_type": "code",
   "execution_count": 41,
   "metadata": {},
   "outputs": [],
   "source": [
    "inter['session_date'] = pd.to_datetime(inter['session_date'],format='%Y-%m-%d')"
   ]
  },
  {
   "cell_type": "markdown",
   "metadata": {},
   "source": [
    "### Enriquecer datos"
   ]
  },
  {
   "cell_type": "code",
   "execution_count": 42,
   "metadata": {},
   "outputs": [],
   "source": [
    "# Agregaremos las columnas de gb y las gb reales\n",
    "inter['gb_used'] = inter['mb_used'] / 1024"
   ]
  },
  {
   "cell_type": "code",
   "execution_count": 43,
   "metadata": {},
   "outputs": [],
   "source": [
    "# Agregaremos las columnas de dia, mes, año\n",
    "inter['session_month'] = inter['session_date'].dt.month\n",
    "inter['session_day'] = inter['session_date'].dt.weekday\n",
    "inter['session_year'] = inter['session_date'].dt.year"
   ]
  },
  {
   "cell_type": "code",
   "execution_count": 44,
   "metadata": {},
   "outputs": [],
   "source": [
    "# Agregaremos a que plan pertenece cada usuario\n",
    "inter = inter.merge(users[['user_id','plan_name']],on='user_id',how='left')"
   ]
  },
  {
   "cell_type": "code",
   "execution_count": 45,
   "metadata": {},
   "outputs": [
    {
     "data": {
      "text/html": [
       "<div>\n",
       "<style scoped>\n",
       "    .dataframe tbody tr th:only-of-type {\n",
       "        vertical-align: middle;\n",
       "    }\n",
       "\n",
       "    .dataframe tbody tr th {\n",
       "        vertical-align: top;\n",
       "    }\n",
       "\n",
       "    .dataframe thead th {\n",
       "        text-align: right;\n",
       "    }\n",
       "</style>\n",
       "<table border=\"1\" class=\"dataframe\">\n",
       "  <thead>\n",
       "    <tr style=\"text-align: right;\">\n",
       "      <th></th>\n",
       "      <th>id</th>\n",
       "      <th>user_id</th>\n",
       "      <th>session_date</th>\n",
       "      <th>mb_used</th>\n",
       "      <th>gb_used</th>\n",
       "      <th>session_month</th>\n",
       "      <th>session_day</th>\n",
       "      <th>session_year</th>\n",
       "      <th>plan_name</th>\n",
       "    </tr>\n",
       "  </thead>\n",
       "  <tbody>\n",
       "  </tbody>\n",
       "</table>\n",
       "</div>"
      ],
      "text/plain": [
       "Empty DataFrame\n",
       "Columns: [id, user_id, session_date, mb_used, gb_used, session_month, session_day, session_year, plan_name]\n",
       "Index: []"
      ]
     },
     "execution_count": 45,
     "metadata": {},
     "output_type": "execute_result"
    }
   ],
   "source": [
    "#Comprobamos que no haya valores duplicados en la columna id\n",
    "inter[inter['id'].duplicated()]"
   ]
  },
  {
   "cell_type": "code",
   "execution_count": 46,
   "metadata": {},
   "outputs": [
    {
     "name": "stdout",
     "output_type": "stream",
     "text": [
      "<class 'pandas.core.frame.DataFrame'>\n",
      "Int64Index: 104825 entries, 0 to 104824\n",
      "Data columns (total 9 columns):\n",
      " #   Column         Non-Null Count   Dtype         \n",
      "---  ------         --------------   -----         \n",
      " 0   id             104825 non-null  object        \n",
      " 1   user_id        104825 non-null  int64         \n",
      " 2   session_date   104825 non-null  datetime64[ns]\n",
      " 3   mb_used        104825 non-null  float64       \n",
      " 4   gb_used        104825 non-null  float64       \n",
      " 5   session_month  104825 non-null  int64         \n",
      " 6   session_day    104825 non-null  int64         \n",
      " 7   session_year   104825 non-null  int64         \n",
      " 8   plan_name      104825 non-null  object        \n",
      "dtypes: datetime64[ns](1), float64(2), int64(4), object(2)\n",
      "memory usage: 8.0+ MB\n"
     ]
    },
    {
     "data": {
      "text/html": [
       "<div>\n",
       "<style scoped>\n",
       "    .dataframe tbody tr th:only-of-type {\n",
       "        vertical-align: middle;\n",
       "    }\n",
       "\n",
       "    .dataframe tbody tr th {\n",
       "        vertical-align: top;\n",
       "    }\n",
       "\n",
       "    .dataframe thead th {\n",
       "        text-align: right;\n",
       "    }\n",
       "</style>\n",
       "<table border=\"1\" class=\"dataframe\">\n",
       "  <thead>\n",
       "    <tr style=\"text-align: right;\">\n",
       "      <th></th>\n",
       "      <th>id</th>\n",
       "      <th>user_id</th>\n",
       "      <th>session_date</th>\n",
       "      <th>mb_used</th>\n",
       "      <th>gb_used</th>\n",
       "      <th>session_month</th>\n",
       "      <th>session_day</th>\n",
       "      <th>session_year</th>\n",
       "      <th>plan_name</th>\n",
       "    </tr>\n",
       "  </thead>\n",
       "  <tbody>\n",
       "    <tr>\n",
       "      <th>0</th>\n",
       "      <td>1000_13</td>\n",
       "      <td>1000</td>\n",
       "      <td>2018-12-29</td>\n",
       "      <td>89.86</td>\n",
       "      <td>0.087754</td>\n",
       "      <td>12</td>\n",
       "      <td>5</td>\n",
       "      <td>2018</td>\n",
       "      <td>ultimate</td>\n",
       "    </tr>\n",
       "    <tr>\n",
       "      <th>1</th>\n",
       "      <td>1000_204</td>\n",
       "      <td>1000</td>\n",
       "      <td>2018-12-31</td>\n",
       "      <td>0.00</td>\n",
       "      <td>0.000000</td>\n",
       "      <td>12</td>\n",
       "      <td>0</td>\n",
       "      <td>2018</td>\n",
       "      <td>ultimate</td>\n",
       "    </tr>\n",
       "    <tr>\n",
       "      <th>2</th>\n",
       "      <td>1000_379</td>\n",
       "      <td>1000</td>\n",
       "      <td>2018-12-28</td>\n",
       "      <td>660.40</td>\n",
       "      <td>0.644922</td>\n",
       "      <td>12</td>\n",
       "      <td>4</td>\n",
       "      <td>2018</td>\n",
       "      <td>ultimate</td>\n",
       "    </tr>\n",
       "    <tr>\n",
       "      <th>3</th>\n",
       "      <td>1000_413</td>\n",
       "      <td>1000</td>\n",
       "      <td>2018-12-26</td>\n",
       "      <td>270.99</td>\n",
       "      <td>0.264639</td>\n",
       "      <td>12</td>\n",
       "      <td>2</td>\n",
       "      <td>2018</td>\n",
       "      <td>ultimate</td>\n",
       "    </tr>\n",
       "    <tr>\n",
       "      <th>4</th>\n",
       "      <td>1000_442</td>\n",
       "      <td>1000</td>\n",
       "      <td>2018-12-27</td>\n",
       "      <td>880.22</td>\n",
       "      <td>0.859590</td>\n",
       "      <td>12</td>\n",
       "      <td>3</td>\n",
       "      <td>2018</td>\n",
       "      <td>ultimate</td>\n",
       "    </tr>\n",
       "    <tr>\n",
       "      <th>5</th>\n",
       "      <td>1001_0</td>\n",
       "      <td>1001</td>\n",
       "      <td>2018-08-24</td>\n",
       "      <td>284.68</td>\n",
       "      <td>0.278008</td>\n",
       "      <td>8</td>\n",
       "      <td>4</td>\n",
       "      <td>2018</td>\n",
       "      <td>surf</td>\n",
       "    </tr>\n",
       "    <tr>\n",
       "      <th>6</th>\n",
       "      <td>1001_3</td>\n",
       "      <td>1001</td>\n",
       "      <td>2018-12-09</td>\n",
       "      <td>656.04</td>\n",
       "      <td>0.640664</td>\n",
       "      <td>12</td>\n",
       "      <td>6</td>\n",
       "      <td>2018</td>\n",
       "      <td>surf</td>\n",
       "    </tr>\n",
       "    <tr>\n",
       "      <th>7</th>\n",
       "      <td>1001_4</td>\n",
       "      <td>1001</td>\n",
       "      <td>2018-11-04</td>\n",
       "      <td>16.97</td>\n",
       "      <td>0.016572</td>\n",
       "      <td>11</td>\n",
       "      <td>6</td>\n",
       "      <td>2018</td>\n",
       "      <td>surf</td>\n",
       "    </tr>\n",
       "    <tr>\n",
       "      <th>8</th>\n",
       "      <td>1001_10</td>\n",
       "      <td>1001</td>\n",
       "      <td>2018-11-27</td>\n",
       "      <td>135.18</td>\n",
       "      <td>0.132012</td>\n",
       "      <td>11</td>\n",
       "      <td>1</td>\n",
       "      <td>2018</td>\n",
       "      <td>surf</td>\n",
       "    </tr>\n",
       "    <tr>\n",
       "      <th>9</th>\n",
       "      <td>1001_15</td>\n",
       "      <td>1001</td>\n",
       "      <td>2018-12-13</td>\n",
       "      <td>761.92</td>\n",
       "      <td>0.744062</td>\n",
       "      <td>12</td>\n",
       "      <td>3</td>\n",
       "      <td>2018</td>\n",
       "      <td>surf</td>\n",
       "    </tr>\n",
       "  </tbody>\n",
       "</table>\n",
       "</div>"
      ],
      "text/plain": [
       "         id  user_id session_date  mb_used   gb_used  session_month  \\\n",
       "0   1000_13     1000   2018-12-29    89.86  0.087754             12   \n",
       "1  1000_204     1000   2018-12-31     0.00  0.000000             12   \n",
       "2  1000_379     1000   2018-12-28   660.40  0.644922             12   \n",
       "3  1000_413     1000   2018-12-26   270.99  0.264639             12   \n",
       "4  1000_442     1000   2018-12-27   880.22  0.859590             12   \n",
       "5    1001_0     1001   2018-08-24   284.68  0.278008              8   \n",
       "6    1001_3     1001   2018-12-09   656.04  0.640664             12   \n",
       "7    1001_4     1001   2018-11-04    16.97  0.016572             11   \n",
       "8   1001_10     1001   2018-11-27   135.18  0.132012             11   \n",
       "9   1001_15     1001   2018-12-13   761.92  0.744062             12   \n",
       "\n",
       "   session_day  session_year plan_name  \n",
       "0            5          2018  ultimate  \n",
       "1            0          2018  ultimate  \n",
       "2            4          2018  ultimate  \n",
       "3            2          2018  ultimate  \n",
       "4            3          2018  ultimate  \n",
       "5            4          2018      surf  \n",
       "6            6          2018      surf  \n",
       "7            6          2018      surf  \n",
       "8            1          2018      surf  \n",
       "9            3          2018      surf  "
      ]
     },
     "execution_count": 46,
     "metadata": {},
     "output_type": "execute_result"
    }
   ],
   "source": [
    "# Verificamos resultados\n",
    "inter.info()\n",
    "inter.head(10)"
   ]
  },
  {
   "cell_type": "code",
   "execution_count": 47,
   "metadata": {},
   "outputs": [
    {
     "name": "stdout",
     "output_type": "stream",
     "text": [
      "Contamos con 489 usuarios en la tabla inter\n"
     ]
    }
   ],
   "source": [
    "print('Contamos con',len(inter['user_id'].unique()),'usuarios en la tabla inter')"
   ]
  },
  {
   "cell_type": "code",
   "execution_count": 48,
   "metadata": {},
   "outputs": [
    {
     "data": {
      "text/plain": [
       "array([2018])"
      ]
     },
     "execution_count": 48,
     "metadata": {},
     "output_type": "execute_result"
    }
   ],
   "source": [
    "#Verificamos que años se evaluan\n",
    "inter['session_year'].unique()"
   ]
  },
  {
   "cell_type": "markdown",
   "metadata": {},
   "source": [
    "## Estudiar las condiciones del plan"
   ]
  },
  {
   "cell_type": "code",
   "execution_count": 49,
   "metadata": {},
   "outputs": [
    {
     "data": {
      "text/html": [
       "<div>\n",
       "<style scoped>\n",
       "    .dataframe tbody tr th:only-of-type {\n",
       "        vertical-align: middle;\n",
       "    }\n",
       "\n",
       "    .dataframe tbody tr th {\n",
       "        vertical-align: top;\n",
       "    }\n",
       "\n",
       "    .dataframe thead th {\n",
       "        text-align: right;\n",
       "    }\n",
       "</style>\n",
       "<table border=\"1\" class=\"dataframe\">\n",
       "  <thead>\n",
       "    <tr style=\"text-align: right;\">\n",
       "      <th></th>\n",
       "      <th>messages_per_month_included</th>\n",
       "      <th>mb_per_month_included</th>\n",
       "      <th>minutes_per_month_included</th>\n",
       "      <th>usd_monthly_pay</th>\n",
       "      <th>usd_per_gb</th>\n",
       "      <th>usd_per_message</th>\n",
       "      <th>usd_per_minute</th>\n",
       "      <th>plan_name</th>\n",
       "      <th>gb_per_month_included</th>\n",
       "    </tr>\n",
       "  </thead>\n",
       "  <tbody>\n",
       "    <tr>\n",
       "      <th>0</th>\n",
       "      <td>50</td>\n",
       "      <td>15360</td>\n",
       "      <td>500</td>\n",
       "      <td>20</td>\n",
       "      <td>10</td>\n",
       "      <td>0.03</td>\n",
       "      <td>0.03</td>\n",
       "      <td>surf</td>\n",
       "      <td>15.0</td>\n",
       "    </tr>\n",
       "    <tr>\n",
       "      <th>1</th>\n",
       "      <td>1000</td>\n",
       "      <td>30720</td>\n",
       "      <td>3000</td>\n",
       "      <td>70</td>\n",
       "      <td>7</td>\n",
       "      <td>0.01</td>\n",
       "      <td>0.01</td>\n",
       "      <td>ultimate</td>\n",
       "      <td>30.0</td>\n",
       "    </tr>\n",
       "  </tbody>\n",
       "</table>\n",
       "</div>"
      ],
      "text/plain": [
       "   messages_per_month_included  mb_per_month_included  \\\n",
       "0                           50                  15360   \n",
       "1                         1000                  30720   \n",
       "\n",
       "   minutes_per_month_included  usd_monthly_pay  usd_per_gb  usd_per_message  \\\n",
       "0                         500               20          10             0.03   \n",
       "1                        3000               70           7             0.01   \n",
       "\n",
       "   usd_per_minute plan_name  gb_per_month_included  \n",
       "0            0.03      surf                   15.0  \n",
       "1            0.01  ultimate                   30.0  "
      ]
     },
     "execution_count": 49,
     "metadata": {},
     "output_type": "execute_result"
    }
   ],
   "source": [
    "# Imprime las condiciones del plan y asegúrate de que te resulten claros\n",
    "plans"
   ]
  },
  {
   "cell_type": "code",
   "execution_count": 50,
   "metadata": {},
   "outputs": [
    {
     "data": {
      "text/html": [
       "<div>\n",
       "<style scoped>\n",
       "    .dataframe tbody tr th:only-of-type {\n",
       "        vertical-align: middle;\n",
       "    }\n",
       "\n",
       "    .dataframe tbody tr th {\n",
       "        vertical-align: top;\n",
       "    }\n",
       "\n",
       "    .dataframe thead th {\n",
       "        text-align: right;\n",
       "    }\n",
       "</style>\n",
       "<table border=\"1\" class=\"dataframe\">\n",
       "  <thead>\n",
       "    <tr style=\"text-align: right;\">\n",
       "      <th></th>\n",
       "      <th>id</th>\n",
       "      <th>user_id</th>\n",
       "      <th>call_date</th>\n",
       "      <th>duration</th>\n",
       "      <th>duration_rounded</th>\n",
       "      <th>call_month</th>\n",
       "      <th>call_day</th>\n",
       "      <th>call_year</th>\n",
       "      <th>plan_name</th>\n",
       "    </tr>\n",
       "  </thead>\n",
       "  <tbody>\n",
       "    <tr>\n",
       "      <th>0</th>\n",
       "      <td>1000_93</td>\n",
       "      <td>1000</td>\n",
       "      <td>2018-12-27</td>\n",
       "      <td>8.52</td>\n",
       "      <td>9</td>\n",
       "      <td>12</td>\n",
       "      <td>3</td>\n",
       "      <td>2018</td>\n",
       "      <td>ultimate</td>\n",
       "    </tr>\n",
       "    <tr>\n",
       "      <th>1</th>\n",
       "      <td>1000_145</td>\n",
       "      <td>1000</td>\n",
       "      <td>2018-12-27</td>\n",
       "      <td>13.66</td>\n",
       "      <td>14</td>\n",
       "      <td>12</td>\n",
       "      <td>3</td>\n",
       "      <td>2018</td>\n",
       "      <td>ultimate</td>\n",
       "    </tr>\n",
       "    <tr>\n",
       "      <th>2</th>\n",
       "      <td>1000_247</td>\n",
       "      <td>1000</td>\n",
       "      <td>2018-12-27</td>\n",
       "      <td>14.48</td>\n",
       "      <td>15</td>\n",
       "      <td>12</td>\n",
       "      <td>3</td>\n",
       "      <td>2018</td>\n",
       "      <td>ultimate</td>\n",
       "    </tr>\n",
       "    <tr>\n",
       "      <th>3</th>\n",
       "      <td>1000_309</td>\n",
       "      <td>1000</td>\n",
       "      <td>2018-12-28</td>\n",
       "      <td>5.76</td>\n",
       "      <td>6</td>\n",
       "      <td>12</td>\n",
       "      <td>4</td>\n",
       "      <td>2018</td>\n",
       "      <td>ultimate</td>\n",
       "    </tr>\n",
       "    <tr>\n",
       "      <th>4</th>\n",
       "      <td>1000_380</td>\n",
       "      <td>1000</td>\n",
       "      <td>2018-12-30</td>\n",
       "      <td>4.22</td>\n",
       "      <td>5</td>\n",
       "      <td>12</td>\n",
       "      <td>6</td>\n",
       "      <td>2018</td>\n",
       "      <td>ultimate</td>\n",
       "    </tr>\n",
       "  </tbody>\n",
       "</table>\n",
       "</div>"
      ],
      "text/plain": [
       "         id  user_id  call_date  duration  duration_rounded  call_month  \\\n",
       "0   1000_93     1000 2018-12-27      8.52                 9          12   \n",
       "1  1000_145     1000 2018-12-27     13.66                14          12   \n",
       "2  1000_247     1000 2018-12-27     14.48                15          12   \n",
       "3  1000_309     1000 2018-12-28      5.76                 6          12   \n",
       "4  1000_380     1000 2018-12-30      4.22                 5          12   \n",
       "\n",
       "   call_day  call_year plan_name  \n",
       "0         3       2018  ultimate  \n",
       "1         3       2018  ultimate  \n",
       "2         3       2018  ultimate  \n",
       "3         4       2018  ultimate  \n",
       "4         6       2018  ultimate  "
      ]
     },
     "execution_count": 50,
     "metadata": {},
     "output_type": "execute_result"
    }
   ],
   "source": [
    "calls.head()"
   ]
  },
  {
   "cell_type": "code",
   "execution_count": 51,
   "metadata": {},
   "outputs": [],
   "source": [
    "def column_rename(data,column,new_name):\n",
    "    data = data.rename(columns = {column:new_name})\n",
    "    return data"
   ]
  },
  {
   "cell_type": "code",
   "execution_count": 52,
   "metadata": {
    "scrolled": false
   },
   "outputs": [
    {
     "data": {
      "text/html": [
       "<div>\n",
       "<style scoped>\n",
       "    .dataframe tbody tr th:only-of-type {\n",
       "        vertical-align: middle;\n",
       "    }\n",
       "\n",
       "    .dataframe tbody tr th {\n",
       "        vertical-align: top;\n",
       "    }\n",
       "\n",
       "    .dataframe thead th {\n",
       "        text-align: right;\n",
       "    }\n",
       "</style>\n",
       "<table border=\"1\" class=\"dataframe\">\n",
       "  <thead>\n",
       "    <tr style=\"text-align: right;\">\n",
       "      <th></th>\n",
       "      <th>user_id</th>\n",
       "      <th>call_month</th>\n",
       "      <th>count</th>\n",
       "      <th>sum</th>\n",
       "    </tr>\n",
       "  </thead>\n",
       "  <tbody>\n",
       "    <tr>\n",
       "      <th>0</th>\n",
       "      <td>1000</td>\n",
       "      <td>12</td>\n",
       "      <td>16</td>\n",
       "      <td>124</td>\n",
       "    </tr>\n",
       "    <tr>\n",
       "      <th>1</th>\n",
       "      <td>1001</td>\n",
       "      <td>8</td>\n",
       "      <td>27</td>\n",
       "      <td>182</td>\n",
       "    </tr>\n",
       "    <tr>\n",
       "      <th>2</th>\n",
       "      <td>1001</td>\n",
       "      <td>9</td>\n",
       "      <td>49</td>\n",
       "      <td>315</td>\n",
       "    </tr>\n",
       "    <tr>\n",
       "      <th>3</th>\n",
       "      <td>1001</td>\n",
       "      <td>10</td>\n",
       "      <td>65</td>\n",
       "      <td>393</td>\n",
       "    </tr>\n",
       "    <tr>\n",
       "      <th>4</th>\n",
       "      <td>1001</td>\n",
       "      <td>11</td>\n",
       "      <td>64</td>\n",
       "      <td>426</td>\n",
       "    </tr>\n",
       "    <tr>\n",
       "      <th>...</th>\n",
       "      <td>...</td>\n",
       "      <td>...</td>\n",
       "      <td>...</td>\n",
       "      <td>...</td>\n",
       "    </tr>\n",
       "    <tr>\n",
       "      <th>2253</th>\n",
       "      <td>1498</td>\n",
       "      <td>12</td>\n",
       "      <td>39</td>\n",
       "      <td>339</td>\n",
       "    </tr>\n",
       "    <tr>\n",
       "      <th>2254</th>\n",
       "      <td>1499</td>\n",
       "      <td>9</td>\n",
       "      <td>41</td>\n",
       "      <td>346</td>\n",
       "    </tr>\n",
       "    <tr>\n",
       "      <th>2255</th>\n",
       "      <td>1499</td>\n",
       "      <td>10</td>\n",
       "      <td>53</td>\n",
       "      <td>385</td>\n",
       "    </tr>\n",
       "    <tr>\n",
       "      <th>2256</th>\n",
       "      <td>1499</td>\n",
       "      <td>11</td>\n",
       "      <td>45</td>\n",
       "      <td>308</td>\n",
       "    </tr>\n",
       "    <tr>\n",
       "      <th>2257</th>\n",
       "      <td>1499</td>\n",
       "      <td>12</td>\n",
       "      <td>65</td>\n",
       "      <td>496</td>\n",
       "    </tr>\n",
       "  </tbody>\n",
       "</table>\n",
       "<p>2258 rows × 4 columns</p>\n",
       "</div>"
      ],
      "text/plain": [
       "      user_id  call_month  count  sum\n",
       "0        1000          12     16  124\n",
       "1        1001           8     27  182\n",
       "2        1001           9     49  315\n",
       "3        1001          10     65  393\n",
       "4        1001          11     64  426\n",
       "...       ...         ...    ...  ...\n",
       "2253     1498          12     39  339\n",
       "2254     1499           9     41  346\n",
       "2255     1499          10     53  385\n",
       "2256     1499          11     45  308\n",
       "2257     1499          12     65  496\n",
       "\n",
       "[2258 rows x 4 columns]"
      ]
     },
     "metadata": {},
     "output_type": "display_data"
    }
   ],
   "source": [
    "# Calcula el número y cantidad de llamadas hechas por cada usuario por mes. Guarda el resultado.\n",
    "user_calls = calls.pivot_table(index=['user_id','call_month'],values='duration_rounded',aggfunc=('count','sum')).reset_index()\n",
    "display(user_calls)\n"
   ]
  },
  {
   "cell_type": "markdown",
   "metadata": {},
   "source": [
    "<div class=\"alert alert-block alert-info\">\n",
    "<b>Respuesta del estudiante. v2</b> <a class=\"tocSkip\"></a>\n",
    "\n",
    "Corregido, era un dato que estaba de mas para esta revisión"
   ]
  },
  {
   "cell_type": "markdown",
   "metadata": {},
   "source": [
    "<div class=\"alert alert-block alert-danger\">\n",
    "\n",
    "<b>A resolver v2</b> <a class=\"tocSkip\"></a>\n",
    "\n",
    "~~No veo la finalidad de las columnas de mean y var. Sería bueno no agregarlas, ya tenemos mucha información.~~</div>"
   ]
  },
  {
   "cell_type": "code",
   "execution_count": 53,
   "metadata": {},
   "outputs": [],
   "source": [
    "# modificamos el nombre de la columna de mes\n",
    "user_calls = column_rename(user_calls,'call_month','month')"
   ]
  },
  {
   "cell_type": "markdown",
   "metadata": {},
   "source": [
    "<div class=\"alert alert-block alert-info\">\n",
    "<b>Respuesta del estudiante.</b> <a class=\"tocSkip\"></a>\n",
    "\n",
    "Corregida la forma de mostrar las tablas y se realizan las correcciones, se resumen las dos tablas que tenia por una sola; **PD**: esa forma final de la tabla es la que estaba buscando realizar, sni embargo, no se me habia ocurrido utilizar el **reset_index()** gracias por el tip"
   ]
  },
  {
   "cell_type": "markdown",
   "metadata": {},
   "source": [
    "<div class=\"alert alert-block alert-danger\">\n",
    "\n",
    "<b>A resolver</b> <a class=\"tocSkip\"></a>\n",
    "\n",
    "~~Las tablas debes de mostrarlas usando display() en vez de print(), para poder verlas correctamente.~~\n",
    "\n",
    "~~**esta corrección aplica para todo tu proyecto**~~\n",
    "</div>"
   ]
  },
  {
   "cell_type": "markdown",
   "metadata": {},
   "source": [
    "<div class=\"alert alert-block alert-danger\">\n",
    "\n",
    "<b>A resolver</b> <a class=\"tocSkip\"></a>\n",
    "\n",
    "~~El formato de tus tablas de agregación puede ser muy impráctico. Además, se pueden hacer ambas tablas de arriba en una sola. La manera sería ésta:~~\n",
    "\n",
    "`user_call = calls.pivot_table(index=['user_id','call_month'], values='duration_rounded', aggfunc=['count','sum']).reset_index()`\n",
    "</div>"
   ]
  },
  {
   "cell_type": "code",
   "execution_count": 54,
   "metadata": {
    "scrolled": false
   },
   "outputs": [
    {
     "data": {
      "text/html": [
       "<div>\n",
       "<style scoped>\n",
       "    .dataframe tbody tr th:only-of-type {\n",
       "        vertical-align: middle;\n",
       "    }\n",
       "\n",
       "    .dataframe tbody tr th {\n",
       "        vertical-align: top;\n",
       "    }\n",
       "\n",
       "    .dataframe thead th {\n",
       "        text-align: right;\n",
       "    }\n",
       "</style>\n",
       "<table border=\"1\" class=\"dataframe\">\n",
       "  <thead>\n",
       "    <tr style=\"text-align: right;\">\n",
       "      <th></th>\n",
       "      <th>user_id</th>\n",
       "      <th>msg_month</th>\n",
       "      <th>id</th>\n",
       "    </tr>\n",
       "  </thead>\n",
       "  <tbody>\n",
       "    <tr>\n",
       "      <th>0</th>\n",
       "      <td>1000</td>\n",
       "      <td>12</td>\n",
       "      <td>11</td>\n",
       "    </tr>\n",
       "    <tr>\n",
       "      <th>1</th>\n",
       "      <td>1001</td>\n",
       "      <td>8</td>\n",
       "      <td>30</td>\n",
       "    </tr>\n",
       "    <tr>\n",
       "      <th>2</th>\n",
       "      <td>1001</td>\n",
       "      <td>9</td>\n",
       "      <td>44</td>\n",
       "    </tr>\n",
       "    <tr>\n",
       "      <th>3</th>\n",
       "      <td>1001</td>\n",
       "      <td>10</td>\n",
       "      <td>53</td>\n",
       "    </tr>\n",
       "    <tr>\n",
       "      <th>4</th>\n",
       "      <td>1001</td>\n",
       "      <td>11</td>\n",
       "      <td>36</td>\n",
       "    </tr>\n",
       "    <tr>\n",
       "      <th>...</th>\n",
       "      <td>...</td>\n",
       "      <td>...</td>\n",
       "      <td>...</td>\n",
       "    </tr>\n",
       "    <tr>\n",
       "      <th>1801</th>\n",
       "      <td>1496</td>\n",
       "      <td>9</td>\n",
       "      <td>21</td>\n",
       "    </tr>\n",
       "    <tr>\n",
       "      <th>1802</th>\n",
       "      <td>1496</td>\n",
       "      <td>10</td>\n",
       "      <td>18</td>\n",
       "    </tr>\n",
       "    <tr>\n",
       "      <th>1803</th>\n",
       "      <td>1496</td>\n",
       "      <td>11</td>\n",
       "      <td>13</td>\n",
       "    </tr>\n",
       "    <tr>\n",
       "      <th>1804</th>\n",
       "      <td>1496</td>\n",
       "      <td>12</td>\n",
       "      <td>11</td>\n",
       "    </tr>\n",
       "    <tr>\n",
       "      <th>1805</th>\n",
       "      <td>1497</td>\n",
       "      <td>12</td>\n",
       "      <td>50</td>\n",
       "    </tr>\n",
       "  </tbody>\n",
       "</table>\n",
       "<p>1806 rows × 3 columns</p>\n",
       "</div>"
      ],
      "text/plain": [
       "      user_id  msg_month  id\n",
       "0        1000         12  11\n",
       "1        1001          8  30\n",
       "2        1001          9  44\n",
       "3        1001         10  53\n",
       "4        1001         11  36\n",
       "...       ...        ...  ..\n",
       "1801     1496          9  21\n",
       "1802     1496         10  18\n",
       "1803     1496         11  13\n",
       "1804     1496         12  11\n",
       "1805     1497         12  50\n",
       "\n",
       "[1806 rows x 3 columns]"
      ]
     },
     "metadata": {},
     "output_type": "display_data"
    }
   ],
   "source": [
    "# Calcula el número de mensajes enviados por cada usuario por mes. Guarda el resultado.\n",
    "user_msg = msg.pivot_table(index=['user_id','msg_month'],values='id',aggfunc='count').reset_index()\n",
    "display(user_msg)\n"
   ]
  },
  {
   "cell_type": "code",
   "execution_count": 55,
   "metadata": {},
   "outputs": [],
   "source": [
    "# modificamos el nombre de la columna de mes\n",
    "user_msg = column_rename(user_msg,'msg_month','month')"
   ]
  },
  {
   "cell_type": "markdown",
   "metadata": {},
   "source": [
    "<div class=\"alert alert-block alert-info\">\n",
    "<b>Respuesta del estudiante.</b> <a class=\"tocSkip\"></a>\n",
    "\n",
    "Corregido"
   ]
  },
  {
   "cell_type": "markdown",
   "metadata": {},
   "source": [
    "<div class=\"alert alert-block alert-danger\">\n",
    "\n",
    "<b>A resolver</b> <a class=\"tocSkip\"></a>\n",
    "\n",
    "~~Arriba también sería mejor que hicieras tu tabla con este formato:~~\n",
    "\n",
    "~~`user_total_msg = msg.pivot_table(index=['user_id','msg_month'], values='id', aggfunc='count').reset_index()`~~\n",
    "</div>"
   ]
  },
  {
   "cell_type": "code",
   "execution_count": 56,
   "metadata": {
    "scrolled": false
   },
   "outputs": [
    {
     "data": {
      "text/html": [
       "<div>\n",
       "<style scoped>\n",
       "    .dataframe tbody tr th:only-of-type {\n",
       "        vertical-align: middle;\n",
       "    }\n",
       "\n",
       "    .dataframe tbody tr th {\n",
       "        vertical-align: top;\n",
       "    }\n",
       "\n",
       "    .dataframe thead th {\n",
       "        text-align: right;\n",
       "    }\n",
       "</style>\n",
       "<table border=\"1\" class=\"dataframe\">\n",
       "  <thead>\n",
       "    <tr style=\"text-align: right;\">\n",
       "      <th></th>\n",
       "      <th>user_id</th>\n",
       "      <th>session_month</th>\n",
       "      <th>gb_used</th>\n",
       "    </tr>\n",
       "  </thead>\n",
       "  <tbody>\n",
       "    <tr>\n",
       "      <th>0</th>\n",
       "      <td>1000</td>\n",
       "      <td>12</td>\n",
       "      <td>1.856904</td>\n",
       "    </tr>\n",
       "    <tr>\n",
       "      <th>1</th>\n",
       "      <td>1001</td>\n",
       "      <td>8</td>\n",
       "      <td>6.756982</td>\n",
       "    </tr>\n",
       "    <tr>\n",
       "      <th>2</th>\n",
       "      <td>1001</td>\n",
       "      <td>9</td>\n",
       "      <td>13.002754</td>\n",
       "    </tr>\n",
       "    <tr>\n",
       "      <th>3</th>\n",
       "      <td>1001</td>\n",
       "      <td>10</td>\n",
       "      <td>21.807119</td>\n",
       "    </tr>\n",
       "    <tr>\n",
       "      <th>4</th>\n",
       "      <td>1001</td>\n",
       "      <td>11</td>\n",
       "      <td>18.070605</td>\n",
       "    </tr>\n",
       "    <tr>\n",
       "      <th>...</th>\n",
       "      <td>...</td>\n",
       "      <td>...</td>\n",
       "      <td>...</td>\n",
       "    </tr>\n",
       "    <tr>\n",
       "      <th>2272</th>\n",
       "      <td>1498</td>\n",
       "      <td>12</td>\n",
       "      <td>22.595400</td>\n",
       "    </tr>\n",
       "    <tr>\n",
       "      <th>2273</th>\n",
       "      <td>1499</td>\n",
       "      <td>9</td>\n",
       "      <td>12.680430</td>\n",
       "    </tr>\n",
       "    <tr>\n",
       "      <th>2274</th>\n",
       "      <td>1499</td>\n",
       "      <td>10</td>\n",
       "      <td>19.035576</td>\n",
       "    </tr>\n",
       "    <tr>\n",
       "      <th>2275</th>\n",
       "      <td>1499</td>\n",
       "      <td>11</td>\n",
       "      <td>16.419756</td>\n",
       "    </tr>\n",
       "    <tr>\n",
       "      <th>2276</th>\n",
       "      <td>1499</td>\n",
       "      <td>12</td>\n",
       "      <td>21.542197</td>\n",
       "    </tr>\n",
       "  </tbody>\n",
       "</table>\n",
       "<p>2277 rows × 3 columns</p>\n",
       "</div>"
      ],
      "text/plain": [
       "      user_id  session_month    gb_used\n",
       "0        1000             12   1.856904\n",
       "1        1001              8   6.756982\n",
       "2        1001              9  13.002754\n",
       "3        1001             10  21.807119\n",
       "4        1001             11  18.070605\n",
       "...       ...            ...        ...\n",
       "2272     1498             12  22.595400\n",
       "2273     1499              9  12.680430\n",
       "2274     1499             10  19.035576\n",
       "2275     1499             11  16.419756\n",
       "2276     1499             12  21.542197\n",
       "\n",
       "[2277 rows x 3 columns]"
      ]
     },
     "metadata": {},
     "output_type": "display_data"
    }
   ],
   "source": [
    "# Calcula el volumen del trafico de internet usado por cada usuario por mes. Guarda el resultado.\n",
    "user_web = inter.pivot_table(index=['user_id','session_month'],values='gb_used',aggfunc=('sum')).reset_index()\n",
    "display(user_web)\n"
   ]
  },
  {
   "cell_type": "markdown",
   "metadata": {},
   "source": [
    "<div class=\"alert alert-block alert-info\">\n",
    "<b>Respuesta del estudiante. v2</b> <a class=\"tocSkip\"></a>\n",
    "\n",
    "Corregido, error de analisis"
   ]
  },
  {
   "cell_type": "markdown",
   "metadata": {},
   "source": [
    "<div class=\"alert alert-block alert-danger\">\n",
    "\n",
    "<b>A resolver v2</b> <a class=\"tocSkip\"></a>\n",
    "\n",
    "~~Aquí para qué un count si sólo te piden la suma mensual de datos?~~</div>"
   ]
  },
  {
   "cell_type": "markdown",
   "metadata": {},
   "source": [
    "<div class=\"alert alert-block alert-info\">\n",
    "<b>Respuesta del estudiante.</b> <a class=\"tocSkip\"></a>\n",
    "\n",
    "Corregido"
   ]
  },
  {
   "cell_type": "markdown",
   "metadata": {},
   "source": [
    "<div class=\"alert alert-block alert-danger\">\n",
    "\n",
    "<b>A resolver</b> <a class=\"tocSkip\"></a>\n",
    "\n",
    "~~Misma corrección que arriba~~</div>"
   ]
  },
  {
   "cell_type": "code",
   "execution_count": 57,
   "metadata": {},
   "outputs": [],
   "source": [
    "# Redondeamos la tabla de uso de datos al numero mayor mas proximo de acuerdo a las condiciones del plan\n",
    "user_web['gb_used'] = user_web['gb_used'].apply(np.ceil)\n"
   ]
  },
  {
   "cell_type": "markdown",
   "metadata": {},
   "source": [
    "<div class=\"alert alert-block alert-info\">\n",
    "<b>Respuesta del estudiante. v2</b> <a class=\"tocSkip\"></a>\n",
    "\n",
    "Corregido"
   ]
  },
  {
   "cell_type": "markdown",
   "metadata": {},
   "source": [
    "<div class=\"alert alert-block alert-danger\">\n",
    "\n",
    "<b>A resolver v2</b> <a class=\"tocSkip\"></a>\n",
    "\n",
    "~~Recuerda actualizar todo tu código una vez que apliques correcciones. Como puedes ver aquí hay un error porque no actualizaste tu código tras correcciones. Este error me impide correr todo tu proyecto. Por favor arréglalo para continuar con la revisión.~~</div>"
   ]
  },
  {
   "cell_type": "code",
   "execution_count": 58,
   "metadata": {},
   "outputs": [
    {
     "data": {
      "text/html": [
       "<div>\n",
       "<style scoped>\n",
       "    .dataframe tbody tr th:only-of-type {\n",
       "        vertical-align: middle;\n",
       "    }\n",
       "\n",
       "    .dataframe tbody tr th {\n",
       "        vertical-align: top;\n",
       "    }\n",
       "\n",
       "    .dataframe thead th {\n",
       "        text-align: right;\n",
       "    }\n",
       "</style>\n",
       "<table border=\"1\" class=\"dataframe\">\n",
       "  <thead>\n",
       "    <tr style=\"text-align: right;\">\n",
       "      <th></th>\n",
       "      <th>user_id</th>\n",
       "      <th>session_month</th>\n",
       "      <th>gb_used</th>\n",
       "    </tr>\n",
       "  </thead>\n",
       "  <tbody>\n",
       "    <tr>\n",
       "      <th>0</th>\n",
       "      <td>1000</td>\n",
       "      <td>12</td>\n",
       "      <td>2.0</td>\n",
       "    </tr>\n",
       "    <tr>\n",
       "      <th>1</th>\n",
       "      <td>1001</td>\n",
       "      <td>8</td>\n",
       "      <td>7.0</td>\n",
       "    </tr>\n",
       "    <tr>\n",
       "      <th>2</th>\n",
       "      <td>1001</td>\n",
       "      <td>9</td>\n",
       "      <td>14.0</td>\n",
       "    </tr>\n",
       "    <tr>\n",
       "      <th>3</th>\n",
       "      <td>1001</td>\n",
       "      <td>10</td>\n",
       "      <td>22.0</td>\n",
       "    </tr>\n",
       "    <tr>\n",
       "      <th>4</th>\n",
       "      <td>1001</td>\n",
       "      <td>11</td>\n",
       "      <td>19.0</td>\n",
       "    </tr>\n",
       "    <tr>\n",
       "      <th>...</th>\n",
       "      <td>...</td>\n",
       "      <td>...</td>\n",
       "      <td>...</td>\n",
       "    </tr>\n",
       "    <tr>\n",
       "      <th>2272</th>\n",
       "      <td>1498</td>\n",
       "      <td>12</td>\n",
       "      <td>23.0</td>\n",
       "    </tr>\n",
       "    <tr>\n",
       "      <th>2273</th>\n",
       "      <td>1499</td>\n",
       "      <td>9</td>\n",
       "      <td>13.0</td>\n",
       "    </tr>\n",
       "    <tr>\n",
       "      <th>2274</th>\n",
       "      <td>1499</td>\n",
       "      <td>10</td>\n",
       "      <td>20.0</td>\n",
       "    </tr>\n",
       "    <tr>\n",
       "      <th>2275</th>\n",
       "      <td>1499</td>\n",
       "      <td>11</td>\n",
       "      <td>17.0</td>\n",
       "    </tr>\n",
       "    <tr>\n",
       "      <th>2276</th>\n",
       "      <td>1499</td>\n",
       "      <td>12</td>\n",
       "      <td>22.0</td>\n",
       "    </tr>\n",
       "  </tbody>\n",
       "</table>\n",
       "<p>2277 rows × 3 columns</p>\n",
       "</div>"
      ],
      "text/plain": [
       "      user_id  session_month  gb_used\n",
       "0        1000             12      2.0\n",
       "1        1001              8      7.0\n",
       "2        1001              9     14.0\n",
       "3        1001             10     22.0\n",
       "4        1001             11     19.0\n",
       "...       ...            ...      ...\n",
       "2272     1498             12     23.0\n",
       "2273     1499              9     13.0\n",
       "2274     1499             10     20.0\n",
       "2275     1499             11     17.0\n",
       "2276     1499             12     22.0\n",
       "\n",
       "[2277 rows x 3 columns]"
      ]
     },
     "execution_count": 58,
     "metadata": {},
     "output_type": "execute_result"
    }
   ],
   "source": [
    "# Comprobamos que los datos se han modificado correctamente\n",
    "user_web"
   ]
  },
  {
   "cell_type": "code",
   "execution_count": 59,
   "metadata": {},
   "outputs": [],
   "source": [
    "# modificamos el nombre de la columna de mes\n",
    "user_web = column_rename(user_web,'session_month','month')"
   ]
  },
  {
   "cell_type": "code",
   "execution_count": 60,
   "metadata": {
    "scrolled": true
   },
   "outputs": [
    {
     "data": {
      "text/html": [
       "<div>\n",
       "<style scoped>\n",
       "    .dataframe tbody tr th:only-of-type {\n",
       "        vertical-align: middle;\n",
       "    }\n",
       "\n",
       "    .dataframe tbody tr th {\n",
       "        vertical-align: top;\n",
       "    }\n",
       "\n",
       "    .dataframe thead th {\n",
       "        text-align: right;\n",
       "    }\n",
       "</style>\n",
       "<table border=\"1\" class=\"dataframe\">\n",
       "  <thead>\n",
       "    <tr style=\"text-align: right;\">\n",
       "      <th></th>\n",
       "      <th>user_id</th>\n",
       "      <th>first_name</th>\n",
       "      <th>last_name</th>\n",
       "      <th>age</th>\n",
       "      <th>city</th>\n",
       "      <th>reg_date</th>\n",
       "      <th>plan_name</th>\n",
       "      <th>churn_date</th>\n",
       "      <th>reg_month</th>\n",
       "      <th>reg_day</th>\n",
       "      <th>reg_year</th>\n",
       "    </tr>\n",
       "  </thead>\n",
       "  <tbody>\n",
       "    <tr>\n",
       "      <th>0</th>\n",
       "      <td>1000</td>\n",
       "      <td>Anamaria</td>\n",
       "      <td>Bauer</td>\n",
       "      <td>45</td>\n",
       "      <td>Atlanta-Sandy Springs-Roswell, GA MSA</td>\n",
       "      <td>2018-12-24</td>\n",
       "      <td>ultimate</td>\n",
       "      <td>2100-12-31</td>\n",
       "      <td>12</td>\n",
       "      <td>0</td>\n",
       "      <td>2018</td>\n",
       "    </tr>\n",
       "    <tr>\n",
       "      <th>1</th>\n",
       "      <td>1001</td>\n",
       "      <td>Mickey</td>\n",
       "      <td>Wilkerson</td>\n",
       "      <td>28</td>\n",
       "      <td>Seattle-Tacoma-Bellevue, WA MSA</td>\n",
       "      <td>2018-08-13</td>\n",
       "      <td>surf</td>\n",
       "      <td>2100-12-31</td>\n",
       "      <td>8</td>\n",
       "      <td>0</td>\n",
       "      <td>2018</td>\n",
       "    </tr>\n",
       "    <tr>\n",
       "      <th>2</th>\n",
       "      <td>1002</td>\n",
       "      <td>Carlee</td>\n",
       "      <td>Hoffman</td>\n",
       "      <td>36</td>\n",
       "      <td>Las Vegas-Henderson-Paradise, NV MSA</td>\n",
       "      <td>2018-10-21</td>\n",
       "      <td>surf</td>\n",
       "      <td>2100-12-31</td>\n",
       "      <td>10</td>\n",
       "      <td>6</td>\n",
       "      <td>2018</td>\n",
       "    </tr>\n",
       "    <tr>\n",
       "      <th>3</th>\n",
       "      <td>1003</td>\n",
       "      <td>Reynaldo</td>\n",
       "      <td>Jenkins</td>\n",
       "      <td>52</td>\n",
       "      <td>Tulsa, OK MSA</td>\n",
       "      <td>2018-01-28</td>\n",
       "      <td>surf</td>\n",
       "      <td>2100-12-31</td>\n",
       "      <td>1</td>\n",
       "      <td>6</td>\n",
       "      <td>2018</td>\n",
       "    </tr>\n",
       "    <tr>\n",
       "      <th>4</th>\n",
       "      <td>1004</td>\n",
       "      <td>Leonila</td>\n",
       "      <td>Thompson</td>\n",
       "      <td>40</td>\n",
       "      <td>Seattle-Tacoma-Bellevue, WA MSA</td>\n",
       "      <td>2018-05-23</td>\n",
       "      <td>surf</td>\n",
       "      <td>2100-12-31</td>\n",
       "      <td>5</td>\n",
       "      <td>2</td>\n",
       "      <td>2018</td>\n",
       "    </tr>\n",
       "  </tbody>\n",
       "</table>\n",
       "</div>"
      ],
      "text/plain": [
       "   user_id first_name  last_name  age                                   city  \\\n",
       "0     1000   Anamaria      Bauer   45  Atlanta-Sandy Springs-Roswell, GA MSA   \n",
       "1     1001     Mickey  Wilkerson   28        Seattle-Tacoma-Bellevue, WA MSA   \n",
       "2     1002     Carlee    Hoffman   36   Las Vegas-Henderson-Paradise, NV MSA   \n",
       "3     1003   Reynaldo    Jenkins   52                          Tulsa, OK MSA   \n",
       "4     1004    Leonila   Thompson   40        Seattle-Tacoma-Bellevue, WA MSA   \n",
       "\n",
       "    reg_date plan_name churn_date  reg_month  reg_day  reg_year  \n",
       "0 2018-12-24  ultimate 2100-12-31         12        0      2018  \n",
       "1 2018-08-13      surf 2100-12-31          8        0      2018  \n",
       "2 2018-10-21      surf 2100-12-31         10        6      2018  \n",
       "3 2018-01-28      surf 2100-12-31          1        6      2018  \n",
       "4 2018-05-23      surf 2100-12-31          5        2      2018  "
      ]
     },
     "execution_count": 60,
     "metadata": {},
     "output_type": "execute_result"
    }
   ],
   "source": [
    "users.head()"
   ]
  },
  {
   "cell_type": "markdown",
   "metadata": {},
   "source": [
    "<div class=\"alert alert-block alert-info\">\n",
    "<b>Respuesta del estudiante.</b> <a class=\"tocSkip\"></a>\n",
    "    \n",
    "Corregido"
   ]
  },
  {
   "cell_type": "markdown",
   "metadata": {},
   "source": [
    "<div class=\"alert alert-block alert-danger\">\n",
    "\n",
    "<b>A resolver</b> <a class=\"tocSkip\"></a>\n",
    "\n",
    "~~Cambiará todo el enfoque para hacer `.merge()` de tus tablas. Como tú hiciste más adelante, es muy impráctico y confuso ya que tienes que agregar muchas columnas. Haz lo que te digo a continuación, al pie de la letra, para hacer una unión de tablas eficiente:~~ \n",
    "\n",
    "* ~~Haz `.merge()` de tu tabla de llamadas con la de mensajes, **uniendo en el `user_id` y el mes** (deberás renombrar las columnas de mes de ambas tablas para que se llamen igual, simplemente `'month'`, por ejemplo), y con la opción `how='outer'` **para preservar todas las columnas**. Supongamos que tabla se llama `user_monthly`.~~\n",
    "    \n",
    "* ~~Haz `.merge()` de tu tabla de internet con `user_monthly`, de la misma forma que antes. Supongamos que tu tabla final se sigue llamando `user_monthly`.~~\n",
    "    \n",
    "* ~~Habrá ausentes en `user_monthly` de todos los meses en los que un usuario usó Internet pero no llamadas, etc. **Rellena todos los ausentes con cero**.~~\n",
    "    \n",
    "* ~~Usa `.merge()` para unir `user_monthly` con `users`, usando `on = 'user_id'`. Qué opción de `how=` debes usar? Supongamos que tu tabla final la llamas `plan_db`.~~\n",
    "    \n",
    "~~**ESTAS CORRECCIONES ALTERARÁN EL RESTO DE TUS RESULTADOS.**~~\n",
    "</div>"
   ]
  },
  {
   "cell_type": "code",
   "execution_count": 61,
   "metadata": {},
   "outputs": [],
   "source": [
    "# Combinamon los datos para las llamadas y mensajes con base en el user_id y el mes\n",
    "plan_db = user_calls.merge(user_msg, on=['user_id','month'],how='outer')"
   ]
  },
  {
   "cell_type": "code",
   "execution_count": 62,
   "metadata": {},
   "outputs": [],
   "source": [
    "# Combinamos los datos para el consumo de datos de internet con base en el user_id y el mes\n",
    "plan_db = plan_db.merge(user_web, on=['user_id','month'],how='outer')"
   ]
  },
  {
   "cell_type": "markdown",
   "metadata": {},
   "source": [
    "<div class=\"alert alert-block alert-info\">\n",
    "<b>Respuesta del estudiante v3.</b> <a class=\"tocSkip\"></a>\n",
    "    \n",
    "Corregido 4 pasos abajo abajo"
   ]
  },
  {
   "cell_type": "markdown",
   "metadata": {},
   "source": [
    "<div class=\"alert alert-block alert-danger\">\n",
    "\n",
    "<b>A resolver v3</b> <a class=\"tocSkip\"></a>\n",
    "\n",
    "~~Bien pero no rellenaste con cero todos los ausentes de plan_db antes de proseguir, **como te dije en mi comentario de arriba**. Es importante hacerlo en este punto, **antes de que calcules los ingresos**, porque si no puede afectarse los cálculos.~~\n",
    "\n",
    "</div>"
   ]
  },
  {
   "cell_type": "code",
   "execution_count": 63,
   "metadata": {},
   "outputs": [
    {
     "data": {
      "text/html": [
       "<div>\n",
       "<style scoped>\n",
       "    .dataframe tbody tr th:only-of-type {\n",
       "        vertical-align: middle;\n",
       "    }\n",
       "\n",
       "    .dataframe tbody tr th {\n",
       "        vertical-align: top;\n",
       "    }\n",
       "\n",
       "    .dataframe thead th {\n",
       "        text-align: right;\n",
       "    }\n",
       "</style>\n",
       "<table border=\"1\" class=\"dataframe\">\n",
       "  <thead>\n",
       "    <tr style=\"text-align: right;\">\n",
       "      <th></th>\n",
       "      <th>user_id</th>\n",
       "      <th>month</th>\n",
       "      <th>count</th>\n",
       "      <th>sum</th>\n",
       "      <th>id</th>\n",
       "      <th>gb_used</th>\n",
       "    </tr>\n",
       "  </thead>\n",
       "  <tbody>\n",
       "    <tr>\n",
       "      <th>0</th>\n",
       "      <td>1000</td>\n",
       "      <td>12</td>\n",
       "      <td>16.0</td>\n",
       "      <td>124.0</td>\n",
       "      <td>11.0</td>\n",
       "      <td>2.0</td>\n",
       "    </tr>\n",
       "    <tr>\n",
       "      <th>1</th>\n",
       "      <td>1001</td>\n",
       "      <td>8</td>\n",
       "      <td>27.0</td>\n",
       "      <td>182.0</td>\n",
       "      <td>30.0</td>\n",
       "      <td>7.0</td>\n",
       "    </tr>\n",
       "    <tr>\n",
       "      <th>2</th>\n",
       "      <td>1001</td>\n",
       "      <td>9</td>\n",
       "      <td>49.0</td>\n",
       "      <td>315.0</td>\n",
       "      <td>44.0</td>\n",
       "      <td>14.0</td>\n",
       "    </tr>\n",
       "    <tr>\n",
       "      <th>3</th>\n",
       "      <td>1001</td>\n",
       "      <td>10</td>\n",
       "      <td>65.0</td>\n",
       "      <td>393.0</td>\n",
       "      <td>53.0</td>\n",
       "      <td>22.0</td>\n",
       "    </tr>\n",
       "    <tr>\n",
       "      <th>4</th>\n",
       "      <td>1001</td>\n",
       "      <td>11</td>\n",
       "      <td>64.0</td>\n",
       "      <td>426.0</td>\n",
       "      <td>36.0</td>\n",
       "      <td>19.0</td>\n",
       "    </tr>\n",
       "  </tbody>\n",
       "</table>\n",
       "</div>"
      ],
      "text/plain": [
       "   user_id  month  count    sum    id  gb_used\n",
       "0     1000     12   16.0  124.0  11.0      2.0\n",
       "1     1001      8   27.0  182.0  30.0      7.0\n",
       "2     1001      9   49.0  315.0  44.0     14.0\n",
       "3     1001     10   65.0  393.0  53.0     22.0\n",
       "4     1001     11   64.0  426.0  36.0     19.0"
      ]
     },
     "execution_count": 63,
     "metadata": {},
     "output_type": "execute_result"
    }
   ],
   "source": [
    "plan_db.head()"
   ]
  },
  {
   "cell_type": "code",
   "execution_count": 64,
   "metadata": {},
   "outputs": [],
   "source": [
    "#Renombramos las columnas para mayor comprension data = data.rename(columns = {column:new_name})\n",
    "plan_db = plan_db.rename(columns = {'count' : 'total_calls',\n",
    "                                   'sum' : 'total_min',\n",
    "                                   'id' : 'total_msg',\n",
    "                                   'gb_used' : 'total_gb'})"
   ]
  },
  {
   "cell_type": "code",
   "execution_count": 65,
   "metadata": {},
   "outputs": [],
   "source": [
    "# Añadimos la información de los usuarios\n",
    "plan_db = plan_db.merge(users, on='user_id',how='right')"
   ]
  },
  {
   "cell_type": "markdown",
   "metadata": {},
   "source": [
    "<div class=\"alert alert-block alert-danger\">\n",
    "\n",
    "<b>A resolver v3</b> <a class=\"tocSkip\"></a>\n",
    "\n",
    "~~Arriba debes de usar `how='right'` para que se conserven todos los usuarios de `users`, aunque haya algunos que no hayan usado ni llamadas ni mensajes ni Internet nunca.~~\n",
    "\n",
    "\n",
    "</div>"
   ]
  },
  {
   "cell_type": "code",
   "execution_count": 66,
   "metadata": {},
   "outputs": [],
   "source": [
    "# Añade la información de los planes\n",
    "plan_db = plan_db.merge(plans, on='plan_name',how='left')"
   ]
  },
  {
   "cell_type": "code",
   "execution_count": 67,
   "metadata": {},
   "outputs": [],
   "source": [
    "# Rellenaremos los valores ausentes con 0\n",
    "plan_db = plan_db.fillna(0)"
   ]
  },
  {
   "cell_type": "markdown",
   "metadata": {},
   "source": [
    "<div class=\"alert alert-block alert-success\">\n",
    "<b>Éxito v3</b> <a class=\"tocSkip\"></a>\n",
    "\n",
    "Esto de arriba sí está bien    \n",
    "</div>"
   ]
  },
  {
   "cell_type": "code",
   "execution_count": 68,
   "metadata": {},
   "outputs": [
    {
     "name": "stdout",
     "output_type": "stream",
     "text": [
      "<class 'pandas.core.frame.DataFrame'>\n",
      "Int64Index: 2303 entries, 0 to 2302\n",
      "Data columns (total 24 columns):\n",
      " #   Column                       Non-Null Count  Dtype         \n",
      "---  ------                       --------------  -----         \n",
      " 0   user_id                      2303 non-null   int64         \n",
      " 1   month                        2303 non-null   float64       \n",
      " 2   total_calls                  2303 non-null   float64       \n",
      " 3   total_min                    2303 non-null   float64       \n",
      " 4   total_msg                    2303 non-null   float64       \n",
      " 5   total_gb                     2303 non-null   float64       \n",
      " 6   first_name                   2303 non-null   object        \n",
      " 7   last_name                    2303 non-null   object        \n",
      " 8   age                          2303 non-null   int64         \n",
      " 9   city                         2303 non-null   object        \n",
      " 10  reg_date                     2303 non-null   datetime64[ns]\n",
      " 11  plan_name                    2303 non-null   object        \n",
      " 12  churn_date                   2303 non-null   datetime64[ns]\n",
      " 13  reg_month                    2303 non-null   int64         \n",
      " 14  reg_day                      2303 non-null   int64         \n",
      " 15  reg_year                     2303 non-null   int64         \n",
      " 16  messages_per_month_included  2303 non-null   int64         \n",
      " 17  mb_per_month_included        2303 non-null   int64         \n",
      " 18  minutes_per_month_included   2303 non-null   int64         \n",
      " 19  usd_monthly_pay              2303 non-null   int64         \n",
      " 20  usd_per_gb                   2303 non-null   int64         \n",
      " 21  usd_per_message              2303 non-null   float64       \n",
      " 22  usd_per_minute               2303 non-null   float64       \n",
      " 23  gb_per_month_included        2303 non-null   float64       \n",
      "dtypes: datetime64[ns](2), float64(8), int64(10), object(4)\n",
      "memory usage: 449.8+ KB\n"
     ]
    }
   ],
   "source": [
    "plan_db.info()"
   ]
  },
  {
   "cell_type": "code",
   "execution_count": 69,
   "metadata": {},
   "outputs": [],
   "source": [
    "# Calcula el ingreso mensual para cada usuario\n",
    "# Crearemos una situacion con el mes 12 que contiene mas datos\n",
    "def over_min(row):\n",
    "    if (row['total_min'] - row['minutes_per_month_included']) > 0:\n",
    "        return row['total_min'] - row['minutes_per_month_included']\n",
    "    else:\n",
    "        return 0\n",
    "\n",
    "def over_msg(row):\n",
    "    if (row['total_msg'] - row['messages_per_month_included']) > 0:\n",
    "        return row['total_msg'] - row['messages_per_month_included']\n",
    "    else:\n",
    "        return 0\n",
    "    \n",
    "def over_int(row):\n",
    "    if (row['total_gb'] - row['gb_per_month_included']) > 0:\n",
    "        return row['total_gb'] - row['gb_per_month_included']\n",
    "    else:\n",
    "        return 0\n",
    "\n",
    "  "
   ]
  },
  {
   "cell_type": "code",
   "execution_count": 70,
   "metadata": {},
   "outputs": [],
   "source": [
    "#Creacion de columna con exceso de uso de minutos, mensaje y gb\n",
    "plan_db['min_over'] = plan_db.apply(over_min,axis=1)\n",
    "plan_db['msg_over'] = plan_db.apply(over_msg,axis=1)\n",
    "plan_db['int_over'] = plan_db.apply(over_int,axis=1)"
   ]
  },
  {
   "cell_type": "code",
   "execution_count": 71,
   "metadata": {},
   "outputs": [],
   "source": [
    "# Calcularemos el precio del exceso ocupado\n",
    "plan_db['call_over_price'] = plan_db['min_over'] * plan_db['usd_per_minute']\n",
    "plan_db['msg_over_price'] = plan_db['msg_over'] * plan_db['usd_per_message']\n",
    "plan_db['int_over_price'] = plan_db['int_over'] * plan_db['usd_per_gb']"
   ]
  },
  {
   "cell_type": "code",
   "execution_count": 72,
   "metadata": {},
   "outputs": [],
   "source": [
    "#Calcularemos el total a pagar\n",
    "plan_db['to_pay'] = plan_db['call_over_price'] + plan_db['msg_over_price'] + plan_db['int_over_price'] + plan_db['usd_monthly_pay']"
   ]
  },
  {
   "cell_type": "markdown",
   "metadata": {},
   "source": [
    "<div class=\"alert alert-block alert-success\">\n",
    "<b>Éxito</b> <a class=\"tocSkip\"></a>\n",
    "\n",
    "Correcto algoritmo    \n",
    "</div>"
   ]
  },
  {
   "cell_type": "code",
   "execution_count": 73,
   "metadata": {},
   "outputs": [],
   "source": [
    "#Calcularemos el % de aumento si es que hay\n",
    "plan_db['%'] = (plan_db['to_pay'] / plan_db['usd_monthly_pay'])"
   ]
  },
  {
   "cell_type": "code",
   "execution_count": 74,
   "metadata": {},
   "outputs": [
    {
     "name": "stdout",
     "output_type": "stream",
     "text": [
      "<class 'pandas.core.frame.DataFrame'>\n",
      "Int64Index: 2303 entries, 0 to 2302\n",
      "Data columns (total 32 columns):\n",
      " #   Column                       Non-Null Count  Dtype         \n",
      "---  ------                       --------------  -----         \n",
      " 0   user_id                      2303 non-null   int64         \n",
      " 1   month                        2303 non-null   float64       \n",
      " 2   total_calls                  2303 non-null   float64       \n",
      " 3   total_min                    2303 non-null   float64       \n",
      " 4   total_msg                    2303 non-null   float64       \n",
      " 5   total_gb                     2303 non-null   float64       \n",
      " 6   first_name                   2303 non-null   object        \n",
      " 7   last_name                    2303 non-null   object        \n",
      " 8   age                          2303 non-null   int64         \n",
      " 9   city                         2303 non-null   object        \n",
      " 10  reg_date                     2303 non-null   datetime64[ns]\n",
      " 11  plan_name                    2303 non-null   object        \n",
      " 12  churn_date                   2303 non-null   datetime64[ns]\n",
      " 13  reg_month                    2303 non-null   int64         \n",
      " 14  reg_day                      2303 non-null   int64         \n",
      " 15  reg_year                     2303 non-null   int64         \n",
      " 16  messages_per_month_included  2303 non-null   int64         \n",
      " 17  mb_per_month_included        2303 non-null   int64         \n",
      " 18  minutes_per_month_included   2303 non-null   int64         \n",
      " 19  usd_monthly_pay              2303 non-null   int64         \n",
      " 20  usd_per_gb                   2303 non-null   int64         \n",
      " 21  usd_per_message              2303 non-null   float64       \n",
      " 22  usd_per_minute               2303 non-null   float64       \n",
      " 23  gb_per_month_included        2303 non-null   float64       \n",
      " 24  min_over                     2303 non-null   float64       \n",
      " 25  msg_over                     2303 non-null   float64       \n",
      " 26  int_over                     2303 non-null   float64       \n",
      " 27  call_over_price              2303 non-null   float64       \n",
      " 28  msg_over_price               2303 non-null   float64       \n",
      " 29  int_over_price               2303 non-null   float64       \n",
      " 30  to_pay                       2303 non-null   float64       \n",
      " 31  %                            2303 non-null   float64       \n",
      "dtypes: datetime64[ns](2), float64(16), int64(10), object(4)\n",
      "memory usage: 593.7+ KB\n"
     ]
    }
   ],
   "source": [
    "plan_db.info()"
   ]
  },
  {
   "cell_type": "markdown",
   "metadata": {},
   "source": [
    "## Estudia el comportamiento del usuario"
   ]
  },
  {
   "cell_type": "markdown",
   "metadata": {},
   "source": [
    "### Llamadas"
   ]
  },
  {
   "cell_type": "markdown",
   "metadata": {},
   "source": [
    "<div class=\"alert alert-block alert-info\">\n",
    "<b>Respuesta del estudiante.</b> <a class=\"tocSkip\"></a>\n",
    "    \n",
    "Eliminamos la tabla creada anteriormente, adelante de las observaciones tenemos ya las correciones donde corresponden"
   ]
  },
  {
   "cell_type": "markdown",
   "metadata": {},
   "source": [
    "<div class=\"alert alert-block alert-danger\">\n",
    "\n",
    "<b>A resolver</b> <a class=\"tocSkip\"></a>\n",
    "\n",
    "~~Esto es innecesario. Ya hiciste tu tabla plan_db que debe tener toda la información que necesitas. Úsala aquí.~~\n",
    "\n",
    "~~**ESTA CORRECCIÓN APLICA PARA TODO TU PROYECTO-**~~\n",
    "</div>"
   ]
  },
  {
   "cell_type": "code",
   "execution_count": 75,
   "metadata": {},
   "outputs": [],
   "source": [
    "tr = plan_db"
   ]
  },
  {
   "cell_type": "code",
   "execution_count": 76,
   "metadata": {},
   "outputs": [],
   "source": [
    "tr = tr.pivot_table(index=['plan_name','month'],\n",
    "                       aggfunc='sum').reset_index()\n",
    "tr.drop([0,13],axis=0,inplace=True)"
   ]
  },
  {
   "cell_type": "code",
   "execution_count": 77,
   "metadata": {},
   "outputs": [],
   "source": [
    "tr['month'] = tr['month'].astype('int')"
   ]
  },
  {
   "cell_type": "code",
   "execution_count": 78,
   "metadata": {
    "scrolled": false
   },
   "outputs": [
    {
     "data": {
      "text/html": [
       "<div>\n",
       "<style scoped>\n",
       "    .dataframe tbody tr th:only-of-type {\n",
       "        vertical-align: middle;\n",
       "    }\n",
       "\n",
       "    .dataframe tbody tr th {\n",
       "        vertical-align: top;\n",
       "    }\n",
       "\n",
       "    .dataframe thead th {\n",
       "        text-align: right;\n",
       "    }\n",
       "</style>\n",
       "<table border=\"1\" class=\"dataframe\">\n",
       "  <thead>\n",
       "    <tr style=\"text-align: right;\">\n",
       "      <th></th>\n",
       "      <th>plan_name</th>\n",
       "      <th>month</th>\n",
       "      <th>%</th>\n",
       "      <th>age</th>\n",
       "      <th>call_over_price</th>\n",
       "      <th>gb_per_month_included</th>\n",
       "      <th>int_over</th>\n",
       "      <th>int_over_price</th>\n",
       "      <th>mb_per_month_included</th>\n",
       "      <th>messages_per_month_included</th>\n",
       "      <th>...</th>\n",
       "      <th>to_pay</th>\n",
       "      <th>total_calls</th>\n",
       "      <th>total_gb</th>\n",
       "      <th>total_min</th>\n",
       "      <th>total_msg</th>\n",
       "      <th>usd_monthly_pay</th>\n",
       "      <th>usd_per_gb</th>\n",
       "      <th>usd_per_message</th>\n",
       "      <th>usd_per_minute</th>\n",
       "      <th>user_id</th>\n",
       "    </tr>\n",
       "  </thead>\n",
       "  <tbody>\n",
       "    <tr>\n",
       "      <th>1</th>\n",
       "      <td>surf</td>\n",
       "      <td>1</td>\n",
       "      <td>2.0000</td>\n",
       "      <td>105</td>\n",
       "      <td>0.00</td>\n",
       "      <td>30.0</td>\n",
       "      <td>0.0</td>\n",
       "      <td>0.0</td>\n",
       "      <td>30720</td>\n",
       "      <td>100</td>\n",
       "      <td>...</td>\n",
       "      <td>40.00</td>\n",
       "      <td>60.0</td>\n",
       "      <td>10.0</td>\n",
       "      <td>406.0</td>\n",
       "      <td>21.0</td>\n",
       "      <td>40</td>\n",
       "      <td>20</td>\n",
       "      <td>0.06</td>\n",
       "      <td>0.06</td>\n",
       "      <td>2404</td>\n",
       "    </tr>\n",
       "    <tr>\n",
       "      <th>2</th>\n",
       "      <td>surf</td>\n",
       "      <td>2</td>\n",
       "      <td>15.4785</td>\n",
       "      <td>430</td>\n",
       "      <td>9.33</td>\n",
       "      <td>135.0</td>\n",
       "      <td>12.0</td>\n",
       "      <td>120.0</td>\n",
       "      <td>138240</td>\n",
       "      <td>450</td>\n",
       "      <td>...</td>\n",
       "      <td>309.57</td>\n",
       "      <td>366.0</td>\n",
       "      <td>110.0</td>\n",
       "      <td>2673.0</td>\n",
       "      <td>108.0</td>\n",
       "      <td>180</td>\n",
       "      <td>90</td>\n",
       "      <td>0.27</td>\n",
       "      <td>0.27</td>\n",
       "      <td>11338</td>\n",
       "    </tr>\n",
       "    <tr>\n",
       "      <th>3</th>\n",
       "      <td>surf</td>\n",
       "      <td>3</td>\n",
       "      <td>52.8325</td>\n",
       "      <td>1109</td>\n",
       "      <td>16.26</td>\n",
       "      <td>345.0</td>\n",
       "      <td>58.0</td>\n",
       "      <td>580.0</td>\n",
       "      <td>353280</td>\n",
       "      <td>1150</td>\n",
       "      <td>...</td>\n",
       "      <td>1056.65</td>\n",
       "      <td>1068.0</td>\n",
       "      <td>312.0</td>\n",
       "      <td>7590.0</td>\n",
       "      <td>351.0</td>\n",
       "      <td>460</td>\n",
       "      <td>230</td>\n",
       "      <td>0.69</td>\n",
       "      <td>0.69</td>\n",
       "      <td>29228</td>\n",
       "    </tr>\n",
       "    <tr>\n",
       "      <th>4</th>\n",
       "      <td>surf</td>\n",
       "      <td>4</td>\n",
       "      <td>101.7765</td>\n",
       "      <td>2208</td>\n",
       "      <td>52.92</td>\n",
       "      <td>750.0</td>\n",
       "      <td>98.0</td>\n",
       "      <td>980.0</td>\n",
       "      <td>768000</td>\n",
       "      <td>2500</td>\n",
       "      <td>...</td>\n",
       "      <td>2035.53</td>\n",
       "      <td>2444.0</td>\n",
       "      <td>611.0</td>\n",
       "      <td>17577.0</td>\n",
       "      <td>870.0</td>\n",
       "      <td>1000</td>\n",
       "      <td>500</td>\n",
       "      <td>1.50</td>\n",
       "      <td>1.50</td>\n",
       "      <td>62439</td>\n",
       "    </tr>\n",
       "    <tr>\n",
       "      <th>5</th>\n",
       "      <td>surf</td>\n",
       "      <td>5</td>\n",
       "      <td>183.3685</td>\n",
       "      <td>3473</td>\n",
       "      <td>127.71</td>\n",
       "      <td>1155.0</td>\n",
       "      <td>199.0</td>\n",
       "      <td>1990.0</td>\n",
       "      <td>1182720</td>\n",
       "      <td>3850</td>\n",
       "      <td>...</td>\n",
       "      <td>3667.37</td>\n",
       "      <td>4289.0</td>\n",
       "      <td>1087.0</td>\n",
       "      <td>30768.0</td>\n",
       "      <td>1849.0</td>\n",
       "      <td>1540</td>\n",
       "      <td>770</td>\n",
       "      <td>2.31</td>\n",
       "      <td>2.31</td>\n",
       "      <td>95348</td>\n",
       "    </tr>\n",
       "    <tr>\n",
       "      <th>6</th>\n",
       "      <td>surf</td>\n",
       "      <td>6</td>\n",
       "      <td>238.9900</td>\n",
       "      <td>4306</td>\n",
       "      <td>155.31</td>\n",
       "      <td>1455.0</td>\n",
       "      <td>267.0</td>\n",
       "      <td>2670.0</td>\n",
       "      <td>1489920</td>\n",
       "      <td>4850</td>\n",
       "      <td>...</td>\n",
       "      <td>4779.80</td>\n",
       "      <td>5769.0</td>\n",
       "      <td>1502.0</td>\n",
       "      <td>41836.0</td>\n",
       "      <td>2454.0</td>\n",
       "      <td>1940</td>\n",
       "      <td>970</td>\n",
       "      <td>2.91</td>\n",
       "      <td>2.91</td>\n",
       "      <td>119822</td>\n",
       "    </tr>\n",
       "    <tr>\n",
       "      <th>7</th>\n",
       "      <td>surf</td>\n",
       "      <td>7</td>\n",
       "      <td>379.1780</td>\n",
       "      <td>5258</td>\n",
       "      <td>265.98</td>\n",
       "      <td>1815.0</td>\n",
       "      <td>488.0</td>\n",
       "      <td>4880.0</td>\n",
       "      <td>1858560</td>\n",
       "      <td>6050</td>\n",
       "      <td>...</td>\n",
       "      <td>7583.56</td>\n",
       "      <td>7642.0</td>\n",
       "      <td>2042.0</td>\n",
       "      <td>54448.0</td>\n",
       "      <td>3271.0</td>\n",
       "      <td>2420</td>\n",
       "      <td>1210</td>\n",
       "      <td>3.63</td>\n",
       "      <td>3.63</td>\n",
       "      <td>148939</td>\n",
       "    </tr>\n",
       "    <tr>\n",
       "      <th>8</th>\n",
       "      <td>surf</td>\n",
       "      <td>8</td>\n",
       "      <td>517.8425</td>\n",
       "      <td>7083</td>\n",
       "      <td>267.66</td>\n",
       "      <td>2430.0</td>\n",
       "      <td>682.0</td>\n",
       "      <td>6820.0</td>\n",
       "      <td>2488320</td>\n",
       "      <td>8100</td>\n",
       "      <td>...</td>\n",
       "      <td>10356.85</td>\n",
       "      <td>9325.0</td>\n",
       "      <td>2735.0</td>\n",
       "      <td>66438.0</td>\n",
       "      <td>4662.0</td>\n",
       "      <td>3240</td>\n",
       "      <td>1620</td>\n",
       "      <td>4.86</td>\n",
       "      <td>4.86</td>\n",
       "      <td>199675</td>\n",
       "    </tr>\n",
       "    <tr>\n",
       "      <th>9</th>\n",
       "      <td>surf</td>\n",
       "      <td>9</td>\n",
       "      <td>565.2335</td>\n",
       "      <td>8559</td>\n",
       "      <td>278.58</td>\n",
       "      <td>2910.0</td>\n",
       "      <td>711.0</td>\n",
       "      <td>7110.0</td>\n",
       "      <td>2979840</td>\n",
       "      <td>9700</td>\n",
       "      <td>...</td>\n",
       "      <td>11304.67</td>\n",
       "      <td>11273.0</td>\n",
       "      <td>3238.0</td>\n",
       "      <td>80360.0</td>\n",
       "      <td>5968.0</td>\n",
       "      <td>3880</td>\n",
       "      <td>1940</td>\n",
       "      <td>5.82</td>\n",
       "      <td>5.82</td>\n",
       "      <td>241472</td>\n",
       "    </tr>\n",
       "    <tr>\n",
       "      <th>10</th>\n",
       "      <td>surf</td>\n",
       "      <td>10</td>\n",
       "      <td>775.2415</td>\n",
       "      <td>10484</td>\n",
       "      <td>425.25</td>\n",
       "      <td>3555.0</td>\n",
       "      <td>1028.0</td>\n",
       "      <td>10280.0</td>\n",
       "      <td>3640320</td>\n",
       "      <td>11850</td>\n",
       "      <td>...</td>\n",
       "      <td>15504.83</td>\n",
       "      <td>14303.0</td>\n",
       "      <td>4126.0</td>\n",
       "      <td>101846.0</td>\n",
       "      <td>8020.0</td>\n",
       "      <td>4740</td>\n",
       "      <td>2370</td>\n",
       "      <td>7.11</td>\n",
       "      <td>7.11</td>\n",
       "      <td>295550</td>\n",
       "    </tr>\n",
       "    <tr>\n",
       "      <th>11</th>\n",
       "      <td>surf</td>\n",
       "      <td>11</td>\n",
       "      <td>820.7605</td>\n",
       "      <td>12573</td>\n",
       "      <td>495.57</td>\n",
       "      <td>4245.0</td>\n",
       "      <td>1020.0</td>\n",
       "      <td>10200.0</td>\n",
       "      <td>4346880</td>\n",
       "      <td>14150</td>\n",
       "      <td>...</td>\n",
       "      <td>16415.21</td>\n",
       "      <td>16731.0</td>\n",
       "      <td>4650.0</td>\n",
       "      <td>119801.0</td>\n",
       "      <td>9165.0</td>\n",
       "      <td>5660</td>\n",
       "      <td>2830</td>\n",
       "      <td>8.49</td>\n",
       "      <td>8.49</td>\n",
       "      <td>352999</td>\n",
       "    </tr>\n",
       "    <tr>\n",
       "      <th>12</th>\n",
       "      <td>surf</td>\n",
       "      <td>12</td>\n",
       "      <td>1121.8570</td>\n",
       "      <td>14221</td>\n",
       "      <td>805.68</td>\n",
       "      <td>4770.0</td>\n",
       "      <td>1517.0</td>\n",
       "      <td>15170.0</td>\n",
       "      <td>4884480</td>\n",
       "      <td>15900</td>\n",
       "      <td>...</td>\n",
       "      <td>22437.14</td>\n",
       "      <td>20814.0</td>\n",
       "      <td>5800.0</td>\n",
       "      <td>150680.0</td>\n",
       "      <td>12275.0</td>\n",
       "      <td>6360</td>\n",
       "      <td>3180</td>\n",
       "      <td>9.54</td>\n",
       "      <td>9.54</td>\n",
       "      <td>395640</td>\n",
       "    </tr>\n",
       "    <tr>\n",
       "      <th>14</th>\n",
       "      <td>ultimate</td>\n",
       "      <td>1</td>\n",
       "      <td>4.0000</td>\n",
       "      <td>150</td>\n",
       "      <td>0.00</td>\n",
       "      <td>120.0</td>\n",
       "      <td>0.0</td>\n",
       "      <td>0.0</td>\n",
       "      <td>122880</td>\n",
       "      <td>4000</td>\n",
       "      <td>...</td>\n",
       "      <td>280.00</td>\n",
       "      <td>112.0</td>\n",
       "      <td>29.0</td>\n",
       "      <td>774.0</td>\n",
       "      <td>62.0</td>\n",
       "      <td>280</td>\n",
       "      <td>28</td>\n",
       "      <td>0.04</td>\n",
       "      <td>0.04</td>\n",
       "      <td>4672</td>\n",
       "    </tr>\n",
       "    <tr>\n",
       "      <th>15</th>\n",
       "      <td>ultimate</td>\n",
       "      <td>2</td>\n",
       "      <td>7.0000</td>\n",
       "      <td>295</td>\n",
       "      <td>0.00</td>\n",
       "      <td>210.0</td>\n",
       "      <td>0.0</td>\n",
       "      <td>0.0</td>\n",
       "      <td>215040</td>\n",
       "      <td>7000</td>\n",
       "      <td>...</td>\n",
       "      <td>490.00</td>\n",
       "      <td>408.0</td>\n",
       "      <td>121.0</td>\n",
       "      <td>2822.0</td>\n",
       "      <td>151.0</td>\n",
       "      <td>490</td>\n",
       "      <td>49</td>\n",
       "      <td>0.07</td>\n",
       "      <td>0.07</td>\n",
       "      <td>8101</td>\n",
       "    </tr>\n",
       "    <tr>\n",
       "      <th>16</th>\n",
       "      <td>ultimate</td>\n",
       "      <td>3</td>\n",
       "      <td>12.8000</td>\n",
       "      <td>515</td>\n",
       "      <td>0.00</td>\n",
       "      <td>360.0</td>\n",
       "      <td>8.0</td>\n",
       "      <td>56.0</td>\n",
       "      <td>368640</td>\n",
       "      <td>12000</td>\n",
       "      <td>...</td>\n",
       "      <td>896.00</td>\n",
       "      <td>552.0</td>\n",
       "      <td>221.0</td>\n",
       "      <td>3651.0</td>\n",
       "      <td>243.0</td>\n",
       "      <td>840</td>\n",
       "      <td>84</td>\n",
       "      <td>0.12</td>\n",
       "      <td>0.12</td>\n",
       "      <td>14102</td>\n",
       "    </tr>\n",
       "    <tr>\n",
       "      <th>17</th>\n",
       "      <td>ultimate</td>\n",
       "      <td>4</td>\n",
       "      <td>21.9000</td>\n",
       "      <td>980</td>\n",
       "      <td>0.00</td>\n",
       "      <td>630.0</td>\n",
       "      <td>9.0</td>\n",
       "      <td>63.0</td>\n",
       "      <td>645120</td>\n",
       "      <td>21000</td>\n",
       "      <td>...</td>\n",
       "      <td>1533.00</td>\n",
       "      <td>998.0</td>\n",
       "      <td>343.0</td>\n",
       "      <td>7074.0</td>\n",
       "      <td>463.0</td>\n",
       "      <td>1470</td>\n",
       "      <td>147</td>\n",
       "      <td>0.21</td>\n",
       "      <td>0.21</td>\n",
       "      <td>25101</td>\n",
       "    </tr>\n",
       "    <tr>\n",
       "      <th>18</th>\n",
       "      <td>ultimate</td>\n",
       "      <td>5</td>\n",
       "      <td>29.3000</td>\n",
       "      <td>1417</td>\n",
       "      <td>0.00</td>\n",
       "      <td>870.0</td>\n",
       "      <td>3.0</td>\n",
       "      <td>21.0</td>\n",
       "      <td>890880</td>\n",
       "      <td>29000</td>\n",
       "      <td>...</td>\n",
       "      <td>2051.00</td>\n",
       "      <td>1670.0</td>\n",
       "      <td>489.0</td>\n",
       "      <td>11781.0</td>\n",
       "      <td>931.0</td>\n",
       "      <td>2030</td>\n",
       "      <td>203</td>\n",
       "      <td>0.29</td>\n",
       "      <td>0.29</td>\n",
       "      <td>35537</td>\n",
       "    </tr>\n",
       "    <tr>\n",
       "      <th>19</th>\n",
       "      <td>ultimate</td>\n",
       "      <td>6</td>\n",
       "      <td>48.1000</td>\n",
       "      <td>2388</td>\n",
       "      <td>0.00</td>\n",
       "      <td>1410.0</td>\n",
       "      <td>11.0</td>\n",
       "      <td>77.0</td>\n",
       "      <td>1443840</td>\n",
       "      <td>47000</td>\n",
       "      <td>...</td>\n",
       "      <td>3367.00</td>\n",
       "      <td>2452.0</td>\n",
       "      <td>725.0</td>\n",
       "      <td>17435.0</td>\n",
       "      <td>1379.0</td>\n",
       "      <td>3290</td>\n",
       "      <td>329</td>\n",
       "      <td>0.47</td>\n",
       "      <td>0.47</td>\n",
       "      <td>58196</td>\n",
       "    </tr>\n",
       "    <tr>\n",
       "      <th>20</th>\n",
       "      <td>ultimate</td>\n",
       "      <td>7</td>\n",
       "      <td>60.6000</td>\n",
       "      <td>3026</td>\n",
       "      <td>0.00</td>\n",
       "      <td>1770.0</td>\n",
       "      <td>16.0</td>\n",
       "      <td>112.0</td>\n",
       "      <td>1812480</td>\n",
       "      <td>59000</td>\n",
       "      <td>...</td>\n",
       "      <td>4242.00</td>\n",
       "      <td>3463.0</td>\n",
       "      <td>973.0</td>\n",
       "      <td>25197.0</td>\n",
       "      <td>1937.0</td>\n",
       "      <td>4130</td>\n",
       "      <td>413</td>\n",
       "      <td>0.59</td>\n",
       "      <td>0.59</td>\n",
       "      <td>73714</td>\n",
       "    </tr>\n",
       "    <tr>\n",
       "      <th>21</th>\n",
       "      <td>ultimate</td>\n",
       "      <td>8</td>\n",
       "      <td>73.9000</td>\n",
       "      <td>3584</td>\n",
       "      <td>0.00</td>\n",
       "      <td>2130.0</td>\n",
       "      <td>29.0</td>\n",
       "      <td>203.0</td>\n",
       "      <td>2181120</td>\n",
       "      <td>71000</td>\n",
       "      <td>...</td>\n",
       "      <td>5173.00</td>\n",
       "      <td>4265.0</td>\n",
       "      <td>1267.0</td>\n",
       "      <td>29922.0</td>\n",
       "      <td>2732.0</td>\n",
       "      <td>4970</td>\n",
       "      <td>497</td>\n",
       "      <td>0.71</td>\n",
       "      <td>0.71</td>\n",
       "      <td>89517</td>\n",
       "    </tr>\n",
       "    <tr>\n",
       "      <th>22</th>\n",
       "      <td>ultimate</td>\n",
       "      <td>9</td>\n",
       "      <td>88.5000</td>\n",
       "      <td>4127</td>\n",
       "      <td>0.00</td>\n",
       "      <td>2580.0</td>\n",
       "      <td>25.0</td>\n",
       "      <td>175.0</td>\n",
       "      <td>2641920</td>\n",
       "      <td>86000</td>\n",
       "      <td>...</td>\n",
       "      <td>6195.00</td>\n",
       "      <td>5250.0</td>\n",
       "      <td>1463.0</td>\n",
       "      <td>37626.0</td>\n",
       "      <td>3259.0</td>\n",
       "      <td>6020</td>\n",
       "      <td>602</td>\n",
       "      <td>0.86</td>\n",
       "      <td>0.86</td>\n",
       "      <td>108845</td>\n",
       "    </tr>\n",
       "    <tr>\n",
       "      <th>23</th>\n",
       "      <td>ultimate</td>\n",
       "      <td>10</td>\n",
       "      <td>109.5000</td>\n",
       "      <td>4908</td>\n",
       "      <td>0.00</td>\n",
       "      <td>3180.0</td>\n",
       "      <td>35.0</td>\n",
       "      <td>245.0</td>\n",
       "      <td>3256320</td>\n",
       "      <td>106000</td>\n",
       "      <td>...</td>\n",
       "      <td>7665.00</td>\n",
       "      <td>6761.0</td>\n",
       "      <td>1878.0</td>\n",
       "      <td>47778.0</td>\n",
       "      <td>4181.0</td>\n",
       "      <td>7420</td>\n",
       "      <td>742</td>\n",
       "      <td>1.06</td>\n",
       "      <td>1.06</td>\n",
       "      <td>133895</td>\n",
       "    </tr>\n",
       "    <tr>\n",
       "      <th>24</th>\n",
       "      <td>ultimate</td>\n",
       "      <td>11</td>\n",
       "      <td>130.1000</td>\n",
       "      <td>5972</td>\n",
       "      <td>0.00</td>\n",
       "      <td>3810.0</td>\n",
       "      <td>31.0</td>\n",
       "      <td>217.0</td>\n",
       "      <td>3901440</td>\n",
       "      <td>127000</td>\n",
       "      <td>...</td>\n",
       "      <td>9107.00</td>\n",
       "      <td>7920.0</td>\n",
       "      <td>2174.0</td>\n",
       "      <td>56540.0</td>\n",
       "      <td>4903.0</td>\n",
       "      <td>8890</td>\n",
       "      <td>889</td>\n",
       "      <td>1.27</td>\n",
       "      <td>1.27</td>\n",
       "      <td>160717</td>\n",
       "    </tr>\n",
       "    <tr>\n",
       "      <th>25</th>\n",
       "      <td>ultimate</td>\n",
       "      <td>12</td>\n",
       "      <td>158.1000</td>\n",
       "      <td>6996</td>\n",
       "      <td>0.00</td>\n",
       "      <td>4530.0</td>\n",
       "      <td>71.0</td>\n",
       "      <td>497.0</td>\n",
       "      <td>4638720</td>\n",
       "      <td>151000</td>\n",
       "      <td>...</td>\n",
       "      <td>11067.00</td>\n",
       "      <td>9800.0</td>\n",
       "      <td>2778.0</td>\n",
       "      <td>69324.0</td>\n",
       "      <td>6796.0</td>\n",
       "      <td>10570</td>\n",
       "      <td>1057</td>\n",
       "      <td>1.51</td>\n",
       "      <td>1.51</td>\n",
       "      <td>190001</td>\n",
       "    </tr>\n",
       "  </tbody>\n",
       "</table>\n",
       "<p>24 rows × 27 columns</p>\n",
       "</div>"
      ],
      "text/plain": [
       "   plan_name  month          %    age  call_over_price  gb_per_month_included  \\\n",
       "1       surf      1     2.0000    105             0.00                   30.0   \n",
       "2       surf      2    15.4785    430             9.33                  135.0   \n",
       "3       surf      3    52.8325   1109            16.26                  345.0   \n",
       "4       surf      4   101.7765   2208            52.92                  750.0   \n",
       "5       surf      5   183.3685   3473           127.71                 1155.0   \n",
       "6       surf      6   238.9900   4306           155.31                 1455.0   \n",
       "7       surf      7   379.1780   5258           265.98                 1815.0   \n",
       "8       surf      8   517.8425   7083           267.66                 2430.0   \n",
       "9       surf      9   565.2335   8559           278.58                 2910.0   \n",
       "10      surf     10   775.2415  10484           425.25                 3555.0   \n",
       "11      surf     11   820.7605  12573           495.57                 4245.0   \n",
       "12      surf     12  1121.8570  14221           805.68                 4770.0   \n",
       "14  ultimate      1     4.0000    150             0.00                  120.0   \n",
       "15  ultimate      2     7.0000    295             0.00                  210.0   \n",
       "16  ultimate      3    12.8000    515             0.00                  360.0   \n",
       "17  ultimate      4    21.9000    980             0.00                  630.0   \n",
       "18  ultimate      5    29.3000   1417             0.00                  870.0   \n",
       "19  ultimate      6    48.1000   2388             0.00                 1410.0   \n",
       "20  ultimate      7    60.6000   3026             0.00                 1770.0   \n",
       "21  ultimate      8    73.9000   3584             0.00                 2130.0   \n",
       "22  ultimate      9    88.5000   4127             0.00                 2580.0   \n",
       "23  ultimate     10   109.5000   4908             0.00                 3180.0   \n",
       "24  ultimate     11   130.1000   5972             0.00                 3810.0   \n",
       "25  ultimate     12   158.1000   6996             0.00                 4530.0   \n",
       "\n",
       "    int_over  int_over_price  mb_per_month_included  \\\n",
       "1        0.0             0.0                  30720   \n",
       "2       12.0           120.0                 138240   \n",
       "3       58.0           580.0                 353280   \n",
       "4       98.0           980.0                 768000   \n",
       "5      199.0          1990.0                1182720   \n",
       "6      267.0          2670.0                1489920   \n",
       "7      488.0          4880.0                1858560   \n",
       "8      682.0          6820.0                2488320   \n",
       "9      711.0          7110.0                2979840   \n",
       "10    1028.0         10280.0                3640320   \n",
       "11    1020.0         10200.0                4346880   \n",
       "12    1517.0         15170.0                4884480   \n",
       "14       0.0             0.0                 122880   \n",
       "15       0.0             0.0                 215040   \n",
       "16       8.0            56.0                 368640   \n",
       "17       9.0            63.0                 645120   \n",
       "18       3.0            21.0                 890880   \n",
       "19      11.0            77.0                1443840   \n",
       "20      16.0           112.0                1812480   \n",
       "21      29.0           203.0                2181120   \n",
       "22      25.0           175.0                2641920   \n",
       "23      35.0           245.0                3256320   \n",
       "24      31.0           217.0                3901440   \n",
       "25      71.0           497.0                4638720   \n",
       "\n",
       "    messages_per_month_included  ...    to_pay  total_calls  total_gb  \\\n",
       "1                           100  ...     40.00         60.0      10.0   \n",
       "2                           450  ...    309.57        366.0     110.0   \n",
       "3                          1150  ...   1056.65       1068.0     312.0   \n",
       "4                          2500  ...   2035.53       2444.0     611.0   \n",
       "5                          3850  ...   3667.37       4289.0    1087.0   \n",
       "6                          4850  ...   4779.80       5769.0    1502.0   \n",
       "7                          6050  ...   7583.56       7642.0    2042.0   \n",
       "8                          8100  ...  10356.85       9325.0    2735.0   \n",
       "9                          9700  ...  11304.67      11273.0    3238.0   \n",
       "10                        11850  ...  15504.83      14303.0    4126.0   \n",
       "11                        14150  ...  16415.21      16731.0    4650.0   \n",
       "12                        15900  ...  22437.14      20814.0    5800.0   \n",
       "14                         4000  ...    280.00        112.0      29.0   \n",
       "15                         7000  ...    490.00        408.0     121.0   \n",
       "16                        12000  ...    896.00        552.0     221.0   \n",
       "17                        21000  ...   1533.00        998.0     343.0   \n",
       "18                        29000  ...   2051.00       1670.0     489.0   \n",
       "19                        47000  ...   3367.00       2452.0     725.0   \n",
       "20                        59000  ...   4242.00       3463.0     973.0   \n",
       "21                        71000  ...   5173.00       4265.0    1267.0   \n",
       "22                        86000  ...   6195.00       5250.0    1463.0   \n",
       "23                       106000  ...   7665.00       6761.0    1878.0   \n",
       "24                       127000  ...   9107.00       7920.0    2174.0   \n",
       "25                       151000  ...  11067.00       9800.0    2778.0   \n",
       "\n",
       "    total_min  total_msg  usd_monthly_pay  usd_per_gb  usd_per_message  \\\n",
       "1       406.0       21.0               40          20             0.06   \n",
       "2      2673.0      108.0              180          90             0.27   \n",
       "3      7590.0      351.0              460         230             0.69   \n",
       "4     17577.0      870.0             1000         500             1.50   \n",
       "5     30768.0     1849.0             1540         770             2.31   \n",
       "6     41836.0     2454.0             1940         970             2.91   \n",
       "7     54448.0     3271.0             2420        1210             3.63   \n",
       "8     66438.0     4662.0             3240        1620             4.86   \n",
       "9     80360.0     5968.0             3880        1940             5.82   \n",
       "10   101846.0     8020.0             4740        2370             7.11   \n",
       "11   119801.0     9165.0             5660        2830             8.49   \n",
       "12   150680.0    12275.0             6360        3180             9.54   \n",
       "14      774.0       62.0              280          28             0.04   \n",
       "15     2822.0      151.0              490          49             0.07   \n",
       "16     3651.0      243.0              840          84             0.12   \n",
       "17     7074.0      463.0             1470         147             0.21   \n",
       "18    11781.0      931.0             2030         203             0.29   \n",
       "19    17435.0     1379.0             3290         329             0.47   \n",
       "20    25197.0     1937.0             4130         413             0.59   \n",
       "21    29922.0     2732.0             4970         497             0.71   \n",
       "22    37626.0     3259.0             6020         602             0.86   \n",
       "23    47778.0     4181.0             7420         742             1.06   \n",
       "24    56540.0     4903.0             8890         889             1.27   \n",
       "25    69324.0     6796.0            10570        1057             1.51   \n",
       "\n",
       "    usd_per_minute  user_id  \n",
       "1             0.06     2404  \n",
       "2             0.27    11338  \n",
       "3             0.69    29228  \n",
       "4             1.50    62439  \n",
       "5             2.31    95348  \n",
       "6             2.91   119822  \n",
       "7             3.63   148939  \n",
       "8             4.86   199675  \n",
       "9             5.82   241472  \n",
       "10            7.11   295550  \n",
       "11            8.49   352999  \n",
       "12            9.54   395640  \n",
       "14            0.04     4672  \n",
       "15            0.07     8101  \n",
       "16            0.12    14102  \n",
       "17            0.21    25101  \n",
       "18            0.29    35537  \n",
       "19            0.47    58196  \n",
       "20            0.59    73714  \n",
       "21            0.71    89517  \n",
       "22            0.86   108845  \n",
       "23            1.06   133895  \n",
       "24            1.27   160717  \n",
       "25            1.51   190001  \n",
       "\n",
       "[24 rows x 27 columns]"
      ]
     },
     "metadata": {},
     "output_type": "display_data"
    }
   ],
   "source": [
    "display(tr)"
   ]
  },
  {
   "cell_type": "markdown",
   "metadata": {},
   "source": [
    "<div class=\"alert alert-block alert-info\">\n",
    "<b>Respuesta del estudiante v3.</b> <a class=\"tocSkip\"></a>\n",
    "    \n",
    "Corregido, y se hicieron las graficas en apoyo con el tutor, encontramos que es la forma mas directa de graficar"
   ]
  },
  {
   "cell_type": "markdown",
   "metadata": {},
   "source": [
    "<div class=\"alert alert-block alert-danger\">\n",
    "\n",
    "<b>A resolver</b> <a class=\"tocSkip\"></a>\n",
    "\n",
    "~~Todo lo hecho en esta sección no era lo que se tenía en mente que hicieras. Como viste en el curso, los histogramas se hacen de todos los datos \"en bruto\", sin agregar.~~ \n",
    "\n",
    "~~En tu tabla `plan_db`, si seguiste las correcciones previas adecuadamente, habrá una columna con los minutos mensuales de cada usuario cada mes, y otra columna con el conteo de llamadas mensuales de cada usuario cada mes. **De cada una de estas columnas directamente tienes que hacer histogramas**, sin hacer agregaciones ni tablas dinámicas ni nada. Hay que hacer un histograma para cada plan. Y hay que hacer los cálculos del promedio, y la desviación estándar y la varianza de cada una de estas columnas directamente, para cada plan. Y no olvides tus comentarios.~~\n",
    "    \n",
    "    \n",
    "~~**ESTAS CORRECCIONES APLICAN TAMBIÉN PARA EL RESTO DEL PROYECTO.**~~\n",
    "</div>"
   ]
  },
  {
   "cell_type": "code",
   "execution_count": 79,
   "metadata": {},
   "outputs": [],
   "source": [
    "# Promedio de duracion de llamadas\n",
    "tr['calls_mean'] = tr['total_min'] / tr['total_calls']"
   ]
  },
  {
   "cell_type": "code",
   "execution_count": 80,
   "metadata": {},
   "outputs": [],
   "source": [
    "# Definimos las tablas con su respectivo plan para calculos generales\n",
    "tr_surf = tr.query('plan_name == \"surf\"')\n",
    "tr_ult = tr.query('plan_name == \"ultimate\"')"
   ]
  },
  {
   "cell_type": "code",
   "execution_count": 81,
   "metadata": {},
   "outputs": [],
   "source": [
    "# Definimos las tablas con su respectivo plan para calculos por usuario\n",
    "user_surf = plan_db.query('plan_name == \"surf\"')\n",
    "user_ult = plan_db.query('plan_name == \"ultimate\"')"
   ]
  },
  {
   "cell_type": "code",
   "execution_count": 82,
   "metadata": {
    "scrolled": false
   },
   "outputs": [
    {
     "data": {
      "image/png": "[encoded data removed]",
      "text/plain": [
       "<Figure size 1080x576 with 1 Axes>"
      ]
     },
     "metadata": {
      "needs_background": "light"
     },
     "output_type": "display_data"
    },
    {
     "data": {
      "image/png": "[encoded data removed]",
      "text/plain": [
       "<Figure size 1080x576 with 1 Axes>"
      ]
     },
     "metadata": {
      "needs_background": "light"
     },
     "output_type": "display_data"
    }
   ],
   "source": [
    "# Compara la duración promedio de llamadas por cada plan por cada mes. Dibuja una gráfica de barras para visualizarlo.\n",
    "tr_surf.plot(x='month',\n",
    "        y='calls_mean',\n",
    "                                                kind='bar',\n",
    "                                                figsize=(15,8),\n",
    "                                                fontsize=12,\n",
    "                                                title='Promedio de duracion de llamadas por mes plan surf',\n",
    "                                                ylabel='Duracion promedio en minutos',\n",
    "                                                xlabel='Mes',\n",
    "                                                grid=True,\n",
    "                                                edgecolor='black',\n",
    "                                                rot=0)\n",
    "tr_ult.plot(x='month',\n",
    "        y='calls_mean',\n",
    "                                                kind='bar',\n",
    "                                                figsize=(15,8),\n",
    "                                                fontsize=12,\n",
    "                                                title='Promedio de duracion de llamadas por mes plan ultimate',\n",
    "                                                ylabel='Duracion promedio en minutos',\n",
    "                                                xlabel='Mes',\n",
    "                                                grid=True,\n",
    "                                                edgecolor='black',\n",
    "                                                rot=0)\n",
    "plt.show()"
   ]
  },
  {
   "cell_type": "markdown",
   "metadata": {},
   "source": [
    "Podemos observar que el promedio de duracion de cada llamada en ambos planes rondan los 7 minutos"
   ]
  },
  {
   "cell_type": "code",
   "execution_count": 83,
   "metadata": {},
   "outputs": [
    {
     "data": {
      "image/png": "[encoded data removed]",
      "text/plain": [
       "<Figure size 1080x576 with 1 Axes>"
      ]
     },
     "metadata": {
      "needs_background": "light"
     },
     "output_type": "display_data"
    },
    {
     "data": {
      "image/png": "[encoded data removed]",
      "text/plain": [
       "<Figure size 1080x576 with 1 Axes>"
      ]
     },
     "metadata": {
      "needs_background": "light"
     },
     "output_type": "display_data"
    }
   ],
   "source": [
    "# Compara la duracion total de llamadas por cada plan por cada mes.\n",
    "tr_surf.plot(x='month',\n",
    "        y='total_min',\n",
    "                                                kind='bar',\n",
    "                                                figsize=(15,8),\n",
    "                                                fontsize=12,\n",
    "                                                title='Duracion total de llamadas por mes plan surf',\n",
    "                                                ylabel='Duracion promedio en minutos',\n",
    "                                                xlabel='Mes',\n",
    "                                                grid=True,\n",
    "                                                edgecolor='black',\n",
    "                                                rot=0)\n",
    "tr_ult.plot(x='month',\n",
    "        y='total_min',\n",
    "                                                kind='bar',\n",
    "                                                figsize=(15,8),\n",
    "                                                fontsize=12,\n",
    "                                                title='Duracion total de llamadas por mes plan ultimate',\n",
    "                                                xlabel='Mes',\n",
    "                                                grid=True,\n",
    "                                                edgecolor='black',\n",
    "                                                rot=0)\n",
    "plt.show()"
   ]
  },
  {
   "cell_type": "markdown",
   "metadata": {},
   "source": [
    "Podemos observar que la duracion total de llamadas por mes es el doble aproximadamente en el plan surf en comparacion con el plan ultimate"
   ]
  },
  {
   "cell_type": "markdown",
   "metadata": {},
   "source": [
    "<div class=\"alert alert-block alert-info\">\n",
    "<b>Respuesta del estudiante. v4</b> <a class=\"tocSkip\"></a>\n",
    "    \n",
    "Corregido"
   ]
  },
  {
   "cell_type": "markdown",
   "metadata": {},
   "source": [
    "<div class=\"alert alert-block alert-danger\">\n",
    "\n",
    "<b>A resolver v3</b> <a class=\"tocSkip\"></a>\n",
    "\n",
    "**Como te dije en las correcciones de la iteración pasada**, no había que hacer agregaciones (esto significa cualquier tipo de tabla dinámica o uso de `.groupby()`), y todo lo que haces arriba usa agregaciones. Entonces por favor remueve **todo** lo de arriba.</div>"
   ]
  },
  {
   "cell_type": "markdown",
   "metadata": {},
   "source": [
    "<div class=\"alert alert-block alert-warning\">\n",
    "\n",
    "<b>Atención v4</b> <a class=\"tocSkip\"></a>\n",
    "\n",
    "No aplicaste la corrección de arriba. Agregas muchas gráficas sin incluir mucha interpretación y como tal no se ve el sentido de agregarlas en tu proyecto, y como no son pedidas en las instrucciones del proyecto, lo mejor sería borrarlas, o bien, agregar más comentarios de tu interpretación de dichas gráficas.\n",
    "\n",
    "Yo en lo personal las eliminaría porque así tu proyecto quedaría más concreto y breve, y lo mismo aplica para las secciones de mensajes e Internet.\n",
    "</div>"
   ]
  },
  {
   "cell_type": "code",
   "execution_count": 84,
   "metadata": {
    "scrolled": false
   },
   "outputs": [
    {
     "data": {
      "image/png": "[encoded data removed]",
      "text/plain": [
       "<Figure size 1080x576 with 1 Axes>"
      ]
     },
     "metadata": {
      "needs_background": "light"
     },
     "output_type": "display_data"
    }
   ],
   "source": [
    "#Mostramos los histogramas superpuestos para ver la comparativa\n",
    "user_surf['total_min'].hist(density=False,bins=50,figsize=(15,8))\n",
    "user_ult['total_min'].hist(density=False,bins=50,figsize=(15,8))\n",
    "plt.title('Comparacion entre plan surf y ultimate')\n",
    "plt.show()"
   ]
  },
  {
   "cell_type": "markdown",
   "metadata": {},
   "source": [
    "Como podemos observar tenemos una tendencia en ambos planes con **sesgo a la derecha o asimetria positiva**, "
   ]
  },
  {
   "cell_type": "code",
   "execution_count": 85,
   "metadata": {
    "scrolled": true
   },
   "outputs": [
    {
     "name": "stdout",
     "output_type": "stream",
     "text": [
      "count        12.000000\n",
      "mean      56201.916667\n",
      "std       49020.029427\n",
      "min         406.000000\n",
      "25%       15080.250000\n",
      "50%       48142.000000\n",
      "75%       85731.500000\n",
      "max      150680.000000\n",
      "Name: total_min, dtype: float64\n",
      "count       12.000000\n",
      "mean     25827.000000\n",
      "std      22846.433388\n",
      "min        774.000000\n",
      "25%       6218.250000\n",
      "50%      21316.000000\n",
      "75%      40164.000000\n",
      "max      69324.000000\n",
      "Name: total_min, dtype: float64\n"
     ]
    }
   ],
   "source": [
    "# Datos generales de los minutos de ambos planes \n",
    "print(tr_surf['total_min'].describe())\n",
    "print(tr_ult['total_min'].describe())"
   ]
  },
  {
   "cell_type": "code",
   "execution_count": 86,
   "metadata": {},
   "outputs": [
    {
     "name": "stdout",
     "output_type": "stream",
     "text": [
      "Varianza plan surf\n",
      "2202716344.5763893\n",
      "\n",
      "Varianza plan ultimate\n",
      "478462892.0\n"
     ]
    }
   ],
   "source": [
    "# Varianza de la duración total mensual de llamadas.\n",
    "print('Varianza plan surf')\n",
    "print(np.var(tr_surf['total_min']))\n",
    "print()\n",
    "print('Varianza plan ultimate')\n",
    "print(np.var(tr_ult['total_min']))"
   ]
  },
  {
   "cell_type": "code",
   "execution_count": 87,
   "metadata": {
    "scrolled": false
   },
   "outputs": [
    {
     "name": "stdout",
     "output_type": "stream",
     "text": [
      "La varianza y el promedio de la duracion de las llamadas al mes por tipo de plan\n"
     ]
    },
    {
     "data": {
      "text/html": [
       "<div>\n",
       "<style scoped>\n",
       "    .dataframe tbody tr th:only-of-type {\n",
       "        vertical-align: middle;\n",
       "    }\n",
       "\n",
       "    .dataframe tbody tr th {\n",
       "        vertical-align: top;\n",
       "    }\n",
       "\n",
       "    .dataframe thead th {\n",
       "        text-align: right;\n",
       "    }\n",
       "</style>\n",
       "<table border=\"1\" class=\"dataframe\">\n",
       "  <thead>\n",
       "    <tr style=\"text-align: right;\">\n",
       "      <th>plan_name</th>\n",
       "      <th>surf</th>\n",
       "      <th>ultimate</th>\n",
       "    </tr>\n",
       "    <tr>\n",
       "      <th>call_month</th>\n",
       "      <th></th>\n",
       "      <th></th>\n",
       "    </tr>\n",
       "  </thead>\n",
       "  <tbody>\n",
       "    <tr>\n",
       "      <th>1</th>\n",
       "      <td>28.995480</td>\n",
       "      <td>37.091055</td>\n",
       "    </tr>\n",
       "    <tr>\n",
       "      <th>2</th>\n",
       "      <td>36.381743</td>\n",
       "      <td>34.597461</td>\n",
       "    </tr>\n",
       "    <tr>\n",
       "      <th>3</th>\n",
       "      <td>33.656824</td>\n",
       "      <td>34.070435</td>\n",
       "    </tr>\n",
       "    <tr>\n",
       "      <th>4</th>\n",
       "      <td>34.754400</td>\n",
       "      <td>33.394424</td>\n",
       "    </tr>\n",
       "    <tr>\n",
       "      <th>5</th>\n",
       "      <td>35.962592</td>\n",
       "      <td>35.733997</td>\n",
       "    </tr>\n",
       "    <tr>\n",
       "      <th>6</th>\n",
       "      <td>36.481110</td>\n",
       "      <td>34.855589</td>\n",
       "    </tr>\n",
       "    <tr>\n",
       "      <th>7</th>\n",
       "      <td>34.794517</td>\n",
       "      <td>35.982694</td>\n",
       "    </tr>\n",
       "    <tr>\n",
       "      <th>8</th>\n",
       "      <td>35.277344</td>\n",
       "      <td>35.078787</td>\n",
       "    </tr>\n",
       "    <tr>\n",
       "      <th>9</th>\n",
       "      <td>36.022955</td>\n",
       "      <td>35.398330</td>\n",
       "    </tr>\n",
       "    <tr>\n",
       "      <th>10</th>\n",
       "      <td>35.133615</td>\n",
       "      <td>35.632088</td>\n",
       "    </tr>\n",
       "    <tr>\n",
       "      <th>11</th>\n",
       "      <td>35.062130</td>\n",
       "      <td>36.062789</td>\n",
       "    </tr>\n",
       "    <tr>\n",
       "      <th>12</th>\n",
       "      <td>36.014007</td>\n",
       "      <td>34.714819</td>\n",
       "    </tr>\n",
       "  </tbody>\n",
       "</table>\n",
       "</div>"
      ],
      "text/plain": [
       "plan_name        surf   ultimate\n",
       "call_month                      \n",
       "1           28.995480  37.091055\n",
       "2           36.381743  34.597461\n",
       "3           33.656824  34.070435\n",
       "4           34.754400  33.394424\n",
       "5           35.962592  35.733997\n",
       "6           36.481110  34.855589\n",
       "7           34.794517  35.982694\n",
       "8           35.277344  35.078787\n",
       "9           36.022955  35.398330\n",
       "10          35.133615  35.632088\n",
       "11          35.062130  36.062789\n",
       "12          36.014007  34.714819"
      ]
     },
     "metadata": {},
     "output_type": "display_data"
    }
   ],
   "source": [
    "# Media y la varianza de la duración mensual de cada llamada por mes.\n",
    "print('La varianza y el promedio de la duracion de las llamadas al mes por tipo de plan')\n",
    "display(calls.pivot_table(index='call_month',values='duration_rounded',columns='plan_name',aggfunc=('var')))"
   ]
  },
  {
   "cell_type": "markdown",
   "metadata": {},
   "source": [
    "<div class=\"alert alert-block alert-info\">\n",
    "<b>Respuesta del estudiante. v4</b> <a class=\"tocSkip\"></a>\n",
    "    \n",
    "Corregido"
   ]
  },
  {
   "cell_type": "markdown",
   "metadata": {},
   "source": [
    "<div class=\"alert alert-block alert-danger\">\n",
    "\n",
    "<b>A resolver v4</b> <a class=\"tocSkip\"></a>\n",
    "\n",
    "Bien, los `.describe()` te permiten ver promedios y desv. estándar, pero como ejercicio se pide calcular también la varianza general de las columnas, tanto de la columna `tr_surf['total_min']` como de `tr_ult['total_min']`</div>"
   ]
  },
  {
   "cell_type": "markdown",
   "metadata": {},
   "source": [
    "Podemos observar que seria dificil describir a simple vista la asimetria del grafico en ambas partes, pero de acuerdo a los datos obtenidos, tenemos que la media es mayor a la mediana en ambas partes, por lo que tenemos un grafico **con asimetria positiva**.\\\n",
    "De igual forma podemos observar que la mayoria de usuarios llegan a usar de 400 a 500 minutos en ambos planes"
   ]
  },
  {
   "cell_type": "markdown",
   "metadata": {},
   "source": [
    "<div class=\"alert alert-block alert-info\">\n",
    "<b>Respuesta del estudiante. v4</b> <a class=\"tocSkip\"></a>\n",
    "    \n",
    "Corregido"
   ]
  },
  {
   "cell_type": "markdown",
   "metadata": {},
   "source": [
    "<div class=\"alert alert-block alert-danger\">\n",
    "\n",
    "<b>A resolver v4</b> <a class=\"tocSkip\"></a>\n",
    "\n",
    "Ok, bien agregar comentarios, sólo falta: dónde ves los picos de tus histogramas? qué puedes decir al respecto?</div>"
   ]
  },
  {
   "cell_type": "markdown",
   "metadata": {},
   "source": [
    "<div class=\"alert alert-block alert-success\">\n",
    "<b>Éxito v3</b> <a class=\"tocSkip\"></a>\n",
    "\n",
    "Éstos de arriba **SÍ** son histogramas correctos!!    \n",
    "</div>"
   ]
  },
  {
   "cell_type": "markdown",
   "metadata": {},
   "source": [
    "<div class=\"alert alert-block alert-danger\">\n",
    "\n",
    "<b>A resolver v3</b> <a class=\"tocSkip\"></a>\n",
    "\n",
    "* ~~Sólo usa **un mayor número de bins** para los histogramas, **como 50**, para poder apreciar en mayor detalle la forma de la distribución.~~\n",
    "\n",
    "* Faltaría una **descripción detallada** en términos técnicos de tus histogramas, de acuerdo a la teoría que viste este sprint. Comenta lo que veas acerca de ellos, por ejemplo, ¿son distribuciones sesgadas hacia la derecha o a la izquierda?, o son distribuciones centrales? Se aprecian muchos valores atípicos? Cerca de qué valor está el pico? en qué se diferencia el histograma del plan Surf y del plan Ultimate? **Lo más importante de mostrar un histograma es tu interpretación del mismo.**\n",
    "</div>"
   ]
  },
  {
   "cell_type": "markdown",
   "metadata": {},
   "source": [
    "<div class=\"alert alert-block alert-danger\">\n",
    "\n",
    "<b>A resolver v3</b> <a class=\"tocSkip\"></a>\n",
    "\n",
    "~~Faltaría hacer los cálculos del **promedio, la desv. estándar y la varianza que se te piden**. Al igual que los histogramas, debes de hacer el cálculo de toda la columna. Por ejemplo, el promedio de cada plan se calcularía simplemente así:~~\n",
    "    \n",
    "`surf_minutes_mean = calls_surf['total_min'].mean()\n",
    "ultimate_minutes_mean = calls_ult['total_min'].mean()`\n",
    "    \n",
    "    \n",
    "~~**Y haz tus comentarios al respecto de estos datos estadísticos.**~~\n",
    "    \n",
    "</div>"
   ]
  },
  {
   "cell_type": "code",
   "execution_count": 88,
   "metadata": {
    "scrolled": false
   },
   "outputs": [
    {
     "name": "stdout",
     "output_type": "stream",
     "text": [
      "Diagramas de caja para el plan surf\n"
     ]
    },
    {
     "data": {
      "image/png": "[encoded data removed]",
      "text/plain": [
       "<Figure size 1080x576 with 1 Axes>"
      ]
     },
     "metadata": {
      "needs_background": "light"
     },
     "output_type": "display_data"
    }
   ],
   "source": [
    "# Traza un diagrama de caja para visualizar la distribución de la duración mensual de llamadas.\n",
    "print('Diagramas de caja para el plan surf')\n",
    "calls.query('plan_name == \"surf\"').boxplot(column='duration_rounded',by='call_month',figsize=(15,8),fontsize=15)\n",
    "plt.title('Promedio de llamadas por mes plan surf')\n",
    "plt.xlabel('Mes')\n",
    "plt.ylabel('Promedio de duracion de llamadas')\n",
    "plt.show()"
   ]
  },
  {
   "cell_type": "code",
   "execution_count": 89,
   "metadata": {},
   "outputs": [
    {
     "name": "stdout",
     "output_type": "stream",
     "text": [
      "Diagramas de caja para el plan ultimate\n"
     ]
    },
    {
     "data": {
      "image/png": "[encoded data removed]",
      "text/plain": [
       "<Figure size 1080x576 with 1 Axes>"
      ]
     },
     "metadata": {
      "needs_background": "light"
     },
     "output_type": "display_data"
    }
   ],
   "source": [
    "print('Diagramas de caja para el plan ultimate')\n",
    "calls.query('plan_name == \"ultimate\"').boxplot(column='duration_rounded',by='call_month',figsize=(15,8),fontsize=15)\n",
    "plt.title('Promedio de llamadas por mes plan ultimate')\n",
    "plt.xlabel('Mes')\n",
    "plt.ylabel('Promedio de duracion de llamadas')\n",
    "plt.show()"
   ]
  },
  {
   "cell_type": "markdown",
   "metadata": {},
   "source": [
    "De acuerdo al analisis en cuanto a llamadas, los usuario se comportan de manera muy similar, en cuanto a duracion de llamadas, podemos observar que la media de la duracion de las llamadas es alrededor de 7 min para ambos planes, siendo que rara vez tenemos llamadas con una duracion mayor o igual a 25 minutos; sin embargo, se tienen mas minutos utilizados por usuarios del plan surf de aproximadamente el doble."
   ]
  },
  {
   "cell_type": "markdown",
   "metadata": {},
   "source": [
    " "
   ]
  },
  {
   "cell_type": "markdown",
   "metadata": {},
   "source": [
    "### Mensajes"
   ]
  },
  {
   "cell_type": "markdown",
   "metadata": {},
   "source": [
    "<div class=\"alert alert-block alert-info\">\n",
    "<b>Respuesta del estudiante. v3</b> <a class=\"tocSkip\"></a>\n",
    "    \n",
    "Corregido"
   ]
  },
  {
   "cell_type": "markdown",
   "metadata": {},
   "source": [
    "<div class=\"alert alert-block alert-danger\">\n",
    "\n",
    "<b>A resolver v3</b> <a class=\"tocSkip\"></a>\n",
    "\n",
    "~~Esta sección de los mensajes **tiene que ser análoga a la sección anterior, la de los minutos**. Aplica las mismas correcciones que te digo ahí.~~</div>"
   ]
  },
  {
   "cell_type": "code",
   "execution_count": 90,
   "metadata": {},
   "outputs": [
    {
     "data": {
      "image/png": "[encoded data removed]",
      "text/plain": [
       "<Figure size 1080x576 with 1 Axes>"
      ]
     },
     "metadata": {
      "needs_background": "light"
     },
     "output_type": "display_data"
    },
    {
     "data": {
      "image/png": "[encoded data removed]",
      "text/plain": [
       "<Figure size 1080x576 with 1 Axes>"
      ]
     },
     "metadata": {
      "needs_background": "light"
     },
     "output_type": "display_data"
    }
   ],
   "source": [
    "# Comprara el número de mensajes que tienden a enviar cada mes los usuarios de cada plan\n",
    "tr_surf.plot(x='month',\n",
    "        y='total_msg',\n",
    "                                                kind='bar',\n",
    "                                                figsize=(15,8),\n",
    "                                                fontsize=12,\n",
    "                                                title='Total de mensajes por mes plan ultimate',\n",
    "                                                ylabel='Mensajes totales',\n",
    "                                                xlabel='Mes',\n",
    "                                                grid=True,\n",
    "                                                edgecolor='black',\n",
    "                                                rot=0)\n",
    "tr_ult.plot(x='month',\n",
    "        y='total_msg',\n",
    "                                                kind='bar',\n",
    "                                                figsize=(15,8),\n",
    "                                                fontsize=12,\n",
    "                                                title='Total de mensajes por mes plan ultimate',\n",
    "                                                ylabel='Mensajes totales',\n",
    "                                                xlabel='Mes',\n",
    "                                                grid=True,\n",
    "                                                edgecolor='black',\n",
    "                                                rot=0)\n",
    "plt.show()"
   ]
  },
  {
   "cell_type": "markdown",
   "metadata": {},
   "source": [
    "Como podemos observar a traves del analisis, se tiene un envio significativo y mayor de mensajes de los usuarios de los planes de surf en comparacion con los usuarios del plan ultimate, ya que apartir del mes 4(Abril), se tiene casi una proporcion 2:1 en cuanto numero de mensajes enviados entre planes, es decir, el doble de mensajes enviados por usuarios del plan Surf."
   ]
  },
  {
   "cell_type": "code",
   "execution_count": 91,
   "metadata": {
    "scrolled": false
   },
   "outputs": [
    {
     "data": {
      "image/png": "[encoded data removed]",
      "text/plain": [
       "<Figure size 1080x576 with 1 Axes>"
      ]
     },
     "metadata": {
      "needs_background": "light"
     },
     "output_type": "display_data"
    }
   ],
   "source": [
    "#Mostramos los histogramas superpuestos para ver la comparativa\n",
    "user_surf['total_msg'].hist(density=False,bins=50,figsize=(15,8))\n",
    "user_ult['total_msg'].hist(density=False,bins=50,figsize=(15,8))\n",
    "plt.title('Comparacion entre plan surf y ultimate')\n",
    "plt.show()"
   ]
  },
  {
   "cell_type": "markdown",
   "metadata": {},
   "source": [
    "Como podemos observar tenemos una tendencia en ambos planes con **sesgo a la derecha o asimetria positiva**, en el histograma podemos ver valores cerca del 0, esto no quiere decir que no hayan mensajes, sino que, gran parte de los usuarios utiliza de 1 a 12 mensajes."
   ]
  },
  {
   "cell_type": "markdown",
   "metadata": {},
   "source": [
    "<div class=\"alert alert-block alert-info\">\n",
    "<b>Respuesta del estudiante. v4</b> <a class=\"tocSkip\"></a>\n",
    "    \n",
    "Corregido"
   ]
  },
  {
   "cell_type": "markdown",
   "metadata": {},
   "source": [
    "<div class=\"alert alert-block alert-danger\">\n",
    "\n",
    "<b>A resolver v4</b> <a class=\"tocSkip\"></a>\n",
    "\n",
    "* Aquí arriba también tenemos un amplio rango de datos y para analizarlo bien hay que tener un no. mayor de bins, como de 50.\n",
    "\n",
    "* Podemos ver los picos de los histogramas cerca de cero, esto es poco común e interesante. Comenta al respecto de esto.\n",
    "</div>"
   ]
  },
  {
   "cell_type": "code",
   "execution_count": 92,
   "metadata": {
    "scrolled": false
   },
   "outputs": [
    {
     "name": "stdout",
     "output_type": "stream",
     "text": [
      "count       12.000000\n",
      "mean      4084.500000\n",
      "std       4013.379884\n",
      "min         21.000000\n",
      "25%        740.250000\n",
      "50%       2862.500000\n",
      "75%       6481.000000\n",
      "max      12275.000000\n",
      "Name: total_msg, dtype: float64\n",
      "count      12.000000\n",
      "mean     2253.083333\n",
      "std      2167.833248\n",
      "min        62.000000\n",
      "25%       408.000000\n",
      "50%      1658.000000\n",
      "75%      3489.500000\n",
      "max      6796.000000\n",
      "Name: total_msg, dtype: float64\n"
     ]
    }
   ],
   "source": [
    "# Datos generales de los mensajes de ambos planes \n",
    "print(tr_surf['total_msg'].describe())\n",
    "print(tr_ult['total_msg'].describe())"
   ]
  },
  {
   "cell_type": "markdown",
   "metadata": {},
   "source": [
    "Como podemos observar tenemos una tendencia en ambos planes con **sesgo a la derecha o asimetria positiva** y podemos comprobarlo con los datos de la columna"
   ]
  },
  {
   "cell_type": "code",
   "execution_count": 93,
   "metadata": {},
   "outputs": [
    {
     "name": "stdout",
     "output_type": "stream",
     "text": [
      "Varianza plan surf\n",
      "14764949.916666666\n",
      "\n",
      "Varianza plan ultimate\n",
      "4307875.909722221\n"
     ]
    }
   ],
   "source": [
    "# Varianza de la cantidad total mensual de mensajes.\n",
    "print('Varianza plan surf')\n",
    "print(np.var(tr_surf['total_msg']))\n",
    "print()\n",
    "print('Varianza plan ultimate')\n",
    "print(np.var(tr_ult['total_msg']))"
   ]
  },
  {
   "cell_type": "code",
   "execution_count": 94,
   "metadata": {
    "scrolled": false
   },
   "outputs": [
    {
     "name": "stdout",
     "output_type": "stream",
     "text": [
      "La varianza y el promedio de la duracion de las llamadas al mes por tipo de plan\n"
     ]
    },
    {
     "data": {
      "text/html": [
       "<div>\n",
       "<style scoped>\n",
       "    .dataframe tbody tr th:only-of-type {\n",
       "        vertical-align: middle;\n",
       "    }\n",
       "\n",
       "    .dataframe tbody tr th {\n",
       "        vertical-align: top;\n",
       "    }\n",
       "\n",
       "    .dataframe thead tr th {\n",
       "        text-align: left;\n",
       "    }\n",
       "\n",
       "    .dataframe thead tr:last-of-type th {\n",
       "        text-align: right;\n",
       "    }\n",
       "</style>\n",
       "<table border=\"1\" class=\"dataframe\">\n",
       "  <thead>\n",
       "    <tr>\n",
       "      <th></th>\n",
       "      <th colspan=\"2\" halign=\"left\">mean</th>\n",
       "      <th colspan=\"2\" halign=\"left\">var</th>\n",
       "    </tr>\n",
       "    <tr>\n",
       "      <th>plan_name</th>\n",
       "      <th>surf</th>\n",
       "      <th>ultimate</th>\n",
       "      <th>surf</th>\n",
       "      <th>ultimate</th>\n",
       "    </tr>\n",
       "    <tr>\n",
       "      <th>month</th>\n",
       "      <th></th>\n",
       "      <th></th>\n",
       "      <th></th>\n",
       "      <th></th>\n",
       "    </tr>\n",
       "  </thead>\n",
       "  <tbody>\n",
       "    <tr>\n",
       "      <th>0.0</th>\n",
       "      <td>0.000000</td>\n",
       "      <td>0.000000</td>\n",
       "      <td>0.000000</td>\n",
       "      <td>0.000000</td>\n",
       "    </tr>\n",
       "    <tr>\n",
       "      <th>1.0</th>\n",
       "      <td>10.500000</td>\n",
       "      <td>15.500000</td>\n",
       "      <td>220.500000</td>\n",
       "      <td>313.666667</td>\n",
       "    </tr>\n",
       "    <tr>\n",
       "      <th>2.0</th>\n",
       "      <td>12.000000</td>\n",
       "      <td>21.571429</td>\n",
       "      <td>386.000000</td>\n",
       "      <td>478.285714</td>\n",
       "    </tr>\n",
       "    <tr>\n",
       "      <th>3.0</th>\n",
       "      <td>15.260870</td>\n",
       "      <td>20.250000</td>\n",
       "      <td>346.565217</td>\n",
       "      <td>654.386364</td>\n",
       "    </tr>\n",
       "    <tr>\n",
       "      <th>4.0</th>\n",
       "      <td>17.400000</td>\n",
       "      <td>22.047619</td>\n",
       "      <td>501.591837</td>\n",
       "      <td>544.147619</td>\n",
       "    </tr>\n",
       "    <tr>\n",
       "      <th>5.0</th>\n",
       "      <td>24.012987</td>\n",
       "      <td>32.103448</td>\n",
       "      <td>847.197198</td>\n",
       "      <td>1297.310345</td>\n",
       "    </tr>\n",
       "    <tr>\n",
       "      <th>6.0</th>\n",
       "      <td>25.298969</td>\n",
       "      <td>29.340426</td>\n",
       "      <td>914.920103</td>\n",
       "      <td>857.620722</td>\n",
       "    </tr>\n",
       "    <tr>\n",
       "      <th>7.0</th>\n",
       "      <td>27.033058</td>\n",
       "      <td>32.830508</td>\n",
       "      <td>923.915565</td>\n",
       "      <td>960.488019</td>\n",
       "    </tr>\n",
       "    <tr>\n",
       "      <th>8.0</th>\n",
       "      <td>28.777778</td>\n",
       "      <td>38.478873</td>\n",
       "      <td>1029.515528</td>\n",
       "      <td>1196.367404</td>\n",
       "    </tr>\n",
       "    <tr>\n",
       "      <th>9.0</th>\n",
       "      <td>30.762887</td>\n",
       "      <td>37.895349</td>\n",
       "      <td>1003.829496</td>\n",
       "      <td>1050.918331</td>\n",
       "    </tr>\n",
       "    <tr>\n",
       "      <th>10.0</th>\n",
       "      <td>33.839662</td>\n",
       "      <td>39.443396</td>\n",
       "      <td>1275.465708</td>\n",
       "      <td>1221.106289</td>\n",
       "    </tr>\n",
       "    <tr>\n",
       "      <th>11.0</th>\n",
       "      <td>32.385159</td>\n",
       "      <td>38.606299</td>\n",
       "      <td>1065.344034</td>\n",
       "      <td>1232.669166</td>\n",
       "    </tr>\n",
       "    <tr>\n",
       "      <th>12.0</th>\n",
       "      <td>38.600629</td>\n",
       "      <td>45.006623</td>\n",
       "      <td>1458.158612</td>\n",
       "      <td>1549.419956</td>\n",
       "    </tr>\n",
       "  </tbody>\n",
       "</table>\n",
       "</div>"
      ],
      "text/plain": [
       "                mean                     var             \n",
       "plan_name       surf   ultimate         surf     ultimate\n",
       "month                                                    \n",
       "0.0         0.000000   0.000000     0.000000     0.000000\n",
       "1.0        10.500000  15.500000   220.500000   313.666667\n",
       "2.0        12.000000  21.571429   386.000000   478.285714\n",
       "3.0        15.260870  20.250000   346.565217   654.386364\n",
       "4.0        17.400000  22.047619   501.591837   544.147619\n",
       "5.0        24.012987  32.103448   847.197198  1297.310345\n",
       "6.0        25.298969  29.340426   914.920103   857.620722\n",
       "7.0        27.033058  32.830508   923.915565   960.488019\n",
       "8.0        28.777778  38.478873  1029.515528  1196.367404\n",
       "9.0        30.762887  37.895349  1003.829496  1050.918331\n",
       "10.0       33.839662  39.443396  1275.465708  1221.106289\n",
       "11.0       32.385159  38.606299  1065.344034  1232.669166\n",
       "12.0       38.600629  45.006623  1458.158612  1549.419956"
      ]
     },
     "metadata": {},
     "output_type": "display_data"
    }
   ],
   "source": [
    "# Varianza de la cantidad de mensajes por mes y por plan.\n",
    "print('La varianza y el promedio de la duracion de las llamadas al mes por tipo de plan')\n",
    "display(plan_db.pivot_table(index='month',values='total_msg',columns='plan_name',aggfunc=('var','mean')))"
   ]
  },
  {
   "cell_type": "markdown",
   "metadata": {},
   "source": [
    "<div class=\"alert alert-block alert-info\">\n",
    "<b>Respuesta del estudiante. v4</b> <a class=\"tocSkip\"></a>\n",
    "    \n",
    "Corregido"
   ]
  },
  {
   "cell_type": "markdown",
   "metadata": {},
   "source": [
    "<div class=\"alert alert-block alert-danger\">\n",
    "\n",
    "<b>A resolver v4</b> <a class=\"tocSkip\"></a>\n",
    "\n",
    "Aquí también agrega los cálculos de las varianzas generales.</div>"
   ]
  },
  {
   "cell_type": "markdown",
   "metadata": {},
   "source": [
    "### Internet"
   ]
  },
  {
   "cell_type": "code",
   "execution_count": 95,
   "metadata": {},
   "outputs": [
    {
     "data": {
      "image/png": "[encoded data removed]",
      "text/plain": [
       "<Figure size 1080x576 with 1 Axes>"
      ]
     },
     "metadata": {
      "needs_background": "light"
     },
     "output_type": "display_data"
    },
    {
     "data": {
      "image/png": "[encoded data removed]",
      "text/plain": [
       "<Figure size 1080x576 with 1 Axes>"
      ]
     },
     "metadata": {
      "needs_background": "light"
     },
     "output_type": "display_data"
    }
   ],
   "source": [
    "# Compara la cantidad de tráfico de internet consumido por usuarios por plan\n",
    "tr_surf.plot(x='month',\n",
    "        y='total_gb',\n",
    "                                                kind='bar',\n",
    "                                                figsize=(15,8),\n",
    "                                                fontsize=12,\n",
    "                                                title='Consumo de gb por mes plan surf',\n",
    "                                                ylabel='Consumo de gb',\n",
    "                                                xlabel='Mes',\n",
    "                                                grid=True,\n",
    "                                                edgecolor='black',\n",
    "                                                rot=0)\n",
    "tr_ult.plot(x='month',\n",
    "        y='total_gb',\n",
    "                                                kind='bar',\n",
    "                                                figsize=(15,8),\n",
    "                                                fontsize=12,\n",
    "                                                title='Consumo de gb por mes plan surf',\n",
    "                                                ylabel='Consumo de gb',\n",
    "                                                xlabel='Mes',\n",
    "                                                grid=True,\n",
    "                                                edgecolor='black',\n",
    "                                                rot=0)\n",
    "plt.show()"
   ]
  },
  {
   "cell_type": "markdown",
   "metadata": {},
   "source": [
    "Podemos observar que los usuarios de plan surf tienden a consumir el doble de gb que los usuarios del plan ultimate"
   ]
  },
  {
   "cell_type": "markdown",
   "metadata": {},
   "source": [
    "Como podemos observar tenemos una tendencia en ambos planes con **sesgo a la derecha o asimetria positiva** "
   ]
  },
  {
   "cell_type": "markdown",
   "metadata": {},
   "source": [
    "<div class=\"alert alert-block alert-info\">\n",
    "<b>Respuesta del estudiante. v4</b> <a class=\"tocSkip\"></a>\n",
    "    \n",
    "Corregido, los calculos se tienen dos pasos abajo"
   ]
  },
  {
   "cell_type": "markdown",
   "metadata": {},
   "source": [
    "<div class=\"alert alert-block alert-danger\">\n",
    "\n",
    "<b>A resolver v4</b> <a class=\"tocSkip\"></a>\n",
    "\n",
    "Necesitamos aquí también los cálculos generales de las varianzas.</div>"
   ]
  },
  {
   "cell_type": "code",
   "execution_count": 96,
   "metadata": {
    "scrolled": false
   },
   "outputs": [
    {
     "data": {
      "image/png": "[encoded data removed]",
      "text/plain": [
       "<Figure size 1080x576 with 1 Axes>"
      ]
     },
     "metadata": {
      "needs_background": "light"
     },
     "output_type": "display_data"
    }
   ],
   "source": [
    "#Mostramos los histogramas superpuestos para ver la comparativa de los gb utilizados por plan\n",
    "user_surf['total_gb'].hist(density=False,bins=25,figsize=(15,8))\n",
    "user_ult['total_gb'].hist(density=False,bins=25,figsize=(15,8))\n",
    "plt.title('Comparacion entre plan surf y ultimate')\n",
    "plt.show()"
   ]
  },
  {
   "cell_type": "markdown",
   "metadata": {},
   "source": [
    "Podemos observar de acuerdo a los datos que para el plan surf tenemos una **asimetria negativa**  donde la mayoria de usuarios usan de 16 a 19 gb; mientras que usuarios del plan ultimate con un **histograma simetrico** observamos que la mayoria de usuario usan de 16 a 18 gb"
   ]
  },
  {
   "cell_type": "markdown",
   "metadata": {},
   "source": [
    "<div class=\"alert alert-block alert-danger\">\n",
    "\n",
    "<b>A resolver v4</b> <a class=\"tocSkip\"></a>\n",
    "\n",
    "Dónde ves los picos de tus histogramas? qué puedes decir al respecto?</div>"
   ]
  },
  {
   "cell_type": "code",
   "execution_count": 97,
   "metadata": {
    "scrolled": false
   },
   "outputs": [
    {
     "name": "stdout",
     "output_type": "stream",
     "text": [
      "Datos de plan surf\n",
      "count      12.000000\n",
      "mean     2185.250000\n",
      "std      1931.500506\n",
      "min        10.000000\n",
      "25%       536.250000\n",
      "50%      1772.000000\n",
      "75%      3460.000000\n",
      "max      5800.000000\n",
      "Name: total_gb, dtype: float64\n",
      "Datos de plan ultimate\n",
      "count      12.000000\n",
      "mean     1038.416667\n",
      "std       887.787798\n",
      "min        29.000000\n",
      "25%       312.500000\n",
      "50%       849.000000\n",
      "75%      1566.750000\n",
      "max      2778.000000\n",
      "Name: total_gb, dtype: float64\n"
     ]
    }
   ],
   "source": [
    "# Datos generales de los gb de ambos planes \n",
    "print('Datos de plan surf')\n",
    "print(tr_surf['total_gb'].describe())\n",
    "print('Datos de plan ultimate')\n",
    "print(tr_ult['total_gb'].describe())"
   ]
  },
  {
   "cell_type": "code",
   "execution_count": 98,
   "metadata": {},
   "outputs": [
    {
     "name": "stdout",
     "output_type": "stream",
     "text": [
      "Varianza plan surf\n",
      "3419803.0208333335\n",
      "\n",
      "Varianza plan ultimate\n",
      "722486.576388889\n"
     ]
    }
   ],
   "source": [
    "# Varianza de la cantidad total mensual de gb.\n",
    "print('Varianza plan surf')\n",
    "print(np.var(tr_surf['total_gb']))\n",
    "print()\n",
    "print('Varianza plan ultimate')\n",
    "print(np.var(tr_ult['total_gb']))"
   ]
  },
  {
   "cell_type": "code",
   "execution_count": 99,
   "metadata": {},
   "outputs": [
    {
     "name": "stdout",
     "output_type": "stream",
     "text": [
      "La varianza y el promedio de duracion de cada secion al mes por tipo de plan\n"
     ]
    },
    {
     "data": {
      "text/html": [
       "<div>\n",
       "<style scoped>\n",
       "    .dataframe tbody tr th:only-of-type {\n",
       "        vertical-align: middle;\n",
       "    }\n",
       "\n",
       "    .dataframe tbody tr th {\n",
       "        vertical-align: top;\n",
       "    }\n",
       "\n",
       "    .dataframe thead tr th {\n",
       "        text-align: left;\n",
       "    }\n",
       "\n",
       "    .dataframe thead tr:last-of-type th {\n",
       "        text-align: right;\n",
       "    }\n",
       "</style>\n",
       "<table border=\"1\" class=\"dataframe\">\n",
       "  <thead>\n",
       "    <tr>\n",
       "      <th></th>\n",
       "      <th colspan=\"2\" halign=\"left\">mean</th>\n",
       "      <th colspan=\"2\" halign=\"left\">var</th>\n",
       "    </tr>\n",
       "    <tr>\n",
       "      <th>plan_name</th>\n",
       "      <th>surf</th>\n",
       "      <th>ultimate</th>\n",
       "      <th>surf</th>\n",
       "      <th>ultimate</th>\n",
       "    </tr>\n",
       "    <tr>\n",
       "      <th>session_month</th>\n",
       "      <th></th>\n",
       "      <th></th>\n",
       "      <th></th>\n",
       "      <th></th>\n",
       "    </tr>\n",
       "  </thead>\n",
       "  <tbody>\n",
       "    <tr>\n",
       "      <th>1</th>\n",
       "      <td>0.317374</td>\n",
       "      <td>0.409451</td>\n",
       "      <td>0.088838</td>\n",
       "      <td>0.081636</td>\n",
       "    </tr>\n",
       "    <tr>\n",
       "      <th>2</th>\n",
       "      <td>0.347534</td>\n",
       "      <td>0.395579</td>\n",
       "      <td>0.066264</td>\n",
       "      <td>0.074422</td>\n",
       "    </tr>\n",
       "    <tr>\n",
       "      <th>3</th>\n",
       "      <td>0.365996</td>\n",
       "      <td>0.415291</td>\n",
       "      <td>0.077581</td>\n",
       "      <td>0.085130</td>\n",
       "    </tr>\n",
       "    <tr>\n",
       "      <th>4</th>\n",
       "      <td>0.352298</td>\n",
       "      <td>0.368584</td>\n",
       "      <td>0.072899</td>\n",
       "      <td>0.074986</td>\n",
       "    </tr>\n",
       "    <tr>\n",
       "      <th>5</th>\n",
       "      <td>0.350719</td>\n",
       "      <td>0.362162</td>\n",
       "      <td>0.072169</td>\n",
       "      <td>0.075805</td>\n",
       "    </tr>\n",
       "    <tr>\n",
       "      <th>6</th>\n",
       "      <td>0.349015</td>\n",
       "      <td>0.369741</td>\n",
       "      <td>0.072554</td>\n",
       "      <td>0.077526</td>\n",
       "    </tr>\n",
       "    <tr>\n",
       "      <th>7</th>\n",
       "      <td>0.360520</td>\n",
       "      <td>0.360958</td>\n",
       "      <td>0.073479</td>\n",
       "      <td>0.072482</td>\n",
       "    </tr>\n",
       "    <tr>\n",
       "      <th>8</th>\n",
       "      <td>0.362197</td>\n",
       "      <td>0.365228</td>\n",
       "      <td>0.072749</td>\n",
       "      <td>0.075169</td>\n",
       "    </tr>\n",
       "    <tr>\n",
       "      <th>9</th>\n",
       "      <td>0.355899</td>\n",
       "      <td>0.366376</td>\n",
       "      <td>0.072851</td>\n",
       "      <td>0.075430</td>\n",
       "    </tr>\n",
       "    <tr>\n",
       "      <th>10</th>\n",
       "      <td>0.356906</td>\n",
       "      <td>0.367057</td>\n",
       "      <td>0.071564</td>\n",
       "      <td>0.074278</td>\n",
       "    </tr>\n",
       "    <tr>\n",
       "      <th>11</th>\n",
       "      <td>0.351767</td>\n",
       "      <td>0.363360</td>\n",
       "      <td>0.072166</td>\n",
       "      <td>0.073853</td>\n",
       "    </tr>\n",
       "    <tr>\n",
       "      <th>12</th>\n",
       "      <td>0.354261</td>\n",
       "      <td>0.355661</td>\n",
       "      <td>0.073330</td>\n",
       "      <td>0.073063</td>\n",
       "    </tr>\n",
       "  </tbody>\n",
       "</table>\n",
       "</div>"
      ],
      "text/plain": [
       "                   mean                 var          \n",
       "plan_name          surf  ultimate      surf  ultimate\n",
       "session_month                                        \n",
       "1              0.317374  0.409451  0.088838  0.081636\n",
       "2              0.347534  0.395579  0.066264  0.074422\n",
       "3              0.365996  0.415291  0.077581  0.085130\n",
       "4              0.352298  0.368584  0.072899  0.074986\n",
       "5              0.350719  0.362162  0.072169  0.075805\n",
       "6              0.349015  0.369741  0.072554  0.077526\n",
       "7              0.360520  0.360958  0.073479  0.072482\n",
       "8              0.362197  0.365228  0.072749  0.075169\n",
       "9              0.355899  0.366376  0.072851  0.075430\n",
       "10             0.356906  0.367057  0.071564  0.074278\n",
       "11             0.351767  0.363360  0.072166  0.073853\n",
       "12             0.354261  0.355661  0.073330  0.073063"
      ]
     },
     "metadata": {},
     "output_type": "display_data"
    }
   ],
   "source": [
    "# Media y la varianza de la duración mensual de sesiones.\n",
    "print('La varianza y el promedio de duracion de cada secion al mes por tipo de plan')\n",
    "display(inter.pivot_table(index='session_month',values='gb_used',columns='plan_name',aggfunc=('var','mean')))"
   ]
  },
  {
   "cell_type": "code",
   "execution_count": 100,
   "metadata": {},
   "outputs": [
    {
     "name": "stdout",
     "output_type": "stream",
     "text": [
      "Diagramas de caja para el plan surf, promedio por sesion\n"
     ]
    },
    {
     "data": {
      "image/png": "[encoded data removed]",
      "text/plain": [
       "<Figure size 1080x576 with 1 Axes>"
      ]
     },
     "metadata": {
      "needs_background": "light"
     },
     "output_type": "display_data"
    }
   ],
   "source": [
    "print('Diagramas de caja para el plan surf, promedio por sesion')\n",
    "inter.query('plan_name == \"surf\"').boxplot(column='gb_used',by='session_month',figsize=(15,8),fontsize=15)\n",
    "plt.show()"
   ]
  },
  {
   "cell_type": "code",
   "execution_count": 101,
   "metadata": {},
   "outputs": [
    {
     "name": "stdout",
     "output_type": "stream",
     "text": [
      "Diagramas de caja para el plan surf, promedio por sesion\n"
     ]
    },
    {
     "data": {
      "image/png": "[encoded data removed]",
      "text/plain": [
       "<Figure size 1080x576 with 1 Axes>"
      ]
     },
     "metadata": {
      "needs_background": "light"
     },
     "output_type": "display_data"
    }
   ],
   "source": [
    "print('Diagramas de caja para el plan surf, promedio por sesion')\n",
    "inter.query('plan_name == \"ultimate\"').boxplot(column='gb_used',by='session_month',figsize=(15,8),fontsize=15)\n",
    "plt.show()"
   ]
  },
  {
   "cell_type": "markdown",
   "metadata": {},
   "source": [
    "Como podemos observar, el consumo de internet en mucho mayor en los usuarios con planes surf, podemos observar un consumo 2:1 entre planes, es decir, se consume el doble de internet en el plan surf a partir del mes 4(abril), lo que podriamos pensar que es una desventaja para el usuario, y una ganancia para la empresa en cuanto ingresos, el cual comprobaremos mas adelante."
   ]
  },
  {
   "cell_type": "markdown",
   "metadata": {},
   "source": [
    "<div class=\"alert alert-block alert-danger\">\n",
    "\n",
    "<b>A resolver</b> <a class=\"tocSkip\"></a>\n",
    "\n",
    "~~Falta una sección como las de arriba pero **para el Internet.**~~</div>"
   ]
  },
  {
   "cell_type": "markdown",
   "metadata": {},
   "source": [
    "<div class=\"alert alert-block alert-info\">\n",
    "<b>Respuesta del estudiante. v3</b> <a class=\"tocSkip\"></a>\n",
    "    \n",
    "Corregido"
   ]
  },
  {
   "cell_type": "markdown",
   "metadata": {},
   "source": [
    "<div class=\"alert alert-block alert-danger\">\n",
    "\n",
    "<b>A resolver v3</b> <a class=\"tocSkip\"></a>\n",
    "\n",
    "~~Sí, me refería a que las instrucciones te piden también analizar la columna `'total_gb'` de `plan_db`. El análisis debe de ser **análogo al análisis que te digo que hagas en la sección 4.12.2 (la sección de los minutos)**.~~ </div>"
   ]
  },
  {
   "cell_type": "markdown",
   "metadata": {},
   "source": [
    "## Ingreso"
   ]
  },
  {
   "cell_type": "code",
   "execution_count": 102,
   "metadata": {},
   "outputs": [
    {
     "data": {
      "text/html": [
       "<div>\n",
       "<style scoped>\n",
       "    .dataframe tbody tr th:only-of-type {\n",
       "        vertical-align: middle;\n",
       "    }\n",
       "\n",
       "    .dataframe tbody tr th {\n",
       "        vertical-align: top;\n",
       "    }\n",
       "\n",
       "    .dataframe thead th {\n",
       "        text-align: right;\n",
       "    }\n",
       "</style>\n",
       "<table border=\"1\" class=\"dataframe\">\n",
       "  <thead>\n",
       "    <tr style=\"text-align: right;\">\n",
       "      <th></th>\n",
       "      <th>plan_name</th>\n",
       "      <th>month</th>\n",
       "      <th>%</th>\n",
       "      <th>age</th>\n",
       "      <th>call_over_price</th>\n",
       "      <th>gb_per_month_included</th>\n",
       "      <th>int_over</th>\n",
       "      <th>int_over_price</th>\n",
       "      <th>mb_per_month_included</th>\n",
       "      <th>messages_per_month_included</th>\n",
       "      <th>...</th>\n",
       "      <th>total_calls</th>\n",
       "      <th>total_gb</th>\n",
       "      <th>total_min</th>\n",
       "      <th>total_msg</th>\n",
       "      <th>usd_monthly_pay</th>\n",
       "      <th>usd_per_gb</th>\n",
       "      <th>usd_per_message</th>\n",
       "      <th>usd_per_minute</th>\n",
       "      <th>user_id</th>\n",
       "      <th>calls_mean</th>\n",
       "    </tr>\n",
       "  </thead>\n",
       "  <tbody>\n",
       "    <tr>\n",
       "      <th>1</th>\n",
       "      <td>surf</td>\n",
       "      <td>1</td>\n",
       "      <td>2.0000</td>\n",
       "      <td>105</td>\n",
       "      <td>0.00</td>\n",
       "      <td>30.0</td>\n",
       "      <td>0.0</td>\n",
       "      <td>0.0</td>\n",
       "      <td>30720</td>\n",
       "      <td>100</td>\n",
       "      <td>...</td>\n",
       "      <td>60.0</td>\n",
       "      <td>10.0</td>\n",
       "      <td>406.0</td>\n",
       "      <td>21.0</td>\n",
       "      <td>40</td>\n",
       "      <td>20</td>\n",
       "      <td>0.06</td>\n",
       "      <td>0.06</td>\n",
       "      <td>2404</td>\n",
       "      <td>6.766667</td>\n",
       "    </tr>\n",
       "    <tr>\n",
       "      <th>2</th>\n",
       "      <td>surf</td>\n",
       "      <td>2</td>\n",
       "      <td>15.4785</td>\n",
       "      <td>430</td>\n",
       "      <td>9.33</td>\n",
       "      <td>135.0</td>\n",
       "      <td>12.0</td>\n",
       "      <td>120.0</td>\n",
       "      <td>138240</td>\n",
       "      <td>450</td>\n",
       "      <td>...</td>\n",
       "      <td>366.0</td>\n",
       "      <td>110.0</td>\n",
       "      <td>2673.0</td>\n",
       "      <td>108.0</td>\n",
       "      <td>180</td>\n",
       "      <td>90</td>\n",
       "      <td>0.27</td>\n",
       "      <td>0.27</td>\n",
       "      <td>11338</td>\n",
       "      <td>7.303279</td>\n",
       "    </tr>\n",
       "    <tr>\n",
       "      <th>3</th>\n",
       "      <td>surf</td>\n",
       "      <td>3</td>\n",
       "      <td>52.8325</td>\n",
       "      <td>1109</td>\n",
       "      <td>16.26</td>\n",
       "      <td>345.0</td>\n",
       "      <td>58.0</td>\n",
       "      <td>580.0</td>\n",
       "      <td>353280</td>\n",
       "      <td>1150</td>\n",
       "      <td>...</td>\n",
       "      <td>1068.0</td>\n",
       "      <td>312.0</td>\n",
       "      <td>7590.0</td>\n",
       "      <td>351.0</td>\n",
       "      <td>460</td>\n",
       "      <td>230</td>\n",
       "      <td>0.69</td>\n",
       "      <td>0.69</td>\n",
       "      <td>29228</td>\n",
       "      <td>7.106742</td>\n",
       "    </tr>\n",
       "    <tr>\n",
       "      <th>4</th>\n",
       "      <td>surf</td>\n",
       "      <td>4</td>\n",
       "      <td>101.7765</td>\n",
       "      <td>2208</td>\n",
       "      <td>52.92</td>\n",
       "      <td>750.0</td>\n",
       "      <td>98.0</td>\n",
       "      <td>980.0</td>\n",
       "      <td>768000</td>\n",
       "      <td>2500</td>\n",
       "      <td>...</td>\n",
       "      <td>2444.0</td>\n",
       "      <td>611.0</td>\n",
       "      <td>17577.0</td>\n",
       "      <td>870.0</td>\n",
       "      <td>1000</td>\n",
       "      <td>500</td>\n",
       "      <td>1.50</td>\n",
       "      <td>1.50</td>\n",
       "      <td>62439</td>\n",
       "      <td>7.191899</td>\n",
       "    </tr>\n",
       "    <tr>\n",
       "      <th>5</th>\n",
       "      <td>surf</td>\n",
       "      <td>5</td>\n",
       "      <td>183.3685</td>\n",
       "      <td>3473</td>\n",
       "      <td>127.71</td>\n",
       "      <td>1155.0</td>\n",
       "      <td>199.0</td>\n",
       "      <td>1990.0</td>\n",
       "      <td>1182720</td>\n",
       "      <td>3850</td>\n",
       "      <td>...</td>\n",
       "      <td>4289.0</td>\n",
       "      <td>1087.0</td>\n",
       "      <td>30768.0</td>\n",
       "      <td>1849.0</td>\n",
       "      <td>1540</td>\n",
       "      <td>770</td>\n",
       "      <td>2.31</td>\n",
       "      <td>2.31</td>\n",
       "      <td>95348</td>\n",
       "      <td>7.173700</td>\n",
       "    </tr>\n",
       "  </tbody>\n",
       "</table>\n",
       "<p>5 rows × 28 columns</p>\n",
       "</div>"
      ],
      "text/plain": [
       "  plan_name  month         %   age  call_over_price  gb_per_month_included  \\\n",
       "1      surf      1    2.0000   105             0.00                   30.0   \n",
       "2      surf      2   15.4785   430             9.33                  135.0   \n",
       "3      surf      3   52.8325  1109            16.26                  345.0   \n",
       "4      surf      4  101.7765  2208            52.92                  750.0   \n",
       "5      surf      5  183.3685  3473           127.71                 1155.0   \n",
       "\n",
       "   int_over  int_over_price  mb_per_month_included  \\\n",
       "1       0.0             0.0                  30720   \n",
       "2      12.0           120.0                 138240   \n",
       "3      58.0           580.0                 353280   \n",
       "4      98.0           980.0                 768000   \n",
       "5     199.0          1990.0                1182720   \n",
       "\n",
       "   messages_per_month_included  ...  total_calls  total_gb  total_min  \\\n",
       "1                          100  ...         60.0      10.0      406.0   \n",
       "2                          450  ...        366.0     110.0     2673.0   \n",
       "3                         1150  ...       1068.0     312.0     7590.0   \n",
       "4                         2500  ...       2444.0     611.0    17577.0   \n",
       "5                         3850  ...       4289.0    1087.0    30768.0   \n",
       "\n",
       "   total_msg  usd_monthly_pay  usd_per_gb  usd_per_message  usd_per_minute  \\\n",
       "1       21.0               40          20             0.06            0.06   \n",
       "2      108.0              180          90             0.27            0.27   \n",
       "3      351.0              460         230             0.69            0.69   \n",
       "4      870.0             1000         500             1.50            1.50   \n",
       "5     1849.0             1540         770             2.31            2.31   \n",
       "\n",
       "   user_id  calls_mean  \n",
       "1     2404    6.766667  \n",
       "2    11338    7.303279  \n",
       "3    29228    7.106742  \n",
       "4    62439    7.191899  \n",
       "5    95348    7.173700  \n",
       "\n",
       "[5 rows x 28 columns]"
      ]
     },
     "execution_count": 102,
     "metadata": {},
     "output_type": "execute_result"
    }
   ],
   "source": [
    "tr.head()"
   ]
  },
  {
   "cell_type": "code",
   "execution_count": 103,
   "metadata": {},
   "outputs": [
    {
     "name": "stdout",
     "output_type": "stream",
     "text": [
      "Total de pago por mes plan surf\n"
     ]
    },
    {
     "data": {
      "text/html": [
       "<div>\n",
       "<style scoped>\n",
       "    .dataframe tbody tr th:only-of-type {\n",
       "        vertical-align: middle;\n",
       "    }\n",
       "\n",
       "    .dataframe tbody tr th {\n",
       "        vertical-align: top;\n",
       "    }\n",
       "\n",
       "    .dataframe thead th {\n",
       "        text-align: right;\n",
       "    }\n",
       "</style>\n",
       "<table border=\"1\" class=\"dataframe\">\n",
       "  <thead>\n",
       "    <tr style=\"text-align: right;\">\n",
       "      <th></th>\n",
       "      <th>month</th>\n",
       "      <th>to_pay</th>\n",
       "    </tr>\n",
       "  </thead>\n",
       "  <tbody>\n",
       "    <tr>\n",
       "      <th>1</th>\n",
       "      <td>1</td>\n",
       "      <td>40.00</td>\n",
       "    </tr>\n",
       "    <tr>\n",
       "      <th>2</th>\n",
       "      <td>2</td>\n",
       "      <td>309.57</td>\n",
       "    </tr>\n",
       "    <tr>\n",
       "      <th>3</th>\n",
       "      <td>3</td>\n",
       "      <td>1056.65</td>\n",
       "    </tr>\n",
       "    <tr>\n",
       "      <th>4</th>\n",
       "      <td>4</td>\n",
       "      <td>2035.53</td>\n",
       "    </tr>\n",
       "    <tr>\n",
       "      <th>5</th>\n",
       "      <td>5</td>\n",
       "      <td>3667.37</td>\n",
       "    </tr>\n",
       "    <tr>\n",
       "      <th>6</th>\n",
       "      <td>6</td>\n",
       "      <td>4779.80</td>\n",
       "    </tr>\n",
       "    <tr>\n",
       "      <th>7</th>\n",
       "      <td>7</td>\n",
       "      <td>7583.56</td>\n",
       "    </tr>\n",
       "    <tr>\n",
       "      <th>8</th>\n",
       "      <td>8</td>\n",
       "      <td>10356.85</td>\n",
       "    </tr>\n",
       "    <tr>\n",
       "      <th>9</th>\n",
       "      <td>9</td>\n",
       "      <td>11304.67</td>\n",
       "    </tr>\n",
       "    <tr>\n",
       "      <th>10</th>\n",
       "      <td>10</td>\n",
       "      <td>15504.83</td>\n",
       "    </tr>\n",
       "    <tr>\n",
       "      <th>11</th>\n",
       "      <td>11</td>\n",
       "      <td>16415.21</td>\n",
       "    </tr>\n",
       "    <tr>\n",
       "      <th>12</th>\n",
       "      <td>12</td>\n",
       "      <td>22437.14</td>\n",
       "    </tr>\n",
       "  </tbody>\n",
       "</table>\n",
       "</div>"
      ],
      "text/plain": [
       "    month    to_pay\n",
       "1       1     40.00\n",
       "2       2    309.57\n",
       "3       3   1056.65\n",
       "4       4   2035.53\n",
       "5       5   3667.37\n",
       "6       6   4779.80\n",
       "7       7   7583.56\n",
       "8       8  10356.85\n",
       "9       9  11304.67\n",
       "10     10  15504.83\n",
       "11     11  16415.21\n",
       "12     12  22437.14"
      ]
     },
     "metadata": {},
     "output_type": "display_data"
    },
    {
     "name": "stdout",
     "output_type": "stream",
     "text": [
      "Total de pago por mes plan ultimate\n"
     ]
    },
    {
     "data": {
      "text/html": [
       "<div>\n",
       "<style scoped>\n",
       "    .dataframe tbody tr th:only-of-type {\n",
       "        vertical-align: middle;\n",
       "    }\n",
       "\n",
       "    .dataframe tbody tr th {\n",
       "        vertical-align: top;\n",
       "    }\n",
       "\n",
       "    .dataframe thead th {\n",
       "        text-align: right;\n",
       "    }\n",
       "</style>\n",
       "<table border=\"1\" class=\"dataframe\">\n",
       "  <thead>\n",
       "    <tr style=\"text-align: right;\">\n",
       "      <th></th>\n",
       "      <th>month</th>\n",
       "      <th>to_pay</th>\n",
       "    </tr>\n",
       "  </thead>\n",
       "  <tbody>\n",
       "    <tr>\n",
       "      <th>14</th>\n",
       "      <td>1</td>\n",
       "      <td>280.0</td>\n",
       "    </tr>\n",
       "    <tr>\n",
       "      <th>15</th>\n",
       "      <td>2</td>\n",
       "      <td>490.0</td>\n",
       "    </tr>\n",
       "    <tr>\n",
       "      <th>16</th>\n",
       "      <td>3</td>\n",
       "      <td>896.0</td>\n",
       "    </tr>\n",
       "    <tr>\n",
       "      <th>17</th>\n",
       "      <td>4</td>\n",
       "      <td>1533.0</td>\n",
       "    </tr>\n",
       "    <tr>\n",
       "      <th>18</th>\n",
       "      <td>5</td>\n",
       "      <td>2051.0</td>\n",
       "    </tr>\n",
       "    <tr>\n",
       "      <th>19</th>\n",
       "      <td>6</td>\n",
       "      <td>3367.0</td>\n",
       "    </tr>\n",
       "    <tr>\n",
       "      <th>20</th>\n",
       "      <td>7</td>\n",
       "      <td>4242.0</td>\n",
       "    </tr>\n",
       "    <tr>\n",
       "      <th>21</th>\n",
       "      <td>8</td>\n",
       "      <td>5173.0</td>\n",
       "    </tr>\n",
       "    <tr>\n",
       "      <th>22</th>\n",
       "      <td>9</td>\n",
       "      <td>6195.0</td>\n",
       "    </tr>\n",
       "    <tr>\n",
       "      <th>23</th>\n",
       "      <td>10</td>\n",
       "      <td>7665.0</td>\n",
       "    </tr>\n",
       "    <tr>\n",
       "      <th>24</th>\n",
       "      <td>11</td>\n",
       "      <td>9107.0</td>\n",
       "    </tr>\n",
       "    <tr>\n",
       "      <th>25</th>\n",
       "      <td>12</td>\n",
       "      <td>11067.0</td>\n",
       "    </tr>\n",
       "  </tbody>\n",
       "</table>\n",
       "</div>"
      ],
      "text/plain": [
       "    month   to_pay\n",
       "14      1    280.0\n",
       "15      2    490.0\n",
       "16      3    896.0\n",
       "17      4   1533.0\n",
       "18      5   2051.0\n",
       "19      6   3367.0\n",
       "20      7   4242.0\n",
       "21      8   5173.0\n",
       "22      9   6195.0\n",
       "23     10   7665.0\n",
       "24     11   9107.0\n",
       "25     12  11067.0"
      ]
     },
     "metadata": {},
     "output_type": "display_data"
    }
   ],
   "source": [
    "# Mostramos el total a pagar por mes y por plan\n",
    "print('Total de pago por mes plan surf')\n",
    "display(tr_surf[['month','to_pay']])\n",
    "print('Total de pago por mes plan ultimate')\n",
    "display(tr_ult[['month','to_pay']])"
   ]
  },
  {
   "cell_type": "code",
   "execution_count": 104,
   "metadata": {},
   "outputs": [
    {
     "data": {
      "image/png": "[encoded data removed]",
      "text/plain": [
       "<Figure size 1080x576 with 1 Axes>"
      ]
     },
     "metadata": {
      "needs_background": "light"
     },
     "output_type": "display_data"
    },
    {
     "data": {
      "image/png": "[encoded data removed]",
      "text/plain": [
       "<Figure size 1080x576 with 1 Axes>"
      ]
     },
     "metadata": {
      "needs_background": "light"
     },
     "output_type": "display_data"
    }
   ],
   "source": [
    "# Compara la cantidad a pagar por usuarios por plan\n",
    "tr_surf.plot(x='month',\n",
    "        y='to_pay',\n",
    "                                                kind='bar',\n",
    "                                                figsize=(15,8),\n",
    "                                                fontsize=12,\n",
    "                                                title='Pago total por mes plan surf',\n",
    "                                                ylabel='Pago total',\n",
    "                                                xlabel='Mes',\n",
    "                                                grid=True,\n",
    "                                                edgecolor='black',\n",
    "                                                rot=0)\n",
    "tr_ult.plot(x='month',\n",
    "        y='to_pay',\n",
    "                                                kind='bar',\n",
    "                                                figsize=(15,8),\n",
    "                                                fontsize=12,\n",
    "                                                title='Pago total por mes plan ultimate',\n",
    "                                                ylabel='Pago total',\n",
    "                                                xlabel='Mes',\n",
    "                                                grid=True,\n",
    "                                                edgecolor='black',\n",
    "                                                rot=0)\n",
    "plt.show()"
   ]
  },
  {
   "cell_type": "markdown",
   "metadata": {},
   "source": [
    "Podemos observar que la cantidad de total de pago es el doble en los usuarios surf en comparacion con el  plan ultimate, esto quiere decir que el plan surf tiene mas entrada de dinero hacia la empresa."
   ]
  },
  {
   "cell_type": "code",
   "execution_count": 105,
   "metadata": {},
   "outputs": [
    {
     "data": {
      "image/png": "[encoded data removed]",
      "text/plain": [
       "<Figure size 1080x576 with 1 Axes>"
      ]
     },
     "metadata": {
      "needs_background": "light"
     },
     "output_type": "display_data"
    }
   ],
   "source": [
    "#Mostramos los histogramas superpuestos para ver la comparativa\n",
    "user_surf['to_pay'].hist(density=False,bins=50,figsize=(15,8))\n",
    "user_ult['to_pay'].hist(density=False,bins=50,figsize=(15,8))\n",
    "plt.title('Comparacion entre plan surf y ultimate')\n",
    "plt.show()"
   ]
  },
  {
   "cell_type": "markdown",
   "metadata": {},
   "source": [
    "Podemos observar que para el plan surf, la mayoria de usuarios paga entre 20 y 50 usd, teeniendo  un pico en pagos totales de 20 a 30usd, sin embargo, podemos observar que los pagos en plan surf son muy variantes, es decir llegan a pagar desde 20 usd hasta mas de 200usd en algunos casos, en cambio los usurios de plan ultimate se mantienen en pagos de 70 usd y pocos valores en los que algunos clientes llegan a pagar mas de esta cantidad. "
   ]
  },
  {
   "cell_type": "code",
   "execution_count": 106,
   "metadata": {
    "scrolled": true
   },
   "outputs": [
    {
     "name": "stdout",
     "output_type": "stream",
     "text": [
      "Media de pago contra pago normal de plan surf\n"
     ]
    },
    {
     "data": {
      "text/plain": [
       "usd_monthly_pay    20.000000\n",
       "to_pay             60.551729\n",
       "dtype: float64"
      ]
     },
     "metadata": {},
     "output_type": "display_data"
    },
    {
     "name": "stdout",
     "output_type": "stream",
     "text": [
      "Media de pago contra pago normal de plan ultimate\n"
     ]
    },
    {
     "data": {
      "text/plain": [
       "usd_monthly_pay    70.000000\n",
       "to_pay             72.301105\n",
       "dtype: float64"
      ]
     },
     "metadata": {},
     "output_type": "display_data"
    }
   ],
   "source": [
    "print('Media de pago contra pago normal de plan surf')\n",
    "display(user_surf[['usd_monthly_pay','to_pay']].mean())\n",
    "\n",
    "print('Media de pago contra pago normal de plan ultimate')\n",
    "display(user_ult[['usd_monthly_pay','to_pay']].mean())\n"
   ]
  },
  {
   "cell_type": "code",
   "execution_count": 107,
   "metadata": {
    "scrolled": false
   },
   "outputs": [
    {
     "name": "stdout",
     "output_type": "stream",
     "text": [
      "Datos de plan surf\n",
      "count       12.000000\n",
      "mean      7957.598333\n",
      "std       7308.944540\n",
      "min         40.000000\n",
      "25%       1790.810000\n",
      "50%       6181.680000\n",
      "75%      12354.710000\n",
      "max      22437.140000\n",
      "Name: to_pay, dtype: float64\n",
      "Datos de plan ultimate\n",
      "count       12.000000\n",
      "mean      4338.833333\n",
      "std       3572.746329\n",
      "min        280.000000\n",
      "25%       1373.750000\n",
      "50%       3804.500000\n",
      "75%       6562.500000\n",
      "max      11067.000000\n",
      "Name: to_pay, dtype: float64\n"
     ]
    }
   ],
   "source": [
    "# Datos generales de los pagos de ambos planes \n",
    "print('Datos de plan surf')\n",
    "print(tr_surf['to_pay'].describe())\n",
    "print('Datos de plan ultimate')\n",
    "print(tr_ult['to_pay'].describe())"
   ]
  },
  {
   "cell_type": "code",
   "execution_count": 108,
   "metadata": {},
   "outputs": [
    {
     "name": "stdout",
     "output_type": "stream",
     "text": [
      "Varianza plan surf\n",
      "48968947.76556391\n",
      "\n",
      "Varianza plan ultimate\n",
      "11700806.63888889\n"
     ]
    }
   ],
   "source": [
    "# Varianza de la cantidad total a pagar.\n",
    "print('Varianza plan surf')\n",
    "print(np.var(tr_surf['to_pay']))\n",
    "print()\n",
    "print('Varianza plan ultimate')\n",
    "print(np.var(tr_ult['to_pay']))"
   ]
  },
  {
   "cell_type": "code",
   "execution_count": 109,
   "metadata": {},
   "outputs": [
    {
     "name": "stdout",
     "output_type": "stream",
     "text": [
      "La varianza y el promedio de duracion de cada secion al mes por tipo de plan\n"
     ]
    },
    {
     "data": {
      "text/html": [
       "<div>\n",
       "<style scoped>\n",
       "    .dataframe tbody tr th:only-of-type {\n",
       "        vertical-align: middle;\n",
       "    }\n",
       "\n",
       "    .dataframe tbody tr th {\n",
       "        vertical-align: top;\n",
       "    }\n",
       "\n",
       "    .dataframe thead tr th {\n",
       "        text-align: left;\n",
       "    }\n",
       "\n",
       "    .dataframe thead tr:last-of-type th {\n",
       "        text-align: right;\n",
       "    }\n",
       "</style>\n",
       "<table border=\"1\" class=\"dataframe\">\n",
       "  <thead>\n",
       "    <tr>\n",
       "      <th></th>\n",
       "      <th colspan=\"2\" halign=\"left\">mean</th>\n",
       "      <th colspan=\"2\" halign=\"left\">var</th>\n",
       "    </tr>\n",
       "    <tr>\n",
       "      <th>plan_name</th>\n",
       "      <th>surf</th>\n",
       "      <th>ultimate</th>\n",
       "      <th>surf</th>\n",
       "      <th>ultimate</th>\n",
       "    </tr>\n",
       "    <tr>\n",
       "      <th>month</th>\n",
       "      <th></th>\n",
       "      <th></th>\n",
       "      <th></th>\n",
       "      <th></th>\n",
       "    </tr>\n",
       "  </thead>\n",
       "  <tbody>\n",
       "    <tr>\n",
       "      <th>0.0</th>\n",
       "      <td>20.000000</td>\n",
       "      <td>70.000000</td>\n",
       "      <td>0.000000</td>\n",
       "      <td>0.000000</td>\n",
       "    </tr>\n",
       "    <tr>\n",
       "      <th>1.0</th>\n",
       "      <td>20.000000</td>\n",
       "      <td>70.000000</td>\n",
       "      <td>0.000000</td>\n",
       "      <td>0.000000</td>\n",
       "    </tr>\n",
       "    <tr>\n",
       "      <th>2.0</th>\n",
       "      <td>34.396667</td>\n",
       "      <td>70.000000</td>\n",
       "      <td>428.276100</td>\n",
       "      <td>0.000000</td>\n",
       "    </tr>\n",
       "    <tr>\n",
       "      <th>3.0</th>\n",
       "      <td>45.941304</td>\n",
       "      <td>74.666667</td>\n",
       "      <td>1512.023512</td>\n",
       "      <td>145.515152</td>\n",
       "    </tr>\n",
       "    <tr>\n",
       "      <th>4.0</th>\n",
       "      <td>40.710600</td>\n",
       "      <td>73.000000</td>\n",
       "      <td>1198.958402</td>\n",
       "      <td>120.400000</td>\n",
       "    </tr>\n",
       "    <tr>\n",
       "      <th>5.0</th>\n",
       "      <td>47.628182</td>\n",
       "      <td>70.724138</td>\n",
       "      <td>1967.540055</td>\n",
       "      <td>15.206897</td>\n",
       "    </tr>\n",
       "    <tr>\n",
       "      <th>6.0</th>\n",
       "      <td>49.276289</td>\n",
       "      <td>71.638298</td>\n",
       "      <td>1988.914046</td>\n",
       "      <td>75.018501</td>\n",
       "    </tr>\n",
       "    <tr>\n",
       "      <th>7.0</th>\n",
       "      <td>62.674050</td>\n",
       "      <td>71.898305</td>\n",
       "      <td>2943.388409</td>\n",
       "      <td>104.472238</td>\n",
       "    </tr>\n",
       "    <tr>\n",
       "      <th>8.0</th>\n",
       "      <td>63.931173</td>\n",
       "      <td>72.859155</td>\n",
       "      <td>3587.494901</td>\n",
       "      <td>154.808451</td>\n",
       "    </tr>\n",
       "    <tr>\n",
       "      <th>9.0</th>\n",
       "      <td>58.271495</td>\n",
       "      <td>72.034884</td>\n",
       "      <td>2260.644980</td>\n",
       "      <td>75.939945</td>\n",
       "    </tr>\n",
       "    <tr>\n",
       "      <th>10.0</th>\n",
       "      <td>65.421224</td>\n",
       "      <td>72.311321</td>\n",
       "      <td>3198.242612</td>\n",
       "      <td>169.606918</td>\n",
       "    </tr>\n",
       "    <tr>\n",
       "      <th>11.0</th>\n",
       "      <td>58.004276</td>\n",
       "      <td>71.708661</td>\n",
       "      <td>2494.182230</td>\n",
       "      <td>94.668416</td>\n",
       "    </tr>\n",
       "    <tr>\n",
       "      <th>12.0</th>\n",
       "      <td>70.557044</td>\n",
       "      <td>73.291391</td>\n",
       "      <td>4604.410868</td>\n",
       "      <td>212.861192</td>\n",
       "    </tr>\n",
       "  </tbody>\n",
       "</table>\n",
       "</div>"
      ],
      "text/plain": [
       "                mean                     var            \n",
       "plan_name       surf   ultimate         surf    ultimate\n",
       "month                                                   \n",
       "0.0        20.000000  70.000000     0.000000    0.000000\n",
       "1.0        20.000000  70.000000     0.000000    0.000000\n",
       "2.0        34.396667  70.000000   428.276100    0.000000\n",
       "3.0        45.941304  74.666667  1512.023512  145.515152\n",
       "4.0        40.710600  73.000000  1198.958402  120.400000\n",
       "5.0        47.628182  70.724138  1967.540055   15.206897\n",
       "6.0        49.276289  71.638298  1988.914046   75.018501\n",
       "7.0        62.674050  71.898305  2943.388409  104.472238\n",
       "8.0        63.931173  72.859155  3587.494901  154.808451\n",
       "9.0        58.271495  72.034884  2260.644980   75.939945\n",
       "10.0       65.421224  72.311321  3198.242612  169.606918\n",
       "11.0       58.004276  71.708661  2494.182230   94.668416\n",
       "12.0       70.557044  73.291391  4604.410868  212.861192"
      ]
     },
     "metadata": {},
     "output_type": "display_data"
    }
   ],
   "source": [
    "# Media y la varianza del pago de cada usuario por mes.\n",
    "print('La varianza y el promedio de duracion de cada secion al mes por tipo de plan')\n",
    "display(plan_db.pivot_table(index='month',values='to_pay',columns='plan_name',aggfunc=('var','mean')))"
   ]
  },
  {
   "cell_type": "markdown",
   "metadata": {},
   "source": [
    "Como observamos en las tablas anteriores el consumo en el ambito de llamadas, mensajes y consumo de internet es aprox el doble en casi todos los meses, comenzando de abril, a partir de asumir que de abril a diciembre se consume el doble por parte de los usuarios con plan surf respecto a los usuarios con plan ultimate, y llegamos a dos conclusiones rapidamente:\n",
    "1. Los usuarios del plan ultimate rara vez tienen un exceso de uso respecto a su plan, y lo podemos ver a la hora del pago, siendo que el pago normal es de 70usd y el promedio de pago es de 73usd, en cambio los usuarios del plan ultimate estan sobrepasando el limite de su plan lo que repercute a la hora del pago siendo que terminan pagando hasta un 240% mas de lo que deberian pagar sin excesos. \n",
    "2. Como mencionamos el consumo de los usuarios con plan surf es el doble de los del plan ultimate, teniendo una media de pago de 67usd, si cambiaran de plan a ultimate estarian cubiertos sin tener cargos extra por excesos e incluso utilizar mas el servicio de llamadas y mensajes de lo que utilizan actualmente sin cargos extra, solo tendrian que tener un uso moderado en cuestion de internet para no sobrepasar el limite."
   ]
  },
  {
   "cell_type": "markdown",
   "metadata": {},
   "source": [
    " "
   ]
  },
  {
   "cell_type": "markdown",
   "metadata": {},
   "source": [
    "## Probar las hipótesis estadísticas."
   ]
  },
  {
   "cell_type": "markdown",
   "metadata": {},
   "source": [
    "<div class=\"alert alert-block alert-info\">\n",
    "<b>Respuesta del estudiante.</b> <a class=\"tocSkip\"></a>\n",
    "    \n",
    "Corregido"
   ]
  },
  {
   "cell_type": "markdown",
   "metadata": {},
   "source": [
    "<div class=\"alert alert-block alert-danger\">\n",
    "\n",
    "<b>A resolver</b> <a class=\"tocSkip\"></a>\n",
    "\n",
    "~~Atento que los resultados de esta sección quizá cambien debido a las correcciones.~~</div>"
   ]
  },
  {
   "cell_type": "code",
   "execution_count": 110,
   "metadata": {},
   "outputs": [
    {
     "name": "stdout",
     "output_type": "stream",
     "text": [
      "p-value: 0.13760614119010917\n",
      "No rechazamos la hipótesis nula\n"
     ]
    }
   ],
   "source": [
    "# Prueba las hipótesis\n",
    "# H0 EL promedio de pago de los usuarios de plan surf es igual al monto de pago base del plan ultimate.\n",
    "# H1 el promedio de pago  no es igual\n",
    "tpay_surf = tr.query('plan_name == \"surf\"')\n",
    "tpay_ult = tr.query('plan_name == \"ultimate\"')\n",
    "# Muestra del pago de los usuarios plan surf\n",
    "tpay_surf_array = tpay_surf['to_pay']\n",
    "# Muestra del pago de los usuarios plan ultimate\n",
    "tpay_ult_array = tpay_ult['to_pay']\n",
    "\n",
    "alpha = 0.05\n",
    "\n",
    "results = st.ttest_ind(tpay_surf_array, tpay_ult_array)\n",
    "\n",
    "print('p-value:', results.pvalue)\n",
    "\n",
    "if results.pvalue < alpha:\n",
    "    print(\"Rechazamos la hipótesis nula\")\n",
    "else:\n",
    "    print(\"No rechazamos la hipótesis nula\")"
   ]
  },
  {
   "cell_type": "markdown",
   "metadata": {},
   "source": [
    "Como podemos ver, no rechazamos la hipotesis de que los usuarios del plan surf pagan igual a un usuario de plan ultimate, ya que tenemos una probabilidad del 13% que los usuarios paguen igual a los usuarios del plan ultimate, y podemos dar esa conclusion ya que como vimos arriba, la media de pago es de 60 usd de usuarios de plan surf contra 72 usd de usuarios de plan ultimate. "
   ]
  },
  {
   "cell_type": "markdown",
   "metadata": {},
   "source": [
    "<div class=\"alert alert-block alert-success\">\n",
    "<b>Éxito v3</b> <a class=\"tocSkip\"></a>\n",
    "\n",
    "Exacto,  así se interpreta la prueba T.    \n",
    "</div>"
   ]
  },
  {
   "cell_type": "markdown",
   "metadata": {},
   "source": [
    "<div class=\"alert alert-block alert-success\">\n",
    "<b>Éxito</b> <a class=\"tocSkip\"></a>\n",
    "\n",
    "Correcta definición de hipótesis y aplicación de prueba T.    \n",
    "</div>"
   ]
  },
  {
   "cell_type": "markdown",
   "metadata": {},
   "source": [
    "<div class=\"alert alert-block alert-info\">\n",
    "<b>Respuesta del estudiante.</b> <a class=\"tocSkip\"></a>\n",
    "    \n",
    "Corregido"
   ]
  },
  {
   "cell_type": "markdown",
   "metadata": {},
   "source": [
    "<div class=\"alert alert-block alert-danger\">\n",
    "\n",
    "<b>A resolver</b> <a class=\"tocSkip\"></a>\n",
    "\n",
    "~~Debes de agregar tu comentario interpretando tu prueba T.~~ </div>"
   ]
  },
  {
   "cell_type": "code",
   "execution_count": 111,
   "metadata": {},
   "outputs": [
    {
     "data": {
      "text/plain": [
       "array(['Albany-Schenectady-Troy, NY MSA', 'Albuquerque, NM MSA',\n",
       "       'Atlanta-Sandy Springs-Roswell, GA MSA',\n",
       "       'Austin-Round Rock-Georgetown, TX MSA', 'Bakersfield, CA MSA',\n",
       "       'Baltimore-Columbia-Towson, MD MSA', 'Baton Rouge, LA MSA',\n",
       "       'Birmingham-Hoover, AL MSA', 'Boston-Cambridge-Newton, MA-NH MSA',\n",
       "       'Bridgeport-Stamford-Norwalk, CT MSA',\n",
       "       'Buffalo-Cheektowaga, NY MSA', 'Cape Coral-Fort Myers, FL MSA',\n",
       "       'Charleston-North Charleston, SC MSA',\n",
       "       'Charlotte-Concord-Gastonia, NC-SC MSA',\n",
       "       'Chicago-Naperville-Elgin, IL-IN-WI MSA',\n",
       "       'Cincinnati, OH-KY-IN MSA', 'Cleveland-Elyria, OH MSA',\n",
       "       'Colorado Springs, CO MSA', 'Columbia, SC MSA', 'Columbus, OH MSA',\n",
       "       'Dallas-Fort Worth-Arlington, TX MSA', 'Dayton-Kettering, OH MSA',\n",
       "       'Denver-Aurora-Lakewood, CO MSA',\n",
       "       'Detroit-Warren-Dearborn, MI MSA', 'El Paso, TX MSA',\n",
       "       'Fresno, CA MSA', 'Grand Rapids-Kentwood, MI MSA',\n",
       "       'Greensboro-High Point, NC MSA',\n",
       "       'Houston-The Woodlands-Sugar Land, TX MSA',\n",
       "       'Indianapolis-Carmel-Anderson, IN MSA', 'Jacksonville, FL MSA',\n",
       "       'Kansas City, MO-KS MSA', 'Knoxville, TN MSA',\n",
       "       'Las Vegas-Henderson-Paradise, NV MSA',\n",
       "       'Los Angeles-Long Beach-Anaheim, CA MSA',\n",
       "       'Louisville/Jefferson County, KY-IN MSA', 'Memphis, TN-MS-AR MSA',\n",
       "       'Miami-Fort Lauderdale-West Palm Beach, FL MSA',\n",
       "       'Milwaukee-Waukesha, WI MSA',\n",
       "       'Minneapolis-St. Paul-Bloomington, MN-WI MSA',\n",
       "       'Nashville-Davidson–Murfreesboro–Franklin, TN MSA',\n",
       "       'New Haven-Milford, CT MSA', 'New Orleans-Metairie, LA MSA',\n",
       "       'New York-Newark-Jersey City, NY-NJ-PA MSA',\n",
       "       'North Port-Sarasota-Bradenton, FL MSA', 'Oklahoma City, OK MSA',\n",
       "       'Omaha-Council Bluffs, NE-IA MSA',\n",
       "       'Orlando-Kissimmee-Sanford, FL MSA',\n",
       "       'Oxnard-Thousand Oaks-Ventura, CA MSA',\n",
       "       'Philadelphia-Camden-Wilmington, PA-NJ-DE-MD MSA',\n",
       "       'Phoenix-Mesa-Chandler, AZ MSA', 'Pittsburgh, PA MSA',\n",
       "       'Portland-Vancouver-Hillsboro, OR-WA MSA',\n",
       "       'Providence-Warwick, RI-MA MSA', 'Raleigh-Cary, NC MSA',\n",
       "       'Richmond, VA MSA', 'Riverside-San Bernardino-Ontario, CA MSA',\n",
       "       'Rochester, NY MSA', 'Sacramento–Roseville–Folsom, CA MSA',\n",
       "       'Salt Lake City, UT MSA', 'San Antonio-New Braunfels, TX MSA',\n",
       "       'San Diego-Chula Vista-Carlsbad, CA MSA',\n",
       "       'San Francisco-Oakland-Berkeley, CA MSA',\n",
       "       'San Jose-Sunnyvale-Santa Clara, CA MSA',\n",
       "       'Seattle-Tacoma-Bellevue, WA MSA', 'St. Louis, MO-IL MSA',\n",
       "       'Stockton, CA MSA', 'Tampa-St. Petersburg-Clearwater, FL MSA',\n",
       "       'Tucson, AZ MSA', 'Tulsa, OK MSA', 'Urban Honolulu, HI MSA',\n",
       "       'Virginia Beach-Norfolk-Newport News, VA-NC MSA',\n",
       "       'Washington-Arlington-Alexandria, DC-VA-MD-WV MSA'], dtype=object)"
      ]
     },
     "execution_count": 111,
     "metadata": {},
     "output_type": "execute_result"
    }
   ],
   "source": [
    "# Veamos que valores contiene las ciudades\n",
    "plan_db['city'].sort_values().unique()"
   ]
  },
  {
   "cell_type": "code",
   "execution_count": 112,
   "metadata": {},
   "outputs": [
    {
     "name": "stdout",
     "output_type": "stream",
     "text": [
      "p-value: 0.04974528277407551\n",
      "Rechazamos la hipótesis nula\n"
     ]
    }
   ],
   "source": [
    "# Prueba las hipótesis\n",
    "# H0 Los ingresos de usuarios de NY-NJ es igual al ingreso de las demas ciudades.\n",
    "# H1 El ingreso de usuario de NY-NJ no es igual al ingreso de las demas ciudades.\n",
    "tpay_ny_nj = plan_db.query('city == \"New York-Newark-Jersey City, NY-NJ-PA MSA\"')\n",
    "tpay_cities = plan_db.query('city != \"New York-Newark-Jersey City, NY-NJ-PA MSA\"')\n",
    "# Muestra del pago de los usuarios de New York-Newark-Jersey City, NY-NJ-PA MSA\n",
    "tpay_ny_nj_array = tpay_ny_nj['to_pay']\n",
    "# Muestra del pago de los usuarios que no son de New York-Newark-Jersey City, NY-NJ-PA MSA\n",
    "tpay_cities_array = tpay_cities['to_pay']\n",
    "\n",
    "alpha = 0.05\n",
    "\n",
    "results = st.ttest_ind(tpay_ny_nj_array, tpay_cities_array)\n",
    "\n",
    "print('p-value:', results.pvalue)\n",
    "\n",
    "if results.pvalue < alpha:\n",
    "    print(\"Rechazamos la hipótesis nula\")\n",
    "else:\n",
    "    print(\"No rechazamos la hipótesis nula\")"
   ]
  },
  {
   "cell_type": "markdown",
   "metadata": {},
   "source": [
    "Como podemos ver rechazamos la hipotesis de que los usuarios de NY-NJ pagan igual a los usuarios de otras ciudades, por lo que el pago es distinto en un 4.97% aproximadamente. "
   ]
  },
  {
   "cell_type": "markdown",
   "metadata": {},
   "source": [
    "<div class=\"alert alert-block alert-info\">\n",
    "<b>Respuesta del estudiante.</b> <a class=\"tocSkip\"></a>\n",
    "    \n",
    "Corregido"
   ]
  },
  {
   "cell_type": "markdown",
   "metadata": {},
   "source": [
    "<div class=\"alert alert-block alert-danger\">\n",
    "\n",
    "<b>A resolver</b> <a class=\"tocSkip\"></a>\n",
    "\n",
    "~~Debes de agregar tu comentario interpretando tu prueba T.~~ </div>"
   ]
  },
  {
   "cell_type": "markdown",
   "metadata": {},
   "source": [
    "## Conclusión general\n",
    "\n",
    "* Como bien empezamos a cargar y revisar tabla por tabla para ver que datos contienen, que tipos de datos son, que tipos de datos podemos relacionar entre las diferentes tablas y que datos nos puedes ayudar a aportar algun dato entre estas para realizar un analisis.\n",
    "* Una vez reparados los datos y convertidos a los datos correctos, podemos agregar columnas que nos ayuden a relacionar las tablas entre si, como lo es el caso del mes, user_id, y el tipo de plan.\n",
    "* Una vez entendiendo como funcionan los planes podemos hacer un resumen y redondedos acerca del comportamiento de los usuarios y del uso de los planes.\n",
    "* Realizamos una tabla general en la que ponemos las cantidades totales por cada servicio, llamadas, mensajes y uso de internet, esto para un analisis mas facil y rapido a la hora de obtener ciertos resultados que engloben los meses o cierto tipo de usuarios.\n",
    "* Pudimos observar que el comportamiento de los usuarios del plan surf es usar aproximadamente el doble de servicios que los usuarios del plan ultimate, por lo que hay un comportamiento regular.\n",
    "* Pudimos calcular el costo por cada mes, observando que el promedio de pago de los usuarios tipo surf es de 60USD usando el doble de servicios en comparacion al plan ultimate, siendo que aun ocupando esa cantidad de servicios aun estan por debajo del pago de un plan ultimate regular.\n",
    "* De acuerdo a las hipotesis que hicimos pudimos obervar:\n",
    " * El pago de los usuarios del plan surf  es similar al de los usuarios del plan ultimate ya que tenemos una probabilidad de 13% que un usuario de plan surf pague lo mismo que un usuario de plan ultimate, por lo que habria que considerar si como empresa nos conviene modificar las tarifas para al menos garantizar que  el usuario que tenga un consumo de servicios alto y el pago sea alrededor de los 60 sea mejor que contrate el plan ultimate y asegurar por los menos esos 10 usd extra.\n",
    " * El pago de los usuarios de la ciudad NY-NJ no es similar al de las demas ciudades de la muestra por alrededor del 4%."
   ]
  },
  {
   "cell_type": "markdown",
   "metadata": {},
   "source": [
    "<div class=\"alert alert-block alert-danger\">\n",
    "\n",
    "<b>A resolver v3</b> <a class=\"tocSkip\"></a>\n",
    "\n",
    "~~Actualiza de nuevo las conclusiones de acuerdo a las correcciones.~~</div>"
   ]
  },
  {
   "cell_type": "markdown",
   "metadata": {},
   "source": [
    "<div class=\"alert alert-block alert-info\">\n",
    "<b>Respuesta del estudiante.</b> <a class=\"tocSkip\"></a>\n",
    "    \n",
    "Corregido"
   ]
  },
  {
   "cell_type": "markdown",
   "metadata": {},
   "source": [
    "<div class=\"alert alert-block alert-danger\">\n",
    "\n",
    "<b>A resolver</b> <a class=\"tocSkip\"></a>\n",
    "\n",
    "~~Corrige tus conclusiones finales de acuerdo a las correcciones.~~"
   ]
  },
  {
   "cell_type": "markdown",
   "metadata": {},
   "source": [
    " "
   ]
  }
 ],
 "metadata": {
  "ExecuteTimeLog": [
   {
    "duration": 828,
    "start_time": "2021-11-16T09:21:11.304Z"
   },
   {
    "duration": 893,
    "start_time": "2021-11-16T09:21:17.728Z"
   },
   {
    "duration": 1150,
    "start_time": "2021-11-16T09:21:29.568Z"
   },
   {
    "duration": 3,
    "start_time": "2021-11-16T09:24:14.495Z"
   },
   {
    "duration": 120,
    "start_time": "2021-11-16T09:24:46.630Z"
   },
   {
    "duration": 3,
    "start_time": "2021-11-16T09:28:27.882Z"
   },
   {
    "duration": 4,
    "start_time": "2021-11-16T09:29:54.281Z"
   },
   {
    "duration": 3,
    "start_time": "2021-11-16T09:30:45.936Z"
   },
   {
    "duration": 4,
    "start_time": "2021-11-16T09:31:06.300Z"
   },
   {
    "duration": 113,
    "start_time": "2021-11-16T09:31:37.208Z"
   },
   {
    "duration": 143,
    "start_time": "2021-11-16T09:31:48.656Z"
   },
   {
    "duration": 98,
    "start_time": "2021-11-16T09:31:55.678Z"
   },
   {
    "duration": 3,
    "start_time": "2021-11-16T09:32:08.535Z"
   },
   {
    "duration": 111,
    "start_time": "2021-11-16T09:32:10.120Z"
   },
   {
    "duration": 3,
    "start_time": "2021-11-16T09:32:15.732Z"
   },
   {
    "duration": 4,
    "start_time": "2021-11-16T09:32:29.423Z"
   },
   {
    "duration": 3,
    "start_time": "2021-11-16T10:03:03.074Z"
   },
   {
    "duration": 3,
    "start_time": "2021-11-16T10:10:01.288Z"
   },
   {
    "duration": 3,
    "start_time": "2021-11-16T10:10:46.923Z"
   },
   {
    "duration": 121,
    "start_time": "2021-11-16T10:37:46.494Z"
   },
   {
    "duration": 125,
    "start_time": "2021-11-16T10:38:20.632Z"
   },
   {
    "duration": 112,
    "start_time": "2021-11-16T10:46:53.001Z"
   },
   {
    "duration": 110,
    "start_time": "2021-11-16T10:48:25.775Z"
   },
   {
    "duration": 3,
    "start_time": "2021-11-16T10:50:18.720Z"
   },
   {
    "duration": 4,
    "start_time": "2021-11-16T10:50:37.649Z"
   },
   {
    "duration": 2,
    "start_time": "2021-11-16T10:50:51.884Z"
   },
   {
    "duration": 3,
    "start_time": "2021-11-16T10:51:56.237Z"
   },
   {
    "duration": 101,
    "start_time": "2021-11-16T10:53:13.791Z"
   },
   {
    "duration": 3,
    "start_time": "2021-11-16T10:55:59.186Z"
   },
   {
    "duration": 3,
    "start_time": "2021-11-16T10:56:10.751Z"
   },
   {
    "duration": 3,
    "start_time": "2021-11-16T10:56:49.038Z"
   },
   {
    "duration": 3,
    "start_time": "2021-11-16T10:56:49.174Z"
   },
   {
    "duration": 4,
    "start_time": "2021-11-16T10:56:49.414Z"
   },
   {
    "duration": 3,
    "start_time": "2021-11-16T10:56:49.680Z"
   },
   {
    "duration": 3,
    "start_time": "2021-11-16T10:56:50.370Z"
   },
   {
    "duration": 114,
    "start_time": "2021-11-16T10:59:34.518Z"
   },
   {
    "duration": 3,
    "start_time": "2021-11-16T11:01:41.201Z"
   },
   {
    "duration": 116,
    "start_time": "2021-11-16T11:01:48.754Z"
   },
   {
    "duration": 3,
    "start_time": "2021-11-16T11:02:16.685Z"
   },
   {
    "duration": 3,
    "start_time": "2021-11-16T11:02:19.479Z"
   },
   {
    "duration": 3,
    "start_time": "2021-11-16T11:02:47.067Z"
   },
   {
    "duration": 3,
    "start_time": "2021-11-16T11:02:49.353Z"
   },
   {
    "duration": 3,
    "start_time": "2021-11-16T11:03:07.835Z"
   },
   {
    "duration": 3,
    "start_time": "2021-11-16T11:03:07.953Z"
   },
   {
    "duration": 112,
    "start_time": "2021-11-16T11:07:52.072Z"
   },
   {
    "duration": 187,
    "start_time": "2021-11-16T11:09:23.468Z"
   },
   {
    "duration": 4,
    "start_time": "2021-11-16T11:10:01.455Z"
   },
   {
    "duration": 3,
    "start_time": "2021-11-16T11:10:05.069Z"
   },
   {
    "duration": 4,
    "start_time": "2021-11-16T11:10:13.376Z"
   },
   {
    "duration": 3,
    "start_time": "2021-11-16T11:10:14.434Z"
   },
   {
    "duration": 3,
    "start_time": "2021-11-16T11:10:22.853Z"
   },
   {
    "duration": 4,
    "start_time": "2021-11-16T11:27:29.279Z"
   },
   {
    "duration": 4,
    "start_time": "2021-11-16T11:29:08.919Z"
   },
   {
    "duration": 118,
    "start_time": "2021-11-16T11:29:46.703Z"
   },
   {
    "duration": 437,
    "start_time": "2021-11-16T11:36:02.181Z"
   },
   {
    "duration": 157,
    "start_time": "2021-11-16T11:36:14.388Z"
   },
   {
    "duration": 207,
    "start_time": "2021-11-16T11:47:15.898Z"
   },
   {
    "duration": 3,
    "start_time": "2021-11-16T11:53:52.092Z"
   },
   {
    "duration": 3,
    "start_time": "2021-11-16T11:53:52.236Z"
   },
   {
    "duration": 3,
    "start_time": "2021-11-16T11:59:12.005Z"
   },
   {
    "duration": 112,
    "start_time": "2021-11-16T12:00:33.446Z"
   },
   {
    "duration": 3,
    "start_time": "2021-11-16T12:02:14.453Z"
   },
   {
    "duration": 3,
    "start_time": "2021-11-16T12:02:39.512Z"
   },
   {
    "duration": 106,
    "start_time": "2021-11-16T12:03:03.460Z"
   },
   {
    "duration": 3,
    "start_time": "2021-11-17T20:37:21.139Z"
   },
   {
    "duration": 3,
    "start_time": "2021-11-17T20:37:22.229Z"
   },
   {
    "duration": 3,
    "start_time": "2021-11-17T20:38:38.806Z"
   },
   {
    "duration": 3,
    "start_time": "2021-11-17T20:38:41.958Z"
   },
   {
    "duration": 3,
    "start_time": "2021-11-17T20:43:46.551Z"
   },
   {
    "duration": 4,
    "start_time": "2021-11-17T20:58:21.835Z"
   },
   {
    "duration": 3,
    "start_time": "2021-11-17T20:59:21.872Z"
   },
   {
    "duration": 4,
    "start_time": "2021-11-17T20:59:45.352Z"
   },
   {
    "duration": 4,
    "start_time": "2021-11-17T20:59:49.646Z"
   },
   {
    "duration": 159,
    "start_time": "2021-11-17T21:02:26.949Z"
   },
   {
    "duration": 3,
    "start_time": "2021-11-17T21:03:53.461Z"
   },
   {
    "duration": 3,
    "start_time": "2021-11-17T21:03:53.694Z"
   },
   {
    "duration": 3,
    "start_time": "2021-11-17T21:05:28.145Z"
   },
   {
    "duration": 116,
    "start_time": "2021-11-17T21:05:57.787Z"
   },
   {
    "duration": 3,
    "start_time": "2021-11-17T21:06:37.993Z"
   },
   {
    "duration": 3,
    "start_time": "2021-11-17T21:06:38.261Z"
   },
   {
    "duration": 3,
    "start_time": "2021-11-17T21:11:54.358Z"
   },
   {
    "duration": 3,
    "start_time": "2021-11-17T21:12:43.846Z"
   },
   {
    "duration": 4,
    "start_time": "2021-11-17T21:13:08.773Z"
   },
   {
    "duration": 3,
    "start_time": "2021-11-17T21:14:44.441Z"
   },
   {
    "duration": 3,
    "start_time": "2021-11-17T21:15:42.059Z"
   },
   {
    "duration": 4,
    "start_time": "2021-11-17T21:15:51.995Z"
   },
   {
    "duration": 3,
    "start_time": "2021-11-17T21:15:53.923Z"
   },
   {
    "duration": 3,
    "start_time": "2021-11-17T21:15:55.282Z"
   },
   {
    "duration": 3,
    "start_time": "2021-11-17T21:16:28.492Z"
   },
   {
    "duration": 3,
    "start_time": "2021-11-17T21:16:32.603Z"
   },
   {
    "duration": 3,
    "start_time": "2021-11-17T21:17:06.941Z"
   },
   {
    "duration": 98,
    "start_time": "2021-11-17T21:18:05.733Z"
   },
   {
    "duration": 4,
    "start_time": "2021-11-17T21:21:35.255Z"
   },
   {
    "duration": 3,
    "start_time": "2021-11-17T21:21:37.804Z"
   },
   {
    "duration": 4,
    "start_time": "2021-11-17T21:23:06.071Z"
   },
   {
    "duration": 3,
    "start_time": "2021-11-17T21:23:24.799Z"
   },
   {
    "duration": 3,
    "start_time": "2021-11-17T21:23:32.591Z"
   },
   {
    "duration": 98,
    "start_time": "2021-11-17T21:28:31.559Z"
   },
   {
    "duration": 3,
    "start_time": "2021-11-17T21:28:45.448Z"
   },
   {
    "duration": 3,
    "start_time": "2021-11-17T21:29:17.303Z"
   },
   {
    "duration": 3,
    "start_time": "2021-11-17T21:29:29.617Z"
   },
   {
    "duration": 3,
    "start_time": "2021-11-17T21:29:32.681Z"
   },
   {
    "duration": 3,
    "start_time": "2021-11-17T21:36:11.474Z"
   },
   {
    "duration": 3,
    "start_time": "2021-11-17T21:36:14.791Z"
   },
   {
    "duration": 3,
    "start_time": "2021-11-17T21:36:53.943Z"
   },
   {
    "duration": 3,
    "start_time": "2021-11-17T21:36:56.165Z"
   },
   {
    "duration": 4,
    "start_time": "2021-11-17T21:37:16.590Z"
   },
   {
    "duration": 3,
    "start_time": "2021-11-17T21:37:22.702Z"
   },
   {
    "duration": 4,
    "start_time": "2021-11-17T21:38:03.479Z"
   },
   {
    "duration": 3,
    "start_time": "2021-11-17T21:38:08.601Z"
   },
   {
    "duration": 3,
    "start_time": "2021-11-17T21:38:12.928Z"
   },
   {
    "duration": 3,
    "start_time": "2021-11-17T21:38:48.896Z"
   },
   {
    "duration": 2,
    "start_time": "2021-11-17T21:38:49.171Z"
   },
   {
    "duration": 4,
    "start_time": "2021-11-17T21:39:57.889Z"
   },
   {
    "duration": 3,
    "start_time": "2021-11-17T21:39:58.057Z"
   },
   {
    "duration": 3,
    "start_time": "2021-11-17T21:41:20.108Z"
   },
   {
    "duration": 3,
    "start_time": "2021-11-17T21:41:20.629Z"
   },
   {
    "duration": 3,
    "start_time": "2021-11-17T21:42:49.136Z"
   },
   {
    "duration": 3,
    "start_time": "2021-11-17T21:43:15.137Z"
   },
   {
    "duration": 4,
    "start_time": "2021-11-17T21:43:16.766Z"
   },
   {
    "duration": 4,
    "start_time": "2021-11-17T21:43:31.711Z"
   },
   {
    "duration": 3,
    "start_time": "2021-11-17T21:43:36.312Z"
   },
   {
    "duration": 4,
    "start_time": "2021-11-17T21:45:08.825Z"
   },
   {
    "duration": 4,
    "start_time": "2021-11-17T21:45:10.119Z"
   },
   {
    "duration": 4,
    "start_time": "2021-11-17T21:45:13.748Z"
   },
   {
    "duration": 3,
    "start_time": "2021-11-17T21:45:22.219Z"
   },
   {
    "duration": 3,
    "start_time": "2021-11-17T21:45:33.412Z"
   },
   {
    "duration": 2,
    "start_time": "2021-11-17T21:46:01.885Z"
   },
   {
    "duration": 3,
    "start_time": "2021-11-17T21:46:03.628Z"
   },
   {
    "duration": 107,
    "start_time": "2021-11-17T21:47:32.512Z"
   },
   {
    "duration": 103,
    "start_time": "2021-11-17T21:50:36.243Z"
   },
   {
    "duration": 3,
    "start_time": "2021-11-18T06:28:31.440Z"
   },
   {
    "duration": 3,
    "start_time": "2021-11-18T06:29:00.168Z"
   },
   {
    "duration": 3,
    "start_time": "2021-11-18T06:31:27.008Z"
   },
   {
    "duration": 2,
    "start_time": "2021-11-18T06:35:34.288Z"
   },
   {
    "duration": 2,
    "start_time": "2021-11-18T06:38:04.527Z"
   }
  ],
  "kernelspec": {
   "display_name": "Python 3 (ipykernel)",
   "language": "python",
   "name": "python3"
  },
  "language_info": {
   "codemirror_mode": {
    "name": "ipython",
    "version": 3
   },
   "file_extension": ".py",
   "mimetype": "text/x-python",
   "name": "python",
   "nbconvert_exporter": "python",
   "pygments_lexer": "ipython3",
   "version": "3.9.5"
  },
  "toc": {
   "base_numbering": 1,
   "nav_menu": {},
   "number_sections": true,
   "sideBar": true,
   "skip_h1_title": false,
   "title_cell": "Table of Contents",
   "title_sidebar": "Contents",
   "toc_cell": false,
   "toc_position": {},
   "toc_section_display": true,
   "toc_window_display": true
  }
 },
 "nbformat": 4,
 "nbformat_minor": 2
}
