{
 "cells": [
  {
   "cell_type": "markdown",
   "metadata": {},
   "source": [
    "# Análisis del riesgo de incumplimiento de los prestatarios\n",
    "\n",
    "El proyecto consiste en preparar un informe para la división de préstamos de un banco. Deberás averiguar si el estado civil y el número de hijos de un cliente tienen un impacto en el incumplimiento de pago de un préstamo. El banco ya tiene algunos datos sobre la solvencia crediticia de los clientes.\n",
    "\n",
    "El informe se tendrá en cuenta al crear una **puntuación de crédito** para un cliente potencial. La **puntuación de crédito** se utiliza para evaluar la capacidad de un prestatario potencial para pagar su préstamo."
   ]
  },
  {
   "cell_type": "markdown",
   "metadata": {},
   "source": [
    "## Abre el archivo de datos y mira la información general. "
   ]
  },
  {
   "cell_type": "code",
   "execution_count": 1,
   "metadata": {},
   "outputs": [
    {
     "data": {
      "text/html": [
       "<div>\n",
       "<style scoped>\n",
       "    .dataframe tbody tr th:only-of-type {\n",
       "        vertical-align: middle;\n",
       "    }\n",
       "\n",
       "    .dataframe tbody tr th {\n",
       "        vertical-align: top;\n",
       "    }\n",
       "\n",
       "    .dataframe thead th {\n",
       "        text-align: right;\n",
       "    }\n",
       "</style>\n",
       "<table border=\"1\" class=\"dataframe\">\n",
       "  <thead>\n",
       "    <tr style=\"text-align: right;\">\n",
       "      <th></th>\n",
       "      <th>children</th>\n",
       "      <th>days_employed</th>\n",
       "      <th>dob_years</th>\n",
       "      <th>education</th>\n",
       "      <th>education_id</th>\n",
       "      <th>family_status</th>\n",
       "      <th>family_status_id</th>\n",
       "      <th>gender</th>\n",
       "      <th>income_type</th>\n",
       "      <th>debt</th>\n",
       "      <th>total_income</th>\n",
       "      <th>purpose</th>\n",
       "    </tr>\n",
       "  </thead>\n",
       "  <tbody>\n",
       "    <tr>\n",
       "      <th>0</th>\n",
       "      <td>1</td>\n",
       "      <td>-8437.673028</td>\n",
       "      <td>42</td>\n",
       "      <td>bachelor's degree</td>\n",
       "      <td>0</td>\n",
       "      <td>married</td>\n",
       "      <td>0</td>\n",
       "      <td>F</td>\n",
       "      <td>employee</td>\n",
       "      <td>0</td>\n",
       "      <td>40620.102</td>\n",
       "      <td>purchase of the house</td>\n",
       "    </tr>\n",
       "    <tr>\n",
       "      <th>1</th>\n",
       "      <td>1</td>\n",
       "      <td>-4024.803754</td>\n",
       "      <td>36</td>\n",
       "      <td>secondary education</td>\n",
       "      <td>1</td>\n",
       "      <td>married</td>\n",
       "      <td>0</td>\n",
       "      <td>F</td>\n",
       "      <td>employee</td>\n",
       "      <td>0</td>\n",
       "      <td>17932.802</td>\n",
       "      <td>car purchase</td>\n",
       "    </tr>\n",
       "    <tr>\n",
       "      <th>2</th>\n",
       "      <td>0</td>\n",
       "      <td>-5623.422610</td>\n",
       "      <td>33</td>\n",
       "      <td>Secondary Education</td>\n",
       "      <td>1</td>\n",
       "      <td>married</td>\n",
       "      <td>0</td>\n",
       "      <td>M</td>\n",
       "      <td>employee</td>\n",
       "      <td>0</td>\n",
       "      <td>23341.752</td>\n",
       "      <td>purchase of the house</td>\n",
       "    </tr>\n",
       "    <tr>\n",
       "      <th>3</th>\n",
       "      <td>3</td>\n",
       "      <td>-4124.747207</td>\n",
       "      <td>32</td>\n",
       "      <td>secondary education</td>\n",
       "      <td>1</td>\n",
       "      <td>married</td>\n",
       "      <td>0</td>\n",
       "      <td>M</td>\n",
       "      <td>employee</td>\n",
       "      <td>0</td>\n",
       "      <td>42820.568</td>\n",
       "      <td>supplementary education</td>\n",
       "    </tr>\n",
       "    <tr>\n",
       "      <th>4</th>\n",
       "      <td>0</td>\n",
       "      <td>340266.072047</td>\n",
       "      <td>53</td>\n",
       "      <td>secondary education</td>\n",
       "      <td>1</td>\n",
       "      <td>civil partnership</td>\n",
       "      <td>1</td>\n",
       "      <td>F</td>\n",
       "      <td>retiree</td>\n",
       "      <td>0</td>\n",
       "      <td>25378.572</td>\n",
       "      <td>to have a wedding</td>\n",
       "    </tr>\n",
       "    <tr>\n",
       "      <th>...</th>\n",
       "      <td>...</td>\n",
       "      <td>...</td>\n",
       "      <td>...</td>\n",
       "      <td>...</td>\n",
       "      <td>...</td>\n",
       "      <td>...</td>\n",
       "      <td>...</td>\n",
       "      <td>...</td>\n",
       "      <td>...</td>\n",
       "      <td>...</td>\n",
       "      <td>...</td>\n",
       "      <td>...</td>\n",
       "    </tr>\n",
       "    <tr>\n",
       "      <th>21520</th>\n",
       "      <td>1</td>\n",
       "      <td>-4529.316663</td>\n",
       "      <td>43</td>\n",
       "      <td>secondary education</td>\n",
       "      <td>1</td>\n",
       "      <td>civil partnership</td>\n",
       "      <td>1</td>\n",
       "      <td>F</td>\n",
       "      <td>business</td>\n",
       "      <td>0</td>\n",
       "      <td>35966.698</td>\n",
       "      <td>housing transactions</td>\n",
       "    </tr>\n",
       "    <tr>\n",
       "      <th>21521</th>\n",
       "      <td>0</td>\n",
       "      <td>343937.404131</td>\n",
       "      <td>67</td>\n",
       "      <td>secondary education</td>\n",
       "      <td>1</td>\n",
       "      <td>married</td>\n",
       "      <td>0</td>\n",
       "      <td>F</td>\n",
       "      <td>retiree</td>\n",
       "      <td>0</td>\n",
       "      <td>24959.969</td>\n",
       "      <td>purchase of a car</td>\n",
       "    </tr>\n",
       "    <tr>\n",
       "      <th>21522</th>\n",
       "      <td>1</td>\n",
       "      <td>-2113.346888</td>\n",
       "      <td>38</td>\n",
       "      <td>secondary education</td>\n",
       "      <td>1</td>\n",
       "      <td>civil partnership</td>\n",
       "      <td>1</td>\n",
       "      <td>M</td>\n",
       "      <td>employee</td>\n",
       "      <td>1</td>\n",
       "      <td>14347.610</td>\n",
       "      <td>property</td>\n",
       "    </tr>\n",
       "    <tr>\n",
       "      <th>21523</th>\n",
       "      <td>3</td>\n",
       "      <td>-3112.481705</td>\n",
       "      <td>38</td>\n",
       "      <td>secondary education</td>\n",
       "      <td>1</td>\n",
       "      <td>married</td>\n",
       "      <td>0</td>\n",
       "      <td>M</td>\n",
       "      <td>employee</td>\n",
       "      <td>1</td>\n",
       "      <td>39054.888</td>\n",
       "      <td>buying my own car</td>\n",
       "    </tr>\n",
       "    <tr>\n",
       "      <th>21524</th>\n",
       "      <td>2</td>\n",
       "      <td>-1984.507589</td>\n",
       "      <td>40</td>\n",
       "      <td>secondary education</td>\n",
       "      <td>1</td>\n",
       "      <td>married</td>\n",
       "      <td>0</td>\n",
       "      <td>F</td>\n",
       "      <td>employee</td>\n",
       "      <td>0</td>\n",
       "      <td>13127.587</td>\n",
       "      <td>to buy a car</td>\n",
       "    </tr>\n",
       "  </tbody>\n",
       "</table>\n",
       "<p>21525 rows × 12 columns</p>\n",
       "</div>"
      ],
      "text/plain": [
       "       children  days_employed  dob_years            education  education_id  \\\n",
       "0             1   -8437.673028         42    bachelor's degree             0   \n",
       "1             1   -4024.803754         36  secondary education             1   \n",
       "2             0   -5623.422610         33  Secondary Education             1   \n",
       "3             3   -4124.747207         32  secondary education             1   \n",
       "4             0  340266.072047         53  secondary education             1   \n",
       "...         ...            ...        ...                  ...           ...   \n",
       "21520         1   -4529.316663         43  secondary education             1   \n",
       "21521         0  343937.404131         67  secondary education             1   \n",
       "21522         1   -2113.346888         38  secondary education             1   \n",
       "21523         3   -3112.481705         38  secondary education             1   \n",
       "21524         2   -1984.507589         40  secondary education             1   \n",
       "\n",
       "           family_status  family_status_id gender income_type  debt  \\\n",
       "0                married                 0      F    employee     0   \n",
       "1                married                 0      F    employee     0   \n",
       "2                married                 0      M    employee     0   \n",
       "3                married                 0      M    employee     0   \n",
       "4      civil partnership                 1      F     retiree     0   \n",
       "...                  ...               ...    ...         ...   ...   \n",
       "21520  civil partnership                 1      F    business     0   \n",
       "21521            married                 0      F     retiree     0   \n",
       "21522  civil partnership                 1      M    employee     1   \n",
       "21523            married                 0      M    employee     1   \n",
       "21524            married                 0      F    employee     0   \n",
       "\n",
       "       total_income                  purpose  \n",
       "0         40620.102    purchase of the house  \n",
       "1         17932.802             car purchase  \n",
       "2         23341.752    purchase of the house  \n",
       "3         42820.568  supplementary education  \n",
       "4         25378.572        to have a wedding  \n",
       "...             ...                      ...  \n",
       "21520     35966.698     housing transactions  \n",
       "21521     24959.969        purchase of a car  \n",
       "21522     14347.610                 property  \n",
       "21523     39054.888        buying my own car  \n",
       "21524     13127.587             to buy a car  \n",
       "\n",
       "[21525 rows x 12 columns]"
      ]
     },
     "execution_count": 1,
     "metadata": {},
     "output_type": "execute_result"
    }
   ],
   "source": [
    "# Cargar todas las librerías\n",
    "import pandas as pd\n",
    "\n",
    "# Carga los datos\n",
    "credit = pd.read_csv('credit_scoring_eng.csv')\n",
    "credit"
   ]
  },
  {
   "cell_type": "markdown",
   "metadata": {},
   "source": [
    "## Ejercicio 1. Exploración de datos\n",
    "\n",
    "**Descripción de los datos**\n",
    "- `children` - el número de hijos en la familia\n",
    "- `days_employed` - experiencia laboral en días\n",
    "- `dob_years` - la edad del cliente en años\n",
    "- `education` - la educación del cliente\n",
    "- `education_id` - identificador de educación\n",
    "- `family_status` - estado civil\n",
    "- `family_status_id` - identificador de estado civil\n",
    "- `gender` - género del cliente\n",
    "- `income_type` - tipo de empleo\n",
    "- `debt` - ¿había alguna deuda en el pago de un préstamo?\n",
    "- `total_income` - ingreso mensual\n",
    "- `purpose` - el propósito de obtener un préstamo"
   ]
  },
  {
   "cell_type": "code",
   "execution_count": 2,
   "metadata": {},
   "outputs": [
    {
     "data": {
      "text/plain": [
       "(21525, 12)"
      ]
     },
     "execution_count": 2,
     "metadata": {},
     "output_type": "execute_result"
    }
   ],
   "source": [
    "# Vamos a ver cuántas filas y columnas tiene nuestro conjunto de datos\n",
    "credit.shape"
   ]
  },
  {
   "cell_type": "code",
   "execution_count": 3,
   "metadata": {
    "scrolled": true
   },
   "outputs": [
    {
     "data": {
      "text/html": [
       "<div>\n",
       "<style scoped>\n",
       "    .dataframe tbody tr th:only-of-type {\n",
       "        vertical-align: middle;\n",
       "    }\n",
       "\n",
       "    .dataframe tbody tr th {\n",
       "        vertical-align: top;\n",
       "    }\n",
       "\n",
       "    .dataframe thead th {\n",
       "        text-align: right;\n",
       "    }\n",
       "</style>\n",
       "<table border=\"1\" class=\"dataframe\">\n",
       "  <thead>\n",
       "    <tr style=\"text-align: right;\">\n",
       "      <th></th>\n",
       "      <th>children</th>\n",
       "      <th>days_employed</th>\n",
       "      <th>dob_years</th>\n",
       "      <th>education</th>\n",
       "      <th>education_id</th>\n",
       "      <th>family_status</th>\n",
       "      <th>family_status_id</th>\n",
       "      <th>gender</th>\n",
       "      <th>income_type</th>\n",
       "      <th>debt</th>\n",
       "      <th>total_income</th>\n",
       "      <th>purpose</th>\n",
       "    </tr>\n",
       "  </thead>\n",
       "  <tbody>\n",
       "    <tr>\n",
       "      <th>0</th>\n",
       "      <td>1</td>\n",
       "      <td>-8437.673028</td>\n",
       "      <td>42</td>\n",
       "      <td>bachelor's degree</td>\n",
       "      <td>0</td>\n",
       "      <td>married</td>\n",
       "      <td>0</td>\n",
       "      <td>F</td>\n",
       "      <td>employee</td>\n",
       "      <td>0</td>\n",
       "      <td>40620.102</td>\n",
       "      <td>purchase of the house</td>\n",
       "    </tr>\n",
       "    <tr>\n",
       "      <th>1</th>\n",
       "      <td>1</td>\n",
       "      <td>-4024.803754</td>\n",
       "      <td>36</td>\n",
       "      <td>secondary education</td>\n",
       "      <td>1</td>\n",
       "      <td>married</td>\n",
       "      <td>0</td>\n",
       "      <td>F</td>\n",
       "      <td>employee</td>\n",
       "      <td>0</td>\n",
       "      <td>17932.802</td>\n",
       "      <td>car purchase</td>\n",
       "    </tr>\n",
       "    <tr>\n",
       "      <th>2</th>\n",
       "      <td>0</td>\n",
       "      <td>-5623.422610</td>\n",
       "      <td>33</td>\n",
       "      <td>Secondary Education</td>\n",
       "      <td>1</td>\n",
       "      <td>married</td>\n",
       "      <td>0</td>\n",
       "      <td>M</td>\n",
       "      <td>employee</td>\n",
       "      <td>0</td>\n",
       "      <td>23341.752</td>\n",
       "      <td>purchase of the house</td>\n",
       "    </tr>\n",
       "    <tr>\n",
       "      <th>3</th>\n",
       "      <td>3</td>\n",
       "      <td>-4124.747207</td>\n",
       "      <td>32</td>\n",
       "      <td>secondary education</td>\n",
       "      <td>1</td>\n",
       "      <td>married</td>\n",
       "      <td>0</td>\n",
       "      <td>M</td>\n",
       "      <td>employee</td>\n",
       "      <td>0</td>\n",
       "      <td>42820.568</td>\n",
       "      <td>supplementary education</td>\n",
       "    </tr>\n",
       "    <tr>\n",
       "      <th>4</th>\n",
       "      <td>0</td>\n",
       "      <td>340266.072047</td>\n",
       "      <td>53</td>\n",
       "      <td>secondary education</td>\n",
       "      <td>1</td>\n",
       "      <td>civil partnership</td>\n",
       "      <td>1</td>\n",
       "      <td>F</td>\n",
       "      <td>retiree</td>\n",
       "      <td>0</td>\n",
       "      <td>25378.572</td>\n",
       "      <td>to have a wedding</td>\n",
       "    </tr>\n",
       "    <tr>\n",
       "      <th>5</th>\n",
       "      <td>0</td>\n",
       "      <td>-926.185831</td>\n",
       "      <td>27</td>\n",
       "      <td>bachelor's degree</td>\n",
       "      <td>0</td>\n",
       "      <td>civil partnership</td>\n",
       "      <td>1</td>\n",
       "      <td>M</td>\n",
       "      <td>business</td>\n",
       "      <td>0</td>\n",
       "      <td>40922.170</td>\n",
       "      <td>purchase of the house</td>\n",
       "    </tr>\n",
       "    <tr>\n",
       "      <th>6</th>\n",
       "      <td>0</td>\n",
       "      <td>-2879.202052</td>\n",
       "      <td>43</td>\n",
       "      <td>bachelor's degree</td>\n",
       "      <td>0</td>\n",
       "      <td>married</td>\n",
       "      <td>0</td>\n",
       "      <td>F</td>\n",
       "      <td>business</td>\n",
       "      <td>0</td>\n",
       "      <td>38484.156</td>\n",
       "      <td>housing transactions</td>\n",
       "    </tr>\n",
       "    <tr>\n",
       "      <th>7</th>\n",
       "      <td>0</td>\n",
       "      <td>-152.779569</td>\n",
       "      <td>50</td>\n",
       "      <td>SECONDARY EDUCATION</td>\n",
       "      <td>1</td>\n",
       "      <td>married</td>\n",
       "      <td>0</td>\n",
       "      <td>M</td>\n",
       "      <td>employee</td>\n",
       "      <td>0</td>\n",
       "      <td>21731.829</td>\n",
       "      <td>education</td>\n",
       "    </tr>\n",
       "    <tr>\n",
       "      <th>8</th>\n",
       "      <td>2</td>\n",
       "      <td>-6929.865299</td>\n",
       "      <td>35</td>\n",
       "      <td>BACHELOR'S DEGREE</td>\n",
       "      <td>0</td>\n",
       "      <td>civil partnership</td>\n",
       "      <td>1</td>\n",
       "      <td>F</td>\n",
       "      <td>employee</td>\n",
       "      <td>0</td>\n",
       "      <td>15337.093</td>\n",
       "      <td>having a wedding</td>\n",
       "    </tr>\n",
       "    <tr>\n",
       "      <th>9</th>\n",
       "      <td>0</td>\n",
       "      <td>-2188.756445</td>\n",
       "      <td>41</td>\n",
       "      <td>secondary education</td>\n",
       "      <td>1</td>\n",
       "      <td>married</td>\n",
       "      <td>0</td>\n",
       "      <td>M</td>\n",
       "      <td>employee</td>\n",
       "      <td>0</td>\n",
       "      <td>23108.150</td>\n",
       "      <td>purchase of the house for my family</td>\n",
       "    </tr>\n",
       "  </tbody>\n",
       "</table>\n",
       "</div>"
      ],
      "text/plain": [
       "   children  days_employed  dob_years            education  education_id  \\\n",
       "0         1   -8437.673028         42    bachelor's degree             0   \n",
       "1         1   -4024.803754         36  secondary education             1   \n",
       "2         0   -5623.422610         33  Secondary Education             1   \n",
       "3         3   -4124.747207         32  secondary education             1   \n",
       "4         0  340266.072047         53  secondary education             1   \n",
       "5         0    -926.185831         27    bachelor's degree             0   \n",
       "6         0   -2879.202052         43    bachelor's degree             0   \n",
       "7         0    -152.779569         50  SECONDARY EDUCATION             1   \n",
       "8         2   -6929.865299         35    BACHELOR'S DEGREE             0   \n",
       "9         0   -2188.756445         41  secondary education             1   \n",
       "\n",
       "       family_status  family_status_id gender income_type  debt  total_income  \\\n",
       "0            married                 0      F    employee     0     40620.102   \n",
       "1            married                 0      F    employee     0     17932.802   \n",
       "2            married                 0      M    employee     0     23341.752   \n",
       "3            married                 0      M    employee     0     42820.568   \n",
       "4  civil partnership                 1      F     retiree     0     25378.572   \n",
       "5  civil partnership                 1      M    business     0     40922.170   \n",
       "6            married                 0      F    business     0     38484.156   \n",
       "7            married                 0      M    employee     0     21731.829   \n",
       "8  civil partnership                 1      F    employee     0     15337.093   \n",
       "9            married                 0      M    employee     0     23108.150   \n",
       "\n",
       "                               purpose  \n",
       "0                purchase of the house  \n",
       "1                         car purchase  \n",
       "2                purchase of the house  \n",
       "3              supplementary education  \n",
       "4                    to have a wedding  \n",
       "5                purchase of the house  \n",
       "6                 housing transactions  \n",
       "7                            education  \n",
       "8                     having a wedding  \n",
       "9  purchase of the house for my family  "
      ]
     },
     "execution_count": 3,
     "metadata": {},
     "output_type": "execute_result"
    }
   ],
   "source": [
    "# vamos a mostrar las primeras filas N\n",
    "credit.head(10)"
   ]
  },
  {
   "cell_type": "markdown",
   "metadata": {},
   "source": [
    "Se tiene que revisar el porque de los datos negativos en la columma days_employed \\\n",
    "Hay que homologar los datos en la columna education"
   ]
  },
  {
   "cell_type": "code",
   "execution_count": 4,
   "metadata": {
    "scrolled": false
   },
   "outputs": [
    {
     "name": "stdout",
     "output_type": "stream",
     "text": [
      "<class 'pandas.core.frame.DataFrame'>\n",
      "RangeIndex: 21525 entries, 0 to 21524\n",
      "Data columns (total 12 columns):\n",
      " #   Column            Non-Null Count  Dtype  \n",
      "---  ------            --------------  -----  \n",
      " 0   children          21525 non-null  int64  \n",
      " 1   days_employed     19351 non-null  float64\n",
      " 2   dob_years         21525 non-null  int64  \n",
      " 3   education         21525 non-null  object \n",
      " 4   education_id      21525 non-null  int64  \n",
      " 5   family_status     21525 non-null  object \n",
      " 6   family_status_id  21525 non-null  int64  \n",
      " 7   gender            21525 non-null  object \n",
      " 8   income_type       21525 non-null  object \n",
      " 9   debt              21525 non-null  int64  \n",
      " 10  total_income      19351 non-null  float64\n",
      " 11  purpose           21525 non-null  object \n",
      "dtypes: float64(2), int64(5), object(5)\n",
      "memory usage: 2.0+ MB\n"
     ]
    }
   ],
   "source": [
    "# Obtener información sobre los datos\n",
    "credit.info()"
   ]
  },
  {
   "cell_type": "markdown",
   "metadata": {},
   "source": [
    "*Tenemos valores ausentes solo en la columna,days_employed y total_income"
   ]
  },
  {
   "cell_type": "code",
   "execution_count": 5,
   "metadata": {
    "scrolled": true
   },
   "outputs": [
    {
     "data": {
      "text/html": [
       "<div>\n",
       "<style scoped>\n",
       "    .dataframe tbody tr th:only-of-type {\n",
       "        vertical-align: middle;\n",
       "    }\n",
       "\n",
       "    .dataframe tbody tr th {\n",
       "        vertical-align: top;\n",
       "    }\n",
       "\n",
       "    .dataframe thead th {\n",
       "        text-align: right;\n",
       "    }\n",
       "</style>\n",
       "<table border=\"1\" class=\"dataframe\">\n",
       "  <thead>\n",
       "    <tr style=\"text-align: right;\">\n",
       "      <th></th>\n",
       "      <th>children</th>\n",
       "      <th>days_employed</th>\n",
       "      <th>dob_years</th>\n",
       "      <th>education</th>\n",
       "      <th>education_id</th>\n",
       "      <th>family_status</th>\n",
       "      <th>family_status_id</th>\n",
       "      <th>gender</th>\n",
       "      <th>income_type</th>\n",
       "      <th>debt</th>\n",
       "      <th>total_income</th>\n",
       "      <th>purpose</th>\n",
       "    </tr>\n",
       "  </thead>\n",
       "  <tbody>\n",
       "    <tr>\n",
       "      <th>12</th>\n",
       "      <td>0</td>\n",
       "      <td>NaN</td>\n",
       "      <td>65</td>\n",
       "      <td>secondary education</td>\n",
       "      <td>1</td>\n",
       "      <td>civil partnership</td>\n",
       "      <td>1</td>\n",
       "      <td>M</td>\n",
       "      <td>retiree</td>\n",
       "      <td>0</td>\n",
       "      <td>NaN</td>\n",
       "      <td>to have a wedding</td>\n",
       "    </tr>\n",
       "    <tr>\n",
       "      <th>26</th>\n",
       "      <td>0</td>\n",
       "      <td>NaN</td>\n",
       "      <td>41</td>\n",
       "      <td>secondary education</td>\n",
       "      <td>1</td>\n",
       "      <td>married</td>\n",
       "      <td>0</td>\n",
       "      <td>M</td>\n",
       "      <td>civil servant</td>\n",
       "      <td>0</td>\n",
       "      <td>NaN</td>\n",
       "      <td>education</td>\n",
       "    </tr>\n",
       "    <tr>\n",
       "      <th>29</th>\n",
       "      <td>0</td>\n",
       "      <td>NaN</td>\n",
       "      <td>63</td>\n",
       "      <td>secondary education</td>\n",
       "      <td>1</td>\n",
       "      <td>unmarried</td>\n",
       "      <td>4</td>\n",
       "      <td>F</td>\n",
       "      <td>retiree</td>\n",
       "      <td>0</td>\n",
       "      <td>NaN</td>\n",
       "      <td>building a real estate</td>\n",
       "    </tr>\n",
       "    <tr>\n",
       "      <th>41</th>\n",
       "      <td>0</td>\n",
       "      <td>NaN</td>\n",
       "      <td>50</td>\n",
       "      <td>secondary education</td>\n",
       "      <td>1</td>\n",
       "      <td>married</td>\n",
       "      <td>0</td>\n",
       "      <td>F</td>\n",
       "      <td>civil servant</td>\n",
       "      <td>0</td>\n",
       "      <td>NaN</td>\n",
       "      <td>second-hand car purchase</td>\n",
       "    </tr>\n",
       "    <tr>\n",
       "      <th>55</th>\n",
       "      <td>0</td>\n",
       "      <td>NaN</td>\n",
       "      <td>54</td>\n",
       "      <td>secondary education</td>\n",
       "      <td>1</td>\n",
       "      <td>civil partnership</td>\n",
       "      <td>1</td>\n",
       "      <td>F</td>\n",
       "      <td>retiree</td>\n",
       "      <td>1</td>\n",
       "      <td>NaN</td>\n",
       "      <td>to have a wedding</td>\n",
       "    </tr>\n",
       "    <tr>\n",
       "      <th>...</th>\n",
       "      <td>...</td>\n",
       "      <td>...</td>\n",
       "      <td>...</td>\n",
       "      <td>...</td>\n",
       "      <td>...</td>\n",
       "      <td>...</td>\n",
       "      <td>...</td>\n",
       "      <td>...</td>\n",
       "      <td>...</td>\n",
       "      <td>...</td>\n",
       "      <td>...</td>\n",
       "      <td>...</td>\n",
       "    </tr>\n",
       "    <tr>\n",
       "      <th>21489</th>\n",
       "      <td>2</td>\n",
       "      <td>NaN</td>\n",
       "      <td>47</td>\n",
       "      <td>Secondary Education</td>\n",
       "      <td>1</td>\n",
       "      <td>married</td>\n",
       "      <td>0</td>\n",
       "      <td>M</td>\n",
       "      <td>business</td>\n",
       "      <td>0</td>\n",
       "      <td>NaN</td>\n",
       "      <td>purchase of a car</td>\n",
       "    </tr>\n",
       "    <tr>\n",
       "      <th>21495</th>\n",
       "      <td>1</td>\n",
       "      <td>NaN</td>\n",
       "      <td>50</td>\n",
       "      <td>secondary education</td>\n",
       "      <td>1</td>\n",
       "      <td>civil partnership</td>\n",
       "      <td>1</td>\n",
       "      <td>F</td>\n",
       "      <td>employee</td>\n",
       "      <td>0</td>\n",
       "      <td>NaN</td>\n",
       "      <td>wedding ceremony</td>\n",
       "    </tr>\n",
       "    <tr>\n",
       "      <th>21497</th>\n",
       "      <td>0</td>\n",
       "      <td>NaN</td>\n",
       "      <td>48</td>\n",
       "      <td>BACHELOR'S DEGREE</td>\n",
       "      <td>0</td>\n",
       "      <td>married</td>\n",
       "      <td>0</td>\n",
       "      <td>F</td>\n",
       "      <td>business</td>\n",
       "      <td>0</td>\n",
       "      <td>NaN</td>\n",
       "      <td>building a property</td>\n",
       "    </tr>\n",
       "    <tr>\n",
       "      <th>21502</th>\n",
       "      <td>1</td>\n",
       "      <td>NaN</td>\n",
       "      <td>42</td>\n",
       "      <td>secondary education</td>\n",
       "      <td>1</td>\n",
       "      <td>married</td>\n",
       "      <td>0</td>\n",
       "      <td>F</td>\n",
       "      <td>employee</td>\n",
       "      <td>0</td>\n",
       "      <td>NaN</td>\n",
       "      <td>building a real estate</td>\n",
       "    </tr>\n",
       "    <tr>\n",
       "      <th>21510</th>\n",
       "      <td>2</td>\n",
       "      <td>NaN</td>\n",
       "      <td>28</td>\n",
       "      <td>secondary education</td>\n",
       "      <td>1</td>\n",
       "      <td>married</td>\n",
       "      <td>0</td>\n",
       "      <td>F</td>\n",
       "      <td>employee</td>\n",
       "      <td>0</td>\n",
       "      <td>NaN</td>\n",
       "      <td>car purchase</td>\n",
       "    </tr>\n",
       "  </tbody>\n",
       "</table>\n",
       "<p>2174 rows × 12 columns</p>\n",
       "</div>"
      ],
      "text/plain": [
       "       children  days_employed  dob_years            education  education_id  \\\n",
       "12            0            NaN         65  secondary education             1   \n",
       "26            0            NaN         41  secondary education             1   \n",
       "29            0            NaN         63  secondary education             1   \n",
       "41            0            NaN         50  secondary education             1   \n",
       "55            0            NaN         54  secondary education             1   \n",
       "...         ...            ...        ...                  ...           ...   \n",
       "21489         2            NaN         47  Secondary Education             1   \n",
       "21495         1            NaN         50  secondary education             1   \n",
       "21497         0            NaN         48    BACHELOR'S DEGREE             0   \n",
       "21502         1            NaN         42  secondary education             1   \n",
       "21510         2            NaN         28  secondary education             1   \n",
       "\n",
       "           family_status  family_status_id gender    income_type  debt  \\\n",
       "12     civil partnership                 1      M        retiree     0   \n",
       "26               married                 0      M  civil servant     0   \n",
       "29             unmarried                 4      F        retiree     0   \n",
       "41               married                 0      F  civil servant     0   \n",
       "55     civil partnership                 1      F        retiree     1   \n",
       "...                  ...               ...    ...            ...   ...   \n",
       "21489            married                 0      M       business     0   \n",
       "21495  civil partnership                 1      F       employee     0   \n",
       "21497            married                 0      F       business     0   \n",
       "21502            married                 0      F       employee     0   \n",
       "21510            married                 0      F       employee     0   \n",
       "\n",
       "       total_income                   purpose  \n",
       "12              NaN         to have a wedding  \n",
       "26              NaN                 education  \n",
       "29              NaN    building a real estate  \n",
       "41              NaN  second-hand car purchase  \n",
       "55              NaN         to have a wedding  \n",
       "...             ...                       ...  \n",
       "21489           NaN         purchase of a car  \n",
       "21495           NaN          wedding ceremony  \n",
       "21497           NaN       building a property  \n",
       "21502           NaN    building a real estate  \n",
       "21510           NaN              car purchase  \n",
       "\n",
       "[2174 rows x 12 columns]"
      ]
     },
     "execution_count": 5,
     "metadata": {},
     "output_type": "execute_result"
    }
   ],
   "source": [
    "# Veamos la tabla filtrada con valores ausentes de la primera columna donde faltan datos\n",
    "credit[credit['days_employed'].isna()]"
   ]
  },
  {
   "cell_type": "markdown",
   "metadata": {},
   "source": [
    "*Tenemos que filtrar para ver si las filas en donde hay valores aunsentes en la columna days_employed, son las mismas a total_income, mas adelante podemos agrupar y sacar una media o mediana de acuerdo a la education, family_status, income_type"
   ]
  },
  {
   "cell_type": "code",
   "execution_count": 6,
   "metadata": {},
   "outputs": [
    {
     "name": "stdout",
     "output_type": "stream",
     "text": [
      "2174\n",
      "2174\n",
      "Empty DataFrame\n",
      "Columns: [children, days_employed, dob_years, education, education_id, family_status, family_status_id, gender, income_type, debt, total_income, purpose]\n",
      "Index: []\n"
     ]
    }
   ],
   "source": [
    "# Apliquemos múltiples condiciones para filtrar datos y veamos el número de filas en la tabla filtrada.\n",
    "print(credit['days_employed'].isna().sum())\n",
    "print(credit['total_income'].isna().sum())\n",
    "print(credit.loc[(credit['days_employed'] == '') & (credit['total_income'] == '')])"
   ]
  },
  {
   "cell_type": "markdown",
   "metadata": {},
   "source": [
    "**Conclusión intermedia**\n",
    "\n",
    "[¿El número de filas en la tabla filtrada coincide con el número de valores ausentes? ¿Qué conclusión podemos sacar de esto?]\\\n",
    "*Si es el mismo valor tanto en \"days_employed\" como \"total_income\" (2174), por lo que debio haber un error en el valor de entrada, datos perdidos o simplemento no se llenaron esos datos.\n",
    "\n",
    "\n",
    "*Tenemos ya localizados en donde se encuentran los valores ausentes, sacaremos el porcentaje de los valores ausentes respecto a los valores totales, sabemos que los valores ausentes se encuentran en las mismas filas de ambas columnas, haremos una prequeña comprobacion de que realmente son las mismas filas las que contienen los valores ausentes."
   ]
  },
  {
   "cell_type": "code",
   "execution_count": 7,
   "metadata": {},
   "outputs": [
    {
     "name": "stdout",
     "output_type": "stream",
     "text": [
      "La tasa de porcentaje de valores ausentes es : 10.10% del total de entradas por lo que representa una parte significativa\n",
      "\n",
      "Con estos valores comprobamos que son las mismas filas en ambas columnas con valores ausentes\n",
      "Valores ausentes en la columna days_employes\n",
      "secondary education    1408\n",
      "bachelor's degree       496\n",
      "SECONDARY EDUCATION      67\n",
      "Secondary Education      65\n",
      "some college             55\n",
      "Bachelor's Degree        25\n",
      "BACHELOR'S DEGREE        23\n",
      "primary education        19\n",
      "Some College              7\n",
      "SOME COLLEGE              7\n",
      "Primary Education         1\n",
      "PRIMARY EDUCATION         1\n",
      "Name: education, dtype: int64\n",
      "\n",
      "Valores ausentes en la columna total_income\n",
      "secondary education    1408\n",
      "bachelor's degree       496\n",
      "SECONDARY EDUCATION      67\n",
      "Secondary Education      65\n",
      "some college             55\n",
      "Bachelor's Degree        25\n",
      "BACHELOR'S DEGREE        23\n",
      "primary education        19\n",
      "Some College              7\n",
      "SOME COLLEGE              7\n",
      "Primary Education         1\n",
      "PRIMARY EDUCATION         1\n",
      "Name: education, dtype: int64\n"
     ]
    }
   ],
   "source": [
    "# Vamos a investigar a los clientes que no tienen datos sobre la característica identificada y la columna con los valores ausentes\n",
    "porc_ausentes = (credit['days_employed'].isna().sum()/credit['education'].count())\n",
    "print(f'La tasa de porcentaje de valores ausentes es : {porc_ausentes:.2%} del total de entradas por lo que representa una parte significativa')\n",
    "print()\n",
    "\n",
    "credit_missing_columns = ['days_employed', 'total_income']\n",
    "missing_values = []\n",
    "for miss in credit_missing_columns:\n",
    "    missing_values.append(credit[credit[miss].isna()]['education'].value_counts())\n",
    "    \n",
    "print('Con estos valores comprobamos que son las mismas filas en ambas columnas con valores ausentes')    \n",
    "print('Valores ausentes en la columna days_employes')    \n",
    "print(missing_values[0])\n",
    "print()\n",
    "print('Valores ausentes en la columna total_income')\n",
    "print(missing_values[1])"
   ]
  },
  {
   "cell_type": "code",
   "execution_count": 8,
   "metadata": {},
   "outputs": [
    {
     "name": "stdout",
     "output_type": "stream",
     "text": [
      "De acuerdo a la clasificacion del tipo de ingreso tenemos los siguientes valores ausentes\n",
      "employee         1105\n",
      "business          508\n",
      "retiree           413\n",
      "civil servant     147\n",
      "entrepreneur        1\n",
      "Name: income_type, dtype: int64\n",
      "\n",
      "De un total de valores declarados en la columna income_type\n",
      "employee                       11119\n",
      "business                        5085\n",
      "retiree                         3856\n",
      "civil servant                   1459\n",
      "unemployed                         2\n",
      "entrepreneur                       2\n",
      "student                            1\n",
      "paternity / maternity leave        1\n",
      "Name: income_type, dtype: int64\n"
     ]
    }
   ],
   "source": [
    "# Comprobación de la distribución\n",
    "print('De acuerdo a la clasificacion del tipo de ingreso tenemos los siguientes valores ausentes')\n",
    "print(credit[credit['days_employed'].isna()]['income_type'].value_counts())\n",
    "print()\n",
    "print('De un total de valores declarados en la columna income_type')\n",
    "print(credit['income_type'].value_counts())"
   ]
  },
  {
   "cell_type": "markdown",
   "metadata": {},
   "source": [
    "Sabemos que los datos ausentes estan en las mismas filas en ambas columnas y la mayoria proviene de clientes con grado de estudios \"secondary education\"\n",
    "\n",
    "**Posibles razones por las que hay valores ausentes en los datos**\n",
    "\n",
    "[Propón tus ideas sobre por qué crees que los valores pueden estar ausentes. ¿Crees que están ausentes al azar o hay algún patrón?] \\\n",
    "*Podemos pensar que son valores ausentes por un error en la base de datos o el llenado, ya que son los mismos valores tanto en la columna de dias trabajados como en la columna de ingreso total"
   ]
  },
  {
   "cell_type": "code",
   "execution_count": 9,
   "metadata": {},
   "outputs": [
    {
     "name": "stdout",
     "output_type": "stream",
     "text": [
      "De acuerdo a la clasificacion del tipo de family_status tenemos los siguientes valores ausentes\n",
      "married              1237\n",
      "civil partnership     442\n",
      "unmarried             288\n",
      "divorced              112\n",
      "widow / widower        95\n",
      "Name: family_status, dtype: int64\n",
      "\n",
      "De un total de valores declarados en la columna family_status\n",
      "married              12380\n",
      "civil partnership     4177\n",
      "unmarried             2813\n",
      "divorced              1195\n",
      "widow / widower        960\n",
      "Name: family_status, dtype: int64\n"
     ]
    }
   ],
   "source": [
    "# Comprobando la distribución en el conjunto de datos entero\n",
    "print('De acuerdo a la clasificacion del tipo de family_status tenemos los siguientes valores ausentes')\n",
    "print(credit[credit['days_employed'].isna()]['family_status'].value_counts())\n",
    "print()\n",
    "print('De un total de valores declarados en la columna family_status')\n",
    "print(credit['family_status'].value_counts())"
   ]
  },
  {
   "cell_type": "markdown",
   "metadata": {},
   "source": [
    "**Conclusión intermedia**\n",
    "\n",
    "[¿Es similar la distribución en el conjunto de datos original a la distribución de la tabla filtrada? ¿Qué significa eso para nosotros?]\n",
    "\n",
    "Si es similar, como ya habiamos valorado, los valores ausentes representan el 10% por lo que aqui podemos observar que esa condicion es real, aunque aun no podemos llegar a una conclusion de porque existen datos ausentes\n",
    "\n"
   ]
  },
  {
   "cell_type": "code",
   "execution_count": 10,
   "metadata": {},
   "outputs": [
    {
     "name": "stdout",
     "output_type": "stream",
     "text": [
      "De acuerdo a la clasificacion del tipo purpose tenemos los siguientes valores ausentes\n",
      "having a wedding                            92\n",
      "to have a wedding                           81\n",
      "wedding ceremony                            76\n",
      "construction of own property                75\n",
      "housing transactions                        74\n",
      "buy real estate                             72\n",
      "purchase of the house for my family         71\n",
      "transactions with my real estate            71\n",
      "transactions with commercial real estate    70\n",
      "housing renovation                          70\n",
      "buy commercial real estate                  67\n",
      "buying property for renting out             65\n",
      "property                                    62\n",
      "real estate transactions                    61\n",
      "buy residential real estate                 61\n",
      "housing                                     60\n",
      "building a property                         59\n",
      "cars                                        57\n",
      "going to university                         56\n",
      "to become educated                          55\n",
      "second-hand car purchase                    54\n",
      "buying my own car                           53\n",
      "to own a car                                52\n",
      "purchase of the house                       52\n",
      "to get a supplementary education            51\n",
      "getting an education                        50\n",
      "supplementary education                     48\n",
      "profile education                           47\n",
      "purchase of a car                           46\n",
      "building a real estate                      46\n",
      "purchase of my own house                    46\n",
      "car purchase                                43\n",
      "education                                   42\n",
      "buying a second-hand car                    42\n",
      "car                                         41\n",
      "university education                        40\n",
      "getting higher education                    36\n",
      "to buy a car                                30\n",
      "Name: purpose, dtype: int64\n",
      "\n",
      "De un total de valores declarados en la columna purpose\n",
      "wedding ceremony                            797\n",
      "having a wedding                            777\n",
      "to have a wedding                           774\n",
      "real estate transactions                    676\n",
      "buy commercial real estate                  664\n",
      "buying property for renting out             653\n",
      "housing transactions                        653\n",
      "transactions with commercial real estate    651\n",
      "purchase of the house                       647\n",
      "housing                                     647\n",
      "purchase of the house for my family         641\n",
      "construction of own property                635\n",
      "property                                    634\n",
      "transactions with my real estate            630\n",
      "building a real estate                      626\n",
      "buy real estate                             624\n",
      "building a property                         620\n",
      "purchase of my own house                    620\n",
      "housing renovation                          612\n",
      "buy residential real estate                 607\n",
      "buying my own car                           505\n",
      "going to university                         496\n",
      "car                                         495\n",
      "second-hand car purchase                    489\n",
      "to own a car                                480\n",
      "buying a second-hand car                    479\n",
      "cars                                        478\n",
      "to buy a car                                472\n",
      "supplementary education                     462\n",
      "car purchase                                462\n",
      "purchase of a car                           455\n",
      "university education                        453\n",
      "education                                   447\n",
      "to get a supplementary education            447\n",
      "getting an education                        443\n",
      "profile education                           436\n",
      "getting higher education                    426\n",
      "to become educated                          412\n",
      "Name: purpose, dtype: int64\n",
      "Repararemos los valores similares para un mejor agrupamiento\n"
     ]
    },
    {
     "data": {
      "text/plain": [
       "education purpose        4022\n",
       "get a car                4315\n",
       "house plan               5709\n",
       "real estate bussiness    5131\n",
       "wedding plan             2348\n",
       "Name: purpose, dtype: int64"
      ]
     },
     "execution_count": 10,
     "metadata": {},
     "output_type": "execute_result"
    }
   ],
   "source": [
    "# Comprueba otras razones y patrones que podrían llevar a valores ausentes \n",
    "print('De acuerdo a la clasificacion del tipo purpose tenemos los siguientes valores ausentes')\n",
    "print(credit[credit['days_employed'].isna()]['purpose'].value_counts())\n",
    "print()\n",
    "print('De un total de valores declarados en la columna purpose')\n",
    "print(credit['purpose'].value_counts())\n",
    "\n",
    "print('Repararemos los valores similares para un mejor agrupamiento')\n",
    "purpose_list = credit['purpose'].unique()\n",
    "\n",
    "wedding_list=['having a wedding','to have a wedding','wedding ceremony']\n",
    "real_estate_list=['building a real estate','buy commercial real estate','buy real estate','buy residential real estate','real estate transactions','transactions with commercial real estate','transactions with my real estate','buying property for renting out']\n",
    "car_list=['buying a second-hand car','buying my own car','car','car purchase','cars','purchase of a car','second-hand car purchase','to buy a car','to own a car']\n",
    "education_list=['education','getting an education','getting higher education','profile education','supplementary education','to get a supplementary education','university education','going to university','to become educated']\n",
    "house_list=['purchase of my own house','purchase of the house','purchase of the house for my family','housing','housing renovation','housing transactions','building a property','construction of own property','property']\n",
    "\n",
    "def replace_values(correct_value,incorrect_value,column):\n",
    "    for value in incorrect_value:\n",
    "        credit[column] = credit[column].replace(value,correct_value) \n",
    "\n",
    "\n",
    "replace_values(\"wedding plan\",wedding_list,'purpose')\n",
    "replace_values(\"real estate bussiness\",real_estate_list,'purpose')\n",
    "replace_values(\"get a car\",car_list,'purpose')\n",
    "replace_values(\"education purpose\",education_list,'purpose')\n",
    "replace_values(\"house plan\",house_list,'purpose')\n",
    "    \n",
    "credit['purpose'].value_counts().sort_index()   \n",
    "        \n"
   ]
  },
  {
   "cell_type": "markdown",
   "metadata": {},
   "source": [
    "**Conclusión intermedia**\n",
    "\n",
    "Tenemos valores accidentales, ausencia de valores las cuales se pudieron haber debido a una falla o a falta de llenado de datos, de igual forma tenemos datos mal clasifidos, es decir, es la misma descripcion pero con diferentes palabras las cuales reemplazaremos y en el caso del proposito ya los reemplazamos."
   ]
  },
  {
   "cell_type": "code",
   "execution_count": 11,
   "metadata": {
    "scrolled": true
   },
   "outputs": [
    {
     "name": "stdout",
     "output_type": "stream",
     "text": [
      "De acuerdo a la clasificacion del tipo de dob_years tenemos los siguientes valores ausentes\n",
      "0     10\n",
      "19     1\n",
      "20     5\n",
      "21    18\n",
      "22    17\n",
      "23    36\n",
      "24    21\n",
      "25    23\n",
      "26    35\n",
      "27    36\n",
      "28    57\n",
      "29    50\n",
      "30    58\n",
      "31    65\n",
      "32    37\n",
      "33    51\n",
      "34    69\n",
      "35    64\n",
      "36    63\n",
      "37    53\n",
      "38    54\n",
      "39    51\n",
      "40    66\n",
      "41    59\n",
      "42    65\n",
      "43    50\n",
      "44    44\n",
      "45    50\n",
      "46    48\n",
      "47    59\n",
      "48    46\n",
      "49    50\n",
      "50    51\n",
      "51    50\n",
      "52    53\n",
      "53    44\n",
      "54    55\n",
      "55    48\n",
      "56    54\n",
      "57    56\n",
      "58    56\n",
      "59    34\n",
      "60    39\n",
      "61    38\n",
      "62    38\n",
      "63    29\n",
      "64    37\n",
      "65    20\n",
      "66    20\n",
      "67    16\n",
      "68     9\n",
      "69     5\n",
      "70     3\n",
      "71     5\n",
      "72     2\n",
      "73     1\n",
      "Name: dob_years, dtype: int64\n",
      "\n",
      "De un total de valores declarados en la columna dob_years\n",
      "0     101\n",
      "19     14\n",
      "20     51\n",
      "21    111\n",
      "22    183\n",
      "23    254\n",
      "24    264\n",
      "25    357\n",
      "26    408\n",
      "27    493\n",
      "28    503\n",
      "29    545\n",
      "30    540\n",
      "31    560\n",
      "32    510\n",
      "33    581\n",
      "34    603\n",
      "35    617\n",
      "36    555\n",
      "37    537\n",
      "38    598\n",
      "39    573\n",
      "40    609\n",
      "41    607\n",
      "42    597\n",
      "43    513\n",
      "44    547\n",
      "45    497\n",
      "46    475\n",
      "47    480\n",
      "48    538\n",
      "49    508\n",
      "50    514\n",
      "51    448\n",
      "52    484\n",
      "53    459\n",
      "54    479\n",
      "55    443\n",
      "56    487\n",
      "57    460\n",
      "58    461\n",
      "59    444\n",
      "60    377\n",
      "61    355\n",
      "62    352\n",
      "63    269\n",
      "64    265\n",
      "65    194\n",
      "66    183\n",
      "67    167\n",
      "68     99\n",
      "69     85\n",
      "70     65\n",
      "71     58\n",
      "72     33\n",
      "73      8\n",
      "74      6\n",
      "75      1\n",
      "Name: dob_years, dtype: int64\n",
      "Mas adelante realizaremos las clasificaciones necesarias\n"
     ]
    }
   ],
   "source": [
    "# Comprobación de otros patrones: explica cuáles\n",
    "print('De acuerdo a la clasificacion del tipo de dob_years tenemos los siguientes valores ausentes')\n",
    "print(credit[credit['days_employed'].isna()]['dob_years'].value_counts().sort_index())\n",
    "print()\n",
    "print('De un total de valores declarados en la columna dob_years')\n",
    "print(credit['dob_years'].value_counts().sort_index())\n",
    "print('Mas adelante realizaremos las clasificaciones necesarias')"
   ]
  },
  {
   "cell_type": "markdown",
   "metadata": {},
   "source": [
    "**Conclusiones**\n",
    "\n",
    "En las muestras podemos deducir que los valores ausentes son de personas, casadas, empleadas y con secundary education, aunque no sabemos con certeza porque hay valores ausentes, deduciremos que fue por un error en el ingreso de datos y/o desconocimiento de los datos solicitados.\n",
    "\n",
    "Ya tenemos las clasificaciones y valores unicos, haremos agrupaciones correcionandolas con otra columna de valores y veremos si corresponde una media o una mediana.\n",
    "\n",
    "Encontramos problemas en los datos principalmente mala clasificacion de datos y valores ausentes, por lo que se arreglaran y clasificacaran de acuerdo a su categoria correspondiente como ya explicamos anteriormente, el primer paso sera arreglar los datos que no esten homologados como lo hicimos con el datos en la columna purpose y porsterior arreglar los valores ausentes de acuerdo a su clasificacion, no podemos eliminar valores duplicados ya que aunque parezca dificil no es imposible que alguien tenga los mismos dias trabajados o la misma edad, ya que no tenemos un diferenciador unico para remover valores. "
   ]
  },
  {
   "cell_type": "markdown",
   "metadata": {},
   "source": [
    "## Transformación de datos"
   ]
  },
  {
   "cell_type": "code",
   "execution_count": 12,
   "metadata": {},
   "outputs": [
    {
     "name": "stdout",
     "output_type": "stream",
     "text": [
      "Valores unicos en la columna \"education\"\n"
     ]
    },
    {
     "data": {
      "text/plain": [
       "BACHELOR'S DEGREE        274\n",
       "Bachelor's Degree        268\n",
       "GRADUATE DEGREE            1\n",
       "Graduate Degree            1\n",
       "PRIMARY EDUCATION         17\n",
       "Primary Education         15\n",
       "SECONDARY EDUCATION      772\n",
       "SOME COLLEGE              29\n",
       "Secondary Education      711\n",
       "Some College              47\n",
       "bachelor's degree       4718\n",
       "graduate degree            4\n",
       "primary education        250\n",
       "secondary education    13750\n",
       "some college             668\n",
       "Name: education, dtype: int64"
      ]
     },
     "execution_count": 12,
     "metadata": {},
     "output_type": "execute_result"
    }
   ],
   "source": [
    "# Veamos todos los valores en la columna de educación para verificar si será necesario corregir la ortografía y qué habrá que corregir exactamente\n",
    "print('Valores unicos en la columna \"education\"')\n",
    "credit['education'].value_counts().sort_index()"
   ]
  },
  {
   "cell_type": "code",
   "execution_count": 13,
   "metadata": {
    "scrolled": true
   },
   "outputs": [
    {
     "data": {
      "text/plain": [
       "secondary education    15233\n",
       "bachelor's degree       5260\n",
       "some college             744\n",
       "primary education        282\n",
       "graduate degree            6\n",
       "Name: education, dtype: int64"
      ]
     },
     "execution_count": 13,
     "metadata": {},
     "output_type": "execute_result"
    }
   ],
   "source": [
    "# Arregla los registros si es necesario\n",
    "bachelor = [\"BACHELOR'S DEGREE\",\"Bachelor's Degree\",]\n",
    "graduate = ['GRADUATE DEGREE','Graduate Degree',]\n",
    "primary = ['PRIMARY EDUCATION','Primary Education',]\n",
    "secondary = ['SECONDARY EDUCATION','Secondary Education',]\n",
    "college = ['SOME COLLEGE','Some College']\n",
    "\n",
    "replace_values(\"bachelor's degree\",bachelor,'education')\n",
    "replace_values(\"graduate degree\",graduate,'education')\n",
    "replace_values(\"primary education\",primary,'education')\n",
    "replace_values(\"secondary education\",secondary,'education')\n",
    "replace_values(\"some college\",college,'education')\n",
    "    \n",
    "credit['education'].value_counts()   "
   ]
  },
  {
   "cell_type": "code",
   "execution_count": 14,
   "metadata": {},
   "outputs": [
    {
     "data": {
      "text/plain": [
       "secondary education    15233\n",
       "bachelor's degree       5260\n",
       "some college             744\n",
       "primary education        282\n",
       "graduate degree            6\n",
       "Name: education, dtype: int64"
      ]
     },
     "execution_count": 14,
     "metadata": {},
     "output_type": "execute_result"
    }
   ],
   "source": [
    "# Comprobar todos los valores en la columna para asegurarnos de que los hayamos corregido\n",
    "credit['education'].value_counts()"
   ]
  },
  {
   "cell_type": "code",
   "execution_count": 15,
   "metadata": {},
   "outputs": [
    {
     "name": "stdout",
     "output_type": "stream",
     "text": [
      "-1        47\n",
      " 0     14149\n",
      " 1      4818\n",
      " 2      2055\n",
      " 3       330\n",
      " 4        41\n",
      " 5         9\n",
      " 20       76\n",
      "Name: children, dtype: int64\n",
      "La tasa de valores -1 es de 0.22%\n",
      "Podemos deducir un numero negativo -1 como hijos 0 por lo que se reemplazaran por ese valor\n"
     ]
    }
   ],
   "source": [
    "# Veamos la distribución de los valores en la columna `children`\n",
    "print(credit['children'].value_counts().sort_index())\n",
    "\n",
    "tasa_children = credit['children'] == -1\n",
    "tasa_children = tasa_children.sum() / credit['children'].count()\n",
    "print(f'La tasa de valores -1 es de {tasa_children:.2%}')\n",
    "print('Podemos deducir un numero negativo -1 como hijos 0 por lo que se reemplazaran por ese valor')"
   ]
  },
  {
   "cell_type": "markdown",
   "metadata": {},
   "source": [
    "Tenemos el valor de -1, lo consideraremos como un valor 0 de no tener hijos por lo que reemplazaremos este valor, ya que solo represente 0.22% y es despreciable en una muestra tan grande.\n"
   ]
  },
  {
   "cell_type": "code",
   "execution_count": 16,
   "metadata": {},
   "outputs": [
    {
     "name": "stdout",
     "output_type": "stream",
     "text": [
      "La tasa de valores 20 es de 0.35%\n",
      "Es raro que alguien tenga 20 hijos aunque no imposible, consideraremos de igual foram este valor como error de dedo y lo cambiaremos a 2 ya que no es muy representativo\n"
     ]
    }
   ],
   "source": [
    "# [arregla los datos según tu decisión]\n",
    "tasa_children = credit['children'] == 20\n",
    "tasa_children = tasa_children.sum() / credit['children'].count()\n",
    "print(f'La tasa de valores 20 es de {tasa_children:.2%}')\n",
    "print('Es raro que alguien tenga 20 hijos aunque no imposible, consideraremos de igual foram este valor como error de dedo y lo cambiaremos a 2 ya que no es muy representativo')"
   ]
  },
  {
   "cell_type": "code",
   "execution_count": 17,
   "metadata": {
    "scrolled": true
   },
   "outputs": [
    {
     "data": {
      "text/plain": [
       "0    14196\n",
       "1     4818\n",
       "2     2131\n",
       "3      330\n",
       "4       41\n",
       "5        9\n",
       "Name: children, dtype: int64"
      ]
     },
     "execution_count": 17,
     "metadata": {},
     "output_type": "execute_result"
    }
   ],
   "source": [
    "# Comprobar la columna `children` de nuevo para asegurarnos de que todo está arreglado\n",
    "credit['children'] = credit['children'].replace(-1,0)\n",
    "credit['children'] = credit['children'].replace(20,2)\n",
    "credit['children'].value_counts().sort_index()"
   ]
  },
  {
   "cell_type": "markdown",
   "metadata": {},
   "source": [
    "El error a simple vista es que contiene valores negativos, al restar fechas existe el error que se invierte el orden de las fechas por lo que al restarlas da un numero negativo, el cual arreglaremos y de ahi revisar que tipo de valores tenemos en esta columna"
   ]
  },
  {
   "cell_type": "code",
   "execution_count": 18,
   "metadata": {},
   "outputs": [
    {
     "name": "stdout",
     "output_type": "stream",
     "text": [
      "El error mas comun que podriamos tener en los dias negativos en la columna \"days_employed\" es que hayan restado las fechas de forma inversa por lo que convertiremos estos valores a positivo\n",
      "3445\n",
      "\n",
      "15906\n"
     ]
    }
   ],
   "source": [
    "# Encuentra datos problemáticos en `days_employed`, si existen, y calcula el porcentaje\n",
    "print('El error mas comun que podriamos tener en los dias negativos en la columna \"days_employed\" es que hayan restado las fechas de forma inversa por lo que convertiremos estos valores a positivo')\n",
    "\n",
    "dias_mayores = []\n",
    "dias_menores = []\n",
    "for days in credit['days_employed']:\n",
    "    if days > 0:\n",
    "        dias_mayores.append(days)\n",
    "    elif days < 0:\n",
    "        dias_menores.append(days)\n",
    "\n",
    "print(len(dias_mayores))\n",
    "print()\n",
    "print(len(dias_menores))        \n",
    "        \n",
    "credit['days_employed'] = credit['days_employed'].abs()       "
   ]
  },
  {
   "cell_type": "markdown",
   "metadata": {},
   "source": [
    "Arreglaremos los vales negativos y comprobaremos que ya no existan"
   ]
  },
  {
   "cell_type": "code",
   "execution_count": 19,
   "metadata": {},
   "outputs": [
    {
     "name": "stdout",
     "output_type": "stream",
     "text": [
      "Ya no tenemos valores negativos comenzaremos a verificiar los dias trabajados\n",
      "\n",
      "17437    24.141633\n",
      "8336     24.240695\n",
      "6157     30.195337\n",
      "9683     33.520665\n",
      "2127     34.701045\n",
      "5287     37.726602\n",
      "17270    39.954170\n",
      "13846    46.952793\n",
      "7964     47.109840\n",
      "3235     50.128298\n",
      "Name: days_employed, dtype: float64\n",
      "\n",
      "6954     401755.400475\n",
      "10006    401715.811749\n",
      "7664     401675.093434\n",
      "2156     401674.466633\n",
      "7794     401663.850046\n",
      "4697     401635.032697\n",
      "13420    401619.633298\n",
      "17823    401614.475622\n",
      "10991    401591.828457\n",
      "8369     401590.452231\n",
      "Name: days_employed, dtype: float64\n",
      "\n",
      "Vaya tenemos valores en trabajadores que han trabajado mas de 1000 años, los revisaremos\n",
      "    children  days_employed  dob_years            education  education_id  \\\n",
      "4          0  340266.072047         53  secondary education             1   \n",
      "18         0  400281.136913         53  secondary education             1   \n",
      "24         1  338551.952911         57  secondary education             1   \n",
      "25         0  363548.489348         67  secondary education             1   \n",
      "30         1  335581.668515         62  secondary education             1   \n",
      "35         0  394021.072184         68  secondary education             1   \n",
      "50         0  353731.432338         63  secondary education             1   \n",
      "56         0  370145.087237         64  secondary education             1   \n",
      "71         0  338113.529892         62  secondary education             1   \n",
      "78         0  359722.945074         61    bachelor's degree             0   \n",
      "\n",
      "        family_status  family_status_id gender income_type  debt  \\\n",
      "4   civil partnership                 1      F     retiree     0   \n",
      "18    widow / widower                 2      F     retiree     0   \n",
      "24          unmarried                 4      F     retiree     0   \n",
      "25            married                 0      M     retiree     0   \n",
      "30            married                 0      F     retiree     0   \n",
      "35  civil partnership                 1      M     retiree     0   \n",
      "50            married                 0      F     retiree     0   \n",
      "56    widow / widower                 2      F     retiree     0   \n",
      "71            married                 0      F     retiree     0   \n",
      "78            married                 0      M     retiree     0   \n",
      "\n",
      "    total_income                purpose  years_employed  \n",
      "4      25378.572           wedding plan      932.235814  \n",
      "18      9091.804              get a car     1096.660649  \n",
      "24     46487.558  real estate bussiness      927.539597  \n",
      "25      8818.041  real estate bussiness      996.023258  \n",
      "30     27432.971  real estate bussiness      919.401832  \n",
      "35     12448.908           wedding plan     1079.509787  \n",
      "50     14774.837              get a car      969.127212  \n",
      "56     23862.567      education purpose     1014.096129  \n",
      "71      7028.751              get a car      926.338438  \n",
      "78     28020.423              get a car      985.542315  \n"
     ]
    }
   ],
   "source": [
    "# Aborda los valores problemáticos, si existen.\n",
    "print('Ya no tenemos valores negativos comenzaremos a verificiar los dias trabajados')\n",
    "print()\n",
    "print(credit['days_employed'].sort_values().head(10))\n",
    "print()\n",
    "print(credit['days_employed'].sort_values(ascending=False).head(10))\n",
    "print()\n",
    "print('Vaya tenemos valores en trabajadores que han trabajado mas de 1000 años, los revisaremos')\n",
    "\n",
    "credit['years_employed'] = credit['days_employed'] / 365\n",
    "\n",
    "print(credit[credit['days_employed'] > 20000].head(10))"
   ]
  },
  {
   "cell_type": "code",
   "execution_count": 20,
   "metadata": {},
   "outputs": [
    {
     "name": "stdout",
     "output_type": "stream",
     "text": [
      "19351\n",
      "\n",
      "0\n",
      "Ya no tenemos datos negativos\n"
     ]
    }
   ],
   "source": [
    "# Comprueba el resultado - asegúrate de que esté arreglado\n",
    "dias_mayores = []\n",
    "dias_menores = []\n",
    "for days in credit['days_employed']:\n",
    "    if days > 0:\n",
    "        dias_mayores.append(days)\n",
    "    elif days < 0:\n",
    "        dias_menores.append(days)\n",
    "\n",
    "print(len(dias_mayores))\n",
    "print()\n",
    "print(len(dias_menores))\n",
    "\n",
    "print('Ya no tenemos datos negativos')"
   ]
  },
  {
   "cell_type": "markdown",
   "metadata": {},
   "source": [
    "Ahora echemos un vistazo a la edad de clientes para ver si hay algún problema allí. Una vez más, piensa qué datos pueden ser extraños en esta columna, es decir, qué dato no puede ser la edad de alguien.]"
   ]
  },
  {
   "cell_type": "code",
   "execution_count": 21,
   "metadata": {
    "scrolled": true
   },
   "outputs": [
    {
     "data": {
      "text/plain": [
       "35    617\n",
       "40    609\n",
       "41    607\n",
       "34    603\n",
       "38    598\n",
       "42    597\n",
       "33    581\n",
       "39    573\n",
       "31    560\n",
       "36    555\n",
       "44    547\n",
       "29    545\n",
       "30    540\n",
       "48    538\n",
       "37    537\n",
       "50    514\n",
       "43    513\n",
       "32    510\n",
       "49    508\n",
       "28    503\n",
       "45    497\n",
       "27    493\n",
       "56    487\n",
       "52    484\n",
       "47    480\n",
       "54    479\n",
       "46    475\n",
       "58    461\n",
       "57    460\n",
       "53    459\n",
       "51    448\n",
       "59    444\n",
       "55    443\n",
       "26    408\n",
       "60    377\n",
       "25    357\n",
       "61    355\n",
       "62    352\n",
       "63    269\n",
       "64    265\n",
       "24    264\n",
       "23    254\n",
       "65    194\n",
       "22    183\n",
       "66    183\n",
       "67    167\n",
       "21    111\n",
       "0     101\n",
       "68     99\n",
       "69     85\n",
       "70     65\n",
       "71     58\n",
       "20     51\n",
       "72     33\n",
       "19     14\n",
       "73      8\n",
       "74      6\n",
       "75      1\n",
       "Name: dob_years, dtype: int64"
      ]
     },
     "execution_count": 21,
     "metadata": {},
     "output_type": "execute_result"
    }
   ],
   "source": [
    "# Revisa `dob_years` en busca de valores sospechosos y cuenta el porcentaje\n",
    "credit['dob_years'].value_counts()"
   ]
  },
  {
   "cell_type": "markdown",
   "metadata": {},
   "source": [
    "Cambiaremos los valores de años trabajados en 0 a con el promedio de años trabajados en la muestra"
   ]
  },
  {
   "cell_type": "code",
   "execution_count": 22,
   "metadata": {},
   "outputs": [
    {
     "data": {
      "text/plain": [
       "35    617\n",
       "43    614\n",
       "40    609\n",
       "41    607\n",
       "34    603\n",
       "38    598\n",
       "42    597\n",
       "33    581\n",
       "39    573\n",
       "31    560\n",
       "36    555\n",
       "44    547\n",
       "29    545\n",
       "30    540\n",
       "48    538\n",
       "37    537\n",
       "50    514\n",
       "32    510\n",
       "49    508\n",
       "28    503\n",
       "45    497\n",
       "27    493\n",
       "56    487\n",
       "52    484\n",
       "47    480\n",
       "54    479\n",
       "46    475\n",
       "58    461\n",
       "57    460\n",
       "53    459\n",
       "51    448\n",
       "59    444\n",
       "55    443\n",
       "26    408\n",
       "60    377\n",
       "25    357\n",
       "61    355\n",
       "62    352\n",
       "63    269\n",
       "64    265\n",
       "24    264\n",
       "23    254\n",
       "65    194\n",
       "66    183\n",
       "22    183\n",
       "67    167\n",
       "21    111\n",
       "68     99\n",
       "69     85\n",
       "70     65\n",
       "71     58\n",
       "20     51\n",
       "72     33\n",
       "19     14\n",
       "73      8\n",
       "74      6\n",
       "75      1\n",
       "Name: dob_years, dtype: int64"
      ]
     },
     "execution_count": 22,
     "metadata": {},
     "output_type": "execute_result"
    }
   ],
   "source": [
    "# Resuelve los problemas en la columna `dob_years`, si existen\n",
    "credit.loc[credit['dob_years'] == 0, 'dob_years'] = credit['dob_years'].mean()\n",
    "credit['dob_years'].value_counts()\n",
    "credit['dob_years'] = credit['dob_years'].astype('int')\n",
    "credit['dob_years'].value_counts()"
   ]
  },
  {
   "cell_type": "code",
   "execution_count": 23,
   "metadata": {},
   "outputs": [
    {
     "data": {
      "text/plain": [
       "35    617\n",
       "43    614\n",
       "40    609\n",
       "41    607\n",
       "34    603\n",
       "38    598\n",
       "42    597\n",
       "33    581\n",
       "39    573\n",
       "31    560\n",
       "36    555\n",
       "44    547\n",
       "29    545\n",
       "30    540\n",
       "48    538\n",
       "37    537\n",
       "50    514\n",
       "32    510\n",
       "49    508\n",
       "28    503\n",
       "45    497\n",
       "27    493\n",
       "56    487\n",
       "52    484\n",
       "47    480\n",
       "54    479\n",
       "46    475\n",
       "58    461\n",
       "57    460\n",
       "53    459\n",
       "51    448\n",
       "59    444\n",
       "55    443\n",
       "26    408\n",
       "60    377\n",
       "25    357\n",
       "61    355\n",
       "62    352\n",
       "63    269\n",
       "64    265\n",
       "24    264\n",
       "23    254\n",
       "65    194\n",
       "66    183\n",
       "22    183\n",
       "67    167\n",
       "21    111\n",
       "68     99\n",
       "69     85\n",
       "70     65\n",
       "71     58\n",
       "20     51\n",
       "72     33\n",
       "19     14\n",
       "73      8\n",
       "74      6\n",
       "75      1\n",
       "Name: dob_years, dtype: int64"
      ]
     },
     "execution_count": 23,
     "metadata": {},
     "output_type": "execute_result"
    }
   ],
   "source": [
    "# Comprueba el resultado - asegúrate de que esté arreglado\n",
    "credit['dob_years'].value_counts()"
   ]
  },
  {
   "cell_type": "markdown",
   "metadata": {},
   "source": [
    "[Ahora revisemos la columna `family_status`. Mira qué tipo de valores hay y qué problemas puedes tener que abordar.]"
   ]
  },
  {
   "cell_type": "code",
   "execution_count": 24,
   "metadata": {},
   "outputs": [
    {
     "data": {
      "text/plain": [
       "married              12380\n",
       "civil partnership     4177\n",
       "unmarried             2813\n",
       "divorced              1195\n",
       "widow / widower        960\n",
       "Name: family_status, dtype: int64"
      ]
     },
     "execution_count": 24,
     "metadata": {},
     "output_type": "execute_result"
    }
   ],
   "source": [
    "# Veamos los valores de la columna\n",
    "credit['family_status'].value_counts()"
   ]
  },
  {
   "cell_type": "markdown",
   "metadata": {},
   "source": [
    "[Ahora revisemos la columna `gender`. Mira qué tipo de valores hay y qué problemas puedes tener que abordar]"
   ]
  },
  {
   "cell_type": "code",
   "execution_count": 25,
   "metadata": {},
   "outputs": [
    {
     "data": {
      "text/plain": [
       "F      14236\n",
       "M       7288\n",
       "XNA        1\n",
       "Name: gender, dtype: int64"
      ]
     },
     "execution_count": 25,
     "metadata": {},
     "output_type": "execute_result"
    }
   ],
   "source": [
    "# Veamos los valores en la columna\n",
    "credit['gender'].value_counts()"
   ]
  },
  {
   "cell_type": "code",
   "execution_count": 26,
   "metadata": {},
   "outputs": [
    {
     "name": "stdout",
     "output_type": "stream",
     "text": [
      "No vemos problema en cambiar el genero de una persona ya que es irrelevante, lo cambiaremos por genero M\n"
     ]
    }
   ],
   "source": [
    "# Aborda los valores problemáticos, si existen\n",
    "credit[credit['gender'] == 'XNA']\n",
    "print('No vemos problema en cambiar el genero de una persona ya que es irrelevante, lo cambiaremos por genero M')\n",
    "credit.loc[credit['gender'] == 'XNA', 'gender'] = 'M'"
   ]
  },
  {
   "cell_type": "code",
   "execution_count": 27,
   "metadata": {},
   "outputs": [
    {
     "data": {
      "text/plain": [
       "F    14236\n",
       "M     7289\n",
       "Name: gender, dtype: int64"
      ]
     },
     "execution_count": 27,
     "metadata": {},
     "output_type": "execute_result"
    }
   ],
   "source": [
    "# Comprueba el resultado - asegúrate de que esté arreglado\n",
    "credit['gender'].value_counts()\n"
   ]
  },
  {
   "cell_type": "markdown",
   "metadata": {},
   "source": [
    "[Ahora vamos a revisar la columna `income_type`. Mira qué tipo de valores hay y qué problemas puedes tener que abordar]"
   ]
  },
  {
   "cell_type": "code",
   "execution_count": 28,
   "metadata": {},
   "outputs": [
    {
     "name": "stdout",
     "output_type": "stream",
     "text": [
      "employee                       11119\n",
      "business                        5085\n",
      "retiree                         3856\n",
      "civil servant                   1459\n",
      "unemployed                         2\n",
      "entrepreneur                       2\n",
      "student                            1\n",
      "paternity / maternity leave        1\n",
      "Name: income_type, dtype: int64\n",
      "\n"
     ]
    },
    {
     "data": {
      "text/html": [
       "<div>\n",
       "<style scoped>\n",
       "    .dataframe tbody tr th:only-of-type {\n",
       "        vertical-align: middle;\n",
       "    }\n",
       "\n",
       "    .dataframe tbody tr th {\n",
       "        vertical-align: top;\n",
       "    }\n",
       "\n",
       "    .dataframe thead th {\n",
       "        text-align: right;\n",
       "    }\n",
       "</style>\n",
       "<table border=\"1\" class=\"dataframe\">\n",
       "  <thead>\n",
       "    <tr style=\"text-align: right;\">\n",
       "      <th></th>\n",
       "      <th>children</th>\n",
       "      <th>days_employed</th>\n",
       "      <th>dob_years</th>\n",
       "      <th>education</th>\n",
       "      <th>education_id</th>\n",
       "      <th>family_status</th>\n",
       "      <th>family_status_id</th>\n",
       "      <th>gender</th>\n",
       "      <th>income_type</th>\n",
       "      <th>debt</th>\n",
       "      <th>total_income</th>\n",
       "      <th>purpose</th>\n",
       "      <th>years_employed</th>\n",
       "    </tr>\n",
       "  </thead>\n",
       "  <tbody>\n",
       "    <tr>\n",
       "      <th>0</th>\n",
       "      <td>1</td>\n",
       "      <td>8437.673028</td>\n",
       "      <td>42</td>\n",
       "      <td>bachelor's degree</td>\n",
       "      <td>0</td>\n",
       "      <td>married</td>\n",
       "      <td>0</td>\n",
       "      <td>F</td>\n",
       "      <td>employee</td>\n",
       "      <td>0</td>\n",
       "      <td>40620.102</td>\n",
       "      <td>house plan</td>\n",
       "      <td>23.116912</td>\n",
       "    </tr>\n",
       "    <tr>\n",
       "      <th>1</th>\n",
       "      <td>1</td>\n",
       "      <td>4024.803754</td>\n",
       "      <td>36</td>\n",
       "      <td>secondary education</td>\n",
       "      <td>1</td>\n",
       "      <td>married</td>\n",
       "      <td>0</td>\n",
       "      <td>F</td>\n",
       "      <td>employee</td>\n",
       "      <td>0</td>\n",
       "      <td>17932.802</td>\n",
       "      <td>get a car</td>\n",
       "      <td>11.026860</td>\n",
       "    </tr>\n",
       "    <tr>\n",
       "      <th>2</th>\n",
       "      <td>0</td>\n",
       "      <td>5623.422610</td>\n",
       "      <td>33</td>\n",
       "      <td>secondary education</td>\n",
       "      <td>1</td>\n",
       "      <td>married</td>\n",
       "      <td>0</td>\n",
       "      <td>M</td>\n",
       "      <td>employee</td>\n",
       "      <td>0</td>\n",
       "      <td>23341.752</td>\n",
       "      <td>house plan</td>\n",
       "      <td>15.406637</td>\n",
       "    </tr>\n",
       "    <tr>\n",
       "      <th>3</th>\n",
       "      <td>3</td>\n",
       "      <td>4124.747207</td>\n",
       "      <td>32</td>\n",
       "      <td>secondary education</td>\n",
       "      <td>1</td>\n",
       "      <td>married</td>\n",
       "      <td>0</td>\n",
       "      <td>M</td>\n",
       "      <td>employee</td>\n",
       "      <td>0</td>\n",
       "      <td>42820.568</td>\n",
       "      <td>education purpose</td>\n",
       "      <td>11.300677</td>\n",
       "    </tr>\n",
       "    <tr>\n",
       "      <th>4</th>\n",
       "      <td>0</td>\n",
       "      <td>340266.072047</td>\n",
       "      <td>53</td>\n",
       "      <td>secondary education</td>\n",
       "      <td>1</td>\n",
       "      <td>civil partnership</td>\n",
       "      <td>1</td>\n",
       "      <td>F</td>\n",
       "      <td>retiree</td>\n",
       "      <td>0</td>\n",
       "      <td>25378.572</td>\n",
       "      <td>wedding plan</td>\n",
       "      <td>932.235814</td>\n",
       "    </tr>\n",
       "    <tr>\n",
       "      <th>5</th>\n",
       "      <td>0</td>\n",
       "      <td>926.185831</td>\n",
       "      <td>27</td>\n",
       "      <td>bachelor's degree</td>\n",
       "      <td>0</td>\n",
       "      <td>civil partnership</td>\n",
       "      <td>1</td>\n",
       "      <td>M</td>\n",
       "      <td>business</td>\n",
       "      <td>0</td>\n",
       "      <td>40922.170</td>\n",
       "      <td>house plan</td>\n",
       "      <td>2.537495</td>\n",
       "    </tr>\n",
       "    <tr>\n",
       "      <th>6</th>\n",
       "      <td>0</td>\n",
       "      <td>2879.202052</td>\n",
       "      <td>43</td>\n",
       "      <td>bachelor's degree</td>\n",
       "      <td>0</td>\n",
       "      <td>married</td>\n",
       "      <td>0</td>\n",
       "      <td>F</td>\n",
       "      <td>business</td>\n",
       "      <td>0</td>\n",
       "      <td>38484.156</td>\n",
       "      <td>house plan</td>\n",
       "      <td>7.888225</td>\n",
       "    </tr>\n",
       "    <tr>\n",
       "      <th>7</th>\n",
       "      <td>0</td>\n",
       "      <td>152.779569</td>\n",
       "      <td>50</td>\n",
       "      <td>secondary education</td>\n",
       "      <td>1</td>\n",
       "      <td>married</td>\n",
       "      <td>0</td>\n",
       "      <td>M</td>\n",
       "      <td>employee</td>\n",
       "      <td>0</td>\n",
       "      <td>21731.829</td>\n",
       "      <td>education purpose</td>\n",
       "      <td>0.418574</td>\n",
       "    </tr>\n",
       "    <tr>\n",
       "      <th>8</th>\n",
       "      <td>2</td>\n",
       "      <td>6929.865299</td>\n",
       "      <td>35</td>\n",
       "      <td>bachelor's degree</td>\n",
       "      <td>0</td>\n",
       "      <td>civil partnership</td>\n",
       "      <td>1</td>\n",
       "      <td>F</td>\n",
       "      <td>employee</td>\n",
       "      <td>0</td>\n",
       "      <td>15337.093</td>\n",
       "      <td>wedding plan</td>\n",
       "      <td>18.985932</td>\n",
       "    </tr>\n",
       "    <tr>\n",
       "      <th>9</th>\n",
       "      <td>0</td>\n",
       "      <td>2188.756445</td>\n",
       "      <td>41</td>\n",
       "      <td>secondary education</td>\n",
       "      <td>1</td>\n",
       "      <td>married</td>\n",
       "      <td>0</td>\n",
       "      <td>M</td>\n",
       "      <td>employee</td>\n",
       "      <td>0</td>\n",
       "      <td>23108.150</td>\n",
       "      <td>house plan</td>\n",
       "      <td>5.996593</td>\n",
       "    </tr>\n",
       "  </tbody>\n",
       "</table>\n",
       "</div>"
      ],
      "text/plain": [
       "   children  days_employed  dob_years            education  education_id  \\\n",
       "0         1    8437.673028         42    bachelor's degree             0   \n",
       "1         1    4024.803754         36  secondary education             1   \n",
       "2         0    5623.422610         33  secondary education             1   \n",
       "3         3    4124.747207         32  secondary education             1   \n",
       "4         0  340266.072047         53  secondary education             1   \n",
       "5         0     926.185831         27    bachelor's degree             0   \n",
       "6         0    2879.202052         43    bachelor's degree             0   \n",
       "7         0     152.779569         50  secondary education             1   \n",
       "8         2    6929.865299         35    bachelor's degree             0   \n",
       "9         0    2188.756445         41  secondary education             1   \n",
       "\n",
       "       family_status  family_status_id gender income_type  debt  total_income  \\\n",
       "0            married                 0      F    employee     0     40620.102   \n",
       "1            married                 0      F    employee     0     17932.802   \n",
       "2            married                 0      M    employee     0     23341.752   \n",
       "3            married                 0      M    employee     0     42820.568   \n",
       "4  civil partnership                 1      F     retiree     0     25378.572   \n",
       "5  civil partnership                 1      M    business     0     40922.170   \n",
       "6            married                 0      F    business     0     38484.156   \n",
       "7            married                 0      M    employee     0     21731.829   \n",
       "8  civil partnership                 1      F    employee     0     15337.093   \n",
       "9            married                 0      M    employee     0     23108.150   \n",
       "\n",
       "             purpose  years_employed  \n",
       "0         house plan       23.116912  \n",
       "1          get a car       11.026860  \n",
       "2         house plan       15.406637  \n",
       "3  education purpose       11.300677  \n",
       "4       wedding plan      932.235814  \n",
       "5         house plan        2.537495  \n",
       "6         house plan        7.888225  \n",
       "7  education purpose        0.418574  \n",
       "8       wedding plan       18.985932  \n",
       "9         house plan        5.996593  "
      ]
     },
     "execution_count": 28,
     "metadata": {},
     "output_type": "execute_result"
    }
   ],
   "source": [
    "# Veamos los valores en la columna\n",
    "print(credit['income_type'].value_counts())\n",
    "print()\n",
    "credit.head(10)"
   ]
  },
  {
   "cell_type": "code",
   "execution_count": 29,
   "metadata": {},
   "outputs": [
    {
     "data": {
      "text/html": [
       "<div>\n",
       "<style scoped>\n",
       "    .dataframe tbody tr th:only-of-type {\n",
       "        vertical-align: middle;\n",
       "    }\n",
       "\n",
       "    .dataframe tbody tr th {\n",
       "        vertical-align: top;\n",
       "    }\n",
       "\n",
       "    .dataframe thead th {\n",
       "        text-align: right;\n",
       "    }\n",
       "</style>\n",
       "<table border=\"1\" class=\"dataframe\">\n",
       "  <thead>\n",
       "    <tr style=\"text-align: right;\">\n",
       "      <th></th>\n",
       "      <th>children</th>\n",
       "      <th>days_employed</th>\n",
       "      <th>dob_years</th>\n",
       "      <th>education</th>\n",
       "      <th>education_id</th>\n",
       "      <th>family_status</th>\n",
       "      <th>family_status_id</th>\n",
       "      <th>gender</th>\n",
       "      <th>income_type</th>\n",
       "      <th>debt</th>\n",
       "      <th>total_income</th>\n",
       "      <th>purpose</th>\n",
       "      <th>years_employed</th>\n",
       "    </tr>\n",
       "  </thead>\n",
       "  <tbody>\n",
       "    <tr>\n",
       "      <th>26</th>\n",
       "      <td>0</td>\n",
       "      <td>NaN</td>\n",
       "      <td>41</td>\n",
       "      <td>secondary education</td>\n",
       "      <td>1</td>\n",
       "      <td>married</td>\n",
       "      <td>0</td>\n",
       "      <td>M</td>\n",
       "      <td>civil servant</td>\n",
       "      <td>0</td>\n",
       "      <td>NaN</td>\n",
       "      <td>education purpose</td>\n",
       "      <td>NaN</td>\n",
       "    </tr>\n",
       "    <tr>\n",
       "      <th>29</th>\n",
       "      <td>0</td>\n",
       "      <td>NaN</td>\n",
       "      <td>63</td>\n",
       "      <td>secondary education</td>\n",
       "      <td>1</td>\n",
       "      <td>unmarried</td>\n",
       "      <td>4</td>\n",
       "      <td>F</td>\n",
       "      <td>retiree</td>\n",
       "      <td>0</td>\n",
       "      <td>NaN</td>\n",
       "      <td>real estate bussiness</td>\n",
       "      <td>NaN</td>\n",
       "    </tr>\n",
       "    <tr>\n",
       "      <th>41</th>\n",
       "      <td>0</td>\n",
       "      <td>NaN</td>\n",
       "      <td>50</td>\n",
       "      <td>secondary education</td>\n",
       "      <td>1</td>\n",
       "      <td>married</td>\n",
       "      <td>0</td>\n",
       "      <td>F</td>\n",
       "      <td>civil servant</td>\n",
       "      <td>0</td>\n",
       "      <td>NaN</td>\n",
       "      <td>get a car</td>\n",
       "      <td>NaN</td>\n",
       "    </tr>\n",
       "    <tr>\n",
       "      <th>55</th>\n",
       "      <td>0</td>\n",
       "      <td>NaN</td>\n",
       "      <td>54</td>\n",
       "      <td>secondary education</td>\n",
       "      <td>1</td>\n",
       "      <td>civil partnership</td>\n",
       "      <td>1</td>\n",
       "      <td>F</td>\n",
       "      <td>retiree</td>\n",
       "      <td>1</td>\n",
       "      <td>NaN</td>\n",
       "      <td>wedding plan</td>\n",
       "      <td>NaN</td>\n",
       "    </tr>\n",
       "    <tr>\n",
       "      <th>65</th>\n",
       "      <td>0</td>\n",
       "      <td>NaN</td>\n",
       "      <td>21</td>\n",
       "      <td>secondary education</td>\n",
       "      <td>1</td>\n",
       "      <td>unmarried</td>\n",
       "      <td>4</td>\n",
       "      <td>M</td>\n",
       "      <td>business</td>\n",
       "      <td>0</td>\n",
       "      <td>NaN</td>\n",
       "      <td>real estate bussiness</td>\n",
       "      <td>NaN</td>\n",
       "    </tr>\n",
       "    <tr>\n",
       "      <th>...</th>\n",
       "      <td>...</td>\n",
       "      <td>...</td>\n",
       "      <td>...</td>\n",
       "      <td>...</td>\n",
       "      <td>...</td>\n",
       "      <td>...</td>\n",
       "      <td>...</td>\n",
       "      <td>...</td>\n",
       "      <td>...</td>\n",
       "      <td>...</td>\n",
       "      <td>...</td>\n",
       "      <td>...</td>\n",
       "      <td>...</td>\n",
       "    </tr>\n",
       "    <tr>\n",
       "      <th>21489</th>\n",
       "      <td>2</td>\n",
       "      <td>NaN</td>\n",
       "      <td>47</td>\n",
       "      <td>secondary education</td>\n",
       "      <td>1</td>\n",
       "      <td>married</td>\n",
       "      <td>0</td>\n",
       "      <td>M</td>\n",
       "      <td>business</td>\n",
       "      <td>0</td>\n",
       "      <td>NaN</td>\n",
       "      <td>get a car</td>\n",
       "      <td>NaN</td>\n",
       "    </tr>\n",
       "    <tr>\n",
       "      <th>21495</th>\n",
       "      <td>1</td>\n",
       "      <td>NaN</td>\n",
       "      <td>50</td>\n",
       "      <td>secondary education</td>\n",
       "      <td>1</td>\n",
       "      <td>civil partnership</td>\n",
       "      <td>1</td>\n",
       "      <td>F</td>\n",
       "      <td>employee</td>\n",
       "      <td>0</td>\n",
       "      <td>NaN</td>\n",
       "      <td>wedding plan</td>\n",
       "      <td>NaN</td>\n",
       "    </tr>\n",
       "    <tr>\n",
       "      <th>21497</th>\n",
       "      <td>0</td>\n",
       "      <td>NaN</td>\n",
       "      <td>48</td>\n",
       "      <td>bachelor's degree</td>\n",
       "      <td>0</td>\n",
       "      <td>married</td>\n",
       "      <td>0</td>\n",
       "      <td>F</td>\n",
       "      <td>business</td>\n",
       "      <td>0</td>\n",
       "      <td>NaN</td>\n",
       "      <td>house plan</td>\n",
       "      <td>NaN</td>\n",
       "    </tr>\n",
       "    <tr>\n",
       "      <th>21502</th>\n",
       "      <td>1</td>\n",
       "      <td>NaN</td>\n",
       "      <td>42</td>\n",
       "      <td>secondary education</td>\n",
       "      <td>1</td>\n",
       "      <td>married</td>\n",
       "      <td>0</td>\n",
       "      <td>F</td>\n",
       "      <td>employee</td>\n",
       "      <td>0</td>\n",
       "      <td>NaN</td>\n",
       "      <td>real estate bussiness</td>\n",
       "      <td>NaN</td>\n",
       "    </tr>\n",
       "    <tr>\n",
       "      <th>21510</th>\n",
       "      <td>2</td>\n",
       "      <td>NaN</td>\n",
       "      <td>28</td>\n",
       "      <td>secondary education</td>\n",
       "      <td>1</td>\n",
       "      <td>married</td>\n",
       "      <td>0</td>\n",
       "      <td>F</td>\n",
       "      <td>employee</td>\n",
       "      <td>0</td>\n",
       "      <td>NaN</td>\n",
       "      <td>get a car</td>\n",
       "      <td>NaN</td>\n",
       "    </tr>\n",
       "  </tbody>\n",
       "</table>\n",
       "<p>2173 rows × 13 columns</p>\n",
       "</div>"
      ],
      "text/plain": [
       "       children  days_employed  dob_years            education  education_id  \\\n",
       "26            0            NaN         41  secondary education             1   \n",
       "29            0            NaN         63  secondary education             1   \n",
       "41            0            NaN         50  secondary education             1   \n",
       "55            0            NaN         54  secondary education             1   \n",
       "65            0            NaN         21  secondary education             1   \n",
       "...         ...            ...        ...                  ...           ...   \n",
       "21489         2            NaN         47  secondary education             1   \n",
       "21495         1            NaN         50  secondary education             1   \n",
       "21497         0            NaN         48    bachelor's degree             0   \n",
       "21502         1            NaN         42  secondary education             1   \n",
       "21510         2            NaN         28  secondary education             1   \n",
       "\n",
       "           family_status  family_status_id gender    income_type  debt  \\\n",
       "26               married                 0      M  civil servant     0   \n",
       "29             unmarried                 4      F        retiree     0   \n",
       "41               married                 0      F  civil servant     0   \n",
       "55     civil partnership                 1      F        retiree     1   \n",
       "65             unmarried                 4      M       business     0   \n",
       "...                  ...               ...    ...            ...   ...   \n",
       "21489            married                 0      M       business     0   \n",
       "21495  civil partnership                 1      F       employee     0   \n",
       "21497            married                 0      F       business     0   \n",
       "21502            married                 0      F       employee     0   \n",
       "21510            married                 0      F       employee     0   \n",
       "\n",
       "       total_income                purpose  years_employed  \n",
       "26              NaN      education purpose             NaN  \n",
       "29              NaN  real estate bussiness             NaN  \n",
       "41              NaN              get a car             NaN  \n",
       "55              NaN           wedding plan             NaN  \n",
       "65              NaN  real estate bussiness             NaN  \n",
       "...             ...                    ...             ...  \n",
       "21489           NaN              get a car             NaN  \n",
       "21495           NaN           wedding plan             NaN  \n",
       "21497           NaN             house plan             NaN  \n",
       "21502           NaN  real estate bussiness             NaN  \n",
       "21510           NaN              get a car             NaN  \n",
       "\n",
       "[2173 rows x 13 columns]"
      ]
     },
     "execution_count": 29,
     "metadata": {},
     "output_type": "execute_result"
    }
   ],
   "source": [
    "# Comprobar los duplicados\n",
    "credit[credit.duplicated('days_employed')]"
   ]
  },
  {
   "cell_type": "markdown",
   "metadata": {},
   "source": [
    "Aun tenemos valores ausentes, necesitamos rellenarlos antes de tomar una decision de depurar la tabla"
   ]
  },
  {
   "cell_type": "code",
   "execution_count": 30,
   "metadata": {},
   "outputs": [
    {
     "name": "stdout",
     "output_type": "stream",
     "text": [
      "<class 'pandas.core.frame.DataFrame'>\n",
      "RangeIndex: 21525 entries, 0 to 21524\n",
      "Data columns (total 13 columns):\n",
      " #   Column            Non-Null Count  Dtype  \n",
      "---  ------            --------------  -----  \n",
      " 0   children          21525 non-null  int64  \n",
      " 1   days_employed     19351 non-null  float64\n",
      " 2   dob_years         21525 non-null  int32  \n",
      " 3   education         21525 non-null  object \n",
      " 4   education_id      21525 non-null  int64  \n",
      " 5   family_status     21525 non-null  object \n",
      " 6   family_status_id  21525 non-null  int64  \n",
      " 7   gender            21525 non-null  object \n",
      " 8   income_type       21525 non-null  object \n",
      " 9   debt              21525 non-null  int64  \n",
      " 10  total_income      19351 non-null  float64\n",
      " 11  purpose           21525 non-null  object \n",
      " 12  years_employed    19351 non-null  float64\n",
      "dtypes: float64(3), int32(1), int64(4), object(5)\n",
      "memory usage: 2.1+ MB\n"
     ]
    }
   ],
   "source": [
    "# Comprueba el tamaño del conjunto de datos que tienes ahora, después de haber ejecutado estas primeras manipulaciones\n",
    "credit.shape\n",
    "\n",
    "credit.info()"
   ]
  },
  {
   "cell_type": "markdown",
   "metadata": {},
   "source": [
    "Tenemos los mismos datos con los que empezamos, sin embargo, ya tenemos cambios, hemos arreglado y homologado los datos en las diferentes columnas por lo que ya se nos es mas facil agrupar y tomar una decision para rellenar los valores ausentes y tomar decisiones"
   ]
  },
  {
   "cell_type": "markdown",
   "metadata": {},
   "source": [
    "# Trabajar con valores ausentes"
   ]
  },
  {
   "cell_type": "markdown",
   "metadata": {},
   "source": [
    "[Para acelerar el trabajo con algunos datos, puede que necesites trabajar con diccionarios para algunos valores, en los que se proporcionan IDs. Explica por qué y con qué diccionarios vas a trabajar.]"
   ]
  },
  {
   "cell_type": "code",
   "execution_count": 31,
   "metadata": {},
   "outputs": [
    {
     "name": "stdout",
     "output_type": "stream",
     "text": [
      "   children  days_employed  dob_years            education  education_id  \\\n",
      "0         1    8437.673028         42    bachelor's degree             0   \n",
      "1         1    4024.803754         36  secondary education             1   \n",
      "2         0    5623.422610         33  secondary education             1   \n",
      "3         3    4124.747207         32  secondary education             1   \n",
      "4         0  340266.072047         53  secondary education             1   \n",
      "5         0     926.185831         27    bachelor's degree             0   \n",
      "6         0    2879.202052         43    bachelor's degree             0   \n",
      "7         0     152.779569         50  secondary education             1   \n",
      "8         2    6929.865299         35    bachelor's degree             0   \n",
      "9         0    2188.756445         41  secondary education             1   \n",
      "\n",
      "       family_status  family_status_id gender income_type  debt  total_income  \\\n",
      "0            married                 0      F    employee     0     40620.102   \n",
      "1            married                 0      F    employee     0     17932.802   \n",
      "2            married                 0      M    employee     0     23341.752   \n",
      "3            married                 0      M    employee     0     42820.568   \n",
      "4  civil partnership                 1      F     retiree     0     25378.572   \n",
      "5  civil partnership                 1      M    business     0     40922.170   \n",
      "6            married                 0      F    business     0     38484.156   \n",
      "7            married                 0      M    employee     0     21731.829   \n",
      "8  civil partnership                 1      F    employee     0     15337.093   \n",
      "9            married                 0      M    employee     0     23108.150   \n",
      "\n",
      "             purpose  years_employed  \n",
      "0         house plan       23.116912  \n",
      "1          get a car       11.026860  \n",
      "2         house plan       15.406637  \n",
      "3  education purpose       11.300677  \n",
      "4       wedding plan      932.235814  \n",
      "5         house plan        2.537495  \n",
      "6         house plan        7.888225  \n",
      "7  education purpose        0.418574  \n",
      "8       wedding plan       18.985932  \n",
      "9         house plan        5.996593  \n"
     ]
    }
   ],
   "source": [
    "# Encuentra los diccionarios\n",
    "print(credit.head(10))\n",
    "\n",
    "education = {\"bachelor's degree\" : 0,\n",
    "            'secondary education' : 1,\n",
    "            'some college' : 2,\n",
    "            'primary education' : 3,\n",
    "            'graduate degree' : 4}\n",
    "\n",
    "family = {\"married\" : 0,\n",
    "            'civil partnership' : 1,\n",
    "            'widow / widower' : 2,\n",
    "            'divorced' : 3,\n",
    "            'unmarried' : 4}\n",
    "\n",
    "family_count = {\"married\" : 2,\n",
    "            'civil partnership' : 2,\n",
    "            'widow / widower' : 1,\n",
    "            'divorced' : 1,\n",
    "            'unmarried' : 1}"
   ]
  },
  {
   "cell_type": "markdown",
   "metadata": {},
   "source": [
    "<div class=\"alert alert-block alert-warning\">\n",
    "<b>Comentario del revisor</b> <a class=\"tocSkip\"></a> Seria mejor si aqui muestras todo en DataFrame"
   ]
  },
  {
   "cell_type": "markdown",
   "metadata": {},
   "source": [
    "### Restaurar valores ausentes en `total_income`"
   ]
  },
  {
   "cell_type": "code",
   "execution_count": 32,
   "metadata": {},
   "outputs": [],
   "source": [
    "# Vamos a escribir una función que calcule la categoría de edad\n",
    "def age_group(age):\n",
    "    if age < 21:\n",
    "        return 'N/A' \n",
    "    elif age < 30:\n",
    "        return '21-29'\n",
    "    elif age < 40:\n",
    "        return '30-39'\n",
    "    elif age < 50:\n",
    "        return '40-49'\n",
    "    elif age < 60:\n",
    "        return '50-59'\n",
    "    elif age < 70:\n",
    "        return '60-69'\n",
    "    return '70+'    "
   ]
  },
  {
   "cell_type": "code",
   "execution_count": 33,
   "metadata": {},
   "outputs": [
    {
     "data": {
      "text/plain": [
       "'70+'"
      ]
     },
     "execution_count": 33,
     "metadata": {},
     "output_type": "execute_result"
    }
   ],
   "source": [
    "# Prueba si la función funciona bien\n",
    "age_group(70)"
   ]
  },
  {
   "cell_type": "code",
   "execution_count": 34,
   "metadata": {},
   "outputs": [],
   "source": [
    "# Crear una nueva columna basada en la función\n",
    "credit['age_group'] = credit['dob_years'].apply(age_group)"
   ]
  },
  {
   "cell_type": "code",
   "execution_count": 35,
   "metadata": {},
   "outputs": [
    {
     "data": {
      "text/plain": [
       "0        40-49\n",
       "1        30-39\n",
       "2        30-39\n",
       "3        30-39\n",
       "4        50-59\n",
       "         ...  \n",
       "21520    40-49\n",
       "21521    60-69\n",
       "21522    30-39\n",
       "21523    30-39\n",
       "21524    40-49\n",
       "Name: age_group, Length: 21525, dtype: object"
      ]
     },
     "execution_count": 35,
     "metadata": {},
     "output_type": "execute_result"
    }
   ],
   "source": [
    "# Comprobar cómo los valores en la nueva columna\n",
    "credit['age_group']"
   ]
  },
  {
   "cell_type": "markdown",
   "metadata": {},
   "source": [
    "Si bien en la actualidad un factor importante en los ingresos de una persona es su preparacion profesional y los dependientes o familia de esta persona no siempre es asi, ya que hay personas que suelen ganar mas sin tener estudios profesionales, por lo que para llenar los valores ausentes tenemos que ver a que grupo pertenece ya sea su escolaridad, el estatus de su familia, el tamaño de su familia, y a su vez relacionarla con los ingresos y los dias trabajados para tomar una decision de rellenar con estos datos con media o mediana"
   ]
  },
  {
   "cell_type": "code",
   "execution_count": 36,
   "metadata": {},
   "outputs": [
    {
     "data": {
      "text/html": [
       "<div>\n",
       "<style scoped>\n",
       "    .dataframe tbody tr th:only-of-type {\n",
       "        vertical-align: middle;\n",
       "    }\n",
       "\n",
       "    .dataframe tbody tr th {\n",
       "        vertical-align: top;\n",
       "    }\n",
       "\n",
       "    .dataframe thead th {\n",
       "        text-align: right;\n",
       "    }\n",
       "</style>\n",
       "<table border=\"1\" class=\"dataframe\">\n",
       "  <thead>\n",
       "    <tr style=\"text-align: right;\">\n",
       "      <th></th>\n",
       "      <th>children</th>\n",
       "      <th>days_employed</th>\n",
       "      <th>dob_years</th>\n",
       "      <th>education</th>\n",
       "      <th>education_id</th>\n",
       "      <th>family_status</th>\n",
       "      <th>family_status_id</th>\n",
       "      <th>gender</th>\n",
       "      <th>income_type</th>\n",
       "      <th>debt</th>\n",
       "      <th>total_income</th>\n",
       "      <th>purpose</th>\n",
       "      <th>years_employed</th>\n",
       "      <th>age_group</th>\n",
       "    </tr>\n",
       "  </thead>\n",
       "  <tbody>\n",
       "    <tr>\n",
       "      <th>0</th>\n",
       "      <td>1</td>\n",
       "      <td>8437.673028</td>\n",
       "      <td>42</td>\n",
       "      <td>bachelor's degree</td>\n",
       "      <td>0</td>\n",
       "      <td>married</td>\n",
       "      <td>0</td>\n",
       "      <td>F</td>\n",
       "      <td>employee</td>\n",
       "      <td>0</td>\n",
       "      <td>40620.102</td>\n",
       "      <td>house plan</td>\n",
       "      <td>23.116912</td>\n",
       "      <td>40-49</td>\n",
       "    </tr>\n",
       "    <tr>\n",
       "      <th>1</th>\n",
       "      <td>1</td>\n",
       "      <td>4024.803754</td>\n",
       "      <td>36</td>\n",
       "      <td>secondary education</td>\n",
       "      <td>1</td>\n",
       "      <td>married</td>\n",
       "      <td>0</td>\n",
       "      <td>F</td>\n",
       "      <td>employee</td>\n",
       "      <td>0</td>\n",
       "      <td>17932.802</td>\n",
       "      <td>get a car</td>\n",
       "      <td>11.026860</td>\n",
       "      <td>30-39</td>\n",
       "    </tr>\n",
       "    <tr>\n",
       "      <th>2</th>\n",
       "      <td>0</td>\n",
       "      <td>5623.422610</td>\n",
       "      <td>33</td>\n",
       "      <td>secondary education</td>\n",
       "      <td>1</td>\n",
       "      <td>married</td>\n",
       "      <td>0</td>\n",
       "      <td>M</td>\n",
       "      <td>employee</td>\n",
       "      <td>0</td>\n",
       "      <td>23341.752</td>\n",
       "      <td>house plan</td>\n",
       "      <td>15.406637</td>\n",
       "      <td>30-39</td>\n",
       "    </tr>\n",
       "    <tr>\n",
       "      <th>3</th>\n",
       "      <td>3</td>\n",
       "      <td>4124.747207</td>\n",
       "      <td>32</td>\n",
       "      <td>secondary education</td>\n",
       "      <td>1</td>\n",
       "      <td>married</td>\n",
       "      <td>0</td>\n",
       "      <td>M</td>\n",
       "      <td>employee</td>\n",
       "      <td>0</td>\n",
       "      <td>42820.568</td>\n",
       "      <td>education purpose</td>\n",
       "      <td>11.300677</td>\n",
       "      <td>30-39</td>\n",
       "    </tr>\n",
       "    <tr>\n",
       "      <th>4</th>\n",
       "      <td>0</td>\n",
       "      <td>340266.072047</td>\n",
       "      <td>53</td>\n",
       "      <td>secondary education</td>\n",
       "      <td>1</td>\n",
       "      <td>civil partnership</td>\n",
       "      <td>1</td>\n",
       "      <td>F</td>\n",
       "      <td>retiree</td>\n",
       "      <td>0</td>\n",
       "      <td>25378.572</td>\n",
       "      <td>wedding plan</td>\n",
       "      <td>932.235814</td>\n",
       "      <td>50-59</td>\n",
       "    </tr>\n",
       "  </tbody>\n",
       "</table>\n",
       "</div>"
      ],
      "text/plain": [
       "   children  days_employed  dob_years            education  education_id  \\\n",
       "0         1    8437.673028         42    bachelor's degree             0   \n",
       "1         1    4024.803754         36  secondary education             1   \n",
       "2         0    5623.422610         33  secondary education             1   \n",
       "3         3    4124.747207         32  secondary education             1   \n",
       "4         0  340266.072047         53  secondary education             1   \n",
       "\n",
       "       family_status  family_status_id gender income_type  debt  total_income  \\\n",
       "0            married                 0      F    employee     0     40620.102   \n",
       "1            married                 0      F    employee     0     17932.802   \n",
       "2            married                 0      M    employee     0     23341.752   \n",
       "3            married                 0      M    employee     0     42820.568   \n",
       "4  civil partnership                 1      F     retiree     0     25378.572   \n",
       "\n",
       "             purpose  years_employed age_group  \n",
       "0         house plan       23.116912     40-49  \n",
       "1          get a car       11.026860     30-39  \n",
       "2         house plan       15.406637     30-39  \n",
       "3  education purpose       11.300677     30-39  \n",
       "4       wedding plan      932.235814     50-59  "
      ]
     },
     "execution_count": 36,
     "metadata": {},
     "output_type": "execute_result"
    }
   ],
   "source": [
    "# Crea una tabla sin valores ausentes y muestra algunas de sus filas para asegurarte de que se ve bien\n",
    "credit.head()"
   ]
  },
  {
   "cell_type": "code",
   "execution_count": 37,
   "metadata": {},
   "outputs": [
    {
     "name": "stdout",
     "output_type": "stream",
     "text": [
      "income_type\n",
      "business                       32386.793835\n",
      "civil servant                  27343.729582\n",
      "employee                       25820.841683\n",
      "entrepreneur                   79866.103000\n",
      "paternity / maternity leave     8612.661000\n",
      "retiree                        21940.394503\n",
      "student                        15712.260000\n",
      "unemployed                     21014.360500\n",
      "Name: total_income, dtype: float64\n",
      "\n",
      "age_group\n",
      "21-29    25658.177196\n",
      "30-39    28312.479963\n",
      "40-49    28491.929026\n",
      "50-59    25811.700327\n",
      "60-69    23242.812818\n",
      "70+      20125.658331\n",
      "N/A      19586.303559\n",
      "Name: total_income, dtype: float64\n",
      "\n",
      "family_status\n",
      "civil partnership    26694.428597\n",
      "divorced             27189.354550\n",
      "married              27041.784689\n",
      "unmarried            26934.069805\n",
      "widow / widower      22984.208556\n",
      "Name: total_income, dtype: float64\n",
      "\n",
      "education\n",
      "bachelor's degree      33142.802434\n",
      "graduate degree        27960.024667\n",
      "primary education      21144.882211\n",
      "secondary education    24594.503037\n",
      "some college           29045.443644\n",
      "Name: total_income, dtype: float64\n"
     ]
    }
   ],
   "source": [
    "# Examina los valores medios de los ingresos en función de los factores que identificaste\n",
    "print(credit.groupby('income_type')['total_income'].mean())\n",
    "print()\n",
    "print(credit.groupby('age_group')['total_income'].mean())\n",
    "print()\n",
    "print(credit.groupby('family_status')['total_income'].mean())\n",
    "print()\n",
    "print(credit.groupby('education')['total_income'].mean())"
   ]
  },
  {
   "cell_type": "code",
   "execution_count": 38,
   "metadata": {
    "scrolled": true
   },
   "outputs": [
    {
     "name": "stdout",
     "output_type": "stream",
     "text": [
      "income_type\n",
      "business                       27577.2720\n",
      "civil servant                  24071.6695\n",
      "employee                       22815.1035\n",
      "entrepreneur                   79866.1030\n",
      "paternity / maternity leave     8612.6610\n",
      "retiree                        18962.3180\n",
      "student                        15712.2600\n",
      "unemployed                     21014.3605\n",
      "Name: total_income, dtype: float64\n",
      "\n",
      "age_group\n",
      "21-29    22905.0740\n",
      "30-39    24667.5280\n",
      "40-49    24755.6960\n",
      "50-59    22203.0745\n",
      "60-69    19817.4400\n",
      "70+      18751.3240\n",
      "N/A      17257.2770\n",
      "Name: total_income, dtype: float64\n",
      "\n",
      "family_status\n",
      "civil partnership    23186.534\n",
      "divorced             23515.096\n",
      "married              23389.540\n",
      "unmarried            23149.028\n",
      "widow / widower      20514.190\n",
      "Name: total_income, dtype: float64\n",
      "\n",
      "education\n",
      "bachelor's degree      28054.5310\n",
      "graduate degree        25161.5835\n",
      "primary education      18741.9760\n",
      "secondary education    21836.5830\n",
      "some college           25618.4640\n",
      "Name: total_income, dtype: float64\n"
     ]
    }
   ],
   "source": [
    "# Examina los valores medianos de los ingresos en función de los factores que identificaste\n",
    "print(credit.groupby('income_type')['total_income'].median())\n",
    "print()\n",
    "print(credit.groupby('age_group')['total_income'].median())\n",
    "print()\n",
    "print(credit.groupby('family_status')['total_income'].median())\n",
    "print()\n",
    "print(credit.groupby('education')['total_income'].median())"
   ]
  },
  {
   "cell_type": "markdown",
   "metadata": {},
   "source": [
    "Tenemos diferentes grupos de datos para conecer el ingreso, tomaremos el factor de tipo de ingreso, ya que en esta seccion tenemos una mayor diferenciacion en cuanto a cuanto es lo que puede llegar a ingresar una persona con un trabajo especifico y no dejarnos llevar por su situacion sentimental o la edad, ya que seria irrelevante."
   ]
  },
  {
   "cell_type": "code",
   "execution_count": 39,
   "metadata": {},
   "outputs": [
    {
     "name": "stdout",
     "output_type": "stream",
     "text": [
      "income_type\n",
      "business                       32386.793835\n",
      "civil servant                  27343.729582\n",
      "employee                       25820.841683\n",
      "entrepreneur                   79866.103000\n",
      "paternity / maternity leave     8612.661000\n",
      "retiree                        21940.394503\n",
      "student                        15712.260000\n",
      "unemployed                     21014.360500\n",
      "Name: total_income, dtype: float64\n"
     ]
    }
   ],
   "source": [
    "#  Escribe una función que usaremos para completar los valores ausentes\n",
    "mean_type_income = credit.groupby('income_type')['total_income'].mean()\n",
    "print(mean_type_income)\n",
    "\n",
    "def values_total_income(row):\n",
    "    total_income = row['total_income']\n",
    "    income_type = row['income_type']\n",
    "    \n",
    "    if total_income == '':\n",
    "        if income_type == 'business':\n",
    "            return 32386.79\n",
    "        elif income_type == 'civil servant':\n",
    "            return 27343.72\n",
    "        elif income_type == 'employee':\n",
    "            return 25820.84\n",
    "        elif income_type == 'entrepreneur':\n",
    "            return 79866.10\n",
    "        elif income_type == 'paternity / maternity leave':\n",
    "            return 8612.66\n",
    "        elif income_type == 'retiree':\n",
    "            return 21940.39\n",
    "        elif income_type == 'student':\n",
    "            return 15712.26\n",
    "        elif income_type == 'unemployed':\n",
    "            return 21014.36\n",
    "    if total_income != 0:\n",
    "        return total_income\n",
    "    \n",
    "      "
   ]
  },
  {
   "cell_type": "markdown",
   "metadata": {},
   "source": [
    "Estos datos los usamos solo de base para la realizacion de la funcion, los resultados ya los tenemos y aplicamos en las siguientes secciones"
   ]
  },
  {
   "cell_type": "code",
   "execution_count": 40,
   "metadata": {},
   "outputs": [
    {
     "name": "stdout",
     "output_type": "stream",
     "text": [
      "21940.39\n"
     ]
    }
   ],
   "source": [
    "# Comprueba si funciona       \n",
    "row_values=['','retiree']\n",
    "row_columns=['total_income','income_type']\n",
    "row = pd.Series(data=row_values, index=row_columns)\n",
    "print(values_total_income(row))"
   ]
  },
  {
   "cell_type": "code",
   "execution_count": 41,
   "metadata": {},
   "outputs": [],
   "source": [
    "# Aplícalo a cada fila\n",
    "credit['total_income'] = credit['total_income'].fillna('')\n",
    "credit['total_income'] = credit.apply(values_total_income,axis=1)"
   ]
  },
  {
   "cell_type": "code",
   "execution_count": 42,
   "metadata": {},
   "outputs": [
    {
     "name": "stdout",
     "output_type": "stream",
     "text": [
      "Empty DataFrame\n",
      "Columns: [children, days_employed, dob_years, education, education_id, family_status, family_status_id, gender, income_type, debt, total_income, purpose, years_employed, age_group]\n",
      "Index: []\n"
     ]
    }
   ],
   "source": [
    "# Comprueba si tenemos algún error\n",
    "print(credit[credit['income_type'].isna()])"
   ]
  },
  {
   "cell_type": "markdown",
   "metadata": {},
   "source": [
    "Hemos LLenado los valores ausentes de la columna de ingresos totales con la media de los ingresos en relacion al tipo de ingreso que tienen las personas, ahora ya no contamos con valores ausentes en esta columna"
   ]
  },
  {
   "cell_type": "code",
   "execution_count": 43,
   "metadata": {},
   "outputs": [
    {
     "name": "stdout",
     "output_type": "stream",
     "text": [
      "<class 'pandas.core.frame.DataFrame'>\n",
      "RangeIndex: 21525 entries, 0 to 21524\n",
      "Data columns (total 14 columns):\n",
      " #   Column            Non-Null Count  Dtype  \n",
      "---  ------            --------------  -----  \n",
      " 0   children          21525 non-null  int64  \n",
      " 1   days_employed     19351 non-null  float64\n",
      " 2   dob_years         21525 non-null  int32  \n",
      " 3   education         21525 non-null  object \n",
      " 4   education_id      21525 non-null  int64  \n",
      " 5   family_status     21525 non-null  object \n",
      " 6   family_status_id  21525 non-null  int64  \n",
      " 7   gender            21525 non-null  object \n",
      " 8   income_type       21525 non-null  object \n",
      " 9   debt              21525 non-null  int64  \n",
      " 10  total_income      21525 non-null  float64\n",
      " 11  purpose           21525 non-null  object \n",
      " 12  years_employed    19351 non-null  float64\n",
      " 13  age_group         21525 non-null  object \n",
      "dtypes: float64(3), int32(1), int64(4), object(6)\n",
      "memory usage: 2.2+ MB\n"
     ]
    }
   ],
   "source": [
    "# Comprobar el número de entradas en las columnas\n",
    "credit.info()"
   ]
  },
  {
   "cell_type": "markdown",
   "metadata": {},
   "source": [
    "###  Restaurar valores en `days_employed`"
   ]
  },
  {
   "cell_type": "markdown",
   "metadata": {},
   "source": [
    "Primero repararemos los valores ya que hay gente que ha trabajado mas años que su propia edad, vemos de acuerdo a los agrupamientos que tenemos que los valores saltan de dias trabajados abajo de veinte mil dias hasta arriba de cien mil dias que es mas de lo que han vivido, por eso corregiremos estos datos en esta parte para tomar una decision en cuanto a usar medias o medianas."
   ]
  },
  {
   "cell_type": "code",
   "execution_count": 44,
   "metadata": {
    "pycharm": {
     "name": "#%%\n"
    }
   },
   "outputs": [
    {
     "name": "stdout",
     "output_type": "stream",
     "text": [
      "       children  days_employed  dob_years            education  education_id  \\\n",
      "3386          0  328895.862752         58  secondary education             1   \n",
      "3642          0  328874.270668         54  secondary education             1   \n",
      "13325         0  328862.571412         55  secondary education             1   \n",
      "5756          0  328842.364916         51    bachelor's degree             0   \n",
      "5332          0  328834.274455         55  secondary education             1   \n",
      "7229          1  328827.345667         32  secondary education             1   \n",
      "14783         0  328795.726728         62    bachelor's degree             0   \n",
      "17782         0  328771.341387         56  secondary education             1   \n",
      "9328          2  328734.923996         41    bachelor's degree             0   \n",
      "20444         0  328728.720605         72  secondary education             1   \n",
      "\n",
      "           family_status  family_status_id gender income_type  debt  \\\n",
      "3386     widow / widower                 2      F     retiree     0   \n",
      "3642             married                 0      F     retiree     0   \n",
      "13325    widow / widower                 2      F     retiree     0   \n",
      "5756             married                 0      F     retiree     0   \n",
      "5332             married                 0      F     retiree     0   \n",
      "7229   civil partnership                 1      F     retiree     0   \n",
      "14783            married                 0      F     retiree     0   \n",
      "17782            married                 0      F     retiree     0   \n",
      "9328             married                 0      M     retiree     0   \n",
      "20444    widow / widower                 2      F     retiree     0   \n",
      "\n",
      "       total_income                purpose  years_employed age_group  \n",
      "3386      20869.182      education purpose      901.084555     50-59  \n",
      "3642      32375.213             house plan      901.025399     50-59  \n",
      "13325     15860.381              get a car      900.993346     50-59  \n",
      "5756      30269.033             house plan      900.937986     50-59  \n",
      "5332       7968.343      education purpose      900.915820     50-59  \n",
      "7229      19546.075           wedding plan      900.896837     30-39  \n",
      "14783     12790.431              get a car      900.810210     60-69  \n",
      "17782     10983.688  real estate bussiness      900.743401     50-59  \n",
      "9328      20319.600  real estate bussiness      900.643627     40-49  \n",
      "20444     15443.094             house plan      900.626632       70+  \n",
      "\n",
      "income_type\n",
      "business                       1547.382223\n",
      "civil servant                  2689.368353\n",
      "employee                       1574.202821\n",
      "entrepreneur                    520.848083\n",
      "paternity / maternity leave    3296.759962\n",
      "retiree                        3652.133063\n",
      "student                         578.751554\n",
      "unemployed                     3664.136527\n",
      "Name: days_employed, dtype: float64\n",
      "\n",
      "age_group\n",
      "21-29    1013.729080\n",
      "30-39    1601.784231\n",
      "40-49    2108.529344\n",
      "50-59    3432.307953\n",
      "60-69    3628.359368\n",
      "70+      3652.129894\n",
      "N/A       695.968951\n",
      "Name: days_employed, dtype: float64\n",
      "\n",
      "family_status\n",
      "civil partnership    1944.345291\n",
      "divorced             2401.954568\n",
      "married              2304.964439\n",
      "unmarried            1462.009287\n",
      "widow / widower      3551.097259\n",
      "Name: days_employed, dtype: float64\n",
      "\n",
      "education\n",
      "bachelor's degree      1895.747795\n",
      "graduate degree        3569.305175\n",
      "primary education      3043.933615\n",
      "secondary education    2392.483500\n",
      "some college           1209.128083\n",
      "Name: days_employed, dtype: float64\n"
     ]
    }
   ],
   "source": [
    "# Distribución de las medianas de `days_employed` en función de los parámetros identificados\n",
    "try_years =credit[credit['age_group'] == '50-59']\n",
    "try_years =credit[credit['days_employed'] > 20000]\n",
    "print(try_years.sort_values(by='days_employed',ascending=False).tail(10))\n",
    "\n",
    "\n",
    "\n",
    "def days_fix(days):\n",
    "    if days > 20000:\n",
    "        return days/100\n",
    "    return days\n",
    "\n",
    "credit['days_employed'] = credit['days_employed'].apply(days_fix)\n",
    "print()\n",
    "print(credit.groupby('income_type')['days_employed'].median())\n",
    "print()\n",
    "print(credit.groupby('age_group')['days_employed'].median())\n",
    "print()\n",
    "print(credit.groupby('family_status')['days_employed'].median())\n",
    "print()\n",
    "print(credit.groupby('education')['days_employed'].median())\n"
   ]
  },
  {
   "cell_type": "code",
   "execution_count": 45,
   "metadata": {},
   "outputs": [
    {
     "name": "stdout",
     "output_type": "stream",
     "text": [
      "income_type\n",
      "business                       2111.524398\n",
      "civil servant                  3399.896902\n",
      "employee                       2326.499216\n",
      "entrepreneur                    520.848083\n",
      "paternity / maternity leave    3296.759962\n",
      "retiree                        3650.034912\n",
      "student                         578.751554\n",
      "unemployed                     3664.136527\n",
      "Name: days_employed, dtype: float64\n",
      "\n",
      "age_group\n",
      "21-29    1227.068268\n",
      "30-39    2035.917557\n",
      "40-49    2752.695051\n",
      "50-59    3399.066462\n",
      "60-69    3693.761202\n",
      "70+      3731.259123\n",
      "N/A       673.648361\n",
      "Name: days_employed, dtype: float64\n",
      "\n",
      "family_status\n",
      "civil partnership    2469.536856\n",
      "divorced             2666.775004\n",
      "married              2667.825633\n",
      "unmarried            2073.707848\n",
      "widow / widower      3382.588503\n",
      "Name: days_employed, dtype: float64\n",
      "\n",
      "education\n",
      "bachelor's degree      2429.669060\n",
      "graduate degree        3536.559416\n",
      "primary education      2540.081375\n",
      "secondary education    2682.330382\n",
      "some college           1673.807532\n",
      "Name: days_employed, dtype: float64\n"
     ]
    }
   ],
   "source": [
    "# Distribución de las medias de `days_employed` en función de los parámetros identificados\n",
    "print(credit.groupby('income_type')['days_employed'].mean())\n",
    "print()\n",
    "print(credit.groupby('age_group')['days_employed'].mean())\n",
    "print()\n",
    "print(credit.groupby('family_status')['days_employed'].mean())\n",
    "print()\n",
    "print(credit.groupby('education')['days_employed'].mean())"
   ]
  },
  {
   "cell_type": "markdown",
   "metadata": {},
   "source": [
    "Tomaremos como base las medianas del agrupamiento por 'income_type' ya que la lista de clasificacion es mas grande por lo que los datos son mas precisos y los valores son muy similares de acuerdo a la media, por lo que si una persona al momento de solicitar el credito y rectificar los datos con la institucion de credito y tiene mas dias no tendra algun problema, caso contrario si ponemos que tiene mas dias y resulta que son muchos menos los reales."
   ]
  },
  {
   "cell_type": "code",
   "execution_count": 46,
   "metadata": {},
   "outputs": [
    {
     "name": "stdout",
     "output_type": "stream",
     "text": [
      "income_type\n",
      "business                       1547.382223\n",
      "civil servant                  2689.368353\n",
      "employee                       1574.202821\n",
      "entrepreneur                    520.848083\n",
      "paternity / maternity leave    3296.759962\n",
      "retiree                        3652.133063\n",
      "student                         578.751554\n",
      "unemployed                     3664.136527\n",
      "Name: days_employed, dtype: float64\n"
     ]
    }
   ],
   "source": [
    "# Escribamos una función que calcule medias o medianas (dependiendo de tu decisión) según el parámetro identificado\n",
    "print(credit.groupby('income_type')['days_employed'].median())\n",
    "\n",
    "def values_days_employed(row):\n",
    "    days_employed = row['days_employed']\n",
    "    income_type = row['income_type']\n",
    "    \n",
    "    if days_employed == '':\n",
    "        if income_type == 'business':\n",
    "            return 1547.38\n",
    "        elif income_type == 'civil servant':\n",
    "            return 2689.36\n",
    "        elif income_type == 'employee':\n",
    "            return 1574.20\n",
    "        elif income_type == 'entrepreneur':\n",
    "            return 520.84\n",
    "        elif income_type == 'paternity / maternity leave':\n",
    "            return 3296.75\n",
    "        elif income_type == 'retiree':\n",
    "            return 3652.13\n",
    "        elif income_type == 'student':\n",
    "            return 578.75\n",
    "        elif income_type == 'unemployed':\n",
    "            return 3664.13\n",
    "    if days_employed != 0:\n",
    "        return days_employed"
   ]
  },
  {
   "cell_type": "code",
   "execution_count": 47,
   "metadata": {},
   "outputs": [
    {
     "name": "stdout",
     "output_type": "stream",
     "text": [
      "578.75\n"
     ]
    }
   ],
   "source": [
    "# Comprueba que la función funciona\n",
    "row1_values=['','student']\n",
    "row1_columns=['days_employed','income_type']\n",
    "row1 = pd.Series(data=row1_values, index=row1_columns)\n",
    "print(values_days_employed(row1))"
   ]
  },
  {
   "cell_type": "code",
   "execution_count": 48,
   "metadata": {},
   "outputs": [],
   "source": [
    "# Aplicar la función al income_type\n",
    "credit['days_employed'] = credit['days_employed'].fillna('')\n",
    "credit['days_employed'] = credit.apply(values_days_employed,axis=1)"
   ]
  },
  {
   "cell_type": "code",
   "execution_count": 49,
   "metadata": {},
   "outputs": [
    {
     "name": "stdout",
     "output_type": "stream",
     "text": [
      "Asi mismo ya podremos calcular los años trabajados en nuestra columna adicional que creamos.\n",
      "<class 'pandas.core.frame.DataFrame'>\n",
      "RangeIndex: 21525 entries, 0 to 21524\n",
      "Data columns (total 14 columns):\n",
      " #   Column            Non-Null Count  Dtype  \n",
      "---  ------            --------------  -----  \n",
      " 0   children          21525 non-null  int64  \n",
      " 1   days_employed     21525 non-null  float64\n",
      " 2   dob_years         21525 non-null  int32  \n",
      " 3   education         21525 non-null  object \n",
      " 4   education_id      21525 non-null  int64  \n",
      " 5   family_status     21525 non-null  object \n",
      " 6   family_status_id  21525 non-null  int64  \n",
      " 7   gender            21525 non-null  object \n",
      " 8   income_type       21525 non-null  object \n",
      " 9   debt              21525 non-null  int64  \n",
      " 10  total_income      21525 non-null  float64\n",
      " 11  purpose           21525 non-null  object \n",
      " 12  years_employed    19351 non-null  float64\n",
      " 13  age_group         21525 non-null  object \n",
      "dtypes: float64(3), int32(1), int64(4), object(6)\n",
      "memory usage: 2.2+ MB\n"
     ]
    }
   ],
   "source": [
    "# Comprueba si la función funcionó\n",
    "print('Asi mismo ya podremos calcular los años trabajados en nuestra columna adicional que creamos.')\n",
    "credit.info()"
   ]
  },
  {
   "cell_type": "code",
   "execution_count": 50,
   "metadata": {},
   "outputs": [],
   "source": [
    "# Reemplazar valores ausentes\n",
    "credit['years_employed'] = credit['days_employed'] / 365"
   ]
  },
  {
   "cell_type": "code",
   "execution_count": 51,
   "metadata": {},
   "outputs": [
    {
     "name": "stdout",
     "output_type": "stream",
     "text": [
      "<class 'pandas.core.frame.DataFrame'>\n",
      "RangeIndex: 21525 entries, 0 to 21524\n",
      "Data columns (total 14 columns):\n",
      " #   Column            Non-Null Count  Dtype  \n",
      "---  ------            --------------  -----  \n",
      " 0   children          21525 non-null  int64  \n",
      " 1   days_employed     21525 non-null  float64\n",
      " 2   dob_years         21525 non-null  int32  \n",
      " 3   education         21525 non-null  object \n",
      " 4   education_id      21525 non-null  int64  \n",
      " 5   family_status     21525 non-null  object \n",
      " 6   family_status_id  21525 non-null  int64  \n",
      " 7   gender            21525 non-null  object \n",
      " 8   income_type       21525 non-null  object \n",
      " 9   debt              21525 non-null  int64  \n",
      " 10  total_income      21525 non-null  float64\n",
      " 11  purpose           21525 non-null  object \n",
      " 12  years_employed    21525 non-null  float64\n",
      " 13  age_group         21525 non-null  object \n",
      "dtypes: float64(3), int32(1), int64(4), object(6)\n",
      "memory usage: 2.2+ MB\n",
      "\n",
      "   children  days_employed  dob_years            education  education_id  \\\n",
      "0         1    8437.673028         42    bachelor's degree             0   \n",
      "1         1    4024.803754         36  secondary education             1   \n",
      "2         0    5623.422610         33  secondary education             1   \n",
      "3         3    4124.747207         32  secondary education             1   \n",
      "4         0    3402.660720         53  secondary education             1   \n",
      "\n",
      "       family_status  family_status_id gender income_type  debt  total_income  \\\n",
      "0            married                 0      F    employee     0     40620.102   \n",
      "1            married                 0      F    employee     0     17932.802   \n",
      "2            married                 0      M    employee     0     23341.752   \n",
      "3            married                 0      M    employee     0     42820.568   \n",
      "4  civil partnership                 1      F     retiree     0     25378.572   \n",
      "\n",
      "             purpose  years_employed age_group  \n",
      "0         house plan       23.116912     40-49  \n",
      "1          get a car       11.026860     30-39  \n",
      "2         house plan       15.406637     30-39  \n",
      "3  education purpose       11.300677     30-39  \n",
      "4       wedding plan        9.322358     50-59  \n"
     ]
    }
   ],
   "source": [
    "# Comprueba las entradas en todas las columnas: asegúrate de que hayamos corregido todos los valores ausentes\n",
    "credit.info()\n",
    "print()\n",
    "print(credit.head())"
   ]
  },
  {
   "cell_type": "markdown",
   "metadata": {},
   "source": [
    "Hemos llenado los valores ausents de acuerdo a las categorias que corresponden, ahora ya podemos clasificar y analizar los datos para tomar nuestras conclusiones finales"
   ]
  },
  {
   "cell_type": "markdown",
   "metadata": {},
   "source": [
    "## Clasificación de datos\n",
    "\n"
   ]
  },
  {
   "cell_type": "code",
   "execution_count": 52,
   "metadata": {
    "scrolled": true
   },
   "outputs": [
    {
     "name": "stdout",
     "output_type": "stream",
     "text": [
      "       children      family_status  total_income  debt            purpose\n",
      "0             1            married     40620.102     0         house plan\n",
      "1             1            married     17932.802     0          get a car\n",
      "2             0            married     23341.752     0         house plan\n",
      "3             3            married     42820.568     0  education purpose\n",
      "4             0  civil partnership     25378.572     0       wedding plan\n",
      "...         ...                ...           ...   ...                ...\n",
      "21520         1  civil partnership     35966.698     0         house plan\n",
      "21521         0            married     24959.969     0          get a car\n",
      "21522         1  civil partnership     14347.610     1         house plan\n",
      "21523         3            married     39054.888     1          get a car\n",
      "21524         2            married     13127.587     0          get a car\n",
      "\n",
      "[21525 rows x 5 columns]\n"
     ]
    }
   ],
   "source": [
    "# Muestra los valores de los datos seleccionados para la clasificación\n",
    "print(credit[['children','family_status','total_income','debt','purpose']])"
   ]
  },
  {
   "cell_type": "code",
   "execution_count": 53,
   "metadata": {},
   "outputs": [
    {
     "name": "stdout",
     "output_type": "stream",
     "text": [
      "[1 0 3 2 4 5]\n",
      "['married' 'civil partnership' 'widow / widower' 'divorced' 'unmarried']\n",
      "[40620.102 17932.802 23341.752 ... 14347.61  39054.888 13127.587]\n",
      "[0 1]\n",
      "['house plan' 'get a car' 'education purpose' 'wedding plan'\n",
      " 'real estate bussiness']\n"
     ]
    }
   ],
   "source": [
    "# Comprobar los valores únicos\n",
    "print(credit['children'].unique())\n",
    "print(credit['family_status'].unique())\n",
    "print(credit['total_income'].unique())\n",
    "print(credit['debt'].unique())\n",
    "print(credit['purpose'].unique())"
   ]
  },
  {
   "cell_type": "markdown",
   "metadata": {},
   "source": [
    "Podemos clasificar en cuestion del ingreso total, asi como tambien sacar el numero de personas en la familia para saber una relacion entre lo ganado y los miembros de la familia, si tienen deuda y el proposito del credito.\n",
    "\n",
    "\n"
   ]
  },
  {
   "cell_type": "code",
   "execution_count": 54,
   "metadata": {},
   "outputs": [],
   "source": [
    "# Escribamos una función para clasificar los datos en función de temas comunes\n",
    "\n",
    "def family_number(row):\n",
    "    children = row['children']\n",
    "    family_status = row['family_status']\n",
    "    if family_status == 'married':\n",
    "        return 2 + children\n",
    "    elif family_status == 'civil partnership':\n",
    "        return 2 + children\n",
    "    elif family_status == 'widow / widower':\n",
    "        return 1 + children\n",
    "    elif family_status == 'divorced':\n",
    "        return 1 + children\n",
    "    elif family_status == 'unmarried':\n",
    "        return 1 + children\n",
    "    \n",
    "    \n",
    "credit['family_size'] = credit.apply(family_number, axis=1)\n",
    "\n",
    "def income_range(income):\n",
    "    if income <= 15000:\n",
    "        return 'Low'\n",
    "    if income <= 30000:\n",
    "        return 'Regular'\n",
    "    if income <= 45000:\n",
    "        return 'High'\n",
    "    return 'Super High'\n",
    "\n",
    "credit['income_category'] = credit['total_income'].apply(income_range)"
   ]
  },
  {
   "cell_type": "code",
   "execution_count": 55,
   "metadata": {},
   "outputs": [
    {
     "data": {
      "text/html": [
       "<div>\n",
       "<style scoped>\n",
       "    .dataframe tbody tr th:only-of-type {\n",
       "        vertical-align: middle;\n",
       "    }\n",
       "\n",
       "    .dataframe tbody tr th {\n",
       "        vertical-align: top;\n",
       "    }\n",
       "\n",
       "    .dataframe thead th {\n",
       "        text-align: right;\n",
       "    }\n",
       "</style>\n",
       "<table border=\"1\" class=\"dataframe\">\n",
       "  <thead>\n",
       "    <tr style=\"text-align: right;\">\n",
       "      <th></th>\n",
       "      <th>children</th>\n",
       "      <th>days_employed</th>\n",
       "      <th>dob_years</th>\n",
       "      <th>education</th>\n",
       "      <th>education_id</th>\n",
       "      <th>family_status</th>\n",
       "      <th>family_status_id</th>\n",
       "      <th>gender</th>\n",
       "      <th>income_type</th>\n",
       "      <th>debt</th>\n",
       "      <th>total_income</th>\n",
       "      <th>purpose</th>\n",
       "      <th>years_employed</th>\n",
       "      <th>age_group</th>\n",
       "      <th>family_size</th>\n",
       "      <th>income_category</th>\n",
       "      <th>income_per_head</th>\n",
       "    </tr>\n",
       "  </thead>\n",
       "  <tbody>\n",
       "    <tr>\n",
       "      <th>0</th>\n",
       "      <td>1</td>\n",
       "      <td>8437.673028</td>\n",
       "      <td>42</td>\n",
       "      <td>bachelor's degree</td>\n",
       "      <td>0</td>\n",
       "      <td>married</td>\n",
       "      <td>0</td>\n",
       "      <td>F</td>\n",
       "      <td>employee</td>\n",
       "      <td>0</td>\n",
       "      <td>40620.102</td>\n",
       "      <td>house plan</td>\n",
       "      <td>23.116912</td>\n",
       "      <td>40-49</td>\n",
       "      <td>3</td>\n",
       "      <td>High</td>\n",
       "      <td>13540.034000</td>\n",
       "    </tr>\n",
       "    <tr>\n",
       "      <th>1</th>\n",
       "      <td>1</td>\n",
       "      <td>4024.803754</td>\n",
       "      <td>36</td>\n",
       "      <td>secondary education</td>\n",
       "      <td>1</td>\n",
       "      <td>married</td>\n",
       "      <td>0</td>\n",
       "      <td>F</td>\n",
       "      <td>employee</td>\n",
       "      <td>0</td>\n",
       "      <td>17932.802</td>\n",
       "      <td>get a car</td>\n",
       "      <td>11.026860</td>\n",
       "      <td>30-39</td>\n",
       "      <td>3</td>\n",
       "      <td>Regular</td>\n",
       "      <td>5977.600667</td>\n",
       "    </tr>\n",
       "    <tr>\n",
       "      <th>2</th>\n",
       "      <td>0</td>\n",
       "      <td>5623.422610</td>\n",
       "      <td>33</td>\n",
       "      <td>secondary education</td>\n",
       "      <td>1</td>\n",
       "      <td>married</td>\n",
       "      <td>0</td>\n",
       "      <td>M</td>\n",
       "      <td>employee</td>\n",
       "      <td>0</td>\n",
       "      <td>23341.752</td>\n",
       "      <td>house plan</td>\n",
       "      <td>15.406637</td>\n",
       "      <td>30-39</td>\n",
       "      <td>2</td>\n",
       "      <td>Regular</td>\n",
       "      <td>11670.876000</td>\n",
       "    </tr>\n",
       "    <tr>\n",
       "      <th>3</th>\n",
       "      <td>3</td>\n",
       "      <td>4124.747207</td>\n",
       "      <td>32</td>\n",
       "      <td>secondary education</td>\n",
       "      <td>1</td>\n",
       "      <td>married</td>\n",
       "      <td>0</td>\n",
       "      <td>M</td>\n",
       "      <td>employee</td>\n",
       "      <td>0</td>\n",
       "      <td>42820.568</td>\n",
       "      <td>education purpose</td>\n",
       "      <td>11.300677</td>\n",
       "      <td>30-39</td>\n",
       "      <td>5</td>\n",
       "      <td>High</td>\n",
       "      <td>8564.113600</td>\n",
       "    </tr>\n",
       "    <tr>\n",
       "      <th>4</th>\n",
       "      <td>0</td>\n",
       "      <td>3402.660720</td>\n",
       "      <td>53</td>\n",
       "      <td>secondary education</td>\n",
       "      <td>1</td>\n",
       "      <td>civil partnership</td>\n",
       "      <td>1</td>\n",
       "      <td>F</td>\n",
       "      <td>retiree</td>\n",
       "      <td>0</td>\n",
       "      <td>25378.572</td>\n",
       "      <td>wedding plan</td>\n",
       "      <td>9.322358</td>\n",
       "      <td>50-59</td>\n",
       "      <td>2</td>\n",
       "      <td>Regular</td>\n",
       "      <td>12689.286000</td>\n",
       "    </tr>\n",
       "  </tbody>\n",
       "</table>\n",
       "</div>"
      ],
      "text/plain": [
       "   children  days_employed  dob_years            education  education_id  \\\n",
       "0         1    8437.673028         42    bachelor's degree             0   \n",
       "1         1    4024.803754         36  secondary education             1   \n",
       "2         0    5623.422610         33  secondary education             1   \n",
       "3         3    4124.747207         32  secondary education             1   \n",
       "4         0    3402.660720         53  secondary education             1   \n",
       "\n",
       "       family_status  family_status_id gender income_type  debt  total_income  \\\n",
       "0            married                 0      F    employee     0     40620.102   \n",
       "1            married                 0      F    employee     0     17932.802   \n",
       "2            married                 0      M    employee     0     23341.752   \n",
       "3            married                 0      M    employee     0     42820.568   \n",
       "4  civil partnership                 1      F     retiree     0     25378.572   \n",
       "\n",
       "             purpose  years_employed age_group  family_size income_category  \\\n",
       "0         house plan       23.116912     40-49            3            High   \n",
       "1          get a car       11.026860     30-39            3         Regular   \n",
       "2         house plan       15.406637     30-39            2         Regular   \n",
       "3  education purpose       11.300677     30-39            5            High   \n",
       "4       wedding plan        9.322358     50-59            2         Regular   \n",
       "\n",
       "   income_per_head  \n",
       "0     13540.034000  \n",
       "1      5977.600667  \n",
       "2     11670.876000  \n",
       "3      8564.113600  \n",
       "4     12689.286000  "
      ]
     },
     "execution_count": 55,
     "metadata": {},
     "output_type": "execute_result"
    }
   ],
   "source": [
    "# Crea una columna con las categorías y cuenta los valores en ellas\n",
    "credit['income_per_head'] = credit['total_income'] / credit['family_size']\n",
    "\n",
    "credit.head()"
   ]
  },
  {
   "cell_type": "code",
   "execution_count": 56,
   "metadata": {},
   "outputs": [
    {
     "name": "stdout",
     "output_type": "stream",
     "text": [
      "1     3910\n",
      "2    11124\n",
      "3     4171\n",
      "4     1965\n",
      "5      309\n",
      "6       37\n",
      "7        9\n",
      "Name: family_size, dtype: int64\n",
      "High           4568\n",
      "Low            3743\n",
      "Regular       11354\n",
      "Super High     1860\n",
      "Name: income_category, dtype: int64\n"
     ]
    }
   ],
   "source": [
    "# Revisar todos los datos numéricos en la columna seleccionada para la clasificación\n",
    "print(credit['family_size'].value_counts().sort_index())\n",
    "print(credit['income_category'].value_counts().sort_index())"
   ]
  },
  {
   "cell_type": "code",
   "execution_count": 57,
   "metadata": {},
   "outputs": [
    {
     "name": "stdout",
     "output_type": "stream",
     "text": [
      "11342.853\n",
      "14101.680963360368\n"
     ]
    }
   ],
   "source": [
    "# Obtener estadísticas resumidas para la columna\n",
    "income_per_head_median = credit['income_per_head'].median()\n",
    "print(income_per_head_median)\n",
    "print(credit['income_per_head'].mean())"
   ]
  },
  {
   "cell_type": "markdown",
   "metadata": {},
   "source": [
    "Agruparemos los en funcion a la mediana del income_per_head ya que es un valor que usaremos como referencia para clasificar si se puede sostener la familia de acuerdo al family_size "
   ]
  },
  {
   "cell_type": "code",
   "execution_count": 58,
   "metadata": {},
   "outputs": [],
   "source": [
    "# Crear una función para clasificar en diferentes grupos numéricos basándose en rangos\n",
    "def income_per_head_category(row):\n",
    "    income_per_head = row['income_per_head']\n",
    "    family_size = row['family_size']\n",
    "    if family_size <= 2 and income_per_head < income_per_head_median:\n",
    "        return 'possyble'\n",
    "    if family_size <= 4 and income_per_head < income_per_head_median:\n",
    "        return 'check'\n",
    "    if family_size > 4 and income_per_head < income_per_head_median:\n",
    "        return 'questionable'\n",
    "    if family_size <= 2 and income_per_head > income_per_head_median:\n",
    "        return 'grant'\n",
    "    if family_size <= 4 and income_per_head > income_per_head_median:\n",
    "        return 'possyble'\n",
    "    if family_size > 4 and income_per_head > income_per_head_median:\n",
    "        return 'check'"
   ]
  },
  {
   "cell_type": "code",
   "execution_count": 59,
   "metadata": {},
   "outputs": [],
   "source": [
    "# Crear una columna con categorías\n",
    "credit['income_per_head_category'] = credit.apply(income_per_head_category, axis=1)"
   ]
  },
  {
   "cell_type": "code",
   "execution_count": 60,
   "metadata": {
    "scrolled": true
   },
   "outputs": [
    {
     "data": {
      "text/plain": [
       "grant           9662\n",
       "possyble        6452\n",
       "check           5074\n",
       "questionable     336\n",
       "Name: income_per_head_category, dtype: int64"
      ]
     },
     "execution_count": 60,
     "metadata": {},
     "output_type": "execute_result"
    }
   ],
   "source": [
    "# Contar los valores de cada categoría para ver la distribución\n",
    "credit['income_per_head_category'].value_counts()"
   ]
  },
  {
   "cell_type": "markdown",
   "metadata": {},
   "source": [
    "Ya tenemos una columna con una cateoria que nos permite tener una idea si otorgar de forma facil un credito o cuestionarnos mas acerca si otorgar los creditos, esta categorizacino se realizo de acuerdo al tamaño de la familia, al ingreso por cabeza de la familia y la mediana de ingresos por cabeza de forma general."
   ]
  },
  {
   "cell_type": "markdown",
   "metadata": {},
   "source": [
    "## Comprobación de las hipótesis\n"
   ]
  },
  {
   "cell_type": "markdown",
   "metadata": {},
   "source": [
    "**¿Existe una correlación entre tener hijos y pagar a tiempo?**"
   ]
  },
  {
   "cell_type": "code",
   "execution_count": 61,
   "metadata": {},
   "outputs": [
    {
     "name": "stdout",
     "output_type": "stream",
     "text": [
      "family_size\n",
      "1     3910\n",
      "2    11124\n",
      "3     4171\n",
      "4     1965\n",
      "5      309\n",
      "6       37\n",
      "7        9\n",
      "Name: children, dtype: int64\n",
      "\n",
      "income_per_head_category\n",
      "check           0.235726\n",
      "grant           0.448873\n",
      "possyble        0.299744\n",
      "questionable    0.015610\n",
      "Name: children, dtype: float64\n"
     ]
    }
   ],
   "source": [
    "# Comprueba los datos sobre los hijos y los pagos puntuales\n",
    "print(credit.groupby('family_size')['children'].count())\n",
    "print()\n",
    "# Calcular la tasa de incumplimiento en función del número de hijos\n",
    "print(credit.groupby('income_per_head_category')['children'].count()/credit['children'].count())"
   ]
  },
  {
   "cell_type": "markdown",
   "metadata": {},
   "source": [
    "**Conclusión**\n",
    "De acuerdo al numero de niños y al ingreso por cabeza podemos ver que al 44% podemos garantizar el pago, sin embargo, al 66% restante tendriamos que revisar y cuestionar el otorgar el credito.\n"
   ]
  },
  {
   "cell_type": "markdown",
   "metadata": {},
   "source": [
    "**¿Existe una correlación entre la situación familiar y el pago a tiempo?**"
   ]
  },
  {
   "cell_type": "code",
   "execution_count": 62,
   "metadata": {},
   "outputs": [
    {
     "name": "stdout",
     "output_type": "stream",
     "text": [
      "family_size\n",
      "1     3910\n",
      "2    11124\n",
      "3     4171\n",
      "4     1965\n",
      "5      309\n",
      "6       37\n",
      "7        9\n",
      "Name: children, dtype: int64\n",
      "\n",
      "income_per_head_category\n",
      "check           0.235726\n",
      "grant           0.448873\n",
      "possyble        0.299744\n",
      "questionable    0.015610\n",
      "Name: children, dtype: float64\n"
     ]
    }
   ],
   "source": [
    "# Comprueba los datos del estado familiar y los pagos a tiempo\n",
    "print(credit.groupby('family_size')['children'].count())\n",
    "print()\n",
    "# Calcular la tasa de incumplimiento en función del número de hijos\n",
    "print(credit.groupby('income_per_head_category')['children'].count()/credit['children'].count())"
   ]
  },
  {
   "cell_type": "markdown",
   "metadata": {},
   "source": [
    "**Conclusión**\n",
    "\n",
    "Si bien la situacion familiar es un factor importante al momento de categorizar de acuerdo al numero de personas en la familia, usariamos el mismo estudio anterior de acuerdo al numero de personas en la familia, ya que puede ser una persona sin hijos o una persona con 5 hijos lo que independientemente del estatus de la familia, lo resumimos al ingreso por cabeza y asi entramos a revisar en que categoria se encuentran para otorgar el credito."
   ]
  },
  {
   "cell_type": "markdown",
   "metadata": {},
   "source": [
    "**¿Existe una correlación entre el nivel de ingresos y el pago a tiempo?**"
   ]
  },
  {
   "cell_type": "code",
   "execution_count": 63,
   "metadata": {},
   "outputs": [
    {
     "name": "stdout",
     "output_type": "stream",
     "text": [
      "income_category\n",
      "High           4568\n",
      "Low            3743\n",
      "Regular       11354\n",
      "Super High     1860\n",
      "Name: children, dtype: int64\n",
      "\n",
      "income_category\n",
      "High          0.212218\n",
      "Low           0.173891\n",
      "Regular       0.527480\n",
      "Super High    0.086411\n",
      "Name: children, dtype: float64\n"
     ]
    }
   ],
   "source": [
    "# Comprueba los datos del nivel de ingresos y los pagos a tiempo\n",
    "print(credit.groupby('income_category')['children'].count())\n",
    "print()\n",
    "\n",
    "# Calcular la tasa de incumplimiento basada en el estado familiar\n",
    "print(credit.groupby('income_category')['children'].count()/credit['children'].count())"
   ]
  },
  {
   "cell_type": "markdown",
   "metadata": {},
   "source": [
    "**Conclusión**\n",
    "\n",
    "Tenemos que de acuerdo al ingreso el 30% no tendria problema de adquirir un credito de acuerdo a su ingreso, sin embargo, tenemos que revisar los parametros de aquellos con categoria regular que representan el 52% y cuestionar a las personas con bajo ingreso que son el 17%."
   ]
  },
  {
   "cell_type": "markdown",
   "metadata": {},
   "source": [
    "**¿Cómo afecta el propósito del crédito a la tasa de incumplimiento?**"
   ]
  },
  {
   "cell_type": "code",
   "execution_count": 64,
   "metadata": {},
   "outputs": [
    {
     "name": "stdout",
     "output_type": "stream",
     "text": [
      "                                       total_income          %\n",
      "purpose               income_category                         \n",
      "education purpose     High                      822   1.909408\n",
      "                      Low                       725   1.684088\n",
      "                      Regular                  2143   4.977933\n",
      "                      Super High                332   0.771196\n",
      "get a car             High                      920   2.137050\n",
      "                      Low                       741   1.721254\n",
      "                      Regular                  2278   5.291521\n",
      "                      Super High                376   0.873403\n",
      "house plan            High                     1233   2.864111\n",
      "                      Low                       966   2.243902\n",
      "                      Regular                  3028   7.033682\n",
      "                      Super High                482   1.119628\n",
      "real estate bussiness High                     1096   2.545877\n",
      "                      Low                       911   2.116144\n",
      "                      Regular                  2648   6.150987\n",
      "                      Super High                476   1.105691\n",
      "wedding plan          High                      497   1.154472\n",
      "                      Low                       400   0.929152\n",
      "                      Regular                  1257   2.919861\n",
      "                      Super High                194   0.450639\n",
      "All                                           21525  50.000000\n"
     ]
    }
   ],
   "source": [
    "# Consulta los porcentajes de tasa de incumplimiento para cada propósito del crédito y analízalos\n",
    "credit_pivot = credit.pivot_table(index=['purpose','income_category'],values='total_income',aggfunc='count',margins=True)\n",
    "credit_pivot['%'] = (credit_pivot['total_income']/credit_pivot['total_income'].sum())*100\n",
    "#ayuda ya que no me da el 100% en el total\n",
    "\n",
    "print(credit_pivot)"
   ]
  },
  {
   "cell_type": "markdown",
   "metadata": {},
   "source": [
    "**Conclusión**\n",
    "\n",
    "Con esto nos damos cuenta que de acuerdo al proposito podemos observar en la clasificacion de total de ingreso si es posible o no otorgar un credito, ya que nos es indiferente el proposito con esto podemos ver el porcentaje de cada proposito con su categoria de ingreso total.\n"
   ]
  },
  {
   "cell_type": "markdown",
   "metadata": {},
   "source": [
    "# Conclusión general \n",
    "\n",
    "1.- Teniamos datos ausentes en columnas numericas las cuales no pueden ser eliminados y/o rellenados con un valor medio o promedio, ya que dentro de esas columnas en especifico tenemos valores que categorizan la tabla y hasta no tener claraas las diferentes categorias podemos llenar estos valores ausentes.\n",
    "2.- En cuanto a las columnas con valores categoricos teniamos que clasificar y arreglar los valores en las columnas que tenian datos similares pero no estaban homologados lo cual nos hacia tener una clasificacion mas amplia pero que no era confiable al tener datos del mismo tipo separados debido a la ortografia.\n",
    "3.- Si bien es dificil tener un valor duplicado en esta tabla ya que no hay un identificador o valor unico por entrada de datos, lo que nos es imposible eliminar datos, ya que aunque parezca dificil no es imposible que una persona tenga los mismos datos que otra persona.\n",
    "4.- Seguimos un plantemiento de primero identificar los datos unicos de cada columna y homologarlos, en este caso utilizamos columnas para categorizar de acuerdo al ingreso total, al numero de personas en la familia, al ingreso por numero de personas, lo que nos permite tener un panorama de diferentes opciones al decidir si otorgar o no un credito, de igual forma rellenamos los valores ausentes de acuerdo al promedio y de cada categoria en especifico y no un promedio general, lo que nos da un valor mas preciso al momento de rellenar valores ausentes.\n",
    "5.-Finalmente podemos ver la comparacion de las diferentes agrupaciones para poder tener un panorama mas amplio al momento de tomar una decisino de otorgar un credito de acuerdo a las diferentes variables que podamos contemplar.\n",
    "\n",
    "\n",
    "\n"
   ]
  }
 ],
 "metadata": {
  "ExecuteTimeLog": [
   {
    "duration": 2741,
    "start_time": "2021-10-21T01:08:49.480Z"
   },
   {
    "duration": 52,
    "start_time": "2021-10-21T01:08:53.315Z"
   },
   {
    "duration": 49,
    "start_time": "2021-10-21T01:08:57.432Z"
   },
   {
    "duration": 70,
    "start_time": "2021-10-21T01:09:07.706Z"
   }
  ],
  "kernelspec": {
   "display_name": "Python 3 (ipykernel)",
   "language": "python",
   "name": "python3"
  },
  "language_info": {
   "codemirror_mode": {
    "name": "ipython",
    "version": 3
   },
   "file_extension": ".py",
   "mimetype": "text/x-python",
   "name": "python",
   "nbconvert_exporter": "python",
   "pygments_lexer": "ipython3",
   "version": "3.9.13"
  },
  "toc": {
   "base_numbering": 1,
   "nav_menu": {},
   "number_sections": true,
   "sideBar": true,
   "skip_h1_title": true,
   "title_cell": "Table of Contents",
   "title_sidebar": "Contents",
   "toc_cell": false,
   "toc_position": {},
   "toc_section_display": true,
   "toc_window_display": false
  }
 },
 "nbformat": 4,
 "nbformat_minor": 2
}
